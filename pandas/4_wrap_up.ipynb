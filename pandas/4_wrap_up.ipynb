{
 "cells": [
  {
   "cell_type": "markdown",
   "metadata": {},
   "source": [
    "## Data Preprocessing Class"
   ]
  },
  {
   "cell_type": "markdown",
   "metadata": {},
   "source": [
    "This notebook shows an example of how you might organize your data preparation into a data reader class. It uses some of the techniques from the previous notebooks.\n",
    "\n",
    "This class only serves as a illustrative example; many improvements can still be made. Logging would be one, moving generic functionality into a base class another."
   ]
  },
  {
   "cell_type": "code",
   "execution_count": null,
   "metadata": {},
   "outputs": [],
   "source": [
    "import datetime as dt\n",
    "\n",
    "import numpy as np\n",
    "import pandas as pd\n",
    "\n",
    "\n",
    "class SalesReader:\n",
    "\n",
    "    _required = []\n",
    "\n",
    "    _csv_params = {\n",
    "        \"sep\": \",\",\n",
    "        \"parse_dates\": [3],\n",
    "    }\n",
    "\n",
    "    def _load_csv(self, path):\n",
    "        \"\"\"Load CSV with specified parameters.\"\"\"\n",
    "        \n",
    "        return pd.read_csv(path, **self._csv_params)\n",
    "\n",
    "    def _check_required(self, df):\n",
    "        \"\"\"Check requred columns are present.\"\"\"\n",
    "        \n",
    "        missing = set(self._required) - set(df.columns)\n",
    "        if missing:\n",
    "            raise RuntimeError(\n",
    "                \"Missing columns in the data: \"\n",
    "                \", \".join(missing)\n",
    "            )\n",
    "\n",
    "    def _birthday_features(self, df):\n",
    "        \"\"\"Engineer birthdate related features.\"\"\"\n",
    "        \n",
    "        return df.assign(\n",
    "            age=(pd.to_datetime(dt.date.today()) - df[\"birthdate\"]).dt.days,\n",
    "            birth_month=df[\"birthdate\"].dt.month,\n",
    "        )\n",
    "        \n",
    "    def _sales_features(self, df):\n",
    "        \"\"\"Engineer sales related features.\"\"\"\n",
    "\n",
    "        return df.assign(\n",
    "            avg_order_amount=df[\"order_amount\"] / df[\"orders\"],\n",
    "        )\n",
    "\n",
    "    def read(self, path):\n",
    "        \"\"\"Load and preprocess sales data.\"\"\"\n",
    "        \n",
    "        # Load and check\n",
    "        df = self._load_csv(path)\n",
    "        self._check_required(df)\n",
    "        \n",
    "        # Pre-processing\n",
    "        return(\n",
    "            df\n",
    "            .pipe(self._birthday_features)\n",
    "            .pipe(self._sales_features)\n",
    "        )\n"
   ]
  },
  {
   "cell_type": "code",
   "execution_count": null,
   "metadata": {},
   "outputs": [],
   "source": [
    "sr = SalesReader()"
   ]
  },
  {
   "cell_type": "code",
   "execution_count": null,
   "metadata": {},
   "outputs": [],
   "source": [
    "sr.read(\"sales_data.csv\")"
   ]
  },
  {
   "cell_type": "code",
   "execution_count": null,
   "metadata": {},
   "outputs": [],
   "source": []
  },
  {
   "cell_type": "code",
   "execution_count": null,
   "metadata": {},
   "outputs": [],
   "source": []
  }
 ],
 "metadata": {
  "kernelspec": {
   "display_name": "Python [conda env:jupyter] *",
   "language": "python",
   "name": "conda-env-jupyter-py"
  },
  "language_info": {
   "codemirror_mode": {
    "name": "ipython",
    "version": 3
   },
   "file_extension": ".py",
   "mimetype": "text/x-python",
   "name": "python",
   "nbconvert_exporter": "python",
   "pygments_lexer": "ipython3",
   "version": "3.7.7"
  }
 },
 "nbformat": 4,
 "nbformat_minor": 4
}
