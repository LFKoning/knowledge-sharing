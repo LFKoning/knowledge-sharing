{
 "cells": [
  {
   "cell_type": "code",
   "execution_count": null,
   "metadata": {},
   "outputs": [],
   "source": [
    "import sys\n",
    "import timeit\n",
    "import random\n",
    "\n",
    "import numpy as np\n",
    "import pandas as pd\n",
    "\n",
    "from utils import list_methods"
   ]
  },
  {
   "cell_type": "markdown",
   "metadata": {},
   "source": [
    "## Series"
   ]
  },
  {
   "cell_type": "markdown",
   "metadata": {},
   "source": [
    "- Basic building block in pandas\n",
    "- Vector; 1 dimensional collection of objects"
   ]
  },
  {
   "cell_type": "markdown",
   "metadata": {},
   "source": [
    "### Construction and data types"
   ]
  },
  {
   "cell_type": "code",
   "execution_count": null,
   "metadata": {},
   "outputs": [],
   "source": [
    "# Construct Series from list of integers.\n",
    "# Note: automatically converts to numpy int64 data type.\n",
    "s = pd.Series([1, 2, 3, 4])\n",
    "s"
   ]
  },
  {
   "cell_type": "code",
   "execution_count": null,
   "metadata": {},
   "outputs": [],
   "source": [
    "# Elements must all be of the same data type.\n",
    "# Note: first string value triggers (widening) cast to object data type.\n",
    "sobj = pd.Series([\"1\", 2, 3, 4])\n",
    "sobj"
   ]
  },
  {
   "cell_type": "code",
   "execution_count": null,
   "metadata": {},
   "outputs": [],
   "source": [
    "# Big difference in memory usage...\n",
    "print(f\"Size s:     {sys.getsizeof(s) * 8:10d} bits.\")\n",
    "print(f\"Size sobj:  {sys.getsizeof(sobj) * 8:10d} bits.\")\n",
    "print(f\"Difference: {(sys.getsizeof(sobj) - sys.getsizeof(s)) * 8:10d} bits.\")"
   ]
  },
  {
   "cell_type": "code",
   "execution_count": null,
   "metadata": {},
   "outputs": [],
   "source": [
    "# Categorical data type to the rescue!\n",
    "n = 10\n",
    "sobj = pd.Series(np.random.choice([\"ja\", \"nee\"], n))\n",
    "scat = pd.Categorical(sobj)"
   ]
  },
  {
   "cell_type": "code",
   "execution_count": null,
   "metadata": {},
   "outputs": [],
   "source": [
    "# Categorical saves a lot of memory.\n",
    "print(f\"Size sobj:  {sys.getsizeof(sobj) * 8:10d} bits.\")\n",
    "print(f\"Size scat:  {sys.getsizeof(scat) * 8:10d} bits.\")\n",
    "print(f\"Difference: {(sys.getsizeof(sobj) - sys.getsizeof(scat)) * 8:10d} bits.\")"
   ]
  },
  {
   "cell_type": "code",
   "execution_count": null,
   "metadata": {},
   "outputs": [],
   "source": [
    "# Note: memory saved depends a lot on cardinality; high cardinality corresponds to lower memory saving."
   ]
  },
  {
   "cell_type": "code",
   "execution_count": null,
   "metadata": {},
   "outputs": [],
   "source": [
    "# Missing values can also cause implicit (widening) cast (int64 => float64).\n",
    "# Casts are caused by the fact that np.nan is float type.\n",
    "sf64 = pd.Series([1, 2, 3, 4, None])\n",
    "sf64"
   ]
  },
  {
   "cell_type": "code",
   "execution_count": null,
   "metadata": {},
   "outputs": [],
   "source": [
    "# Newer versions of pandas implement pandas.NA (experimental):\n",
    "# https://pandas.pydata.org/pandas-docs/stable/user_guide/integer_na.html#integer-na."
   ]
  },
  {
   "cell_type": "code",
   "execution_count": null,
   "metadata": {},
   "outputs": [],
   "source": [
    "# Using a smaller data type saves memory.\n",
    "sf16 = pd.Series([1, 2, 3, 4, None], dtype=\"float16\")\n",
    "sf16"
   ]
  },
  {
   "cell_type": "code",
   "execution_count": null,
   "metadata": {},
   "outputs": [],
   "source": [
    "# Difference for two series of 5 float values.\n",
    "print(f\"Size 64 bit: {sys.getsizeof(sf64) * 8:10d} bits.\")\n",
    "print(f\"Size 16 bit: {sys.getsizeof(sf16) * 8:10d} bits.\")\n",
    "print(f\"Difference: {(sys.getsizeof(sf64) - sys.getsizeof(sf16)) * 8:10d} bits.\")"
   ]
  },
  {
   "cell_type": "code",
   "execution_count": null,
   "metadata": {},
   "outputs": [],
   "source": [
    "# Matches expected reduction for 5 items.\n",
    "5 * (64 - 16)"
   ]
  },
  {
   "cell_type": "code",
   "execution_count": null,
   "metadata": {},
   "outputs": [],
   "source": []
  },
  {
   "cell_type": "markdown",
   "metadata": {},
   "source": [
    "## Compared to lists"
   ]
  },
  {
   "cell_type": "code",
   "execution_count": null,
   "metadata": {},
   "outputs": [],
   "source": [
    "# Lists do not support many common math operations...\n",
    "[1, 2, 3, 4] + 1"
   ]
  },
  {
   "cell_type": "code",
   "execution_count": null,
   "metadata": {},
   "outputs": [],
   "source": [
    "def list_add(list_, value):\n",
    "    \"\"\"Add scalar value to list elements.\"\"\"\n",
    "\n",
    "    return [_ + value for _ in list_]"
   ]
  },
  {
   "cell_type": "code",
   "execution_count": null,
   "metadata": {},
   "outputs": [],
   "source": [
    "# Can build helper functions to solve these issues, but cumbersome...\n",
    "list_add([1, 2, 3, 4], 1)"
   ]
  },
  {
   "cell_type": "code",
   "execution_count": null,
   "metadata": {},
   "outputs": [],
   "source": [
    "# Series support math operators as expected\n",
    "s = pd.Series([1, 2, 3, 4])\n",
    "\n",
    "s + 1"
   ]
  },
  {
   "cell_type": "code",
   "execution_count": null,
   "metadata": {},
   "outputs": [],
   "source": [
    "# Multiplication: Counter-intuitive results for lists...\n",
    "[1, 2, 3] * 2"
   ]
  },
  {
   "cell_type": "code",
   "execution_count": null,
   "metadata": {},
   "outputs": [],
   "source": [
    "# Multiplication: Also dependent on operands...\n",
    "[1, 2, 3] * [1, 2, 3]"
   ]
  },
  {
   "cell_type": "code",
   "execution_count": null,
   "metadata": {},
   "outputs": [],
   "source": [
    "def list_mult(list_, multiplier):\n",
    "    \"\"\"Element-wise multiplication for lists.\"\"\"\n",
    "\n",
    "    if isinstance(multiplier, (int, float)):\n",
    "        return [_ * multiplier for _ in list_]\n",
    "    return [x * y for x, y in zip(list_, multiplier)]"
   ]
  },
  {
   "cell_type": "code",
   "execution_count": null,
   "metadata": {},
   "outputs": [],
   "source": [
    "# Another (ugly) work-around with a helper function...\n",
    "list_mult([1, 2, 3], 2)"
   ]
  },
  {
   "cell_type": "code",
   "execution_count": null,
   "metadata": {},
   "outputs": [],
   "source": [
    "list_mult([1, 2, 3], [1, 2, 3])"
   ]
  },
  {
   "cell_type": "code",
   "execution_count": null,
   "metadata": {},
   "outputs": [],
   "source": [
    "# Much easier with a pandas Series...\n",
    "s1 = pd.Series([1, 2, 3])\n",
    "s2 = pd.Series([1, 2, 3])\n",
    "\n",
    "s1 * 2"
   ]
  },
  {
   "cell_type": "code",
   "execution_count": null,
   "metadata": {},
   "outputs": [],
   "source": [
    "s1 * s2"
   ]
  },
  {
   "cell_type": "code",
   "execution_count": null,
   "metadata": {},
   "outputs": [],
   "source": []
  },
  {
   "cell_type": "markdown",
   "metadata": {},
   "source": [
    "## Speed comparison"
   ]
  },
  {
   "cell_type": "code",
   "execution_count": null,
   "metadata": {},
   "outputs": [],
   "source": [
    "# Series are faster than lists!\n",
    "\n",
    "# Define increasing sample sizes\n",
    "sizes = 1_000, 10_000, 100_000, 500_000, 1_000_000\n",
    "\n",
    "times = []\n",
    "n_exec = 100\n",
    "pop = [random.random() for _ in range(sizes[-1])]\n",
    "for n in sizes:\n",
    "\n",
    "    # Construct a list and series.\n",
    "    # Note: Setup is excluded from the equation.\n",
    "    l = pop[0:n]\n",
    "    s = pd.Series(l)\n",
    "    \n",
    "    times.append(({\n",
    "        \"sample_size\": n,\n",
    "        \n",
    "        # sum(list)\n",
    "        \"sum(list)\": timeit.timeit(\"sum(l)\", globals=globals(), number=n_exec),\n",
    "        \n",
    "        # Series.sum()\n",
    "        \"Series.sum()\": timeit.timeit(\"s.sum()\", globals=globals(), number=n_exec),\n",
    "        \n",
    "        # sum(Series)\n",
    "        # Note: worst of both worlds, forces conversion from numpy back to python\n",
    "        # \"sum(Series)\": timeit.timeit(\"sum(s)\", globals=globals(), number=n_exec),\n",
    "    }))"
   ]
  },
  {
   "cell_type": "code",
   "execution_count": null,
   "metadata": {},
   "outputs": [],
   "source": [
    "# Plot execution times\n",
    "ax = (\n",
    "    pd.DataFrame(times)\n",
    "    .plot(\n",
    "        x=\"sample_size\",\n",
    "        figsize=(12, 8),\n",
    "        marker=\"o\",       \n",
    "    )\n",
    ")\n",
    "ax.set_title(f\"List versus Series - {n_exec} runs\")\n",
    "ax.set_xlabel(\"Sample size\")\n",
    "ax.set_ylabel(\"Execution time (seconds)\")"
   ]
  },
  {
   "cell_type": "code",
   "execution_count": null,
   "metadata": {},
   "outputs": [],
   "source": []
  },
  {
   "cell_type": "markdown",
   "metadata": {},
   "source": [
    "## Indices"
   ]
  },
  {
   "cell_type": "code",
   "execution_count": null,
   "metadata": {},
   "outputs": [],
   "source": [
    "# By default Series have a numeric index (RangeIndex).\n",
    "s1 = pd.Series(list(\"ABCD\"))\n",
    "s1"
   ]
  },
  {
   "cell_type": "code",
   "execution_count": null,
   "metadata": {},
   "outputs": [],
   "source": [
    "s1.index"
   ]
  },
  {
   "cell_type": "code",
   "execution_count": null,
   "metadata": {},
   "outputs": [],
   "source": [
    "# Use index argument to set a custom index.\n",
    "s2 = pd.Series(list(\"ABCD\"), index=list(\"abcd\"))\n",
    "s2"
   ]
  },
  {
   "cell_type": "code",
   "execution_count": null,
   "metadata": {},
   "outputs": [],
   "source": [
    "# Slice using row numbers.\n",
    "s2[0:3]"
   ]
  },
  {
   "cell_type": "code",
   "execution_count": null,
   "metadata": {},
   "outputs": [],
   "source": [
    "# Slice using the index values.\n",
    "s2[\"a\":\"c\"]"
   ]
  },
  {
   "cell_type": "code",
   "execution_count": null,
   "metadata": {},
   "outputs": [],
   "source": [
    "# But... What if you are using a RangeIndex?\n",
    "s1.index"
   ]
  },
  {
   "cell_type": "code",
   "execution_count": null,
   "metadata": {},
   "outputs": [],
   "source": [
    "# Ambiguous: Does this use index labels or row numbers???\n",
    "s1[0:3]"
   ]
  },
  {
   "cell_type": "markdown",
   "metadata": {},
   "source": [
    "### Using loc and iloc"
   ]
  },
  {
   "cell_type": "code",
   "execution_count": null,
   "metadata": {},
   "outputs": [],
   "source": [
    "# Use .loc[] for index slicing.\n",
    "# Note: index slicing includes upper limit.\n",
    "s1.loc[0:3]"
   ]
  },
  {
   "cell_type": "code",
   "execution_count": null,
   "metadata": {},
   "outputs": [],
   "source": [
    "# Use .iloc[] for row number slicing\n",
    "# Note: row number slicing excludes upper limit...\n",
    "s1.iloc[0:3]"
   ]
  },
  {
   "cell_type": "code",
   "execution_count": null,
   "metadata": {},
   "outputs": [],
   "source": []
  },
  {
   "cell_type": "markdown",
   "metadata": {},
   "source": [
    "### Computation and indices"
   ]
  },
  {
   "cell_type": "code",
   "execution_count": null,
   "metadata": {},
   "outputs": [],
   "source": [
    "# Computation uses matched indices\n",
    "a = pd.Series([1, 2, 3, 5], index=[1, 2, 3, 5])\n",
    "b = pd.Series([1, 2, 3, 4], index=[1, 2, 3, 4])"
   ]
  },
  {
   "cell_type": "code",
   "execution_count": null,
   "metadata": {},
   "outputs": [],
   "source": [
    "# Note the missing values here caused by the different indices of a and b!\n",
    "a * b"
   ]
  },
  {
   "cell_type": "code",
   "execution_count": null,
   "metadata": {},
   "outputs": [],
   "source": []
  },
  {
   "cell_type": "markdown",
   "metadata": {},
   "source": [
    "## Common methods"
   ]
  },
  {
   "cell_type": "markdown",
   "metadata": {},
   "source": [
    "Series support many methods, the section below only shows some very common ones."
   ]
  },
  {
   "cell_type": "markdown",
   "metadata": {},
   "source": [
    "### Numeric series"
   ]
  },
  {
   "cell_type": "code",
   "execution_count": null,
   "metadata": {},
   "outputs": [],
   "source": [
    "numeric = pd.Series(np.random.normal(0, 1, 10))"
   ]
  },
  {
   "cell_type": "code",
   "execution_count": null,
   "metadata": {},
   "outputs": [],
   "source": [
    "# Print descriptive statistics appropriate for numeric data.\n",
    "numeric.describe()"
   ]
  },
  {
   "cell_type": "code",
   "execution_count": null,
   "metadata": {},
   "outputs": [],
   "source": [
    "# Common aggregation methods\n",
    "for method in \"count\", \"mean\", \"std\", \"min\", \"median\", \"max\":\n",
    "    print(f\"numeric.{method + '()':10s} {getattr(numeric, method)():>10.3f}\")"
   ]
  },
  {
   "cell_type": "code",
   "execution_count": null,
   "metadata": {},
   "outputs": [],
   "source": [
    "# Support for common mathematical operations\n",
    "numeric.abs()"
   ]
  },
  {
   "cell_type": "code",
   "execution_count": null,
   "metadata": {},
   "outputs": [],
   "source": [
    "# Ranking of values\n",
    "numeric.rank()"
   ]
  },
  {
   "cell_type": "code",
   "execution_count": null,
   "metadata": {},
   "outputs": [],
   "source": []
  },
  {
   "cell_type": "markdown",
   "metadata": {},
   "source": [
    "### Categorical series"
   ]
  },
  {
   "cell_type": "code",
   "execution_count": null,
   "metadata": {},
   "outputs": [],
   "source": [
    "categorical = pd.Series(np.random.choice(list(\"ABCD\"), 10))"
   ]
  },
  {
   "cell_type": "code",
   "execution_count": null,
   "metadata": {},
   "outputs": [],
   "source": [
    "# Print descriptives appropriate for categorical data.\n",
    "categorical.describe()"
   ]
  },
  {
   "cell_type": "code",
   "execution_count": null,
   "metadata": {},
   "outputs": [],
   "source": [
    "# Row counts per category.\n",
    "# Note: returns a Series, which is sorted by values by default.\n",
    "categorical.value_counts()"
   ]
  },
  {
   "cell_type": "code",
   "execution_count": null,
   "metadata": {},
   "outputs": [],
   "source": [
    "# Get unique category values.\n",
    "categorical.unique()"
   ]
  },
  {
   "cell_type": "code",
   "execution_count": null,
   "metadata": {},
   "outputs": [],
   "source": [
    "# Number of unique category values.\n",
    "categorical.nunique()"
   ]
  },
  {
   "cell_type": "code",
   "execution_count": null,
   "metadata": {},
   "outputs": [],
   "source": [
    "# Find modal value(s).\n",
    "# Note: returns a Series as there can be multiple modes!\n",
    "categorical.mode()"
   ]
  },
  {
   "cell_type": "code",
   "execution_count": null,
   "metadata": {},
   "outputs": [],
   "source": [
    "# Use replace method to recode category values.\n",
    "# Note: categories not in the mapping are left as-is.\n",
    "categorical.replace({\n",
    "    \"A\": \"a\",\n",
    "    \"B\": \"b\",\n",
    "    \"C\": \"c\",\n",
    "})"
   ]
  },
  {
   "cell_type": "code",
   "execution_count": null,
   "metadata": {},
   "outputs": [],
   "source": [
    "# Using map is an alternative.\n",
    "# Note: missing categories now turn into missing values!\n",
    "categorical.map({\n",
    "    \"A\": \"a\",\n",
    "    \"B\": \"b\",\n",
    "    \"C\": \"c\",\n",
    "})"
   ]
  },
  {
   "cell_type": "code",
   "execution_count": null,
   "metadata": {},
   "outputs": [],
   "source": []
  },
  {
   "cell_type": "markdown",
   "metadata": {},
   "source": [
    "### Missing values"
   ]
  },
  {
   "cell_type": "code",
   "execution_count": null,
   "metadata": {},
   "outputs": [],
   "source": [
    "s = pd.Series([1, 2, None, 4, None, None, 7, 8, 9])"
   ]
  },
  {
   "cell_type": "code",
   "execution_count": null,
   "metadata": {},
   "outputs": [],
   "source": [
    "# Check for missing values.\n",
    "s.hasnans"
   ]
  },
  {
   "cell_type": "code",
   "execution_count": null,
   "metadata": {},
   "outputs": [],
   "source": [
    "# Missing or not (see also: s.notna()).\n",
    "s.isna()"
   ]
  },
  {
   "cell_type": "code",
   "execution_count": null,
   "metadata": {},
   "outputs": [],
   "source": [
    "# Count the missing values.\n",
    "# Note: for fraction / percentage, use .mean() instead.\n",
    "s.isna().sum()"
   ]
  },
  {
   "cell_type": "code",
   "execution_count": null,
   "metadata": {},
   "outputs": [],
   "source": [
    "# Filling missing values with series mean.\n",
    "s.fillna(s.mean())"
   ]
  },
  {
   "cell_type": "code",
   "execution_count": null,
   "metadata": {},
   "outputs": [],
   "source": [
    "# Forward fill copies last good value\n",
    "# Note: sort order matters here of course!\n",
    "s.ffill()"
   ]
  },
  {
   "cell_type": "code",
   "execution_count": null,
   "metadata": {},
   "outputs": [],
   "source": [
    "# Interpolation (default: linear interpolation)\n",
    "s.interpolate()"
   ]
  },
  {
   "cell_type": "code",
   "execution_count": null,
   "metadata": {},
   "outputs": [],
   "source": [
    "# Drop missing values altogether\n",
    "s.dropna()"
   ]
  },
  {
   "cell_type": "code",
   "execution_count": null,
   "metadata": {},
   "outputs": [],
   "source": []
  },
  {
   "cell_type": "markdown",
   "metadata": {},
   "source": [
    "### Custom functions"
   ]
  },
  {
   "cell_type": "code",
   "execution_count": null,
   "metadata": {},
   "outputs": [],
   "source": [
    "# Fake financial data\n",
    "financial = pd.Series(np.random.exponential(10_000, 10))\n",
    "financial"
   ]
  },
  {
   "cell_type": "code",
   "execution_count": null,
   "metadata": {},
   "outputs": [],
   "source": [
    "import locale\n",
    "locale.setlocale(locale.LC_ALL, \"nl_NL\")\n",
    "\n",
    "def format_financial(value):\n",
    "    \"\"\"Format value as a currency given the current locale.\"\"\"\n",
    "    \n",
    "    return locale.currency(value, grouping=True)"
   ]
  },
  {
   "cell_type": "code",
   "execution_count": null,
   "metadata": {},
   "outputs": [],
   "source": [
    "# Use .map() to apply your custom function to all values\n",
    "# Note: your function should process a single value per call.\n",
    "financial.map(format_financial)"
   ]
  },
  {
   "cell_type": "markdown",
   "metadata": {},
   "source": [
    "### All methods of Series"
   ]
  },
  {
   "cell_type": "code",
   "execution_count": null,
   "metadata": {},
   "outputs": [],
   "source": [
    "# Run the code below to view all available methods.\n",
    "pd.options.display.max_rows = None\n",
    "pd.options.display.max_colwidth = None\n",
    "\n",
    "# Uncomment for spam!\n",
    "# list_methods(pd.Series)"
   ]
  },
  {
   "cell_type": "code",
   "execution_count": null,
   "metadata": {},
   "outputs": [],
   "source": []
  }
 ],
 "metadata": {
  "kernelspec": {
   "display_name": "Python 3 (ipykernel)",
   "language": "python",
   "name": "python3"
  },
  "language_info": {
   "codemirror_mode": {
    "name": "ipython",
    "version": 3
   },
   "file_extension": ".py",
   "mimetype": "text/x-python",
   "name": "python",
   "nbconvert_exporter": "python",
   "pygments_lexer": "ipython3",
   "version": "3.7.7"
  }
 },
 "nbformat": 4,
 "nbformat_minor": 4
}
