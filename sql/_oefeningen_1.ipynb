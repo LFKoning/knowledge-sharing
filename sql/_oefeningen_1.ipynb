{
 "cells": [
  {
   "cell_type": "markdown",
   "metadata": {},
   "source": [
    "## Oefeningen 1: Transacties"
   ]
  },
  {
   "cell_type": "code",
   "execution_count": null,
   "metadata": {},
   "outputs": [],
   "source": [
    "from database import Database\n",
    "db = Database(\"oefeningen.db\")"
   ]
  },
  {
   "cell_type": "code",
   "execution_count": null,
   "metadata": {},
   "outputs": [],
   "source": [
    "db.query(\"SELECT * FROM Transacties ORDER BY RANDOM() LIMIT 5\")"
   ]
  },
  {
   "cell_type": "markdown",
   "metadata": {},
   "source": [
    "### 1. Aantal transacties"
   ]
  },
  {
   "cell_type": "code",
   "execution_count": null,
   "metadata": {},
   "outputs": [],
   "source": [
    "db.query(\"SELECT COUNT(*) FROM Transacties;\")"
   ]
  },
  {
   "cell_type": "code",
   "execution_count": null,
   "metadata": {},
   "outputs": [],
   "source": []
  },
  {
   "cell_type": "markdown",
   "metadata": {},
   "source": [
    "### 2. Hoeveel laag BTW tarief"
   ]
  },
  {
   "cell_type": "code",
   "execution_count": null,
   "metadata": {},
   "outputs": [],
   "source": [
    "db.query(\"SELECT COUNT(*) FROM Transacties WHERE BTWTarief = 'laag';\")"
   ]
  },
  {
   "cell_type": "code",
   "execution_count": null,
   "metadata": {},
   "outputs": [],
   "source": []
  },
  {
   "cell_type": "markdown",
   "metadata": {},
   "source": [
    "### 3. Totaal exclusief BTW"
   ]
  },
  {
   "cell_type": "code",
   "execution_count": null,
   "metadata": {},
   "outputs": [],
   "source": [
    "db.query(\"\"\"\n",
    "SELECT\n",
    "    *,\n",
    "    PrijsExclusief * Aantal AS TotaalExclusief\n",
    "FROM Transacties\n",
    ";\n",
    "\"\"\")"
   ]
  },
  {
   "cell_type": "code",
   "execution_count": null,
   "metadata": {},
   "outputs": [],
   "source": []
  },
  {
   "cell_type": "markdown",
   "metadata": {},
   "source": [
    "### 4. Totaal inclusief BTW"
   ]
  },
  {
   "cell_type": "code",
   "execution_count": null,
   "metadata": {},
   "outputs": [],
   "source": [
    "db.query(\"\"\"\n",
    "SELECT\n",
    "    *,\n",
    "    PrijsExclusief * Aantal AS TotaalExclusief,\n",
    "    CASE\n",
    "        WHEN BTWTarief = 'laag' THEN PrijsExclusief * Aantal * 1.06\n",
    "        ELSE PrijsExclusief * Aantal * 1.21\n",
    "    END AS TotaalInclusief\n",
    "FROM Transacties\n",
    ";\n",
    "\"\"\")"
   ]
  },
  {
   "cell_type": "code",
   "execution_count": null,
   "metadata": {},
   "outputs": [],
   "source": []
  },
  {
   "cell_type": "markdown",
   "metadata": {},
   "source": [
    "### 5. Grootste / kleinste transacties"
   ]
  },
  {
   "cell_type": "code",
   "execution_count": null,
   "metadata": {},
   "outputs": [],
   "source": [
    "db.query(\"\"\"\n",
    "    SELECT\n",
    "        *,\n",
    "        CASE\n",
    "            WHEN BTWTarief = 'laag' THEN PrijsExclusief * Aantal * 1.06\n",
    "            ELSE PrijsExclusief * Aantal * 1.21\n",
    "        END AS TotaalInclusief\n",
    "    FROM Transacties\n",
    "    ORDER BY TotaalInclusief DESC\n",
    "    LIMIT 3\n",
    ";\n",
    "\"\"\")"
   ]
  },
  {
   "cell_type": "code",
   "execution_count": null,
   "metadata": {},
   "outputs": [],
   "source": [
    "db.query(\"\"\"\n",
    "SELECT *\n",
    "FROM (\n",
    "    SELECT\n",
    "        *,\n",
    "        CASE\n",
    "            WHEN BTWTarief = 'laag' THEN PrijsExclusief * Aantal * 1.06\n",
    "            ELSE PrijsExclusief * Aantal * 1.21\n",
    "        END AS TotaalInclusief\n",
    "    FROM Transacties\n",
    ")\n",
    "ORDER BY TotaalInclusief DESC\n",
    "LIMIT 3\n",
    ";\n",
    "\"\"\")"
   ]
  },
  {
   "cell_type": "code",
   "execution_count": null,
   "metadata": {},
   "outputs": [],
   "source": []
  },
  {
   "cell_type": "markdown",
   "metadata": {},
   "source": [
    "### 6. Omzet in Januari"
   ]
  },
  {
   "cell_type": "code",
   "execution_count": null,
   "metadata": {},
   "outputs": [],
   "source": [
    "db.query(\"SELECT MIN(BestelDatum), MAX(BestelDatum) FROM Transacties\")"
   ]
  },
  {
   "cell_type": "code",
   "execution_count": null,
   "metadata": {},
   "outputs": [],
   "source": [
    "db.query(\"\"\"\n",
    "SELECT\n",
    "    COUNT(*) AS AantalTransacties,\n",
    "    SUM(Aantal) AS AantalItems,\n",
    "    SUM(TotaalInclusief) AS Omzet\n",
    "FROM (\n",
    "    SELECT\n",
    "        Aantal,\n",
    "        CASE\n",
    "            WHEN BTWTarief = 'laag' THEN PrijsExclusief * Aantal * 1.06\n",
    "            ELSE PrijsExclusief * Aantal * 1.21\n",
    "        END AS TotaalInclusief\n",
    "    FROM Transacties\n",
    "    WHERE BestelDatum BETWEEN '2020-01-01' AND '2020-01-31'\n",
    ");\n",
    "\"\"\")"
   ]
  },
  {
   "cell_type": "code",
   "execution_count": null,
   "metadata": {},
   "outputs": [],
   "source": []
  }
 ],
 "metadata": {
  "kernelspec": {
   "display_name": "Python [conda env:jupyter] *",
   "language": "python",
   "name": "conda-env-jupyter-py"
  },
  "language_info": {
   "codemirror_mode": {
    "name": "ipython",
    "version": 3
   },
   "file_extension": ".py",
   "mimetype": "text/x-python",
   "name": "python",
   "nbconvert_exporter": "python",
   "pygments_lexer": "ipython3",
   "version": "3.7.7"
  }
 },
 "nbformat": 4,
 "nbformat_minor": 4
}
