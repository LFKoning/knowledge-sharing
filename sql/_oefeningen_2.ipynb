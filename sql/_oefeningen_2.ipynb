{
 "cells": [
  {
   "cell_type": "markdown",
   "metadata": {},
   "source": [
    "## Oefeningen 2: Transacties"
   ]
  },
  {
   "cell_type": "code",
   "execution_count": null,
   "metadata": {},
   "outputs": [],
   "source": [
    "from database import Database\n",
    "db = Database(\"oefeningen.db\")"
   ]
  },
  {
   "cell_type": "code",
   "execution_count": null,
   "metadata": {},
   "outputs": [],
   "source": [
    "db.query(\"SELECT * FROM Transacties ORDER BY RANDOM() LIMIT 5\")"
   ]
  },
  {
   "cell_type": "markdown",
   "metadata": {},
   "source": [
    "### 1. Netto Omzet per maand"
   ]
  },
  {
   "cell_type": "code",
   "execution_count": null,
   "metadata": {},
   "outputs": [],
   "source": [
    "# Bereken maand en totaal bedrag per bestelling\n",
    "db.query(\"\"\"\n",
    "SELECT\n",
    "    STRFTIME('%m', BestelDatum) AS BestelMaand,\n",
    "    CASE\n",
    "        WHEN BTWTarief = 'laag' THEN PrijsExclusief * Aantal * 1.06\n",
    "        ELSE PrijsExclusief * Aantal * 1.21\n",
    "    END AS TotaalInclusief\n",
    "FROM Transacties\n",
    "\"\"\")"
   ]
  },
  {
   "cell_type": "code",
   "execution_count": null,
   "metadata": {},
   "outputs": [],
   "source": [
    "db.query(\"\"\"\n",
    "WITH OmzetMaand AS (\n",
    "    SELECT\n",
    "        STRFTIME('%m', BestelDatum) AS BestelMaand,\n",
    "        CASE\n",
    "            WHEN BTWTarief = 'laag' THEN PrijsExclusief * Aantal * 1.06\n",
    "            ELSE PrijsExclusief * Aantal * 1.21\n",
    "        END AS TotaalInclusief\n",
    "    FROM Transacties\n",
    ")\n",
    "SELECT\n",
    "    BestelMaand,\n",
    "    SUM(TotaalInclusief) AS OmzetNetto\n",
    "FROM OmzetMaand\n",
    "GROUP BY BestelMaand\n",
    "\"\"\")"
   ]
  },
  {
   "cell_type": "code",
   "execution_count": null,
   "metadata": {},
   "outputs": [],
   "source": []
  },
  {
   "cell_type": "markdown",
   "metadata": {},
   "source": [
    "### 2. Cumulatieve omzet per dag"
   ]
  },
  {
   "cell_type": "code",
   "execution_count": null,
   "metadata": {},
   "outputs": [],
   "source": [
    "db.query(\"\"\"\n",
    "SELECT\n",
    "        BestelDatum,\n",
    "        SUM(\n",
    "            CASE\n",
    "                WHEN BTWTarief = 'laag' THEN PrijsExclusief * Aantal * 1.06\n",
    "                ELSE PrijsExclusief * Aantal * 1.21\n",
    "            END\n",
    "        ) AS DagOmzet\n",
    "    FROM Transacties\n",
    "    GROUP BY Besteldatum\n",
    "\"\"\")"
   ]
  },
  {
   "cell_type": "code",
   "execution_count": null,
   "metadata": {},
   "outputs": [],
   "source": [
    "db.query(\"\"\"\n",
    "WITH OmzetDag AS (\n",
    "    SELECT\n",
    "        BestelDatum,\n",
    "        SUM(\n",
    "            CASE\n",
    "                WHEN BTWTarief = 'laag' THEN PrijsExclusief * Aantal * 1.06\n",
    "                ELSE PrijsExclusief * Aantal * 1.21\n",
    "            END\n",
    "        ) AS DagOmzet\n",
    "    FROM Transacties\n",
    "    GROUP BY BestelDatum\n",
    ")\n",
    "SELECT\n",
    "    BestelDatum,\n",
    "    DagOmzet,\n",
    "    SUM(DagOmzet) OVER(ORDER BY BestelDatum) AS OmzetCumulatief\n",
    "FROM OmzetDag\n",
    "\"\"\")"
   ]
  },
  {
   "cell_type": "markdown",
   "metadata": {},
   "source": [
    "### 3. Rollend gemiddelde 3 dagen"
   ]
  },
  {
   "cell_type": "code",
   "execution_count": null,
   "metadata": {},
   "outputs": [],
   "source": [
    "db.query(\"\"\"\n",
    "WITH OmzetDag AS (\n",
    "    SELECT\n",
    "        BestelDatum,\n",
    "        COUNT(*) AS DagTransacties,\n",
    "        SUM(Aantal) AS DagArtikelen,\n",
    "        SUM(\n",
    "            CASE\n",
    "                WHEN BTWTarief = 'laag' THEN PrijsExclusief * Aantal * 1.06\n",
    "                ELSE PrijsExclusief * Aantal * 1.21\n",
    "            END\n",
    "        ) AS DagOmzet\n",
    "    FROM Transacties\n",
    "    GROUP BY BestelDatum\n",
    ")\n",
    "SELECT\n",
    "    BestelDatum,\n",
    "    \n",
    "    DagTransacties,\n",
    "    SUM(DagTransacties) OVER(\n",
    "        ORDER BY BestelDatum\n",
    "        ROWS BETWEEN 2 PRECEDING AND CURRENT ROW\n",
    "    ) AS Transacties3Dagen,\n",
    "    \n",
    "    DagArtikelen,\n",
    "    SUM(DagArtikelen) OVER(\n",
    "        ORDER BY BestelDatum\n",
    "        ROWS BETWEEN 2 PRECEDING AND CURRENT ROW\n",
    "    ) AS Artikelen3Dagen,\n",
    "    \n",
    "    DagOmzet,\n",
    "    SUM(DagOmzet) OVER(\n",
    "        ORDER BY BestelDatum\n",
    "        ROWS BETWEEN 2 PRECEDING AND CURRENT ROW\n",
    "    ) AS Omzet3Dagen\n",
    "FROM OmzetDag\n",
    "\"\"\")"
   ]
  },
  {
   "cell_type": "markdown",
   "metadata": {},
   "source": [
    "### 4. Verschil met gisteren"
   ]
  },
  {
   "cell_type": "code",
   "execution_count": null,
   "metadata": {},
   "outputs": [],
   "source": [
    "db.query(\"\"\"\n",
    "WITH OmzetDag AS (\n",
    "    SELECT\n",
    "        BestelDatum,\n",
    "        SUM(\n",
    "            CASE\n",
    "                WHEN BTWTarief = 'laag' THEN PrijsExclusief * Aantal * 1.06\n",
    "                ELSE PrijsExclusief * Aantal * 1.21\n",
    "            END\n",
    "        ) AS DagOmzet\n",
    "    FROM Transacties\n",
    "    GROUP BY BestelDatum\n",
    "    ORDER BY BestelDatum\n",
    ")\n",
    "SELECT\n",
    "    BestelDatum,\n",
    "    DagOmzet,\n",
    "    LAG(DagOmzet) OVER(ORDER BY BestelDatum) AS DagOmzetGisteren,\n",
    "    DagOmzet - LAG(DagOmzet) OVER(ORDER BY BestelDatum) AS OmzetVerschil\n",
    "FROM OmzetDag\n",
    "\"\"\").head(15)"
   ]
  },
  {
   "cell_type": "code",
   "execution_count": null,
   "metadata": {},
   "outputs": [],
   "source": []
  }
 ],
 "metadata": {
  "kernelspec": {
   "display_name": "Python [conda env:jupyter] *",
   "language": "python",
   "name": "conda-env-jupyter-py"
  },
  "language_info": {
   "codemirror_mode": {
    "name": "ipython",
    "version": 3
   },
   "file_extension": ".py",
   "mimetype": "text/x-python",
   "name": "python",
   "nbconvert_exporter": "python",
   "pygments_lexer": "ipython3",
   "version": "3.7.7"
  }
 },
 "nbformat": 4,
 "nbformat_minor": 4
}
