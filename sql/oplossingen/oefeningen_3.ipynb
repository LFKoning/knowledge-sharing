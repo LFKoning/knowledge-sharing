{
 "cells": [
  {
   "cell_type": "markdown",
   "metadata": {},
   "source": [
    "## Oefeningen 3: Koppelen tabellen"
   ]
  },
  {
   "cell_type": "code",
   "execution_count": 1,
   "metadata": {},
   "outputs": [],
   "source": [
    "from database import Database\n",
    "db = Database(\"../oefeningen.db\")"
   ]
  },
  {
   "cell_type": "markdown",
   "metadata": {},
   "source": [
    "### Inhoud tabellen"
   ]
  },
  {
   "cell_type": "code",
   "execution_count": null,
   "metadata": {},
   "outputs": [],
   "source": [
    "db.query(\"SELECT * FROM KoppelA\")"
   ]
  },
  {
   "cell_type": "code",
   "execution_count": null,
   "metadata": {},
   "outputs": [],
   "source": [
    "db.query(\"SELECT * FROM KoppelB\")"
   ]
  },
  {
   "cell_type": "markdown",
   "metadata": {},
   "source": [
    "### Oefening 3.1: A LEFT JOIN B"
   ]
  },
  {
   "cell_type": "code",
   "execution_count": null,
   "metadata": {},
   "outputs": [],
   "source": [
    "db.query(\"\"\"\n",
    "SELECT *\n",
    "FROM KoppelA\n",
    "LEFT JOIN KoppelB USING(Id);\n",
    "\"\"\")"
   ]
  },
  {
   "cell_type": "markdown",
   "metadata": {},
   "source": [
    "### Oefening 3.2: B LEFT JOIN A"
   ]
  },
  {
   "cell_type": "code",
   "execution_count": null,
   "metadata": {},
   "outputs": [],
   "source": [
    "db.query(\"\"\"\n",
    "SELECT *\n",
    "FROM KoppelB\n",
    "LEFT JOIN KoppelA USING(Id);\n",
    "\"\"\")"
   ]
  },
  {
   "cell_type": "markdown",
   "metadata": {},
   "source": [
    "### Oefening 3.3: A INNER JOIN B"
   ]
  },
  {
   "cell_type": "code",
   "execution_count": null,
   "metadata": {},
   "outputs": [],
   "source": [
    "db.query(\"\"\"\n",
    "SELECT *\n",
    "FROM KoppelA\n",
    "INNER JOIN KoppelB USING(Id);\n",
    "\"\"\")"
   ]
  },
  {
   "cell_type": "markdown",
   "metadata": {},
   "source": [
    "### Oefening 3.4: A JOIN B"
   ]
  },
  {
   "cell_type": "code",
   "execution_count": null,
   "metadata": {},
   "outputs": [],
   "source": [
    "# Antwoord: Zelfde als een inner join\n",
    "db.query(\"\"\"\n",
    "SELECT *\n",
    "FROM KoppelA\n",
    "JOIN KoppelB USING(Id);\n",
    "\"\"\")"
   ]
  },
  {
   "cell_type": "markdown",
   "metadata": {},
   "source": [
    "### Extra: UNION en UNION ALL"
   ]
  },
  {
   "cell_type": "markdown",
   "metadata": {},
   "source": [
    "Gebruik UNION om tabellen samen te voegen, bijvoorbeeld:"
   ]
  },
  {
   "cell_type": "code",
   "execution_count": null,
   "metadata": {},
   "outputs": [],
   "source": [
    "db.query(\"\"\"\n",
    "SELECT Id FROM KoppelA\n",
    "UNION\n",
    "SELECT Id FROM KoppelB\n",
    ";\n",
    "\"\"\")"
   ]
  },
  {
   "cell_type": "markdown",
   "metadata": {},
   "source": [
    "Zoals je ziet retourneert UNION alleen **unieke** waardes; duplicaten worden verwijderd.\n",
    "\n",
    "Met UNION ALL krijg je alle waardes terug, inclusief duplicaten:"
   ]
  },
  {
   "cell_type": "code",
   "execution_count": null,
   "metadata": {},
   "outputs": [],
   "source": [
    "db.query(\"\"\"\n",
    "SELECT Id FROM KoppelA\n",
    "UNION ALL\n",
    "SELECT Id FROM KoppelB\n",
    ";\n",
    "\"\"\")"
   ]
  },
  {
   "cell_type": "markdown",
   "metadata": {},
   "source": [
    "Met UNION ALL kun je een OUTER JOIN simuleren in SQLite:"
   ]
  },
  {
   "cell_type": "code",
   "execution_count": null,
   "metadata": {},
   "outputs": [],
   "source": [
    "db.query(\"\"\"\n",
    "SELECT\n",
    "    Id, a.Tekst, b.Tekst\n",
    "FROM KoppelA a\n",
    "LEFT JOIN KoppelB b USING(Id)\n",
    "\n",
    "UNION ALL\n",
    "\n",
    "SELECT\n",
    "    Id, a.Tekst, b.Tekst\n",
    "FROM KoppelB b\n",
    "LEFT JOIN KoppelA a USING (Id)\n",
    "WHERE a.Id IS NULL\n",
    "\"\"\")"
   ]
  },
  {
   "cell_type": "code",
   "execution_count": null,
   "metadata": {},
   "outputs": [],
   "source": []
  }
 ],
 "metadata": {
  "kernelspec": {
   "display_name": "Python 3.9.13 ('sql-cursus')",
   "language": "python",
   "name": "python3"
  },
  "language_info": {
   "codemirror_mode": {
    "name": "ipython",
    "version": 3
   },
   "file_extension": ".py",
   "mimetype": "text/x-python",
   "name": "python",
   "nbconvert_exporter": "python",
   "pygments_lexer": "ipython3",
   "version": "3.9.13"
  },
  "vscode": {
   "interpreter": {
    "hash": "1ae326f517c64ba141234ceb6118a40b7e9b0643d4250c1ce3dc8f621740f057"
   }
  }
 },
 "nbformat": 4,
 "nbformat_minor": 4
}
