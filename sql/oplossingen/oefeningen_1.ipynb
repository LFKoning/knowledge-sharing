{
 "cells": [
  {
   "cell_type": "markdown",
   "metadata": {},
   "source": [
    "## Oefeningen 1: Transacties"
   ]
  },
  {
   "cell_type": "code",
   "execution_count": 1,
   "metadata": {},
   "outputs": [],
   "source": [
    "from database import Database\n",
    "db = Database(\"../oefeningen.db\")"
   ]
  },
  {
   "cell_type": "code",
   "execution_count": null,
   "metadata": {},
   "outputs": [],
   "source": [
    "# Selecteer eerste vijf rijen om inzicht te krijgen in de data\n",
    "db.query(\"SELECT * FROM Transacties LIMIT 5\")"
   ]
  },
  {
   "cell_type": "markdown",
   "metadata": {},
   "source": [
    "### # Oefening 1.1: Totaal aantal transacties"
   ]
  },
  {
   "cell_type": "code",
   "execution_count": null,
   "metadata": {},
   "outputs": [],
   "source": [
    "db.query(\"SELECT COUNT(*) FROM Transacties;\")"
   ]
  },
  {
   "cell_type": "markdown",
   "metadata": {},
   "source": [
    "### Oefening 1.2: Hoeveel laag BTW tarief?"
   ]
  },
  {
   "cell_type": "code",
   "execution_count": null,
   "metadata": {},
   "outputs": [],
   "source": [
    "db.query(\"SELECT COUNT(*) FROM Transacties WHERE BTWTarief = 'laag';\")"
   ]
  },
  {
   "cell_type": "markdown",
   "metadata": {},
   "source": [
    "### Oefening 1.3: Totaal exclusief BTW"
   ]
  },
  {
   "cell_type": "code",
   "execution_count": null,
   "metadata": {},
   "outputs": [],
   "source": [
    "db.query(\"\"\"\n",
    "SELECT\n",
    "    Aantal,\n",
    "    PrijsExclusief,\n",
    "    PrijsExclusief * Aantal AS TotaalExclusief,\n",
    "    BTWTarief\n",
    "FROM Transacties\n",
    ";\n",
    "\"\"\")"
   ]
  },
  {
   "cell_type": "markdown",
   "metadata": {},
   "source": [
    "### Oefening 1.4: Totaal inclusief BTW"
   ]
  },
  {
   "cell_type": "code",
   "execution_count": null,
   "metadata": {},
   "outputs": [],
   "source": [
    "db.query(\"\"\"\n",
    "SELECT\n",
    "    Aantal,\n",
    "    PrijsExclusief,\n",
    "    BTWTarief,\n",
    "    PrijsExclusief * Aantal AS TotaalExclusief,\n",
    "    CASE\n",
    "        WHEN BTWTarief = 'laag' THEN PrijsExclusief * Aantal * 1.06\n",
    "        ELSE PrijsExclusief * Aantal * 1.21\n",
    "    END AS TotaalInclusief\n",
    "FROM Transacties\n",
    ";\n",
    "\"\"\")"
   ]
  },
  {
   "cell_type": "markdown",
   "metadata": {},
   "source": [
    "### Oefening 1.5: Grootste / kleinste transacties"
   ]
  },
  {
   "cell_type": "code",
   "execution_count": null,
   "metadata": {},
   "outputs": [],
   "source": [
    "# Grootste transacties, ORDER BY ... DESC\n",
    "db.query(\"\"\"\n",
    "    SELECT\n",
    "        *,\n",
    "        CASE\n",
    "            WHEN BTWTarief = 'laag' THEN PrijsExclusief * Aantal * 1.06\n",
    "            ELSE PrijsExclusief * Aantal * 1.21\n",
    "        END AS TotaalInclusief\n",
    "    FROM Transacties\n",
    "    ORDER BY TotaalInclusief DESC\n",
    "    LIMIT 3\n",
    ";\n",
    "\"\"\")"
   ]
  },
  {
   "cell_type": "code",
   "execution_count": null,
   "metadata": {},
   "outputs": [],
   "source": [
    "# Kleinste transacties, ORDER BY ... ASC\n",
    "db.query(\"\"\"\n",
    "SELECT *\n",
    "FROM (\n",
    "    SELECT\n",
    "        *,\n",
    "        CASE\n",
    "            WHEN BTWTarief = 'laag' THEN PrijsExclusief * Aantal * 1.06\n",
    "            ELSE PrijsExclusief * Aantal * 1.21\n",
    "        END AS TotaalInclusief\n",
    "    FROM Transacties\n",
    ")\n",
    "ORDER BY TotaalInclusief ASC\n",
    "LIMIT 3\n",
    ";\n",
    "\"\"\")"
   ]
  },
  {
   "cell_type": "markdown",
   "metadata": {},
   "source": [
    "### Oefening 1.6: Omzet in Januari"
   ]
  },
  {
   "cell_type": "code",
   "execution_count": null,
   "metadata": {},
   "outputs": [],
   "source": [
    "# Check: Wat is eigenlijk het bereik van de besteldatum?\n",
    "db.query(\"SELECT MIN(BestelDatum), MAX(BestelDatum) FROM Transacties\")"
   ]
  },
  {
   "cell_type": "code",
   "execution_count": null,
   "metadata": {},
   "outputs": [],
   "source": [
    "# Selecteer alleen bestellingen in januari\n",
    "db.query(\"\"\"\n",
    "SELECT\n",
    "    COUNT(*) AS AantalTransacties,\n",
    "    SUM(Aantal) AS AantalItems,\n",
    "    SUM(TotaalInclusief) AS Omzet\n",
    "FROM (\n",
    "    SELECT\n",
    "        Aantal,\n",
    "        CASE\n",
    "            WHEN BTWTarief = 'laag' THEN PrijsExclusief * Aantal * 1.06\n",
    "            ELSE PrijsExclusief * Aantal * 1.21\n",
    "        END AS TotaalInclusief\n",
    "    FROM Transacties\n",
    "    WHERE BestelDatum BETWEEN '2020-01-01' AND '2020-01-31'\n",
    ");\n",
    "\"\"\")"
   ]
  },
  {
   "cell_type": "code",
   "execution_count": null,
   "metadata": {},
   "outputs": [],
   "source": [
    "# Of netter: met een Common Table Expression\n",
    "db.query(\"\"\"\n",
    "WITH TransactiesJanuari AS (\n",
    "    SELECT\n",
    "        Aantal,\n",
    "        CASE\n",
    "            WHEN BTWTarief = 'laag' THEN PrijsExclusief * Aantal * 1.06\n",
    "            ELSE PrijsExclusief * Aantal * 1.21\n",
    "        END AS TotaalInclusief\n",
    "    FROM Transacties\n",
    "    WHERE BestelDatum BETWEEN '2020-01-01' AND '2020-01-31'\n",
    ")\n",
    "SELECT\n",
    "    COUNT(*) AS AantalTransacties,\n",
    "    SUM(Aantal) AS AantalItems,\n",
    "    SUM(TotaalInclusief) AS Omzet\n",
    "FROM TransactiesJanuari;\n",
    "\"\"\")"
   ]
  },
  {
   "cell_type": "code",
   "execution_count": null,
   "metadata": {},
   "outputs": [],
   "source": []
  }
 ],
 "metadata": {
  "kernelspec": {
   "display_name": "Python 3.9.13 ('sql-cursus')",
   "language": "python",
   "name": "python3"
  },
  "language_info": {
   "codemirror_mode": {
    "name": "ipython",
    "version": 3
   },
   "file_extension": ".py",
   "mimetype": "text/x-python",
   "name": "python",
   "nbconvert_exporter": "python",
   "pygments_lexer": "ipython3",
   "version": "3.9.13"
  },
  "vscode": {
   "interpreter": {
    "hash": "1ae326f517c64ba141234ceb6118a40b7e9b0643d4250c1ce3dc8f621740f057"
   }
  }
 },
 "nbformat": 4,
 "nbformat_minor": 4
}
