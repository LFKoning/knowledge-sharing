{
 "cells": [
  {
   "cell_type": "markdown",
   "metadata": {},
   "source": [
    "## Oefeningen 5: Database beheren"
   ]
  },
  {
   "cell_type": "code",
   "execution_count": null,
   "metadata": {},
   "outputs": [],
   "source": [
    "import os\n",
    "from database import Database"
   ]
  },
  {
   "cell_type": "markdown",
   "metadata": {},
   "source": [
    "### Setup"
   ]
  },
  {
   "cell_type": "code",
   "execution_count": null,
   "metadata": {},
   "outputs": [],
   "source": [
    "# Delete database if it exists\n",
    "try:\n",
    "    os.remove(\"../oefeningen5en6.db\")\n",
    "except FileNotFoundError:\n",
    "    pass\n",
    "db = Database(\"../oefeningen5en6.db\")"
   ]
  },
  {
   "cell_type": "code",
   "execution_count": null,
   "metadata": {},
   "outputs": [],
   "source": [
    "# Foreign keys aanzetten\n",
    "db.query(\"PRAGMA foreign_keys = ON\")"
   ]
  },
  {
   "cell_type": "markdown",
   "metadata": {},
   "source": [
    "### Oefening 5.1: Personen tabel aanmaken"
   ]
  },
  {
   "cell_type": "code",
   "execution_count": null,
   "metadata": {},
   "outputs": [],
   "source": [
    "db.query(\"\"\"\n",
    "CREATE TABLE Personen (\n",
    "    Id INTEGER PRIMARY KEY,\n",
    "    Naam TEXT NOT NULL,\n",
    "    Achternaam TEXT NOT NULL\n",
    ");\n",
    "\"\"\")"
   ]
  },
  {
   "cell_type": "markdown",
   "metadata": {},
   "source": [
    "### Oefening 5.2: Boeken tabel aanmaken"
   ]
  },
  {
   "cell_type": "code",
   "execution_count": null,
   "metadata": {},
   "outputs": [],
   "source": [
    "db.query(\"\"\"\n",
    "CREATE TABLE Boeken (\n",
    "    Id INTEGER PRIMARY KEY,\n",
    "    Titel TEXT NOT NULL\n",
    ");\n",
    "\"\"\")"
   ]
  },
  {
   "cell_type": "markdown",
   "metadata": {},
   "source": [
    "### Oefening 5.3: Koppel tabel aanmaken"
   ]
  },
  {
   "cell_type": "code",
   "execution_count": null,
   "metadata": {},
   "outputs": [],
   "source": [
    "db.query(\"\"\"\n",
    "CREATE TABLE KoppelPersoonBoek (\n",
    "    PersoonId INTEGER NOT NULL,\n",
    "    BoekId INTEGER NOT NULL,\n",
    "    \n",
    "    CONSTRAINT PK_PersoonBoek PRIMARY KEY(PersoonID, BoekId),\n",
    "    \n",
    "    CONSTRAINT FK_Persoon FOREIGN KEY(PersoonId) REFERENCES Personen(Id)\n",
    "        ON DELETE CASCADE ON UPDATE CASCADE,\n",
    "    \n",
    "    CONSTRAINT FK_Boek FOREIGN KEY(BoekId) REFERENCES Boeken(Id)\n",
    "        ON DELETE CASCADE ON UPDATE CASCADE\n",
    ");\n",
    "\"\"\")"
   ]
  },
  {
   "cell_type": "code",
   "execution_count": null,
   "metadata": {},
   "outputs": [],
   "source": [
    "# Controleer tabellen\n",
    "db.list_tables()"
   ]
  },
  {
   "cell_type": "markdown",
   "metadata": {},
   "source": [
    "### Oefening 5.4: Personen en boeken aanmaken"
   ]
  },
  {
   "cell_type": "code",
   "execution_count": null,
   "metadata": {},
   "outputs": [],
   "source": [
    "db.query(\"\"\"\n",
    "    INSERT INTO Personen\n",
    "        (Naam, Achternaam)\n",
    "    VALUES\n",
    "        ('Anna', 'De Boer'),\n",
    "        ('Henk', 'Jansen'),\n",
    "        ('Petra', 'Molenaar')\n",
    "    ;\n",
    "\"\"\")"
   ]
  },
  {
   "cell_type": "code",
   "execution_count": null,
   "metadata": {},
   "outputs": [],
   "source": [
    "# Check het resultaat\n",
    "db.query(\"SELECT * FROM Personen\")"
   ]
  },
  {
   "cell_type": "code",
   "execution_count": null,
   "metadata": {},
   "outputs": [],
   "source": [
    "db.query(\"\"\"\n",
    "    INSERT INTO Boeken\n",
    "        (Titel)\n",
    "    VALUES\n",
    "        ('Boek A'),\n",
    "        ('Boek B'),\n",
    "        ('Boek C')\n",
    "    ;\n",
    "\"\"\")"
   ]
  },
  {
   "cell_type": "code",
   "execution_count": null,
   "metadata": {},
   "outputs": [],
   "source": [
    "# Check het resultaat\n",
    "db.query(\"SELECT * FROM Boeken\")"
   ]
  },
  {
   "cell_type": "markdown",
   "metadata": {},
   "source": [
    "### Oefening 5.5: Koppel personen en boeken"
   ]
  },
  {
   "cell_type": "code",
   "execution_count": null,
   "metadata": {},
   "outputs": [],
   "source": [
    "# Geldige koppelingen\n",
    "db.query(\"\"\"\n",
    "INSERT INTO KoppelPersoonBoek VALUES\n",
    "(1, 1),\n",
    "(1, 3),\n",
    "(2, 2),\n",
    "(2, 3),\n",
    "(3, 1);\n",
    "\"\"\")"
   ]
  },
  {
   "cell_type": "code",
   "execution_count": null,
   "metadata": {},
   "outputs": [],
   "source": [
    "# Check het resultaat\n",
    "db.query(\"SELECT * FROM KoppelPersoonBoek\")"
   ]
  },
  {
   "cell_type": "code",
   "execution_count": null,
   "metadata": {},
   "outputs": [],
   "source": [
    "# En nu met de volledige data\n",
    "db.query(\"\"\"\n",
    "SELECT *\n",
    "FROM Personen prs\n",
    "LEFT JOIN KoppelPersoonBoek kpl ON prs.Id = kpl.PersoonId\n",
    "LEFT JOIN Boeken bkn ON kpl.BoekId = bkn.Id\n",
    "\"\"\")"
   ]
  },
  {
   "cell_type": "code",
   "execution_count": null,
   "metadata": {},
   "outputs": [],
   "source": [
    "# Duplicaat record geeft foutmelding, vanwege PRIMARY KEY\n",
    "db.query(\"INSERT INTO KoppelPersoonBoek VALUES(1, 1);\")"
   ]
  },
  {
   "cell_type": "code",
   "execution_count": null,
   "metadata": {},
   "outputs": [],
   "source": [
    "# Ongeldig persoon geeft foutmelding\n",
    "db.query(\"INSERT INTO KoppelPersoonBoek VALUES(4, 1);\")"
   ]
  },
  {
   "cell_type": "code",
   "execution_count": null,
   "metadata": {},
   "outputs": [],
   "source": [
    "# Ongeldig boek geeft foutmelding\n",
    "db.query(\"INSERT INTO KoppelPersoonBoek VALUES(1, 4);\")"
   ]
  },
  {
   "cell_type": "markdown",
   "metadata": {},
   "source": [
    "### Oefening 5.6: Rijen wijzigingen"
   ]
  },
  {
   "cell_type": "code",
   "execution_count": null,
   "metadata": {},
   "outputs": [],
   "source": [
    "db.query(\"SELECT * FROM Personen;\")"
   ]
  },
  {
   "cell_type": "code",
   "execution_count": null,
   "metadata": {},
   "outputs": [],
   "source": [
    "# Verander ID van persoon 1 naar 4\n",
    "db.query(\"UPDATE Personen SET Id = 4 WHERE Id = 1;\")"
   ]
  },
  {
   "cell_type": "code",
   "execution_count": null,
   "metadata": {},
   "outputs": [],
   "source": [
    "# Check of de wijziging correct is doorgevoerd\n",
    "db.query(\"SELECT * FROM Personen;\")"
   ]
  },
  {
   "cell_type": "code",
   "execution_count": null,
   "metadata": {},
   "outputs": [],
   "source": [
    "# Merk op dat de wijziging automatisch in de koppeltabel is doorgevoerd!\n",
    "db.query(\"\"\"\n",
    "SELECT *\n",
    "FROM Personen prs\n",
    "LEFT JOIN KoppelPersoonBoek kpl ON prs.Id = kpl.PersoonId\n",
    "\"\"\")"
   ]
  },
  {
   "cell_type": "markdown",
   "metadata": {},
   "source": [
    "### Oefening 5.7: Rijen verwijderen"
   ]
  },
  {
   "cell_type": "code",
   "execution_count": null,
   "metadata": {},
   "outputs": [],
   "source": [
    "# Verwijder boek met ID = 1\n",
    "db.query(\"\"\"DELETE FROM Boeken WHERE Id = 1;\"\"\")"
   ]
  },
  {
   "cell_type": "code",
   "execution_count": null,
   "metadata": {},
   "outputs": [],
   "source": [
    "# Check dat het boek weg is uit de Boeken tabel\n",
    "db.query(\"SELECT * FROM Boeken;\")"
   ]
  },
  {
   "cell_type": "code",
   "execution_count": null,
   "metadata": {},
   "outputs": [],
   "source": [
    "# Merk op dat het boek ook weg is uit de koppel tabel!\n",
    "db.query(\"SELECT * FROM KoppelPersoonBoek;\")"
   ]
  }
 ],
 "metadata": {
  "kernelspec": {
   "display_name": "Python 3.9.13 ('sql-cursus')",
   "language": "python",
   "name": "python3"
  },
  "language_info": {
   "codemirror_mode": {
    "name": "ipython",
    "version": 3
   },
   "file_extension": ".py",
   "mimetype": "text/x-python",
   "name": "python",
   "nbconvert_exporter": "python",
   "pygments_lexer": "ipython3",
   "version": "3.9.13"
  },
  "vscode": {
   "interpreter": {
    "hash": "1ae326f517c64ba141234ceb6118a40b7e9b0643d4250c1ce3dc8f621740f057"
   }
  }
 },
 "nbformat": 4,
 "nbformat_minor": 4
}
