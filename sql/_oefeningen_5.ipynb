{
 "cells": [
  {
   "cell_type": "markdown",
   "metadata": {},
   "source": [
    "## Oefeningen 5: Database beheren"
   ]
  },
  {
   "cell_type": "code",
   "execution_count": null,
   "metadata": {},
   "outputs": [],
   "source": [
    "from database import Database"
   ]
  },
  {
   "cell_type": "markdown",
   "metadata": {},
   "source": [
    "### Setup"
   ]
  },
  {
   "cell_type": "code",
   "execution_count": null,
   "metadata": {},
   "outputs": [],
   "source": [
    "db = Database(\"eigen_database.db\")\n",
    "\n",
    "# Foreign keys aanzetten\n",
    "db.query(\"PRAGMA foreign_keys = ON\")"
   ]
  },
  {
   "cell_type": "code",
   "execution_count": null,
   "metadata": {},
   "outputs": [],
   "source": [
    "db.query(\"DROP TABLE KoppelPersoonBoek;\")\n",
    "db.query(\"DROP TABLE Personen;\")\n",
    "db.query(\"DROP TABLE Boeken;\")"
   ]
  },
  {
   "cell_type": "markdown",
   "metadata": {},
   "source": [
    "### 1. Personen tabel aanmaken"
   ]
  },
  {
   "cell_type": "code",
   "execution_count": null,
   "metadata": {},
   "outputs": [],
   "source": [
    "db.query(\"\"\"\n",
    "CREATE TABLE Personen (\n",
    "    Id INTEGER PRIMARY KEY,\n",
    "    Naam TEXT NOT NULL,\n",
    "    Achternaam TEXT NOT NULL\n",
    ");\n",
    "\"\"\")"
   ]
  },
  {
   "cell_type": "markdown",
   "metadata": {},
   "source": [
    "### 2. Boeken tabel aanmaken"
   ]
  },
  {
   "cell_type": "code",
   "execution_count": null,
   "metadata": {},
   "outputs": [],
   "source": [
    "db.query(\"\"\"\n",
    "CREATE TABLE Boeken (\n",
    "    Id INTEGER PRIMARY KEY,\n",
    "    Titel TEXT NOT NULL\n",
    ");\n",
    "\"\"\")"
   ]
  },
  {
   "cell_type": "markdown",
   "metadata": {},
   "source": [
    "### 3. Koppel tabel aanmaken"
   ]
  },
  {
   "cell_type": "code",
   "execution_count": null,
   "metadata": {},
   "outputs": [],
   "source": [
    "db.query(\"\"\"\n",
    "CREATE TABLE KoppelPersoonBoek (\n",
    "    PersoonId INTEGER NOT NULL,\n",
    "    BoekId INTEGER NOT NULL,\n",
    "    \n",
    "    CONSTRAINT PK_PersoonBoek PRIMARY KEY(PersoonID, BoekId),\n",
    "    \n",
    "    CONSTRAINT FK_Persoon FOREIGN KEY(PersoonId) REFERENCES Personen(Id)\n",
    "        ON DELETE CASCADE ON UPDATE CASCADE,\n",
    "    \n",
    "    CONSTRAINT FK_Boek FOREIGN KEY(BoekId) REFERENCES Boeken(Id)\n",
    "        ON DELETE CASCADE ON UPDATE CASCADE\n",
    ");\n",
    "\"\"\")"
   ]
  },
  {
   "cell_type": "code",
   "execution_count": null,
   "metadata": {},
   "outputs": [],
   "source": [
    "# Controleer tabellen\n",
    "db.list_tables()"
   ]
  },
  {
   "cell_type": "markdown",
   "metadata": {},
   "source": [
    "### 4. Personen en boeken aanmaken"
   ]
  },
  {
   "cell_type": "code",
   "execution_count": null,
   "metadata": {},
   "outputs": [],
   "source": [
    "db.query(\"\"\"\n",
    "    INSERT INTO Personen\n",
    "        (Naam, Achternaam)\n",
    "    VALUES\n",
    "        ('Anna', 'De Boer'),\n",
    "        ('Henk', 'Jansen'),\n",
    "        ('Petra', 'Molenaar')\n",
    "    ;\n",
    "\"\"\")"
   ]
  },
  {
   "cell_type": "code",
   "execution_count": null,
   "metadata": {},
   "outputs": [],
   "source": [
    "db.query(\"\"\"\n",
    "    INSERT INTO Boeken\n",
    "        (Titel)\n",
    "    VALUES\n",
    "        ('Boek A'),\n",
    "        ('Boek B'),\n",
    "        ('Boek C')\n",
    "    ;\n",
    "\"\"\")"
   ]
  },
  {
   "cell_type": "markdown",
   "metadata": {},
   "source": [
    "### 5. Koppelen personen en boeken"
   ]
  },
  {
   "cell_type": "code",
   "execution_count": null,
   "metadata": {},
   "outputs": [],
   "source": [
    "# Geldige koppelingen\n",
    "db.query(\"\"\"\n",
    "INSERT INTO KoppelPersoonBoek VALUES\n",
    "(1, 1),\n",
    "(1, 3),\n",
    "(2, 2),\n",
    "(2, 3),\n",
    "(3, 1);\n",
    "\"\"\")"
   ]
  },
  {
   "cell_type": "code",
   "execution_count": null,
   "metadata": {},
   "outputs": [],
   "source": [
    "db.query(\"SELECT * FROM KoppelPersoonBoek\")"
   ]
  },
  {
   "cell_type": "code",
   "execution_count": null,
   "metadata": {},
   "outputs": [],
   "source": [
    "db.query(\"\"\"\n",
    "SELECT *\n",
    "FROM Personen prs\n",
    "LEFT JOIN KoppelPersoonBoek kpl ON prs.Id = kpl.PersoonId\n",
    "LEFT JOIN Boeken bkn ON kpl.BoekId = bkn.Id\n",
    "\"\"\")"
   ]
  },
  {
   "cell_type": "code",
   "execution_count": null,
   "metadata": {},
   "outputs": [],
   "source": [
    "# Duplicaat record geeft foutmelding\n",
    "db.query(\"\"\"\n",
    "INSERT INTO KoppelPersoonBoek VALUES\n",
    "(1, 1);\n",
    "\"\"\")"
   ]
  },
  {
   "cell_type": "code",
   "execution_count": null,
   "metadata": {},
   "outputs": [],
   "source": [
    "# Ongeldig persoon geeft foutmelding\n",
    "db.query(\"\"\"\n",
    "INSERT INTO KoppelPersoonBoek VALUES\n",
    "(4, 1);\n",
    "\"\"\")"
   ]
  },
  {
   "cell_type": "code",
   "execution_count": null,
   "metadata": {},
   "outputs": [],
   "source": [
    "# Ongeldig boek geeft foutmelding\n",
    "db.query(\"\"\"\n",
    "INSERT INTO KoppelPersoonBoek VALUES\n",
    "(1, 4);\n",
    "\"\"\")"
   ]
  },
  {
   "cell_type": "markdown",
   "metadata": {},
   "source": [
    "### 4. Rijen wijzigingen"
   ]
  },
  {
   "cell_type": "code",
   "execution_count": null,
   "metadata": {},
   "outputs": [],
   "source": [
    "db.query(\"SELECT * FROM KoppelPersoonBoek;\")"
   ]
  },
  {
   "cell_type": "code",
   "execution_count": null,
   "metadata": {},
   "outputs": [],
   "source": [
    "db.query(\"\"\"\n",
    "UPDATE Personen SET Id = 4 WHERE Id = 1;\n",
    "\"\"\")"
   ]
  },
  {
   "cell_type": "code",
   "execution_count": null,
   "metadata": {},
   "outputs": [],
   "source": [
    "db.query(\"SELECT * FROM Personen;\")"
   ]
  },
  {
   "cell_type": "code",
   "execution_count": null,
   "metadata": {},
   "outputs": [],
   "source": [
    "db.query(\"SELECT * FROM KoppelPersoonBoek;\")"
   ]
  },
  {
   "cell_type": "code",
   "execution_count": null,
   "metadata": {},
   "outputs": [],
   "source": []
  },
  {
   "cell_type": "markdown",
   "metadata": {},
   "source": [
    "### 5. Rijen verwijderen"
   ]
  },
  {
   "cell_type": "code",
   "execution_count": null,
   "metadata": {},
   "outputs": [],
   "source": [
    "db.query(\"\"\"DELETE FROM Boeken WHERE Id = 1;\"\"\")"
   ]
  },
  {
   "cell_type": "code",
   "execution_count": null,
   "metadata": {},
   "outputs": [],
   "source": [
    "db.query(\"SELECT * FROM Boeken;\")"
   ]
  },
  {
   "cell_type": "code",
   "execution_count": null,
   "metadata": {},
   "outputs": [],
   "source": [
    "db.query(\"SELECT * FROM KoppelPersoonBoek;\")"
   ]
  },
  {
   "cell_type": "code",
   "execution_count": null,
   "metadata": {},
   "outputs": [],
   "source": []
  }
 ],
 "metadata": {
  "kernelspec": {
   "display_name": "Python [conda env:jupyter] *",
   "language": "python",
   "name": "conda-env-jupyter-py"
  },
  "language_info": {
   "codemirror_mode": {
    "name": "ipython",
    "version": 3
   },
   "file_extension": ".py",
   "mimetype": "text/x-python",
   "name": "python",
   "nbconvert_exporter": "python",
   "pygments_lexer": "ipython3",
   "version": "3.7.7"
  }
 },
 "nbformat": 4,
 "nbformat_minor": 4
}
