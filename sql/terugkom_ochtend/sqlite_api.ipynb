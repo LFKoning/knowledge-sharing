{
 "cells": [
  {
   "cell_type": "markdown",
   "metadata": {},
   "source": [
    "# SQLite API"
   ]
  },
  {
   "cell_type": "code",
   "execution_count": null,
   "metadata": {},
   "outputs": [],
   "source": [
    "import os\n",
    "import sqlite3"
   ]
  },
  {
   "cell_type": "code",
   "execution_count": null,
   "metadata": {},
   "outputs": [],
   "source": [
    "database_file = \"sqlite_api.db\""
   ]
  },
  {
   "cell_type": "markdown",
   "metadata": {},
   "source": [
    "#### Connection"
   ]
  },
  {
   "cell_type": "code",
   "execution_count": null,
   "metadata": {},
   "outputs": [],
   "source": [
    "# Connectie maken; SQLite gebruikt een bestand\n",
    "connection = sqlite3.connect(database_file)\n",
    "type(connection)"
   ]
  },
  {
   "cell_type": "code",
   "execution_count": null,
   "metadata": {},
   "outputs": [],
   "source": [
    "# Bestand is in gebruik (\"locked\")\n",
    "os.remove(database_file)"
   ]
  },
  {
   "cell_type": "code",
   "execution_count": null,
   "metadata": {},
   "outputs": [],
   "source": [
    "# Conenctie sluiten, geeft bestand vrij\n",
    "connection.close()\n",
    "os.remove(database_file)"
   ]
  },
  {
   "cell_type": "markdown",
   "metadata": {},
   "source": [
    "#### Cursor"
   ]
  },
  {
   "cell_type": "code",
   "execution_count": null,
   "metadata": {},
   "outputs": [],
   "source": [
    "# Connectie en cursor aanmaken\n",
    "connection = sqlite3.connect(database_file)\n",
    "cursor = connection.cursor()\n",
    "type(cursor)"
   ]
  },
  {
   "cell_type": "code",
   "execution_count": null,
   "metadata": {},
   "outputs": [],
   "source": [
    "# Eigenschappen van het Cursor object\n",
    "[_ for _ in dir(cursor) if not _.startswith(\"_\")]"
   ]
  },
  {
   "cell_type": "code",
   "execution_count": null,
   "metadata": {},
   "outputs": [],
   "source": [
    "# Gebruik executescript() om meerdere queries tegelijk te doen\n",
    "cursor.executescript(\"\"\"\n",
    "    CREATE TABLE Personen (\n",
    "        PersoonId INTEGER PRIMARY KEY,\n",
    "        Voornaam TEXT NOT NULL,\n",
    "        Achternaam TEXT NOT NULL\n",
    "    );\n",
    "\n",
    "    CREATE INDEX IDX_Achternaam\n",
    "        ON Personen(Achternaam);\n",
    "\n",
    "    \n",
    "\"\"\")"
   ]
  },
  {
   "cell_type": "code",
   "execution_count": null,
   "metadata": {},
   "outputs": [],
   "source": [
    "# Gebruike execute() om een enkele query te doen\n",
    "cursor.execute(\"\"\"\n",
    "    INSERT INTO Personen (Voornaam, Achternaam)\n",
    "        VALUES ('Pieter', 'Cornelissen')\n",
    "\"\"\")"
   ]
  },
  {
   "cell_type": "code",
   "execution_count": null,
   "metadata": {},
   "outputs": [],
   "source": [
    "# Check aantal rijen dat bewerkt is door de query\n",
    "cursor.rowcount"
   ]
  },
  {
   "cell_type": "code",
   "execution_count": null,
   "metadata": {},
   "outputs": [],
   "source": [
    "# Check laatste PersoonId dat gegenereerd is\n",
    "cursor.lastrowid"
   ]
  },
  {
   "cell_type": "code",
   "execution_count": null,
   "metadata": {},
   "outputs": [],
   "source": [
    "# Haal alle resultaten van een query op\n",
    "# Merk op: Lijst met tuples, veldnamen ontbreken...\n",
    "cursor.execute(\"SELECT * FROM Personen\")\n",
    "cursor.fetchall()"
   ]
  },
  {
   "cell_type": "markdown",
   "metadata": {},
   "source": [
    "#### Row"
   ]
  },
  {
   "cell_type": "code",
   "execution_count": null,
   "metadata": {},
   "outputs": [],
   "source": [
    "# Via row_factory kun je meer info ophalen\n",
    "cursor.row_factory = sqlite3.Row\n",
    "\n",
    "\n",
    "cursor.execute(\"SELECT * FROM Producten\")\n",
    "row = cursor.fetchone()\n",
    "\n",
    "row"
   ]
  },
  {
   "cell_type": "code",
   "execution_count": null,
   "metadata": {},
   "outputs": [],
   "source": [
    "# Namen van de kolommen\n",
    "row.keys()"
   ]
  },
  {
   "cell_type": "code",
   "execution_count": null,
   "metadata": {},
   "outputs": [],
   "source": [
    "# Enkele kolom ophalen\n",
    "row[\"Omschrijving\"]"
   ]
  },
  {
   "cell_type": "code",
   "execution_count": null,
   "metadata": {},
   "outputs": [],
   "source": [
    "# Hele rij als dict\n",
    "dict(row)"
   ]
  },
  {
   "cell_type": "code",
   "execution_count": null,
   "metadata": {},
   "outputs": [],
   "source": [
    "# Alternatieve manier om kolom informatie te achterhalen\n",
    "cursor.description"
   ]
  },
  {
   "cell_type": "code",
   "execution_count": null,
   "metadata": {},
   "outputs": [],
   "source": [
    "# Afsluiten en opruimen\n",
    "try:\n",
    "    connection.close()\n",
    "    os.remove(database_file)\n",
    "except FileNotFoundError:\n",
    "    pass\n",
    "except PermissionError:\n",
    "    print(f\"Fout: De database {database_file!r} is nog open!\")"
   ]
  },
  {
   "cell_type": "code",
   "execution_count": null,
   "metadata": {},
   "outputs": [],
   "source": []
  }
 ],
 "metadata": {
  "kernelspec": {
   "display_name": "Python 3.8.8 ('azure-ml')",
   "language": "python",
   "name": "python3"
  },
  "language_info": {
   "codemirror_mode": {
    "name": "ipython",
    "version": 3
   },
   "file_extension": ".py",
   "mimetype": "text/x-python",
   "name": "python",
   "nbconvert_exporter": "python",
   "pygments_lexer": "ipython3",
   "version": "3.8.8"
  },
  "orig_nbformat": 4,
  "vscode": {
   "interpreter": {
    "hash": "61bbf46a9d1db64ea516f5aa3c75047a42dd6a864d1506e162cf79abef4e442b"
   }
  }
 },
 "nbformat": 4,
 "nbformat_minor": 2
}
