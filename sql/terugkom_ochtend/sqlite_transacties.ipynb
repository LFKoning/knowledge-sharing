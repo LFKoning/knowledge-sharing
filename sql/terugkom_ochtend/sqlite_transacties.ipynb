{
 "cells": [
  {
   "cell_type": "markdown",
   "metadata": {},
   "source": [
    "## SQL Transacties"
   ]
  },
  {
   "cell_type": "markdown",
   "metadata": {},
   "source": [
    "Door transacties te gebruiken kun je SQL queries \"bundelen\". Als een query faalt, kun je alle queries terugdraaien en de database in originele staat terugbrengen."
   ]
  },
  {
   "cell_type": "code",
   "execution_count": null,
   "metadata": {},
   "outputs": [],
   "source": [
    "import os\n",
    "import sqlite3"
   ]
  },
  {
   "cell_type": "code",
   "execution_count": null,
   "metadata": {},
   "outputs": [],
   "source": [
    "# Maak connectie en cursor\n",
    "database_file = \"sqlite_transacties.db\"\n",
    "connection = sqlite3.connect(database_file)\n",
    "cursor = connection.cursor()"
   ]
  },
  {
   "cell_type": "code",
   "execution_count": null,
   "metadata": {},
   "outputs": [],
   "source": [
    "# Maak 2 tabellen, merk op dat productnaam UNIQUE moet zijn.\n",
    "cursor.executescript(\"\"\"\n",
    "    CREATE TABLE Producten (\n",
    "        ProductId INTEGER PRIMARY KEY,\n",
    "        Naam TEXT UNIQUE,\n",
    "        Merk TEXT,\n",
    "        Omschrijving TEXT\n",
    "    );\n",
    "\n",
    "    CREATE TABLE ProductKenmerken (\n",
    "        ProductId INTEGER,\n",
    "        Kenmerk TEXT,\n",
    "        Waarde TEXT\n",
    "    );\n",
    "\n",
    "\"\"\")"
   ]
  },
  {
   "cell_type": "code",
   "execution_count": null,
   "metadata": {},
   "outputs": [],
   "source": [
    "# Voeg een aantal producten en kenmerken tegelijk toe\n",
    "try:\n",
    "    cursor.execute(\"BEGIN TRANSACTION\")\n",
    "    \n",
    "    # Voeg productkenmerken toe\n",
    "    cursor.execute(\"\"\"\n",
    "        INSERT INTO ProductKenmerken (ProductId, Kenmerk, Waarde)\n",
    "        VALUES\n",
    "            (1, 'Test Property A', 1),\n",
    "            (1, 'Test Property B', 2),\n",
    "            (1, 'Test Property C', 3)\n",
    "    \"\"\")\n",
    "\n",
    "    # Voeg product toe\n",
    "    cursor.execute(\"\"\"\n",
    "        INSERT INTO Producten (Naam, Merk, Omschrijving)\n",
    "            VALUES('Test Product', 'Test Merk', 'Omschrijving van het testproduct.');\n",
    "    \"\"\")\n",
    "\n",
    "    # Leg de wijzigingen vast\n",
    "    cursor.execute(\"COMMIT\")\n",
    "    print(\"All done!\")\n",
    "\n",
    "except sqlite3.IntegrityError:\n",
    "    \n",
    "    print(\"On nee! Een dubbele product naam!\")\n",
    "    cursor.execute(\"ROLLBACK\")"
   ]
  },
  {
   "cell_type": "code",
   "execution_count": null,
   "metadata": {},
   "outputs": [],
   "source": [
    "cursor.execute(\"SELECT * FROM Producten;\").fetchall()"
   ]
  },
  {
   "cell_type": "code",
   "execution_count": null,
   "metadata": {
    "scrolled": true
   },
   "outputs": [],
   "source": [
    "cursor.execute(\"SELECT * FROM ProductKenmerken;\").fetchall()"
   ]
  },
  {
   "cell_type": "code",
   "execution_count": null,
   "metadata": {},
   "outputs": [],
   "source": [
    "# Afsluiten en opruimen\n",
    "try:\n",
    "    connection.close()\n",
    "    os.remove(database_file)\n",
    "except FileNotFoundError:\n",
    "    pass\n",
    "except PermissionError:\n",
    "    print(f\"Fout: De database {database_file!r} is nog open!\")"
   ]
  },
  {
   "cell_type": "code",
   "execution_count": null,
   "metadata": {},
   "outputs": [],
   "source": []
  }
 ],
 "metadata": {
  "kernelspec": {
   "display_name": "Python 3.9.12 ('jupyter')",
   "language": "python",
   "name": "python3"
  },
  "language_info": {
   "codemirror_mode": {
    "name": "ipython",
    "version": 3
   },
   "file_extension": ".py",
   "mimetype": "text/x-python",
   "name": "python",
   "nbconvert_exporter": "python",
   "pygments_lexer": "ipython3",
   "version": "3.9.12"
  },
  "orig_nbformat": 4,
  "vscode": {
   "interpreter": {
    "hash": "6f41e1df0e4a31ab02d2e25f8f4d40275a11454fc38e96d547a26ca87e1175c0"
   }
  }
 },
 "nbformat": 4,
 "nbformat_minor": 2
}
