{
 "cells": [
  {
   "cell_type": "markdown",
   "metadata": {},
   "source": [
    "## SQL Transacties"
   ]
  },
  {
   "cell_type": "markdown",
   "metadata": {},
   "source": [
    "Door transacties te gebruiken kun je SQL queries \"bundelen\". Als een query faalt, kun je alle queries terugdraaien en de database in originele staat terugbrengen."
   ]
  },
  {
   "cell_type": "code",
   "execution_count": null,
   "metadata": {},
   "outputs": [],
   "source": [
    "import os\n",
    "import sqlite3"
   ]
  },
  {
   "cell_type": "code",
   "execution_count": null,
   "metadata": {},
   "outputs": [],
   "source": [
    "# Maak connectie en cursor\n",
    "database_file = \"sqlite_transacties.db\"\n",
    "connection = sqlite3.connect(database_file)\n",
    "cursor = connection.cursor()"
   ]
  },
  {
   "cell_type": "code",
   "execution_count": null,
   "metadata": {},
   "outputs": [],
   "source": [
    "# Maak 2 tabellen, merk op dat productnaam UNIQUE moet zijn.\n",
    "cursor.executescript(\"\"\"\n",
    "    CREATE TABLE Producten (\n",
    "        ProductId INTEGER PRIMARY KEY,\n",
    "        Naam TEXT UNIQUE,\n",
    "        Merk TEXT,\n",
    "        Omschrijving TEXT\n",
    "    );\n",
    "\n",
    "    CREATE TABLE ProductKenmerken (\n",
    "        ProductId INTEGER,\n",
    "        Kenmerk TEXT,\n",
    "        Waarde TEXT\n",
    "    );\n",
    "\n",
    "\"\"\")"
   ]
  },
  {
   "cell_type": "code",
   "execution_count": null,
   "metadata": {},
   "outputs": [],
   "source": [
    "# Voeg een aantal producten en kenmerken tegelijk toe\n",
    "try:\n",
    "    cursor.execute(\"BEGIN TRANSACTION\")\n",
    "    \n",
    "    # Voeg productkenmerken toe\n",
    "    cursor.execute(\"\"\"\n",
    "        INSERT INTO ProductKenmerken (ProductId, Kenmerk, Waarde)\n",
    "        VALUES\n",
    "            (1, 'Test Property A', 1),\n",
    "            (1, 'Test Property B', 2),\n",
    "            (1, 'Test Property C', 3)\n",
    "    \"\"\")\n",
    "\n",
    "    # Voeg product toe\n",
    "    cursor.execute(\"\"\"\n",
    "        INSERT INTO Producten (Naam, Merk, Omschrijving)\n",
    "            VALUES('Test Product', 'Test Merk', 'Omschrijving van het testproduct.');\n",
    "    \"\"\")\n",
    "\n",
    "    # Leg de wijzigingen vast\n",
    "    cursor.execute(\"COMMIT\")\n",
    "    print(\"All done!\")\n",
    "\n",
    "except sqlite3.IntegrityError:\n",
    "    \n",
    "    print(\"On nee! Een dubbele product naam!\")\n",
    "    cursor.execute(\"ROLLBACK\")"
   ]
  },
  {
   "cell_type": "code",
   "execution_count": null,
   "metadata": {},
   "outputs": [],
   "source": [
    "cursor.execute(\"SELECT * FROM Producten;\").fetchall()"
   ]
  },
  {
   "cell_type": "code",
   "execution_count": null,
   "metadata": {
    "scrolled": true
   },
   "outputs": [],
   "source": [
    "cursor.execute(\"SELECT * FROM ProductKenmerken;\").fetchall()"
   ]
  },
  {
   "cell_type": "code",
   "execution_count": null,
   "metadata": {},
   "outputs": [],
   "source": [
    "# Afsluiten en opruimen\n",
    "try:\n",
    "    connection.close()\n",
    "    os.remove(database_file)\n",
    "except FileNotFoundError:\n",
    "    pass\n",
    "except PermissionError:\n",
    "    print(f\"Fout: De database {database_file!r} is nog open!\")"
   ]
  },
  {
   "cell_type": "code",
   "execution_count": null,
   "metadata": {},
   "outputs": [],
   "source": []
  }
 ],
 "metadata": {
  "kernelspec": {
   "display_name": "Python 3.9.13 ('sql-cursus')",
   "language": "python",
   "name": "python3"
  },
  "language_info": {
   "codemirror_mode": {
    "name": "ipython",
    "version": 3
   },
   "file_extension": ".py",
   "mimetype": "text/x-python",
   "name": "python",
   "nbconvert_exporter": "python",
   "pygments_lexer": "ipython3",
   "version": "3.9.13"
  },
  "orig_nbformat": 4,
  "vscode": {
   "interpreter": {
    "hash": "1ae326f517c64ba141234ceb6118a40b7e9b0643d4250c1ce3dc8f621740f057"
   }
  }
 },
 "nbformat": 4,
 "nbformat_minor": 2
}
