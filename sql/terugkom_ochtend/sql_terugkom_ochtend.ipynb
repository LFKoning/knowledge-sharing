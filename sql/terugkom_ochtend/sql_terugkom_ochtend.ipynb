{
 "cells": [
  {
   "cell_type": "markdown",
   "metadata": {},
   "source": [
    "## Setup"
   ]
  },
  {
   "cell_type": "code",
   "execution_count": null,
   "metadata": {},
   "outputs": [],
   "source": [
    "%load_ext autoreload\n",
    "%autoreload 2"
   ]
  },
  {
   "cell_type": "code",
   "execution_count": null,
   "metadata": {},
   "outputs": [],
   "source": [
    "import sqlite3\n",
    "from database import Database"
   ]
  },
  {
   "cell_type": "code",
   "execution_count": null,
   "metadata": {},
   "outputs": [],
   "source": [
    "db = Database(\"sql_terugkom_ochtend.db\")"
   ]
  },
  {
   "cell_type": "code",
   "execution_count": null,
   "metadata": {},
   "outputs": [],
   "source": []
  },
  {
   "cell_type": "markdown",
   "metadata": {},
   "source": [
    "## Shared vs Unique Properties"
   ]
  },
  {
   "cell_type": "code",
   "execution_count": null,
   "metadata": {},
   "outputs": [],
   "source": [
    "# Product table with common properties\n",
    "# Note: properties as columns\n",
    "db.query(\"DROP TABLE IF EXISTS Products;\")\n",
    "\n",
    "db.query(\"\"\"\n",
    "    CREATE TABLE Products (\n",
    "        id INTEGER,\n",
    "        name TEXT,\n",
    "        brand TEXT,\n",
    "        description TEXT\n",
    "    );\n",
    "\"\"\")\n",
    "\n",
    "db.query(\"\"\"\n",
    "    INSERT INTO Products\n",
    "    VALUES\n",
    "        (1, \"Samsung SSD 1TB\", \"Samsung\", \"Samsung - Solid State Disk - 1 TB - Laadt je data nog sneller!\"),\n",
    "        (2, \"Samsung Monitor 24 inch\", \"Samsung\", \"Samsung Monitor - 24 inch - Supergoed scherm voor data scientist!\")\n",
    "    ;\n",
    "\"\"\")\n",
    "\n",
    "db.query(\"SELECT * FROM Products\")"
   ]
  },
  {
   "cell_type": "code",
   "execution_count": null,
   "metadata": {},
   "outputs": [],
   "source": [
    "# ProductProperties with unique properties\n",
    "# Note: properties as rows\n",
    "db.query(\"DROP TABLE IF EXISTS ProductProperties;\")\n",
    "db.query(\"\"\"\n",
    "    CREATE TABLE ProductProperties (\n",
    "        product_id INTEGER,\n",
    "        label TEXT,\n",
    "        value TEXT\n",
    "    );\n",
    "\"\"\")\n",
    "\n",
    "db.query(\"\"\"\n",
    "    INSERT INTO ProductProperties\n",
    "    VALUES\n",
    "        (1, \"Opslagruimte\", \"1 TB\"),\n",
    "        (1, \"Form factor\", \"2.5 inch\"),\n",
    "        (1, \"Interface\", \"SATA-600\"),\n",
    "        (1, \"Snelheid - Lezen\", \"3.400 MB/s\"),\n",
    "        (1, \"Snelheid - Schrijven\", \"2.300 MB/s\")\n",
    "\"\"\")\n",
    "\n",
    "db.query(\"SELECT * FROM ProductProperties\")"
   ]
  },
  {
   "cell_type": "code",
   "execution_count": null,
   "metadata": {},
   "outputs": [],
   "source": [
    "# Pivot in Pandas (because SQLite doesn't support it...)\n",
    "(\n",
    "    db.query(\"SELECT * FROM ProductProperties\")\n",
    "    .pivot(index=\"product_id\", columns=\"label\", values=\"value\")\n",
    ")"
   ]
  },
  {
   "cell_type": "code",
   "execution_count": null,
   "metadata": {},
   "outputs": [],
   "source": [
    "\"\"\"\n",
    "WITH temp_sales AS (\n",
    "    SELECT\n",
    "        country,\n",
    "        cyear,\n",
    "        sales\n",
    "    FROM dbo.sales_country_year\n",
    ")\n",
    "SELECT\n",
    "    country,\n",
    "    [2012],\n",
    "    [2013],\n",
    "    [2014]\n",
    "FROM temp_sales\n",
    "PIVOT (\n",
    "    SUM(sales)\n",
    "    FOR cyear IN ([2012], [2013], [2014])\n",
    ") AS Pivot;\n",
    "\"\"\""
   ]
  },
  {
   "cell_type": "code",
   "execution_count": null,
   "metadata": {},
   "outputs": [],
   "source": [
    "# Clean up\n",
    "db.query(\"DROP TABLE IF EXISTS Products;\")\n",
    "db.query(\"DROP TABLE IF EXISTS ProductProperties;\")"
   ]
  },
  {
   "cell_type": "code",
   "execution_count": null,
   "metadata": {},
   "outputs": [],
   "source": []
  },
  {
   "cell_type": "markdown",
   "metadata": {},
   "source": [
    "## Transactions"
   ]
  },
  {
   "cell_type": "markdown",
   "metadata": {},
   "source": [
    "Use transactions to \"bundle\" queries together, allowing you to roll back changes if one subquery fails."
   ]
  },
  {
   "cell_type": "code",
   "execution_count": null,
   "metadata": {},
   "outputs": [],
   "source": [
    "db.query(\"DROP TABLE IF EXISTS Products;\")\n",
    "db.query(\"\"\"\n",
    "    CREATE TABLE Products (\n",
    "        id INTEGER PRIMARY KEY,\n",
    "        name TEXT UNIQUE,\n",
    "        brand TEXT,\n",
    "        description TEXT\n",
    "    );\n",
    "\"\"\")"
   ]
  },
  {
   "cell_type": "code",
   "execution_count": null,
   "metadata": {},
   "outputs": [],
   "source": [
    "db.query(\"DROP TABLE IF EXISTS ProductProperties;\")\n",
    "db.query(\"\"\"\n",
    "    CREATE TABLE ProductProperties (\n",
    "        product_id INTEGER,\n",
    "        label TEXT,\n",
    "        value TEXT\n",
    "    );\n",
    "\"\"\")"
   ]
  },
  {
   "cell_type": "code",
   "execution_count": null,
   "metadata": {},
   "outputs": [],
   "source": [
    "db.list_tables()"
   ]
  },
  {
   "cell_type": "code",
   "execution_count": null,
   "metadata": {},
   "outputs": [],
   "source": [
    "# Set up connection for execute script\n",
    "conn = sqlite3.connect(\"sql_terugkom_ochtend.db\")\n",
    "cursor = conn.cursor()"
   ]
  },
  {
   "cell_type": "code",
   "execution_count": null,
   "metadata": {},
   "outputs": [],
   "source": [
    "try:\n",
    "    \n",
    "    cursor.executescript(\"\"\"\n",
    "        BEGIN TRANSACTION;\n",
    "\n",
    "        INSERT INTO ProductProperties (product_id, label, value)\n",
    "        VALUES\n",
    "            (1, 'Test Property A', 1),\n",
    "            (1, 'Test Property B', 2),\n",
    "            (1, 'Test Property C', 3)\n",
    "        ;\n",
    "\n",
    "        INSERT INTO Products (name, brand, description)\n",
    "            VALUES('Test Product', 'Testing', 'Some test product');\n",
    "\n",
    "        COMMIT;\n",
    "    \"\"\")\n",
    "    print(\"All done!\")\n",
    "\n",
    "except sqlite3.IntegrityError:\n",
    "    \n",
    "    print(\"OH NO! Some constraint failed...\")\n",
    "    cursor.execute(\"ROLLBACK;\")"
   ]
  },
  {
   "cell_type": "code",
   "execution_count": null,
   "metadata": {},
   "outputs": [],
   "source": [
    "db.query(\"SELECT * FROM Products;\")"
   ]
  },
  {
   "cell_type": "code",
   "execution_count": null,
   "metadata": {
    "scrolled": true
   },
   "outputs": [],
   "source": [
    "db.query(\"SELECT * FROM ProductProperties;\")"
   ]
  },
  {
   "cell_type": "code",
   "execution_count": null,
   "metadata": {},
   "outputs": [],
   "source": [
    "# Clean up\n",
    "db.query(\"DROP TABLE IF EXISTS Products;\")\n",
    "db.query(\"DROP TABLE IF EXISTS ProductProperties;\")"
   ]
  },
  {
   "cell_type": "code",
   "execution_count": null,
   "metadata": {},
   "outputs": [],
   "source": []
  },
  {
   "cell_type": "markdown",
   "metadata": {},
   "source": [
    "## Upsert: Insert or Update"
   ]
  },
  {
   "cell_type": "markdown",
   "metadata": {},
   "source": [
    "Upsert will try to insert a record, if a conflict occurs it will try to update the existing record.\n",
    "The upsert operation only touches the conflicting row (unlike a regular update statement).\n",
    "\n",
    "\n",
    "**Note: Not part of the SQL standard, each RDBMS will have its own implementation!**"
   ]
  },
  {
   "cell_type": "code",
   "execution_count": null,
   "metadata": {},
   "outputs": [],
   "source": [
    "db.query(\"DROP TABLE IF EXISTS Products;\")\n",
    "db.query(\"\"\"\n",
    "    CREATE TABLE Products (\n",
    "        id INTEGER PRIMARY KEY,\n",
    "        name TEXT UNIQUE,\n",
    "        brand TEXT,\n",
    "        description TEXT,\n",
    "        version INTEGER DEFAULT 0\n",
    "    );\n",
    "\"\"\")"
   ]
  },
  {
   "cell_type": "code",
   "execution_count": null,
   "metadata": {},
   "outputs": [],
   "source": [
    "# Normal insert\n",
    "# Note: Fails after first run due to UNIQUE constraint on name\n",
    "db.query(\"\"\"\n",
    "    INSERT INTO Products (name, brand, description)\n",
    "        VALUES('Test Product', 'Testing', 'Some test product')\n",
    "\"\"\")"
   ]
  },
  {
   "cell_type": "code",
   "execution_count": null,
   "metadata": {},
   "outputs": [],
   "source": [
    "db.query(\"SELECT * FROM Products;\")"
   ]
  },
  {
   "cell_type": "code",
   "execution_count": null,
   "metadata": {},
   "outputs": [],
   "source": [
    "# Use \"upsert\" to update records\n",
    "db.query(\"\"\"\n",
    "    INSERT INTO Products (name, brand, description)\n",
    "        VALUES('Test Product', 'Testing', 'Some updated test product')\n",
    "    ON CONFLICT (name) DO UPDATE SET\n",
    "        name = excluded.name,\n",
    "        brand = excluded.brand,\n",
    "        description = excluded.description,\n",
    "        version = version + 1\n",
    "    ;\n",
    "\"\"\")"
   ]
  },
  {
   "cell_type": "code",
   "execution_count": null,
   "metadata": {},
   "outputs": [],
   "source": [
    "db.query(\"SELECT * FROM Products;\")"
   ]
  },
  {
   "cell_type": "code",
   "execution_count": null,
   "metadata": {},
   "outputs": [],
   "source": [
    "# Clean up\n",
    "db.query(\"DROP TABLE IF EXISTS Products;\")"
   ]
  },
  {
   "cell_type": "code",
   "execution_count": null,
   "metadata": {},
   "outputs": [],
   "source": []
  },
  {
   "cell_type": "markdown",
   "metadata": {},
   "source": [
    "## Recursive queries"
   ]
  },
  {
   "cell_type": "code",
   "execution_count": null,
   "metadata": {},
   "outputs": [],
   "source": [
    "db.query(\"DROP TABLE IF EXISTS Categories;\")\n",
    "db.query(\"\"\"\n",
    "    CREATE TABLE Categories (\n",
    "        id INTEGER,\n",
    "        parent INTEGER,\n",
    "        label TEXT\n",
    "    );\n",
    "\"\"\")"
   ]
  },
  {
   "cell_type": "code",
   "execution_count": null,
   "metadata": {},
   "outputs": [],
   "source": [
    "db.query(\"\"\"\n",
    "    INSERT INTO Categories (id, parent, label)\n",
    "    VALUES\n",
    "        (1, 0, 'Computers'),\n",
    "        (2, 1, 'Harde schijven'),\n",
    "        (3, 2, 'SSD'),\n",
    "        (4, 2, 'HDD'),\n",
    "        (5, 1, 'Monitoren'),\n",
    "        (6, 0, 'Witgoed'),\n",
    "        (7, 6, 'Wasmachines')\n",
    "    ;\n",
    "\"\"\")"
   ]
  },
  {
   "cell_type": "code",
   "execution_count": null,
   "metadata": {},
   "outputs": [],
   "source": [
    "db.query(\"SELECT * FROM Categories;\")"
   ]
  },
  {
   "cell_type": "code",
   "execution_count": null,
   "metadata": {},
   "outputs": [],
   "source": []
  },
  {
   "cell_type": "markdown",
   "metadata": {},
   "source": [
    "**Recursive query format:**"
   ]
  },
  {
   "cell_type": "raw",
   "metadata": {},
   "source": [
    "WITH RECURSIVE [COMMON TABLE EXPR] AS (\n",
    "    \n",
    "    [INITIAL SELECT]\n",
    "    \n",
    "    UNION ALL\n",
    "    \n",
    "    [RECURSIVE SELECT]\n",
    "\n",
    ")\n",
    "[SELECT]"
   ]
  },
  {
   "cell_type": "code",
   "execution_count": null,
   "metadata": {},
   "outputs": [],
   "source": [
    "# Items under main menu item\n",
    "category = \"Computers\"\n",
    "category = \"Witgoed\"\n",
    "\n",
    "db.query(f\"\"\"\n",
    "    WITH RECURSIVE under_item (id, label, level) AS (\n",
    "            SELECT\n",
    "                id,\n",
    "                label,\n",
    "                0\n",
    "            FROM Categories\n",
    "            WHERE label = '{category}'\n",
    "        \n",
    "        UNION ALL\n",
    "        \n",
    "        SELECT\n",
    "            cat.id,\n",
    "            cat.label,\n",
    "            under_item.level + 1\n",
    "        FROM Categories cat\n",
    "        JOIN under_item ON cat.parent=under_item.id\n",
    "    )\n",
    "    SELECT * FROM under_item ORDER BY id\n",
    "    ;\n",
    "\"\"\")"
   ]
  },
  {
   "cell_type": "code",
   "execution_count": null,
   "metadata": {},
   "outputs": [],
   "source": [
    "# Reverse query: Bread crumb trail\n",
    "item = \"SSD\"\n",
    "# item = \"Monitoren\"\n",
    "\n",
    "db.query(f\"\"\"\n",
    "    WITH RECURSIVE above_item (id, parent, label, level) AS (\n",
    "            SELECT\n",
    "                id,\n",
    "                parent,\n",
    "                label,\n",
    "                0\n",
    "            FROM Categories\n",
    "            WHERE label = '{item}'\n",
    "        \n",
    "        UNION ALL\n",
    "        \n",
    "        SELECT\n",
    "            cat.id,\n",
    "            cat.parent,\n",
    "            cat.label,\n",
    "            above_item.level - 1\n",
    "        FROM Categories cat\n",
    "        JOIN above_item ON cat.id=above_item.parent\n",
    "            AND cat.id >= 0\n",
    "    )\n",
    "    SELECT *\n",
    "    FROM above_item\n",
    "    ORDER BY level\n",
    "    ;\n",
    "\"\"\")"
   ]
  },
  {
   "cell_type": "code",
   "execution_count": null,
   "metadata": {},
   "outputs": [],
   "source": [
    "# Clean up\n",
    "db.query(\"DROP TABLE IF EXISTS Categories;\")"
   ]
  },
  {
   "cell_type": "code",
   "execution_count": null,
   "metadata": {},
   "outputs": [],
   "source": []
  },
  {
   "cell_type": "code",
   "execution_count": null,
   "metadata": {},
   "outputs": [],
   "source": []
  }
 ],
 "metadata": {
  "kernelspec": {
   "display_name": "Python 3",
   "language": "python",
   "name": "python3"
  },
  "language_info": {
   "codemirror_mode": {
    "name": "ipython",
    "version": 3
   },
   "file_extension": ".py",
   "mimetype": "text/x-python",
   "name": "python",
   "nbconvert_exporter": "python",
   "pygments_lexer": "ipython3",
   "version": "3.7.7"
  }
 },
 "nbformat": 4,
 "nbformat_minor": 4
}
