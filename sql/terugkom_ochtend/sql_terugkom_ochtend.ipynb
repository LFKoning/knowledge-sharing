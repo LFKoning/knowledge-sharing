{
 "cells": [
  {
   "cell_type": "markdown",
   "metadata": {},
   "source": [
    "## Setup"
   ]
  },
  {
   "cell_type": "code",
   "execution_count": null,
   "metadata": {},
   "outputs": [],
   "source": [
    "# Hack the sys path for import\n",
    "import sys\n",
    "sys.path.insert(0,'..')"
   ]
  },
  {
   "cell_type": "code",
   "execution_count": null,
   "metadata": {},
   "outputs": [],
   "source": [
    "import sqlite3\n",
    "from database import Database"
   ]
  },
  {
   "cell_type": "code",
   "execution_count": null,
   "metadata": {},
   "outputs": [],
   "source": [
    "db = Database(\"sql_terugkom_ochtend.db\")"
   ]
  },
  {
   "cell_type": "code",
   "execution_count": null,
   "metadata": {},
   "outputs": [],
   "source": [
    "# Clean up\n",
    "db.query(\"DROP TABLE IF EXISTS Producten;\")\n",
    "db.query(\"DROP TABLE IF EXISTS ProductKenmerken;\")"
   ]
  },
  {
   "cell_type": "markdown",
   "metadata": {},
   "source": [
    "## Product eigenschappen: Algemeen vs specifiek"
   ]
  },
  {
   "cell_type": "markdown",
   "metadata": {},
   "source": [
    "#### Producten tabel - Alleen algemene kenmerken\n",
    "\n",
    "De producten tabel bevat alleen kenmerken die **ieder** product heeft; naam, merk, omschrijving, et cetera."
   ]
  },
  {
   "cell_type": "code",
   "execution_count": null,
   "metadata": {},
   "outputs": [],
   "source": [
    "db.query(\"\"\"\n",
    "    CREATE TABLE Producten (\n",
    "        ProductId INTEGER,\n",
    "        Naam TEXT,\n",
    "        Merk TEXT,\n",
    "        Omschrijving TEXT\n",
    "    );\n",
    "\"\"\")\n",
    "\n",
    "db.query(\"\"\"\n",
    "    INSERT INTO Producten\n",
    "    VALUES\n",
    "        (1, \"Samsung SSD 1TB\", \"Samsung\", \"Samsung - Solid State Disk - 1 TB - Laadt je data nog sneller!\"),\n",
    "        (2, \"Samsung Monitor 24 inch\", \"Samsung\", \"Samsung Monitor - 24 inch - Supergoed scherm voor data scientist!\")\n",
    "    ;\n",
    "\"\"\")\n",
    "\n",
    "db.query(\"SELECT * FROM Producten\")"
   ]
  },
  {
   "cell_type": "markdown",
   "metadata": {},
   "source": [
    "#### Tabel ProductKenmerken: Specifieke kenmerken\n",
    "\n",
    "Deze kenmerken kunnen verschillen per product (groep), daarom slaan we product, kenmerk en waarde op.\n",
    "Hierdoor blijft het schema van de tabel gelijk voor alle soorten producten!"
   ]
  },
  {
   "cell_type": "code",
   "execution_count": null,
   "metadata": {},
   "outputs": [],
   "source": [
    "db.query(\"\"\"\n",
    "    CREATE TABLE ProductKenmerken (\n",
    "        ProductId INTEGER,\n",
    "        Kenmerk TEXT,\n",
    "        Waarde TEXT\n",
    "    );\n",
    "\"\"\")\n",
    "\n",
    "db.query(\"\"\"\n",
    "    INSERT INTO ProductKenmerken\n",
    "    VALUES\n",
    "        (1, \"Opslagruimte\", \"1 TB\"),\n",
    "        (1, \"Formaat\", \"2.5 inch\"),\n",
    "        (1, \"Aansluiting\", \"SATA-600\"),\n",
    "        (1, \"Snelheid - Lezen\", \"3.400 MB/s\"),\n",
    "        (1, \"Snelheid - Schrijven\", \"2.300 MB/s\")\n",
    "\"\"\")\n",
    "\n",
    "db.query(\"SELECT * FROM ProductKenmerken\")"
   ]
  },
  {
   "cell_type": "markdown",
   "metadata": {},
   "source": [
    "#### Combineren algemene en specifieke kenmerken"
   ]
  },
  {
   "cell_type": "code",
   "execution_count": null,
   "metadata": {},
   "outputs": [],
   "source": [
    "# Pivot in pandas; SQLite ondersteunt geen pivot\n",
    "specifiek = (\n",
    "    db.query(\"SELECT * FROM ProductKenmerken\")\n",
    "    .pivot(index=\"ProductId\", columns=\"Kenmerk\", values=\"Waarde\")\n",
    ")\n",
    "specifiek"
   ]
  },
  {
   "cell_type": "code",
   "execution_count": null,
   "metadata": {},
   "outputs": [],
   "source": [
    "# Haal algemene kenmerken op\n",
    "algemeen = db.query(\"SELECT * FROM Producten\")\n",
    "\n",
    "# Combineer met specifieke kenmerken\n",
    "algemeen.merge(specifiek, on=\"ProductId\", how=\"left\")"
   ]
  },
  {
   "cell_type": "code",
   "execution_count": null,
   "metadata": {},
   "outputs": [],
   "source": []
  },
  {
   "cell_type": "markdown",
   "metadata": {},
   "source": [
    "# SQLite API"
   ]
  },
  {
   "cell_type": "code",
   "execution_count": null,
   "metadata": {},
   "outputs": [],
   "source": [
    "# Connectie maken; SQLite gebruikt een bestand\n",
    "connection = sqlite3.connect(\"sql_terugkom_ochtend.db\")"
   ]
  },
  {
   "cell_type": "code",
   "execution_count": null,
   "metadata": {},
   "outputs": [],
   "source": [
    "# Maak een sqlite3.Cursor aan; deze houdt de status / het resultaat van een query bij\n",
    "cursor = connection.cursor()\n",
    "type(cursor)"
   ]
  },
  {
   "cell_type": "code",
   "execution_count": null,
   "metadata": {},
   "outputs": [],
   "source": [
    "# Eigenschappen van de cursor\n",
    "[_ for _ in dir(cursor) if not _.startswith(\"_\")]"
   ]
  },
  {
   "cell_type": "code",
   "execution_count": null,
   "metadata": {},
   "outputs": [],
   "source": [
    "# Voer een enkele query uit\n",
    "cursor.execute(\"SELECT * FROM Producten\")"
   ]
  },
  {
   "cell_type": "code",
   "execution_count": null,
   "metadata": {},
   "outputs": [],
   "source": [
    "# Haal alle resultaten op\n",
    "# Merk op: Lijst met tuples, veldnamen ontbreken...\n",
    "cursor.fetchall()"
   ]
  },
  {
   "cell_type": "code",
   "execution_count": null,
   "metadata": {},
   "outputs": [],
   "source": [
    "# Via row_factory kun je meer info ophalen\n",
    "cursor.row_factory = sqlite3.Row\n",
    "\n",
    "\n",
    "cursor.execute(\"SELECT * FROM Producten\")\n",
    "row = cursor.fetchone()\n",
    "\n",
    "row"
   ]
  },
  {
   "cell_type": "code",
   "execution_count": null,
   "metadata": {},
   "outputs": [],
   "source": [
    "# Namen van de kolommen\n",
    "row.keys()"
   ]
  },
  {
   "cell_type": "code",
   "execution_count": null,
   "metadata": {},
   "outputs": [],
   "source": [
    "# Enkele kolom ophalen\n",
    "row[\"Omschrijving\"]"
   ]
  },
  {
   "cell_type": "code",
   "execution_count": null,
   "metadata": {},
   "outputs": [],
   "source": [
    "# Hele rij als dict\n",
    "dict(row)"
   ]
  },
  {
   "cell_type": "code",
   "execution_count": null,
   "metadata": {},
   "outputs": [],
   "source": [
    "# Alternatieve manier om kolom informatie te achterhalen\n",
    "cursor.description"
   ]
  },
  {
   "cell_type": "code",
   "execution_count": null,
   "metadata": {},
   "outputs": [],
   "source": [
    "connection.close()"
   ]
  },
  {
   "cell_type": "code",
   "execution_count": null,
   "metadata": {},
   "outputs": [],
   "source": []
  },
  {
   "cell_type": "markdown",
   "metadata": {},
   "source": [
    "## SQL Transacties"
   ]
  },
  {
   "cell_type": "markdown",
   "metadata": {},
   "source": [
    "Door transacties te gebruiken kun je SQL queries \"bundelen\". Als een query faalt, kun je alle queries terugdraaien en de database in originele staat terugbrengen."
   ]
  },
  {
   "cell_type": "code",
   "execution_count": null,
   "metadata": {},
   "outputs": [],
   "source": [
    "# Maak connectie en cursor\n",
    "connection = sqlite3.connect(\"sql_terugkom_ochtend.db\")\n",
    "cursor = connection.cursor()"
   ]
  },
  {
   "cell_type": "code",
   "execution_count": null,
   "metadata": {},
   "outputs": [],
   "source": [
    "# Voer meerdere queries tegelijk uit\n",
    "cursor.executescript(\"\"\"\n",
    "    DROP TABLE IF EXISTS Producten;\n",
    "    DROP TABLE IF EXISTS ProductKenmerken;\n",
    "\n",
    "    CREATE TABLE Producten (\n",
    "        ProductId INTEGER PRIMARY KEY,\n",
    "        Naam TEXT UNIQUE,\n",
    "        Merk TEXT,\n",
    "        Omschrijving TEXT\n",
    "    );\n",
    "\n",
    "    CREATE TABLE ProductKenmerken (\n",
    "        ProductId INTEGER,\n",
    "        Kenmerk TEXT,\n",
    "        Waarde TEXT\n",
    "    );\n",
    "\"\"\")"
   ]
  },
  {
   "cell_type": "code",
   "execution_count": null,
   "metadata": {},
   "outputs": [],
   "source": [
    "db.list_tables()"
   ]
  },
  {
   "cell_type": "code",
   "execution_count": null,
   "metadata": {},
   "outputs": [],
   "source": [
    "# Gaat fout bij tweede keer draaien\n",
    "try:\n",
    "    \n",
    "    cursor.executescript(\"\"\"\n",
    "        BEGIN TRANSACTION;\n",
    "\n",
    "        INSERT INTO ProductKenmerken (ProductId, Kenmerk, Waarde)\n",
    "        VALUES\n",
    "            (1, 'Test Property A', 1),\n",
    "            (1, 'Test Property B', 2),\n",
    "            (1, 'Test Property C', 3)\n",
    "        ;\n",
    "\n",
    "        INSERT INTO Producten (Naam, Merk, Omschrijving)\n",
    "            VALUES('Test Product', 'Test Merk', 'Omschrijving van het testproduct.');\n",
    "\n",
    "        COMMIT;\n",
    "    \"\"\")\n",
    "    print(\"All done!\")\n",
    "\n",
    "except sqlite3.IntegrityError:\n",
    "    \n",
    "    print(\"On nee! Een dubbel product...\")\n",
    "    cursor.execute(\"ROLLBACK;\")"
   ]
  },
  {
   "cell_type": "code",
   "execution_count": null,
   "metadata": {},
   "outputs": [],
   "source": [
    "cursor.execute(\"SELECT * FROM Producten;\").fetchall()"
   ]
  },
  {
   "cell_type": "code",
   "execution_count": null,
   "metadata": {
    "scrolled": true
   },
   "outputs": [],
   "source": [
    "cursor.execute(\"SELECT * FROM ProductKenmerken;\").fetchall()"
   ]
  },
  {
   "cell_type": "code",
   "execution_count": null,
   "metadata": {},
   "outputs": [],
   "source": [
    "connection.close()"
   ]
  },
  {
   "cell_type": "code",
   "execution_count": null,
   "metadata": {},
   "outputs": [],
   "source": []
  },
  {
   "cell_type": "markdown",
   "metadata": {},
   "source": [
    "## Upsert: Insert or Update"
   ]
  },
  {
   "cell_type": "markdown",
   "metadata": {},
   "source": [
    "Upsert will try to insert a record, if a conflict occurs it will try to update the existing record.\n",
    "The upsert operation only touches the conflicting row (unlike a regular update statement).\n",
    "\n",
    "\n",
    "**Note: Not part of the SQL standard, each RDBMS will have its own implementation!**"
   ]
  },
  {
   "cell_type": "code",
   "execution_count": null,
   "metadata": {},
   "outputs": [],
   "source": [
    "db = Database(\"sql_terugkom_ochtend.db\")"
   ]
  },
  {
   "cell_type": "code",
   "execution_count": null,
   "metadata": {},
   "outputs": [],
   "source": [
    "# Maak producten tabel aan\n",
    "db.query(\"DROP TABLE IF EXISTS Products;\")\n",
    "db.query(\"\"\"\n",
    "    CREATE TABLE Products (\n",
    "        id INTEGER PRIMARY KEY,\n",
    "        Naam TEXT UNIQUE,\n",
    "        Merk TEXT,\n",
    "        Omschrijving TEXT,\n",
    "        Versie INTEGER DEFAULT 1\n",
    "    );\n",
    "\"\"\")"
   ]
  },
  {
   "cell_type": "code",
   "execution_count": null,
   "metadata": {},
   "outputs": [],
   "source": [
    "# Normaal INSERT statement\n",
    "db.query(\"\"\"\n",
    "    INSERT INTO Products\n",
    "        (Naam, Merk, Omschrijving)\n",
    "        VALUES('Test Product 1', 'Test Merk', 'Verouderde omschrijving test product.')\n",
    "\"\"\")\n",
    "db.query(\"SELECT * FROM Products;\")"
   ]
  },
  {
   "cell_type": "code",
   "execution_count": null,
   "metadata": {},
   "outputs": [],
   "source": [
    "# Gebruik ON CONFLICT om UPDATE in plaats van INSERT uit te voeren!\n",
    "db.query(\"\"\"\n",
    "    INSERT INTO Products (Naam, Merk, Omschrijving) VALUES\n",
    "        ('Test Product 1', 'Test Merk', 'Omschrijving test product 1'),\n",
    "        ('Test Product 2', 'Test Merk', 'Omschrijving test product 2')\n",
    "        \n",
    "    ON CONFLICT (Naam) DO UPDATE SET\n",
    "        Naam = excluded.Naam,\n",
    "        Merk = excluded.Merk,\n",
    "        Omschrijving = excluded.Omschrijving,\n",
    "        Versie = excluded.Versie + 1\n",
    "    ;\n",
    "\"\"\")"
   ]
  },
  {
   "cell_type": "code",
   "execution_count": null,
   "metadata": {},
   "outputs": [],
   "source": [
    "db.query(\"SELECT * FROM Products;\")"
   ]
  },
  {
   "cell_type": "code",
   "execution_count": null,
   "metadata": {},
   "outputs": [],
   "source": []
  },
  {
   "cell_type": "markdown",
   "metadata": {},
   "source": [
    "## Recursive queries"
   ]
  },
  {
   "cell_type": "code",
   "execution_count": null,
   "metadata": {},
   "outputs": [],
   "source": [
    "db.query(\"DROP TABLE IF EXISTS Categories;\")\n",
    "db.query(\"\"\"\n",
    "    CREATE TABLE Categories (\n",
    "        id INTEGER,\n",
    "        parent INTEGER,\n",
    "        label TEXT\n",
    "    );\n",
    "\"\"\")"
   ]
  },
  {
   "cell_type": "code",
   "execution_count": null,
   "metadata": {},
   "outputs": [],
   "source": [
    "db.query(\"\"\"\n",
    "    INSERT INTO Categories (id, parent, label)\n",
    "    VALUES\n",
    "        (1, 0, 'Computers'),\n",
    "        (2, 1, 'Harde schijven'),\n",
    "        (3, 2, 'SSD'),\n",
    "        (4, 2, 'HDD'),\n",
    "        (5, 1, 'Monitoren'),\n",
    "        (6, 0, 'Witgoed'),\n",
    "        (7, 6, 'Wasmachines')\n",
    "    ;\n",
    "\"\"\")"
   ]
  },
  {
   "cell_type": "code",
   "execution_count": null,
   "metadata": {},
   "outputs": [],
   "source": [
    "db.query(\"SELECT * FROM Categories;\")"
   ]
  },
  {
   "cell_type": "code",
   "execution_count": null,
   "metadata": {},
   "outputs": [],
   "source": []
  },
  {
   "cell_type": "markdown",
   "metadata": {},
   "source": [
    "**Recursive query format:**"
   ]
  },
  {
   "cell_type": "raw",
   "metadata": {},
   "source": [
    "WITH RECURSIVE [COMMON TABLE EXPR] AS (\n",
    "    \n",
    "    [INITIAL SELECT]\n",
    "    \n",
    "    UNION ALL\n",
    "    \n",
    "    [RECURSIVE SELECT]\n",
    "\n",
    ")\n",
    "[SELECT]"
   ]
  },
  {
   "cell_type": "code",
   "execution_count": null,
   "metadata": {},
   "outputs": [],
   "source": [
    "# Items under main menu item\n",
    "category = \"Computers\"\n",
    "category = \"Witgoed\"\n",
    "\n",
    "db.query(f\"\"\"\n",
    "    WITH RECURSIVE under_item (id, label, level) AS (\n",
    "            SELECT\n",
    "                id,\n",
    "                label,\n",
    "                0\n",
    "            FROM Categories\n",
    "            WHERE label = '{category}'\n",
    "        \n",
    "        UNION ALL\n",
    "        \n",
    "        SELECT\n",
    "            cat.id,\n",
    "            cat.label,\n",
    "            under_item.level + 1\n",
    "        FROM Categories cat\n",
    "        JOIN under_item ON cat.parent=under_item.id\n",
    "    )\n",
    "    SELECT * FROM under_item ORDER BY id\n",
    "    ;\n",
    "\"\"\")"
   ]
  },
  {
   "cell_type": "code",
   "execution_count": null,
   "metadata": {},
   "outputs": [],
   "source": [
    "# Reverse query: Bread crumb trail\n",
    "item = \"SSD\"\n",
    "# item = \"Monitoren\"\n",
    "\n",
    "db.query(f\"\"\"\n",
    "    WITH RECURSIVE above_item (id, parent, label, level) AS (\n",
    "            SELECT\n",
    "                id,\n",
    "                parent,\n",
    "                label,\n",
    "                0\n",
    "            FROM Categories\n",
    "            WHERE label = '{item}'\n",
    "        \n",
    "        UNION ALL\n",
    "        \n",
    "        SELECT\n",
    "            cat.id,\n",
    "            cat.parent,\n",
    "            cat.label,\n",
    "            above_item.level - 1\n",
    "        FROM Categories cat\n",
    "        JOIN above_item ON cat.id=above_item.parent\n",
    "            AND cat.id >= 0\n",
    "    )\n",
    "    SELECT *\n",
    "    FROM above_item\n",
    "    ORDER BY level\n",
    "    ;\n",
    "\"\"\")"
   ]
  },
  {
   "cell_type": "code",
   "execution_count": null,
   "metadata": {},
   "outputs": [],
   "source": [
    "# Clean up\n",
    "db.query(\"DROP TABLE IF EXISTS Categories;\")"
   ]
  },
  {
   "cell_type": "code",
   "execution_count": null,
   "metadata": {},
   "outputs": [],
   "source": []
  },
  {
   "cell_type": "code",
   "execution_count": null,
   "metadata": {},
   "outputs": [],
   "source": []
  }
 ],
 "metadata": {
  "kernelspec": {
   "display_name": "Python 3.9.13 ('sql-cursus')",
   "language": "python",
   "name": "python3"
  },
  "language_info": {
   "codemirror_mode": {
    "name": "ipython",
    "version": 3
   },
   "file_extension": ".py",
   "mimetype": "text/x-python",
   "name": "python",
   "nbconvert_exporter": "python",
   "pygments_lexer": "ipython3",
   "version": "3.9.13"
  },
  "vscode": {
   "interpreter": {
    "hash": "1ae326f517c64ba141234ceb6118a40b7e9b0643d4250c1ce3dc8f621740f057"
   }
  }
 },
 "nbformat": 4,
 "nbformat_minor": 4
}
