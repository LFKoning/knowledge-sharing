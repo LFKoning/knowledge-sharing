{
 "cells": [
  {
   "cell_type": "markdown",
   "metadata": {},
   "source": [
    "# Object Basics"
   ]
  },
  {
   "cell_type": "markdown",
   "metadata": {},
   "source": [
    "## Class versus instance"
   ]
  },
  {
   "cell_type": "code",
   "execution_count": null,
   "metadata": {},
   "outputs": [],
   "source": [
    "# Use class keyword to define a class.\n",
    "class Person:\n",
    "    \"\"\"Class for natural persons.\"\"\""
   ]
  },
  {
   "cell_type": "code",
   "execution_count": null,
   "metadata": {},
   "outputs": [],
   "source": [
    "# The class is like a blueprint; use it to create instances like so:\n",
    "henk = Person()\n",
    "ingrid = Person()"
   ]
  },
  {
   "cell_type": "code",
   "execution_count": null,
   "metadata": {},
   "outputs": [],
   "source": [
    "# Both the class and the instances are separate python objects:\n",
    "print(\"ID Person:   \", id(Person))\n",
    "print(\"ID Henk:     \", id(henk))\n",
    "print(\"ID Ingrid:   \", id(ingrid))"
   ]
  },
  {
   "cell_type": "code",
   "execution_count": null,
   "metadata": {},
   "outputs": [],
   "source": []
  },
  {
   "cell_type": "markdown",
   "metadata": {},
   "source": [
    "## Adding behavior"
   ]
  },
  {
   "cell_type": "code",
   "execution_count": null,
   "metadata": {},
   "outputs": [],
   "source": [
    "# Use class keyword to define a class.\n",
    "class Person:\n",
    "    \"\"\"Class for natural persons.\"\"\"\n",
    "    \n",
    "    def hi(self):\n",
    "        \"\"\"Says hello!\"\"\"\n",
    "        \n",
    "        print(\"Hi!\")"
   ]
  },
  {
   "cell_type": "code",
   "execution_count": null,
   "metadata": {},
   "outputs": [],
   "source": [
    "# Use dot to access object methods\n",
    "henk = Person()\n",
    "henk.hi()"
   ]
  },
  {
   "cell_type": "code",
   "execution_count": null,
   "metadata": {},
   "outputs": [],
   "source": []
  },
  {
   "cell_type": "markdown",
   "metadata": {},
   "source": [
    "## Adding state"
   ]
  },
  {
   "cell_type": "code",
   "execution_count": null,
   "metadata": {},
   "outputs": [],
   "source": [
    "# Adding state\n",
    "class Person:\n",
    "    \n",
    "    name = \"Henk\"\n",
    "\n",
    "    def hi(self):\n",
    "        \"\"\"Says hello!\"\"\"\n",
    "        \n",
    "        print(f\"Hi, my name is {self.name}!\")"
   ]
  },
  {
   "cell_type": "code",
   "execution_count": null,
   "metadata": {},
   "outputs": [],
   "source": [
    "# Method has access to object state\n",
    "henk = Person()\n",
    "henk.hi()"
   ]
  },
  {
   "cell_type": "code",
   "execution_count": null,
   "metadata": {},
   "outputs": [],
   "source": [
    "# Oops...\n",
    "ingrid = Person()\n",
    "ingrid.hi()"
   ]
  },
  {
   "cell_type": "code",
   "execution_count": null,
   "metadata": {},
   "outputs": [],
   "source": [
    "# Using dot to set a property\n",
    "ingrid.name = \"Ingrid\"\n",
    "ingrid.hi()"
   ]
  },
  {
   "cell_type": "code",
   "execution_count": null,
   "metadata": {},
   "outputs": [],
   "source": [
    "# Accessing the name proporty\n",
    "ingrid.name"
   ]
  },
  {
   "cell_type": "code",
   "execution_count": null,
   "metadata": {},
   "outputs": [],
   "source": []
  },
  {
   "cell_type": "markdown",
   "metadata": {},
   "source": [
    "## Data Model & Magic Methods"
   ]
  },
  {
   "cell_type": "markdown",
   "metadata": {},
   "source": [
    "Much of the syntax of Python is implemented using magic or `__dunder__` methods. For example, these methods are responsible for adding up two object or getting an item from a list.\n",
    "\n",
    "See: https://docs.python.org/3/reference/datamodel.html"
   ]
  },
  {
   "cell_type": "code",
   "execution_count": null,
   "metadata": {},
   "outputs": [],
   "source": [
    "class Person:\n",
    "    \n",
    "    def __init__(self, name):\n",
    "        \"\"\"Magic method: initializes the state of the object.\"\"\"\n",
    "        \n",
    "        self.name = name\n",
    "        \n",
    "    def hi(self):\n",
    "        \"\"\"Says hello!\"\"\"\n",
    "        \n",
    "        print(f\"Hi, my name is {self.name}!\")"
   ]
  },
  {
   "cell_type": "code",
   "execution_count": null,
   "metadata": {},
   "outputs": [],
   "source": [
    "henk = Person(\"Henk\")\n",
    "henk.hi()"
   ]
  },
  {
   "cell_type": "code",
   "execution_count": null,
   "metadata": {},
   "outputs": [],
   "source": []
  },
  {
   "cell_type": "markdown",
   "metadata": {},
   "source": [
    "### Built Your Own Series"
   ]
  },
  {
   "cell_type": "code",
   "execution_count": null,
   "metadata": {},
   "outputs": [],
   "source": [
    "class Series:\n",
    "    \"\"\"A Series implementation in pure python, because I can!\"\"\"\n",
    "\n",
    "    def __init__(self, values, index=None):\n",
    "        self.values = values\n",
    "        self.index = index or range(len(values))\n",
    "\n",
    "    def __repr__(self):\n",
    "        \"\"\"String representation of the Series.\"\"\"\n",
    "        \n",
    "        if not self.values:\n",
    "            return(\"[]\")\n",
    "        return \"\\n\".join([f\"{k}\\t{v}\" for k, v in zip(self.index, self.values)])\n"
   ]
  },
  {
   "cell_type": "code",
   "execution_count": null,
   "metadata": {},
   "outputs": [],
   "source": [
    "x = Series([1, 2, 3, 4], list(\"abac\"))"
   ]
  },
  {
   "cell_type": "code",
   "execution_count": null,
   "metadata": {},
   "outputs": [],
   "source": [
    "x"
   ]
  },
  {
   "cell_type": "code",
   "execution_count": null,
   "metadata": {},
   "outputs": [],
   "source": []
  },
  {
   "cell_type": "code",
   "execution_count": null,
   "metadata": {},
   "outputs": [],
   "source": [
    "class Series:\n",
    "    \"\"\"A Series implementation in pure python, because I can!\"\"\"\n",
    "\n",
    "    def __init__(self, values, index=None):\n",
    "        self.values = values\n",
    "        self.index = index or range(len(values))\n",
    "\n",
    "    def __repr__(self):\n",
    "        \"\"\"String representation of the Series.\"\"\"\n",
    "        \n",
    "        if not self.values:\n",
    "            return(\"[]\")\n",
    "        return \"\\n\".join([f\"{k}\\t{v}\" for k, v in zip(self.index, self.values)])\n",
    "\n",
    "    ### --- New methods below --- ###\n",
    "    \n",
    "    def __add__(self, const):\n",
    "        \"\"\"Add constant value to the series.\"\"\"\n",
    "    \n",
    "        if not isinstance(const, (int, float)):\n",
    "            raise TypeError(\"Can only add numeric values to a Series.\")\n",
    "        \n",
    "        return Series(\n",
    "            [x + const for x in self.values],\n",
    "            index=self.index\n",
    "        )"
   ]
  },
  {
   "cell_type": "code",
   "execution_count": null,
   "metadata": {},
   "outputs": [],
   "source": [
    "x = Series([1, 2, 3, 4], list(\"abac\"))\n",
    "x"
   ]
  },
  {
   "cell_type": "code",
   "execution_count": null,
   "metadata": {},
   "outputs": [],
   "source": [
    "x + 1"
   ]
  },
  {
   "cell_type": "code",
   "execution_count": null,
   "metadata": {},
   "outputs": [],
   "source": [
    "x += 2\n",
    "x"
   ]
  },
  {
   "cell_type": "code",
   "execution_count": null,
   "metadata": {},
   "outputs": [],
   "source": []
  },
  {
   "cell_type": "code",
   "execution_count": null,
   "metadata": {},
   "outputs": [],
   "source": [
    "class Series:\n",
    "    \"\"\"A Series implementation in pure python, because I can!\"\"\"\n",
    "\n",
    "    def __init__(self, values, index=None):\n",
    "        self.values = values\n",
    "        self.index = index or range(len(values))\n",
    "\n",
    "    def __repr__(self):\n",
    "        \"\"\"String representation of the Series.\"\"\"\n",
    "        \n",
    "        if not self.values:\n",
    "            return(\"[]\")\n",
    "        return \"\\n\".join([f\"{k}\\t{v}\" for k, v in zip(self.index, self.values)])\n",
    "\n",
    "    def __add__(self, const):\n",
    "        \"\"\"Add constant value to the series.\"\"\"\n",
    "    \n",
    "        if not isinstance(const, (int, float)):\n",
    "            raise TypeError(\"Can only add numeric values to a Series.\")\n",
    "        \n",
    "        return Series(\n",
    "            [x + const for x in self.values],\n",
    "            index=self.index\n",
    "        )\n",
    "    \n",
    "    ### --- New methods below --- ###\n",
    "         \n",
    "    def __getitem__(self, key):\n",
    "        \"\"\"Get item using the index key.\"\"\"\n",
    "        \n",
    "        values = [self.values[i] for i, k in enumerate(self.index) if k == key]\n",
    "        \n",
    "        return Series(values, [key] * len(values))\n",
    "        \n",
    "    def __setitem__(self, key, value):\n",
    "        \"\"\"Set item using the index key.\"\"\"\n",
    "        \n",
    "        for i, k in enumerate(self.index):\n",
    "            if k == key:\n",
    "                self.values[i] = value"
   ]
  },
  {
   "cell_type": "code",
   "execution_count": null,
   "metadata": {},
   "outputs": [],
   "source": [
    "x = Series([1, 2, 3, 4], list(\"abac\"))\n",
    "x"
   ]
  },
  {
   "cell_type": "code",
   "execution_count": null,
   "metadata": {},
   "outputs": [],
   "source": [
    "x[\"a\"]"
   ]
  },
  {
   "cell_type": "code",
   "execution_count": null,
   "metadata": {},
   "outputs": [],
   "source": [
    "x[\"nono\"]"
   ]
  },
  {
   "cell_type": "code",
   "execution_count": null,
   "metadata": {},
   "outputs": [],
   "source": []
  },
  {
   "cell_type": "code",
   "execution_count": null,
   "metadata": {},
   "outputs": [],
   "source": [
    "class Series:\n",
    "    \"\"\"A Series implementation in pure python, because I can!\"\"\"\n",
    "\n",
    "    iter_idx = -1\n",
    "    \n",
    "    def __init__(self, values, index=None):\n",
    "        self.values = values\n",
    "        self.index = index or range(len(values))\n",
    "\n",
    "    def __repr__(self):\n",
    "        \"\"\"String representation of the Series.\"\"\"\n",
    "        \n",
    "        if not self.values:\n",
    "            return(\"[]\")\n",
    "        return \"\\n\".join([f\"{k}\\t{v}\" for k, v in zip(self.index, self.values)])\n",
    "\n",
    "\n",
    "    def __add__(self, const):\n",
    "        \"\"\"Add constant value to the series.\"\"\"\n",
    "    \n",
    "        if not isinstance(const, (int, float)):\n",
    "            raise TypeError(\"Can only add numeric values to a Series.\")\n",
    "        \n",
    "        return Series(\n",
    "            [x + const for x in self.values],\n",
    "            index=self.index\n",
    "        )\n",
    "         \n",
    "    def __getitem__(self, key):\n",
    "        \"\"\"Get item using the index key.\"\"\"\n",
    "        \n",
    "        if key not in self.index:\n",
    "            return KeyError(f\"Key {key} not found!\")\n",
    "        \n",
    "        values = [self.values[i] for i, k in enumerate(self.index) if k == key]\n",
    "        \n",
    "        return Series(values, [key] * len(values))\n",
    "        \n",
    "    def __setitem__(self, key, value):\n",
    "        \"\"\"Set item using the index key.\"\"\"\n",
    "        \n",
    "        for i, k in enumerate(self.index):\n",
    "            if k == key:\n",
    "                self.values[i] = value\n",
    "\n",
    "    ### --- New methods below --- ###\n",
    "    \n",
    "    def __iter__(self):\n",
    "        \"\"\"Called when starting iteration.\"\"\"\n",
    "        \n",
    "        self.iter_idx = -1\n",
    "        return self\n",
    "    \n",
    "    def __next__(self):\n",
    "        \"\"\"Called repetitively for each iteration.\"\"\"\n",
    "        \n",
    "        if self.iter_idx < len(self.values) - 1:\n",
    "            self.iter_idx += 1\n",
    "            return self.values[self.iter_idx]\n",
    "        \n",
    "        raise StopIteration()"
   ]
  },
  {
   "cell_type": "code",
   "execution_count": null,
   "metadata": {},
   "outputs": [],
   "source": [
    "x = Series([1, 2, 3, 4], list(\"abac\"))"
   ]
  },
  {
   "cell_type": "code",
   "execution_count": null,
   "metadata": {},
   "outputs": [],
   "source": [
    "for _ in x:\n",
    "    print(_)"
   ]
  },
  {
   "cell_type": "code",
   "execution_count": null,
   "metadata": {},
   "outputs": [],
   "source": [
    "for _ in x[\"a\"]:\n",
    "    print(_)"
   ]
  },
  {
   "cell_type": "code",
   "execution_count": null,
   "metadata": {},
   "outputs": [],
   "source": []
  }
 ],
 "metadata": {
  "kernelspec": {
   "display_name": "Python [conda env:pandas2sql]",
   "language": "python",
   "name": "conda-env-pandas2sql-py"
  },
  "language_info": {
   "codemirror_mode": {
    "name": "ipython",
    "version": 3
   },
   "file_extension": ".py",
   "mimetype": "text/x-python",
   "name": "python",
   "nbconvert_exporter": "python",
   "pygments_lexer": "ipython3",
   "version": "3.7.9"
  }
 },
 "nbformat": 4,
 "nbformat_minor": 4
}
