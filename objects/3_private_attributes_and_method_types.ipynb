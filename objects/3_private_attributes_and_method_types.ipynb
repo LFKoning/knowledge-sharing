{
 "cells": [
  {
   "cell_type": "markdown",
   "metadata": {},
   "source": [
    "# Private / Protected Attributes"
   ]
  },
  {
   "cell_type": "code",
   "execution_count": null,
   "metadata": {},
   "outputs": [],
   "source": [
    "class Person:\n",
    "    \n",
    "    def __init__(self, name, age):\n",
    "        \"\"\"Constructor method setting name and age.\"\"\"\n",
    "        \n",
    "        self.name = name\n",
    "        self.age = self.check_age(age)\n",
    " \n",
    "    def check_age(self, age):\n",
    "        \"\"\"Checks and converts the age to integer.\"\"\"\n",
    "        \n",
    "        try:\n",
    "            age = int(age)\n",
    "        except (ValueError, TypeError):\n",
    "            raise ValueError(\"Age should be a numeric value!\")\n",
    "        \n",
    "        if not 0 < age < 120:\n",
    "            raise ValueError(\"Invalid age provided!\")\n",
    "        \n",
    "        return age\n",
    "\n",
    "    def __repr__(self):\n",
    "        return f\"Person(name={self.name}, age={self.age})\""
   ]
  },
  {
   "cell_type": "code",
   "execution_count": null,
   "metadata": {},
   "outputs": [],
   "source": [
    "# Nice, the check works!\n",
    "henk = Person(\"Henk\", 130)"
   ]
  },
  {
   "cell_type": "code",
   "execution_count": null,
   "metadata": {},
   "outputs": [],
   "source": [
    "# User can still set an invalid age... :-(\n",
    "henk = Person(\"Henk\", 13)\n",
    "henk.age = 130\n",
    "henk"
   ]
  },
  {
   "cell_type": "code",
   "execution_count": null,
   "metadata": {},
   "outputs": [],
   "source": []
  },
  {
   "cell_type": "code",
   "execution_count": null,
   "metadata": {},
   "outputs": [],
   "source": [
    "class Person:\n",
    "    \n",
    "    def __init__(self, name, age):\n",
    "        \"\"\"Constructor method setting name and age.\"\"\"\n",
    "        \n",
    "        # Note the underscores!\n",
    "        self._name = name\n",
    "        self._age = self._check_age(age)\n",
    " \n",
    "    # Note: applies to methods too.\n",
    "    def _check_age(self, age):\n",
    "        \"\"\"Checks and converts the age to integer.\"\"\"\n",
    "        \n",
    "        try:\n",
    "            age = int(age)\n",
    "        except (ValueError, TypeError):\n",
    "            raise ValueError(\"Age should be a numeric value!\")\n",
    "        \n",
    "        if not 0 < age < 120:\n",
    "            raise ValueError(\"Invalid age provided!\")\n",
    "        \n",
    "        return age\n",
    "\n",
    "    def __repr__(self):\n",
    "        return f\"Person(name={self._name}, age={self._age})\""
   ]
  },
  {
   "cell_type": "code",
   "execution_count": null,
   "metadata": {},
   "outputs": [],
   "source": [
    "henk = Person(\"Henk\", 13)\n",
    "henk"
   ]
  },
  {
   "cell_type": "code",
   "execution_count": null,
   "metadata": {},
   "outputs": [],
   "source": [
    "# It's just a hint, easy to bypass\n",
    "henk._age = 130\n",
    "henk"
   ]
  },
  {
   "cell_type": "code",
   "execution_count": null,
   "metadata": {},
   "outputs": [],
   "source": []
  },
  {
   "cell_type": "code",
   "execution_count": null,
   "metadata": {},
   "outputs": [],
   "source": [
    "class Person:\n",
    "    \n",
    "    def __init__(self, name, age):\n",
    "        \"\"\"Constructor method setting name and age.\"\"\"\n",
    "        \n",
    "        # Note the double underscores!\n",
    "        self.__name = name\n",
    "        self.__age = self.__check_age(age)\n",
    " \n",
    "    def __check_age(self, age):\n",
    "        \"\"\"Checks and converts the age to integer.\"\"\"\n",
    "        \n",
    "        try:\n",
    "            age = int(age)\n",
    "        except (ValueError, TypeError):\n",
    "            raise ValueError(\"Age should be a numeric value!\")\n",
    "        \n",
    "        if not 0 < age < 120:\n",
    "            raise ValueError(\"Invalid age provided!\")\n",
    "        \n",
    "        return age\n",
    "\n",
    "    def __repr__(self):\n",
    "        return f\"Person(name={self.__name}, age={self.__age})\""
   ]
  },
  {
   "cell_type": "code",
   "execution_count": null,
   "metadata": {},
   "outputs": [],
   "source": [
    "henk = Person(\"Henk\", 13)\n",
    "henk"
   ]
  },
  {
   "cell_type": "code",
   "execution_count": null,
   "metadata": {},
   "outputs": [],
   "source": [
    "# The protected attribute is not readable?\n",
    "henk.__age"
   ]
  },
  {
   "cell_type": "code",
   "execution_count": null,
   "metadata": {},
   "outputs": [],
   "source": [
    "# What if we write to it?\n",
    "henk.__age = 130\n",
    "henk.__age"
   ]
  },
  {
   "cell_type": "code",
   "execution_count": null,
   "metadata": {},
   "outputs": [],
   "source": [
    "# Still the correct value!\n",
    "henk"
   ]
  },
  {
   "cell_type": "code",
   "execution_count": null,
   "metadata": {},
   "outputs": [],
   "source": [
    "# Note the top 3 items\n",
    "henk = Person(\"Henk\", 13)\n",
    "dir(henk)"
   ]
  },
  {
   "cell_type": "code",
   "execution_count": null,
   "metadata": {},
   "outputs": [],
   "source": [
    "# Can still hack it...\n",
    "henk._Person__age = 130\n",
    "henk"
   ]
  },
  {
   "cell_type": "code",
   "execution_count": null,
   "metadata": {},
   "outputs": [],
   "source": [
    "# Same way to access the protected method...\n",
    "henk._Person__check_age(130)"
   ]
  },
  {
   "cell_type": "code",
   "execution_count": null,
   "metadata": {},
   "outputs": [],
   "source": []
  },
  {
   "cell_type": "markdown",
   "metadata": {},
   "source": [
    "## Getter / setter methods"
   ]
  },
  {
   "cell_type": "code",
   "execution_count": null,
   "metadata": {},
   "outputs": [],
   "source": [
    "class Person:\n",
    "    \n",
    "    def __init__(self, name, age):\n",
    "        \"\"\"Constructor method setting name and age.\"\"\"\n",
    "        \n",
    "        self._name = name\n",
    "        self._age = self._check_age(age)\n",
    " \n",
    "    def _check_age(self, age):\n",
    "        \"\"\"Checks and converts the age to integer.\"\"\"\n",
    "        \n",
    "        try:\n",
    "            age = int(age)\n",
    "        except (ValueError, TypeError):\n",
    "            raise ValueError(\"Age should be a numeric value!\")\n",
    "        \n",
    "        if not 0 < age < 120:\n",
    "            raise ValueError(\"Invalid age provided!\")\n",
    "        \n",
    "        return age\n",
    "\n",
    "    def __repr__(self):\n",
    "        return f\"Person(name={self._name}, age={self._age})\"\n",
    "    \n",
    "    def get_age(self):\n",
    "        \"\"\"Gettter function for age.\"\"\"\n",
    "        \n",
    "        return self._age\n",
    "\n",
    "    def set_age(self, age):\n",
    "        \"\"\"Setter function for age, includes check.\"\"\"\n",
    "        \n",
    "        self._age = self._check_age(age)\n"
   ]
  },
  {
   "cell_type": "code",
   "execution_count": null,
   "metadata": {},
   "outputs": [],
   "source": [
    "ingrid = Person(\"Ingrid\", 31)\n",
    "ingrid"
   ]
  },
  {
   "cell_type": "code",
   "execution_count": null,
   "metadata": {},
   "outputs": [],
   "source": [
    "ingrid.set_age(32)\n",
    "ingrid"
   ]
  },
  {
   "cell_type": "code",
   "execution_count": null,
   "metadata": {},
   "outputs": [],
   "source": [
    "ingrid.get_age()"
   ]
  },
  {
   "cell_type": "code",
   "execution_count": null,
   "metadata": {},
   "outputs": [],
   "source": []
  },
  {
   "cell_type": "code",
   "execution_count": null,
   "metadata": {},
   "outputs": [],
   "source": [
    "class Person:\n",
    "    \n",
    "    def __init__(self, name, age):\n",
    "        \"\"\"Constructor method setting name and age.\"\"\"\n",
    "        \n",
    "        self._name = name\n",
    "        self.age = age\n",
    " \n",
    "    def _check_age(self, age):\n",
    "        \"\"\"Checks and converts the age to integer.\"\"\"\n",
    "        \n",
    "        try:\n",
    "            age = int(age)\n",
    "        except (ValueError, TypeError):\n",
    "            raise ValueError(\"Age should be a numeric value!\")\n",
    "        \n",
    "        if not 0 < age < 120:\n",
    "            raise ValueError(\"Invalid age provided!\")\n",
    "        \n",
    "        return age\n",
    "\n",
    "    def __repr__(self):\n",
    "        return f\"Person(name={self._name}, age={self._age})\"\n",
    "    \n",
    "    @property\n",
    "    def age(self):\n",
    "        \"\"\"Gettter function for age.\"\"\"\n",
    "        \n",
    "        return self._age\n",
    "\n",
    "    @age.setter\n",
    "    def age(self, age):\n",
    "        \"\"\"Setter function for age, includes check.\"\"\"\n",
    "        \n",
    "        self._age = self._check_age(age)\n"
   ]
  },
  {
   "cell_type": "code",
   "execution_count": null,
   "metadata": {},
   "outputs": [],
   "source": [
    "ingrid = Person(\"Ingrid\", 31)\n",
    "ingrid"
   ]
  },
  {
   "cell_type": "code",
   "execution_count": null,
   "metadata": {},
   "outputs": [],
   "source": [
    "ingrid.age"
   ]
  },
  {
   "cell_type": "code",
   "execution_count": null,
   "metadata": {},
   "outputs": [],
   "source": [
    "ingrid.age = 130"
   ]
  },
  {
   "cell_type": "code",
   "execution_count": null,
   "metadata": {},
   "outputs": [],
   "source": [
    "Person(\"Henk\", 130)"
   ]
  },
  {
   "cell_type": "code",
   "execution_count": null,
   "metadata": {},
   "outputs": [],
   "source": []
  },
  {
   "cell_type": "markdown",
   "metadata": {},
   "source": [
    "## Static / Class Methods"
   ]
  },
  {
   "cell_type": "code",
   "execution_count": null,
   "metadata": {},
   "outputs": [],
   "source": []
  }
 ],
 "metadata": {
  "kernelspec": {
   "display_name": "Python [conda env:jupyter] *",
   "language": "python",
   "name": "conda-env-jupyter-py"
  },
  "language_info": {
   "codemirror_mode": {
    "name": "ipython",
    "version": 3
   },
   "file_extension": ".py",
   "mimetype": "text/x-python",
   "name": "python",
   "nbconvert_exporter": "python",
   "pygments_lexer": "ipython3",
   "version": "3.7.7"
  }
 },
 "nbformat": 4,
 "nbformat_minor": 4
}
