{
 "cells": [
  {
   "cell_type": "markdown",
   "metadata": {},
   "source": [
    "# Class Inheritance"
   ]
  },
  {
   "cell_type": "markdown",
   "metadata": {},
   "source": [
    "Imagine a project with data from 2 sensors. The data for both sensors is logged daily into delimited text files, like so:\n",
    "\n",
    "\n",
    "```\n",
    "data/\n",
    "    |\n",
    "    +-- sensor_a/\n",
    "    |   |\n",
    "    |   +-- 20200101.dat\n",
    "    |   +-- 20200102.dat\n",
    "    |   +-- ...\n",
    "    |\n",
    "    +-- sensor_b/\n",
    "        |\n",
    "        +-- 20200101.dat\n",
    "        +-- 20200102.dat\n",
    "        +-- ...\n",
    "```\n",
    "\n",
    "While the file structure is the same, the format of the files is different. Sensor A logs *every second* in a format that looks like this:\n",
    "\n",
    "Sample sensor A:\n",
    "\n",
    "```\n",
    "TIME;TEMP;HUM\n",
    "2020-01-01 14:00:00;20.1;40.0\n",
    "2020-01-01 14:00:01;20.2;39.8\n",
    "2020-01-01 14:00:02;20.3;40.0\n",
    "2020-01-01 14:00:03;20.3;40.2\n",
    "2020-01-01 14:00:04;20.3;40.0\n",
    "```\n",
    "\n",
    "Sensor A logs *every minute* in a format that looks like this:\n",
    "\n",
    "Sample sensor B:\n",
    "\n",
    "```\n",
    "TS|CO2|NO2\n",
    "1577887200|602.200|1.973\n",
    "1577887260|599.917|2.270\n",
    "1577887320|598.083|2.842\n",
    "1577887380|596.600|2.590\n",
    "1577887440|599.083|2.692\n",
    "```\n",
    "\n",
    "Note the difference in time notation and use of a different delimiter character."
   ]
  },
  {
   "cell_type": "markdown",
   "metadata": {},
   "source": [
    "## The Base Reader Class"
   ]
  },
  {
   "cell_type": "code",
   "execution_count": null,
   "metadata": {},
   "outputs": [],
   "source": [
    "import pandas as pd\n",
    "\n",
    "\n",
    "class DataReader:\n",
    "    \"\"\"Class for reading delimited text files\"\"\"\n",
    "\n",
    "    # Set delimited file parameters\n",
    "    # Note: see pd.read_csv for available options\n",
    "    _csv_params = {}\n",
    "    \n",
    "    # Set required columns\n",
    "    required = []\n",
    "    \n",
    "    # Set renaming options\n",
    "    # Note: Supply either a dict or callable\n",
    "    _rename = None\n",
    "        \n",
    "    def _load_file(self, path):\n",
    "        \"\"\"Load delimited file with specified parameters.\"\"\"\n",
    "        \n",
    "        return pd.read_csv(path, **self._csv_params)\n",
    "\n",
    "    def _check_required(self, df):\n",
    "        \"\"\"Checks required columns are present.\"\"\"\n",
    "        \n",
    "        missing = set(self._required) - set(df.columns)\n",
    "        if missing:\n",
    "            raise RuntimeError(\n",
    "                f\"Missing columns in the data: {', '.join(missing)}\"\n",
    "            )\n",
    "\n",
    "    def _rename_columns(self, df):\n",
    "        \"\"\"Renames columns if requested.\"\"\"\n",
    "        \n",
    "        if isinstance(self._rename, (dict, callable)):\n",
    "            return df.rename(columns=self._rename)\n",
    "        \n",
    "    def _process(self, df):\n",
    "        \"\"\"Processes the data after loading it.\"\"\"\n",
    "        \n",
    "        return df\n",
    "            \n",
    "    def load(self, path):\n",
    "        \"\"\"Loads data from the specified path.\"\"\"\n",
    "        \n",
    "        df = self._load_file(path)\n",
    "        self._check_required(df)\n",
    "        \n",
    "        # Process the data\n",
    "        return (\n",
    "            df\n",
    "            .pipe(self._rename_columns)\n",
    "            .pipe(self._process)\n",
    "        )"
   ]
  },
  {
   "cell_type": "markdown",
   "metadata": {},
   "source": [
    "## Processing Sensor A"
   ]
  },
  {
   "cell_type": "code",
   "execution_count": null,
   "metadata": {},
   "outputs": [],
   "source": [
    "class SensorAReader(DataReader):\n",
    "    \"\"\"Class for reading Sensor A data files.\"\"\"\n",
    "\n",
    "    _csv_params = {\"sep\": \";\", \"parse_dates\": [\"TIME\"]}\n",
    "    \n",
    "    _required = [\"TIME\", \"TEMP\", \"HUM\"]\n",
    "    \n",
    "    _rename = {\"TIME\": \"datetime\", \"TEMP\": \"temperature\", \"HUM\": \"humidity_pct\"}\n",
    "    "
   ]
  },
  {
   "cell_type": "code",
   "execution_count": null,
   "metadata": {},
   "outputs": [],
   "source": [
    "SensorAReader().load(\"data/sensor_a/20200101.dat\")"
   ]
  },
  {
   "cell_type": "code",
   "execution_count": null,
   "metadata": {},
   "outputs": [],
   "source": []
  },
  {
   "cell_type": "markdown",
   "metadata": {},
   "source": [
    "## Processing Sensor B"
   ]
  },
  {
   "cell_type": "code",
   "execution_count": null,
   "metadata": {},
   "outputs": [],
   "source": [
    "class SensorBReader(DataReader):\n",
    "    \"\"\"Class for reading Sensor B data files.\"\"\"\n",
    "    \n",
    "    _csv_params = {\"sep\": \"|\"}\n",
    "    \n",
    "    _required = [\"TS\", \"CO2\", \"NO2\"]\n",
    "    \n",
    "    _rename = {\"TS\": \"datetime\"}\n",
    "    \n",
    "    def _process(self, df):\n",
    "        \"\"\"Convert epoch time to datetime\"\"\"\n",
    "\n",
    "        return df.assign(datetime=lambda df: pd.to_datetime(df[\"datetime\"], unit=\"s\"))"
   ]
  },
  {
   "cell_type": "code",
   "execution_count": null,
   "metadata": {},
   "outputs": [],
   "source": [
    "SensorBReader().load(\"data/sensor_b/20200101.dat\")"
   ]
  },
  {
   "cell_type": "code",
   "execution_count": null,
   "metadata": {},
   "outputs": [],
   "source": []
  },
  {
   "cell_type": "markdown",
   "metadata": {},
   "source": [
    "## Inheritance and Object Types"
   ]
  },
  {
   "cell_type": "code",
   "execution_count": null,
   "metadata": {},
   "outputs": [],
   "source": [
    "a_reader = SensorAReader()"
   ]
  },
  {
   "cell_type": "code",
   "execution_count": null,
   "metadata": {},
   "outputs": [],
   "source": [
    "# Type refers to the specific instance type\n",
    "type(a_reader)"
   ]
  },
  {
   "cell_type": "code",
   "execution_count": null,
   "metadata": {},
   "outputs": [],
   "source": [
    "# Can use isinstance for the subclass\n",
    "isinstance(a_reader, SensorAReader)"
   ]
  },
  {
   "cell_type": "code",
   "execution_count": null,
   "metadata": {},
   "outputs": [],
   "source": [
    "# Obviously False for different subclass\n",
    "isinstance(a_reader, SensorBReader)"
   ]
  },
  {
   "cell_type": "code",
   "execution_count": null,
   "metadata": {},
   "outputs": [],
   "source": [
    "# But also matches the base class\n",
    "isinstance(a_reader, DataReader)"
   ]
  },
  {
   "cell_type": "code",
   "execution_count": null,
   "metadata": {},
   "outputs": [],
   "source": [
    "# Explicit check on subclass\n",
    "issubclass(SensorAReader, DataReader)"
   ]
  },
  {
   "cell_type": "code",
   "execution_count": null,
   "metadata": {},
   "outputs": [],
   "source": []
  },
  {
   "cell_type": "markdown",
   "metadata": {},
   "source": [
    "## Accessing the Parent Class"
   ]
  },
  {
   "cell_type": "code",
   "execution_count": null,
   "metadata": {},
   "outputs": [],
   "source": [
    "class DataReader:\n",
    "    \"\"\"DataReader base class.\"\"\"\n",
    "\n",
    "    def __init__(self):\n",
    "        print(\"Hi, I'm the base class!\")\n",
    "\n",
    "\n",
    "class ReaderA(DataReader):\n",
    "    \"\"\"Subclass extending the DataReader class.\"\"\"\n",
    "    \n",
    "    def __init__(self):\n",
    "        \n",
    "        # Use super() function to get access to the parent class\n",
    "        super().__init__()\n",
    "        \n",
    "        print(\"Hi, I'm the subclass!\")\n"
   ]
  },
  {
   "cell_type": "code",
   "execution_count": null,
   "metadata": {},
   "outputs": [],
   "source": [
    "reader_a = ReaderA()"
   ]
  },
  {
   "cell_type": "code",
   "execution_count": null,
   "metadata": {},
   "outputs": [],
   "source": []
  },
  {
   "cell_type": "markdown",
   "metadata": {},
   "source": [
    "## Accessing the subclasses"
   ]
  },
  {
   "cell_type": "markdown",
   "metadata": {},
   "source": [
    "Classes can access thier subclass through their `__subclasses__()` method"
   ]
  },
  {
   "cell_type": "code",
   "execution_count": null,
   "metadata": {},
   "outputs": [],
   "source": [
    "class DataReader:\n",
    "    \"\"\"DataReader base class.\"\"\"\n",
    "    \n",
    "    @classmethod\n",
    "    def available_readers(cls):\n",
    "        return [cls.__name__ for cls in cls.__subclasses__()]\n",
    "\n",
    "class ReaderA(DataReader):\n",
    "    \"\"\"Subclass A extending the base class.\"\"\"\n",
    "\n",
    "class ReaderB(DataReader):\n",
    "    \"\"\"Subclass B extending the base class.\"\"\"\n"
   ]
  },
  {
   "cell_type": "code",
   "execution_count": null,
   "metadata": {},
   "outputs": [],
   "source": [
    "DataReader.available_readers()"
   ]
  },
  {
   "cell_type": "code",
   "execution_count": null,
   "metadata": {},
   "outputs": [],
   "source": []
  }
 ],
 "metadata": {
  "kernelspec": {
   "display_name": "Python [conda env:jupyter] *",
   "language": "python",
   "name": "conda-env-jupyter-py"
  },
  "language_info": {
   "codemirror_mode": {
    "name": "ipython",
    "version": 3
   },
   "file_extension": ".py",
   "mimetype": "text/x-python",
   "name": "python",
   "nbconvert_exporter": "python",
   "pygments_lexer": "ipython3",
   "version": "3.7.7"
  }
 },
 "nbformat": 4,
 "nbformat_minor": 4
}
