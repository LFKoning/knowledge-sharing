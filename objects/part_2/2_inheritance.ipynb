{
 "cells": [
  {
   "cell_type": "markdown",
   "metadata": {},
   "source": [
    "# Class Inheritance"
   ]
  },
  {
   "cell_type": "markdown",
   "metadata": {},
   "source": [
    "Class inheritance allows a class to \"borrow\" properties from another class.\n",
    "\n",
    "By default, the class will inherit all the properties from it's parent / base class.\n",
    "\n",
    "The class can then overwrite the inherited properties and / or add properties of its own."
   ]
  },
  {
   "cell_type": "code",
   "execution_count": null,
   "metadata": {},
   "outputs": [],
   "source": [
    "class BaseClass:\n",
    "    \"\"\"Base Class.\"\"\"\n",
    "\n",
    "    name = \"BaseClass\"\n",
    "    x = 1\n",
    "    \n",
    "    \n",
    "# Note the BaseClass between brackets!\n",
    "class Subclass(BaseClass):\n",
    "    \"\"\"I'm a subclass of BaseClass.\"\"\"\n",
    "    \n",
    "    # Only overwrite the name property\n",
    "    name = \"Subclass\""
   ]
  },
  {
   "cell_type": "code",
   "execution_count": null,
   "metadata": {},
   "outputs": [],
   "source": [
    "# Create instance of the base class\n",
    "base = BaseClass()\n",
    "base.name"
   ]
  },
  {
   "cell_type": "code",
   "execution_count": null,
   "metadata": {},
   "outputs": [],
   "source": [
    "# As expected it has x = 1\n",
    "base.x"
   ]
  },
  {
   "cell_type": "code",
   "execution_count": null,
   "metadata": {},
   "outputs": [],
   "source": [
    "# Create an instance of the BaseSubclass\n",
    "sub = Subclass()\n",
    "sub.name"
   ]
  },
  {
   "cell_type": "code",
   "execution_count": null,
   "metadata": {},
   "outputs": [],
   "source": [
    "# Note how BaseSubclass inherits x = 1 from BaseClass\n",
    "sub.x"
   ]
  },
  {
   "cell_type": "code",
   "execution_count": null,
   "metadata": {},
   "outputs": [],
   "source": []
  },
  {
   "cell_type": "markdown",
   "metadata": {},
   "source": [
    "## A More Practical Example"
   ]
  },
  {
   "cell_type": "markdown",
   "metadata": {},
   "source": [
    "Imagine a project with 2 sensors that both log data in delimited text files. While the file format is similar, there are subtle differences in separators, date format used, et cetera\n",
    "\n",
    "\n",
    "Sensor A logs in this format:\n",
    "\n",
    "```\n",
    "TIME;TEMP;HUM\n",
    "2020-01-01 14:00:00;20.1;40.0\n",
    "2020-01-01 14:00:01;20.2;39.8\n",
    "2020-01-01 14:00:02;20.3;40.0\n",
    "2020-01-01 14:00:03;20.3;40.2\n",
    "2020-01-01 14:00:04;20.3;40.0\n",
    "```\n",
    "\n",
    "Sensor B logs in this format:\n",
    "\n",
    "```\n",
    "TS|CO2|NO2\n",
    "1577887200|602.200|1.973\n",
    "1577887260|599.917|2.270\n",
    "1577887320|598.083|2.842\n",
    "1577887380|596.600|2.590\n",
    "1577887440|599.083|2.692\n",
    "```\n",
    "\n",
    "Note the difference in time notation and use of a different delimiter character."
   ]
  },
  {
   "cell_type": "markdown",
   "metadata": {},
   "source": [
    "### The BaseReader Class"
   ]
  },
  {
   "cell_type": "code",
   "execution_count": null,
   "metadata": {},
   "outputs": [],
   "source": [
    "import pandas as pd\n",
    "\n",
    "\n",
    "class BaseReader:\n",
    "    \"\"\"Class for reading delimited text files\"\"\"\n",
    "\n",
    "    # Set delimited file parameters\n",
    "    # Note: see pd.read_csv for available options\n",
    "    _csv_params = {}\n",
    "    \n",
    "    # Set required columns\n",
    "    _required = []\n",
    "    \n",
    "    # Set renaming options\n",
    "    # Note: Supply either a dict or callable\n",
    "    _rename = None\n",
    "        \n",
    "    def _load_file(self, path):\n",
    "        \"\"\"Load delimited file with specified parameters.\"\"\"\n",
    "        \n",
    "        return pd.read_csv(path, **self._csv_params)\n",
    "\n",
    "    def _check_required(self, df):\n",
    "        \"\"\"Checks required columns are present.\"\"\"\n",
    "        \n",
    "        missing = set(self._required) - set(df.columns)\n",
    "        if missing:\n",
    "            raise RuntimeError(\n",
    "                f\"Missing columns in the data: {', '.join(missing)}\"\n",
    "            )\n",
    "\n",
    "    def _rename_columns(self, df):\n",
    "        \"\"\"Renames columns if requested.\"\"\"\n",
    "        \n",
    "        if isinstance(self._rename, (dict, callable)):\n",
    "            return df.rename(columns=self._rename)\n",
    "        \n",
    "    def post_process(self, df):\n",
    "        \"\"\"Processes the data after loading it.\"\"\"\n",
    "        \n",
    "        return df\n",
    "            \n",
    "    def read(self, path):\n",
    "        \"\"\"Reads delimitied data from the specified path.\"\"\"\n",
    "        \n",
    "        df = self._load_file(path)\n",
    "        self._check_required(df)\n",
    "        \n",
    "        # Process the data\n",
    "        return (\n",
    "            df\n",
    "            .pipe(self._rename_columns)\n",
    "            .pipe(self.post_process)\n",
    "        )"
   ]
  },
  {
   "cell_type": "markdown",
   "metadata": {},
   "source": [
    "### Sensor A Reader"
   ]
  },
  {
   "cell_type": "code",
   "execution_count": null,
   "metadata": {},
   "outputs": [],
   "source": [
    "class SensorAReader(BaseReader):\n",
    "    \"\"\"Class for reading sensor A data files.\"\"\"\n",
    "\n",
    "    _csv_params = {\"sep\": \";\", \"parse_dates\": [\"TIME\"]}\n",
    "    _required = [\"TIME\", \"TEMP\", \"HUM\"]\n",
    "    _rename = {\"TIME\": \"datetime\", \"TEMP\": \"temperature\", \"HUM\": \"humidity_pct\"}"
   ]
  },
  {
   "cell_type": "code",
   "execution_count": null,
   "metadata": {},
   "outputs": [],
   "source": [
    "reader_a = SensorAReader()\n",
    "reader_a.read(\"data/sensor_a/20200101.dat\").head()"
   ]
  },
  {
   "cell_type": "markdown",
   "metadata": {},
   "source": [
    "### Sensor B Reader"
   ]
  },
  {
   "cell_type": "code",
   "execution_count": null,
   "metadata": {},
   "outputs": [],
   "source": [
    "class SensorBReader(BaseReader):\n",
    "    \"\"\"Class for reading sensor B data files.\"\"\"\n",
    "    \n",
    "    _csv_params = {\"sep\": \"|\"}\n",
    "    _required = [\"TS\", \"CO2\", \"NO2\"]\n",
    "    _rename = {\"TS\": \"datetime\"}\n",
    "    \n",
    "    def post_process(self, df):\n",
    "        \"\"\"Convert epoch time to datetime.\"\"\"\n",
    "\n",
    "        return df.assign(datetime=lambda df: pd.to_datetime(df[\"datetime\"], unit=\"s\"))"
   ]
  },
  {
   "cell_type": "code",
   "execution_count": null,
   "metadata": {},
   "outputs": [],
   "source": [
    "reader_b = SensorBReader()\n",
    "reader_b.read(\"data/sensor_b/20200101.dat\").head()"
   ]
  },
  {
   "cell_type": "code",
   "execution_count": null,
   "metadata": {},
   "outputs": [],
   "source": []
  },
  {
   "cell_type": "markdown",
   "metadata": {},
   "source": [
    "## Inheritance and Object Types"
   ]
  },
  {
   "cell_type": "code",
   "execution_count": null,
   "metadata": {},
   "outputs": [],
   "source": [
    "# Type refers to the specific instance type\n",
    "type(reader_a)"
   ]
  },
  {
   "cell_type": "code",
   "execution_count": null,
   "metadata": {},
   "outputs": [],
   "source": [
    "# Can use isinstance for the subclass\n",
    "isinstance(reader_a, SensorAReader)"
   ]
  },
  {
   "cell_type": "code",
   "execution_count": null,
   "metadata": {},
   "outputs": [],
   "source": [
    "# Obviously False for different subclass\n",
    "isinstance(reader_a, SensorBReader)"
   ]
  },
  {
   "cell_type": "code",
   "execution_count": null,
   "metadata": {},
   "outputs": [],
   "source": [
    "# But also matches the base class\n",
    "isinstance(reader_a, BaseReader)"
   ]
  },
  {
   "cell_type": "code",
   "execution_count": null,
   "metadata": {},
   "outputs": [],
   "source": [
    "# Explicit check on subclass\n",
    "issubclass(SensorAReader, BaseReader)"
   ]
  },
  {
   "cell_type": "code",
   "execution_count": null,
   "metadata": {},
   "outputs": [],
   "source": []
  },
  {
   "cell_type": "markdown",
   "metadata": {},
   "source": [
    "## Accessing the Parent Class"
   ]
  },
  {
   "cell_type": "code",
   "execution_count": null,
   "metadata": {},
   "outputs": [],
   "source": [
    "class BaseClass:\n",
    "    \"\"\"Base class.\"\"\"\n",
    "\n",
    "    def __init__(self):\n",
    "        print(\"Called __init__ from BaseClass.\")\n",
    "\n",
    "\n",
    "class Subclass(BaseClass):\n",
    "    \"\"\"Subclass extending BaseClass.\"\"\"\n",
    "    \n",
    "    def __init__(self):\n",
    "        \n",
    "        # Use super() to access the base class\n",
    "        super().__init__()\n",
    "\n",
    "        print(\"Called __init__ from Subclass\")"
   ]
  },
  {
   "cell_type": "code",
   "execution_count": null,
   "metadata": {},
   "outputs": [],
   "source": [
    "sub = Subclass()"
   ]
  },
  {
   "cell_type": "code",
   "execution_count": null,
   "metadata": {},
   "outputs": [],
   "source": []
  },
  {
   "cell_type": "markdown",
   "metadata": {},
   "source": [
    "## Accessing Subclasses"
   ]
  },
  {
   "cell_type": "markdown",
   "metadata": {},
   "source": [
    "Classes can access thier subclasses through the `__subclasses__()` method"
   ]
  },
  {
   "cell_type": "code",
   "execution_count": null,
   "metadata": {},
   "outputs": [],
   "source": [
    "class BaseReader:\n",
    "    \"\"\"Data reader base class.\"\"\"\n",
    "    \n",
    "    @classmethod\n",
    "    def available_readers(cls):\n",
    "        return [cls.__name__ for cls in cls.__subclasses__()]\n",
    "\n",
    "class ReaderA(BaseReader):\n",
    "    \"\"\"Subclass A extending BaseReader.\"\"\"\n",
    "\n",
    "class ReaderB(BaseReader):\n",
    "    \"\"\"Subclass B extending BaseReader.\"\"\"\n"
   ]
  },
  {
   "cell_type": "code",
   "execution_count": null,
   "metadata": {},
   "outputs": [],
   "source": [
    "BaseReader.available_readers()"
   ]
  },
  {
   "cell_type": "code",
   "execution_count": null,
   "metadata": {},
   "outputs": [],
   "source": []
  },
  {
   "cell_type": "markdown",
   "metadata": {},
   "source": [
    "## More Complex Inheritance"
   ]
  },
  {
   "cell_type": "markdown",
   "metadata": {},
   "source": [
    "### Depth: Specialization"
   ]
  },
  {
   "cell_type": "markdown",
   "metadata": {},
   "source": [
    "No limits on the \"depth\" of the inheritance structure; you can create ever more specialized classes."
   ]
  },
  {
   "cell_type": "code",
   "execution_count": null,
   "metadata": {},
   "outputs": [],
   "source": [
    "class Animal:\n",
    "    kingdom = \"Animals\"\n",
    "    \n",
    "class Vertebrate(Animal):\n",
    "    phylum = \"Chordata\"\n",
    "\n",
    "class Mammal(Vertebrate):\n",
    "    class_ = \"Mammals\"\n",
    "\n",
    "class Primate(Mammal):\n",
    "    order = \"Primates\"\n",
    "    \n",
    "class HumanLike(Primate):\n",
    "    family = \"Hominids\"\n",
    "    \n",
    "class ModernHuman(HumanLike):\n",
    "    genus = \"Homo\"\n",
    "    \n",
    "class Human(ModernHuman):\n",
    "    species = \"Homo Sapiens\""
   ]
  },
  {
   "cell_type": "code",
   "execution_count": null,
   "metadata": {},
   "outputs": [],
   "source": [
    "for attr in \"kingdom\", \"phylum\", \"class_\", \"order\", \"family\", \"genus\", \"species\":\n",
    "    print(f\"{attr} = {getattr(Human, attr)}\")"
   ]
  },
  {
   "cell_type": "code",
   "execution_count": null,
   "metadata": {},
   "outputs": [],
   "source": []
  },
  {
   "cell_type": "markdown",
   "metadata": {},
   "source": [
    "### Width: Adaptation"
   ]
  },
  {
   "cell_type": "markdown",
   "metadata": {},
   "source": [
    "Classes can inherit from more than 1 class at the same time. The properties of all base classes are combined:"
   ]
  },
  {
   "cell_type": "code",
   "execution_count": null,
   "metadata": {},
   "outputs": [],
   "source": [
    "class BaseEstimator:\n",
    "    \n",
    "    def fit(self, X, y=None):\n",
    "        \"\"\"Fit method stub.\"\"\"\n",
    "        \n",
    "        pass\n",
    "    \n",
    "    def predict(self, X):\n",
    "        \"\"\"Predict method stub\"\"\"\n",
    "\n",
    "\n",
    "class BoostingMixin:\n",
    "    \n",
    "    def subsample(self, X, y, nsamples):\n",
    "        \"\"\"Create subsamples from the data\"\"\"\n",
    "        \n",
    "        pass\n",
    "    \n",
    "\n",
    "class MyBoost(BaseEstimator, BoostingMixin):\n",
    "    \"\"\"Model class using mix-ins to extend functionality.\"\"\"\n",
    "    \n",
    "    pass"
   ]
  },
  {
   "cell_type": "code",
   "execution_count": null,
   "metadata": {},
   "outputs": [],
   "source": [
    "[_ for _ in dir(MyBoost) if not _.startswith(\"__\")]"
   ]
  },
  {
   "cell_type": "markdown",
   "metadata": {},
   "source": [
    "### Order of inheritance matters!"
   ]
  },
  {
   "cell_type": "code",
   "execution_count": null,
   "metadata": {},
   "outputs": [],
   "source": [
    "class BaseA:\n",
    "    \"\"\"Base class A implementing a test method.\"\"\"\n",
    "    \n",
    "    def test(self):\n",
    "        print(\"Hi, I'm from BaseA!\")\n",
    "        \n",
    "class BaseB:\n",
    "    \"\"\"Base class B also implementing a test method.\"\"\"\n",
    "    \n",
    "    def test(self):\n",
    "        print(\"Hi, I'm from BaseB!\")"
   ]
  },
  {
   "cell_type": "code",
   "execution_count": null,
   "metadata": {},
   "outputs": [],
   "source": [
    "class SubOne(BaseA, BaseB):\n",
    "    \"\"\"Subclass inheriting from A and B.\"\"\""
   ]
  },
  {
   "cell_type": "code",
   "execution_count": null,
   "metadata": {},
   "outputs": [],
   "source": [
    "# Seems left-most base class wins!\n",
    "SubOne().test()"
   ]
  },
  {
   "cell_type": "code",
   "execution_count": null,
   "metadata": {},
   "outputs": [],
   "source": [
    "class SubTwo(BaseB, BaseA):\n",
    "    \"\"\"Subclass inheriting from B and A.\"\"\""
   ]
  },
  {
   "cell_type": "code",
   "execution_count": null,
   "metadata": {},
   "outputs": [],
   "source": [
    "SubTwo().test()"
   ]
  },
  {
   "cell_type": "code",
   "execution_count": null,
   "metadata": {},
   "outputs": [],
   "source": []
  },
  {
   "cell_type": "markdown",
   "metadata": {},
   "source": [
    "## Protected Attributes"
   ]
  },
  {
   "cell_type": "code",
   "execution_count": null,
   "metadata": {},
   "outputs": [],
   "source": [
    "class BaseClass:\n",
    "    \"\"\"Base class.\"\"\"\n",
    "    \n",
    "    normal = \"base\"\n",
    "    __protected = \"base\"\n",
    "\n",
    "    def get_attributes(self):\n",
    "        return f\"normal={self.normal}, protected={self.__protected}\"\n",
    "    \n",
    "class Subclass(BaseClass):\n",
    "    \"\"\"Subclass extending BaseClass.\"\"\"\n",
    "\n",
    "    normal = \"subclass\"\n",
    "    __protected = \"subclass\"\n",
    "\n",
    "    def get_attributes(self):\n",
    "        return f\"normal={self.normal}, protected={self.__protected}\"\n",
    "    \n",
    "    def print_types(self):\n",
    "        print(\"From super: \", super().get_attributes())\n",
    "        print(\"From self:  \", self.get_attributes())"
   ]
  },
  {
   "cell_type": "code",
   "execution_count": null,
   "metadata": {},
   "outputs": [],
   "source": [
    "sub = Subclass()\n",
    "sub.print_types()"
   ]
  },
  {
   "cell_type": "code",
   "execution_count": null,
   "metadata": {},
   "outputs": [],
   "source": [
    "[_ for _ in dir(sub) if not _.startswith(\"__\")]"
   ]
  },
  {
   "cell_type": "code",
   "execution_count": null,
   "metadata": {},
   "outputs": [],
   "source": []
  },
  {
   "cell_type": "markdown",
   "metadata": {},
   "source": [
    "## Abstract Base Classes"
   ]
  },
  {
   "cell_type": "code",
   "execution_count": null,
   "metadata": {},
   "outputs": [],
   "source": [
    "class Polygon:\n",
    "    \n",
    "    def num_sides(self):\n",
    "        raise NotImplementedError(\"All polygons must define a num_sides method!\")"
   ]
  },
  {
   "cell_type": "code",
   "execution_count": null,
   "metadata": {},
   "outputs": [],
   "source": [
    "class Triangle(Shape):\n",
    "    pass"
   ]
  },
  {
   "cell_type": "code",
   "execution_count": null,
   "metadata": {},
   "outputs": [],
   "source": [
    "Triangle().num_sides()"
   ]
  },
  {
   "cell_type": "code",
   "execution_count": null,
   "metadata": {},
   "outputs": [],
   "source": []
  },
  {
   "cell_type": "code",
   "execution_count": null,
   "metadata": {},
   "outputs": [],
   "source": []
  },
  {
   "cell_type": "code",
   "execution_count": null,
   "metadata": {},
   "outputs": [],
   "source": [
    "from abc import ABC, abstractmethod\n",
    "\n",
    "\n",
    "class Polygon(ABC):\n",
    "    \n",
    "    @abstractmethod\n",
    "    def num_sides(self):\n",
    "        pass\n",
    "    \n",
    "class Triangle(Polygon):\n",
    "    pass"
   ]
  },
  {
   "cell_type": "code",
   "execution_count": null,
   "metadata": {},
   "outputs": [],
   "source": [
    "Polygon()"
   ]
  },
  {
   "cell_type": "code",
   "execution_count": null,
   "metadata": {},
   "outputs": [],
   "source": [
    "Triangle()"
   ]
  },
  {
   "cell_type": "code",
   "execution_count": null,
   "metadata": {},
   "outputs": [],
   "source": []
  },
  {
   "cell_type": "code",
   "execution_count": null,
   "metadata": {},
   "outputs": [],
   "source": []
  }
 ],
 "metadata": {
  "kernelspec": {
   "display_name": "Python [conda env:jupyter] *",
   "language": "python",
   "name": "conda-env-jupyter-py"
  },
  "language_info": {
   "codemirror_mode": {
    "name": "ipython",
    "version": 3
   },
   "file_extension": ".py",
   "mimetype": "text/x-python",
   "name": "python",
   "nbconvert_exporter": "python",
   "pygments_lexer": "ipython3",
   "version": "3.7.7"
  }
 },
 "nbformat": 4,
 "nbformat_minor": 4
}
