{
 "cells": [
  {
   "cell_type": "markdown",
   "metadata": {},
   "source": [
    "# Recap Objects - Part 1"
   ]
  },
  {
   "cell_type": "markdown",
   "metadata": {},
   "source": [
    "Objects are a great way to organize your code; they allow you to bundle both state and behavior into a single namespace!"
   ]
  },
  {
   "cell_type": "code",
   "execution_count": null,
   "metadata": {},
   "outputs": [],
   "source": [
    "class Person:\n",
    "    \n",
    "    def __init__(self, name, age):\n",
    "        self.name = name\n",
    "        self.age = age\n",
    "        \n",
    "    def say_hi(self):\n",
    "        print(f\"Hi, my name is {self.name} and I'm {self.age} years old!\")"
   ]
  },
  {
   "cell_type": "code",
   "execution_count": null,
   "metadata": {},
   "outputs": [],
   "source": [
    "henk = Person(\"Henk\", 16)\n",
    "henk.say_hi()"
   ]
  },
  {
   "cell_type": "markdown",
   "metadata": {},
   "source": [
    "#### Things to note:\n",
    "\n",
    "- Classes defined with `class` keyword.\n",
    "- Combination of state (properties `name` / `age`) and behavior (method `say_hi`).\n",
    "- Access through `self` namespace.\n",
    "- Uses dunder method `__init__` to initialize state."
   ]
  },
  {
   "cell_type": "code",
   "execution_count": null,
   "metadata": {},
   "outputs": [],
   "source": []
  },
  {
   "cell_type": "markdown",
   "metadata": {},
   "source": [
    "## Dunder Mehods"
   ]
  },
  {
   "cell_type": "markdown",
   "metadata": {},
   "source": [
    "Double underscore methods are used to implement basic functionalities in Python. For more information on the Python data model see:\n",
    "\n",
    "https://docs.python.org/3/reference/datamodel.html"
   ]
  },
  {
   "cell_type": "code",
   "execution_count": null,
   "metadata": {},
   "outputs": [],
   "source": [
    "henk"
   ]
  },
  {
   "cell_type": "code",
   "execution_count": null,
   "metadata": {},
   "outputs": [],
   "source": [
    "class Person:\n",
    "    \n",
    "    def __init__(self, name, age):\n",
    "        self.name = name\n",
    "        self.age = age\n",
    "        \n",
    "    def say_hi(self):\n",
    "        print(f\"Hi, my name is {self.name} and I'm {self.age} years old!\")\n",
    "        \n",
    "    def __repr__(self):\n",
    "        return f\"Person('{self.name}', {self.age})\""
   ]
  },
  {
   "cell_type": "code",
   "execution_count": null,
   "metadata": {},
   "outputs": [],
   "source": [
    "henk = Person(\"Henk\", 16)\n",
    "henk"
   ]
  },
  {
   "cell_type": "markdown",
   "metadata": {},
   "source": [
    "### Example: Polynomials"
   ]
  },
  {
   "cell_type": "code",
   "execution_count": null,
   "metadata": {},
   "outputs": [],
   "source": [
    "import numpy as np\n",
    "import matplotlib.pyplot as plt\n",
    "from itertools import zip_longest\n",
    "\n",
    "\n",
    "class Polynomial:\n",
    "    \"\"\"Polynomial example class\"\"\"\n",
    "\n",
    "    def __init__(self, *args):\n",
    "        \"\"\"Arguments represent coefficients:\n",
    "        arg[0] * x ** 0, arg[1] * x ** 1, ..., arg[n] * x ** n.\n",
    "        \"\"\"\n",
    "        \n",
    "        self.coefs = np.array(args)\n",
    "\n",
    "    def plot(self, x_range=(-3, 3)):\n",
    "        \"\"\"Plots the Polynomial across a range of numbers.\"\"\"\n",
    "        \n",
    "        x = np.linspace(x_range[0], x_range[1], 50)\n",
    "        y = self(x)\n",
    "        \n",
    "        fig, ax = plt.subplots()\n",
    "        return ax.plot(x, y)\n",
    "\n",
    "    def __repr__(self):\n",
    "        \"\"\"String representation of the Polynomial.\"\"\"\n",
    "        \n",
    "        coef_str = ', '.join([str(c) for c in self.coefs])\n",
    "        return f\"Polynomial({coef_str})\"\n",
    "\n",
    "    \n",
    "    def __call__(self, x):\n",
    "        \"\"\"Computes y value for the given x value.\"\"\"\n",
    "        \n",
    "        x = np.array(x).reshape((len(x), 1))\n",
    "        mult = x ** np.array(range(0, len(self.coefs)))\n",
    "        return (self.coefs * mult).sum(axis=1)\n",
    "    \n",
    "    def __add__(self, other):\n",
    "        \"\"\"Adds Polynomials by summing their coefficients.\"\"\"\n",
    "        \n",
    "        coef_sum = [\n",
    "            x + y for x, y in\n",
    "            zip_longest(self.coefs, other.coefs, fillvalue=0)\n",
    "        ]\n",
    "        return Polynomial(*coef_sum)\n",
    "\n"
   ]
  },
  {
   "cell_type": "code",
   "execution_count": null,
   "metadata": {},
   "outputs": [],
   "source": [
    "p1 = Polynomial(0, 4, -2)\n",
    "p1"
   ]
  },
  {
   "cell_type": "code",
   "execution_count": null,
   "metadata": {},
   "outputs": [],
   "source": [
    "p1([1, 2, 3])"
   ]
  },
  {
   "cell_type": "code",
   "execution_count": null,
   "metadata": {},
   "outputs": [],
   "source": [
    "p1.plot()"
   ]
  },
  {
   "cell_type": "code",
   "execution_count": null,
   "metadata": {},
   "outputs": [],
   "source": [
    "p2 = Polynomial(0, 0, -5, 0, 1)\n",
    "p2.plot()"
   ]
  },
  {
   "cell_type": "code",
   "execution_count": null,
   "metadata": {},
   "outputs": [],
   "source": [
    "(p1 + p2).plot()"
   ]
  },
  {
   "cell_type": "code",
   "execution_count": null,
   "metadata": {},
   "outputs": [],
   "source": []
  },
  {
   "cell_type": "markdown",
   "metadata": {},
   "source": [
    "## Private / protected attributes"
   ]
  },
  {
   "cell_type": "markdown",
   "metadata": {},
   "source": [
    "Use underscore `_` to mark an attribute as \"private\": This signals to users of your class that they should not access these attributes directly."
   ]
  },
  {
   "cell_type": "code",
   "execution_count": null,
   "metadata": {},
   "outputs": [],
   "source": [
    "class Person:\n",
    "    \n",
    "    def __init__(self, name, age):\n",
    "        # Note: name and age are now private\n",
    "        self._name = name\n",
    "        self._age = age\n",
    "        \n",
    "    def say_hi(self):\n",
    "        print(f\"Hi, my name is {self._name} and I'm {self._age} years old!\")\n",
    "        \n",
    "    def __repr__(self):\n",
    "        return f\"Person('{self._name}', {self._age})\""
   ]
  },
  {
   "cell_type": "code",
   "execution_count": null,
   "metadata": {},
   "outputs": [],
   "source": [
    "ingrid = Person(\"Ingrid\", 32)\n",
    "ingrid"
   ]
  },
  {
   "cell_type": "markdown",
   "metadata": {},
   "source": [
    "However, users of you class can choose to ignore the hint:"
   ]
  },
  {
   "cell_type": "code",
   "execution_count": null,
   "metadata": {},
   "outputs": [],
   "source": [
    "ingrid._age = -1\n",
    "ingrid"
   ]
  },
  {
   "cell_type": "markdown",
   "metadata": {},
   "source": [
    "### Protected Attributes"
   ]
  },
  {
   "cell_type": "markdown",
   "metadata": {},
   "source": [
    "Use double underscore `__` to create a protected attribute:"
   ]
  },
  {
   "cell_type": "code",
   "execution_count": null,
   "metadata": {},
   "outputs": [],
   "source": [
    "class Person:\n",
    "    \n",
    "    def __init__(self, name, age):\n",
    "        # Note: name and age are now protected\n",
    "        self.__name = name\n",
    "        self.__age = age\n",
    "        \n",
    "    def say_hi(self):\n",
    "        print(f\"Hi, my name is {self.__name} and I'm {self.__age} years old!\")\n",
    "        \n",
    "    def __repr__(self):\n",
    "        return f\"Person('{self.__name}', {self.__age})\""
   ]
  },
  {
   "cell_type": "code",
   "execution_count": null,
   "metadata": {},
   "outputs": [],
   "source": [
    "ingrid = Person(\"Ingrid\", 32)\n",
    "ingrid"
   ]
  },
  {
   "cell_type": "markdown",
   "metadata": {},
   "source": [
    "Now, overwriting the attribute is not as straightforward:"
   ]
  },
  {
   "cell_type": "code",
   "execution_count": null,
   "metadata": {},
   "outputs": [],
   "source": [
    "ingrid.__age = -1\n",
    "ingrid"
   ]
  },
  {
   "cell_type": "code",
   "execution_count": null,
   "metadata": {},
   "outputs": [],
   "source": [
    "# Note the first 3 attributes!\n",
    "dir(ingrid)"
   ]
  },
  {
   "cell_type": "code",
   "execution_count": null,
   "metadata": {},
   "outputs": [],
   "source": []
  },
  {
   "cell_type": "markdown",
   "metadata": {},
   "source": [
    "## Getter / Setter Methods with @property"
   ]
  },
  {
   "cell_type": "code",
   "execution_count": null,
   "metadata": {},
   "outputs": [],
   "source": [
    "class Person:\n",
    "    \n",
    "    def __init__(self, name, age):\n",
    "        # Note: name and age are now private\n",
    "        self._name = name\n",
    "        self.age = age\n",
    "        \n",
    "    def say_hi(self):\n",
    "        print(f\"Hi, my name is {self._name} and I'm {self._age} years old!\")\n",
    "        \n",
    "    def __repr__(self):\n",
    "        return f\"Person('{self._name}', {self._age})\"\n",
    "    \n",
    "    @property\n",
    "    def age(self):\n",
    "        \"\"\"Gettter function for age.\"\"\"\n",
    "        \n",
    "        return self._age\n",
    "\n",
    "    @age.setter\n",
    "    def age(self, age):\n",
    "        \"\"\"Setter function for age with checks.\"\"\"\n",
    "        \n",
    "        try:\n",
    "            age = int(age)\n",
    "        except (ValueError, TypeError):\n",
    "            raise ValueError(\"Age should be a numeric value!\")\n",
    "        \n",
    "        if not 0 < age < 120:\n",
    "            raise ValueError(\"Invalid age provided!\")\n",
    "\n",
    "        self._age = age"
   ]
  },
  {
   "cell_type": "code",
   "execution_count": null,
   "metadata": {},
   "outputs": [],
   "source": [
    "henk = Person(\"Henk\", 16)\n",
    "henk"
   ]
  },
  {
   "cell_type": "code",
   "execution_count": null,
   "metadata": {},
   "outputs": [],
   "source": [
    "# Fails: age too high\n",
    "Person(\"Henk\", 160)"
   ]
  },
  {
   "cell_type": "code",
   "execution_count": null,
   "metadata": {},
   "outputs": [],
   "source": [
    "# Fails too...\n",
    "henk.age = 160"
   ]
  },
  {
   "cell_type": "code",
   "execution_count": null,
   "metadata": {},
   "outputs": [],
   "source": [
    "# Bypassing the setter still works\n",
    "henk._age = 160\n",
    "henk"
   ]
  },
  {
   "cell_type": "code",
   "execution_count": null,
   "metadata": {},
   "outputs": [],
   "source": []
  },
  {
   "cell_type": "markdown",
   "metadata": {},
   "source": [
    "## Static and Class Methods"
   ]
  },
  {
   "cell_type": "markdown",
   "metadata": {},
   "source": [
    "A static method is a method that does not require access to the objects `self` namespace. It is basically a reqular function, but bundled inside your class:"
   ]
  },
  {
   "cell_type": "code",
   "execution_count": null,
   "metadata": {},
   "outputs": [],
   "source": [
    "class Person:\n",
    "    \n",
    "    def __init__(self, name, age):\n",
    "        \"\"\"Constructor method setting name and age.\"\"\"\n",
    "        \n",
    "        self._name = name\n",
    "        self._age = self._check_age(age)\n",
    " \n",
    "    @staticmethod\n",
    "    def _check_age(age):\n",
    "        \"\"\"Checks and converts age to integer.\"\"\"\n",
    "        \n",
    "        try:\n",
    "            age = int(age)\n",
    "        except (ValueError, TypeError):\n",
    "            raise ValueError(\"Age should be a numeric value!\")\n",
    "        \n",
    "        if not 0 < age < 120:\n",
    "            raise ValueError(\"Invalid age provided!\")\n",
    "        \n",
    "        return age"
   ]
  },
  {
   "cell_type": "code",
   "execution_count": null,
   "metadata": {},
   "outputs": [],
   "source": []
  },
  {
   "cell_type": "markdown",
   "metadata": {},
   "source": [
    "Class methods operate on the class definition and do not require initializing an object:"
   ]
  },
  {
   "cell_type": "code",
   "execution_count": null,
   "metadata": {},
   "outputs": [],
   "source": [
    "class Person:\n",
    "    \n",
    "    def __init__(self, name, age):\n",
    "        \"\"\"Constructor method setting name and age.\"\"\"\n",
    "        \n",
    "        self._name = name\n",
    "        self._age = age\n",
    " \n",
    "    @classmethod\n",
    "    def from_str(cls, person_str):\n",
    "        \"\"\"Create Person instance from string.\"\"\"\n",
    "        \n",
    "        name, age = [_.strip() for _ in person_str.split(\",\")]\n",
    "        \n",
    "        return cls(name, age)\n",
    "    \n",
    "    def __repr__(self):\n",
    "        return f\"Person(name={self._name}, age={self._age})\""
   ]
  }
 ],
 "metadata": {
  "kernelspec": {
   "display_name": "Python [conda env:jupyter] *",
   "language": "python",
   "name": "conda-env-jupyter-py"
  },
  "language_info": {
   "codemirror_mode": {
    "name": "ipython",
    "version": 3
   },
   "file_extension": ".py",
   "mimetype": "text/x-python",
   "name": "python",
   "nbconvert_exporter": "python",
   "pygments_lexer": "ipython3",
   "version": "3.7.7"
  }
 },
 "nbformat": 4,
 "nbformat_minor": 4
}
