{
 "cells": [
  {
   "cell_type": "markdown",
   "metadata": {},
   "source": [
    "# Recap Objects - Part 1"
   ]
  },
  {
   "cell_type": "markdown",
   "metadata": {},
   "source": [
    "Objects are a great way to organize your code; they allow you to bundle both state and behavior into a single namespace!"
   ]
  },
  {
   "cell_type": "code",
   "execution_count": 2,
   "metadata": {},
   "outputs": [],
   "source": [
    "class Person:\n",
    "    \n",
    "    def __init__(self, name, age):\n",
    "        self.name = name\n",
    "        self.age = age\n",
    "        \n",
    "    def say_hi(self):\n",
    "        print(f\"Hi, my name is {self.name} and I'm {self.age} years old!\")"
   ]
  },
  {
   "cell_type": "code",
   "execution_count": 3,
   "metadata": {},
   "outputs": [
    {
     "name": "stdout",
     "output_type": "stream",
     "text": [
      "Hi, my name is Henk and I'm 16 years old!\n"
     ]
    }
   ],
   "source": [
    "henk = Person(\"Henk\", 16)\n",
    "henk.say_hi()"
   ]
  },
  {
   "cell_type": "markdown",
   "metadata": {},
   "source": [
    "#### Things to note:\n",
    "\n",
    "- Classes defined with `class` keyword.\n",
    "- Combination of state (properties `name` / `age`) and behavior (method `say_hi`).\n",
    "- Access through `self` namespace.\n",
    "- Uses dunder method `__init__` to initialize state."
   ]
  },
  {
   "cell_type": "code",
   "execution_count": null,
   "metadata": {},
   "outputs": [],
   "source": []
  },
  {
   "cell_type": "markdown",
   "metadata": {},
   "source": [
    "## Dunder Mehods"
   ]
  },
  {
   "cell_type": "markdown",
   "metadata": {},
   "source": [
    "Double underscore methods are used to implement basic functionalities in Python. For more information on the Python data model see:\n",
    "\n",
    "https://docs.python.org/3/reference/datamodel.html"
   ]
  },
  {
   "cell_type": "code",
   "execution_count": 5,
   "metadata": {},
   "outputs": [
    {
     "data": {
      "text/plain": [
       "<__main__.Person at 0x247ce6a5648>"
      ]
     },
     "execution_count": 5,
     "metadata": {},
     "output_type": "execute_result"
    }
   ],
   "source": [
    "henk"
   ]
  },
  {
   "cell_type": "code",
   "execution_count": 11,
   "metadata": {},
   "outputs": [],
   "source": [
    "class Person:\n",
    "    \n",
    "    def __init__(self, name, age):\n",
    "        self.name = name\n",
    "        self.age = age\n",
    "        \n",
    "    def say_hi(self):\n",
    "        print(f\"Hi, my name is {self.name} and I'm {self.age} years old!\")\n",
    "        \n",
    "    def __repr__(self):\n",
    "        return f\"Person('{self.name}', {self.age})\""
   ]
  },
  {
   "cell_type": "code",
   "execution_count": 12,
   "metadata": {},
   "outputs": [
    {
     "data": {
      "text/plain": [
       "Person('Henk', 16)"
      ]
     },
     "execution_count": 12,
     "metadata": {},
     "output_type": "execute_result"
    }
   ],
   "source": [
    "henk = Person(\"Henk\", 16)\n",
    "henk"
   ]
  },
  {
   "cell_type": "code",
   "execution_count": null,
   "metadata": {},
   "outputs": [],
   "source": []
  },
  {
   "cell_type": "code",
   "execution_count": 336,
   "metadata": {},
   "outputs": [],
   "source": [
    "import numpy as np\n",
    "import matplotlib.pyplot as plt\n",
    "from itertools import zip_longest\n",
    "\n",
    "\n",
    "class Polynomial:\n",
    "    \"\"\"Polynomial example class\"\"\"\n",
    "\n",
    "    def __init__(self, *args):\n",
    "        \"\"\"Arguments represent coefficients:\n",
    "        arg[0] * x ** 0, arg[1] * x ** 1, ..., arg[n] * x ** n.\n",
    "        \"\"\"\n",
    "        \n",
    "        self.coefs = np.array(args)\n",
    "\n",
    "    def plot(self, x_range=(-3, 3)):\n",
    "        \"\"\"Plots the Polynomial across a range of numbers.\"\"\"\n",
    "        \n",
    "        x = np.linspace(x_range[0], x_range[1], 50)\n",
    "        y = self(x)\n",
    "        \n",
    "        fig, ax = plt.subplots()\n",
    "        return ax.plot(x, y)\n",
    "\n",
    "    def __repr__(self):\n",
    "        \"\"\"String representation of the Polynomial.\"\"\"\n",
    "        \n",
    "        coef_str = ', '.join([str(c) for c in self.coefs])\n",
    "        return f\"Polynomial({coef_str})\"\n",
    "\n",
    "    \n",
    "    def __call__(self, x):\n",
    "        \"\"\"Computes y value for the given x value.\"\"\"\n",
    "        \n",
    "        x = np.array(x).reshape((len(x), 1))\n",
    "        mult = x ** np.array(range(0, len(self.coefs)))\n",
    "        return (self.coefs * mult).sum(axis=1)\n",
    "    \n",
    "    def __add__(self, other):\n",
    "        \"\"\"Adds Polynomials by summing their coefficients.\"\"\"\n",
    "        \n",
    "        coef_sum = [\n",
    "            x + y for x, y in\n",
    "            zip_longest(self.coefs, other.coefs, fillvalue=0)\n",
    "        ]\n",
    "        return Polynomial(*coef_sum)\n",
    "\n"
   ]
  },
  {
   "cell_type": "code",
   "execution_count": 337,
   "metadata": {},
   "outputs": [
    {
     "data": {
      "text/plain": [
       "Polynomial(0, 4, -2)"
      ]
     },
     "execution_count": 337,
     "metadata": {},
     "output_type": "execute_result"
    }
   ],
   "source": [
    "p1 = Polynomial(0, 4, -2)\n",
    "p1"
   ]
  },
  {
   "cell_type": "code",
   "execution_count": 338,
   "metadata": {},
   "outputs": [
    {
     "data": {
      "text/plain": [
       "[<matplotlib.lines.Line2D at 0x247d66a4748>]"
      ]
     },
     "execution_count": 338,
     "metadata": {},
     "output_type": "execute_result"
    },
    {
     "data": {
      "image/png": "[encoded data removed]",
      "text/plain": [
       "<Figure size 432x288 with 1 Axes>"
      ]
     },
     "metadata": {
      "needs_background": "light"
     },
     "output_type": "display_data"
    }
   ],
   "source": [
    "p1.plot()"
   ]
  },
  {
   "cell_type": "code",
   "execution_count": 339,
   "metadata": {},
   "outputs": [
    {
     "data": {
      "text/plain": [
       "[<matplotlib.lines.Line2D at 0x247d6709808>]"
      ]
     },
     "execution_count": 339,
     "metadata": {},
     "output_type": "execute_result"
    },
    {
     "data": {
      "image/png": "[encoded data removed]",
      "text/plain": [
       "<Figure size 432x288 with 1 Axes>"
      ]
     },
     "metadata": {
      "needs_background": "light"
     },
     "output_type": "display_data"
    }
   ],
   "source": [
    "p2 = Polynomial(0, 0, -5, 0, 1)\n",
    "p2.plot()"
   ]
  },
  {
   "cell_type": "code",
   "execution_count": 340,
   "metadata": {},
   "outputs": [
    {
     "data": {
      "text/plain": [
       "[<matplotlib.lines.Line2D at 0x247d67796c8>]"
      ]
     },
     "execution_count": 340,
     "metadata": {},
     "output_type": "execute_result"
    },
    {
     "data": {
      "image/png": "[encoded data removed]",
      "text/plain": [
       "<Figure size 432x288 with 1 Axes>"
      ]
     },
     "metadata": {
      "needs_background": "light"
     },
     "output_type": "display_data"
    }
   ],
   "source": [
    "(p1 + p2).plot()"
   ]
  },
  {
   "cell_type": "code",
   "execution_count": null,
   "metadata": {},
   "outputs": [],
   "source": []
  },
  {
   "cell_type": "code",
   "execution_count": null,
   "metadata": {},
   "outputs": [],
   "source": []
  },
  {
   "cell_type": "code",
   "execution_count": null,
   "metadata": {},
   "outputs": [],
   "source": []
  },
  {
   "cell_type": "code",
   "execution_count": null,
   "metadata": {},
   "outputs": [],
   "source": []
  },
  {
   "cell_type": "code",
   "execution_count": null,
   "metadata": {},
   "outputs": [],
   "source": [
    "import random\n",
    "\n",
    "\n",
    "class Die:\n",
    "    \"\"\"Roll the die!\"\"\"\n",
    "    \n",
    "    def __init__(self, sides=6):\n",
    "        self.sides = sides\n",
    "        \n",
    "    def __iter__(self):\n",
    "        \"\"\"Setup; called when starting iteration.\"\"\"\n",
    "        \n",
    "        return self\n",
    "\n",
    "    def __next__(self):\n",
    "        \"\"\"Consume; called on each iteration.\"\"\"\n",
    "        \n",
    "        return random.randint(1, self.sides)"
   ]
  }
 ],
 "metadata": {
  "kernelspec": {
   "display_name": "Python [conda env:jupyter] *",
   "language": "python",
   "name": "conda-env-jupyter-py"
  },
  "language_info": {
   "codemirror_mode": {
    "name": "ipython",
    "version": 3
   },
   "file_extension": ".py",
   "mimetype": "text/x-python",
   "name": "python",
   "nbconvert_exporter": "python",
   "pygments_lexer": "ipython3",
   "version": "3.7.7"
  }
 },
 "nbformat": 4,
 "nbformat_minor": 4
}
