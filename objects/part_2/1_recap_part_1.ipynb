{
 "cells": [
  {
   "cell_type": "markdown",
   "metadata": {},
   "source": [
    "# Recap Objects - Part 1"
   ]
  },
  {
   "cell_type": "markdown",
   "metadata": {},
   "source": [
    "Objects are a great way to organize your code; they allow you to bundle both state and behavior into a single namespace!"
   ]
  },
  {
   "cell_type": "markdown",
   "metadata": {},
   "source": [
    "## Most Minimal Class"
   ]
  },
  {
   "cell_type": "markdown",
   "metadata": {},
   "source": [
    "The example below shows the most minimal class definition possible;\n",
    "it is just the `class` keyword plus the name of the class."
   ]
  },
  {
   "cell_type": "code",
   "execution_count": null,
   "metadata": {},
   "outputs": [],
   "source": [
    "class Person:\n",
    "    \"\"\"Most minimal class ever!\"\"\""
   ]
  },
  {
   "cell_type": "code",
   "execution_count": null,
   "metadata": {},
   "outputs": [],
   "source": [
    "# Person class is created in namespace __main__\n",
    "Person"
   ]
  },
  {
   "cell_type": "code",
   "execution_count": null,
   "metadata": {},
   "outputs": [],
   "source": [
    "# ID for the class itself\n",
    "id(Person)"
   ]
  },
  {
   "cell_type": "code",
   "execution_count": null,
   "metadata": {},
   "outputs": [],
   "source": [
    "# Class create a new \"type\"\n",
    "type(Person)"
   ]
  },
  {
   "cell_type": "code",
   "execution_count": null,
   "metadata": {},
   "outputs": [],
   "source": []
  },
  {
   "cell_type": "markdown",
   "metadata": {},
   "source": [
    "## Class versus Instance"
   ]
  },
  {
   "cell_type": "markdown",
   "metadata": {},
   "source": [
    "A class acts like a blueprint with instances being copies from the blueprint"
   ]
  },
  {
   "cell_type": "code",
   "execution_count": null,
   "metadata": {},
   "outputs": [],
   "source": [
    "# Creating a copy from the Person class\n",
    "# Note the brackets after the name of the class\n",
    "henk = Person()"
   ]
  },
  {
   "cell_type": "code",
   "execution_count": null,
   "metadata": {},
   "outputs": [],
   "source": [
    "# Note how the IDs of the instance henk and the class Person differ\n",
    "print(f\"ID of instance 'henk':  {id(henk)}\")\n",
    "print(f\"ID of class 'Person':   {id(Person)}\")"
   ]
  },
  {
   "cell_type": "code",
   "execution_count": null,
   "metadata": {},
   "outputs": [],
   "source": [
    "# Note that henk is a Person and Person is a type\n",
    "print(f\"Type of instance 'henk':  {type(henk)}\")\n",
    "print(f\"Type of class 'Person':   {type(Person)}\")"
   ]
  },
  {
   "cell_type": "code",
   "execution_count": null,
   "metadata": {},
   "outputs": [],
   "source": [
    "# You can make as many copies as you want...\n",
    "ingrid = Person()\n",
    "piet = Person()"
   ]
  },
  {
   "cell_type": "code",
   "execution_count": null,
   "metadata": {},
   "outputs": [],
   "source": [
    "# All instances are different objects\n",
    "ingrid == piet"
   ]
  },
  {
   "cell_type": "code",
   "execution_count": null,
   "metadata": {},
   "outputs": [],
   "source": [
    "id(ingrid)"
   ]
  },
  {
   "cell_type": "code",
   "execution_count": null,
   "metadata": {},
   "outputs": [],
   "source": [
    "id(henk)"
   ]
  },
  {
   "cell_type": "code",
   "execution_count": null,
   "metadata": {},
   "outputs": [],
   "source": [
    "# But they share the same functionality (nothing) at this point..."
   ]
  },
  {
   "cell_type": "code",
   "execution_count": null,
   "metadata": {},
   "outputs": [],
   "source": []
  },
  {
   "cell_type": "markdown",
   "metadata": {},
   "source": [
    "## A less minimal class"
   ]
  },
  {
   "cell_type": "code",
   "execution_count": null,
   "metadata": {},
   "outputs": [],
   "source": [
    "class Person:\n",
    "    \"\"\"Less minimal person class.\"\"\"\n",
    "    \n",
    "    def __init__(self, name, age):\n",
    "        self.name = name\n",
    "        self.age = age\n",
    "        \n",
    "    def say_hi(self):\n",
    "        \"\"\"Greetings stranger.\"\"\"\n",
    "        \n",
    "        print(f\"Hi, my name is {self.name} and I'm {self.age} years old!\")"
   ]
  },
  {
   "cell_type": "markdown",
   "metadata": {},
   "source": [
    "#### Things to note:\n",
    "\n",
    "- We have added some state: properties `name` and `age` \n",
    "- We have added some behavior: methods `__init__` and `say_hi`.\n",
    "- The special `__init__` method is used to initialize state.\n",
    "- We can access internal state through the `self` reference."
   ]
  },
  {
   "cell_type": "code",
   "execution_count": null,
   "metadata": {},
   "outputs": [],
   "source": [
    "# The __init__ method allows passing state when creating an instance\n",
    "henk = Person(\"Henk\", 16)"
   ]
  },
  {
   "cell_type": "code",
   "execution_count": null,
   "metadata": {},
   "outputs": [],
   "source": [
    "# Use dot to access the object's properties\n",
    "henk.age"
   ]
  },
  {
   "cell_type": "code",
   "execution_count": null,
   "metadata": {},
   "outputs": [],
   "source": [
    "# Or methods\n",
    "henk.say_hi()"
   ]
  },
  {
   "cell_type": "code",
   "execution_count": null,
   "metadata": {},
   "outputs": [],
   "source": [
    "# Now making different instances makes sense...\n",
    "ingrid = Person(\"Ingrid\", 32)\n",
    "ingrid.say_hi()"
   ]
  },
  {
   "cell_type": "code",
   "execution_count": null,
   "metadata": {},
   "outputs": [],
   "source": []
  },
  {
   "cell_type": "markdown",
   "metadata": {},
   "source": [
    "## Dunder Mehods"
   ]
  },
  {
   "cell_type": "markdown",
   "metadata": {},
   "source": [
    "Double underscore methods are used to implement basic functionalities in Python. For more information on the Python data model see:\n",
    "\n",
    "https://docs.python.org/3/reference/datamodel.html"
   ]
  },
  {
   "cell_type": "code",
   "execution_count": null,
   "metadata": {},
   "outputs": [],
   "source": [
    "# You can use dir() to see all attributes of a class or instance\n",
    "# Note that even a very minimal class inherits quite a few dunder methods\n",
    "dir(Person)"
   ]
  },
  {
   "cell_type": "code",
   "execution_count": null,
   "metadata": {},
   "outputs": [],
   "source": [
    "# These dunder methods are inhereted from object (the Mother Of All Classes)\n",
    "dir(object)"
   ]
  },
  {
   "cell_type": "code",
   "execution_count": null,
   "metadata": {},
   "outputs": [],
   "source": [
    "# The __repr__ method should print a \"representation\" of the object\n",
    "henk"
   ]
  },
  {
   "cell_type": "code",
   "execution_count": null,
   "metadata": {},
   "outputs": [],
   "source": [
    "# The default implementation prints something like:\n",
    "print(f\"<{henk.__module__}.{henk.__class__.__name__} at {hex(id(henk))}>\")"
   ]
  },
  {
   "cell_type": "code",
   "execution_count": null,
   "metadata": {},
   "outputs": [],
   "source": [
    "# But we can easily override that as demonstrated below"
   ]
  },
  {
   "cell_type": "code",
   "execution_count": null,
   "metadata": {},
   "outputs": [],
   "source": [
    "class Person:\n",
    "    \"\"\"Person class with a neat representation method.\"\"\"\n",
    "    \n",
    "    def __init__(self, name, age):\n",
    "        self.name = name\n",
    "        self.age = age\n",
    "        \n",
    "    def say_hi(self):\n",
    "        \"\"\"Greetings stranger.\"\"\"\n",
    "        \n",
    "        print(f\"Hi, my name is {self.name} and I'm {self.age} years old!\")\n",
    "        \n",
    "    def __repr__(self):\n",
    "        \"\"\"More informative representation method.\"\"\"\n",
    "        \n",
    "        return f\"Person('{self.name}', {self.age})\""
   ]
  },
  {
   "cell_type": "code",
   "execution_count": null,
   "metadata": {},
   "outputs": [],
   "source": [
    "henk = Person(\"Henk\", 16)\n",
    "henk"
   ]
  },
  {
   "cell_type": "code",
   "execution_count": null,
   "metadata": {},
   "outputs": [],
   "source": []
  },
  {
   "cell_type": "markdown",
   "metadata": {},
   "source": [
    "### Example: Polynomials"
   ]
  },
  {
   "cell_type": "code",
   "execution_count": null,
   "metadata": {},
   "outputs": [],
   "source": [
    "import numpy as np\n",
    "import matplotlib.pyplot as plt\n",
    "from itertools import zip_longest\n",
    "\n",
    "\n",
    "class Polynomial:\n",
    "    \"\"\"Polynomial example class\"\"\"\n",
    "\n",
    "    def __init__(self, *args):\n",
    "        \"\"\"Arguments represent coefficients:\n",
    "        arg[0] * x ** 0, arg[1] * x ** 1, ..., arg[n] * x ** n.\n",
    "        \"\"\"\n",
    "        \n",
    "        self.coefs = np.array(args)\n",
    "\n",
    "    def __str__(self):\n",
    "        \"\"\"LaTex representaton of the polynomial.\"\"\"\n",
    "    \n",
    "        exps = range(0, len(self.coefs))\n",
    "        return \" + \".join(\n",
    "            [f\"{c}x^{e}\" for c, e in zip(self.coefs, exps) if c != 0]\n",
    "        )\n",
    "    \n",
    "    def __repr__(self):\n",
    "        \"\"\"Representation of the polynomial.\"\"\"\n",
    "        \n",
    "        coef_str = ', '.join([str(c) for c in self.coefs])\n",
    "        return f\"Polynomial({coef_str})\"\n",
    "\n",
    "    \n",
    "    def __call__(self, x):\n",
    "        \"\"\"Computes y values for the given x values.\"\"\"\n",
    "        \n",
    "        x = np.array(x).reshape((len(x), 1))\n",
    "        mult = x ** np.array(range(0, len(self.coefs)))\n",
    "        return (self.coefs * mult).sum(axis=1)\n",
    "    \n",
    "    def __add__(self, other):\n",
    "        \"\"\"Adds Polynomials by summing their coefficients.\"\"\"\n",
    "        \n",
    "        coef_sum = [\n",
    "            x + y for x, y in\n",
    "            zip_longest(self.coefs, other.coefs, fillvalue=0)\n",
    "        ]\n",
    "        return Polynomial(*coef_sum)\n",
    "\n",
    "    def plot(self, x_range=(-3, 3), ax=None):\n",
    "        \"\"\"Plots the Polynomial across a range of numbers.\"\"\"\n",
    "        \n",
    "        x = np.linspace(x_range[0], x_range[1], 50)\n",
    "        y = self(x)\n",
    "        \n",
    "        if not ax:\n",
    "            fig, ax = plt.subplots()\n",
    "        return ax.plot(x, y)\n"
   ]
  },
  {
   "cell_type": "code",
   "execution_count": null,
   "metadata": {},
   "outputs": [],
   "source": [
    "# Define two polynomials\n",
    "p1 = Polynomial(0, 8, -2)\n",
    "p2 = Polynomial(0, 0, -5, 0, 1)"
   ]
  },
  {
   "cell_type": "code",
   "execution_count": null,
   "metadata": {},
   "outputs": [],
   "source": [
    "# Representation of the polynomial (calls __repr__)\n",
    "p1"
   ]
  },
  {
   "cell_type": "code",
   "execution_count": null,
   "metadata": {},
   "outputs": [],
   "source": [
    "# Mathematical / LaTex string (calls __str__)\n",
    "print(p1)"
   ]
  },
  {
   "cell_type": "code",
   "execution_count": null,
   "metadata": {},
   "outputs": [],
   "source": [
    "# With __call__ you can use the Polynomial as a function\n",
    "p1([1, 2, 3])"
   ]
  },
  {
   "cell_type": "code",
   "execution_count": null,
   "metadata": {
    "scrolled": true
   },
   "outputs": [],
   "source": [
    "# The __add__ methods allows adding Polynomials\n",
    "print(f\"{p1}    +    {p2}    =    {p1 + p2}\")"
   ]
  },
  {
   "cell_type": "code",
   "execution_count": null,
   "metadata": {},
   "outputs": [],
   "source": [
    "# Graphical representation\n",
    "fig, axes = plt.subplots(nrows=1, ncols=3, figsize=(16, 4), sharey=True)\n",
    "poly = {\"Polynomial 1\": p1, \"Polynomial 2\": p2, \"Combined\": p1 + p2}\n",
    "for idx, (title, poly) in enumerate(poly.items()):\n",
    "    poly.plot(ax=axes[idx])\n",
    "    axes[idx].set_title(title)"
   ]
  },
  {
   "cell_type": "code",
   "execution_count": null,
   "metadata": {},
   "outputs": [],
   "source": []
  },
  {
   "cell_type": "markdown",
   "metadata": {},
   "source": [
    "## Attributes"
   ]
  },
  {
   "cell_type": "markdown",
   "metadata": {},
   "source": [
    "### Private Attributes"
   ]
  },
  {
   "cell_type": "markdown",
   "metadata": {},
   "source": [
    "Use underscore `_` to mark an attribute as `private`: This signals to users of your class that they should not access these attributes directly."
   ]
  },
  {
   "cell_type": "code",
   "execution_count": null,
   "metadata": {},
   "outputs": [],
   "source": [
    "class Person:\n",
    "    \n",
    "    def __init__(self, name, age):\n",
    "        # Note: name and age are now private\n",
    "        self._name = name\n",
    "        self._age = age\n",
    "        \n",
    "    def say_hi(self):\n",
    "        print(f\"Hi, my name is {self._name} and I'm {self._age} years old!\")\n",
    "        \n",
    "    def __repr__(self):\n",
    "        return f\"Person('{self._name}', {self._age})\""
   ]
  },
  {
   "cell_type": "code",
   "execution_count": null,
   "metadata": {},
   "outputs": [],
   "source": [
    "ingrid = Person(\"Ingrid\", 32)\n",
    "ingrid"
   ]
  },
  {
   "cell_type": "markdown",
   "metadata": {},
   "source": [
    "However, users of you class can choose to ignore the hint:"
   ]
  },
  {
   "cell_type": "code",
   "execution_count": null,
   "metadata": {},
   "outputs": [],
   "source": [
    "ingrid._age = -1\n",
    "ingrid"
   ]
  },
  {
   "cell_type": "markdown",
   "metadata": {},
   "source": [
    "### Protected Attributes"
   ]
  },
  {
   "cell_type": "markdown",
   "metadata": {},
   "source": [
    "Use double underscore `__` to create a `protected` attribute:"
   ]
  },
  {
   "cell_type": "code",
   "execution_count": null,
   "metadata": {},
   "outputs": [],
   "source": [
    "class Person:\n",
    "    \n",
    "    def __init__(self, name, age):\n",
    "        # Note: name and age are now protected\n",
    "        self.__name = name\n",
    "        self.__age = age\n",
    "        \n",
    "    def say_hi(self):\n",
    "        print(f\"Hi, my name is {self.__name} and I'm {self.__age} years old!\")\n",
    "        \n",
    "    def __repr__(self):\n",
    "        return f\"Person('{self.__name}', {self.__age})\""
   ]
  },
  {
   "cell_type": "code",
   "execution_count": null,
   "metadata": {},
   "outputs": [],
   "source": [
    "ingrid = Person(\"Ingrid\", 32)\n",
    "ingrid"
   ]
  },
  {
   "cell_type": "markdown",
   "metadata": {},
   "source": [
    "Now, overwriting the attribute is not as straightforward:"
   ]
  },
  {
   "cell_type": "code",
   "execution_count": null,
   "metadata": {},
   "outputs": [],
   "source": [
    "ingrid.__age = -1\n",
    "ingrid"
   ]
  },
  {
   "cell_type": "code",
   "execution_count": null,
   "metadata": {},
   "outputs": [],
   "source": [
    "dir(ingrid)"
   ]
  },
  {
   "cell_type": "code",
   "execution_count": null,
   "metadata": {},
   "outputs": [],
   "source": []
  },
  {
   "cell_type": "markdown",
   "metadata": {},
   "source": [
    "### Getter / Setter Methods with @property"
   ]
  },
  {
   "cell_type": "code",
   "execution_count": null,
   "metadata": {},
   "outputs": [],
   "source": [
    "class Person:\n",
    "    \"\"\"Person class with getter and setter for age.\n",
    "    Note: Both properties are defined as protected.\n",
    "    \"\"\"\n",
    "    \n",
    "    def __init__(self, name, age):\n",
    "        self.__name = name\n",
    "        self.age = age\n",
    "\n",
    "    @property\n",
    "    def age(self):\n",
    "        \"\"\"Getter function for age.\"\"\"\n",
    "        \n",
    "        return self.__age\n",
    "\n",
    "    @age.setter\n",
    "    def age(self, age):\n",
    "        \"\"\"Setter function for age with checks.\"\"\"\n",
    "        \n",
    "        try:\n",
    "            age = int(age)\n",
    "        except (ValueError, TypeError):\n",
    "            raise ValueError(\"Age should be a numeric value!\")\n",
    "        \n",
    "        if not 0 < age < 120:\n",
    "            raise ValueError(\"Invalid age provided!\")\n",
    "\n",
    "        self.__age = age\n",
    "        \n",
    "    def __repr__(self):\n",
    "        return f\"Person('{self.__name}', {self.__age})\""
   ]
  },
  {
   "cell_type": "code",
   "execution_count": null,
   "metadata": {},
   "outputs": [],
   "source": [
    "henk = Person(\"Henk\", 16)\n",
    "henk"
   ]
  },
  {
   "cell_type": "code",
   "execution_count": null,
   "metadata": {},
   "outputs": [],
   "source": [
    "# Fails: age too high\n",
    "Person(\"Henk\", 160)"
   ]
  },
  {
   "cell_type": "code",
   "execution_count": null,
   "metadata": {},
   "outputs": [],
   "source": [
    "# Fails too...\n",
    "henk.age = \"dertig\""
   ]
  },
  {
   "cell_type": "code",
   "execution_count": null,
   "metadata": {},
   "outputs": [],
   "source": []
  },
  {
   "cell_type": "markdown",
   "metadata": {},
   "source": [
    "## Methods"
   ]
  },
  {
   "cell_type": "markdown",
   "metadata": {},
   "source": [
    "### Static Methods"
   ]
  },
  {
   "cell_type": "markdown",
   "metadata": {},
   "source": [
    "A static method is a method that does not require access to the objects `self` namespace. It is basically a reqular function, but bundled inside your class:"
   ]
  },
  {
   "cell_type": "code",
   "execution_count": null,
   "metadata": {},
   "outputs": [],
   "source": [
    "class Person:\n",
    "    \n",
    "    def __init__(self, name, age):\n",
    "        \"\"\"Constructor method setting name and age.\"\"\"\n",
    "        \n",
    "        self.__name = name\n",
    "        self.__age = self.check_age(age)\n",
    " \n",
    "    @staticmethod\n",
    "    def check_age(age):\n",
    "        \"\"\"Converts age to integer and checks validity.\"\"\"\n",
    "        \n",
    "        try:\n",
    "            age = int(age)\n",
    "        except (ValueError, TypeError):\n",
    "            raise ValueError(\"Age should be a numeric value!\")\n",
    "        \n",
    "        if not 0 < age < 120:\n",
    "            raise ValueError(\"Invalid age provided!\")\n",
    "        \n",
    "        return age"
   ]
  },
  {
   "cell_type": "code",
   "execution_count": null,
   "metadata": {},
   "outputs": [],
   "source": [
    "henk = Person(\"Henk\", 160)"
   ]
  },
  {
   "cell_type": "code",
   "execution_count": null,
   "metadata": {},
   "outputs": [],
   "source": []
  },
  {
   "cell_type": "markdown",
   "metadata": {},
   "source": [
    "### Class Methods"
   ]
  },
  {
   "cell_type": "markdown",
   "metadata": {},
   "source": [
    "Class methods operate on the class definition and do not require initializing an object:"
   ]
  },
  {
   "cell_type": "code",
   "execution_count": null,
   "metadata": {},
   "outputs": [],
   "source": [
    "class Person:\n",
    "    \n",
    "    def __init__(self, name, age):\n",
    "        \"\"\"Constructor method setting name and age.\"\"\"\n",
    "        \n",
    "        self.__name = name\n",
    "        self.__age = age\n",
    "    \n",
    "    def __repr__(self):\n",
    "        return f\"Person('{self.__name}', {self.__age})\"\n",
    "    \n",
    "    @classmethod\n",
    "    def from_str(cls, person_str):\n",
    "        \"\"\"Create Person instance from string.\"\"\"\n",
    "        \n",
    "        name, age = [_.strip() for _ in person_str.split(\",\")]\n",
    "        \n",
    "        return cls(name, age)\n"
   ]
  },
  {
   "cell_type": "code",
   "execution_count": null,
   "metadata": {},
   "outputs": [],
   "source": [
    "Person.from_str(\"Henk, 32\")"
   ]
  },
  {
   "cell_type": "code",
   "execution_count": null,
   "metadata": {},
   "outputs": [],
   "source": []
  }
 ],
 "metadata": {
  "kernelspec": {
   "display_name": "Python [conda env:jupyter] *",
   "language": "python",
   "name": "conda-env-jupyter-py"
  },
  "language_info": {
   "codemirror_mode": {
    "name": "ipython",
    "version": 3
   },
   "file_extension": ".py",
   "mimetype": "text/x-python",
   "name": "python",
   "nbconvert_exporter": "python",
   "pygments_lexer": "ipython3",
   "version": "3.7.7"
  }
 },
 "nbformat": 4,
 "nbformat_minor": 4
}
