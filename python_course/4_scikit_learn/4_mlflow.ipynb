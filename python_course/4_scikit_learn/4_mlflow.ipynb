{
 "cells": [
  {
   "cell_type": "markdown",
   "metadata": {},
   "source": [
    "# MLflow Demo"
   ]
  },
  {
   "cell_type": "code",
   "execution_count": 23,
   "metadata": {},
   "outputs": [],
   "source": [
    "import mlflow\n",
    "import numpy as np"
   ]
  },
  {
   "cell_type": "code",
   "execution_count": null,
   "metadata": {},
   "outputs": [],
   "source": [
    "# Connect to the local MLflow server and create an experiment.\n",
    "mlflow.set_tracking_uri(\"http://127.0.0.1:5000\")\n",
    "mlflow.set_experiment(\"/demo-experiment\")"
   ]
  },
  {
   "cell_type": "markdown",
   "metadata": {},
   "source": [
    "## Define a model"
   ]
  },
  {
   "cell_type": "code",
   "execution_count": 25,
   "metadata": {},
   "outputs": [],
   "source": [
    "class OutlierModel(mlflow.pyfunc.PythonModel):\n",
    "    \"\"\"Demo model that detects outliers.\"\"\"\n",
    "\n",
    "    def __init__(self, deviation=2):\n",
    "        self._deviation = deviation\n",
    "\n",
    "        # Learned parameters\n",
    "        self.mean_ = None\n",
    "        self.std_ = None\n",
    "\n",
    "    def fit(self, X, y=None):\n",
    "        \"\"\"Fit the model to training dataset X.\"\"\"\n",
    "        self.mean_ = X.mean()\n",
    "        self.std_ = X.std()\n",
    "        return self\n",
    "\n",
    "    def predict(self, context, X):\n",
    "        \"\"\"Predict whether X is an outlier.\"\"\"\n",
    "        lower = self.mean_ - self._deviation * self.std_\n",
    "        upper = self.mean_ + self._deviation * self.std_\n",
    "\n",
    "        return (X < lower) | (X > upper)"
   ]
  },
  {
   "cell_type": "markdown",
   "metadata": {},
   "source": [
    "## Train the model"
   ]
  },
  {
   "cell_type": "code",
   "execution_count": null,
   "metadata": {},
   "outputs": [],
   "source": [
    "# Create random training data.\n",
    "train = np.random.randint(50, 100, 10)\n",
    "train"
   ]
  },
  {
   "cell_type": "code",
   "execution_count": 27,
   "metadata": {},
   "outputs": [],
   "source": [
    "# Create and train a local model.\n",
    "local_model = OutlierModel(deviation=1)\n",
    "local_model = local_model.fit(train)"
   ]
  },
  {
   "cell_type": "code",
   "execution_count": null,
   "metadata": {},
   "outputs": [],
   "source": [
    "# Metrics learned by the local model\n",
    "print(f\"\"\"\n",
    "Model learned metrics:\n",
    "- mean:  {local_model.mean_:.2f}\n",
    "- std:   {local_model.std_:.2f}\n",
    "\"\"\")"
   ]
  },
  {
   "cell_type": "code",
   "execution_count": null,
   "metadata": {},
   "outputs": [],
   "source": [
    "# Log and store the model to MLflow.\n",
    "with mlflow.start_run():\n",
    "\n",
    "    # Create model and log parameters\n",
    "    deviation = 1\n",
    "    model = OutlierModel(deviation)\n",
    "    mlflow.log_params({\"deviation\": deviation})\n",
    "\n",
    "    # Train the model.\n",
    "    model.fit(train)\n",
    "\n",
    "    # Log the learned model metrics.\n",
    "    mlflow.log_metric(\"mean\", model.mean_)\n",
    "    mlflow.log_metric(\"std\", model.std_)\n",
    "\n",
    "    # Log the trained model as artifact.\n",
    "    model_info = mlflow.pyfunc.log_model(\n",
    "        python_model=model,\n",
    "        artifact_path=\"demo-experiment\",\n",
    "    )"
   ]
  },
  {
   "cell_type": "markdown",
   "metadata": {},
   "source": [
    "## Register the model"
   ]
  },
  {
   "cell_type": "code",
   "execution_count": null,
   "metadata": {},
   "outputs": [],
   "source": [
    "# URI for the model trained in the last run\n",
    "model_info.model_uri"
   ]
  },
  {
   "cell_type": "code",
   "execution_count": null,
   "metadata": {},
   "outputs": [],
   "source": [
    "# Register the model from the last run.\n",
    "registered = mlflow.register_model(\n",
    "    model_uri=model_info.model_uri,\n",
    "    name=\"OutlierModel\",\n",
    "    tags={\"release-status\": \"candidate\"}\n",
    ")"
   ]
  },
  {
   "cell_type": "markdown",
   "metadata": {},
   "source": [
    "## Use the model"
   ]
  },
  {
   "cell_type": "code",
   "execution_count": 32,
   "metadata": {},
   "outputs": [],
   "source": [
    "# Define a fixed test set.\n",
    "test = np.array([40, 50, 60, 70, 80, 90, 100, 110])"
   ]
  },
  {
   "cell_type": "code",
   "execution_count": null,
   "metadata": {},
   "outputs": [],
   "source": [
    "# Use the local model to validate.\n",
    "local_model.predict(None, test)"
   ]
  },
  {
   "cell_type": "code",
   "execution_count": null,
   "metadata": {},
   "outputs": [],
   "source": [
    "# Define which model and version to fetch.\n",
    "model = \"OutlierModel\"\n",
    "version = 1\n",
    "\n",
    "# Load the MLflow model.\n",
    "model_uri = f\"models:/{model}/{version}\"\n",
    "mlflow_model = mlflow.pyfunc.load_model(model_uri)"
   ]
  },
  {
   "cell_type": "code",
   "execution_count": null,
   "metadata": {},
   "outputs": [],
   "source": [
    "# Generate predictions.\n",
    "mlflow_model.predict(test)"
   ]
  },
  {
   "cell_type": "code",
   "execution_count": null,
   "metadata": {},
   "outputs": [],
   "source": []
  }
 ],
 "metadata": {
  "kernelspec": {
   "display_name": "python-course",
   "language": "python",
   "name": "python3"
  },
  "language_info": {
   "codemirror_mode": {
    "name": "ipython",
    "version": 3
   },
   "file_extension": ".py",
   "mimetype": "text/x-python",
   "name": "python",
   "nbconvert_exporter": "python",
   "pygments_lexer": "ipython3",
   "version": "3.11.9"
  }
 },
 "nbformat": 4,
 "nbformat_minor": 2
}
