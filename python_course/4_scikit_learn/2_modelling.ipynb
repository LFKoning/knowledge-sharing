{
 "cells": [
  {
   "cell_type": "markdown",
   "id": "4bbe552e",
   "metadata": {},
   "source": [
    "# Modelling"
   ]
  },
  {
   "cell_type": "code",
   "execution_count": null,
   "id": "874d1e60",
   "metadata": {},
   "outputs": [],
   "source": [
    "import pandas as pd\n",
    "\n",
    "from sklearn.compose import ColumnTransformer\n",
    "from sklearn.preprocessing import OneHotEncoder, StandardScaler"
   ]
  },
  {
   "cell_type": "markdown",
   "id": "fa779ceb",
   "metadata": {},
   "source": [
    "## Load Data"
   ]
  },
  {
   "cell_type": "code",
   "execution_count": null,
   "id": "3d7233f0",
   "metadata": {},
   "outputs": [],
   "source": [
    "# Read in the banking data set.\n",
    "df = pd.read_csv(\"../0_data/banking/bank-additional-full.csv\", sep=\";\")\n",
    "df.head(3)"
   ]
  },
  {
   "cell_type": "code",
   "execution_count": null,
   "id": "399deb73",
   "metadata": {},
   "outputs": [],
   "source": [
    "# Split features and labels.\n",
    "X = df.drop(columns=[\"duration\", \"pdays\", \"y\"])\n",
    "y = df[\"y\"]"
   ]
  },
  {
   "cell_type": "markdown",
   "id": "e6d7dbfd",
   "metadata": {},
   "source": [
    "## Data Preparation"
   ]
  },
  {
   "cell_type": "code",
   "execution_count": null,
   "id": "9286c924",
   "metadata": {},
   "outputs": [],
   "source": [
    "# Get column names per data type.\n",
    "categorical = list(X.select_dtypes(\"object\").columns)\n",
    "numerical = list(X.select_dtypes(\"number\").columns)"
   ]
  },
  {
   "cell_type": "code",
   "execution_count": null,
   "id": "6d472ca7",
   "metadata": {},
   "outputs": [],
   "source": [
    "# Categorical columns.\n",
    "print(\"Categorical: \", categorical)\n",
    "print(\"Numerical:   \", numerical)"
   ]
  },
  {
   "cell_type": "code",
   "execution_count": null,
   "id": "674fb6ab",
   "metadata": {},
   "outputs": [],
   "source": [
    "# Create a OneHotEncoder and StandardScaler.\n",
    "encoder = OneHotEncoder(sparse_output=False)\n",
    "scaler = StandardScaler()"
   ]
  },
  {
   "cell_type": "code",
   "execution_count": null,
   "id": "866bec7e",
   "metadata": {},
   "outputs": [],
   "source": [
    "# Set up the ColumnTransformer.\n",
    "transformer = ColumnTransformer(\n",
    "    transformers=[\n",
    "        (\"encode_categorical\", encoder, categorical),\n",
    "        (\"scale_numerical\", scaler, numerical),\n",
    "    ]\n",
    ")"
   ]
  },
  {
   "cell_type": "code",
   "execution_count": null,
   "id": "cad42bd0",
   "metadata": {},
   "outputs": [],
   "source": [
    "# Another way to get a pandas DataFrame.\n",
    "transformer.set_output(transform=\"pandas\")\n",
    "Xt = transformer.fit_transform(X)\n",
    "Xt.head(3)"
   ]
  },
  {
   "cell_type": "markdown",
   "id": "02eec44e",
   "metadata": {},
   "source": [
    "## Linear Model"
   ]
  },
  {
   "cell_type": "code",
   "execution_count": null,
   "id": "1971bba6",
   "metadata": {},
   "outputs": [],
   "source": [
    "from sklearn.linear_model import LogisticRegression"
   ]
  },
  {
   "cell_type": "code",
   "execution_count": null,
   "id": "c5ea5639",
   "metadata": {},
   "outputs": [],
   "source": [
    "# Create logistic regression model instance.\n",
    "lm = LogisticRegression(max_iter=500)"
   ]
  },
  {
   "cell_type": "code",
   "execution_count": null,
   "id": "3e42c603",
   "metadata": {},
   "outputs": [],
   "source": [
    "# Fit to the training data.\n",
    "lm.fit(Xt, y)"
   ]
  },
  {
   "cell_type": "code",
   "execution_count": null,
   "id": "ff7328b5",
   "metadata": {},
   "outputs": [],
   "source": [
    "# Create predictions.\n",
    "predicted = lm.predict(Xt)"
   ]
  },
  {
   "cell_type": "code",
   "execution_count": null,
   "id": "980af162",
   "metadata": {},
   "outputs": [],
   "source": [
    "# Join predictions to the data.\n",
    "result = df.assign(predicted=predicted)\n",
    "result.tail(3)"
   ]
  },
  {
   "cell_type": "code",
   "execution_count": null,
   "id": "a85429ef",
   "metadata": {},
   "outputs": [],
   "source": [
    "# Check correspondence using value_counts.\n",
    "result[[\"y\", \"predicted\"]].value_counts(sort=False)"
   ]
  },
  {
   "cell_type": "code",
   "execution_count": null,
   "id": "6d490555",
   "metadata": {},
   "outputs": [],
   "source": [
    "# Get coefficients from the model.\n",
    "coeffs = pd.DataFrame(\n",
    "    data=lm.coef_,                  # Use lm.coef_ to get the values.\n",
    "    columns=lm.feature_names_in_,   # And lm.feature_names_in_ for the names.\n",
    ")"
   ]
  },
  {
   "cell_type": "code",
   "execution_count": null,
   "id": "e7634d70",
   "metadata": {},
   "outputs": [],
   "source": [
    "# Coefficients ranked by value.\n",
    "(\n",
    "    coeffs\n",
    "    .round(3)\n",
    "    .T\n",
    "    .rename(columns={0: \"Coefficient\"})\n",
    "    .sort_values(\"Coefficient\", ascending=False)\n",
    ")"
   ]
  },
  {
   "cell_type": "code",
   "execution_count": null,
   "id": "23af0a62",
   "metadata": {},
   "outputs": [],
   "source": []
  }
 ],
 "metadata": {
  "kernelspec": {
   "display_name": "python-course",
   "language": "python",
   "name": "python3"
  },
  "language_info": {
   "codemirror_mode": {
    "name": "ipython",
    "version": 3
   },
   "file_extension": ".py",
   "mimetype": "text/x-python",
   "name": "python",
   "nbconvert_exporter": "python",
   "pygments_lexer": "ipython3",
   "version": "3.11.9"
  }
 },
 "nbformat": 4,
 "nbformat_minor": 5
}
