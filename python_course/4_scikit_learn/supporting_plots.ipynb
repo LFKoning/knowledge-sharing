{
 "cells": [
  {
   "cell_type": "code",
   "execution_count": 3,
   "id": "87423255",
   "metadata": {},
   "outputs": [],
   "source": [
    "import numpy as np\n",
    "import pandas as pd\n",
    "\n",
    "import matplotlib.pyplot as plt\n",
    "from sklearn.preprocessing import PolynomialFeatures\n",
    "\n",
    "from sklearn.linear_model import LinearRegression"
   ]
  },
  {
   "cell_type": "markdown",
   "id": "1d086468",
   "metadata": {},
   "source": [
    "## Error"
   ]
  },
  {
   "cell_type": "code",
   "execution_count": null,
   "id": "c12a5242",
   "metadata": {},
   "outputs": [],
   "source": [
    "fig = plt.figure(figsize=(5, 5))\n",
    "ax = fig.add_subplot(1, 1, 1)\n",
    "\n",
    "x = [1, 2, 3, 4, 5]\n",
    "a = [3, 3.5, 3, 4, 5]\n",
    "p = [2 + 0.5 * _ for _ in x]\n",
    "\n",
    "ax.plot(x, p, label=\"model\", color=\"grey\")\n",
    "ax.scatter(x, a, color=\"blue\")\n",
    "ax.vlines(x, ymin=p, ymax=a, color=\"red\")\n",
    "\n",
    "None"
   ]
  },
  {
   "cell_type": "markdown",
   "id": "8eae55e5",
   "metadata": {},
   "source": [
    "## Fiting proces"
   ]
  },
  {
   "cell_type": "code",
   "execution_count": 22,
   "id": "40906ff3",
   "metadata": {},
   "outputs": [],
   "source": [
    "def mean_absolute_deviation(true, predicted):\n",
    "    \"\"\"Comupte mean absolute deviation.\"\"\"\n",
    "    deviation = [abs(t - p) for t, p in zip(true, predicted)]\n",
    "    return sum(deviation) / len(deviation)"
   ]
  },
  {
   "cell_type": "code",
   "execution_count": null,
   "id": "7a2489bb",
   "metadata": {},
   "outputs": [],
   "source": [
    "x = [1, 2, 3, 4, 5]\n",
    "a = [2, 3, 5, 6, 7]\n",
    "\n",
    "for beta in (0.5, 1.0, 1.5):\n",
    "    fig = plt.figure(figsize=(5, 5))\n",
    "    ax = fig.add_subplot(1, 1, 1)\n",
    "\n",
    "    p = [beta * _ for _ in x]\n",
    "\n",
    "    ax.plot(x, p, label=\"model\", color=\"grey\")\n",
    "    ax.scatter(x, a, color=\"blue\")\n",
    "    ax.vlines(x, ymin=p, ymax=a, color=\"red\")\n",
    "\n",
    "    print(\"MAD: \", mean_absolute_deviation(a, p))"
   ]
  },
  {
   "cell_type": "code",
   "execution_count": null,
   "id": "070a88c2",
   "metadata": {},
   "outputs": [],
   "source": [
    "beta = [0.5, 1.0]\n",
    "mad  = [3.1, 1.6]\n",
    "\n",
    "fig = plt.figure(figsize=(5, 5))\n",
    "ax = fig.add_subplot(1, 1, 1)\n",
    "ax.set(xlabel=\"Beta\", ylabel=\"MAD\")\n",
    "ax.set_xlim(0, 4)\n",
    "ax.set_ylim(0, 4)\n",
    "\n",
    "ax.plot(beta, mad, color=\"grey\", marker=\".\")"
   ]
  },
  {
   "cell_type": "markdown",
   "id": "b21fda2f",
   "metadata": {},
   "source": [
    "## Fit vs Overfit"
   ]
  },
  {
   "cell_type": "code",
   "execution_count": 3,
   "id": "f9929fb4",
   "metadata": {},
   "outputs": [],
   "source": [
    "def model(x):\n",
    "    \"\"\"Generative model.\"\"\"\n",
    "    return 3 + 0.5 * x"
   ]
  },
  {
   "cell_type": "code",
   "execution_count": 4,
   "id": "c6a11ef7",
   "metadata": {},
   "outputs": [],
   "source": [
    "# Create population data.\n",
    "pop_size = 5000\n",
    "sample_size = 15\n",
    "xlim = 1, 10\n",
    "\n",
    "x = np.random.uniform(xlim[0], xlim[1], pop_size)\n",
    "y = model(x) + np.random.normal(0, 0.5, pop_size)"
   ]
  },
  {
   "cell_type": "code",
   "execution_count": null,
   "id": "fe0a5752",
   "metadata": {},
   "outputs": [],
   "source": [
    "# Take a sample.\n",
    "idx = np.random.randint(0, len(x), sample_size)\n",
    "xs = x[idx]\n",
    "ys = y[idx]\n",
    "\n",
    "# Create high order polynomial features.\n",
    "poly = PolynomialFeatures(degree=5)\n",
    "Xs = poly.fit_transform(xs.reshape(-1, 1))\n",
    "\n",
    "# Fit model.\n",
    "linear = LinearRegression()\n",
    "linear.fit(Xs, ys)"
   ]
  },
  {
   "cell_type": "code",
   "execution_count": null,
   "id": "e3380e8b",
   "metadata": {},
   "outputs": [],
   "source": [
    "# Create the figure.\n",
    "fig = plt.figure(figsize=(4, 8))\n",
    "ax1, ax2 = fig.subplots(2, 1, sharex=True, sharey=True)\n",
    "\n",
    "# Plot population scatter\n",
    "ax1.scatter(x, y, alpha=0.05)\n",
    "\n",
    "# Overlay generative model.\n",
    "xt = np.linspace(xlim[0], xlim[1], 2)\n",
    "ax1.plot(xt, model(xt), color=\"red\", label=\"y = 3 + 0.5 * x\")\n",
    "ax1.legend()\n",
    "ax1.set_title(\"Populatie\")\n",
    "\n",
    "# Create linear model data.\n",
    "xm = np.linspace(xlim[0], xlim[1], 100).reshape(-1, 1)\n",
    "Xm = poly.transform(xm)\n",
    "ym = linear.predict(Xm)\n",
    "\n",
    "# Plot sample scatter.\n",
    "ax2.scatter(xs, ys)\n",
    "\n",
    "# Plot polynomial model.\n",
    "ax2.plot(xm, ym, color=\"red\")\n",
    "ax2.set_ylim((3, 8))\n",
    "ax2.set_title(\"Steekproef\")\n",
    "\n",
    "None"
   ]
  },
  {
   "cell_type": "markdown",
   "id": "0573abb0",
   "metadata": {},
   "source": [
    "## Regression Interpretation"
   ]
  },
  {
   "cell_type": "code",
   "execution_count": 7,
   "id": "82b1e036",
   "metadata": {},
   "outputs": [],
   "source": [
    "def model(x1, x2):\n",
    "    \"\"\"Generative model.\"\"\"\n",
    "    return 3 + 1.5 * x1 + 1.5 * x2"
   ]
  },
  {
   "cell_type": "code",
   "execution_count": 8,
   "id": "8074fc5b",
   "metadata": {},
   "outputs": [],
   "source": [
    "# Create the data.\n",
    "lim = 0, 10\n",
    "n = 50\n",
    "x1 = np.random.uniform(lim[0], lim[1], n)\n",
    "x2 = np.random.uniform(lim[0], lim[1], n)\n",
    "y = model(x1, x2) + np.random.normal(0, 1, n)"
   ]
  },
  {
   "cell_type": "code",
   "execution_count": null,
   "id": "39b0355a",
   "metadata": {},
   "outputs": [],
   "source": [
    "# Make the figure.\n",
    "fig = plt.figure(figsize=(5, 5))\n",
    "ax = fig.add_subplot(1, 1, 1, projection=\"3d\")\n",
    "\n",
    "# Plot the data.\n",
    "ax.scatter(x1, x2, y, alpha=0.5, color=\"black\")\n",
    "\n",
    "# Plot the surface.\n",
    "X1, X2 = np.meshgrid(range(lim[1]), range(lim[1]))\n",
    "Y = model(X1, X2) # 3 + 1.5 * X1 + 1.5 * X2\n",
    "ax.plot_surface(X1, X2, Y, alpha=0.5)\n",
    "ax.set(xlabel=\"X1\", ylabel=\"X2\", zlabel=\"Y\")\n",
    "\n",
    "# Remove grey background.\n",
    "ax.xaxis.pane.fill = False\n",
    "ax.yaxis.pane.fill = False\n",
    "ax.zaxis.pane.fill = False\n",
    "\n",
    "fig.tight_layout()"
   ]
  },
  {
   "cell_type": "markdown",
   "id": "276119b1",
   "metadata": {},
   "source": [
    "### Different distributions"
   ]
  },
  {
   "cell_type": "code",
   "execution_count": null,
   "id": "0b76134b",
   "metadata": {},
   "outputs": [],
   "source": [
    "# Create the figure.\n",
    "fig = plt.figure(figsize=(10, 2))\n",
    "ax1, ax2 = fig.subplots(1, 2, sharex=True, sharey=True)\n",
    "\n",
    "# Generate some dummy data\n",
    "n = 500\n",
    "train = np.random.normal(0, 2, n)\n",
    "test = np.random.normal(0.5, 2, n)\n",
    "\n",
    "# Add some outliers\n",
    "test[0:5] = 11\n",
    "\n",
    "ax1.hist(train, bins=25, edgecolor=\"white\")\n",
    "ax2.hist(test, bins=25, edgecolor=\"white\")\n",
    "\n",
    "ax1.axvline(train.mean(), color=\"red\")\n",
    "ax2.axvline(test.mean(), color=\"red\")\n",
    "\n",
    "ax1.set_title(\"Train Dataset\")\n",
    "ax2.set_title(\"Test Dataset\")\n",
    "\n",
    "None"
   ]
  },
  {
   "cell_type": "code",
   "execution_count": null,
   "id": "57c49d77",
   "metadata": {},
   "outputs": [],
   "source": []
  },
  {
   "cell_type": "code",
   "execution_count": null,
   "id": "2afa3b93",
   "metadata": {},
   "outputs": [],
   "source": []
  }
 ],
 "metadata": {
  "kernelspec": {
   "display_name": "python-course",
   "language": "python",
   "name": "python3"
  },
  "language_info": {
   "codemirror_mode": {
    "name": "ipython",
    "version": 3
   },
   "file_extension": ".py",
   "mimetype": "text/x-python",
   "name": "python",
   "nbconvert_exporter": "python",
   "pygments_lexer": "ipython3",
   "version": "3.11.9"
  }
 },
 "nbformat": 4,
 "nbformat_minor": 5
}
