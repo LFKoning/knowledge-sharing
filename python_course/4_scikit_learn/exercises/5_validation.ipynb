{
 "cells": [
  {
   "cell_type": "markdown",
   "id": "b18b424a",
   "metadata": {},
   "source": [
    "# Exercises IV: Validation and Selection"
   ]
  },
  {
   "cell_type": "code",
   "execution_count": null,
   "id": "16dee720",
   "metadata": {},
   "outputs": [],
   "source": [
    "import pandas as pd\n",
    "\n",
    "from sklearn.pipeline import Pipeline\n",
    "from sklearn.compose import ColumnTransformer\n",
    "from sklearn.preprocessing import OneHotEncoder, StandardScaler\n",
    "\n",
    "from sklearn.dummy import DummyClassifier\n",
    "from sklearn.ensemble import RandomForestClassifier\n",
    "\n",
    "from sklearn.model_selection import train_test_split, KFold"
   ]
  },
  {
   "cell_type": "markdown",
   "id": "1a56d57f",
   "metadata": {},
   "source": [
    "## Load Data"
   ]
  },
  {
   "cell_type": "code",
   "execution_count": null,
   "id": "4fe401b9",
   "metadata": {},
   "outputs": [],
   "source": [
    "# Read in the banking data set.\n",
    "df = pd.read_csv(\"../../0_data/banking/bank-additional-full.csv\", sep=\";\")\n",
    "df.head(3)"
   ]
  },
  {
   "cell_type": "code",
   "execution_count": null,
   "id": "86714579",
   "metadata": {},
   "outputs": [],
   "source": [
    "# Split features and labels.\n",
    "X = df.drop(columns=[\"duration\", \"pdays\", \"y\"])\n",
    "y = df[\"y\"]"
   ]
  },
  {
   "cell_type": "markdown",
   "id": "967e1e78",
   "metadata": {},
   "source": [
    "## Create Models"
   ]
  },
  {
   "cell_type": "code",
   "execution_count": null,
   "id": "f2d4e1f7",
   "metadata": {},
   "outputs": [],
   "source": [
    "# Get column names per data type.\n",
    "categorical = X.select_dtypes(\"object\").columns\n",
    "numerical = X.select_dtypes(\"number\").columns"
   ]
  },
  {
   "cell_type": "code",
   "execution_count": null,
   "id": "17877890",
   "metadata": {},
   "outputs": [],
   "source": [
    "# Set up the data preparation.\n",
    "transformer = ColumnTransformer(\n",
    "    transformers=[\n",
    "        (\"encode_categorical\", OneHotEncoder(handle_unknown=\"ignore\"), categorical),\n",
    "        (\"scale_numerical\", StandardScaler(), numerical),\n",
    "    ]\n",
    ")"
   ]
  },
  {
   "cell_type": "code",
   "execution_count": null,
   "id": "ac650398",
   "metadata": {},
   "outputs": [],
   "source": [
    "# Create the DummyClassifier.\n",
    "dummy_model = ..."
   ]
  },
  {
   "cell_type": "code",
   "execution_count": null,
   "id": "dcef6a46",
   "metadata": {},
   "outputs": [],
   "source": [
    "# Create pipeline for the RandomForestClassifier.\n",
    "forest_model = Pipeline(\n",
    "    steps=[\n",
    "        # Fill in the required steps\n",
    "        (\"preparation\", transformer),\n",
    "        (\"model\", ...),\n",
    "    ]\n",
    ")"
   ]
  },
  {
   "cell_type": "markdown",
   "id": "2e4643f2",
   "metadata": {},
   "source": [
    "## Train versus Test Performance"
   ]
  },
  {
   "cell_type": "code",
   "execution_count": null,
   "id": "28d57720",
   "metadata": {},
   "outputs": [],
   "source": [
    "# Split the data in 70% train and 30% test"
   ]
  },
  {
   "cell_type": "code",
   "execution_count": null,
   "id": "e537352c",
   "metadata": {},
   "outputs": [],
   "source": [
    "# Get performance of dummy_model and forest_model.\n",
    "# Report performance on both train and test sets."
   ]
  },
  {
   "cell_type": "code",
   "execution_count": null,
   "id": "54609b63",
   "metadata": {},
   "outputs": [],
   "source": [
    "# Is the dummy_model more accurate than always predicting \"no\"?"
   ]
  },
  {
   "cell_type": "markdown",
   "id": "952d3c36",
   "metadata": {},
   "source": [
    "## Cross Validation"
   ]
  },
  {
   "cell_type": "code",
   "execution_count": null,
   "id": "36c8e79a",
   "metadata": {},
   "outputs": [],
   "source": [
    "# Use KFold to split the data 5 times.\n",
    "kfold = ..."
   ]
  },
  {
   "cell_type": "code",
   "execution_count": null,
   "id": "fc461a7a",
   "metadata": {},
   "outputs": [],
   "source": [
    "# Get RandomForestClassifier accuracy accross the 5 folds.\n",
    "for train_idx, test_idx in kfold.split(X, y):\n",
    "    \n",
    "    # Create fold datasets.\n",
    "    # Note: Use .iloc[] as you get indices!\n",
    "    \n",
    "    # Compute and report accuracy.\n",
    "    "
   ]
  },
  {
   "cell_type": "code",
   "execution_count": null,
   "id": "f4ac46b4",
   "metadata": {},
   "outputs": [],
   "source": []
  }
 ],
 "metadata": {
  "kernelspec": {
   "display_name": "Python 3 (ipykernel)",
   "language": "python",
   "name": "python3"
  },
  "language_info": {
   "codemirror_mode": {
    "name": "ipython",
    "version": 3
   },
   "file_extension": ".py",
   "mimetype": "text/x-python",
   "name": "python",
   "nbconvert_exporter": "python",
   "pygments_lexer": "ipython3",
   "version": "3.9.16"
  }
 },
 "nbformat": 4,
 "nbformat_minor": 5
}
