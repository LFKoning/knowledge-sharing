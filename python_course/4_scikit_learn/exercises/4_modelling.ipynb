{
 "cells": [
  {
   "cell_type": "markdown",
   "id": "7cd09e2a",
   "metadata": {},
   "source": [
    "# Exercises III: Modelling"
   ]
  },
  {
   "cell_type": "code",
   "execution_count": null,
   "id": "969706cb",
   "metadata": {},
   "outputs": [],
   "source": [
    "import pandas as pd\n",
    "\n",
    "from sklearn.pipeline import Pipeline\n",
    "from sklearn.compose import ColumnTransformer\n",
    "from sklearn.preprocessing import OneHotEncoder"
   ]
  },
  {
   "cell_type": "markdown",
   "id": "12513f98",
   "metadata": {},
   "source": [
    "## Load Data"
   ]
  },
  {
   "cell_type": "code",
   "execution_count": null,
   "id": "cf54762b",
   "metadata": {},
   "outputs": [],
   "source": [
    "# Read in the banking data set.\n",
    "df = pd.read_csv(\"../../0_data/banking/bank-additional-full.csv\", sep=\";\")\n",
    "df.head(3)"
   ]
  },
  {
   "cell_type": "code",
   "execution_count": null,
   "id": "f579e5a1",
   "metadata": {},
   "outputs": [],
   "source": [
    "# Split features and labels.\n",
    "X = df.drop(columns=[\"duration\", \"pdays\", \"y\"])\n",
    "y = df[\"y\"]"
   ]
  },
  {
   "cell_type": "markdown",
   "id": "ee5a7303",
   "metadata": {},
   "source": [
    "## Data Preparation"
   ]
  },
  {
   "cell_type": "code",
   "execution_count": null,
   "id": "7f826671",
   "metadata": {},
   "outputs": [],
   "source": [
    "# Prepare the data for the RandomForest model."
   ]
  },
  {
   "cell_type": "markdown",
   "id": "feb42e43",
   "metadata": {},
   "source": [
    "## RandomForest Model"
   ]
  },
  {
   "cell_type": "code",
   "execution_count": null,
   "id": "0f433ca8",
   "metadata": {},
   "outputs": [],
   "source": [
    "from sklearn.ensemble import RandomForestClassifier"
   ]
  },
  {
   "cell_type": "code",
   "execution_count": null,
   "id": "525814ac",
   "metadata": {},
   "outputs": [],
   "source": [
    "# Create random forest model."
   ]
  },
  {
   "cell_type": "code",
   "execution_count": null,
   "id": "beb6da7b",
   "metadata": {},
   "outputs": [],
   "source": [
    "# Fit the model to the data."
   ]
  },
  {
   "cell_type": "code",
   "execution_count": null,
   "id": "d0d5c830",
   "metadata": {},
   "outputs": [],
   "source": [
    "# Create predictions for the data."
   ]
  },
  {
   "cell_type": "markdown",
   "id": "ed2950ad",
   "metadata": {},
   "source": [
    "### Feature Imporances"
   ]
  },
  {
   "cell_type": "code",
   "execution_count": null,
   "id": "cf10dfd9",
   "metadata": {},
   "outputs": [],
   "source": [
    "# Which features are most important?"
   ]
  },
  {
   "cell_type": "markdown",
   "id": "30875194",
   "metadata": {},
   "source": [
    "### Probabilities"
   ]
  },
  {
   "cell_type": "code",
   "execution_count": 2,
   "id": "264384cb",
   "metadata": {},
   "outputs": [],
   "source": [
    "# Find the top 10 most uncertain predictions."
   ]
  },
  {
   "cell_type": "code",
   "execution_count": null,
   "id": "543179f1",
   "metadata": {},
   "outputs": [],
   "source": [
    "# Find the 10 most confident predictions that were wrong."
   ]
  }
 ],
 "metadata": {
  "kernelspec": {
   "display_name": "Python 3 (ipykernel)",
   "language": "python",
   "name": "python3"
  },
  "language_info": {
   "codemirror_mode": {
    "name": "ipython",
    "version": 3
   },
   "file_extension": ".py",
   "mimetype": "text/x-python",
   "name": "python",
   "nbconvert_exporter": "python",
   "pygments_lexer": "ipython3",
   "version": "3.9.16"
  }
 },
 "nbformat": 4,
 "nbformat_minor": 5
}
