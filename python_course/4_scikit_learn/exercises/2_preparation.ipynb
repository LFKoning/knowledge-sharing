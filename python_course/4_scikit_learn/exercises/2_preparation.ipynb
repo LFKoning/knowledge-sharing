{
 "cells": [
  {
   "cell_type": "markdown",
   "id": "d17533ce",
   "metadata": {},
   "source": [
    "# Exercises II: Data Preparation"
   ]
  },
  {
   "cell_type": "code",
   "execution_count": null,
   "id": "7aed7e08",
   "metadata": {},
   "outputs": [],
   "source": [
    "import pandas as pd"
   ]
  },
  {
   "cell_type": "code",
   "execution_count": null,
   "id": "1d2950f8",
   "metadata": {},
   "outputs": [],
   "source": [
    "# Read in the banking data set\n",
    "df = pd.read_csv(\"../../0_data/banking/bank-additional-full.csv\", sep=\";\")\n",
    "df.head(3)"
   ]
  },
  {
   "cell_type": "code",
   "execution_count": null,
   "id": "01fcba55",
   "metadata": {},
   "outputs": [],
   "source": [
    "# Drop irrelevant / label columns.\n",
    "df = df.drop(columns=[\"y\", \"duration\", \"pdays\"])"
   ]
  },
  {
   "cell_type": "markdown",
   "id": "ab215b62",
   "metadata": {},
   "source": [
    "## Encode Categorical Data"
   ]
  },
  {
   "cell_type": "code",
   "execution_count": null,
   "id": "712764d5",
   "metadata": {},
   "outputs": [],
   "source": [
    "# Import the transformer from the preprocessing module.\n",
    "from sklearn.preprocessing import OneHotEncoder"
   ]
  },
  {
   "cell_type": "code",
   "execution_count": null,
   "id": "8ef523ee",
   "metadata": {},
   "outputs": [],
   "source": [
    "# Create a OneHotEncoder to encode categorical data."
   ]
  },
  {
   "cell_type": "code",
   "execution_count": null,
   "id": "0e768f3e",
   "metadata": {},
   "outputs": [],
   "source": [
    "# Fit the encoder to the job column."
   ]
  },
  {
   "cell_type": "code",
   "execution_count": null,
   "id": "f2589702",
   "metadata": {},
   "outputs": [],
   "source": [
    "# Transform the job column, look at first 3 records."
   ]
  },
  {
   "cell_type": "code",
   "execution_count": null,
   "id": "9f3cf8d5",
   "metadata": {},
   "outputs": [],
   "source": [
    "# What are the feature names created by the encoder?\n",
    "# Hint: Look for a method on the encoder object."
   ]
  },
  {
   "cell_type": "code",
   "execution_count": null,
   "id": "5484ed56",
   "metadata": {},
   "outputs": [],
   "source": []
  },
  {
   "cell_type": "markdown",
   "id": "2a3bde00",
   "metadata": {},
   "source": [
    "## Transformations per Column"
   ]
  },
  {
   "cell_type": "markdown",
   "id": "5c49d7d7",
   "metadata": {},
   "source": [
    "Use a ColumnTransformer to define transformations per column.\n",
    "\n",
    "\n",
    "See documentation: https://scikit-learn.org/stable/modules/generated/sklearn.compose.ColumnTransformer.html"
   ]
  },
  {
   "cell_type": "code",
   "execution_count": null,
   "id": "1e00cb64",
   "metadata": {},
   "outputs": [],
   "source": [
    "# Import the ColumnTransformer from the compose module.\n",
    "from sklearn.compose import ColumnTransformer\n",
    "from sklearn.preprocessing import StandardScaler"
   ]
  },
  {
   "cell_type": "code",
   "execution_count": null,
   "id": "0d8a310c",
   "metadata": {},
   "outputs": [],
   "source": [
    "# Get column names per data type\n",
    "categorical = df.select_dtypes(\"object\").columns\n",
    "numerical = df.select_dtypes(\"number\").columns"
   ]
  },
  {
   "cell_type": "code",
   "execution_count": null,
   "id": "5cd6e225",
   "metadata": {},
   "outputs": [],
   "source": [
    "# Create a OneHotEncoder and a StandardScaler."
   ]
  },
  {
   "cell_type": "code",
   "execution_count": null,
   "id": "10dce093",
   "metadata": {},
   "outputs": [],
   "source": [
    "# Set up the ColumnTransformer.\n",
    "transformer = ColumnTransformer(\n",
    "    transformers=[\n",
    "        # Fill in the transformations here...\n",
    "    ]\n",
    ")"
   ]
  },
  {
   "cell_type": "code",
   "execution_count": null,
   "id": "f1d7c718",
   "metadata": {},
   "outputs": [],
   "source": [
    "# Fit and transform the data.\n",
    "transformer.fit_transform(df)"
   ]
  },
  {
   "cell_type": "code",
   "execution_count": null,
   "id": "ad5996f7",
   "metadata": {},
   "outputs": [],
   "source": []
  }
 ],
 "metadata": {
  "kernelspec": {
   "display_name": "Python 3 (ipykernel)",
   "language": "python",
   "name": "python3"
  },
  "language_info": {
   "codemirror_mode": {
    "name": "ipython",
    "version": 3
   },
   "file_extension": ".py",
   "mimetype": "text/x-python",
   "name": "python",
   "nbconvert_exporter": "python",
   "pygments_lexer": "ipython3",
   "version": "3.9.18"
  }
 },
 "nbformat": 4,
 "nbformat_minor": 5
}
