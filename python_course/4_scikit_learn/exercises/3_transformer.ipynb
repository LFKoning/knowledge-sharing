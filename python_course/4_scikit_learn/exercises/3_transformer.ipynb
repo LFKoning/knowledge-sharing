{
 "cells": [
  {
   "cell_type": "markdown",
   "id": "d17533ce",
   "metadata": {},
   "source": [
    "# Exercises III: Transformer Class"
   ]
  },
  {
   "cell_type": "code",
   "execution_count": null,
   "id": "7aed7e08",
   "metadata": {},
   "outputs": [],
   "source": [
    "import numpy as np\n",
    "import pandas as pd"
   ]
  },
  {
   "cell_type": "code",
   "execution_count": null,
   "id": "afee6fca",
   "metadata": {},
   "outputs": [],
   "source": [
    "# Generate some dummy data to transform.\n",
    "n = 150\n",
    "cities = {\n",
    "    \"Amsterdam\": .20,\n",
    "    \"Rotterdam\": .20,\n",
    "    \"Den Haag\":  .18,\n",
    "    \"Utrecht\":   .12,\n",
    "    \"Eindhoven\": .10,\n",
    "    \"Groningen\": .06,\n",
    "    \"Tilburg\":   .04,\n",
    "    \"Almere\":    .04,\n",
    "    \"Breda\":     .03,\n",
    "    \"Nijmegen\":  .03,\n",
    "}\n",
    "\n",
    "df = pd.DataFrame({\n",
    "    \"city\": np.random.choice(list(cities), n, p=[p for _, p in cities.items()]),\n",
    "    \"label\": np.random.choice(list(\"ABCDEF\"), n, p=[.05, .3, .3, .2, .1, .05])\n",
    "})\n",
    "df.head(3)"
   ]
  },
  {
   "cell_type": "code",
   "execution_count": null,
   "id": "bef40fa8",
   "metadata": {},
   "outputs": [],
   "source": [
    "class InfrequentRecoder:\n",
    "    \"\"\"Transformer for recoding infrequent categories.\"\"\"\n",
    "    def __init__(self):\n",
    "        # Dict for the most frequent categories per column.\n",
    "        self._most_frequent = {}\n",
    "\n",
    "    def fit(self, X, y=None):\n",
    "        \"\"\"Store most frequent categories per column.\"\"\"\n",
    "\n",
    "        # Get all categorical columns.\n",
    "\n",
    "        # Store top 3 categories per column.\n",
    "\n",
    "        return self\n",
    "\n",
    "    def transform(self, X, y=None):\n",
    "        \"\"\"Recode all but the most frequent categories.\"\"\"\n",
    "\n",
    "        # Go through the stored columns and categories.\n",
    "\n",
    "        # Apply recoding for each column.\n",
    "\n",
    "        return X"
   ]
  },
  {
   "cell_type": "code",
   "execution_count": null,
   "id": "e74d199c",
   "metadata": {},
   "outputs": [],
   "source": [
    "# Create and fit the InfrequentRecoder.\n",
    "recoder = InfrequentRecoder()\n",
    "recoder.fit(df)"
   ]
  },
  {
   "cell_type": "code",
   "execution_count": null,
   "id": "8ad94231",
   "metadata": {},
   "outputs": [],
   "source": [
    "# Transform the dummy data.\n",
    "recoder.transform(df)"
   ]
  },
  {
   "cell_type": "code",
   "execution_count": null,
   "id": "ad5996f7",
   "metadata": {},
   "outputs": [],
   "source": []
  }
 ],
 "metadata": {
  "kernelspec": {
   "display_name": "Python 3 (ipykernel)",
   "language": "python",
   "name": "python3"
  },
  "language_info": {
   "codemirror_mode": {
    "name": "ipython",
    "version": 3
   },
   "file_extension": ".py",
   "mimetype": "text/x-python",
   "name": "python",
   "nbconvert_exporter": "python",
   "pygments_lexer": "ipython3",
   "version": "3.9.18"
  }
 },
 "nbformat": 4,
 "nbformat_minor": 5
}
