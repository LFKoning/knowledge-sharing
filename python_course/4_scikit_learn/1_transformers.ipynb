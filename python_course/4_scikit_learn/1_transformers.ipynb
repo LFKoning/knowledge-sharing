{
 "cells": [
  {
   "cell_type": "markdown",
   "id": "ffc8194e",
   "metadata": {},
   "source": [
    "# Transformers"
   ]
  },
  {
   "cell_type": "code",
   "execution_count": 41,
   "id": "986d45f4",
   "metadata": {},
   "outputs": [],
   "source": [
    "import pandas as pd\n",
    "\n",
    "from sklearn.preprocessing import StandardScaler\n",
    "from sklearn.feature_extraction.text import CountVectorizer"
   ]
  },
  {
   "cell_type": "markdown",
   "id": "8275a725",
   "metadata": {},
   "source": [
    "## Scale Numeric Data"
   ]
  },
  {
   "cell_type": "code",
   "execution_count": null,
   "id": "74709756",
   "metadata": {},
   "outputs": [],
   "source": [
    "# Create dummy data.\n",
    "df = pd.DataFrame({\"x\": [1, 2, 3, 4]})\n",
    "print(f\"Mean:     {df['x'].mean():5.2f}\")\n",
    "print(f\"Std:      {df['x'].std(ddof=0):5.2f}\")\n",
    "print(f\"Variance: {df['x'].std(ddof=0) ** 2:5.2f}\")"
   ]
  },
  {
   "cell_type": "code",
   "execution_count": null,
   "id": "a9ba67e9",
   "metadata": {},
   "outputs": [],
   "source": [
    "# Create and fit the scaler.\n",
    "scaler = StandardScaler()\n",
    "scaler.fit(df)"
   ]
  },
  {
   "cell_type": "code",
   "execution_count": null,
   "id": "2f3a8120",
   "metadata": {},
   "outputs": [],
   "source": [
    "# Mean learned by the scaler.\n",
    "scaler.mean_"
   ]
  },
  {
   "cell_type": "code",
   "execution_count": null,
   "id": "704af40a",
   "metadata": {},
   "outputs": [],
   "source": [
    "# Variance learned by the scaler.\n",
    "scaler.var_"
   ]
  },
  {
   "cell_type": "code",
   "execution_count": null,
   "id": "a959fcc4",
   "metadata": {},
   "outputs": [],
   "source": [
    "# Scaling factor based on variance.\n",
    "scaler.scale_"
   ]
  },
  {
   "cell_type": "code",
   "execution_count": null,
   "id": "15135a1f",
   "metadata": {},
   "outputs": [],
   "source": [
    "# Transform the data.\n",
    "scaler.transform(df)"
   ]
  },
  {
   "cell_type": "code",
   "execution_count": null,
   "id": "96268e70",
   "metadata": {},
   "outputs": [],
   "source": [
    "# Use set_output() to get pandas output.\n",
    "scaler.set_output(transform=\"pandas\")\n",
    "scaler.transform(df)"
   ]
  },
  {
   "cell_type": "code",
   "execution_count": null,
   "id": "a70b9b89",
   "metadata": {},
   "outputs": [],
   "source": [
    "# Check: Manually transform the data.\n",
    "(df[\"x\"] - scaler.mean_) / scaler.scale_"
   ]
  },
  {
   "cell_type": "code",
   "execution_count": null,
   "id": "c29b37d4",
   "metadata": {},
   "outputs": [],
   "source": [
    "# Check: Zero mean and 1 STD\n",
    "print(\"Scaled Mean: \", scaler.transform(df)[\"x\"].mean())\n",
    "print(\"Scaled Std:  \", scaler.transform(df)[\"x\"].std(ddof=0))"
   ]
  },
  {
   "cell_type": "code",
   "execution_count": null,
   "id": "f110cd47",
   "metadata": {},
   "outputs": [],
   "source": []
  }
 ],
 "metadata": {
  "kernelspec": {
   "display_name": "Python 3 (ipykernel)",
   "language": "python",
   "name": "python3"
  },
  "language_info": {
   "codemirror_mode": {
    "name": "ipython",
    "version": 3
   },
   "file_extension": ".py",
   "mimetype": "text/x-python",
   "name": "python",
   "nbconvert_exporter": "python",
   "pygments_lexer": "ipython3",
   "version": "3.11.9"
  }
 },
 "nbformat": 4,
 "nbformat_minor": 5
}
