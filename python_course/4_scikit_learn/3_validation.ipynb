{
 "cells": [
  {
   "cell_type": "markdown",
   "id": "41977a6a",
   "metadata": {},
   "source": [
    "# Validation"
   ]
  },
  {
   "cell_type": "code",
   "execution_count": 1,
   "id": "d830c4dd",
   "metadata": {},
   "outputs": [],
   "source": [
    "import pandas as pd\n",
    "\n",
    "from sklearn.pipeline import Pipeline\n",
    "from sklearn.compose import ColumnTransformer\n",
    "from sklearn.preprocessing import OneHotEncoder, StandardScaler\n",
    "\n",
    "from sklearn.linear_model import LogisticRegression\n",
    "\n",
    "from sklearn.metrics import accuracy_score, precision_score, recall_score, confusion_matrix"
   ]
  },
  {
   "cell_type": "markdown",
   "id": "c2445ca6",
   "metadata": {},
   "source": [
    "## Load Data"
   ]
  },
  {
   "cell_type": "code",
   "execution_count": null,
   "id": "060852f4",
   "metadata": {},
   "outputs": [],
   "source": [
    "# Read in the banking data set.\n",
    "df = pd.read_csv(\"../0_data/banking/bank-additional-full.csv\", sep=\";\")\n",
    "df.head(3)"
   ]
  },
  {
   "cell_type": "code",
   "execution_count": 3,
   "id": "6b9643a7",
   "metadata": {},
   "outputs": [],
   "source": [
    "# Split features and labels.\n",
    "X = df.drop(columns=[\"duration\", \"pdays\", \"y\"])\n",
    "y = df[\"y\"]"
   ]
  },
  {
   "cell_type": "markdown",
   "id": "45283ca9",
   "metadata": {},
   "source": [
    "## Create Model"
   ]
  },
  {
   "cell_type": "code",
   "execution_count": 4,
   "id": "4180b35d",
   "metadata": {},
   "outputs": [],
   "source": [
    "# Get column names per data type.\n",
    "categorical = X.select_dtypes(\"object\").columns\n",
    "numerical = X.select_dtypes(\"number\").columns"
   ]
  },
  {
   "cell_type": "code",
   "execution_count": 5,
   "id": "fcec58e9",
   "metadata": {},
   "outputs": [],
   "source": [
    "# Set up the ColumnTransformer.\n",
    "transformer = ColumnTransformer(\n",
    "    transformers=[\n",
    "        (\"encode_categorical\", OneHotEncoder(handle_unknown=\"ignore\"), categorical),\n",
    "        (\"scale_numerical\", StandardScaler(), numerical),\n",
    "    ]\n",
    ")"
   ]
  },
  {
   "cell_type": "code",
   "execution_count": 6,
   "id": "63d800d8",
   "metadata": {},
   "outputs": [],
   "source": [
    "# Linear model.\n",
    "linear = Pipeline(\n",
    "    steps=[\n",
    "        (\"preparation\", transformer),\n",
    "        (\"model\", LogisticRegression(max_iter=500)),\n",
    "    ]\n",
    ")"
   ]
  },
  {
   "cell_type": "markdown",
   "id": "42a1b10b",
   "metadata": {},
   "source": [
    "## Evaluation Metrics"
   ]
  },
  {
   "cell_type": "code",
   "execution_count": 7,
   "id": "75872817",
   "metadata": {},
   "outputs": [],
   "source": [
    "# Get predictions for the train set from the model.\n",
    "linear.fit(X, y)\n",
    "predictions = linear.predict(X)"
   ]
  },
  {
   "cell_type": "code",
   "execution_count": null,
   "id": "2a4fb68c",
   "metadata": {},
   "outputs": [],
   "source": [
    "# Get the confusion matrix.\n",
    "# Note: rows are actual [N, P], columns are predicted [N, P].\n",
    "conf_mtx = confusion_matrix(y, predictions)\n",
    "conf_mtx"
   ]
  },
  {
   "cell_type": "code",
   "execution_count": null,
   "id": "1124218f",
   "metadata": {},
   "outputs": [],
   "source": [
    "# Compute accuracy score.\n",
    "accuracy_score(y, predictions)"
   ]
  },
  {
   "cell_type": "code",
   "execution_count": null,
   "id": "6ffa6a89",
   "metadata": {},
   "outputs": [],
   "source": [
    "# Double check...\n",
    "tn, fp, fn, tp = conf_mtx.ravel()\n",
    "total = conf_mtx.sum()\n",
    "\n",
    "(tp + tn) / total"
   ]
  },
  {
   "cell_type": "code",
   "execution_count": null,
   "id": "794e2115",
   "metadata": {},
   "outputs": [],
   "source": [
    "# Precision score\n",
    "# Note: Percentage correct of positive predictions.\n",
    "precision_score(y, predictions, pos_label=\"yes\")"
   ]
  },
  {
   "cell_type": "code",
   "execution_count": null,
   "id": "cadad053",
   "metadata": {},
   "outputs": [],
   "source": [
    " # Double check...\n",
    "tp / (tp + fp)"
   ]
  },
  {
   "cell_type": "code",
   "execution_count": null,
   "id": "446c6d7d",
   "metadata": {},
   "outputs": [],
   "source": [
    "# Recall score\n",
    "# Note: Percentage correct of actual positive.\n",
    "recall_score(y, predictions, pos_label=\"yes\")"
   ]
  },
  {
   "cell_type": "code",
   "execution_count": null,
   "id": "d7c9b837",
   "metadata": {},
   "outputs": [],
   "source": [
    "# Double check...\n",
    "tp / (tp + fn)"
   ]
  },
  {
   "cell_type": "code",
   "execution_count": null,
   "id": "7b35fe35",
   "metadata": {},
   "outputs": [],
   "source": []
  }
 ],
 "metadata": {
  "kernelspec": {
   "display_name": "python-course",
   "language": "python",
   "name": "python3"
  },
  "language_info": {
   "codemirror_mode": {
    "name": "ipython",
    "version": 3
   },
   "file_extension": ".py",
   "mimetype": "text/x-python",
   "name": "python",
   "nbconvert_exporter": "python",
   "pygments_lexer": "ipython3",
   "version": "3.11.9"
  }
 },
 "nbformat": 4,
 "nbformat_minor": 5
}
