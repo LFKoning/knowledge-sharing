{
 "cells": [
  {
   "cell_type": "markdown",
   "id": "7cd09e2a",
   "metadata": {},
   "source": [
    "# Solutions III: Modelling"
   ]
  },
  {
   "cell_type": "code",
   "execution_count": null,
   "id": "969706cb",
   "metadata": {},
   "outputs": [],
   "source": [
    "import pandas as pd\n",
    "\n",
    "from sklearn.pipeline import Pipeline\n",
    "from sklearn.compose import ColumnTransformer\n",
    "from sklearn.preprocessing import OneHotEncoder"
   ]
  },
  {
   "cell_type": "markdown",
   "id": "12513f98",
   "metadata": {},
   "source": [
    "## Load Data"
   ]
  },
  {
   "cell_type": "code",
   "execution_count": null,
   "id": "cf54762b",
   "metadata": {},
   "outputs": [],
   "source": [
    "# Read in the banking data set.\n",
    "df = pd.read_csv(\"../../0_data/banking/bank-additional-full.csv\", sep=\";\")\n",
    "df.head(3)"
   ]
  },
  {
   "cell_type": "code",
   "execution_count": null,
   "id": "f579e5a1",
   "metadata": {},
   "outputs": [],
   "source": [
    "# Split features and labels.\n",
    "X = df.drop(columns=[\"duration\", \"pdays\", \"y\"])\n",
    "y = df[\"y\"]"
   ]
  },
  {
   "cell_type": "markdown",
   "id": "ee5a7303",
   "metadata": {},
   "source": [
    "## Data Preparation"
   ]
  },
  {
   "cell_type": "code",
   "execution_count": null,
   "id": "313abae7",
   "metadata": {},
   "outputs": [],
   "source": [
    "# Get column names per data type.\n",
    "categorical = X.select_dtypes(\"object\").columns"
   ]
  },
  {
   "cell_type": "code",
   "execution_count": null,
   "id": "61256745",
   "metadata": {},
   "outputs": [],
   "source": [
    "# Create a OneHotEncoder and StandardScaler.\n",
    "ohe = OneHotEncoder(sparse_output=False)"
   ]
  },
  {
   "cell_type": "code",
   "execution_count": null,
   "id": "6f23a11c",
   "metadata": {},
   "outputs": [],
   "source": [
    "# Set up the ColumnTransformer.\n",
    "transformer = ColumnTransformer(\n",
    "    transformers=[\n",
    "        (\"encode_categorical\", ohe, categorical),\n",
    "    ],\n",
    "    remainder=\"passthrough\",\n",
    ")"
   ]
  },
  {
   "cell_type": "code",
   "execution_count": null,
   "id": "871bb373",
   "metadata": {},
   "outputs": [],
   "source": [
    "# Transform the data.\n",
    "# Note: Use transform=\"pandas\" to get a DataFrame.\n",
    "transformer.set_output(transform=\"pandas\")\n",
    "Xt = transformer.fit_transform(X)"
   ]
  },
  {
   "cell_type": "code",
   "execution_count": null,
   "id": "7f826671",
   "metadata": {},
   "outputs": [],
   "source": [
    "# Quick inspection of the transformed data.\n",
    "Xt.head(3)"
   ]
  },
  {
   "cell_type": "markdown",
   "id": "feb42e43",
   "metadata": {},
   "source": [
    "## RandomForest Model"
   ]
  },
  {
   "cell_type": "code",
   "execution_count": null,
   "id": "0f433ca8",
   "metadata": {},
   "outputs": [],
   "source": [
    "from sklearn.ensemble import RandomForestClassifier"
   ]
  },
  {
   "cell_type": "code",
   "execution_count": null,
   "id": "525814ac",
   "metadata": {},
   "outputs": [],
   "source": [
    "# Create random forest model instance.\n",
    "rf = RandomForestClassifier(n_jobs=-1)"
   ]
  },
  {
   "cell_type": "code",
   "execution_count": null,
   "id": "01b79f6c",
   "metadata": {},
   "outputs": [],
   "source": [
    "# Fit to the data.\n",
    "rf.fit(Xt, y)"
   ]
  },
  {
   "cell_type": "code",
   "execution_count": null,
   "id": "cf10dfd9",
   "metadata": {},
   "outputs": [],
   "source": [
    "# Create predictions.\n",
    "predicted = rf.predict(Xt)"
   ]
  },
  {
   "cell_type": "code",
   "execution_count": null,
   "id": "af2c3505",
   "metadata": {},
   "outputs": [],
   "source": [
    "# Accuracy is extremely high.\n",
    "(y == predicted).mean()"
   ]
  },
  {
   "cell_type": "markdown",
   "id": "ce277d09",
   "metadata": {},
   "source": [
    "### Feature Importances"
   ]
  },
  {
   "cell_type": "code",
   "execution_count": null,
   "id": "8faddbaf",
   "metadata": {},
   "outputs": [],
   "source": [
    "# Important features; not very readable...\n",
    "rf.feature_importances_"
   ]
  },
  {
   "cell_type": "code",
   "execution_count": null,
   "id": "76b5b7b5",
   "metadata": {},
   "outputs": [],
   "source": [
    "# Combine with feature names into a DataFrame\n",
    "importance = pd.DataFrame({\n",
    "    \"feature\": rf.feature_names_in_,\n",
    "    \"importance\": rf.feature_importances_,\n",
    "})"
   ]
  },
  {
   "cell_type": "code",
   "execution_count": null,
   "id": "10addbd4",
   "metadata": {},
   "outputs": [],
   "source": [
    "# Show top 10 features\n",
    "(\n",
    "    importance\n",
    "    .sort_values(\"importance\", ascending=False)\n",
    "    .round(3)\n",
    "    .head(10)\n",
    ")"
   ]
  },
  {
   "cell_type": "markdown",
   "id": "abebfffd",
   "metadata": {},
   "source": [
    "### Probabilities"
   ]
  },
  {
   "cell_type": "code",
   "execution_count": null,
   "id": "9465df48",
   "metadata": {},
   "outputs": [],
   "source": [
    "# Get the prediction probabilities\n",
    "probabilities = rf.predict_proba(Xt)\n",
    "probabilities[0]"
   ]
  },
  {
   "cell_type": "code",
   "execution_count": null,
   "id": "aa2cc463",
   "metadata": {},
   "outputs": [],
   "source": [
    "# First probability correspondes to \"no\" label.\n",
    "predicted[0]"
   ]
  },
  {
   "cell_type": "code",
   "execution_count": null,
   "id": "eeac54fb",
   "metadata": {},
   "outputs": [],
   "source": [
    "# Combine the data with predictions and probabilities (for \"yes\").\n",
    "analysis = (\n",
    "    df.assign(\n",
    "        predicted=predicted,\n",
    "        probability_yes=probabilities[:, 1],\n",
    "    )\n",
    "    \n",
    ")"
   ]
  },
  {
   "cell_type": "code",
   "execution_count": null,
   "id": "cb63d5e6",
   "metadata": {},
   "outputs": [],
   "source": [
    "# Uncertain predictions are close to the decision boundary.\n",
    "# Note: Compute the absolute distance to the 0.5 boundary.\n",
    "analysis = analysis.assign(\n",
    "    certainty=(0.5 - analysis[\"probability_yes\"]).abs()\n",
    ")\n",
    "analysis.sample(3)"
   ]
  },
  {
   "cell_type": "code",
   "execution_count": null,
   "id": "2399c0d1",
   "metadata": {},
   "outputs": [],
   "source": [
    "# Find the top 10 most uncertain predictions.\n",
    "analysis.sort_values(\"certainty\").head(10).T"
   ]
  },
  {
   "cell_type": "code",
   "execution_count": null,
   "id": "036c1758",
   "metadata": {},
   "outputs": [],
   "source": [
    "# Find the 10 most confident predictions that were wrong.\n",
    "(\n",
    "    analysis\n",
    "    \n",
    "    # Filter wrong predictions only.\n",
    "    .query(\"y != predicted\")\n",
    "\n",
    "    # Sort values on descencing certainty.\n",
    "    .sort_values(\"certainty\", ascending=False)\n",
    "    \n",
    "    .head(10)\n",
    "    .T\n",
    ")"
   ]
  },
  {
   "cell_type": "markdown",
   "id": "732909d7",
   "metadata": {},
   "source": [
    "## Combine with Pipeline"
   ]
  },
  {
   "cell_type": "code",
   "execution_count": null,
   "id": "a11d12ec",
   "metadata": {},
   "outputs": [],
   "source": [
    "# Get column names per data type.\n",
    "categorical = X.select_dtypes(\"object\").columns\n",
    "numerical = X.select_dtypes(\"number\").columns"
   ]
  },
  {
   "cell_type": "code",
   "execution_count": null,
   "id": "61e38f5b",
   "metadata": {},
   "outputs": [],
   "source": [
    "# Set up the ColumnTransformer.\n",
    "transformer = ColumnTransformer(\n",
    "    transformers=[\n",
    "        (\"encode_categorical\", OneHotEncoder(), categorical),\n",
    "    ],\n",
    "    remainder=\"passthrough\",\n",
    ")"
   ]
  },
  {
   "cell_type": "code",
   "execution_count": null,
   "id": "ed6f0db2",
   "metadata": {},
   "outputs": [],
   "source": [
    "# Set up the model.\n",
    "random_forest = RandomForestClassifier(n_jobs=-1)"
   ]
  },
  {
   "cell_type": "code",
   "execution_count": null,
   "id": "941fe2d5",
   "metadata": {},
   "outputs": [],
   "source": [
    "# Combine preparation and model using a Pipeline.\n",
    "pipe = Pipeline(\n",
    "    steps=[\n",
    "        (\"preparation\", transformer),\n",
    "        (\"model\", random_forest),\n",
    "    ]\n",
    ")"
   ]
  },
  {
   "cell_type": "code",
   "execution_count": null,
   "id": "60395add",
   "metadata": {
    "scrolled": false
   },
   "outputs": [],
   "source": [
    "# Fit now prepares the data and then feeds it to the model.\n",
    "pipe.fit(X, y)"
   ]
  },
  {
   "cell_type": "code",
   "execution_count": null,
   "id": "065fc26b",
   "metadata": {},
   "outputs": [],
   "source": [
    "# Predict also prepares the data before feeding it to the model.\n",
    "pipe.predict(X)"
   ]
  },
  {
   "cell_type": "code",
   "execution_count": null,
   "id": "c3f1284d",
   "metadata": {},
   "outputs": [],
   "source": [
    "# Accessing a Pipeline step by its name.\n",
    "pipe[\"model\"]"
   ]
  },
  {
   "cell_type": "code",
   "execution_count": null,
   "id": "a6c1a93a",
   "metadata": {},
   "outputs": [],
   "source": [
    "# Getting feature names produced in preparation.\n",
    "pipe[\"preparation\"].get_feature_names_out()"
   ]
  },
  {
   "cell_type": "code",
   "execution_count": null,
   "id": "b86d4a31",
   "metadata": {},
   "outputs": [],
   "source": [
    "# Getting feature importances\n",
    "pipe[\"model\"].feature_importances_"
   ]
  },
  {
   "cell_type": "code",
   "execution_count": null,
   "id": "f28a76cb",
   "metadata": {},
   "outputs": [],
   "source": []
  }
 ],
 "metadata": {
  "kernelspec": {
   "display_name": "Python 3 (ipykernel)",
   "language": "python",
   "name": "python3"
  },
  "language_info": {
   "codemirror_mode": {
    "name": "ipython",
    "version": 3
   },
   "file_extension": ".py",
   "mimetype": "text/x-python",
   "name": "python",
   "nbconvert_exporter": "python",
   "pygments_lexer": "ipython3",
   "version": "3.9.18"
  }
 },
 "nbformat": 4,
 "nbformat_minor": 5
}
