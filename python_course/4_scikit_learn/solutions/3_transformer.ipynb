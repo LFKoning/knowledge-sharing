{
 "cells": [
  {
   "cell_type": "markdown",
   "id": "d17533ce",
   "metadata": {},
   "source": [
    "# Exercises III: Transformer Class"
   ]
  },
  {
   "cell_type": "code",
   "execution_count": 1,
   "id": "7aed7e08",
   "metadata": {},
   "outputs": [],
   "source": [
    "import numpy as np\n",
    "import pandas as pd\n",
    "\n",
    "from sklearn.preprocessing import OneHotEncoder"
   ]
  },
  {
   "cell_type": "code",
   "execution_count": null,
   "id": "afee6fca",
   "metadata": {},
   "outputs": [],
   "source": [
    "# Generate some dummy data to transform.\n",
    "n = 150\n",
    "cities = {\n",
    "    \"Amsterdam\": .20,\n",
    "    \"Rotterdam\": .20,\n",
    "    \"Den Haag\":  .18,\n",
    "    \"Utrecht\":   .12,\n",
    "    \"Eindhoven\": .10,\n",
    "    \"Groningen\": .06,\n",
    "    \"Tilburg\":   .04,\n",
    "    \"Almere\":    .04,\n",
    "    \"Breda\":     .03,\n",
    "    \"Nijmegen\":  .03,\n",
    "}\n",
    "\n",
    "df = pd.DataFrame({\n",
    "    \"city\": np.random.choice(list(cities), n, p=[p for _, p in cities.items()]),\n",
    "    \"label\": np.random.choice(list(\"ABCDEF\"), n, p=[.05, .3, .3, .2, .1, .05])\n",
    "})\n",
    "df.head(3)"
   ]
  },
  {
   "cell_type": "code",
   "execution_count": 3,
   "id": "bef40fa8",
   "metadata": {},
   "outputs": [],
   "source": [
    "class InfrequentRecoder:\n",
    "    \"\"\"Transformer for recoding infrequent categories.\"\"\"\n",
    "    def __init__(self, topn=3, replace=\"other\"):\n",
    "        # Dict for the most frequent categories per column.\n",
    "        self._most_frequent = {}\n",
    "\n",
    "        # Store additional settings.\n",
    "        self.topn = topn\n",
    "        self.replace = replace\n",
    "\n",
    "    def fit(self, X, y=None):\n",
    "        \"\"\"Store most frequent categories per column.\"\"\"\n",
    "        # Get all categorical columns.\n",
    "        columns = X.select_dtypes(\"object\").columns\n",
    "\n",
    "        # Store top 3 categories per column.\n",
    "        for column in columns:\n",
    "            most_frequent = X[column].value_counts().head(self.topn)\n",
    "            self._most_frequent[column] = most_frequent.index\n",
    "\n",
    "        return self\n",
    "\n",
    "    def transform(self, X, y=None):\n",
    "        \"\"\"Recode all but the most frequent categories.\"\"\"\n",
    "\n",
    "        # Go through the stored columns and categories.\n",
    "        recodes = {}\n",
    "        for column, most_frequent in self._most_frequent.items():\n",
    "\n",
    "            # Create recoded Series for each column.\n",
    "            recodes[column] = X[column].map(\n",
    "                lambda v: v if v in most_frequent else self.replace\n",
    "            )\n",
    "\n",
    "        # Return transformed data.\n",
    "        return X.assign(**recodes)"
   ]
  },
  {
   "cell_type": "code",
   "execution_count": null,
   "id": "e74d199c",
   "metadata": {},
   "outputs": [],
   "source": [
    "# Create and fit the InfrequentRecoder.\n",
    "recoder = InfrequentRecoder()\n",
    "recoder.fit(df)"
   ]
  },
  {
   "cell_type": "code",
   "execution_count": null,
   "id": "8ad94231",
   "metadata": {},
   "outputs": [],
   "source": [
    "# Transform the dummy data.\n",
    "df_recoded = recoder.transform(df)\n",
    "df_recoded"
   ]
  },
  {
   "cell_type": "code",
   "execution_count": null,
   "id": "ad5996f7",
   "metadata": {},
   "outputs": [],
   "source": [
    "# Check recoded city values.\n",
    "df_recoded[\"city\"].value_counts()"
   ]
  },
  {
   "cell_type": "code",
   "execution_count": null,
   "id": "7f2ce694",
   "metadata": {},
   "outputs": [],
   "source": [
    "# Check recoded label values.\n",
    "df_recoded[\"label\"].value_counts()"
   ]
  },
  {
   "cell_type": "code",
   "execution_count": null,
   "id": "698cc5dd",
   "metadata": {},
   "outputs": [],
   "source": [
    "# Create a OneHotEncoder\n",
    "encoder = OneHotEncoder(sparse_output=False)\n",
    "encoder.set_output(transform=\"pandas\")"
   ]
  },
  {
   "cell_type": "code",
   "execution_count": null,
   "id": "10e4ebb1",
   "metadata": {},
   "outputs": [],
   "source": [
    "# Fit and transform the data.\n",
    "df_recoded = recoder.transform(df)\n",
    "encoder.fit_transform(df_recoded)"
   ]
  },
  {
   "cell_type": "code",
   "execution_count": null,
   "id": "21ab002f",
   "metadata": {},
   "outputs": [],
   "source": []
  }
 ],
 "metadata": {
  "kernelspec": {
   "display_name": "python-course",
   "language": "python",
   "name": "python3"
  },
  "language_info": {
   "codemirror_mode": {
    "name": "ipython",
    "version": 3
   },
   "file_extension": ".py",
   "mimetype": "text/x-python",
   "name": "python",
   "nbconvert_exporter": "python",
   "pygments_lexer": "ipython3",
   "version": "3.11.9"
  }
 },
 "nbformat": 4,
 "nbformat_minor": 5
}
