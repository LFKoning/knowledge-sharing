{
 "cells": [
  {
   "cell_type": "markdown",
   "id": "7659cfd1",
   "metadata": {},
   "source": [
    "# Solutions IV: Validation and Selection"
   ]
  },
  {
   "cell_type": "code",
   "execution_count": null,
   "id": "f538efb1",
   "metadata": {},
   "outputs": [],
   "source": [
    "import pandas as pd\n",
    "\n",
    "from sklearn.pipeline import Pipeline\n",
    "from sklearn.compose import ColumnTransformer\n",
    "from sklearn.preprocessing import OneHotEncoder, StandardScaler\n",
    "\n",
    "from sklearn.dummy import DummyClassifier\n",
    "from sklearn.ensemble import RandomForestClassifier\n",
    "\n",
    "from sklearn.model_selection import train_test_split, KFold\n",
    "\n",
    "from sklearn.metrics import accuracy_score"
   ]
  },
  {
   "cell_type": "markdown",
   "id": "1644bbee",
   "metadata": {},
   "source": [
    "## Load Data"
   ]
  },
  {
   "cell_type": "code",
   "execution_count": null,
   "id": "f79e4f19",
   "metadata": {},
   "outputs": [],
   "source": [
    "# Read in the banking data set.\n",
    "df = pd.read_csv(\"../../0_data/banking/bank-additional-full.csv\", sep=\";\")\n",
    "df.head(3)"
   ]
  },
  {
   "cell_type": "code",
   "execution_count": null,
   "id": "31c68267",
   "metadata": {},
   "outputs": [],
   "source": [
    "# Split features and labels.\n",
    "X = df.drop(columns=[\"duration\", \"pdays\", \"y\"])\n",
    "y = df[\"y\"]"
   ]
  },
  {
   "cell_type": "markdown",
   "id": "203b72a4",
   "metadata": {},
   "source": [
    "## Create Models"
   ]
  },
  {
   "cell_type": "code",
   "execution_count": null,
   "id": "74053783",
   "metadata": {},
   "outputs": [],
   "source": [
    "# Get column names per data type.\n",
    "categorical = X.select_dtypes(\"object\").columns\n",
    "numerical = X.select_dtypes(\"number\").columns"
   ]
  },
  {
   "cell_type": "code",
   "execution_count": null,
   "id": "6ad9b2af",
   "metadata": {},
   "outputs": [],
   "source": [
    "# Set up the data preparation.\n",
    "transformer = ColumnTransformer(\n",
    "    transformers=[\n",
    "        (\"encode_categorical\", OneHotEncoder(handle_unknown=\"ignore\"), categorical),\n",
    "    ],\n",
    "    remainder=\"passthrough\",\n",
    ")"
   ]
  },
  {
   "cell_type": "code",
   "execution_count": null,
   "id": "f2f37f58",
   "metadata": {},
   "outputs": [],
   "source": [
    "# Create the DummyClassifier.\n",
    "dummy_model = DummyClassifier(strategy=\"stratified\")"
   ]
  },
  {
   "cell_type": "code",
   "execution_count": null,
   "id": "34230184",
   "metadata": {},
   "outputs": [],
   "source": [
    "# Create pipeline for the RandomForestClassifier.\n",
    "forest_model = Pipeline(\n",
    "    steps=[\n",
    "        (\"preparation\", transformer),\n",
    "        (\"model\", RandomForestClassifier(n_jobs=-1)),\n",
    "    ]\n",
    ")"
   ]
  },
  {
   "cell_type": "markdown",
   "id": "66a68041",
   "metadata": {},
   "source": [
    "## Train versus Test Performance"
   ]
  },
  {
   "cell_type": "code",
   "execution_count": null,
   "id": "79d7c11e",
   "metadata": {},
   "outputs": [],
   "source": [
    "# Split X and y into train and test.\n",
    "X_train, X_test, y_train, y_test = train_test_split(X, y, train_size=.7)"
   ]
  },
  {
   "cell_type": "code",
   "execution_count": null,
   "id": "64ea8bc3",
   "metadata": {},
   "outputs": [],
   "source": [
    "# Check sizes\n",
    "print(\"Total records: \", X.shape[0])\n",
    "print(\"Train records: \", X_train.shape[0])\n",
    "print(\"Test  records: \", X_test.shape[0])"
   ]
  },
  {
   "cell_type": "code",
   "execution_count": null,
   "id": "b0ecae2f",
   "metadata": {},
   "outputs": [],
   "source": [
    "# Get performance of DummyClassifier and RandomForestClassifier.\n",
    "# Report performance on both train and test sets.\n",
    "models = {\"Dummy\": dummy_model, \"RandomForest\": forest_model}\n",
    "\n",
    "print(\"-\" * 40)\n",
    "for model_name, model in models.items():\n",
    "    model.fit(X_train, y_train)\n",
    "\n",
    "    predict_train = model.predict(X_train)\n",
    "    predict_test = model.predict(X_test)\n",
    "\n",
    "    # Compute accuracy\n",
    "    train_acc = accuracy_score(y_train, predict_train)\n",
    "    test_acc = accuracy_score(y_test, predict_test)\n",
    "\n",
    "    # Print report\n",
    "    print(f\"Model:              {model_name:>20s}\")\n",
    "    print(f\"Accuracy train:     {train_acc:20.3f}\")\n",
    "    print(f\"Accuracy test:      {test_acc:20.3f}\")\n",
    "    print(\"-\" * 40)"
   ]
  },
  {
   "cell_type": "code",
   "execution_count": null,
   "id": "9e26703d",
   "metadata": {},
   "outputs": [],
   "source": [
    "# Note: The RandomForestClassifier seems to overfit quite a bit."
   ]
  },
  {
   "cell_type": "code",
   "execution_count": null,
   "id": "453873ec",
   "metadata": {},
   "outputs": [],
   "source": [
    "# Does DummyClassifier outperform always predicting no?\n",
    "# It does not, because it draws at random from the labels yes / no.\n",
    "print(\"Accuracy Always No\")\n",
    "print(f\"Accuracy train: {(y_train == 'no').sum() / y_train.shape[0]:.3f}\")\n",
    "print(f\"Accuracy test:  {(y_test == 'no').sum()  / y_test.shape[0]:.3f}\")"
   ]
  },
  {
   "cell_type": "markdown",
   "id": "0d55d24c",
   "metadata": {},
   "source": [
    "## Cross Validation"
   ]
  },
  {
   "cell_type": "code",
   "execution_count": null,
   "id": "e51f559a",
   "metadata": {},
   "outputs": [],
   "source": [
    "# Create KFold object and specify number of splits.\n",
    "kfold = KFold(n_splits=5)"
   ]
  },
  {
   "cell_type": "code",
   "execution_count": null,
   "id": "f01064fc",
   "metadata": {
    "scrolled": false
   },
   "outputs": [],
   "source": [
    "# Perform cross-validation with 5 splits.\n",
    "kfold = KFold(n_splits=5)\n",
    "for fold, (train_idx, test_idx) in enumerate(kfold.split(X, y), start=1):\n",
    "\n",
    "    # Create data sets for the fold.\n",
    "    # Note: Use .iloc[] because we get indices!\n",
    "    X_train = X.iloc[train_idx]\n",
    "    y_train = y.iloc[train_idx]\n",
    "\n",
    "    X_test = X.iloc[test_idx]\n",
    "    y_test = y.iloc[test_idx]\n",
    "\n",
    "    # Train the model, get predictions and accuracy.\n",
    "    forest_model.fit(X_train, y_train)\n",
    "    predictions = forest_model.predict(X_test)\n",
    "    accuracy = accuracy_score(y_test, predictions)\n",
    "\n",
    "    # Print details.\n",
    "    print(f\"----------- [Fold {fold}] ----------\")\n",
    "    print(f\"Test cases:       {test_idx[0]:5d} - {test_idx[-1]:5d}\")\n",
    "    print(f\"Accuracy:         {accuracy:13.3f}\")"
   ]
  },
  {
   "cell_type": "code",
   "execution_count": null,
   "id": "db0206a6",
   "metadata": {},
   "outputs": [],
   "source": [
    "# Plot occurrence of the \"yes\" label throughout the dataset.\n",
    "(\n",
    "    pd.DataFrame({\n",
    "        \"index\": df.index,\n",
    "        \"total_yes\": (df[\"y\"] == \"yes\").cumsum(),\n",
    "    })\n",
    "    .plot(\n",
    "        x=\"index\",\n",
    "        y=\"total_yes\",\n",
    "        title=\"Label: Yes - Cumulative\",\n",
    "        figsize=(10, 3),\n",
    "    )\n",
    ")\n",
    "None"
   ]
  },
  {
   "cell_type": "code",
   "execution_count": null,
   "id": "c6a153d1",
   "metadata": {},
   "outputs": [],
   "source": [
    "# Plot dispersion of the months throughout the dataset.\n",
    "months = [\"jan\", \"feb\", \"mar\", \"apr\", \"may\", \"jun\", \"jul\", \"aug\", \"sep\", \"oct\", \"nov\", \"dec\"]\n",
    "ax = (\n",
    "    pd.DataFrame({\n",
    "        \"index\": df.index,\n",
    "        \"month_num\": df[\"month\"].map(lambda m: months.index(m) + 1)\n",
    "    })\n",
    "    .plot(\n",
    "        x=\"index\",\n",
    "        y=\"month_num\",\n",
    "        title=\"Months\",\n",
    "        figsize=(10, 3),\n",
    "        legend=False,\n",
    "    )\n",
    ")\n",
    "ax.set_yticks([m + 1 for m in range(12)], months)\n",
    "ax.grid(visible=True, color=\"lightgrey\", axis=\"y\")\n",
    "None"
   ]
  },
  {
   "cell_type": "code",
   "execution_count": null,
   "id": "3389a277",
   "metadata": {},
   "outputs": [],
   "source": [
    "# Plot how price index changes throughout the dataset.\n",
    "ax = (\n",
    "    pd.DataFrame({\n",
    "        \"index\": df.index,\n",
    "        \"price_index\": df[\"cons.price.idx\"]\n",
    "    })\n",
    "    .plot(\n",
    "        x=\"index\",\n",
    "        y=\"price_index\",\n",
    "        title=\"Price Ixdex\",\n",
    "        figsize=(10, 3),\n",
    "        legend=False,\n",
    "    )\n",
    ")\n",
    "None"
   ]
  }
 ],
 "metadata": {
  "kernelspec": {
   "display_name": "Python 3 (ipykernel)",
   "language": "python",
   "name": "python3"
  },
  "language_info": {
   "codemirror_mode": {
    "name": "ipython",
    "version": 3
   },
   "file_extension": ".py",
   "mimetype": "text/x-python",
   "name": "python",
   "nbconvert_exporter": "python",
   "pygments_lexer": "ipython3",
   "version": "3.9.18"
  }
 },
 "nbformat": 4,
 "nbformat_minor": 5
}
