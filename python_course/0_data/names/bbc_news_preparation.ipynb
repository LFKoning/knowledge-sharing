{
 "cells": [
  {
   "cell_type": "markdown",
   "id": "f73fbbcf",
   "metadata": {},
   "source": [
    "# BBC News Preparation"
   ]
  },
  {
   "cell_type": "markdown",
   "id": "b59371e1",
   "metadata": {},
   "source": [
    "This Notebook prepares the BBC political news dataset, which can be downloaden from: http://mlg.ucd.ie/files/datasets/bbc-fulltext.zip.\n",
    "\n",
    "It processes the separate text files to extract the title and article texts. Then it performs Named Entity Recognistion (NER) to identify the people mentioned in the article."
   ]
  },
  {
   "cell_type": "code",
   "execution_count": null,
   "id": "6601c877",
   "metadata": {},
   "outputs": [],
   "source": [
    "import urllib\n",
    "import zipfile\n",
    "\n",
    "from io import BytesIO, TextIOWrapper\n",
    "\n",
    "import spacy\n",
    "import pandas as pd"
   ]
  },
  {
   "cell_type": "markdown",
   "id": "36a3631f",
   "metadata": {},
   "source": [
    "## Download and preprocess"
   ]
  },
  {
   "cell_type": "code",
   "execution_count": null,
   "id": "0d90e4c1",
   "metadata": {},
   "outputs": [],
   "source": [
    "data_zipped = urllib.request.urlopen(\"http://mlg.ucd.ie/files/datasets/bbc-fulltext.zip\")\n",
    "data_zipped = BytesIO(data_zipped.read())"
   ]
  },
  {
   "cell_type": "code",
   "execution_count": null,
   "id": "ff93b3a2",
   "metadata": {},
   "outputs": [],
   "source": [
    "news = []\n",
    "\n",
    "with zipfile.ZipFile(data_zipped, 'r') as archive:\n",
    "    \n",
    "    for file_name in archive.namelist():\n",
    "        \n",
    "        if file_name.startswith(\"bbc/politics/\") and file_name.endswith(\".txt\"):\n",
    "            \n",
    "            with archive.open(file_name) as news_file:\n",
    "                news_file = TextIOWrapper(news_file, encoding=\"utf-8\")\n",
    "                \n",
    "                title = next(news_file).strip()\n",
    "                article = news_file.read().strip()\n",
    "                \n",
    "                news.append({\"filename\": file_name, \"title\": title, \"article\": article})\n",
    "        \n",
    "news_df = pd.DataFrame(news)"
   ]
  },
  {
   "cell_type": "code",
   "execution_count": null,
   "id": "c44de199",
   "metadata": {},
   "outputs": [],
   "source": [
    "news_df"
   ]
  },
  {
   "cell_type": "code",
   "execution_count": null,
   "id": "f316c3c1",
   "metadata": {},
   "outputs": [],
   "source": []
  },
  {
   "cell_type": "markdown",
   "id": "352c6eb4",
   "metadata": {},
   "source": [
    "## Named Entity Recognition"
   ]
  },
  {
   "cell_type": "code",
   "execution_count": null,
   "id": "db368c5f",
   "metadata": {},
   "outputs": [],
   "source": [
    "# Make sure en_core_web_sm is installed\n",
    "# Use command: python -m spacy download en_core_web_sm\n",
    "nlp = spacy.load(\"en_core_web_sm\")"
   ]
  },
  {
   "cell_type": "code",
   "execution_count": null,
   "id": "252f4a87",
   "metadata": {},
   "outputs": [],
   "source": [
    "# Create person column with set of all mentioned persons\n",
    "news_df = news_df.assign(\n",
    "    person=lambda df: df[\"article\"].map(\n",
    "        lambda txt: {tkn.text.strip() for tkn in nlp(txt).ents if tkn.label_ == \"PERSON\"}\n",
    "    )\n",
    ")"
   ]
  },
  {
   "cell_type": "code",
   "execution_count": null,
   "id": "2cfc9b76",
   "metadata": {},
   "outputs": [],
   "source": [
    "news_df.sample(5)"
   ]
  },
  {
   "cell_type": "code",
   "execution_count": null,
   "id": "0e69ee34",
   "metadata": {},
   "outputs": [],
   "source": [
    "news_df.explode(\"person\").to_csv(\"bbc_news_political.csv\", index=False)"
   ]
  },
  {
   "cell_type": "code",
   "execution_count": null,
   "id": "804df27d",
   "metadata": {},
   "outputs": [],
   "source": []
  },
  {
   "cell_type": "code",
   "execution_count": null,
   "id": "4c0664d2",
   "metadata": {},
   "outputs": [],
   "source": []
  }
 ],
 "metadata": {
  "kernelspec": {
   "display_name": "Python 3 (ipykernel)",
   "language": "python",
   "name": "python3"
  },
  "language_info": {
   "codemirror_mode": {
    "name": "ipython",
    "version": 3
   },
   "file_extension": ".py",
   "mimetype": "text/x-python",
   "name": "python",
   "nbconvert_exporter": "python",
   "pygments_lexer": "ipython3",
   "version": "3.9.16"
  }
 },
 "nbformat": 4,
 "nbformat_minor": 5
}
