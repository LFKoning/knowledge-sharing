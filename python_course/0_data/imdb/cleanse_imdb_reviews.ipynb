{
 "cells": [
  {
   "cell_type": "code",
   "execution_count": null,
   "id": "e818110f",
   "metadata": {},
   "outputs": [],
   "source": [
    "import re\n",
    "import urllib\n",
    "import tarfile\n",
    "from io import BytesIO\n",
    "\n",
    "import pandas as pd"
   ]
  },
  {
   "cell_type": "code",
   "execution_count": null,
   "id": "4db55c6e",
   "metadata": {},
   "outputs": [],
   "source": [
    "data_zipped = urllib.request.urlopen(\"https://ai.stanford.edu/~amaas/data/sentiment/aclImdb_v1.tar.gz\")\n",
    "data_zipped = BytesIO(data_zipped.read())"
   ]
  },
  {
   "cell_type": "code",
   "execution_count": null,
   "id": "c5ba0eaf",
   "metadata": {},
   "outputs": [],
   "source": [
    "data = []\n",
    "with tarfile.open(fileobj=data_zipped, mode=\"r:gz\") as tar:\n",
    "    for member in tar.getmembers():\n",
    "\n",
    "        # Determine dataset\n",
    "        if \"/train/\" in member.path:\n",
    "            dataset = \"Train\"\n",
    "        elif \"/test/\" in member.path:\n",
    "            dataset = \"Test\"\n",
    "        else:\n",
    "            continue\n",
    "\n",
    "        # Determine label\n",
    "        if \"/pos/\" in member.path:\n",
    "            label = \"Positive\"\n",
    "        elif \"/neg/\" in member.path:\n",
    "            label = \"Negative\"\n",
    "        else:\n",
    "            continue\n",
    "\n",
    "        # Extract ID and star rating.\n",
    "        match = re.search(r\"/(?P<id>\\d+)_(?P<rating>[0-9]{1,2})\\.txt\", member.path)\n",
    "        if match:\n",
    "            uid = match.group(\"id\")\n",
    "            rating = match.group(\"rating\")\n",
    "        else:\n",
    "            continue\n",
    "\n",
    "        # Extract contents\n",
    "        extracted = tar.extractfile(member)\n",
    "        if extracted:\n",
    "            content = extracted.read().decode(\"utf8\")\n",
    "\n",
    "            # Remove HTML breaks.\n",
    "            content = content.replace(\"<br />\", \" \")\n",
    "\n",
    "            # Remove incorrectly encoded characters.\n",
    "            # content = content.replace(\"\\x9A\", \" \")\n",
    "            content = content.replace(\"\\x84\", \"\\\"\")\n",
    "            content = content.replace(\"\\x91\", \"'\")\n",
    "            content = content.replace(\"\\x95\", \" \")\n",
    "            content = content.replace(\"\\x96\", \"-\")\n",
    "            content = content.replace(\"\\x97\", \"-\")\n",
    "\n",
    "            # Remove excess white space.\n",
    "            content = \" \".join(content.split())\n",
    "\n",
    "        else:\n",
    "            continue\n",
    "\n",
    "        data.append({\n",
    "            \"id\": uid,\n",
    "            \"dataset\": dataset,\n",
    "            \"label\": label,\n",
    "            \"rating\": rating,\n",
    "            \"content\": content,\n",
    "        })"
   ]
  },
  {
   "cell_type": "code",
   "execution_count": null,
   "id": "3e2e14dc",
   "metadata": {
    "scrolled": false
   },
   "outputs": [],
   "source": [
    "df = pd.DataFrame(data)"
   ]
  },
  {
   "cell_type": "code",
   "execution_count": null,
   "id": "7d61282c",
   "metadata": {},
   "outputs": [],
   "source": [
    "df"
   ]
  },
  {
   "cell_type": "code",
   "execution_count": null,
   "id": "2f8505ff",
   "metadata": {},
   "outputs": [],
   "source": [
    "df.to_csv(\"imdb_cleansed.csv\", index=False)"
   ]
  },
  {
   "cell_type": "code",
   "execution_count": null,
   "id": "2a88f92e",
   "metadata": {},
   "outputs": [],
   "source": []
  },
  {
   "cell_type": "code",
   "execution_count": null,
   "id": "1ac4565b",
   "metadata": {},
   "outputs": [],
   "source": []
  },
  {
   "cell_type": "code",
   "execution_count": null,
   "id": "b3760623",
   "metadata": {},
   "outputs": [],
   "source": []
  }
 ],
 "metadata": {
  "kernelspec": {
   "display_name": "Python 3 (ipykernel)",
   "language": "python",
   "name": "python3"
  },
  "language_info": {
   "codemirror_mode": {
    "name": "ipython",
    "version": 3
   },
   "file_extension": ".py",
   "mimetype": "text/x-python",
   "name": "python",
   "nbconvert_exporter": "python",
   "pygments_lexer": "ipython3",
   "version": "3.9.17"
  }
 },
 "nbformat": 4,
 "nbformat_minor": 5
}
