{
 "cells": [
  {
   "cell_type": "markdown",
   "id": "850c5ee2",
   "metadata": {},
   "source": [
    "# Inheritance"
   ]
  },
  {
   "cell_type": "code",
   "execution_count": null,
   "id": "30e2cf60",
   "metadata": {},
   "outputs": [],
   "source": [
    "class TextReader:\n",
    "    \"\"\"Class for reading text data.\"\"\"\n",
    "\n",
    "    def __init__(self, file_path):\n",
    "        print(\"Called __init__ from TextReader.\")\n",
    "        self.path = file_path\n",
    "\n",
    "    def read(self):\n",
    "        \"\"\"Read text file and return lines as list.\"\"\"\n",
    "        print(\"Called read() from TextReader\")\n",
    "        with open(self.path, \"r\") as dfile:\n",
    "            return [line.strip() for line in dfile]\n",
    "\n",
    "\n",
    "class CSVReader(TextReader):\n",
    "    \"\"\"Class for reading CSV data.\"\"\"\n",
    "\n",
    "    def __init__(self, path, separator):\n",
    "        # Calling constructor from TextData.\n",
    "        print(\"Called __init__ from CSVReader\")\n",
    "        super().__init__(path)\n",
    "        self.separator = separator\n",
    "\n",
    "    def _split_record(self, record):\n",
    "        \"\"\"Split records using provided separator.\"\"\"\n",
    "        return record.split(self.separator)\n",
    "\n",
    "    def read(self):\n",
    "        \"\"\"Read CSV file and return data as list of lists.\"\"\"\n",
    "        print(\"Called read() from CSVReader\")\n",
    "        return [self._split_record(line) for line in super().read()]\n",
    "\n"
   ]
  },
  {
   "cell_type": "code",
   "execution_count": null,
   "id": "df16d604",
   "metadata": {},
   "outputs": [],
   "source": [
    "# Construct TextReader object.\n",
    "text_reader = TextReader(\"../0_data/persons/personal_data.csv\")"
   ]
  },
  {
   "cell_type": "code",
   "execution_count": null,
   "id": "7085dfac",
   "metadata": {},
   "outputs": [],
   "source": [
    "# Construct CSVReader object.\n",
    "# Note: Calls constructor of TextReader using super().\n",
    "csv_reader = CSVReader(\"../0_data/persons/personal_data.csv\", \",\")"
   ]
  },
  {
   "cell_type": "code",
   "execution_count": null,
   "id": "c7c4be4f",
   "metadata": {},
   "outputs": [],
   "source": [
    "# Reading data as text.\n",
    "text_reader.read()"
   ]
  },
  {
   "cell_type": "code",
   "execution_count": null,
   "id": "0ab27aa8",
   "metadata": {},
   "outputs": [],
   "source": [
    "# Reading data as CSV\n",
    "csv_reader.read()"
   ]
  },
  {
   "cell_type": "markdown",
   "id": "9cd96e6b",
   "metadata": {},
   "source": [
    "## Type and isinstance"
   ]
  },
  {
   "cell_type": "code",
   "execution_count": null,
   "id": "9e79a1ba",
   "metadata": {},
   "outputs": [],
   "source": [
    "# Type gives the actual class name\n",
    "print(\"TextReader:   \", type(text_reader))\n",
    "print(\"CSVReader:    \", type(csv_reader))"
   ]
  },
  {
   "cell_type": "code",
   "execution_count": null,
   "id": "7ae3b472",
   "metadata": {},
   "outputs": [],
   "source": [
    "# As expected, text_data is a TextData instance\n",
    "isinstance(text_reader, TextReader)"
   ]
  },
  {
   "cell_type": "code",
   "execution_count": null,
   "id": "7cad810a",
   "metadata": {},
   "outputs": [],
   "source": [
    "# And csv_data a CSVData instance...\n",
    "isinstance(csv_reader, CSVReader)"
   ]
  },
  {
   "cell_type": "code",
   "execution_count": null,
   "id": "67d9d990",
   "metadata": {},
   "outputs": [],
   "source": [
    "# But... csv_data also counts as a TextData instance.\n",
    "isinstance(csv_reader, TextReader)"
   ]
  },
  {
   "cell_type": "code",
   "execution_count": null,
   "id": "38090b52",
   "metadata": {},
   "outputs": [],
   "source": [
    "# Strict checking using type().\n",
    "type(csv_reader) == TextReader"
   ]
  }
 ],
 "metadata": {
  "kernelspec": {
   "display_name": "Python 3 (ipykernel)",
   "language": "python",
   "name": "python3"
  },
  "language_info": {
   "codemirror_mode": {
    "name": "ipython",
    "version": 3
   },
   "file_extension": ".py",
   "mimetype": "text/x-python",
   "name": "python",
   "nbconvert_exporter": "python",
   "pygments_lexer": "ipython3",
   "version": "3.11.9"
  }
 },
 "nbformat": 4,
 "nbformat_minor": 5
}
