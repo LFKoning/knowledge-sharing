{
 "cells": [
  {
   "cell_type": "markdown",
   "id": "dcca68b8",
   "metadata": {},
   "source": [
    "# Class basics"
   ]
  },
  {
   "cell_type": "code",
   "execution_count": null,
   "id": "65f56387",
   "metadata": {},
   "outputs": [],
   "source": [
    "# Use class keyword to define a class\n",
    "class Person:\n",
    "    \"\"\"Class for natural persons.\"\"\"\n",
    "    \n",
    "    # Attributes\n",
    "    \n",
    "    name = \"John\"\n",
    "    lastname = \"Doe\"\n",
    "    \n",
    "    # Methods\n",
    "    \n",
    "    # Note: First argument is self.\n",
    "    def full_name(self):\n",
    "        \"\"\"Returns the person's full name.\"\"\"\n",
    "        \n",
    "        # Note: Use self to access attributes\n",
    "        print(f\"{self.name} {self.lastname}\")"
   ]
  },
  {
   "cell_type": "code",
   "execution_count": null,
   "id": "58b4fa24",
   "metadata": {},
   "outputs": [],
   "source": [
    "# Create an instance of the class.\n",
    "person1 = Person()"
   ]
  },
  {
   "cell_type": "code",
   "execution_count": null,
   "id": "4e662d3d",
   "metadata": {},
   "outputs": [],
   "source": [
    "# Access attributes using <class>.<attribute>.\n",
    "person1.name"
   ]
  },
  {
   "cell_type": "code",
   "execution_count": null,
   "id": "929f93c4",
   "metadata": {},
   "outputs": [],
   "source": [
    "# Same for class methods.\n",
    "person1.full_name()"
   ]
  },
  {
   "cell_type": "code",
   "execution_count": null,
   "id": "fd2748d5",
   "metadata": {},
   "outputs": [],
   "source": [
    "# Creating a second person.\n",
    "person2 = Person()"
   ]
  },
  {
   "cell_type": "code",
   "execution_count": null,
   "id": "9ef483b0",
   "metadata": {},
   "outputs": [],
   "source": [
    "# Both have the same attributes...\n",
    "person1.full_name()\n",
    "person2.full_name()"
   ]
  },
  {
   "cell_type": "code",
   "execution_count": null,
   "id": "fe12a720",
   "metadata": {},
   "outputs": [],
   "source": [
    "# But are different objects\n",
    "person1 is person2"
   ]
  },
  {
   "cell_type": "code",
   "execution_count": null,
   "id": "72ad1e29",
   "metadata": {},
   "outputs": [],
   "source": [
    "# Double check: IDs differ\n",
    "print(id(person1), \"!=\", id(person2))"
   ]
  },
  {
   "cell_type": "code",
   "execution_count": null,
   "id": "408df934",
   "metadata": {},
   "outputs": [],
   "source": [
    "# Can change name after initializing.\n",
    "person1.name = \"Jane\""
   ]
  },
  {
   "cell_type": "code",
   "execution_count": null,
   "id": "5f65b6c4",
   "metadata": {},
   "outputs": [],
   "source": [
    "person1.full_name()\n",
    "person2.full_name()"
   ]
  },
  {
   "cell_type": "markdown",
   "id": "972070e1",
   "metadata": {},
   "source": [
    "## Dunder methods"
   ]
  },
  {
   "cell_type": "code",
   "execution_count": null,
   "id": "51a8b7c6",
   "metadata": {},
   "outputs": [],
   "source": [
    "class Person:\n",
    "    \"\"\"Class for natural persons.\"\"\"\n",
    "    \n",
    "    # Constructor; used to initialize object attributes.\n",
    "    def __init__(self, name, lastname):\n",
    "        self.name = name.capitalize()\n",
    "        self.lastname = lastname.capitalize()\n",
    "    \n",
    "    def full_name(self):\n",
    "        \"\"\"Returns the person's full name.\"\"\"\n",
    "        return f\"{self.name} {self.lastname}\""
   ]
  },
  {
   "cell_type": "code",
   "execution_count": null,
   "id": "03278cfb",
   "metadata": {},
   "outputs": [],
   "source": [
    "# Names are provided by calling the constructor.\n",
    "jane = Person(\"jane\", \"doe\")\n",
    "jane.full_name()"
   ]
  },
  {
   "cell_type": "code",
   "execution_count": null,
   "id": "3f8e04ba",
   "metadata": {},
   "outputs": [],
   "source": [
    "class Person:\n",
    "    \"\"\"Class for natural persons.\"\"\"\n",
    "    \n",
    "    def __init__(self, name, lastname):\n",
    "        self.name = name.capitalize()\n",
    "        self.lastname = lastname.capitalize()\n",
    "    \n",
    "    def full_name(self):\n",
    "        \"\"\"Returns the person's full name.\"\"\"\n",
    "        return f\"{self.name} {self.lastname}\"\n",
    "\n",
    "    # String representation (ex. printing).\n",
    "    def __str__(self):\n",
    "        \"\"\"String representation of the person.\"\"\"\n",
    "        return self.full_name()\n",
    "    \n",
    "    # Representation as object.\n",
    "    def __repr__(self):\n",
    "        \"\"\"Represents the Person object.\"\"\"\n",
    "        return f'Person(\"{self.name}\", \"{self.lastname}\")'\n"
   ]
  },
  {
   "cell_type": "code",
   "execution_count": null,
   "id": "26a5fefb",
   "metadata": {},
   "outputs": [],
   "source": [
    "# Create person with updated class.\n",
    "jane = Person(\"jane\", \"doe\")"
   ]
  },
  {
   "cell_type": "code",
   "execution_count": null,
   "id": "01ac105a",
   "metadata": {},
   "outputs": [],
   "source": [
    "# Uses __repr__ method.\n",
    "jane"
   ]
  },
  {
   "cell_type": "code",
   "execution_count": null,
   "id": "14ca32aa",
   "metadata": {},
   "outputs": [],
   "source": [
    "# Print uses string representation.\n",
    "print(jane)"
   ]
  },
  {
   "cell_type": "markdown",
   "id": "01c2dbb0",
   "metadata": {},
   "source": [
    "### Class methods"
   ]
  },
  {
   "cell_type": "code",
   "execution_count": null,
   "id": "54db21eb",
   "metadata": {},
   "outputs": [],
   "source": [
    "class Person:\n",
    "    \"\"\"Class for natural persons.\"\"\"\n",
    "    \n",
    "    def __init__(self, name, lastname):\n",
    "        self.name = name.capitalize()\n",
    "        self.lastname = lastname.capitalize()\n",
    "    \n",
    "    def full_name(self):\n",
    "        \"\"\"Returns the person's full name.\"\"\"\n",
    "        return f\"{self.name} {self.lastname}\"\n",
    "\n",
    "    def __repr__(self):\n",
    "        \"\"\"Represents the Person object.\"\"\"\n",
    "        return f'Person(\"{self.name}\", \"{self.lastname}\")'\n",
    "    \n",
    "    def __str__(self):\n",
    "        \"\"\"String representation of the person.\"\"\"\n",
    "        return self.full_name()\n",
    "    \n",
    "    # Class method; creates Person from a string.\n",
    "    # Note: First argument refers to the class!\n",
    "    @classmethod\n",
    "    def from_string(cls, person_str):\n",
    "        \"\"\"Create a Person from a comma-separated string.\"\"\"\n",
    "        name, lastname = person_str.split(\",\")\n",
    "        return cls(name.strip(), lastname.strip())"
   ]
  },
  {
   "cell_type": "code",
   "execution_count": null,
   "id": "0697afca",
   "metadata": {},
   "outputs": [],
   "source": [
    "# Create a person object from a string\n",
    "Person.from_string(\"john, doe\")"
   ]
  },
  {
   "cell_type": "code",
   "execution_count": null,
   "id": "98aab42c",
   "metadata": {},
   "outputs": [],
   "source": []
  }
 ],
 "metadata": {
  "kernelspec": {
   "display_name": "Python 3 (ipykernel)",
   "language": "python",
   "name": "python3"
  },
  "language_info": {
   "codemirror_mode": {
    "name": "ipython",
    "version": 3
   },
   "file_extension": ".py",
   "mimetype": "text/x-python",
   "name": "python",
   "nbconvert_exporter": "python",
   "pygments_lexer": "ipython3",
   "version": "3.9.18"
  }
 },
 "nbformat": 4,
 "nbformat_minor": 5
}
