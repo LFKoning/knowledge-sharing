{
 "cells": [
  {
   "cell_type": "markdown",
   "id": "c907ea47",
   "metadata": {},
   "source": [
    "# Exercises 2: Solutions"
   ]
  },
  {
   "cell_type": "code",
   "execution_count": null,
   "id": "91ddcef2",
   "metadata": {
    "scrolled": true
   },
   "outputs": [],
   "source": [
    "# Define filename as constant.\n",
    "INPUT_FILE = \"../../0_data/persons/personal_data.csv\"\n",
    "\n",
    "\n",
    "def read_csv(input_path):\n",
    "    \"\"\"Read CSV data from the provided path.\n",
    "\n",
    "     Parameters\n",
    "    ----------\n",
    "    input_path : str\n",
    "        Path to the input data file as string.\n",
    "\n",
    "    Returns\n",
    "    -------\n",
    "    list\n",
    "        Data as a list of dicts.\n",
    "    \"\"\"\n",
    "    data = []\n",
    "    with open(input_path, \"r\", encoding=\"utf-8\") as data_file:\n",
    "\n",
    "        # Use first line as header.\n",
    "        # Note: Need strip() for EOL (\\n) character.\n",
    "        header = next(data_file).strip().split(\",\")\n",
    "\n",
    "        for line in data_file:\n",
    "            # Read record values.\n",
    "            record = line.strip().split(\",\")\n",
    "\n",
    "            # Zip to creates [(header, value), ..., (header, value)] pairs.\n",
    "            # Then casting tuple pairs to dict.\n",
    "            record = dict(zip(header, record))\n",
    "            data.append(record)\n",
    "\n",
    "    return data\n",
    "\n",
    "\n",
    "def anonymize_name(name):\n",
    "    \"\"\"Anonymize names by masking them with *.\n",
    "\n",
    "    Parameters\n",
    "    ----------\n",
    "    name : str\n",
    "        Name to anonymize.\n",
    "\n",
    "    Returns\n",
    "    -------\n",
    "    str\n",
    "        Name masked with *.\n",
    "    \"\"\"\n",
    "    result = []\n",
    "\n",
    "    # Split names into separate words.\n",
    "    for part in name.split():\n",
    "\n",
    "        # Keep first character, replace rest with \"*\".\n",
    "        masked = part[0] + \"*\" * (len(part) - 1)\n",
    "        result.append(masked)\n",
    "\n",
    "    # Rejoin words.\n",
    "    return \" \".join(result)\n",
    "\n",
    "\n",
    "def main():\n",
    "    \"\"\"Read input data, compute factorials and write output data.\"\"\"\n",
    "\n",
    "    print(f\"Reading input data from: {INPUT_FILE}\")\n",
    "    data = read_csv(INPUT_FILE)\n",
    "\n",
    "    print(f\"Anonymize the names for {len(data)} persons.\")\n",
    "    for person in data:\n",
    "        person[\"name\"] = anonymize_name(person[\"name\"])\n",
    "\n",
    "    print(data)\n",
    "\n",
    "\n",
    "\n",
    "if __name__ == \"__main__\":\n",
    "    main()"
   ]
  },
  {
   "cell_type": "code",
   "execution_count": null,
   "id": "6d35fd5a",
   "metadata": {},
   "outputs": [],
   "source": []
  }
 ],
 "metadata": {
  "kernelspec": {
   "display_name": "Python 3 (ipykernel)",
   "language": "python",
   "name": "python3"
  },
  "language_info": {
   "codemirror_mode": {
    "name": "ipython",
    "version": 3
   },
   "file_extension": ".py",
   "mimetype": "text/x-python",
   "name": "python",
   "nbconvert_exporter": "python",
   "pygments_lexer": "ipython3",
   "version": "3.11.9"
  },
  "vscode": {
   "interpreter": {
    "hash": "97fc0b27db06ef7751e260ba2c187fff3578634c73c53a04befd6c7fde8d595e"
   }
  }
 },
 "nbformat": 4,
 "nbformat_minor": 5
}
