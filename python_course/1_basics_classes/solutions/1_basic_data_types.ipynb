{
 "cells": [
  {
   "cell_type": "markdown",
   "id": "b2a2fb24",
   "metadata": {},
   "source": [
    "# Exercises 1: Solutions"
   ]
  },
  {
   "cell_type": "markdown",
   "id": "1c6e715c",
   "metadata": {},
   "source": [
    "## Conversions"
   ]
  },
  {
   "cell_type": "code",
   "execution_count": null,
   "id": "80c669cb",
   "metadata": {},
   "outputs": [],
   "source": [
    "f = 3.7\n",
    "s = \"3.7\""
   ]
  },
  {
   "cell_type": "code",
   "execution_count": null,
   "id": "2ec5f673",
   "metadata": {},
   "outputs": [],
   "source": [
    "# float => int: simply drops decimals.\n",
    "print(f\"Convert float {f} to int:\")\n",
    "int(f)"
   ]
  },
  {
   "cell_type": "code",
   "execution_count": null,
   "id": "af1fee64",
   "metadata": {},
   "outputs": [],
   "source": [
    "# str => float: succeeds on valid values.\n",
    "print(f\"Convert string {s!r} to float:\")\n",
    "float(s)"
   ]
  },
  {
   "cell_type": "code",
   "execution_count": null,
   "id": "4171c079",
   "metadata": {},
   "outputs": [],
   "source": [
    "# str => int: ValueError on invalid values.\n",
    "# Note: Does not result in 3 like int(3.7) does.\n",
    "print(f\"Convert string {s!r} to int:\")\n",
    "int(s)"
   ]
  },
  {
   "cell_type": "markdown",
   "id": "88d1209c",
   "metadata": {},
   "source": [
    "## Strings"
   ]
  },
  {
   "cell_type": "code",
   "execution_count": null,
   "id": "5b038cbb",
   "metadata": {},
   "outputs": [],
   "source": [
    "# Multiplication just repeats the string.\n",
    "# Note: Does not try to convert \"123\" to numeric.\n",
    "\"123\" * 3"
   ]
  },
  {
   "cell_type": "markdown",
   "id": "c468fc0d",
   "metadata": {},
   "source": [
    "# Lists"
   ]
  },
  {
   "cell_type": "code",
   "execution_count": null,
   "id": "090c47cb",
   "metadata": {},
   "outputs": [],
   "source": [
    "# List multiplication.\n",
    "# Note: Does not multiply the elements!\n",
    "[1, 2, 3] * 3"
   ]
  },
  {
   "cell_type": "code",
   "execution_count": null,
   "id": "bb163568",
   "metadata": {},
   "outputs": [],
   "source": [
    "# Initialize a matrix...\n",
    "zeroes = [[0] * 3] * 3\n",
    "zeroes"
   ]
  },
  {
   "cell_type": "code",
   "execution_count": null,
   "id": "179407c7",
   "metadata": {},
   "outputs": [],
   "source": [
    "# Maybe not the best way...\n",
    "zeroes[0][0] = 1\n",
    "zeroes"
   ]
  },
  {
   "cell_type": "code",
   "execution_count": null,
   "id": "cc819c20",
   "metadata": {},
   "outputs": [],
   "source": []
  }
 ],
 "metadata": {
  "kernelspec": {
   "display_name": "Python 3 (ipykernel)",
   "language": "python",
   "name": "python3"
  },
  "language_info": {
   "codemirror_mode": {
    "name": "ipython",
    "version": 3
   },
   "file_extension": ".py",
   "mimetype": "text/x-python",
   "name": "python",
   "nbconvert_exporter": "python",
   "pygments_lexer": "ipython3",
   "version": "3.11.9"
  },
  "vscode": {
   "interpreter": {
    "hash": "97fc0b27db06ef7751e260ba2c187fff3578634c73c53a04befd6c7fde8d595e"
   }
  }
 },
 "nbformat": 4,
 "nbformat_minor": 5
}
