{
 "cells": [
  {
   "cell_type": "markdown",
   "id": "9fef0c8a",
   "metadata": {},
   "source": [
    "# Exercises 5: Solutions"
   ]
  },
  {
   "cell_type": "code",
   "execution_count": null,
   "id": "20e5258c",
   "metadata": {},
   "outputs": [],
   "source": [
    "from collections import UserDict\n",
    "\n",
    "\n",
    "class FuzzyDict(UserDict):\n",
    "    \"\"\"Dict-class that is case insensitive.\"\"\"\n",
    "\n",
    "    def __getitem__(self, key):\n",
    "        \"\"\"Get a key from the data.\"\"\"\n",
    "        key = key.lower().strip()\n",
    "        return super().__getitem__(key)\n",
    "\n",
    "    def __setitem__(self, key, value):\n",
    "        \"\"\"Set a key in the data.\"\"\"\n",
    "        key = key.lower().strip()\n",
    "        super().__setitem__(key, value)\n"
   ]
  },
  {
   "cell_type": "code",
   "execution_count": null,
   "id": "f4817030",
   "metadata": {},
   "outputs": [],
   "source": [
    "# Create an empty FuzzyDict instance.\n",
    "fd = FuzzyDict()"
   ]
  },
  {
   "cell_type": "code",
   "execution_count": null,
   "id": "ceabfc79",
   "metadata": {},
   "outputs": [],
   "source": [
    "# Test setting a key...\n",
    "fd[\"NAAM\"] = \"Henk\""
   ]
  },
  {
   "cell_type": "code",
   "execution_count": null,
   "id": "0cf52cb5",
   "metadata": {},
   "outputs": [],
   "source": [
    "# Inhrited keys() method from UserDict\n",
    "fd.keys()"
   ]
  },
  {
   "cell_type": "code",
   "execution_count": null,
   "id": "6d80e4e8",
   "metadata": {},
   "outputs": [],
   "source": [
    "# But... not entirely fuzzy :-(\n",
    "print(\"Lower case: \", \"naam\" in fd)\n",
    "print(\"Upper case: \", \"NAAM\" in fd)"
   ]
  },
  {
   "cell_type": "code",
   "execution_count": null,
   "id": "bdfb5d8c",
   "metadata": {},
   "outputs": [],
   "source": [
    "class FuzzyDict(UserDict):\n",
    "    \"\"\"Dict-class that is case insensitive.\"\"\"\n",
    "\n",
    "    def __getitem__(self, key):\n",
    "        \"\"\"Get a key from the data.\"\"\"\n",
    "        key = key.lower().strip()\n",
    "        return super().__getitem__(key)\n",
    "\n",
    "    def __setitem__(self, key, value):\n",
    "        \"\"\"Set a key in the data.\"\"\"\n",
    "        key = key.lower().strip()\n",
    "        super().__setitem__(key, value)\n",
    "\n",
    "    def __contains__(self, key):\n",
    "        \"\"\"Check key is in the dict.\"\"\"\n",
    "        key = key.lower().strip()\n",
    "        return super().__contains__(key)"
   ]
  },
  {
   "cell_type": "code",
   "execution_count": null,
   "id": "441d5df6",
   "metadata": {},
   "outputs": [],
   "source": [
    "# Create an empty FuzzyDict instance.\n",
    "fd = FuzzyDict()\n",
    "fd[\"NAAM\"] = \"Henk\""
   ]
  },
  {
   "cell_type": "code",
   "execution_count": null,
   "id": "f779435b",
   "metadata": {},
   "outputs": [],
   "source": [
    "# Truly fuzzy!\n",
    "print(\"Lower case: \", \"naam\" in fd)\n",
    "print(\"Upper case: \", \"NAAM\" in fd)"
   ]
  },
  {
   "cell_type": "code",
   "execution_count": null,
   "id": "1f5ba7a3",
   "metadata": {},
   "outputs": [],
   "source": [
    "# Alternative construction method, inherited from UserDict\n",
    "# Note: All keys lower cased, constructor uses custom __setitem__.\n",
    "FuzzyDict({\"A\": 1, \"b  \": 2, \" C\": 3})"
   ]
  },
  {
   "cell_type": "code",
   "execution_count": null,
   "id": "7627721b",
   "metadata": {},
   "outputs": [],
   "source": []
  }
 ],
 "metadata": {
  "kernelspec": {
   "display_name": "Python 3 (ipykernel)",
   "language": "python",
   "name": "python3"
  },
  "language_info": {
   "codemirror_mode": {
    "name": "ipython",
    "version": 3
   },
   "file_extension": ".py",
   "mimetype": "text/x-python",
   "name": "python",
   "nbconvert_exporter": "python",
   "pygments_lexer": "ipython3",
   "version": "3.11.9"
  }
 },
 "nbformat": 4,
 "nbformat_minor": 5
}
