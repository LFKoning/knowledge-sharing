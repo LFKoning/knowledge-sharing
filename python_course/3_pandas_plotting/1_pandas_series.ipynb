{
 "cells": [
  {
   "cell_type": "code",
   "execution_count": 19,
   "id": "4ed91873",
   "metadata": {},
   "outputs": [],
   "source": [
    "import sys\n",
    "import datetime as dt\n",
    "\n",
    "import numpy as np\n",
    "import pandas as pd"
   ]
  },
  {
   "cell_type": "markdown",
   "id": "7032060b",
   "metadata": {},
   "source": [
    "# Pandas vs Python"
   ]
  },
  {
   "cell_type": "code",
   "execution_count": null,
   "id": "2f1b08c2",
   "metadata": {},
   "outputs": [],
   "source": [
    "# Create Series of integers.\n",
    "x = list(range(100_000))\n",
    "series = pd.Series(x)\n",
    "series.shape"
   ]
  },
  {
   "cell_type": "code",
   "execution_count": null,
   "id": "aed4f537",
   "metadata": {},
   "outputs": [],
   "source": [
    "# Performance when using a Python list.\n",
    "%timeit -n 25 sum(x)"
   ]
  },
  {
   "cell_type": "code",
   "execution_count": null,
   "id": "63dbcb45",
   "metadata": {},
   "outputs": [],
   "source": [
    "# Performance using pandas function.\n",
    "# Note: Data is processed in numpy.\n",
    "%timeit -n 25 series.sum()"
   ]
  },
  {
   "cell_type": "code",
   "execution_count": null,
   "id": "03442674",
   "metadata": {},
   "outputs": [],
   "source": [
    "# Using Python's sum() function forces a slow conversion...\n",
    "%timeit -n 25 sum(series)"
   ]
  },
  {
   "cell_type": "markdown",
   "id": "e042734d",
   "metadata": {},
   "source": [
    "# Series"
   ]
  },
  {
   "cell_type": "code",
   "execution_count": null,
   "id": "532b0986",
   "metadata": {},
   "outputs": [],
   "source": [
    "# List of integers, data type turns into `int64`\n",
    "s = pd.Series([1, 2, 3])\n",
    "s"
   ]
  },
  {
   "cell_type": "code",
   "execution_count": null,
   "id": "39a6cecd",
   "metadata": {},
   "outputs": [],
   "source": [
    "# Adding a string value changes Series to type `object`.\n",
    "s = pd.Series([1, 2, 3, \"A\"])\n",
    "s"
   ]
  },
  {
   "cell_type": "code",
   "execution_count": null,
   "id": "2adc1211",
   "metadata": {},
   "outputs": [],
   "source": [
    "print(\"Series data type: \", s.dtype)\n",
    "for _ in s:\n",
    "    print(f\"Data type value: {_} = {type(_)}\")"
   ]
  },
  {
   "cell_type": "code",
   "execution_count": null,
   "id": "0aff4f07",
   "metadata": {},
   "outputs": [],
   "source": [
    "n = 10\n",
    "\n",
    "# Use of Categorical type is often more efficient.\n",
    "values = [\"A\", \"B\", \"C\"] * n\n",
    "obj = pd.Series(values)\n",
    "cat = pd.Series(values, dtype=\"category\")\n",
    "\n",
    "# Compare memory footprint.\n",
    "print(\"Size object type:      \", sys.getsizeof(obj))\n",
    "print(\"Size categorical type: \", sys.getsizeof(cat))"
   ]
  },
  {
   "cell_type": "markdown",
   "id": "0f6340c0",
   "metadata": {},
   "source": [
    "## Type Casting "
   ]
  },
  {
   "cell_type": "code",
   "execution_count": null,
   "id": "cbfa60b6",
   "metadata": {},
   "outputs": [],
   "source": [
    "# Series of floating point numbers.\n",
    "s = pd.Series([1.1, 2.2, 3.3])\n",
    "s"
   ]
  },
  {
   "cell_type": "code",
   "execution_count": null,
   "id": "0a7c0a08",
   "metadata": {},
   "outputs": [],
   "source": [
    "# Cast to integer using astype() method.\n",
    "# Note: Drops decimal positions like normal int() conversion.\n",
    "s.astype(int)"
   ]
  },
  {
   "cell_type": "code",
   "execution_count": null,
   "id": "d3be365a",
   "metadata": {},
   "outputs": [],
   "source": [
    "# ValueError when conversion is impossible.\n",
    "# Note: Similar to Python cast.\n",
    "pd.Series([\"A\", \"B\", \"C\"]).astype(int)"
   ]
  },
  {
   "cell_type": "code",
   "execution_count": null,
   "id": "e929583b",
   "metadata": {},
   "outputs": [],
   "source": []
  },
  {
   "cell_type": "markdown",
   "id": "5882dccf",
   "metadata": {},
   "source": [
    "## Descriptives"
   ]
  },
  {
   "cell_type": "code",
   "execution_count": 48,
   "id": "978f35d6",
   "metadata": {},
   "outputs": [],
   "source": [
    "# Generate dummy data.\n",
    "n = 150\n",
    "cat = pd.Series(np.random.choice([\"A\",\"B\", \"C\", \"D\"], n))\n",
    "num = pd.Series(np.random.normal(0, 1, n))"
   ]
  },
  {
   "cell_type": "code",
   "execution_count": null,
   "id": "f67719e2",
   "metadata": {},
   "outputs": [],
   "source": [
    "# Descriptives for numerical data.\n",
    "num.describe()"
   ]
  },
  {
   "cell_type": "code",
   "execution_count": null,
   "id": "a504472d",
   "metadata": {},
   "outputs": [],
   "source": [
    "# Or use aggragation functions...\n",
    "print(f\"Mean:   {num.mean()   :8.3f}\")\n",
    "print(f\"Median: {num.median() :8.3f}\")\n",
    "print(f\"SD:     {num.std()    :8.3f}\")"
   ]
  },
  {
   "cell_type": "code",
   "execution_count": null,
   "id": "802f0600",
   "metadata": {},
   "outputs": [],
   "source": [
    "# Use the .plot interface to create a histogram\n",
    "(\n",
    "    num\n",
    "    .plot\n",
    "    .hist(\n",
    "        bins=50,\n",
    "        edgecolor=\"white\",\n",
    "        figsize=(6, 3)\n",
    "    )\n",
    ")"
   ]
  },
  {
   "cell_type": "code",
   "execution_count": null,
   "id": "8a381c36",
   "metadata": {},
   "outputs": [],
   "source": [
    "# Descriptives for categorical data.\n",
    "cat.describe()"
   ]
  },
  {
   "cell_type": "code",
   "execution_count": null,
   "id": "a9525954",
   "metadata": {},
   "outputs": [],
   "source": [
    "# Unique values and number of unique values.\n",
    "print(f\"Unique values:  {cat.unique()}\")\n",
    "print(f\"Unique count:   {cat.nunique()}\")"
   ]
  },
  {
   "cell_type": "code",
   "execution_count": null,
   "id": "3a6fff8f",
   "metadata": {},
   "outputs": [],
   "source": [
    "# Category frequencies.\n",
    "cat.value_counts()"
   ]
  },
  {
   "cell_type": "code",
   "execution_count": null,
   "id": "73af5027",
   "metadata": {},
   "outputs": [],
   "source": [
    "# Plotting category frequencies.\n",
    "# Note: value_counts() returns a Series with the plot interface.\n",
    "(\n",
    "    cat\n",
    "    .value_counts()\n",
    "    .plot\n",
    "    .barh(\n",
    "        figsize=(6, 3)\n",
    "    )\n",
    ")"
   ]
  },
  {
   "cell_type": "code",
   "execution_count": null,
   "id": "9f59184a",
   "metadata": {},
   "outputs": [],
   "source": [
    "# Use sort_values() method to reverse the order.\n",
    "(\n",
    "    cat\n",
    "    .value_counts()\n",
    "    .sort_values(ascending=True)\n",
    "    .plot\n",
    "    .barh(\n",
    "        figsize=(6, 3)\n",
    "    )\n",
    ")"
   ]
  },
  {
   "cell_type": "markdown",
   "id": "94b091c6",
   "metadata": {},
   "source": [
    "## Data Manipulation"
   ]
  },
  {
   "cell_type": "code",
   "execution_count": 57,
   "id": "0f97f925",
   "metadata": {},
   "outputs": [],
   "source": [
    "num = pd.Series([-2, -1, 0, 1, 2])"
   ]
  },
  {
   "cell_type": "code",
   "execution_count": null,
   "id": "0c7f01ca",
   "metadata": {},
   "outputs": [],
   "source": [
    "# Series support indexing.\n",
    "num[0]"
   ]
  },
  {
   "cell_type": "code",
   "execution_count": null,
   "id": "89429cbd",
   "metadata": {},
   "outputs": [],
   "source": [
    "# And slicing.\n",
    "num[1:4]"
   ]
  },
  {
   "cell_type": "code",
   "execution_count": null,
   "id": "bec159f0",
   "metadata": {},
   "outputs": [],
   "source": [
    "# Use assignment to modify values.\n",
    "# Note: Assignment caused an automatic cast to float64.\n",
    "num[0] = -3.5\n",
    "num"
   ]
  },
  {
   "cell_type": "code",
   "execution_count": null,
   "id": "fd763548",
   "metadata": {},
   "outputs": [],
   "source": [
    "# Apply mathematical operations to a Series.\n",
    "num ** 2 / 2"
   ]
  },
  {
   "cell_type": "code",
   "execution_count": null,
   "id": "871fa7fa",
   "metadata": {},
   "outputs": [],
   "source": [
    "# Custom function.\n",
    "def abs_sqrt(x):\n",
    "    return abs(x) ** 0.5\n",
    "\n",
    "\n",
    "# Apply function via .map() method.\n",
    "num.map(abs_sqrt)"
   ]
  },
  {
   "cell_type": "code",
   "execution_count": null,
   "id": "7d997005",
   "metadata": {},
   "outputs": [],
   "source": [
    "# Alternative: use a lambda function.\n",
    "num.map(lambda x: abs(x) ** 0.5)"
   ]
  },
  {
   "cell_type": "code",
   "execution_count": null,
   "id": "108f74d9",
   "metadata": {},
   "outputs": [],
   "source": []
  },
  {
   "cell_type": "markdown",
   "id": "29616121",
   "metadata": {},
   "source": [
    "# Indices en index types"
   ]
  },
  {
   "cell_type": "code",
   "execution_count": null,
   "id": "cf068744",
   "metadata": {},
   "outputs": [],
   "source": [
    "# Use .index property to access the index.\n",
    "# Note: Automatically defaults to a RangeIndex.\n",
    "scores = pd.Series([1, 2, 3, 4])\n",
    "scores.index"
   ]
  },
  {
   "cell_type": "code",
   "execution_count": null,
   "id": "6e336318",
   "metadata": {},
   "outputs": [],
   "source": [
    "# Use numeric indexing.\n",
    "scores[1]"
   ]
  },
  {
   "cell_type": "code",
   "execution_count": null,
   "id": "df463e3d",
   "metadata": {},
   "outputs": [],
   "source": [
    "# Use index parameter to provide your own index.\n",
    "# Note: Deafult RangeIndex is replaced by an Index.\n",
    "scores = pd.Series(\n",
    "    [1, 2, 3, 4],\n",
    "    index=[\"Piet\", \"Jan\", \"Ingrid\", \"Henk\"]\n",
    ")\n",
    "scores.index"
   ]
  },
  {
   "cell_type": "code",
   "execution_count": null,
   "id": "008bc570",
   "metadata": {},
   "outputs": [],
   "source": [
    "# Indexing now uses labels.\n",
    "scores[\"Jan\"]"
   ]
  },
  {
   "cell_type": "code",
   "execution_count": null,
   "id": "deb9ed5e",
   "metadata": {},
   "outputs": [],
   "source": [
    "# And slicing using labels too.\n",
    "scores[\"Jan\":\"Henk\"]"
   ]
  },
  {
   "cell_type": "code",
   "execution_count": null,
   "id": "7ca9ca48",
   "metadata": {},
   "outputs": [],
   "source": [
    "# Sort series by index rather than values (sort_values).\n",
    "scores.sort_index()"
   ]
  },
  {
   "cell_type": "code",
   "execution_count": null,
   "id": "5492151a",
   "metadata": {},
   "outputs": [],
   "source": [
    "# Use datetime values as index for time-series data.\n",
    "max_temp = pd.Series(\n",
    "    [\n",
    "        2.1,\n",
    "        1.5,\n",
    "        -0.5,\n",
    "        -2.1\n",
    "    ],\n",
    "    index=[\n",
    "        dt.datetime(2022, 12, 15),  # Thursday   15-12-2022\n",
    "        dt.datetime(2022, 12, 16),  # Friday     16-12-2022\n",
    "        # Weekend has no data ...\n",
    "        dt.datetime(2022, 12, 19),  # Monday     19-12-2022\n",
    "        dt.datetime(2022, 12, 20),  # Tuesday    20-12-2022\n",
    "    ]\n",
    ")\n",
    "max_temp"
   ]
  },
  {
   "cell_type": "code",
   "execution_count": null,
   "id": "74cbc65f",
   "metadata": {},
   "outputs": [],
   "source": [
    "# Series has a DatetimeIndex.\n",
    "# Note: Index has frequency, but set to None.\n",
    "max_temp.index"
   ]
  },
  {
   "cell_type": "code",
   "execution_count": null,
   "id": "095259c5",
   "metadata": {},
   "outputs": [],
   "source": [
    "# Resample can be used to set / change the frequency.\n",
    "# Note: Use interpolate() to fill missing values.\n",
    "interpolated = (\n",
    "    max_temp\n",
    "    .resample(\"1D\")\n",
    "    .interpolate()\n",
    ")\n",
    "interpolated"
   ]
  },
  {
   "cell_type": "code",
   "execution_count": null,
   "id": "db9e3195",
   "metadata": {},
   "outputs": [],
   "source": [
    "interpolated.index"
   ]
  },
  {
   "cell_type": "code",
   "execution_count": null,
   "id": "1e3f9c05",
   "metadata": {},
   "outputs": [],
   "source": []
  },
  {
   "cell_type": "markdown",
   "id": "1a95fd66",
   "metadata": {},
   "source": [
    "## Index Alignment"
   ]
  },
  {
   "cell_type": "code",
   "execution_count": 83,
   "id": "36e8b4e9",
   "metadata": {},
   "outputs": [],
   "source": [
    "# Dummy data.\n",
    "a = pd.Series([\"A0\", \"A1\", \"A2\"], index=[0, 1, 2])\n",
    "b = pd.Series([\"B2\", \"B1\", \"B0\"], index=[2, 1, 0])"
   ]
  },
  {
   "cell_type": "code",
   "execution_count": null,
   "id": "0e51a23d",
   "metadata": {},
   "outputs": [],
   "source": [
    "# Concatenate values from two series.\n",
    "# Note: values are aligned using their indices!\n",
    "a + \" - \" + b"
   ]
  },
  {
   "cell_type": "code",
   "execution_count": null,
   "id": "81104c37",
   "metadata": {},
   "outputs": [],
   "source": [
    "# Shared indices get a result, rest is missing.\n",
    "c = pd.Series([\"C1\", \"C2\", \"C3\"], index=[1, 2, 3])\n",
    "a + \" - \" + c"
   ]
  },
  {
   "cell_type": "code",
   "execution_count": null,
   "id": "365ebf11",
   "metadata": {},
   "outputs": [],
   "source": []
  },
  {
   "cell_type": "markdown",
   "id": "08dba478",
   "metadata": {},
   "source": [
    "## Conditional Selections"
   ]
  },
  {
   "cell_type": "code",
   "execution_count": null,
   "id": "0f0bff07",
   "metadata": {},
   "outputs": [],
   "source": [
    "# Dummy data\n",
    "num = pd.Series([-2, -1, 0, 1, 2])\n",
    "num"
   ]
  },
  {
   "cell_type": "code",
   "execution_count": null,
   "id": "bad8fa2b",
   "metadata": {},
   "outputs": [],
   "source": [
    "# Select using boolean values.\n",
    "num[\n",
    "    [False, False, True, True , True]\n",
    "]"
   ]
  },
  {
   "cell_type": "code",
   "execution_count": null,
   "id": "8518e02a",
   "metadata": {},
   "outputs": [],
   "source": [
    "# Boolean operators return a Series of boolean values.\n",
    "num >= 0"
   ]
  },
  {
   "cell_type": "code",
   "execution_count": null,
   "id": "7961f41e",
   "metadata": {},
   "outputs": [],
   "source": [
    "# Use boolean Series to select values.\n",
    "num[num >= 0]"
   ]
  },
  {
   "cell_type": "code",
   "execution_count": null,
   "id": "04da6569",
   "metadata": {},
   "outputs": [],
   "source": [
    "# Combine conditions using | or &.\n",
    "# Note: Requires brackets!\n",
    "num[(num < 0) | (num > 0)]"
   ]
  },
  {
   "cell_type": "code",
   "execution_count": null,
   "id": "d2978263",
   "metadata": {},
   "outputs": [],
   "source": []
  },
  {
   "cell_type": "markdown",
   "id": "72952254",
   "metadata": {},
   "source": [
    "## Accessors"
   ]
  },
  {
   "cell_type": "code",
   "execution_count": 93,
   "id": "6942a205",
   "metadata": {},
   "outputs": [],
   "source": [
    "# Series of names.\n",
    "names = pd.Series([\"john\", \"JANE\", \"Jack\"])"
   ]
  },
  {
   "cell_type": "code",
   "execution_count": null,
   "id": "c3f2a30f",
   "metadata": {},
   "outputs": [],
   "source": [
    "# Using a lambda to fix case.\n",
    "names.map(lambda n: n.capitalize())"
   ]
  },
  {
   "cell_type": "code",
   "execution_count": null,
   "id": "5bb653e3",
   "metadata": {},
   "outputs": [],
   "source": [
    "# Or using the .str accessor of the series.\n",
    "names.str.capitalize()"
   ]
  },
  {
   "cell_type": "code",
   "execution_count": null,
   "id": "a5953647",
   "metadata": {},
   "outputs": [],
   "source": [
    "# Can perform multiple operations through accessors.\n",
    "# Note: Maybe not ideal for readability...\n",
    "names.str.strip().str.capitalize()"
   ]
  },
  {
   "cell_type": "code",
   "execution_count": null,
   "id": "fabba81f",
   "metadata": {},
   "outputs": [],
   "source": [
    "# Generate dummy dates.\n",
    "dates = pd.Series(pd.date_range(\"2022-01-01\", \"2022-01-05\"))\n",
    "dates"
   ]
  },
  {
   "cell_type": "code",
   "execution_count": null,
   "id": "d647e7b6",
   "metadata": {},
   "outputs": [],
   "source": [
    "# Use .dt accessor to get the day.\n",
    "dates.dt.day"
   ]
  },
  {
   "cell_type": "code",
   "execution_count": null,
   "id": "4f0c222a",
   "metadata": {},
   "outputs": [],
   "source": [
    "# Use date methods like strftime().\n",
    "dates.dt.strftime(\"%A %d %B %Y\")"
   ]
  },
  {
   "cell_type": "code",
   "execution_count": null,
   "id": "f1627683",
   "metadata": {},
   "outputs": [],
   "source": []
  }
 ],
 "metadata": {
  "kernelspec": {
   "display_name": "Python 3 (ipykernel)",
   "language": "python",
   "name": "python3"
  },
  "language_info": {
   "codemirror_mode": {
    "name": "ipython",
    "version": 3
   },
   "file_extension": ".py",
   "mimetype": "text/x-python",
   "name": "python",
   "nbconvert_exporter": "python",
   "pygments_lexer": "ipython3",
   "version": "3.11.9"
  }
 },
 "nbformat": 4,
 "nbformat_minor": 5
}
