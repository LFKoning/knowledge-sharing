{
 "cells": [
  {
   "cell_type": "code",
   "execution_count": 10,
   "id": "e642d5dd",
   "metadata": {},
   "outputs": [],
   "source": [
    "import numpy as np\n",
    "\n",
    "import matplotlib.pyplot as plt\n",
    "import matplotlib.cm as cmaps"
   ]
  },
  {
   "cell_type": "markdown",
   "id": "6f3c5e94",
   "metadata": {},
   "source": [
    "## Colormaps en colorbars"
   ]
  },
  {
   "cell_type": "markdown",
   "id": "9db2ebc0",
   "metadata": {},
   "source": [
    "Reference:\n",
    "https://matplotlib.org/stable/gallery/color/colormap_reference.html"
   ]
  },
  {
   "cell_type": "code",
   "execution_count": null,
   "id": "96192c99",
   "metadata": {
    "scrolled": false
   },
   "outputs": [],
   "source": [
    "# List available color maps.\n",
    "color_maps = [\n",
    "    attrib for attrib in dir(cmaps)\n",
    "    if \"matplotlib.colors\" in str(getattr(cmaps, attrib))\n",
    "]\n",
    "color_maps[:15]"
   ]
  },
  {
   "cell_type": "code",
   "execution_count": null,
   "id": "e2aa59f0",
   "metadata": {},
   "outputs": [],
   "source": [
    "# Preview a few color maps\n",
    "n = 5\n",
    "for cmap in np.random.choice(color_maps, n):\n",
    "    display(getattr(cmaps, cmap))"
   ]
  },
  {
   "cell_type": "code",
   "execution_count": null,
   "id": "9480f0c8",
   "metadata": {},
   "outputs": [],
   "source": [
    "# Blues color map\n",
    "cmaps.Blues"
   ]
  },
  {
   "cell_type": "code",
   "execution_count": null,
   "id": "4195b6af",
   "metadata": {},
   "outputs": [],
   "source": [
    "# Convert numbers to RGBA color codes.\n",
    "# Note: 2.0 is out of bounds [0, 1], gets same value as 1.0\n",
    "data = [0, 0.5, 1.0, 2.0]\n",
    "blues = cmaps.Blues(data)\n",
    "blues"
   ]
  },
  {
   "cell_type": "code",
   "execution_count": null,
   "id": "07ae102f",
   "metadata": {
    "scrolled": false
   },
   "outputs": [],
   "source": [
    "# Plot RGB conversions\n",
    "fig = plt.figure(figsize=(len(data), 1))\n",
    "for idx, shade in enumerate(blues):\n",
    "    ax = fig.add_subplot(1, len(data), idx + 1)\n",
    "    ax.imshow([[shade]])\n",
    "    ax.axis(\"off\")\n",
    "    ax.set_title(data[idx])"
   ]
  },
  {
   "cell_type": "code",
   "execution_count": 28,
   "id": "7e48e7a5",
   "metadata": {},
   "outputs": [],
   "source": [
    "# Dummy data\n",
    "n = 50\n",
    "x = np.random.normal(10, 3, n)\n",
    "y = 1.2 * x + np.random.normal(0, 5, n)\n",
    "s = np.random.uniform(0, 100, n)"
   ]
  },
  {
   "cell_type": "code",
   "execution_count": null,
   "id": "9c9cb9f3",
   "metadata": {},
   "outputs": [],
   "source": [
    "# Scatterplot with colormap applied to it\n",
    "fig = plt.figure(figsize=(6, 5))\n",
    "ax = fig.add_subplot(111)\n",
    "ax.set_title(\"Scatter with Colormap\")\n",
    "\n",
    "# Note: Use c parameter when using a color map!\n",
    "ax.scatter(x, y, c=s, cmap='Blues')"
   ]
  },
  {
   "cell_type": "markdown",
   "id": "18c0e680",
   "metadata": {},
   "source": [
    "## Colorbar"
   ]
  },
  {
   "cell_type": "code",
   "execution_count": null,
   "id": "8d74ec0d",
   "metadata": {
    "scrolled": false
   },
   "outputs": [],
   "source": [
    "# SCatterplot from the last cell\n",
    "fig = plt.figure(figsize=(6, 5))\n",
    "ax = fig.add_subplot(111)\n",
    "ax.set_title(\"Scatter with Colorbar\")\n",
    "\n",
    "# Plot colors using a color map.\n",
    "scatter = ax.scatter(x, y, c=s, cmap='Blues')\n",
    "\n",
    "# Provide the scatterplot as input to colorbar\n",
    "fig.colorbar(scatter)"
   ]
  },
  {
   "cell_type": "code",
   "execution_count": null,
   "id": "f0835810",
   "metadata": {},
   "outputs": [],
   "source": []
  }
 ],
 "metadata": {
  "kernelspec": {
   "display_name": "python-course",
   "language": "python",
   "name": "python3"
  },
  "language_info": {
   "codemirror_mode": {
    "name": "ipython",
    "version": 3
   },
   "file_extension": ".py",
   "mimetype": "text/x-python",
   "name": "python",
   "nbconvert_exporter": "python",
   "pygments_lexer": "ipython3",
   "version": "3.11.9"
  }
 },
 "nbformat": 4,
 "nbformat_minor": 5
}
