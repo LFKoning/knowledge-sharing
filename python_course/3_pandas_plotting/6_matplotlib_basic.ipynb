{
 "cells": [
  {
   "cell_type": "code",
   "execution_count": 1,
   "id": "7dbbb0fb",
   "metadata": {},
   "outputs": [],
   "source": [
    "import numpy as np\n",
    "import matplotlib.pyplot as plt"
   ]
  },
  {
   "cell_type": "markdown",
   "id": "23aa057e",
   "metadata": {},
   "source": [
    "## Plot API"
   ]
  },
  {
   "cell_type": "code",
   "execution_count": null,
   "id": "7e983df1",
   "metadata": {},
   "outputs": [],
   "source": [
    "# Create Figure and Axes objects.\n",
    "fig = plt.figure(figsize=(8, 4))\n",
    "ax = fig.add_subplot(1, 1, 1)\n",
    "\n",
    "# Print types.\n",
    "print(f\"fig is a {type(fig)}\")\n",
    "print(f\"ax is a {type(ax)}\")"
   ]
  },
  {
   "cell_type": "code",
   "execution_count": null,
   "id": "0f9649b6",
   "metadata": {},
   "outputs": [],
   "source": [
    "# Check axes in the figure.\n",
    "fig.axes"
   ]
  },
  {
   "cell_type": "code",
   "execution_count": null,
   "id": "3dd8a577",
   "metadata": {},
   "outputs": [],
   "source": [
    "# Get Artists from Axes.\n",
    "fig.axes[0].get_children()"
   ]
  },
  {
   "cell_type": "code",
   "execution_count": null,
   "id": "eb12da46",
   "metadata": {},
   "outputs": [],
   "source": [
    "# Plot some data and set a title.\n",
    "points = ax.plot([1, 2, 3], [4, 5, 6])\n",
    "title = ax.set_title(\"Awesome graph\")\n",
    "\n",
    "# Print types\n",
    "print(f\"points is a {type(points)}\")\n",
    "print(f\"points[0] is {type(points[0])}\")\n",
    "print(f\"title is a {type(title)}\")"
   ]
  },
  {
   "cell_type": "code",
   "execution_count": null,
   "id": "9c9b4869",
   "metadata": {},
   "outputs": [],
   "source": [
    "# Display the figure.\n",
    "fig"
   ]
  },
  {
   "cell_type": "code",
   "execution_count": null,
   "id": "9639d09d",
   "metadata": {},
   "outputs": [],
   "source": [
    "# Check axes in the figure.\n",
    "fig.axes"
   ]
  },
  {
   "cell_type": "code",
   "execution_count": null,
   "id": "dc9499a3",
   "metadata": {},
   "outputs": [],
   "source": [
    "# Get Artists from Axes.\n",
    "fig.axes[0].get_children()"
   ]
  },
  {
   "cell_type": "markdown",
   "id": "994a7344",
   "metadata": {},
   "source": [
    "## Plot Types"
   ]
  },
  {
   "cell_type": "markdown",
   "id": "853f75b9",
   "metadata": {},
   "source": [
    "### Histogram"
   ]
  },
  {
   "cell_type": "code",
   "execution_count": null,
   "id": "9848eb33",
   "metadata": {},
   "outputs": [],
   "source": [
    "x = np.random.normal(10, 3, 100)\n",
    "\n",
    "fig = plt.figure(figsize=(6, 3))\n",
    "ax = fig.add_subplot(111)\n",
    "\n",
    "ax.hist(x, bins=25, edgecolor=\"white\")\n",
    "ax.set_title(\"Histogram of X\")"
   ]
  },
  {
   "cell_type": "markdown",
   "id": "f5ac1b1a",
   "metadata": {},
   "source": [
    "### Line Plot"
   ]
  },
  {
   "cell_type": "code",
   "execution_count": null,
   "id": "52ac2f76",
   "metadata": {},
   "outputs": [],
   "source": [
    "fig = plt.figure(figsize=(6, 3))\n",
    "ax = fig.add_subplot(111)\n",
    "\n",
    "ax.plot([1, 2, 3], [4, 5, 5], label=\"x\", color=\"red\", linestyle=\"--\", marker=\"o\")\n",
    "ax.plot([1, 2, 3], [6, 4, 3], label=\"y\", color=\"green\", linestyle=\"-\", marker=\"d\")\n",
    "\n",
    "ax.legend()\n",
    "ax.set_title(\"Lines of X and Y\")"
   ]
  },
  {
   "cell_type": "markdown",
   "id": "5f1f6e24",
   "metadata": {},
   "source": [
    "### Bar Chart"
   ]
  },
  {
   "cell_type": "code",
   "execution_count": null,
   "id": "f8176d5d",
   "metadata": {},
   "outputs": [],
   "source": [
    "fig = plt.figure(figsize=(6, 3))\n",
    "ax = fig.add_subplot(111)\n",
    "\n",
    "ax.bar([\"A\", \"B\", \"C\"], [4, 5, 2], color=[\"red\", \"orange\", \"green\"], edgecolor=\"black\", width=0.5)\n",
    "ax.set_title(\"Vertical Bar Chart\")"
   ]
  },
  {
   "cell_type": "code",
   "execution_count": null,
   "id": "0cfce1ce",
   "metadata": {},
   "outputs": [],
   "source": [
    "fig = plt.figure(figsize=(6, 3))\n",
    "ax = fig.add_subplot(111)\n",
    "ax.barh([\"A\", \"B\", \"C\"], [4, 5, 2], color=[\"red\", \"orange\", \"green\"], edgecolor=\"black\", height=0.5)\n",
    "ax.set_title(\"Horizontal Bar Chart\")"
   ]
  },
  {
   "cell_type": "markdown",
   "id": "a34d1378",
   "metadata": {},
   "source": [
    "### Scatter Plot"
   ]
  },
  {
   "cell_type": "code",
   "execution_count": null,
   "id": "552064c1",
   "metadata": {},
   "outputs": [],
   "source": [
    "n = 50\n",
    "x = np.random.normal(10, 3, n)\n",
    "y = 1.2 * x + np.random.normal(0, 5, n)\n",
    "s = np.random.uniform(50, 750, n)\n",
    "\n",
    "fig = plt.figure(figsize=(6, 3))\n",
    "ax = fig.add_subplot(111)\n",
    "\n",
    "ax.scatter(x, y, s=s, alpha=0.3)\n",
    "ax.set_title(\"Scatter Plot of X, Y and S\")"
   ]
  },
  {
   "cell_type": "markdown",
   "id": "904217ca",
   "metadata": {},
   "source": [
    "### Horizonal / Vertical Line"
   ]
  },
  {
   "cell_type": "code",
   "execution_count": null,
   "id": "2e99c1c5",
   "metadata": {},
   "outputs": [],
   "source": [
    "n = 150\n",
    "bins = 50\n",
    "x = np.random.normal(10, 3, n)\n",
    "\n",
    "fig = plt.figure(figsize=(6, 3))\n",
    "ax = fig.add_subplot(111)\n",
    "\n",
    "ax.hist(x, bins=bins, edgecolor=\"white\", alpha=0.5)\n",
    "\n",
    "ax.axvline(x=x.mean(), color=\"red\", label=\"mean\")\n",
    "ax.axhline(y=len(x) / bins, color=\"orange\", linestyle=\"--\", label=\"uniform\")\n",
    "\n",
    "ax.legend()\n",
    "ax.set_title(\"H/V Lines on a Histogram\")"
   ]
  },
  {
   "cell_type": "markdown",
   "id": "694812fd",
   "metadata": {},
   "source": [
    "### Stacked Area"
   ]
  },
  {
   "cell_type": "code",
   "execution_count": null,
   "id": "c8853477",
   "metadata": {},
   "outputs": [],
   "source": [
    "x = [1, 2, 3, 4, 5, 6, 7, 8]\n",
    "y1 = [90, 85, 79, 70, 61, 49, 40, 35]\n",
    "y2 = [10, 15, 20, 24, 29, 34, 38, 35]\n",
    "y3 = [0,   0,  1,  6, 10, 17, 22, 30]\n",
    "colors=(\"#342fed\", \"#5a81f6\", \"#bbe1f5\")\n",
    "\n",
    "fig = plt.figure(figsize=(6, 3))\n",
    "ax = fig.add_subplot(111)\n",
    "\n",
    "ax.stackplot(x, y1, y2, y3, colors=colors)\n",
    "ax.set_title(\"Area Plot of 3 Series\")"
   ]
  },
  {
   "cell_type": "code",
   "execution_count": null,
   "id": "bfc50bc0",
   "metadata": {},
   "outputs": [],
   "source": []
  }
 ],
 "metadata": {
  "kernelspec": {
   "display_name": "python-course",
   "language": "python",
   "name": "python3"
  },
  "language_info": {
   "codemirror_mode": {
    "name": "ipython",
    "version": 3
   },
   "file_extension": ".py",
   "mimetype": "text/x-python",
   "name": "python",
   "nbconvert_exporter": "python",
   "pygments_lexer": "ipython3",
   "version": "3.11.9"
  }
 },
 "nbformat": 4,
 "nbformat_minor": 5
}
