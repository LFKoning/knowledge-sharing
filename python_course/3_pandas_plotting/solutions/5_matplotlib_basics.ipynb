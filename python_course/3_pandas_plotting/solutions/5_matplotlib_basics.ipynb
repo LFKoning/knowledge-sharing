{
 "cells": [
  {
   "cell_type": "markdown",
   "id": "865f38da",
   "metadata": {},
   "source": [
    "# Exercises 5: Solutions"
   ]
  },
  {
   "cell_type": "code",
   "execution_count": null,
   "id": "b4778165",
   "metadata": {},
   "outputs": [],
   "source": [
    "import pandas as pd\n",
    "\n",
    "import matplotlib\n",
    "import matplotlib.pyplot as plt"
   ]
  },
  {
   "cell_type": "code",
   "execution_count": null,
   "id": "89187f22",
   "metadata": {},
   "outputs": [],
   "source": [
    "# Read transaction data.\n",
    "transactions = pd.read_csv(\n",
    "    \"../../0_data/sales/transactions.csv\",\n",
    "    parse_dates=[\"transaction_date\"]\n",
    ")"
   ]
  },
  {
   "cell_type": "code",
   "execution_count": null,
   "id": "64e1fc37",
   "metadata": {},
   "outputs": [],
   "source": [
    "# Merge customer data.\n",
    "customers = pd.read_csv(\"../../0_data/sales/customers.csv\")\n",
    "transactions = transactions.merge(customers, on=\"customer_id\", how=\"left\")\n",
    "transactions.head(3)"
   ]
  },
  {
   "cell_type": "markdown",
   "id": "36a90050",
   "metadata": {},
   "source": [
    "## Styles"
   ]
  },
  {
   "cell_type": "code",
   "execution_count": null,
   "id": "ed2096fd",
   "metadata": {},
   "outputs": [],
   "source": [
    "# List available styles\n",
    "matplotlib.style.available"
   ]
  },
  {
   "cell_type": "code",
   "execution_count": null,
   "id": "f8374e3a",
   "metadata": {
    "scrolled": false
   },
   "outputs": [],
   "source": [
    "# Examples for a few popular styles\n",
    "for style in (\"ggplot\", \"seaborn-v0_8\", \"fivethirtyeight\"):\n",
    "    matplotlib.style.use(style)\n",
    "\n",
    "    fig = plt.figure(figsize=(6, 3))\n",
    "    ax = fig.add_subplot(1, 1, 1)\n",
    "    ax.set_title(f\"Style: {style}\")\n",
    "\n",
    "    ax.plot([1, 2, 3], [4, 5, 5], label=\"x\", linestyle=\"--\", marker=\"o\")\n",
    "    ax.plot([1, 2, 3], [6, 4, 3], label=\"y\", linestyle=\"-\", marker=\"d\")"
   ]
  },
  {
   "cell_type": "code",
   "execution_count": null,
   "id": "6f0d2d5c",
   "metadata": {},
   "outputs": [],
   "source": [
    "# Set Seaborn style\n",
    "matplotlib.style.use(\"seaborn-v0_8\")"
   ]
  },
  {
   "cell_type": "markdown",
   "id": "dcd6a288",
   "metadata": {},
   "source": [
    "## Barplot Customer Revenue"
   ]
  },
  {
   "cell_type": "code",
   "execution_count": null,
   "id": "a2d46a3f",
   "metadata": {},
   "outputs": [],
   "source": [
    "customer_revenue = (\n",
    "    transactions\n",
    "    .groupby(\"name\", as_index=False)\n",
    "    .agg(revenue=(\"total\",\"sum\"))\n",
    "    .sort_values(\"revenue\", ascending=False)\n",
    "    .head(15)\n",
    ")\n",
    "customer_revenue"
   ]
  },
  {
   "cell_type": "code",
   "execution_count": null,
   "id": "d8275bf3",
   "metadata": {},
   "outputs": [],
   "source": [
    "# Sort the DataFrame in ascending order.\n",
    "customer_revenue = customer_revenue.sort_values(\"revenue\")\n",
    "\n",
    "# Create Figure object.\n",
    "fig = plt.figure(figsize=(6, 6))\n",
    "\n",
    "# Add AxesSubplot (1 x 1 grid at index 1).\n",
    "ax = fig.add_subplot(1, 1, 1)\n",
    "\n",
    "# Plot the bars.\n",
    "ax.barh(\n",
    "    y=customer_revenue[\"name\"],\n",
    "    width=customer_revenue[\"revenue\"],\n",
    ")\n",
    "\n",
    "# Add a title.\n",
    "ax.set_title(\"Revenue per Customer\")\n",
    "\n",
    "None"
   ]
  },
  {
   "cell_type": "markdown",
   "id": "715c715d",
   "metadata": {},
   "source": [
    "## Time Series Daily Revenue"
   ]
  },
  {
   "cell_type": "code",
   "execution_count": null,
   "id": "024bfd3a",
   "metadata": {},
   "outputs": [],
   "source": [
    "# Compute revenue per day.\n",
    "daily_revenue = (\n",
    "    transactions\n",
    "    .groupby(\"transaction_date\", as_index=False)\n",
    "    .agg(revenue=(\"total\", \"sum\"))\n",
    ")\n",
    "daily_revenue.head(5)"
   ]
  },
  {
   "cell_type": "code",
   "execution_count": null,
   "id": "e76d91e9",
   "metadata": {},
   "outputs": [],
   "source": [
    "fig = plt.figure(figsize=(10, 4))\n",
    "ax = fig.add_subplot(1, 1, 1)\n",
    "\n",
    "# Line plot for daily revenue.\n",
    "ax.plot(\n",
    "    daily_revenue[\"transaction_date\"],\n",
    "    daily_revenue[\"revenue\"],\n",
    "    marker=\".\",\n",
    ")\n",
    "\n",
    "ax.set_title(\"Daily Revenue\")\n",
    "\n",
    "\n",
    "None"
   ]
  },
  {
   "cell_type": "code",
   "execution_count": null,
   "id": "aa03740f",
   "metadata": {},
   "outputs": [],
   "source": []
  },
  {
   "cell_type": "code",
   "execution_count": null,
   "id": "058ee6af",
   "metadata": {},
   "outputs": [],
   "source": []
  }
 ],
 "metadata": {
  "kernelspec": {
   "display_name": "Python 3 (ipykernel)",
   "language": "python",
   "name": "python3"
  },
  "language_info": {
   "codemirror_mode": {
    "name": "ipython",
    "version": 3
   },
   "file_extension": ".py",
   "mimetype": "text/x-python",
   "name": "python",
   "nbconvert_exporter": "python",
   "pygments_lexer": "ipython3",
   "version": "3.9.18"
  }
 },
 "nbformat": 4,
 "nbformat_minor": 5
}
