{
 "cells": [
  {
   "cell_type": "markdown",
   "id": "865f38da",
   "metadata": {},
   "source": [
    "# Exercises 3: Solutions"
   ]
  },
  {
   "cell_type": "code",
   "execution_count": null,
   "id": "b4778165",
   "metadata": {},
   "outputs": [],
   "source": [
    "import pandas as pd"
   ]
  },
  {
   "cell_type": "code",
   "execution_count": null,
   "id": "89187f22",
   "metadata": {},
   "outputs": [],
   "source": [
    "transactions = pd.read_csv(\n",
    "    \"../../0_data/sales/transactions.csv\",\n",
    "    parse_dates=[\"transaction_date\"]\n",
    ")\n",
    "transactions.shape"
   ]
  },
  {
   "cell_type": "code",
   "execution_count": null,
   "id": "2b85fc76",
   "metadata": {},
   "outputs": [],
   "source": [
    "transactions.columns"
   ]
  },
  {
   "cell_type": "markdown",
   "id": "715c715d",
   "metadata": {},
   "source": [
    "## Aggregate"
   ]
  },
  {
   "cell_type": "code",
   "execution_count": null,
   "id": "5f194985",
   "metadata": {},
   "outputs": [],
   "source": [
    "# Daily aggregates for unique customers, items sold and revenue.\n",
    "(\n",
    "    transactions\n",
    "    .groupby(\"transaction_date\", as_index=False)\n",
    "    .agg(\n",
    "        unique_customers=(\"customer_id\", \"nunique\"),\n",
    "        items_sold=(\"quantity\", \"sum\"),\n",
    "        revenue=(\"total\", \"sum\"),\n",
    "    )\n",
    "    .head(5)\n",
    ")"
   ]
  },
  {
   "cell_type": "code",
   "execution_count": null,
   "id": "024bfd3a",
   "metadata": {},
   "outputs": [],
   "source": [
    "# Most profitable customers.\n",
    "(\n",
    "    transactions\n",
    "    .groupby(\"customer_id\", as_index=False)\n",
    "    .agg({\"total\": \"sum\"})\n",
    "    .sort_values(by=\"total\", ascending=False)\n",
    "    .head(5)\n",
    ")"
   ]
  },
  {
   "cell_type": "code",
   "execution_count": null,
   "id": "fde798cc",
   "metadata": {},
   "outputs": [],
   "source": [
    "# Least profitable products.\n",
    "(\n",
    "    transactions\n",
    "    .groupby(\"product_id\", as_index=False)\n",
    "    .agg({\"total\": \"sum\"})\n",
    "    .sort_values(by=\"total\")\n",
    "    .head(5)\n",
    ")"
   ]
  },
  {
   "cell_type": "code",
   "execution_count": null,
   "id": "189aaad8",
   "metadata": {},
   "outputs": [],
   "source": []
  }
 ],
 "metadata": {
  "kernelspec": {
   "display_name": "Python 3 (ipykernel)",
   "language": "python",
   "name": "python3"
  },
  "language_info": {
   "codemirror_mode": {
    "name": "ipython",
    "version": 3
   },
   "file_extension": ".py",
   "mimetype": "text/x-python",
   "name": "python",
   "nbconvert_exporter": "python",
   "pygments_lexer": "ipython3",
   "version": "3.9.18"
  }
 },
 "nbformat": 4,
 "nbformat_minor": 5
}
