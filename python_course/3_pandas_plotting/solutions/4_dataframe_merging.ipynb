{
 "cells": [
  {
   "cell_type": "markdown",
   "id": "865f38da",
   "metadata": {},
   "source": [
    "# Exercises 4: Solutions"
   ]
  },
  {
   "cell_type": "code",
   "execution_count": null,
   "id": "b4778165",
   "metadata": {},
   "outputs": [],
   "source": [
    "import pandas as pd"
   ]
  },
  {
   "cell_type": "code",
   "execution_count": null,
   "id": "89187f22",
   "metadata": {},
   "outputs": [],
   "source": [
    "transactions = pd.read_csv(\n",
    "    \"../../0_data/sales/transactions.csv\",\n",
    "    parse_dates=[\"transaction_date\"]\n",
    ")\n",
    "transactions.columns"
   ]
  },
  {
   "cell_type": "code",
   "execution_count": null,
   "id": "2b85fc76",
   "metadata": {},
   "outputs": [],
   "source": [
    "customers = pd.read_csv(\n",
    "    \"../../0_data/sales/customers.csv\",\n",
    "    parse_dates=[\"birthdate\", \"created_on\"]\n",
    ")\n",
    "customers.columns"
   ]
  },
  {
   "cell_type": "code",
   "execution_count": null,
   "id": "6ed3ddd7",
   "metadata": {},
   "outputs": [],
   "source": [
    "products = pd.read_csv(\"../../0_data/sales/products.csv\")\n",
    "products.columns"
   ]
  },
  {
   "cell_type": "markdown",
   "id": "dcd6a288",
   "metadata": {},
   "source": [
    "## Merge"
   ]
  },
  {
   "cell_type": "code",
   "execution_count": null,
   "id": "d8275bf3",
   "metadata": {},
   "outputs": [],
   "source": [
    "# Merge all data sets.\n",
    "merged = (\n",
    "    transactions\n",
    "    .merge(products, on=\"product_id\", how=\"left\")\n",
    "    .merge(customers, on=\"customer_id\", how=\"left\")\n",
    ")\n",
    "merged.head(5)"
   ]
  },
  {
   "cell_type": "code",
   "execution_count": null,
   "id": "b6cd43b0",
   "metadata": {},
   "outputs": [],
   "source": [
    "# Merged set includes columns from all individual sets.\n",
    "list(merged.columns)"
   ]
  },
  {
   "cell_type": "code",
   "execution_count": null,
   "id": "6bdaf427",
   "metadata": {},
   "outputs": [],
   "source": [
    "# Number of transactions should be the same.\n",
    "transactions.shape[0] == merged.shape[0]"
   ]
  },
  {
   "cell_type": "markdown",
   "id": "715c715d",
   "metadata": {},
   "source": [
    "## Aggregate"
   ]
  },
  {
   "cell_type": "code",
   "execution_count": null,
   "id": "024bfd3a",
   "metadata": {},
   "outputs": [],
   "source": [
    "# Most profitable customers.\n",
    "(\n",
    "    merged\n",
    "    .groupby(\"name\")\n",
    "    .agg({\"total\": \"sum\"})\n",
    "    .sort_values(by=\"total\", ascending=False)\n",
    "    .head(5)\n",
    ")"
   ]
  },
  {
   "cell_type": "code",
   "execution_count": null,
   "id": "fde798cc",
   "metadata": {},
   "outputs": [],
   "source": [
    "# Least profitable products.\n",
    "# Note: Product names are not unique...\n",
    "(\n",
    "    merged\n",
    "    .groupby([\"product_id\", \"product\"], as_index=False)\n",
    "    .agg({\"total\": \"sum\"})\n",
    "    .sort_values(by=\"total\")\n",
    "    .head(5)\n",
    ")"
   ]
  },
  {
   "cell_type": "code",
   "execution_count": null,
   "id": "e76d91e9",
   "metadata": {},
   "outputs": [],
   "source": []
  }
 ],
 "metadata": {
  "kernelspec": {
   "display_name": "Python 3 (ipykernel)",
   "language": "python",
   "name": "python3"
  },
  "language_info": {
   "codemirror_mode": {
    "name": "ipython",
    "version": 3
   },
   "file_extension": ".py",
   "mimetype": "text/x-python",
   "name": "python",
   "nbconvert_exporter": "python",
   "pygments_lexer": "ipython3",
   "version": "3.9.18"
  }
 },
 "nbformat": 4,
 "nbformat_minor": 5
}
