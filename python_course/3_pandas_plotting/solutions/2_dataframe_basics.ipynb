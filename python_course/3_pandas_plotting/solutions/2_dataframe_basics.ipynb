{
 "cells": [
  {
   "cell_type": "markdown",
   "id": "865f38da",
   "metadata": {},
   "source": [
    "# Exercises 2: Solutions"
   ]
  },
  {
   "cell_type": "code",
   "execution_count": 1,
   "id": "b4778165",
   "metadata": {},
   "outputs": [],
   "source": [
    "import pandas as pd"
   ]
  },
  {
   "cell_type": "markdown",
   "id": "552a86a0",
   "metadata": {},
   "source": [
    "## Read  / Explore Transactions"
   ]
  },
  {
   "cell_type": "code",
   "execution_count": 2,
   "id": "89187f22",
   "metadata": {},
   "outputs": [],
   "source": [
    "transactions = pd.read_csv(\"../../0_data/sales/transactions.csv\")"
   ]
  },
  {
   "cell_type": "code",
   "execution_count": null,
   "id": "6cf70a4c",
   "metadata": {},
   "outputs": [],
   "source": [
    "# Get shape\n",
    "transactions.shape"
   ]
  },
  {
   "cell_type": "code",
   "execution_count": null,
   "id": "8ca7aeee",
   "metadata": {},
   "outputs": [],
   "source": [
    "# Get column names\n",
    "transactions.columns"
   ]
  },
  {
   "cell_type": "code",
   "execution_count": null,
   "id": "6168998c",
   "metadata": {},
   "outputs": [],
   "source": [
    "# List the data types\n",
    "# Note: Use read_csv with parse_dates=[\"transaction_date\"]\n",
    "transactions.dtypes"
   ]
  },
  {
   "cell_type": "code",
   "execution_count": null,
   "id": "915e88a0",
   "metadata": {},
   "outputs": [],
   "source": [
    "# Peek at the data\n",
    "transactions.head(3)"
   ]
  },
  {
   "cell_type": "code",
   "execution_count": null,
   "id": "678c036e",
   "metadata": {},
   "outputs": [],
   "source": [
    "# Sample 3 records\n",
    "transactions.sample(3)"
   ]
  },
  {
   "cell_type": "code",
   "execution_count": null,
   "id": "e98098d5",
   "metadata": {},
   "outputs": [],
   "source": [
    "# Get descriptives for numeric columns\n",
    "transactions.describe()"
   ]
  },
  {
   "cell_type": "code",
   "execution_count": null,
   "id": "fb7fd17b",
   "metadata": {},
   "outputs": [],
   "source": [
    "# Get descriptives for categorical columns\n",
    "transactions.describe(include=[\"object\"])"
   ]
  },
  {
   "cell_type": "markdown",
   "id": "a0f2bbd9",
   "metadata": {},
   "source": [
    "## Top 15"
   ]
  },
  {
   "cell_type": "code",
   "execution_count": null,
   "id": "a250a2cf",
   "metadata": {},
   "outputs": [],
   "source": [
    "# Top 15 lines in terms of revenue.\n",
    "# Note: Fake data generator is not super...\n",
    "(\n",
    "    transactions\n",
    "    .sort_values(by=\"total\", ascending=False)\n",
    "    .head(15)\n",
    ")"
   ]
  },
  {
   "cell_type": "markdown",
   "id": "bd80728c",
   "metadata": {},
   "source": [
    "## Line ID"
   ]
  },
  {
   "cell_type": "code",
   "execution_count": 11,
   "id": "de601aca",
   "metadata": {},
   "outputs": [],
   "source": [
    "# Define the function as if we had regular values.\n",
    "def make_line_id(transaction_id, line_nr):\n",
    "    \"\"\"Create a line ID for a transaction and line number.\"\"\"\n",
    "    return f\"{transaction_id}-{line_nr:04d}\""
   ]
  },
  {
   "cell_type": "code",
   "execution_count": null,
   "id": "d75979fe",
   "metadata": {},
   "outputs": [],
   "source": [
    "# Apply the function to the DataFrame records\n",
    "transactions.apply(\n",
    "    lambda row: make_line_id(row['transaction_id'], row['line_nr']),\n",
    "    axis=1\n",
    ")"
   ]
  },
  {
   "cell_type": "code",
   "execution_count": null,
   "id": "198cd11b",
   "metadata": {},
   "outputs": [],
   "source": [
    "# Use assign to add a column to the DataFrame.\n",
    "transactions.assign(\n",
    "    line_id=transactions.apply(\n",
    "        lambda row: make_line_id(row['transaction_id'], row['line_nr']),\n",
    "        axis=1\n",
    "    )\n",
    ")"
   ]
  },
  {
   "cell_type": "code",
   "execution_count": null,
   "id": "2f7f33c3",
   "metadata": {},
   "outputs": [],
   "source": []
  }
 ],
 "metadata": {
  "kernelspec": {
   "display_name": "Python 3 (ipykernel)",
   "language": "python",
   "name": "python3"
  },
  "language_info": {
   "codemirror_mode": {
    "name": "ipython",
    "version": 3
   },
   "file_extension": ".py",
   "mimetype": "text/x-python",
   "name": "python",
   "nbconvert_exporter": "python",
   "pygments_lexer": "ipython3",
   "version": "3.11.9"
  }
 },
 "nbformat": 4,
 "nbformat_minor": 5
}
