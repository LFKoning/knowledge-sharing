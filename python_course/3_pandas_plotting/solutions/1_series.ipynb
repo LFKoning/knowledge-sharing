{
 "cells": [
  {
   "cell_type": "markdown",
   "id": "865f38da",
   "metadata": {},
   "source": [
    "# Exercises 1: Solutions"
   ]
  },
  {
   "cell_type": "code",
   "execution_count": 2,
   "id": "b4778165",
   "metadata": {},
   "outputs": [],
   "source": [
    "import pandas as pd"
   ]
  },
  {
   "cell_type": "markdown",
   "id": "552a86a0",
   "metadata": {},
   "source": [
    "## Missing data"
   ]
  },
  {
   "cell_type": "code",
   "execution_count": null,
   "id": "89187f22",
   "metadata": {},
   "outputs": [],
   "source": [
    "# Missing values result in float data type.\n",
    "miss = pd.Series([1, 2, 3, None])\n",
    "miss"
   ]
  },
  {
   "cell_type": "code",
   "execution_count": null,
   "id": "a8902957",
   "metadata": {},
   "outputs": [],
   "source": [
    "type(miss[3])"
   ]
  },
  {
   "cell_type": "code",
   "execution_count": null,
   "id": "786ca459",
   "metadata": {},
   "outputs": [],
   "source": [
    "miss.isna()"
   ]
  },
  {
   "cell_type": "code",
   "execution_count": null,
   "id": "b4259aa4",
   "metadata": {},
   "outputs": [],
   "source": [
    "# Pandas `Int64` type allows integers with missing values.\n",
    "miss = pd.Series([1, 2, 3, None], dtype=\"Int64\")\n",
    "miss"
   ]
  },
  {
   "cell_type": "code",
   "execution_count": null,
   "id": "b56e1813",
   "metadata": {},
   "outputs": [],
   "source": [
    "type(miss[3])"
   ]
  },
  {
   "cell_type": "code",
   "execution_count": null,
   "id": "70a326b0",
   "metadata": {},
   "outputs": [],
   "source": [
    "miss.isna()"
   ]
  },
  {
   "cell_type": "markdown",
   "id": "5ee04114",
   "metadata": {},
   "source": [
    "## Splitting multiple values"
   ]
  },
  {
   "cell_type": "code",
   "execution_count": 12,
   "id": "b9e18fd1",
   "metadata": {},
   "outputs": [],
   "source": [
    "s = pd.Series([\"a,b,c\", \"d,e\"])"
   ]
  },
  {
   "cell_type": "code",
   "execution_count": null,
   "id": "22796333",
   "metadata": {},
   "outputs": [],
   "source": [
    "# Split using map().\n",
    "# Note: String values are converted to lists.\n",
    "s.map(str.split)"
   ]
  },
  {
   "cell_type": "code",
   "execution_count": null,
   "id": "baaf34bb",
   "metadata": {},
   "outputs": [],
   "source": [
    "# Or using str accessor.\n",
    "s.str.split(\",\")"
   ]
  },
  {
   "cell_type": "code",
   "execution_count": null,
   "id": "0501a34a",
   "metadata": {},
   "outputs": [],
   "source": [
    "# Use explode() to split into rows.\n",
    "s.str.split(\",\").explode()"
   ]
  },
  {
   "cell_type": "code",
   "execution_count": null,
   "id": "c011547c",
   "metadata": {},
   "outputs": [],
   "source": []
  },
  {
   "cell_type": "markdown",
   "id": "ba93305d",
   "metadata": {},
   "source": [
    "## Recode values"
   ]
  },
  {
   "cell_type": "code",
   "execution_count": null,
   "id": "943d3155",
   "metadata": {},
   "outputs": [],
   "source": [
    "# Create raw data values.\n",
    "raw = pd.Series([\"A\", \"A\", \"A\", \"B\", \"B\", \"C\", \"C\",  \"D\", \"E\"])"
   ]
  },
  {
   "cell_type": "code",
   "execution_count": null,
   "id": "1f917dee",
   "metadata": {},
   "outputs": [],
   "source": [
    "# Get top 3 values.\n",
    "raw.value_counts().head(3)"
   ]
  },
  {
   "cell_type": "code",
   "execution_count": null,
   "id": "912ac4ae",
   "metadata": {},
   "outputs": [],
   "source": [
    "# Get top 3 values as a list.\n",
    "top = raw.value_counts().head(3).index"
   ]
  },
  {
   "cell_type": "code",
   "execution_count": null,
   "id": "c69bf9ce",
   "metadata": {},
   "outputs": [],
   "source": [
    "# Use a lambda function to recode.\n",
    "raw.map(lambda v: v if v in top else \"other\")"
   ]
  },
  {
   "cell_type": "code",
   "execution_count": null,
   "id": "9bf9dccc",
   "metadata": {},
   "outputs": [],
   "source": []
  },
  {
   "cell_type": "markdown",
   "id": "3f10620b",
   "metadata": {},
   "source": [
    "### What about missing values?"
   ]
  },
  {
   "cell_type": "code",
   "execution_count": 3,
   "id": "b71f85ce",
   "metadata": {},
   "outputs": [],
   "source": [
    "# Create raw data values.\n",
    "raw = pd.Series([\"A\", \"A\", \"A\", \"B\", \"B\", \"C\", \"C\",  \"D\", \"E\", None, None, None])"
   ]
  },
  {
   "cell_type": "code",
   "execution_count": null,
   "id": "570d0090",
   "metadata": {},
   "outputs": [],
   "source": [
    "# Get top 3 values as a list\n",
    "# Note: value_counts excludes missings by default.\n",
    "top = raw.value_counts().head(3).index\n",
    "top"
   ]
  },
  {
   "cell_type": "code",
   "execution_count": null,
   "id": "64c7a1f7",
   "metadata": {},
   "outputs": [],
   "source": [
    "# Preserve missing values using extra condition.\n",
    "raw.map(lambda v: v if v in top or v is None else \"other\")"
   ]
  },
  {
   "cell_type": "code",
   "execution_count": null,
   "id": "2c3a15d0",
   "metadata": {},
   "outputs": [],
   "source": []
  },
  {
   "cell_type": "markdown",
   "id": "e189d910",
   "metadata": {},
   "source": [
    "### Wrap up"
   ]
  },
  {
   "cell_type": "code",
   "execution_count": null,
   "id": "0e9d7e91",
   "metadata": {},
   "outputs": [],
   "source": [
    "# Combine into a single function.\n",
    "def recode(values, top=3, other=\"other\"):\n",
    "    \"\"\"Recode keeping only most common values.\"\"\"\n",
    "    top = values.value_counts().head(3).index\n",
    "    return values.map(lambda v: v if v in top or v is None else other)\n",
    "\n",
    "\n",
    "recode(raw)"
   ]
  },
  {
   "cell_type": "code",
   "execution_count": null,
   "id": "e700bd87",
   "metadata": {},
   "outputs": [],
   "source": [
    "# Combine into a single function.\n",
    "def recode(values, top=3, other=\"other\"):\n",
    "    \"\"\"Recode keeping only most common values.\"\"\"\n",
    "    top = values.value_counts().head(3).index\n",
    "    return (\n",
    "        values\n",
    "        .dropna()\n",
    "        .map(lambda v: v if v in top else other)\n",
    "        .reindex(values.index)\n",
    "    )\n",
    "\n",
    "\n",
    "recode(raw)"
   ]
  },
  {
   "cell_type": "code",
   "execution_count": null,
   "id": "a03b0483",
   "metadata": {},
   "outputs": [],
   "source": []
  }
 ],
 "metadata": {
  "kernelspec": {
   "display_name": "python-course",
   "language": "python",
   "name": "python3"
  },
  "language_info": {
   "codemirror_mode": {
    "name": "ipython",
    "version": 3
   },
   "file_extension": ".py",
   "mimetype": "text/x-python",
   "name": "python",
   "nbconvert_exporter": "python",
   "pygments_lexer": "ipython3",
   "version": "3.11.9"
  }
 },
 "nbformat": 4,
 "nbformat_minor": 5
}
