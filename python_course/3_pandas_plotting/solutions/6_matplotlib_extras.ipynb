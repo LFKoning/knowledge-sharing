{
 "cells": [
  {
   "cell_type": "markdown",
   "id": "865f38da",
   "metadata": {},
   "source": [
    "# Exercises 6: Solutions"
   ]
  },
  {
   "cell_type": "code",
   "execution_count": 1,
   "id": "b4778165",
   "metadata": {},
   "outputs": [],
   "source": [
    "import datetime as dt\n",
    "\n",
    "import pandas as pd\n",
    "\n",
    "import matplotlib\n",
    "import matplotlib.pyplot as plt"
   ]
  },
  {
   "cell_type": "code",
   "execution_count": null,
   "id": "89187f22",
   "metadata": {},
   "outputs": [],
   "source": [
    "transactions = pd.read_csv(\n",
    "    \"../../0_data/sales/transactions.csv\",\n",
    "    parse_dates=[\"transaction_date\"]\n",
    ")\n",
    "transactions.head(3)"
   ]
  },
  {
   "cell_type": "code",
   "execution_count": 3,
   "id": "6f0d2d5c",
   "metadata": {},
   "outputs": [],
   "source": [
    "# Set Seaborn style\n",
    "matplotlib.style.use(\"seaborn-v0_8\")"
   ]
  },
  {
   "cell_type": "markdown",
   "id": "715c715d",
   "metadata": {},
   "source": [
    "## Time Series Daily Revenue"
   ]
  },
  {
   "cell_type": "code",
   "execution_count": null,
   "id": "024bfd3a",
   "metadata": {},
   "outputs": [],
   "source": [
    "daily_revenue = (\n",
    "    transactions\n",
    "    .groupby(\"transaction_date\", as_index=False)\n",
    "    .agg({\"total\": \"sum\"})\n",
    ")\n",
    "daily_revenue.head(5)"
   ]
  },
  {
   "cell_type": "code",
   "execution_count": null,
   "id": "e76d91e9",
   "metadata": {
    "scrolled": false
   },
   "outputs": [],
   "source": [
    "fig = plt.figure(figsize=(10, 4))\n",
    "ax = fig.add_subplot(1, 1, 1)\n",
    "\n",
    "ax.plot(\n",
    "    daily_revenue[\"transaction_date\"],\n",
    "    daily_revenue[\"total\"],\n",
    "    marker=\".\",\n",
    ")\n",
    "\n",
    "# Set title and axis labels\n",
    "ax.set(\n",
    "    title=\"Daily Revenue\",\n",
    "    xlabel=\"Date\",\n",
    "    ylabel=\"Revenue\",\n",
    ")\n",
    "\n",
    "# Add annotations\n",
    "for d, r in zip(daily_revenue[\"transaction_date\"], daily_revenue[\"total\"]):\n",
    "    ax.annotate(\n",
    "        # Label and position\n",
    "        f\"{r:.0f}\",\n",
    "        (d, r),\n",
    "        # Alignment options\n",
    "        ha=\"center\",\n",
    "        va=\"baseline\",\n",
    "        # Move annotations up\n",
    "        textcoords=\"offset points\",\n",
    "        xytext=(0, 7),\n",
    "        # Smaller fontsize for readability\n",
    "        fontsize=8,\n",
    "    )\n",
    "\n",
    "\n",
    "\n",
    "None"
   ]
  },
  {
   "cell_type": "code",
   "execution_count": null,
   "id": "a1e0ad3b",
   "metadata": {},
   "outputs": [],
   "source": [
    "# Re-format X-axis labels\n",
    "labels = daily_revenue[\"transaction_date\"].map(\n",
    "    lambda d: dt.datetime.strftime(d, \"%d-%m-%Y\")\n",
    ")\n",
    "ax.set_xticks(\n",
    "    daily_revenue[\"transaction_date\"],\n",
    "    labels=labels,\n",
    "    rotation=90,\n",
    ")\n",
    "\n",
    "fig"
   ]
  },
  {
   "cell_type": "code",
   "execution_count": null,
   "id": "9b4a130b",
   "metadata": {},
   "outputs": [],
   "source": []
  }
 ],
 "metadata": {
  "kernelspec": {
   "display_name": "python-course",
   "language": "python",
   "name": "python3"
  },
  "language_info": {
   "codemirror_mode": {
    "name": "ipython",
    "version": 3
   },
   "file_extension": ".py",
   "mimetype": "text/x-python",
   "name": "python",
   "nbconvert_exporter": "python",
   "pygments_lexer": "ipython3",
   "version": "3.11.9"
  }
 },
 "nbformat": 4,
 "nbformat_minor": 5
}
