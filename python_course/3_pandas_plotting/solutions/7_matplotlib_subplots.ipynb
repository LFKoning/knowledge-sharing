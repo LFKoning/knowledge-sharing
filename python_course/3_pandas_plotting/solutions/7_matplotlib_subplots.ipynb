{
 "cells": [
  {
   "cell_type": "markdown",
   "id": "865f38da",
   "metadata": {},
   "source": [
    "# Exercises 7: Solutions"
   ]
  },
  {
   "cell_type": "code",
   "execution_count": null,
   "id": "b4778165",
   "metadata": {},
   "outputs": [],
   "source": [
    "import math\n",
    "\n",
    "import pandas as pd\n",
    "\n",
    "import matplotlib\n",
    "import matplotlib.pyplot as plt"
   ]
  },
  {
   "cell_type": "code",
   "execution_count": null,
   "id": "89187f22",
   "metadata": {},
   "outputs": [],
   "source": [
    "transactions = pd.read_csv(\"../../0_data/sales/transactions.csv\", parse_dates=[\"transaction_date\"])\n",
    "transactions.head(3)"
   ]
  },
  {
   "cell_type": "code",
   "execution_count": null,
   "id": "6f0d2d5c",
   "metadata": {},
   "outputs": [],
   "source": [
    "# Set ggplot style\n",
    "matplotlib.style.use(\"seaborn-v0_8\")"
   ]
  },
  {
   "cell_type": "code",
   "execution_count": null,
   "id": "a1e0ad3b",
   "metadata": {},
   "outputs": [],
   "source": [
    "transactions.dtypes\n",
    "transactions[\"transaction_id\"] = pd.Categorical(transactions[\"transaction_id\"])\n",
    "transactions.dtypes"
   ]
  },
  {
   "cell_type": "code",
   "execution_count": null,
   "id": "74263405",
   "metadata": {},
   "outputs": [],
   "source": []
  },
  {
   "cell_type": "code",
   "execution_count": null,
   "id": "252bfa2c",
   "metadata": {},
   "outputs": [],
   "source": [
    "def plot_dataframe(df, plot_cols=4, plot_size=5, topn=10):\n",
    "    numerical = df.select_dtypes(\"number\")\n",
    "    categorical = df.select_dtypes([\"object\", \"category\"])\n",
    "    \n",
    "    # Compute number of subplot rows\n",
    "    plot_rows = math.ceil((numerical.shape[1] + categorical.shape[1]) / plot_cols)\n",
    "    \n",
    "    # Create axes and set figure dimensions\n",
    "    fig = plt.figure(figsize=(plot_cols * plot_size, plot_rows * plot_size))\n",
    "    \n",
    "    # Create histogram for numerical columns\n",
    "    index = 0\n",
    "    for column in numerical.columns:\n",
    "        index += 1\n",
    "        ax = fig.add_subplot(plot_rows, plot_cols, index)\n",
    "        ax.hist(numerical[column], bins=50, edgecolor=\"white\")\n",
    "        ax.set_title(column)\n",
    "        \n",
    "        \n",
    "    # Create top N values for categorical columns\n",
    "    for column in categorical.columns:\n",
    "        counts = categorical[column].value_counts().head(topn)\n",
    "  \n",
    "        index += 1    \n",
    "        ax = fig.add_subplot(plot_rows, plot_cols, index)\n",
    "        ax.bar(counts.index, counts)\n",
    "        ax.tick_params(rotation=90)\n",
    "        ax.set_title(column)\n",
    "        \n",
    "    fig.tight_layout()"
   ]
  },
  {
   "cell_type": "code",
   "execution_count": null,
   "id": "310bece7",
   "metadata": {
    "scrolled": false
   },
   "outputs": [],
   "source": [
    "plot_dataframe(transactions)"
   ]
  },
  {
   "cell_type": "code",
   "execution_count": null,
   "id": "b09c7d6c",
   "metadata": {},
   "outputs": [],
   "source": []
  }
 ],
 "metadata": {
  "kernelspec": {
   "display_name": "Python 3 (ipykernel)",
   "language": "python",
   "name": "python3"
  },
  "language_info": {
   "codemirror_mode": {
    "name": "ipython",
    "version": 3
   },
   "file_extension": ".py",
   "mimetype": "text/x-python",
   "name": "python",
   "nbconvert_exporter": "python",
   "pygments_lexer": "ipython3",
   "version": "3.9.16"
  }
 },
 "nbformat": 4,
 "nbformat_minor": 5
}
