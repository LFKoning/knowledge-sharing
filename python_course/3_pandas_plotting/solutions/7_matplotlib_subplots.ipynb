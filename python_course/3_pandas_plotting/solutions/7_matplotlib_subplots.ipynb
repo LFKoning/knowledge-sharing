{
 "cells": [
  {
   "cell_type": "markdown",
   "id": "865f38da",
   "metadata": {},
   "source": [
    "# Exercises 7: Solutions"
   ]
  },
  {
   "cell_type": "code",
   "execution_count": 1,
   "id": "b4778165",
   "metadata": {},
   "outputs": [],
   "source": [
    "import math\n",
    "\n",
    "import pandas as pd\n",
    "\n",
    "import matplotlib\n",
    "import matplotlib.pyplot as plt"
   ]
  },
  {
   "cell_type": "code",
   "execution_count": null,
   "id": "89187f22",
   "metadata": {},
   "outputs": [],
   "source": [
    "transactions = pd.read_csv(\n",
    "    \"../../0_data/sales/transactions.csv\",\n",
    "    parse_dates=[\"transaction_date\"]\n",
    ")\n",
    "transactions.head(3)"
   ]
  },
  {
   "cell_type": "code",
   "execution_count": 3,
   "id": "6f0d2d5c",
   "metadata": {},
   "outputs": [],
   "source": [
    "# Set ggplot style\n",
    "matplotlib.style.use(\"seaborn-v0_8\")"
   ]
  },
  {
   "cell_type": "markdown",
   "id": "74263405",
   "metadata": {},
   "source": [
    "## Plot histograms"
   ]
  },
  {
   "cell_type": "code",
   "execution_count": null,
   "id": "ed93495c",
   "metadata": {},
   "outputs": [],
   "source": [
    "# Get numerical columns.\n",
    "numeric = transactions.select_dtypes(\"number\")\n",
    "numeric.columns"
   ]
  },
  {
   "cell_type": "code",
   "execution_count": null,
   "id": "623d7577",
   "metadata": {},
   "outputs": [],
   "source": [
    "# Create a new Figure\n",
    "fig = plt.figure(figsize=(12, 3))\n",
    "\n",
    "# Create histogram plots for numerical columns\n",
    "for idx, column in enumerate(numeric.columns, start=1):\n",
    "    ax = fig.add_subplot(1, 4, idx)\n",
    "    ax.hist(numeric[column], edgecolor=\"white\")\n",
    "    ax.set_title(column)"
   ]
  },
  {
   "cell_type": "markdown",
   "id": "afa09e6c",
   "metadata": {},
   "source": [
    "### GridSpec"
   ]
  },
  {
   "cell_type": "code",
   "execution_count": null,
   "id": "1e92b1b3",
   "metadata": {},
   "outputs": [],
   "source": [
    "# Maak Figure en GridSpec van 3 rijen en 4 kolommen.\n",
    "fig = plt.figure(figsize=(6, 6))\n",
    "grid = plt.GridSpec(3, 4)"
   ]
  },
  {
   "cell_type": "code",
   "execution_count": null,
   "id": "74845577",
   "metadata": {},
   "outputs": [],
   "source": [
    "# Create the big histogram.\n",
    "ax_big = fig.add_subplot(grid[0:3, 0:3])\n",
    "ax_big.hist(numeric[\"line_nr\"], edgecolor=\"white\")\n",
    "ax_big.set_title(\"line_nr\")"
   ]
  },
  {
   "cell_type": "code",
   "execution_count": 8,
   "id": "4416525d",
   "metadata": {},
   "outputs": [],
   "source": [
    "# Create the small histograms.\n",
    "for idx, column in enumerate((\"quantity\", \"price\", \"total\")):\n",
    "    ax = fig.add_subplot(grid[idx, 3])\n",
    "    ax.hist(numeric[column], edgecolor=\"white\")\n",
    "    ax.set_title(column)\n"
   ]
  },
  {
   "cell_type": "code",
   "execution_count": null,
   "id": "75457a16",
   "metadata": {},
   "outputs": [],
   "source": [
    "# Display the figure.\n",
    "fig.tight_layout()\n",
    "fig"
   ]
  },
  {
   "cell_type": "markdown",
   "id": "906d7d34",
   "metadata": {},
   "source": [
    "## Plot DataFrame"
   ]
  },
  {
   "cell_type": "code",
   "execution_count": 12,
   "id": "252bfa2c",
   "metadata": {},
   "outputs": [],
   "source": [
    "def plot_dataframe(df, plot_cols=4, plot_size=3, topn=10):\n",
    "    numerical = df.select_dtypes(\"number\")\n",
    "    categorical = df.select_dtypes([\"object\", \"category\"])\n",
    "\n",
    "    # Compute number of subplot rows\n",
    "    plot_rows = math.ceil((numerical.shape[1] + categorical.shape[1]) / plot_cols)\n",
    "\n",
    "    # Create axes and set figure dimensions\n",
    "    fig = plt.figure(figsize=(plot_cols * plot_size, plot_rows * plot_size))\n",
    "\n",
    "    # Create histogram for numerical columns\n",
    "    index = 0\n",
    "    for column in numerical.columns:\n",
    "        index += 1\n",
    "        ax = fig.add_subplot(plot_rows, plot_cols, index)\n",
    "        ax.hist(numerical[column], edgecolor=\"white\")\n",
    "        ax.set_title(column)\n",
    "\n",
    "\n",
    "    # Create top N values for categorical columns\n",
    "    for column in categorical.columns:\n",
    "        counts = categorical[column].value_counts().head(topn)\n",
    "\n",
    "        index += 1\n",
    "        ax = fig.add_subplot(plot_rows, plot_cols, index)\n",
    "        ax.bar(counts.index, counts)\n",
    "        ax.tick_params(rotation=90)\n",
    "        ax.set_title(column)\n",
    "\n",
    "    fig.tight_layout()"
   ]
  },
  {
   "cell_type": "code",
   "execution_count": null,
   "id": "310bece7",
   "metadata": {
    "scrolled": false
   },
   "outputs": [],
   "source": [
    "plot_dataframe(transactions)"
   ]
  },
  {
   "cell_type": "code",
   "execution_count": null,
   "id": "b09c7d6c",
   "metadata": {},
   "outputs": [],
   "source": []
  }
 ],
 "metadata": {
  "kernelspec": {
   "display_name": "python-course",
   "language": "python",
   "name": "python3"
  },
  "language_info": {
   "codemirror_mode": {
    "name": "ipython",
    "version": 3
   },
   "file_extension": ".py",
   "mimetype": "text/x-python",
   "name": "python",
   "nbconvert_exporter": "python",
   "pygments_lexer": "ipython3",
   "version": "3.11.9"
  }
 },
 "nbformat": 4,
 "nbformat_minor": 5
}
