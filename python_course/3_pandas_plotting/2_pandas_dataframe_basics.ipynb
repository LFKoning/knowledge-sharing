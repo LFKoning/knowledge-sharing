{
 "cells": [
  {
   "cell_type": "markdown",
   "id": "04b76955",
   "metadata": {},
   "source": [
    "# DataFrame: Basics"
   ]
  },
  {
   "cell_type": "code",
   "execution_count": 1,
   "id": "4ed91873",
   "metadata": {},
   "outputs": [],
   "source": [
    "import pandas as pd"
   ]
  },
  {
   "cell_type": "code",
   "execution_count": null,
   "id": "04703afd",
   "metadata": {},
   "outputs": [],
   "source": [
    "# DataFrame construction using a dict.\n",
    "pd.DataFrame(\n",
    "    {\n",
    "        \"col_int\":   [1, 2, 3, 4],\n",
    "        \"col_float\": [1.1, 2.2, 3.3, 4.4],\n",
    "        \"col_str\":   list(\"ABCD\"),\n",
    "    }\n",
    ")"
   ]
  },
  {
   "cell_type": "code",
   "execution_count": null,
   "id": "9fd2edeb",
   "metadata": {},
   "outputs": [],
   "source": [
    "# Or using a matrix and column descriptions.\n",
    "pd.DataFrame(\n",
    "    data=(\n",
    "        (1, 1.1, \"A\"),\n",
    "        (2, 2.2, \"B\"),\n",
    "        (3, 3.3, \"C\"),\n",
    "        (4, 4.4, \"D\"),\n",
    "    ),\n",
    "    columns=[\"col_int\", \"col_float\", \"col_str\"],\n",
    ")"
   ]
  },
  {
   "cell_type": "code",
   "execution_count": null,
   "id": "afd89876",
   "metadata": {},
   "outputs": [],
   "source": [
    "# Or just load data from file.\n",
    "df = pd.read_csv(\"../0_data/persons/personal_data.csv\")\n",
    "df"
   ]
  },
  {
   "cell_type": "code",
   "execution_count": null,
   "id": "659e0dde",
   "metadata": {},
   "outputs": [],
   "source": [
    "# Read CSV casts to suitable data types.\n",
    "df.dtypes"
   ]
  },
  {
   "cell_type": "markdown",
   "id": "4e2c8bab",
   "metadata": {},
   "source": [
    "## Descriptive Statistics"
   ]
  },
  {
   "cell_type": "code",
   "execution_count": null,
   "id": "5549b787",
   "metadata": {},
   "outputs": [],
   "source": [
    "# Create dummy data.\n",
    "df = pd.DataFrame(\n",
    "    {\n",
    "        \"col_int\": [1, 2, 3, 4],\n",
    "        \"col_float\": [1.1, 2.2, 3.3, 4.4],\n",
    "        \"col_str\": list(\"ABCD\"),\n",
    "    },\n",
    "    index=[\"alpha\", \"beta\", \"gamma\", \"delta\"]\n",
    ")\n",
    "df"
   ]
  },
  {
   "cell_type": "code",
   "execution_count": null,
   "id": "a12efed0",
   "metadata": {},
   "outputs": [],
   "source": [
    "# DataFrame dimensions: Tuple(nrows, ncolumns).\n",
    "# Also referred to as (axis0, axis1).\n",
    "df.shape"
   ]
  },
  {
   "cell_type": "code",
   "execution_count": null,
   "id": "11d5081c",
   "metadata": {},
   "outputs": [],
   "source": [
    "# Get column names using .columns attribute.\n",
    "# Note: returns an Index object.\n",
    "df.columns"
   ]
  },
  {
   "cell_type": "code",
   "execution_count": null,
   "id": "fb5fe748",
   "metadata": {},
   "outputs": [],
   "source": [
    "# Row index with row labels.\n",
    "# Note: defaults to RangeIndex.\n",
    "df.index"
   ]
  },
  {
   "cell_type": "code",
   "execution_count": null,
   "id": "72d1a967",
   "metadata": {},
   "outputs": [],
   "source": [
    "# Descriptives are available via .describe().\n",
    "# Note: Includes only numeric columns by default.\n",
    "df.describe()"
   ]
  },
  {
   "cell_type": "code",
   "execution_count": null,
   "id": "933918df",
   "metadata": {},
   "outputs": [],
   "source": [
    "# Specify data types using include parameter\n",
    "# Example options: \"number\", \"object\", \"category\".\n",
    "df.describe(include=[\"object\"])"
   ]
  },
  {
   "cell_type": "code",
   "execution_count": null,
   "id": "86a188b6",
   "metadata": {},
   "outputs": [],
   "source": [
    "# The info method provides technical details.\n",
    "df.info()"
   ]
  },
  {
   "cell_type": "code",
   "execution_count": null,
   "id": "31515cfc",
   "metadata": {},
   "outputs": [],
   "source": [
    "# Info omits object data from memory usage!\n",
    "# Use memory_usage=\"deep\" to get actual usage.\n",
    "df.info(memory_usage=\"deep\")"
   ]
  },
  {
   "cell_type": "code",
   "execution_count": null,
   "id": "4d34d84b",
   "metadata": {},
   "outputs": [],
   "source": []
  },
  {
   "cell_type": "markdown",
   "id": "e77e8bc4",
   "metadata": {},
   "source": [
    "## Selecting Data"
   ]
  },
  {
   "cell_type": "markdown",
   "id": "155223b1",
   "metadata": {},
   "source": [
    "### Sampling"
   ]
  },
  {
   "cell_type": "code",
   "execution_count": null,
   "id": "716ecb33",
   "metadata": {},
   "outputs": [],
   "source": [
    " # Top rows\n",
    "df.head()"
   ]
  },
  {
   "cell_type": "code",
   "execution_count": null,
   "id": "8953dc67",
   "metadata": {},
   "outputs": [],
   "source": [
    "# Bottom N rows\n",
    "df.tail(2)"
   ]
  },
  {
   "cell_type": "code",
   "execution_count": null,
   "id": "a1768ff4",
   "metadata": {},
   "outputs": [],
   "source": [
    "# Random sample N\n",
    "df.sample(2)"
   ]
  },
  {
   "cell_type": "code",
   "execution_count": null,
   "id": "951ac11c",
   "metadata": {},
   "outputs": [],
   "source": [
    "# Sample a fraction\n",
    "df.sample(frac=0.5)"
   ]
  },
  {
   "cell_type": "markdown",
   "id": "078eb8f2",
   "metadata": {},
   "source": [
    "### Selection Patterns"
   ]
  },
  {
   "cell_type": "code",
   "execution_count": null,
   "id": "a84161b3",
   "metadata": {},
   "outputs": [],
   "source": [
    "# String => Selects column as a Series.\n",
    "df[\"col_int\"]"
   ]
  },
  {
   "cell_type": "code",
   "execution_count": null,
   "id": "8f6ae51c",
   "metadata": {},
   "outputs": [],
   "source": [
    "# List => Returns DataFrame even for single column.\n",
    "df[[\"col_int\"]]"
   ]
  },
  {
   "cell_type": "code",
   "execution_count": null,
   "id": "b22c8e69",
   "metadata": {},
   "outputs": [],
   "source": [
    "# Select multiple columns.\n",
    "df[[\"col_float\", \"col_int\"]]"
   ]
  },
  {
   "cell_type": "code",
   "execution_count": null,
   "id": "919b663e",
   "metadata": {},
   "outputs": [],
   "source": [
    "# Slice => Select rows using a numeric range.\n",
    "# Note: Selection *excludes* row 2.\n",
    "df[0:2]"
   ]
  },
  {
   "cell_type": "code",
   "execution_count": null,
   "id": "fe70ce95",
   "metadata": {},
   "outputs": [],
   "source": [
    "# Slice => Select rows using index labels.\n",
    "# Note: Selection *includes* row gamma!\n",
    "df[\"alpha\":\"gamma\"]"
   ]
  },
  {
   "cell_type": "markdown",
   "id": "462ee14b",
   "metadata": {},
   "source": [
    "### Rows and Columns"
   ]
  },
  {
   "cell_type": "code",
   "execution_count": null,
   "id": "9efe48d1",
   "metadata": {},
   "outputs": [],
   "source": [
    "# Using two separate steps.\n",
    "# Selects rows first and then columns.\n",
    "df[\"alpha\":\"gamma\"][[\"col_int\", \"col_float\"]]"
   ]
  },
  {
   "cell_type": "code",
   "execution_count": null,
   "id": "aec1c11c",
   "metadata": {},
   "outputs": [],
   "source": [
    "# Simultaneous selection using .loc[].\n",
    "# Note: Uses labels for both rows and columns!\n",
    "df.loc[\"alpha\":\"gamma\", [\"col_int\", \"col_float\"]]"
   ]
  },
  {
   "cell_type": "code",
   "execution_count": null,
   "id": "0148d775",
   "metadata": {},
   "outputs": [],
   "source": [
    "# Use .iloc[] for positional selection.\n",
    "# Note: Rows and columns must be supplied as indices!\n",
    "df.iloc[0:3, [0, 1]]"
   ]
  },
  {
   "cell_type": "markdown",
   "id": "292aef7d",
   "metadata": {},
   "source": [
    "### Conditional Selection"
   ]
  },
  {
   "cell_type": "code",
   "execution_count": null,
   "id": "f4a36888",
   "metadata": {},
   "outputs": [],
   "source": [
    "# Select rows using boolean values.\n",
    "mask = [True, False, True, False]\n",
    "df[mask]"
   ]
  },
  {
   "cell_type": "code",
   "execution_count": null,
   "id": "3bb65b33",
   "metadata": {},
   "outputs": [],
   "source": [
    "# Logical operator creates Series of boolean values.\n",
    "df[\"col_int\"] < 3"
   ]
  },
  {
   "cell_type": "code",
   "execution_count": null,
   "id": "94808061",
   "metadata": {},
   "outputs": [],
   "source": [
    "# Use it to select DataFrame rows.\n",
    "df[df[\"col_int\"] < 3]"
   ]
  },
  {
   "cell_type": "code",
   "execution_count": null,
   "id": "62dd33fd",
   "metadata": {},
   "outputs": [],
   "source": [
    "# Or use the query method instead.\n",
    "df.query(\"col_int < 3\")"
   ]
  },
  {
   "cell_type": "code",
   "execution_count": null,
   "id": "0a419377",
   "metadata": {},
   "outputs": [],
   "source": [
    "# Combining multiple conditions is easy using query().\n",
    "df.query(\"col_int < 3 or col_str in ('A', 'D')\")"
   ]
  },
  {
   "cell_type": "code",
   "execution_count": null,
   "id": "ef4163dc",
   "metadata": {},
   "outputs": [],
   "source": []
  }
 ],
 "metadata": {
  "kernelspec": {
   "display_name": "python-course",
   "language": "python",
   "name": "python3"
  },
  "language_info": {
   "codemirror_mode": {
    "name": "ipython",
    "version": 3
   },
   "file_extension": ".py",
   "mimetype": "text/x-python",
   "name": "python",
   "nbconvert_exporter": "python",
   "pygments_lexer": "ipython3",
   "version": "3.11.9"
  }
 },
 "nbformat": 4,
 "nbformat_minor": 5
}
