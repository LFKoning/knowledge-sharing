{
 "cells": [
  {
   "cell_type": "markdown",
   "id": "865f38da",
   "metadata": {},
   "source": [
    "# Exercises 2"
   ]
  },
  {
   "cell_type": "code",
   "execution_count": null,
   "id": "b4778165",
   "metadata": {},
   "outputs": [],
   "source": [
    "import pandas as pd"
   ]
  },
  {
   "cell_type": "markdown",
   "id": "552a86a0",
   "metadata": {},
   "source": [
    "## Read  / Explore Transactions"
   ]
  },
  {
   "cell_type": "code",
   "execution_count": null,
   "id": "89187f22",
   "metadata": {},
   "outputs": [],
   "source": [
    "transactions = pd.read_csv(\"../../0_data/sales/transactions.csv\")"
   ]
  },
  {
   "cell_type": "code",
   "execution_count": null,
   "id": "6cf70a4c",
   "metadata": {},
   "outputs": [],
   "source": [
    "# Explore the data however you see fit..."
   ]
  },
  {
   "cell_type": "markdown",
   "id": "a0f2bbd9",
   "metadata": {},
   "source": [
    "## Top 15 revenue"
   ]
  },
  {
   "cell_type": "code",
   "execution_count": null,
   "id": "a250a2cf",
   "metadata": {},
   "outputs": [],
   "source": [
    "# Get the top 15 lines in terms of revenue."
   ]
  },
  {
   "cell_type": "code",
   "execution_count": null,
   "id": "7bb2d0bd",
   "metadata": {},
   "outputs": [],
   "source": []
  },
  {
   "cell_type": "markdown",
   "id": "bd80728c",
   "metadata": {},
   "source": [
    "## Line ID"
   ]
  },
  {
   "cell_type": "code",
   "execution_count": null,
   "id": "de601aca",
   "metadata": {},
   "outputs": [],
   "source": [
    "# Construct a unique line ID for each transaction line.\n",
    "# The line ID combines the transaction ID and line number columns."
   ]
  },
  {
   "cell_type": "code",
   "execution_count": null,
   "id": "2f7f33c3",
   "metadata": {},
   "outputs": [],
   "source": []
  }
 ],
 "metadata": {
  "kernelspec": {
   "display_name": "Python 3 (ipykernel)",
   "language": "python",
   "name": "python3"
  },
  "language_info": {
   "codemirror_mode": {
    "name": "ipython",
    "version": 3
   },
   "file_extension": ".py",
   "mimetype": "text/x-python",
   "name": "python",
   "nbconvert_exporter": "python",
   "pygments_lexer": "ipython3",
   "version": "3.9.18"
  }
 },
 "nbformat": 4,
 "nbformat_minor": 5
}
