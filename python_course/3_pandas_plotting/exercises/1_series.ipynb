{
 "cells": [
  {
   "cell_type": "markdown",
   "id": "865f38da",
   "metadata": {},
   "source": [
    "# Exercises 1"
   ]
  },
  {
   "cell_type": "code",
   "execution_count": null,
   "id": "2ef5bfdb",
   "metadata": {},
   "outputs": [],
   "source": [
    "import pandas as pd"
   ]
  },
  {
   "cell_type": "markdown",
   "id": "5ee04114",
   "metadata": {},
   "source": [
    "## Splitting multiple values"
   ]
  },
  {
   "cell_type": "code",
   "execution_count": null,
   "id": "b9e18fd1",
   "metadata": {},
   "outputs": [],
   "source": [
    "s = pd.Series([\"a,b,c\", \"d,e\"])"
   ]
  },
  {
   "cell_type": "code",
   "execution_count": null,
   "id": "22796333",
   "metadata": {},
   "outputs": [],
   "source": [
    "# Split the values on the comma.\n",
    "# What is the resulting data type?\n"
   ]
  },
  {
   "cell_type": "code",
   "execution_count": null,
   "id": "0501a34a",
   "metadata": {},
   "outputs": [],
   "source": [
    "# Use explode() on the result."
   ]
  },
  {
   "cell_type": "code",
   "execution_count": null,
   "id": "c011547c",
   "metadata": {},
   "outputs": [],
   "source": []
  },
  {
   "cell_type": "markdown",
   "id": "ba93305d",
   "metadata": {},
   "source": [
    "## Recode infrequent values"
   ]
  },
  {
   "cell_type": "code",
   "execution_count": null,
   "id": "943d3155",
   "metadata": {},
   "outputs": [],
   "source": [
    "# Create raw data values.\n",
    "values = pd.Series([\"A\", \"A\", \"A\", \"B\", \"B\", \"C\", \"C\",  \"D\", \"E\"])"
   ]
  },
  {
   "cell_type": "code",
   "execution_count": null,
   "id": "33047051",
   "metadata": {},
   "outputs": [],
   "source": [
    "# Keep the 3 most common values.\n",
    "# Recode the rest to \"other\"."
   ]
  },
  {
   "cell_type": "code",
   "execution_count": null,
   "id": "9feb1eca",
   "metadata": {},
   "outputs": [],
   "source": []
  }
 ],
 "metadata": {
  "kernelspec": {
   "display_name": "Python 3 (ipykernel)",
   "language": "python",
   "name": "python3"
  },
  "language_info": {
   "codemirror_mode": {
    "name": "ipython",
    "version": 3
   },
   "file_extension": ".py",
   "mimetype": "text/x-python",
   "name": "python",
   "nbconvert_exporter": "python",
   "pygments_lexer": "ipython3",
   "version": "3.9.18"
  }
 },
 "nbformat": 4,
 "nbformat_minor": 5
}
