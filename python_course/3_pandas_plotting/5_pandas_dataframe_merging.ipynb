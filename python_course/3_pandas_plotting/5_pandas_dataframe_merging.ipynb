{
 "cells": [
  {
   "cell_type": "markdown",
   "id": "04b76955",
   "metadata": {},
   "source": [
    "# DataFrame: Merging"
   ]
  },
  {
   "cell_type": "code",
   "execution_count": 1,
   "id": "4ed91873",
   "metadata": {},
   "outputs": [],
   "source": [
    "import pandas as pd"
   ]
  },
  {
   "cell_type": "markdown",
   "id": "74862f64",
   "metadata": {},
   "source": [
    "## pandas.concat()"
   ]
  },
  {
   "cell_type": "markdown",
   "id": "e4781350",
   "metadata": {},
   "source": [
    "- Use `pd.concat()` to concatenate 2 or more DataFrames.\n",
    "- `pd.concat()` matches indices / columns depending on axis."
   ]
  },
  {
   "cell_type": "code",
   "execution_count": null,
   "id": "b5d6bc55",
   "metadata": {},
   "outputs": [],
   "source": [
    "# Generate dummy data.\n",
    "df1 = pd.DataFrame(\n",
    "    {\n",
    "        \"col_1\": [1, 2, 3],\n",
    "        \"col_2\": [4, 5, 6],\n",
    "    },\n",
    "    index=[\"a\", \"b\", \"c\"],\n",
    ")\n",
    "df1"
   ]
  },
  {
   "cell_type": "code",
   "execution_count": null,
   "id": "8b69a16b",
   "metadata": {},
   "outputs": [],
   "source": [
    "# Another set of dummy data.\n",
    "# Note: Only partial overlap in index and columns!\n",
    "df2 = pd.DataFrame(\n",
    "    {\n",
    "        \"col_2\": [1, 2, 3],\n",
    "        \"col_3\": [4, 5, 6],\n",
    "    },\n",
    "    index=[\"b\", \"c\", \"d\"],\n",
    ")\n",
    "df2"
   ]
  },
  {
   "cell_type": "code",
   "execution_count": null,
   "id": "932be12b",
   "metadata": {
    "scrolled": true
   },
   "outputs": [],
   "source": [
    "# Concat based on axis = 0 / \"index\".\n",
    "# Similar to SQL UNION ALL.\n",
    "#\n",
    "# Note:\n",
    "# - Missing values for non-overlapping columns.\n",
    "# - Duplicate values in index.\n",
    "pd.concat(\n",
    "    [df1, df2],\n",
    "    axis=0,\n",
    ")"
   ]
  },
  {
   "cell_type": "code",
   "execution_count": null,
   "id": "e9c661f7",
   "metadata": {
    "scrolled": true
   },
   "outputs": [],
   "source": [
    "# Concat based on axis = 1 / \"columns\".\n",
    "#\n",
    "# Note:\n",
    "# - Matches row indices.\n",
    "# - Missing values for non-overlapping indices.\n",
    "# - Duplicate columns (col_2).\n",
    "pd.concat(\n",
    "    [df1, df2],\n",
    "    axis=1,\n",
    ")"
   ]
  },
  {
   "cell_type": "code",
   "execution_count": null,
   "id": "db45e053",
   "metadata": {},
   "outputs": [],
   "source": [
    "# Set join to \"inner\" to include only overlapping rows.\n",
    "pd.concat(\n",
    "    [df1, df2],\n",
    "    axis=1,\n",
    "    join=\"inner\",\n",
    ")"
   ]
  },
  {
   "cell_type": "code",
   "execution_count": null,
   "id": "72cf3f37",
   "metadata": {},
   "outputs": [],
   "source": []
  },
  {
   "cell_type": "markdown",
   "id": "c997c338",
   "metadata": {},
   "source": [
    "## DataFrame.join()"
   ]
  },
  {
   "cell_type": "markdown",
   "id": "251f4b40",
   "metadata": {},
   "source": [
    "- Use `join()` to merge 2 DataFrames.\n",
    "- `join()` uses the indices to join the records."
   ]
  },
  {
   "cell_type": "code",
   "execution_count": null,
   "id": "796303e1",
   "metadata": {
    "scrolled": false
   },
   "outputs": [],
   "source": [
    "# Joining df1 and df2 similar to concat.\n",
    "# Note: Error due to duplicate column (col_2)\n",
    "df1.join(df2)"
   ]
  },
  {
   "cell_type": "code",
   "execution_count": null,
   "id": "b2668fc5",
   "metadata": {},
   "outputs": [],
   "source": [
    "# Add a suffix to prevent the error.\n",
    "df1.join(df2, rsuffix=\"_right\")"
   ]
  },
  {
   "cell_type": "markdown",
   "id": "ef83dc79",
   "metadata": {},
   "source": [
    "### Join Types"
   ]
  },
  {
   "cell_type": "markdown",
   "id": "49b277a8",
   "metadata": {},
   "source": [
    "Available join types via `how` parameter:\n",
    "\n",
    "|Join|Result|\n",
    "|---|---|\n",
    "|`\"left\"`|Left DataFrame determines row set (default).|\n",
    "|`\"right\"`|Right DataFrame determines row set.|\n",
    "|`\"inner\"`|Only rows shared between both DataFrames.|\n",
    "|`\"outer\"`|All rows from both DataFrames.|\n",
    "|`\"cross\"`|Cartesian product of all rows.|\n",
    "\n",
    "Note: Similar to the SQL JOIN types."
   ]
  },
  {
   "cell_type": "code",
   "execution_count": null,
   "id": "bcbfb6d9",
   "metadata": {},
   "outputs": [],
   "source": [
    "# Example of a left join.\n",
    "# Note: Index of df1 determines row selection.\n",
    "df1.join(df2, rsuffix=\"_right\", how=\"left\")"
   ]
  },
  {
   "cell_type": "code",
   "execution_count": null,
   "id": "979f0b03",
   "metadata": {},
   "outputs": [],
   "source": [
    "# Example of a outer join.\n",
    "# Note: Both df1 and df2 determine row selection.\n",
    "df1.join(df2, rsuffix=\"_right\", how=\"outer\")"
   ]
  },
  {
   "cell_type": "code",
   "execution_count": null,
   "id": "6c3f55bd",
   "metadata": {},
   "outputs": [],
   "source": [
    "# Example of a cross join.\n",
    "# Note: All possible combinations, new index.\n",
    "# Note: No missing values, data type is int.\n",
    "df1.join(df2, rsuffix=\"_right\", how=\"cross\")"
   ]
  },
  {
   "cell_type": "markdown",
   "id": "7e480efc",
   "metadata": {},
   "source": [
    "## DataFrame.merge()"
   ]
  },
  {
   "cell_type": "markdown",
   "id": "74e82bdd",
   "metadata": {},
   "source": [
    "- The `merge()` method is similar to `join()`, but provides more options.\n",
    "- Use `merge()` unless you are using indices."
   ]
  },
  {
   "cell_type": "code",
   "execution_count": null,
   "id": "348ed326",
   "metadata": {},
   "outputs": [],
   "source": [
    "# Generate dummy data.\n",
    "left = pd.DataFrame({\n",
    "    \"name\": [\"Henk\", \"Ingrid\", \"Henk\"],\n",
    "    \"city\": [\"Amsterdam\", \"Amsterdam\", \"Rotterdam\"],\n",
    "    \"age\": [24, 56, 33],\n",
    "})\n",
    "left"
   ]
  },
  {
   "cell_type": "code",
   "execution_count": null,
   "id": "d5249dd0",
   "metadata": {},
   "outputs": [],
   "source": [
    "# Another set of dummy data.\n",
    "right = pd.DataFrame({\n",
    "    \"name\": [\"Henk\", \"Ingrid\", \"Henk\", \"Sanne\"],\n",
    "    \"city\": [\"Amsterdam\", \"Amsterdam\", \"Rotterdam\", \"Rotterdam\"],\n",
    "    \"score\": [4, 5, 6, 7],\n",
    "})\n",
    "right"
   ]
  },
  {
   "cell_type": "code",
   "execution_count": null,
   "id": "e4e0270b",
   "metadata": {},
   "outputs": [],
   "source": [
    "# Merge using a shared column.\n",
    "#\n",
    "# Note:\n",
    "# - Duplicate rows for duplicate names (\"Henk\").\n",
    "# - Automatically adds suffixes _x and _y where needed.\n",
    "left.merge(right, on=\"name\", how=\"left\")"
   ]
  },
  {
   "cell_type": "code",
   "execution_count": null,
   "id": "7d74d136",
   "metadata": {},
   "outputs": [],
   "source": [
    "# Merge using multiple columns (name + city)\n",
    "# Note: Eliminates duplicate rows / columns.\n",
    "left.merge(right, on=[\"name\", \"city\"], how=\"left\")"
   ]
  },
  {
   "cell_type": "code",
   "execution_count": null,
   "id": "0cb36ffc",
   "metadata": {},
   "outputs": [],
   "source": [
    "# Optional: Use validate parameter to check merge.\n",
    "# Valid options are \"1:1\", \"1:m\", \"m:1\" and \"m:m\".\n",
    "left.merge(right, on=[\"name\", \"city\"], validate=\"1:1\")"
   ]
  },
  {
   "cell_type": "code",
   "execution_count": null,
   "id": "1d8aed10",
   "metadata": {},
   "outputs": [],
   "source": []
  }
 ],
 "metadata": {
  "kernelspec": {
   "display_name": "python-course",
   "language": "python",
   "name": "python3"
  },
  "language_info": {
   "codemirror_mode": {
    "name": "ipython",
    "version": 3
   },
   "file_extension": ".py",
   "mimetype": "text/x-python",
   "name": "python",
   "nbconvert_exporter": "python",
   "pygments_lexer": "ipython3",
   "version": "3.11.9"
  }
 },
 "nbformat": 4,
 "nbformat_minor": 5
}
