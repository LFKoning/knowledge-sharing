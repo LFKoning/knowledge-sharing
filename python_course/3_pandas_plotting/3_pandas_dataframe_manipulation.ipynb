{
 "cells": [
  {
   "cell_type": "markdown",
   "id": "04b76955",
   "metadata": {},
   "source": [
    "# DataFrame: Manipulation"
   ]
  },
  {
   "cell_type": "code",
   "execution_count": 1,
   "id": "4ed91873",
   "metadata": {},
   "outputs": [],
   "source": [
    "import pandas as pd"
   ]
  },
  {
   "cell_type": "code",
   "execution_count": null,
   "id": "8f3cf87e",
   "metadata": {},
   "outputs": [],
   "source": [
    "def generate_data():\n",
    "    \"\"\"Return some dummy data.\"\"\"\n",
    "    return pd.DataFrame({\n",
    "        \"id\": [\"a\", \"b\", \"c\", \"d\"],\n",
    "        \"score\": [4, 6, 9, 8],\n",
    "    })\n",
    "\n",
    "scores = generate_data()\n",
    "scores"
   ]
  },
  {
   "cell_type": "markdown",
   "id": "dafe06f6",
   "metadata": {},
   "source": [
    "## Creating New Columns"
   ]
  },
  {
   "cell_type": "code",
   "execution_count": null,
   "id": "ceba7cf3",
   "metadata": {},
   "outputs": [],
   "source": [
    "# Assign in-place using brackets [...].\n",
    "# Note: Changes the original DataFrame!\n",
    "scores[\"passed\"] = scores[\"score\"] > 5.5\n",
    "scores"
   ]
  },
  {
   "cell_type": "code",
   "execution_count": null,
   "id": "7d512342",
   "metadata": {},
   "outputs": [],
   "source": [
    "# Using assign() creates a copy.\n",
    "scores.assign(\n",
    "    label=scores[\"passed\"].replace({True: \"Passed\", False: \"Failed\"})\n",
    ")"
   ]
  },
  {
   "cell_type": "code",
   "execution_count": null,
   "id": "8fd1189a",
   "metadata": {},
   "outputs": [],
   "source": [
    "# Original data has not changed!\n",
    "scores"
   ]
  },
  {
   "cell_type": "code",
   "execution_count": 7,
   "id": "a97b6ef9",
   "metadata": {},
   "outputs": [],
   "source": [
    "# Reset the data\n",
    "scores = generate_data()"
   ]
  },
  {
   "cell_type": "code",
   "execution_count": null,
   "id": "4697639a",
   "metadata": {},
   "outputs": [],
   "source": [
    "# Performing multiple assignments.\n",
    "(\n",
    "    scores\n",
    "    .assign(\n",
    "\n",
    "        # Assign to existing or new column.\n",
    "        id=scores[\"id\"].str.upper(),\n",
    "        passed=scores[\"score\"] > 5.5,\n",
    "\n",
    "        # Compute label using \"passed\" column.\n",
    "        # Note: Column \"passed\" is NOT in the original DataFrame!\n",
    "        label=lambda df: df[\"passed\"].replace({True: \"Passed\", False: \"Failed\"}),\n",
    "\n",
    "    )\n",
    ")"
   ]
  },
  {
   "cell_type": "markdown",
   "id": "ffd422c6",
   "metadata": {},
   "source": [
    "## More assign"
   ]
  },
  {
   "cell_type": "code",
   "execution_count": null,
   "id": "cdb3b99e",
   "metadata": {},
   "outputs": [],
   "source": [
    "df = pd.DataFrame({\"x\": [1, 2, 3], \"y\": [4, 5, 6]})\n",
    "df"
   ]
  },
  {
   "cell_type": "code",
   "execution_count": 9,
   "id": "561fe8f0",
   "metadata": {},
   "outputs": [],
   "source": [
    "values = {\"A\": 1, \"B\": 2, \"C\": 3}"
   ]
  },
  {
   "cell_type": "code",
   "execution_count": null,
   "id": "713f966e",
   "metadata": {},
   "outputs": [],
   "source": [
    "def show_me(A, B, C):\n",
    "    print(A, B, C)\n",
    "\n",
    "# Use ** to unpack the dict into argument=value pairs.\n",
    "show_me(**values)"
   ]
  },
  {
   "cell_type": "code",
   "execution_count": null,
   "id": "37e33580",
   "metadata": {},
   "outputs": [],
   "source": [
    "df.assign(**values)"
   ]
  },
  {
   "cell_type": "code",
   "execution_count": null,
   "id": "9399668a",
   "metadata": {},
   "outputs": [],
   "source": [
    "# Create a dict with assignment statements.\n",
    "polynomials = {}\n",
    "for column in df.columns:\n",
    "    for power in (2, 3, 4):\n",
    "        polynomials[f\"{column}_{power}\"] = df[column] ** power\n",
    "\n",
    "# Assign all at once.\n",
    "df.assign(**polynomials)"
   ]
  },
  {
   "cell_type": "code",
   "execution_count": null,
   "id": "5aa5577b",
   "metadata": {},
   "outputs": [],
   "source": [
    "# Create a dict with assignment statements.\n",
    "polynomials = {}\n",
    "for column in df.columns:\n",
    "    for power in (2, 3, 4):\n",
    "        # Using a lambda function...\n",
    "        polynomials[f\"{column}_{power}\"] = lambda df: df[column] ** power\n",
    "\n",
    "# Uhoh, that does not look good...\n",
    "df.assign(**polynomials)"
   ]
  },
  {
   "cell_type": "code",
   "execution_count": null,
   "id": "5b42a370",
   "metadata": {},
   "outputs": [],
   "source": [
    "# Create a dict with assignment statements.\n",
    "polynomials = {}\n",
    "for column in df.columns:\n",
    "    for power in (2, 3, 4):\n",
    "        # Privide defaults for the additional arguments.\n",
    "        polynomials[f\"{column}_{power}\"] = lambda df, c=column, p=power: df[c] ** p\n",
    "\n",
    "# Much better!\n",
    "df.assign(**polynomials)"
   ]
  },
  {
   "cell_type": "markdown",
   "id": "b3dfa82f",
   "metadata": {},
   "source": [
    "## Applying Functions"
   ]
  },
  {
   "cell_type": "code",
   "execution_count": null,
   "id": "782a3449",
   "metadata": {},
   "outputs": [],
   "source": [
    "df = pd.DataFrame({\n",
    "    \"name\": [\"john\", \"JANE\", \"Jack\"],\n",
    "    \"lastname\": [\"doe\", \"DOE\", \"DOE\"],\n",
    "})\n",
    "df"
   ]
  },
  {
   "cell_type": "code",
   "execution_count": null,
   "id": "c8430898",
   "metadata": {},
   "outputs": [],
   "source": [
    "# Can use map to apply a function to all DataFrame cells.\n",
    "df[[\"name\", \"lastname\"]].map(lambda v: v.upper())"
   ]
  },
  {
   "cell_type": "code",
   "execution_count": null,
   "id": "c084a188",
   "metadata": {},
   "outputs": [],
   "source": [
    "# Using functions on columns is identical to Series.\n",
    "df[\"name\"].map(str.capitalize)"
   ]
  },
  {
   "cell_type": "code",
   "execution_count": null,
   "id": "5f9ac547",
   "metadata": {},
   "outputs": [],
   "source": [
    "# Use apply() to apply a function to a row.\n",
    "# Note: Use axis=1 to get rows.\n",
    "_ = df.apply(\n",
    "    lambda row: print(\" \".join(row)),\n",
    "    axis=1\n",
    ")"
   ]
  },
  {
   "cell_type": "code",
   "execution_count": 56,
   "id": "71469e49",
   "metadata": {},
   "outputs": [],
   "source": [
    "def make_fullname(person, case):\n",
    "    \"\"\"Generate full name for a person.\"\"\"\n",
    "    fullname = person[\"name\"] + \" \" + person[\"lastname\"]\n",
    "\n",
    "    if case == \"capitalize\":\n",
    "        return fullname.capitalize()\n",
    "    if case == \"lower\":\n",
    "        return fullname.lower()\n",
    "    return fullname()\n"
   ]
  },
  {
   "cell_type": "code",
   "execution_count": null,
   "id": "1155b9b7",
   "metadata": {},
   "outputs": [],
   "source": [
    "# Function arguments can be provided through apply().\n",
    "df.apply(\n",
    "    make_fullname,\n",
    "    axis=1,\n",
    "\n",
    "    # Arguments for make_fullname\n",
    "    case=\"capitalize\",\n",
    ")"
   ]
  },
  {
   "cell_type": "code",
   "execution_count": null,
   "id": "47e7ad98",
   "metadata": {},
   "outputs": [],
   "source": []
  },
  {
   "cell_type": "markdown",
   "id": "92a2e10f",
   "metadata": {},
   "source": [
    "### Method Chaining"
   ]
  },
  {
   "cell_type": "code",
   "execution_count": null,
   "id": "f8fa5094",
   "metadata": {},
   "outputs": [],
   "source": [
    "df"
   ]
  },
  {
   "cell_type": "code",
   "execution_count": null,
   "id": "0574424c",
   "metadata": {},
   "outputs": [],
   "source": [
    "# Method chaining can produce cleaner code!\n",
    "(\n",
    "    df\n",
    "    .assign(\n",
    "        name=df[\"name\"].str.capitalize(),\n",
    "        lastname=df[\"lastname\"].str.capitalize(),\n",
    "        full_name=lambda df: df[\"name\"] + \" \" + df[\"lastname\"],\n",
    "    )\n",
    "    .sort_values([\"lastname\", \"name\"])\n",
    "    .reset_index(drop=True)\n",
    ")"
   ]
  },
  {
   "cell_type": "code",
   "execution_count": null,
   "id": "80192b65",
   "metadata": {},
   "outputs": [],
   "source": []
  }
 ],
 "metadata": {
  "kernelspec": {
   "display_name": "python-course",
   "language": "python",
   "name": "python3"
  },
  "language_info": {
   "codemirror_mode": {
    "name": "ipython",
    "version": 3
   },
   "file_extension": ".py",
   "mimetype": "text/x-python",
   "name": "python",
   "nbconvert_exporter": "python",
   "pygments_lexer": "ipython3",
   "version": "3.11.9"
  }
 },
 "nbformat": 4,
 "nbformat_minor": 5
}
