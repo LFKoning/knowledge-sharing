{
 "cells": [
  {
   "cell_type": "markdown",
   "metadata": {},
   "source": [
    "# Solutions IV: SpaCy Named Entity Recognition"
   ]
  },
  {
   "cell_type": "code",
   "execution_count": 1,
   "metadata": {},
   "outputs": [],
   "source": [
    "import spacy\n",
    "import pandas as pd"
   ]
  },
  {
   "cell_type": "code",
   "execution_count": null,
   "metadata": {},
   "outputs": [],
   "source": [
    "# Load a small sample of the IMDB reviews.\n",
    "reviews = pd.read_csv(\"../../0_data/imdb/imdb_reviews_small.csv\", compression=\"zip\")\n",
    "reviews = reviews.sample(1000)\n",
    "reviews.head()"
   ]
  },
  {
   "cell_type": "code",
   "execution_count": 3,
   "metadata": {},
   "outputs": [],
   "source": [
    "# Load language model.\n",
    "nlp = spacy.load(\"en_core_web_md\")"
   ]
  },
  {
   "cell_type": "code",
   "execution_count": null,
   "metadata": {},
   "outputs": [],
   "source": [
    "# Check components in the spaCy pipeline.\n",
    "nlp.component_names"
   ]
  },
  {
   "cell_type": "code",
   "execution_count": 5,
   "metadata": {},
   "outputs": [],
   "source": [
    "# Use SpaCy pipeline to get Doc objects.\n",
    "docs = list(\n",
    "    nlp.pipe(\n",
    "        # Text for the reviews.\n",
    "        reviews[\"content\"],\n",
    "\n",
    "        # Enable parallel processing.\n",
    "        n_process=3,\n",
    "\n",
    "        # Disable all components we do not need.\n",
    "        disable=[\n",
    "            'tok2vec',\n",
    "            'tagger',\n",
    "            'parser',\n",
    "            'senter',\n",
    "            'attribute_ruler',\n",
    "            'lemmatizer',\n",
    "        ]\n",
    "    )\n",
    ")"
   ]
  },
  {
   "cell_type": "code",
   "execution_count": 6,
   "metadata": {},
   "outputs": [],
   "source": [
    "def find_persons(doc):\n",
    "    \"\"\"Find PERSON entities in a SpaCy document.\"\"\"\n",
    "    entities = []\n",
    "    for entity in doc.ents:\n",
    "        if entity.label_ == \"PERSON\":\n",
    "            # Use entity text and strip possesive 's.\n",
    "            entities.append(entity.text.strip(\"'s\"))\n",
    "\n",
    "    return entities"
   ]
  },
  {
   "cell_type": "code",
   "execution_count": null,
   "metadata": {},
   "outputs": [],
   "source": [
    "# Find actors using the find_persons function.\n",
    "actors = [find_persons(doc) for doc in docs]\n",
    "actors[0:5]"
   ]
  },
  {
   "cell_type": "code",
   "execution_count": null,
   "metadata": {},
   "outputs": [],
   "source": [
    "# Combine actors and ratings\n",
    "df_actors = pd.DataFrame({\n",
    "    \"rating\": reviews[\"rating\"],\n",
    "    \"actor\": actors,\n",
    "})\n",
    "df_actors"
   ]
  },
  {
   "cell_type": "code",
   "execution_count": null,
   "metadata": {},
   "outputs": [],
   "source": [
    "# Create one row per actor, drop duplicates.\n",
    "# Duplicate: actor was mentioned multiple times in the same review.\n",
    "df_actors = (\n",
    "    df_actors\n",
    "    .explode(column=\"actor\")\n",
    "    .drop_duplicates()\n",
    "    .loc[lambda df: df[\"actor\"].notna()]\n",
    ")\n",
    "df_actors.head()"
   ]
  },
  {
   "cell_type": "code",
   "execution_count": null,
   "metadata": {},
   "outputs": [],
   "source": [
    "# Best ranking actors (based on at least 3 reviews).\n",
    "(\n",
    "    df_actors\n",
    "    .groupby(\"actor\", as_index=False)\n",
    "    .agg(\n",
    "        rating=(\"rating\", \"mean\"),\n",
    "        count=(\"rating\", \"size\"),\n",
    "    )\n",
    "    .sort_values(\"rating\", ascending=False)\n",
    "    .query(\"count > 2\")\n",
    "    .head(30)\n",
    ")"
   ]
  },
  {
   "cell_type": "code",
   "execution_count": null,
   "metadata": {},
   "outputs": [],
   "source": []
  }
 ],
 "metadata": {
  "kernelspec": {
   "display_name": "python-course",
   "language": "python",
   "name": "python3"
  },
  "language_info": {
   "codemirror_mode": {
    "name": "ipython",
    "version": 3
   },
   "file_extension": ".py",
   "mimetype": "text/x-python",
   "name": "python",
   "nbconvert_exporter": "python",
   "pygments_lexer": "ipython3",
   "version": "3.11.9"
  }
 },
 "nbformat": 4,
 "nbformat_minor": 2
}
