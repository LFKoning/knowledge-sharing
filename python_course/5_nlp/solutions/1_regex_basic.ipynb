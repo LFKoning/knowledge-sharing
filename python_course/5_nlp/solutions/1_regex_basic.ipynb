{
 "cells": [
  {
   "cell_type": "markdown",
   "metadata": {},
   "source": [
    "# Solutions 1: Regex"
   ]
  },
  {
   "cell_type": "code",
   "execution_count": 1,
   "metadata": {},
   "outputs": [],
   "source": [
    "import re"
   ]
  },
  {
   "cell_type": "markdown",
   "metadata": {},
   "source": [
    "### Finding numbers"
   ]
  },
  {
   "cell_type": "markdown",
   "metadata": {},
   "source": [
    "Write a regex to find numbers in a text:\n",
    "\n",
    "- Decimal separator can be `.` or `,`, examples: `1`, `2.3` of `4,5`.\n",
    "- Thousands separator can be `.` or `,`, examples: `1.000` or `1,234.56`."
   ]
  },
  {
   "cell_type": "code",
   "execution_count": null,
   "metadata": {},
   "outputs": [],
   "source": [
    "# Very simple form.\n",
    "pattern = r\"[0-9\\.,]+\"\n",
    "re.search(pattern, \"The costs were 2,345.67 euro.\")"
   ]
  },
  {
   "cell_type": "code",
   "execution_count": null,
   "metadata": {},
   "outputs": [],
   "source": [
    "# Does grab the final dot too...\n",
    "re.search(pattern, \"The year is now 2023.\")"
   ]
  },
  {
   "cell_type": "code",
   "execution_count": null,
   "metadata": {},
   "outputs": [],
   "source": [
    "# Bit more precise.\n",
    "pattern = r\"\"\"\n",
    "(\n",
    "    ([0-9]*[\\.,])*     # Capture 1 or more groups of digits and separators.\n",
    "    [0-9]+             # Capture one final set of digits.\n",
    ")\n",
    "\"\"\"\n",
    "re.search(pattern, \"The year is now 2023.\", re.X)"
   ]
  },
  {
   "cell_type": "code",
   "execution_count": null,
   "metadata": {},
   "outputs": [],
   "source": [
    "# Also captures numbers correctly.\n",
    "re.search(pattern, \"The costs were 2,345.67 euro.\", re.X)"
   ]
  },
  {
   "cell_type": "code",
   "execution_count": null,
   "metadata": {},
   "outputs": [],
   "source": [
    "# But captures IP addresses too...\n",
    "re.search(pattern, \"Localhost has IP address 127.0.0.1\", re.X)"
   ]
  },
  {
   "cell_type": "code",
   "execution_count": null,
   "metadata": {},
   "outputs": [],
   "source": []
  },
  {
   "cell_type": "markdown",
   "metadata": {},
   "source": [
    "### Finding dates"
   ]
  },
  {
   "cell_type": "markdown",
   "metadata": {},
   "source": [
    "Write a regex to find dates in a text:\n",
    "\n",
    "- Assume date format DD-MM-YYYY\n",
    "- Optional `0` before day or month allowed."
   ]
  },
  {
   "cell_type": "code",
   "execution_count": null,
   "metadata": {},
   "outputs": [],
   "source": [
    "# Somewhat naive approach...\n",
    "pattern = r\"\\d{1,2}-\\d{1,2}-\\d{4}\"\n",
    "re.search(pattern, \"31-1-2023\")"
   ]
  },
  {
   "cell_type": "code",
   "execution_count": null,
   "metadata": {},
   "outputs": [],
   "source": [
    "# Woops...\n",
    "re.search(pattern, \"33-22-1111\")"
   ]
  },
  {
   "cell_type": "code",
   "execution_count": 9,
   "metadata": {},
   "outputs": [],
   "source": [
    "# More accurate pattern.\n",
    "pattern = r\"\"\"(\n",
    "    ( 0?[1-9] | [12][0-9] | 3[01] ) -    # Day:   01-09 | 10 - 29 | 30 - 31\n",
    "    ( 0?[1-9] | 1[012] ) -               # Month: 01-09 | 10 - 12\n",
    "    \\d{4}                                # Year\n",
    ")\"\"\""
   ]
  },
  {
   "cell_type": "code",
   "execution_count": null,
   "metadata": {},
   "outputs": [],
   "source": [
    "# Works on correct dates.\n",
    "re.search(pattern, \"31-1-2023\", re.X)"
   ]
  },
  {
   "cell_type": "code",
   "execution_count": 11,
   "metadata": {},
   "outputs": [],
   "source": [
    "# No match on bad dates.\n",
    "re.search(pattern, \"33-22-1111\", re.X)"
   ]
  },
  {
   "cell_type": "code",
   "execution_count": null,
   "metadata": {},
   "outputs": [],
   "source": [
    "# Can still match partially...\n",
    "re.search(pattern, \"33-11-1111\", re.X)"
   ]
  },
  {
   "cell_type": "code",
   "execution_count": null,
   "metadata": {},
   "outputs": [],
   "source": []
  }
 ],
 "metadata": {
  "kernelspec": {
   "display_name": "python-course",
   "language": "python",
   "name": "python3"
  },
  "language_info": {
   "codemirror_mode": {
    "name": "ipython",
    "version": 3
   },
   "file_extension": ".py",
   "mimetype": "text/x-python",
   "name": "python",
   "nbconvert_exporter": "python",
   "pygments_lexer": "ipython3",
   "version": "3.11.9"
  },
  "orig_nbformat": 4
 },
 "nbformat": 4,
 "nbformat_minor": 2
}
