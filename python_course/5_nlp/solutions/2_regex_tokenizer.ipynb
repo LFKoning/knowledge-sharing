{
 "cells": [
  {
   "cell_type": "markdown",
   "metadata": {},
   "source": [
    "# Solutions II: Regex Tokenizer"
   ]
  },
  {
   "cell_type": "code",
   "execution_count": 1,
   "metadata": {},
   "outputs": [],
   "source": [
    "import re"
   ]
  },
  {
   "cell_type": "markdown",
   "metadata": {},
   "source": [
    "### Regex entity recognition"
   ]
  },
  {
   "cell_type": "markdown",
   "metadata": {},
   "source": [
    "Write a regex to find entities:\n",
    "\n",
    "- Any word that is all capitals, for example `ECB`.\n",
    "- Any set of words that start with a capital, for example `European Central Bank`."
   ]
  },
  {
   "cell_type": "code",
   "execution_count": null,
   "metadata": {},
   "outputs": [],
   "source": [
    "# Regex to find entities.\n",
    "pattern = r\"\"\"\n",
    "    (\n",
    "        (?<!^)              # Not at the start of the text.\n",
    "        (?:[A-Z]\\w+\\s)*     # Words starting with a capital, separated by whitespace.\n",
    "        (?:[A-Z]+\\w+)       # Final word with one ore more capitals.\n",
    "    )\n",
    "\"\"\"\n",
    "\n",
    "# Find entity in the example.\n",
    "re.search(pattern, \"The European Central Bank increased its main interest rate.\", re.X)"
   ]
  },
  {
   "cell_type": "code",
   "execution_count": null,
   "metadata": {},
   "outputs": [],
   "source": [
    "# Abbreviation using only capitals.\n",
    "re.search(pattern, \"The ECB increased its main interest rate.\", re.X)"
   ]
  },
  {
   "cell_type": "code",
   "execution_count": null,
   "metadata": {},
   "outputs": [],
   "source": [
    "# Abbreviation as part of a name.\n",
    "re.search(pattern, \"The ING Group increased its main interest rate.\", re.X)"
   ]
  },
  {
   "cell_type": "code",
   "execution_count": null,
   "metadata": {},
   "outputs": [],
   "source": []
  },
  {
   "cell_type": "markdown",
   "metadata": {},
   "source": [
    "### Regex tokenizer"
   ]
  },
  {
   "cell_type": "code",
   "execution_count": 5,
   "metadata": {},
   "outputs": [],
   "source": [
    "# Define regex patterns for tokens.\n",
    "TOKEN_PATTERNS = {\n",
    "    # Fill in entity pattern here.\n",
    "    \"ENTITY\":     r\"(?<!^)((?:[A-Z]\\w+\\s)*(?:[A-Z]+\\w+))\",\n",
    "\n",
    "    # Fill in the date pattern here.\n",
    "    \"DATE\":       r\"((0?[1-9]|[12][0-9]|3[01])-(0?[1-9]|1[012])-\\d{4})\",\n",
    "\n",
    "    # Fill in the number pattern here.\n",
    "    \"NUMBER\":     r\"(([0-9]*[\\.,])*[0-9]+)\",\n",
    "\n",
    "    # General patterns.\n",
    "    \"PUNCT\":      r\"([?!,.:;\\\"'{}()%&#$*+-/\\\\<=>@_`|~[\\]])\",\n",
    "    \"WORD\":       r\"(\\w+)\",\n",
    "    \"WHITESPACE\": r\"(\\s+)\",\n",
    "\n",
    "    # Catch all pattern.\n",
    "    \"UNKNOWN\":    r\"(.)\",\n",
    "}\n",
    "\n",
    "\n",
    "def tokenizer(text):\n",
    "    \"\"\"Tokenize the provided string.\"\"\"\n",
    "    position = 0\n",
    "    tokens = []\n",
    "\n",
    "    # Walk over text.\n",
    "    while position < len(text):\n",
    "\n",
    "        # Detect token patterns.\n",
    "        for name, pattern in TOKEN_PATTERNS.items():\n",
    "\n",
    "            # Compile pattern to enable position parameter.\n",
    "            pattern = re.compile(pattern)\n",
    "\n",
    "            # Check for a match.\n",
    "            if m:= pattern.match(text, pos=position):\n",
    "                token = m.group(1)\n",
    "                tokens.append((token, name))\n",
    "\n",
    "                # Update position with token length.\n",
    "                position += len(token)\n",
    "                break\n",
    "\n",
    "    return tokens\n"
   ]
  },
  {
   "cell_type": "code",
   "execution_count": null,
   "metadata": {},
   "outputs": [],
   "source": [
    "# Apply to an example.\n",
    "tokenizer(\"The European Central Bank increased its interest rate by 0.25% to a total of 4%.\")"
   ]
  },
  {
   "cell_type": "code",
   "execution_count": null,
   "metadata": {},
   "outputs": [],
   "source": [
    "# And another.\n",
    "tokenizer(\"This example was created on 5-10-2023.\")"
   ]
  },
  {
   "cell_type": "code",
   "execution_count": null,
   "metadata": {},
   "outputs": [],
   "source": []
  }
 ],
 "metadata": {
  "kernelspec": {
   "display_name": "python-course",
   "language": "python",
   "name": "python3"
  },
  "language_info": {
   "codemirror_mode": {
    "name": "ipython",
    "version": 3
   },
   "file_extension": ".py",
   "mimetype": "text/x-python",
   "name": "python",
   "nbconvert_exporter": "python",
   "pygments_lexer": "ipython3",
   "version": "3.11.9"
  },
  "orig_nbformat": 4
 },
 "nbformat": 4,
 "nbformat_minor": 2
}
