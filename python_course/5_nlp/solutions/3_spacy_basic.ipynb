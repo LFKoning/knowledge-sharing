{
 "cells": [
  {
   "cell_type": "markdown",
   "metadata": {},
   "source": [
    "# Solutions III: SpaCy Basics"
   ]
  },
  {
   "cell_type": "code",
   "execution_count": 5,
   "metadata": {},
   "outputs": [],
   "source": [
    "import spacy"
   ]
  },
  {
   "cell_type": "code",
   "execution_count": 6,
   "metadata": {},
   "outputs": [],
   "source": [
    "# Example text.\n",
    "example = \"The European Central Bank raised its interest rates by 0.25% on the 20th of September 2023.\""
   ]
  },
  {
   "cell_type": "code",
   "execution_count": 7,
   "metadata": {},
   "outputs": [],
   "source": [
    "# Run this cell if you have not yet installed the language model.\n",
    "# You may have to restart the Python kernel after installing!\n",
    "# %pip install python -m pip install https://github.com/explosion/spacy-models/releases/download/en_core_web_md-3.7.1/en_core_web_md-3.7.1-py3-none-any.whl"
   ]
  },
  {
   "cell_type": "code",
   "execution_count": 8,
   "metadata": {},
   "outputs": [],
   "source": [
    "# Load the en_core_web_sm model.\n",
    "nlp = spacy.load(\"en_core_web_md\")"
   ]
  },
  {
   "cell_type": "code",
   "execution_count": null,
   "metadata": {},
   "outputs": [],
   "source": [
    "# Apply the model to the example.\n",
    "doc = nlp(example)\n",
    "type(doc)"
   ]
  },
  {
   "cell_type": "code",
   "execution_count": null,
   "metadata": {},
   "outputs": [],
   "source": [
    "# The .ents property contains entities.\n",
    "doc.ents"
   ]
  },
  {
   "cell_type": "code",
   "execution_count": null,
   "metadata": {},
   "outputs": [],
   "source": [
    "# Print additional entity information.\n",
    "for ent in doc.ents:\n",
    "    print(f\"{ent} | {ent.label_} | {ent.start}-{ent.end}\")"
   ]
  },
  {
   "cell_type": "code",
   "execution_count": null,
   "metadata": {},
   "outputs": [],
   "source": [
    "# What elements are in the doc?\n",
    "type(doc[0])"
   ]
  },
  {
   "cell_type": "code",
   "execution_count": null,
   "metadata": {},
   "outputs": [],
   "source": [
    "# Loop over the tokens in doc.\n",
    "for token in doc:\n",
    "    print(f\"{token.text} | {token.lemma_} | {token.pos_} | {token.ent_type_}\")"
   ]
  },
  {
   "cell_type": "code",
   "execution_count": null,
   "metadata": {},
   "outputs": [],
   "source": [
    "# Mask organization names from the text.\n",
    "[\"<MASKED>\" if t.ent_type_ == \"ORG\" else t for t in doc ]\n"
   ]
  },
  {
   "cell_type": "code",
   "execution_count": 15,
   "metadata": {},
   "outputs": [],
   "source": [
    "# Use retokenize() to merge entities into a single token.\n",
    "with doc.retokenize() as retokenizer:\n",
    "\n",
    "    # Loop over entities discovered by SpaCy.\n",
    "    for ent in doc.ents:\n",
    "\n",
    "        # Merge tokens for the entity.\n",
    "        retokenizer.merge(\n",
    "\n",
    "            # Use the detected entity span.\n",
    "            doc[ent.start:ent.end],\n",
    "            attrs={\"LEMMA\": ent.text}\n",
    "        )"
   ]
  },
  {
   "cell_type": "code",
   "execution_count": null,
   "metadata": {},
   "outputs": [],
   "source": [
    "# Print modified tokenization.\n",
    "for token in doc:\n",
    "    print(f\"{token.text} | {token.ent_type_}\")"
   ]
  },
  {
   "cell_type": "code",
   "execution_count": null,
   "metadata": {},
   "outputs": [],
   "source": [
    "# Mask organization names from the text.\n",
    "[\"<MASKED>\" if t.ent_type_ == \"ORG\" else t for t in doc ]"
   ]
  }
 ],
 "metadata": {
  "kernelspec": {
   "display_name": "python-course",
   "language": "python",
   "name": "python3"
  },
  "language_info": {
   "codemirror_mode": {
    "name": "ipython",
    "version": 3
   },
   "file_extension": ".py",
   "mimetype": "text/x-python",
   "name": "python",
   "nbconvert_exporter": "python",
   "pygments_lexer": "ipython3",
   "version": "3.11.9"
  },
  "orig_nbformat": 4
 },
 "nbformat": 4,
 "nbformat_minor": 2
}
