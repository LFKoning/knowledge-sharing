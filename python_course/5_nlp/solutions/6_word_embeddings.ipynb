{
 "cells": [
  {
   "cell_type": "markdown",
   "metadata": {},
   "source": [
    "# Solutions VI: Word Embeddings"
   ]
  },
  {
   "cell_type": "code",
   "execution_count": 1,
   "metadata": {},
   "outputs": [],
   "source": [
    "import spacy\n",
    "import pandas as pd\n",
    "import numpy as np\n",
    "\n",
    "from sklearn.ensemble import RandomForestClassifier\n",
    "from sklearn.metrics import accuracy_score"
   ]
  },
  {
   "cell_type": "code",
   "execution_count": 2,
   "metadata": {},
   "outputs": [],
   "source": [
    "nlp = spacy.load(\"en_core_web_md\")"
   ]
  },
  {
   "cell_type": "code",
   "execution_count": 3,
   "metadata": {},
   "outputs": [],
   "source": [
    "def most_similar(text, n=5):\n",
    "    \"\"\"Find the most similar words in SpaCy's vocabulary.\"\"\"\n",
    "    vector = nlp(text).vector\n",
    "\n",
    "    # Query vocabulary for most similar word vectors.\n",
    "    similar = nlp.vocab.vectors.most_similar(np.array([vector]), n=n)\n",
    "    keys = similar[0][0]\n",
    "    scores = similar[2][0]\n",
    "\n",
    "    return {\n",
    "        # Look up word for each key in the result.\n",
    "        nlp.vocab[key].text: score\n",
    "        for key, score in zip(keys, scores)\n",
    "    }"
   ]
  },
  {
   "cell_type": "markdown",
   "metadata": {},
   "source": [
    "### Word Vectors"
   ]
  },
  {
   "cell_type": "code",
   "execution_count": 4,
   "metadata": {},
   "outputs": [],
   "source": [
    "def similarity(text_left, text_right):\n",
    "    \"\"\"Compute cosine similarity between two texts.\"\"\"\n",
    "\n",
    "    # Create Doc objects using nlp().\n",
    "    doc_left = nlp(text_left)\n",
    "    doc_right = nlp(text_right)\n",
    "\n",
    "    # Use Doc.similarity(Doc) to compute similarity.\n",
    "    similarity = doc_left.similarity(doc_right)\n",
    "\n",
    "    return similarity"
   ]
  },
  {
   "cell_type": "code",
   "execution_count": null,
   "metadata": {},
   "outputs": [],
   "source": [
    "# Compute similarity between \"cash\" and \"money\".\n",
    "# Note: Very high similarity between both.\n",
    "similarity(\"money\", \"cash\")"
   ]
  },
  {
   "cell_type": "code",
   "execution_count": null,
   "metadata": {},
   "outputs": [],
   "source": [
    "# Compute similarity between \"money\" and \"dollar\".\n",
    "# Note: Similar, but lower than money - cash; maybe because different currencies exist.\n",
    "similarity(\"money\", \"dollar\")"
   ]
  },
  {
   "cell_type": "code",
   "execution_count": null,
   "metadata": {},
   "outputs": [],
   "source": [
    "# Compute similarity between \"cash\" and \"dash\".\n",
    "# Note: Very low similarity as you would expect.\n",
    "# Note: Levenshtein distance would be minimal.\n",
    "similarity(\"cash\", \"dash\")"
   ]
  },
  {
   "cell_type": "code",
   "execution_count": null,
   "metadata": {},
   "outputs": [],
   "source": [
    "# Most similar words.\n",
    "# Note\": Some \"interesting\" results...\n",
    "most_similar(\"cash\", 10)"
   ]
  },
  {
   "cell_type": "markdown",
   "metadata": {},
   "source": [
    "### Doc Vectors"
   ]
  },
  {
   "cell_type": "code",
   "execution_count": null,
   "metadata": {},
   "outputs": [],
   "source": [
    "# Compute document vector for \"money talks\".\n",
    "money_talks = nlp(\"money talks\")\n",
    "\n",
    "# Length of the document vector.\n",
    "len(money_talks.vector)"
   ]
  },
  {
   "cell_type": "code",
   "execution_count": null,
   "metadata": {},
   "outputs": [],
   "source": [
    "# Look at the first 5 numbers.\n",
    "money_talks.vector[0:5].round(2)"
   ]
  },
  {
   "cell_type": "code",
   "execution_count": null,
   "metadata": {},
   "outputs": [],
   "source": [
    "# Compute the word vector for \"money\"\n",
    "nlp(\"money\").vector[0:5].round(2)"
   ]
  },
  {
   "cell_type": "code",
   "execution_count": null,
   "metadata": {},
   "outputs": [],
   "source": [
    "# Compute the word vector for \"talks\"\n",
    "nlp(\"talks\").vector[0:5].round(2)"
   ]
  },
  {
   "cell_type": "code",
   "execution_count": null,
   "metadata": {},
   "outputs": [],
   "source": [
    "# Doc vector is the average of the word vectors.\n",
    "average = (nlp(\"money\").vector + nlp(\"talks\").vector) / 2\n",
    "average[0:5]"
   ]
  },
  {
   "cell_type": "code",
   "execution_count": null,
   "metadata": {},
   "outputs": [],
   "source": []
  },
  {
   "cell_type": "markdown",
   "metadata": {},
   "source": [
    "### Model Performance"
   ]
  },
  {
   "cell_type": "code",
   "execution_count": null,
   "metadata": {},
   "outputs": [],
   "source": [
    "# Load the full IMDB review dataset.\n",
    "reviews = pd.read_csv(\"../../0_data/imdb/imdb_reviews_small.csv\", compression=\"zip\")\n",
    "reviews.shape"
   ]
  },
  {
   "cell_type": "code",
   "execution_count": 14,
   "metadata": {},
   "outputs": [],
   "source": [
    "# Construct X, y for the training set.\n",
    "X_train = reviews.loc[reviews[\"dataset\"] == \"Train\"]\n",
    "y_train = X_train[\"label\"]\n",
    "X_train = X_train[\"content\"]\n",
    "\n",
    "# Construct X, y for the test set.\n",
    "X_test = reviews.loc[reviews[\"dataset\"] == \"Test\"]\n",
    "y_test = X_test[\"label\"]\n",
    "X_test = X_test[\"content\"]"
   ]
  },
  {
   "cell_type": "code",
   "execution_count": 15,
   "metadata": {},
   "outputs": [],
   "source": [
    "def nlp_vectors(dataset):\n",
    "    # Convert to Docs.\n",
    "    docs = nlp.pipe(\n",
    "        dataset,\n",
    "        n_process=-1,\n",
    "        disable=[\n",
    "            'tagger',\n",
    "            'parser',\n",
    "            'senter',\n",
    "            'attribute_ruler',\n",
    "            'lemmatizer',\n",
    "            'ner'\n",
    "        ]\n",
    "    )\n",
    "\n",
    "    return [doc.vector for doc in docs]"
   ]
  },
  {
   "cell_type": "code",
   "execution_count": 16,
   "metadata": {},
   "outputs": [],
   "source": [
    "# Get document vectors for all reviews.\n",
    "Xt_train = nlp_vectors(X_train)\n",
    "Xt_test = nlp_vectors(X_test)"
   ]
  },
  {
   "cell_type": "code",
   "execution_count": null,
   "metadata": {},
   "outputs": [],
   "source": [
    "# Create and fit a RandomForest classifier.\n",
    "model = RandomForestClassifier(n_jobs=-1)\n",
    "model.fit(Xt_train, y_train)"
   ]
  },
  {
   "cell_type": "code",
   "execution_count": null,
   "metadata": {},
   "outputs": [],
   "source": [
    "# Accuracy on the test set.\n",
    "accuracy_score(y_test, model.predict(Xt_test))"
   ]
  },
  {
   "cell_type": "code",
   "execution_count": null,
   "metadata": {},
   "outputs": [],
   "source": []
  }
 ],
 "metadata": {
  "kernelspec": {
   "display_name": "python-course",
   "language": "python",
   "name": "python3"
  },
  "language_info": {
   "codemirror_mode": {
    "name": "ipython",
    "version": 3
   },
   "file_extension": ".py",
   "mimetype": "text/x-python",
   "name": "python",
   "nbconvert_exporter": "python",
   "pygments_lexer": "ipython3",
   "version": "3.11.9"
  }
 },
 "nbformat": 4,
 "nbformat_minor": 2
}
