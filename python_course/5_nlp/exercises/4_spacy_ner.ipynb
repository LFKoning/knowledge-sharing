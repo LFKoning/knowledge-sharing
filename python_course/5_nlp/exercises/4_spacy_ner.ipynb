{
 "cells": [
  {
   "cell_type": "markdown",
   "metadata": {},
   "source": [
    "# Exercises IV: SpaCy Named Entity Recognition"
   ]
  },
  {
   "cell_type": "code",
   "execution_count": null,
   "metadata": {},
   "outputs": [],
   "source": [
    "import spacy\n",
    "import pandas as pd"
   ]
  },
  {
   "cell_type": "code",
   "execution_count": null,
   "metadata": {},
   "outputs": [],
   "source": [
    "# Load the IMDB data; sample 1000 reviews.\n",
    "reviews = pd.read_csv(\"../../0_data/imdb/imdb_reviews_small.csv\", compression=\"zip\")\n",
    "reviews = reviews.sample(1000)\n",
    "reviews.head()"
   ]
  },
  {
   "cell_type": "code",
   "execution_count": null,
   "metadata": {},
   "outputs": [],
   "source": [
    "# Load language model.\n",
    "nlp = spacy.load(\"en_core_web_md\")"
   ]
  },
  {
   "cell_type": "code",
   "execution_count": null,
   "metadata": {},
   "outputs": [],
   "source": [
    "# Check components in the spaCy pipeline.\n",
    "nlp.component_names"
   ]
  },
  {
   "cell_type": "code",
   "execution_count": null,
   "metadata": {},
   "outputs": [],
   "source": [
    "# Use SpaCy pipeline to get Doc objects.\n",
    "# Use nlp.pipe(...) to speed up pre-processing\n",
    "docs = nlp.pipe(...)"
   ]
  },
  {
   "cell_type": "code",
   "execution_count": null,
   "metadata": {},
   "outputs": [],
   "source": [
    "def find_persons(doc):\n",
    "    \"\"\"Find PERSON entities in a SpaCy document.\n",
    "\n",
    "    Parameters\n",
    "    ----------\n",
    "    doc : spacy.tokens.doc.Doc\n",
    "        SpaCy document object with the ents attribute.\n",
    "\n",
    "    Retruns\n",
    "    -------\n",
    "    list\n",
    "        List of actor names as strings.\n",
    "    \"\"\"\n",
    "    entities = []\n",
    "    for entity in doc.ents:\n",
    "\n",
    "        # Check if entity is a PERSON.\n",
    "        # If so, add its text to the entity list.\n",
    "        ...\n",
    "\n",
    "    return entities"
   ]
  },
  {
   "cell_type": "code",
   "execution_count": null,
   "metadata": {},
   "outputs": [],
   "source": [
    "# Find actors using the find_persons function.\n",
    "actors = [find_persons(doc) for doc in docs]\n",
    "actors[0:5]"
   ]
  },
  {
   "cell_type": "code",
   "execution_count": null,
   "metadata": {},
   "outputs": [],
   "source": []
  }
 ],
 "metadata": {
  "kernelspec": {
   "display_name": "python-cursus",
   "language": "python",
   "name": "python3"
  },
  "language_info": {
   "codemirror_mode": {
    "name": "ipython",
    "version": 3
   },
   "file_extension": ".py",
   "mimetype": "text/x-python",
   "name": "python",
   "nbconvert_exporter": "python",
   "pygments_lexer": "ipython3",
   "version": "3.9.18"
  }
 },
 "nbformat": 4,
 "nbformat_minor": 2
}
