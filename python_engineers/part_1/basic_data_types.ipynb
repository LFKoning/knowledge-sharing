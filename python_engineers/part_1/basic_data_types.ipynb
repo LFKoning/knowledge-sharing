{
 "cells": [
  {
   "cell_type": "markdown",
   "id": "b92d15b0",
   "metadata": {},
   "source": [
    "### Basic data types"
   ]
  },
  {
   "cell_type": "code",
   "execution_count": null,
   "id": "c0a9b393",
   "metadata": {},
   "outputs": [],
   "source": [
    "i = 5\n",
    "f = 3.5\n",
    "s = \"3.6\"\n",
    "t = 1, 2, 3\n",
    "d = {\"a\": 1, \"b\": 2, \"c\": 3}"
   ]
  },
  {
   "cell_type": "code",
   "execution_count": null,
   "id": "800b8ec5",
   "metadata": {},
   "outputs": [],
   "source": [
    "type(i)"
   ]
  },
  {
   "cell_type": "code",
   "execution_count": null,
   "id": "8d566c24",
   "metadata": {},
   "outputs": [],
   "source": [
    "type(f)"
   ]
  },
  {
   "cell_type": "code",
   "execution_count": null,
   "id": "290fe6dd",
   "metadata": {},
   "outputs": [],
   "source": [
    "type(s)"
   ]
  },
  {
   "cell_type": "code",
   "execution_count": null,
   "id": "1b5c4beb",
   "metadata": {},
   "outputs": [],
   "source": [
    "type(t)"
   ]
  },
  {
   "cell_type": "code",
   "execution_count": null,
   "id": "ee0ef638",
   "metadata": {},
   "outputs": [],
   "source": [
    "type(d)"
   ]
  },
  {
   "cell_type": "code",
   "execution_count": null,
   "id": "c46c777a",
   "metadata": {},
   "outputs": [],
   "source": []
  },
  {
   "cell_type": "markdown",
   "id": "b2a2fb24",
   "metadata": {},
   "source": [
    "### Conversies"
   ]
  },
  {
   "cell_type": "code",
   "execution_count": null,
   "id": "2ec5f673",
   "metadata": {},
   "outputs": [],
   "source": [
    "# float => int: negeert alles achter de punt\n",
    "int(f)"
   ]
  },
  {
   "cell_type": "code",
   "execution_count": null,
   "id": "a08be98c",
   "metadata": {},
   "outputs": [],
   "source": [
    "s"
   ]
  },
  {
   "cell_type": "code",
   "execution_count": null,
   "id": "af1fee64",
   "metadata": {},
   "outputs": [],
   "source": [
    "# str => float (geldige waarde)\n",
    "float(s)"
   ]
  },
  {
   "cell_type": "code",
   "execution_count": null,
   "id": "4171c079",
   "metadata": {},
   "outputs": [],
   "source": [
    "# str => int; ongeldige waarden geeft ValueError\n",
    "int(s)"
   ]
  },
  {
   "cell_type": "code",
   "execution_count": null,
   "id": "5d683a0a",
   "metadata": {},
   "outputs": [],
   "source": []
  },
  {
   "cell_type": "markdown",
   "id": "c468fc0d",
   "metadata": {},
   "source": [
    "### Samengestelde data types"
   ]
  },
  {
   "cell_type": "code",
   "execution_count": null,
   "id": "a6cffd27",
   "metadata": {},
   "outputs": [],
   "source": [
    "t"
   ]
  },
  {
   "cell_type": "code",
   "execution_count": null,
   "id": "cee9544f",
   "metadata": {},
   "outputs": [],
   "source": [
    "# Eerste element is index 0\n",
    "t[0]"
   ]
  },
  {
   "cell_type": "code",
   "execution_count": null,
   "id": "1955f1ef",
   "metadata": {},
   "outputs": [],
   "source": [
    "# Buiten index bereik; IndexError\n",
    "t[3]"
   ]
  },
  {
   "cell_type": "code",
   "execution_count": null,
   "id": "f04c5233",
   "metadata": {},
   "outputs": [],
   "source": [
    "# len functie geeft aantal elementen\n",
    "len(t)"
   ]
  },
  {
   "cell_type": "code",
   "execution_count": null,
   "id": "f5546a67",
   "metadata": {},
   "outputs": [],
   "source": [
    "# slice uit een tuple: index 0 tot 2\n",
    "t[0:2]"
   ]
  },
  {
   "cell_type": "code",
   "execution_count": null,
   "id": "7112b1aa",
   "metadata": {},
   "outputs": [],
   "source": [
    "# slice tot einde: rechts open\n",
    "t[1:]"
   ]
  },
  {
   "cell_type": "code",
   "execution_count": null,
   "id": "c2c3af71",
   "metadata": {},
   "outputs": [],
   "source": [
    "# negatieve index, telt terug van laatste element\n",
    "t[0:-1]"
   ]
  },
  {
   "cell_type": "code",
   "execution_count": null,
   "id": "fccaf564",
   "metadata": {},
   "outputs": [],
   "source": []
  },
  {
   "cell_type": "code",
   "execution_count": null,
   "id": "bb163568",
   "metadata": {},
   "outputs": [],
   "source": [
    "d"
   ]
  },
  {
   "cell_type": "code",
   "execution_count": null,
   "id": "c31a676a",
   "metadata": {},
   "outputs": [],
   "source": [
    "# dict werkt met sleutels (str, int, etc)\n",
    "d[\"a\"]"
   ]
  },
  {
   "cell_type": "code",
   "execution_count": null,
   "id": "cc6b22be",
   "metadata": {},
   "outputs": [],
   "source": [
    "# niet bestaande sleutel geeft KeyError\n",
    "d[\"x\"]"
   ]
  },
  {
   "cell_type": "code",
   "execution_count": null,
   "id": "a63bbff6",
   "metadata": {},
   "outputs": [],
   "source": [
    "# opvragen met default, geen KeyError\n",
    "d.get(\"x\", \"Oeps deze sleutel bestaat niet!\")"
   ]
  },
  {
   "cell_type": "code",
   "execution_count": null,
   "id": "1afe68cb",
   "metadata": {},
   "outputs": [],
   "source": [
    "# met len() krijg je het aantal items in een dict\n",
    "len(d)"
   ]
  },
  {
   "cell_type": "code",
   "execution_count": null,
   "id": "9e032c97",
   "metadata": {},
   "outputs": [],
   "source": [
    "# conversie naar list: lijst van sleutels\n",
    "list(d)"
   ]
  },
  {
   "cell_type": "code",
   "execution_count": null,
   "id": "59033b21",
   "metadata": {},
   "outputs": [],
   "source": [
    "# alternatieve manier om alle sleutels te krijgen...\n",
    "d.keys()"
   ]
  },
  {
   "cell_type": "code",
   "execution_count": null,
   "id": "6ef2c5e7",
   "metadata": {},
   "outputs": [],
   "source": [
    "# ... of juist alle waardes\n",
    "d.values()"
   ]
  },
  {
   "cell_type": "code",
   "execution_count": null,
   "id": "44c6cf50",
   "metadata": {},
   "outputs": [],
   "source": []
  },
  {
   "cell_type": "markdown",
   "id": "95ea04fc",
   "metadata": {},
   "source": [
    "### Wiskundige operatoren"
   ]
  },
  {
   "cell_type": "code",
   "execution_count": null,
   "id": "3f6c3cb7",
   "metadata": {},
   "outputs": [],
   "source": [
    "i"
   ]
  },
  {
   "cell_type": "code",
   "execution_count": null,
   "id": "8805ab2f",
   "metadata": {},
   "outputs": [],
   "source": [
    "# kwadraat\n",
    "i ** 2"
   ]
  },
  {
   "cell_type": "code",
   "execution_count": null,
   "id": "a0622e2f",
   "metadata": {},
   "outputs": [],
   "source": [
    "# normaal delen\n",
    "i / 2"
   ]
  },
  {
   "cell_type": "code",
   "execution_count": null,
   "id": "9ae724a4",
   "metadata": {},
   "outputs": [],
   "source": [
    "# integer delen; negeert alles achter de punt\n",
    "i // 2"
   ]
  },
  {
   "cell_type": "code",
   "execution_count": null,
   "id": "20e563d3",
   "metadata": {},
   "outputs": [],
   "source": [
    "# rest bij deling\n",
    "i % 2"
   ]
  },
  {
   "cell_type": "code",
   "execution_count": null,
   "id": "a5537995",
   "metadata": {},
   "outputs": [],
   "source": []
  },
  {
   "cell_type": "markdown",
   "id": "abec524f",
   "metadata": {},
   "source": [
    "### Tekst data"
   ]
  },
  {
   "cell_type": "code",
   "execution_count": null,
   "id": "bcdb2439",
   "metadata": {},
   "outputs": [],
   "source": [
    "first_name = \"Henk\"\n",
    "last_name = \"Jansen\""
   ]
  },
  {
   "cell_type": "code",
   "execution_count": null,
   "id": "24c4a903",
   "metadata": {},
   "outputs": [],
   "source": [
    "# old-school samenvoegen met +\n",
    "first_name + \" \" + last_name"
   ]
  },
  {
   "cell_type": "code",
   "execution_count": null,
   "id": "acd37f1c",
   "metadata": {},
   "outputs": [],
   "source": [
    "# of via format-string\n",
    "f\"{first_name} {last_name}\""
   ]
  },
  {
   "cell_type": "code",
   "execution_count": null,
   "id": "325bcd74",
   "metadata": {},
   "outputs": [],
   "source": [
    "# of met format, dat iets flexibeler is\n",
    "template = \"{fn} {ln}\""
   ]
  },
  {
   "cell_type": "code",
   "execution_count": null,
   "id": "c5e0381c",
   "metadata": {},
   "outputs": [],
   "source": [
    "# merk op: template is gewoon een string\n",
    "type(template)"
   ]
  },
  {
   "cell_type": "code",
   "execution_count": null,
   "id": "6eecc30e",
   "metadata": {},
   "outputs": [],
   "source": [
    "# pas als we format() gebruiken worden de variabelen ingevuld\n",
    "template.format(fn=first_name, ln=last_name)"
   ]
  },
  {
   "cell_type": "code",
   "execution_count": null,
   "id": "9d829734",
   "metadata": {},
   "outputs": [],
   "source": [
    "# opties voor weergave van variabelen\n",
    "# 15s = 15 characters string, 6d = 6 digits, 8.2f = 8 digits float met 2 decimalen\n",
    "\"| {name:15s} | {leeftijd:6d} | {score:8.3f} | \".format(name=\"Henk\", leeftijd=55, score=3.65854)"
   ]
  },
  {
   "cell_type": "code",
   "execution_count": null,
   "id": "47407ed2",
   "metadata": {},
   "outputs": [],
   "source": []
  },
  {
   "cell_type": "markdown",
   "id": "bbc91499",
   "metadata": {},
   "source": [
    "### Logische operatoren"
   ]
  },
  {
   "cell_type": "code",
   "execution_count": null,
   "id": "2d85dac3",
   "metadata": {},
   "outputs": [],
   "source": [
    "i"
   ]
  },
  {
   "cell_type": "code",
   "execution_count": null,
   "id": "36fcbffb",
   "metadata": {},
   "outputs": [],
   "source": [
    "# Simpele gelijk aan\n",
    "i == 5"
   ]
  },
  {
   "cell_type": "code",
   "execution_count": null,
   "id": "c853237f",
   "metadata": {},
   "outputs": [],
   "source": [
    "# test identieke objecten; gaat op voor getallen\n",
    "i is 5"
   ]
  },
  {
   "cell_type": "code",
   "execution_count": null,
   "id": "21df11ba",
   "metadata": {},
   "outputs": [],
   "source": [
    "# gelijke tuples\n",
    "(1, 2, 3) == (1, 2, 3)"
   ]
  },
  {
   "cell_type": "code",
   "execution_count": null,
   "id": "2c60da6a",
   "metadata": {},
   "outputs": [],
   "source": [
    "# zijn ook identieke objecten\n",
    "(1, 2, 3) is (1, 2, 3)"
   ]
  },
  {
   "cell_type": "code",
   "execution_count": null,
   "id": "0dfb0cef",
   "metadata": {},
   "outputs": [],
   "source": [
    "# de waardes van deze lijsten zijn gelijk...\n",
    "[1, 2, 3] == [1, 2, 3]"
   ]
  },
  {
   "cell_type": "code",
   "execution_count": null,
   "id": "7075fad3",
   "metadata": {},
   "outputs": [],
   "source": [
    "# maar het zijn NIET dezelfde objecten!\n",
    "[1, 2, 3] is [1, 2, 3]"
   ]
  },
  {
   "cell_type": "code",
   "execution_count": null,
   "id": "c56b48e1",
   "metadata": {},
   "outputs": [],
   "source": []
  },
  {
   "cell_type": "code",
   "execution_count": null,
   "id": "ec9bc539",
   "metadata": {},
   "outputs": [],
   "source": [
    "# waardes in t\n",
    "t"
   ]
  },
  {
   "cell_type": "code",
   "execution_count": null,
   "id": "6308bb57",
   "metadata": {},
   "outputs": [],
   "source": [
    "# in checkt of waarde voorkomt in een set\n",
    "1 in t"
   ]
  },
  {
   "cell_type": "code",
   "execution_count": null,
   "id": "45306b59",
   "metadata": {},
   "outputs": [],
   "source": [
    "# gebruik not om check om te draaien\n",
    "4 not in t"
   ]
  },
  {
   "cell_type": "code",
   "execution_count": null,
   "id": "29353616",
   "metadata": {},
   "outputs": [],
   "source": [
    "# combineer checks met and\n",
    "1 in t and 4 in t"
   ]
  },
  {
   "cell_type": "code",
   "execution_count": null,
   "id": "31070c81",
   "metadata": {},
   "outputs": [],
   "source": [
    "# of or\n",
    "1 in t or 4 in t"
   ]
  },
  {
   "cell_type": "code",
   "execution_count": null,
   "id": "fc50c446",
   "metadata": {},
   "outputs": [],
   "source": [
    "# pas op met combineren and en or: gebruik haken\n",
    "1 in t or 4 in t and 2 in t"
   ]
  },
  {
   "cell_type": "code",
   "execution_count": null,
   "id": "d09f3325",
   "metadata": {},
   "outputs": [],
   "source": []
  },
  {
   "cell_type": "code",
   "execution_count": null,
   "id": "3b92b76b",
   "metadata": {},
   "outputs": [],
   "source": []
  }
 ],
 "metadata": {
  "kernelspec": {
   "display_name": "Python 3 (ipykernel)",
   "language": "python",
   "name": "python3"
  },
  "language_info": {
   "codemirror_mode": {
    "name": "ipython",
    "version": 3
   },
   "file_extension": ".py",
   "mimetype": "text/x-python",
   "name": "python",
   "nbconvert_exporter": "python",
   "pygments_lexer": "ipython3",
   "version": "3.7.7"
  }
 },
 "nbformat": 4,
 "nbformat_minor": 5
}
