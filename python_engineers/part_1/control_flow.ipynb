{
 "cells": [
  {
   "cell_type": "markdown",
   "id": "bd7bf52b",
   "metadata": {},
   "source": [
    "### For loops"
   ]
  },
  {
   "cell_type": "code",
   "execution_count": 61,
   "id": "ae9c7b72",
   "metadata": {},
   "outputs": [
    {
     "name": "stdout",
     "output_type": "stream",
     "text": [
      "1\n",
      "2\n",
      "3\n"
     ]
    }
   ],
   "source": [
    "# loop over de waardes in een tuple\n",
    "for x in (1, 2, 3):\n",
    "    print(x)"
   ]
  },
  {
   "cell_type": "code",
   "execution_count": 64,
   "id": "58a7e13a",
   "metadata": {},
   "outputs": [
    {
     "name": "stdout",
     "output_type": "stream",
     "text": [
      "0\n",
      "1\n",
      "2\n",
      "3\n",
      "4\n"
     ]
    }
   ],
   "source": [
    "# gebruik range() om oplopende getallen te krijgen\n",
    "# merk op: start bij 0 en eindigt bij 4!\n",
    "for x in range(5):\n",
    "    print(x)"
   ]
  },
  {
   "cell_type": "code",
   "execution_count": 66,
   "id": "e5e75abf",
   "metadata": {},
   "outputs": [
    {
     "name": "stdout",
     "output_type": "stream",
     "text": [
      "teller = 1 - waarde = 3\n",
      "teller = 2 - waarde = 7\n",
      "teller = 3 - waarde = 2\n"
     ]
    }
   ],
   "source": [
    "# gebruik enumerate() om aantal loops bij te houden\n",
    "# merk op: je kunt met start=x opgeven waar tellen begint\n",
    "for counter, value in enumerate((3, 7, 2), start=1):\n",
    "    print(f\"teller = {counter} - waarde = {value}\")"
   ]
  },
  {
   "cell_type": "code",
   "execution_count": null,
   "id": "d1a6007a",
   "metadata": {},
   "outputs": [],
   "source": []
  },
  {
   "cell_type": "code",
   "execution_count": 10,
   "id": "5b470630",
   "metadata": {},
   "outputs": [],
   "source": [
    "d = {\"a\": 1, \"b\": 2, \"c\": 3}"
   ]
  },
  {
   "cell_type": "code",
   "execution_count": 68,
   "id": "c549f788",
   "metadata": {},
   "outputs": [
    {
     "name": "stdout",
     "output_type": "stream",
     "text": [
      "a\n",
      "b\n",
      "c\n"
     ]
    }
   ],
   "source": [
    "# loop over dict\n",
    "# merk op: k krijgt de waarde van de sleutels!\n",
    "# dit komt doordat d impliciet naar een list wordt geconverteerd.\n",
    "for k in d:\n",
    "    print(k)"
   ]
  },
  {
   "cell_type": "code",
   "execution_count": 69,
   "id": "8e2cfd24",
   "metadata": {},
   "outputs": [
    {
     "name": "stdout",
     "output_type": "stream",
     "text": [
      "sleutel = a - waarde = 1\n",
      "sleutel = b - waarde = 2\n",
      "sleutel = c - waarde = 3\n"
     ]
    }
   ],
   "source": [
    "# items() is handig om zowel de sleutel als de waarde te krijgen\n",
    "for k, v in d.items():\n",
    "    print(f\"sleutel = {k} - waarde = {v}\")"
   ]
  },
  {
   "cell_type": "code",
   "execution_count": null,
   "id": "e491bc3b",
   "metadata": {},
   "outputs": [],
   "source": []
  },
  {
   "cell_type": "markdown",
   "id": "2f17a38b",
   "metadata": {},
   "source": [
    "### Functies"
   ]
  },
  {
   "cell_type": "code",
   "execution_count": 72,
   "id": "11dc7a96",
   "metadata": {},
   "outputs": [],
   "source": [
    "# met def definier je een nieuwe functie\n",
    "# merk op: runnen van deze cell lijkt niets te doen...\n",
    "def say_hello():\n",
    "    print(\"Hallo!\")"
   ]
  },
  {
   "cell_type": "code",
   "execution_count": 73,
   "id": "0f31dcf1",
   "metadata": {},
   "outputs": [
    {
     "data": {
      "text/plain": [
       "<function __main__.say_hello()>"
      ]
     },
     "execution_count": 73,
     "metadata": {},
     "output_type": "execute_result"
    }
   ],
   "source": [
    "# maar... say_hello is nu wel bekend als naam\n",
    "say_hello"
   ]
  },
  {
   "cell_type": "code",
   "execution_count": 74,
   "id": "5597fec4",
   "metadata": {},
   "outputs": [
    {
     "name": "stdout",
     "output_type": "stream",
     "text": [
      "Hallo!\n"
     ]
    }
   ],
   "source": [
    "# Om de functie aan te roepen, gebruik je de naam met haken\n",
    "say_hello()"
   ]
  },
  {
   "cell_type": "code",
   "execution_count": null,
   "id": "9b51c4f2",
   "metadata": {},
   "outputs": [],
   "source": []
  },
  {
   "cell_type": "code",
   "execution_count": 99,
   "id": "0590f8dd",
   "metadata": {},
   "outputs": [],
   "source": [
    "# tussen de haken kun je een of meer argumenten opgeven voor de functie\n",
    "# merk op: het eerste argument is verplicht, het tweede optioneel\n",
    "def say_hello(first_name, last_name=None):\n",
    "    # gebruik if / else om te checken of last_name ingevuld is\n",
    "    if last_name:\n",
    "        print(f\"Hello {first_name} {last_name}!\")\n",
    "    else:\n",
    "        print(f\"Hello {first_name}!\")"
   ]
  },
  {
   "cell_type": "code",
   "execution_count": 100,
   "id": "9a92dedd",
   "metadata": {},
   "outputs": [
    {
     "ename": "TypeError",
     "evalue": "say_hello() missing 1 required positional argument: 'first_name'",
     "output_type": "error",
     "traceback": [
      "\u001b[1;31m---------------------------------------------------------------------------\u001b[0m",
      "\u001b[1;31mTypeError\u001b[0m                                 Traceback (most recent call last)",
      "\u001b[1;32m~\\AppData\\Local\\Temp\\ipykernel_7952\\444363784.py\u001b[0m in \u001b[0;36m<module>\u001b[1;34m\u001b[0m\n\u001b[0;32m      1\u001b[0m \u001b[1;31m# foutmelding als je het verplichte argument weglaat\u001b[0m\u001b[1;33m\u001b[0m\u001b[1;33m\u001b[0m\u001b[1;33m\u001b[0m\u001b[0m\n\u001b[1;32m----> 2\u001b[1;33m \u001b[0msay_hello\u001b[0m\u001b[1;33m(\u001b[0m\u001b[1;33m)\u001b[0m\u001b[1;33m\u001b[0m\u001b[1;33m\u001b[0m\u001b[0m\n\u001b[0m",
      "\u001b[1;31mTypeError\u001b[0m: say_hello() missing 1 required positional argument: 'first_name'"
     ]
    }
   ],
   "source": [
    "# foutmelding als je het verplichte argument weglaat\n",
    "say_hello()"
   ]
  },
  {
   "cell_type": "code",
   "execution_count": 101,
   "id": "e95f9d47",
   "metadata": {},
   "outputs": [
    {
     "name": "stdout",
     "output_type": "stream",
     "text": [
      "Hello Henk!\n",
      "Hello Henk Jansen!\n"
     ]
    }
   ],
   "source": [
    "# alleen voornaam of volledige naam is prima\n",
    "say_hello(\"Henk\")\n",
    "say_hello(\"Henk\", \"Jansen\")"
   ]
  },
  {
   "cell_type": "code",
   "execution_count": null,
   "id": "f758b1d0",
   "metadata": {},
   "outputs": [],
   "source": []
  },
  {
   "cell_type": "code",
   "execution_count": 108,
   "id": "b939f379",
   "metadata": {},
   "outputs": [],
   "source": [
    "# met return kun je waardes teruggeven uit een functie\n",
    "# merk op: je kunt meerdere waardes teruggeven\n",
    "def descriptives(values):\n",
    "    total = sum(values)\n",
    "    count = len(values)\n",
    "    mean = total / count\n",
    "    \n",
    "    return total, count, mean"
   ]
  },
  {
   "cell_type": "code",
   "execution_count": 109,
   "id": "06d7d4d0",
   "metadata": {},
   "outputs": [
    {
     "data": {
      "text/plain": [
       "(6, 3, 2.0)"
      ]
     },
     "execution_count": 109,
     "metadata": {},
     "output_type": "execute_result"
    }
   ],
   "source": [
    "# standaard aanroep geeft tuple terug\n",
    "descriptives([1, 2, 3])"
   ]
  },
  {
   "cell_type": "code",
   "execution_count": 114,
   "id": "d154407c",
   "metadata": {},
   "outputs": [
    {
     "name": "stdout",
     "output_type": "stream",
     "text": [
      "\n",
      "    total:        6\n",
      "    count:        3\n",
      "    mean:         2.00\n",
      "\n"
     ]
    }
   ],
   "source": [
    "# maar je kunt de tuple ook meteen aan variabelen toekennen\n",
    "total, count, mean = descriptives([1, 2, 3])\n",
    "print(f\"\"\"\n",
    "    total: {total:8d}\n",
    "    count: {count:8d}\n",
    "    mean:  {mean:11.2f}\n",
    "\"\"\")"
   ]
  },
  {
   "cell_type": "code",
   "execution_count": null,
   "id": "2c50fcc8",
   "metadata": {},
   "outputs": [],
   "source": []
  },
  {
   "cell_type": "markdown",
   "id": "967f0cc5",
   "metadata": {},
   "source": [
    "### Bestanden"
   ]
  },
  {
   "cell_type": "code",
   "execution_count": 120,
   "id": "b2826467",
   "metadata": {},
   "outputs": [],
   "source": [
    "# open tekstbestand om te schrijven.\n",
    "# merk op: zodra je deze cell uitvoert ontstaat het bestand in de huidige folder.\n",
    "# Python zal het bestand \"op slot\" zetten, zodat andere programma's er niet in kunnen.\n",
    "fh = open(\"data.csv\", \"w\")"
   ]
  },
  {
   "cell_type": "code",
   "execution_count": 121,
   "id": "082d70bf",
   "metadata": {},
   "outputs": [
    {
     "data": {
      "text/plain": [
       "_io.TextIOWrapper"
      ]
     },
     "execution_count": 121,
     "metadata": {},
     "output_type": "execute_result"
    }
   ],
   "source": [
    "# je krijgt en input / output object terug...\n",
    "type(fh)"
   ]
  },
  {
   "cell_type": "code",
   "execution_count": 123,
   "id": "ae04a245",
   "metadata": {},
   "outputs": [
    {
     "name": "stdout",
     "output_type": "stream",
     "text": [
      "buffer\n",
      "close\n",
      "closed\n",
      "detach\n",
      "encoding\n",
      "errors\n",
      "fileno\n",
      "flush\n",
      "isatty\n",
      "line_buffering\n",
      "mode\n",
      "name\n",
      "newlines\n",
      "read\n",
      "readable\n",
      "readline\n",
      "readlines\n",
      "reconfigure\n",
      "seek\n",
      "seekable\n",
      "tell\n",
      "truncate\n",
      "writable\n",
      "write\n",
      "write_through\n",
      "writelines\n"
     ]
    }
   ],
   "source": [
    "# met de volgende (publieke) eigenschappen\n",
    "for attrib in dir(fh):\n",
    "    # private eigenschappen beginnen met underscore, deze slaan we over\n",
    "    if attrib.startswith(\"_\"):\n",
    "        continue\n",
    "    print(attrib)"
   ]
  },
  {
   "cell_type": "code",
   "execution_count": 124,
   "id": "93856a7b",
   "metadata": {},
   "outputs": [],
   "source": [
    "# sluit het bestand en geeft het vrij voor andere programma's\n",
    "fh.close()"
   ]
  },
  {
   "cell_type": "code",
   "execution_count": null,
   "id": "fd9cfc01",
   "metadata": {},
   "outputs": [],
   "source": []
  },
  {
   "cell_type": "code",
   "execution_count": null,
   "id": "1c64f793",
   "metadata": {},
   "outputs": [],
   "source": []
  },
  {
   "cell_type": "code",
   "execution_count": 125,
   "id": "a6e6e717",
   "metadata": {},
   "outputs": [
    {
     "data": {
      "text/plain": [
       "[('Henk', 'man', 44), ('Ingrid', 'vrouw', 37), ('Jaap', 'man', 56)]"
      ]
     },
     "execution_count": 125,
     "metadata": {},
     "output_type": "execute_result"
    }
   ],
   "source": [
    "# 3 records aan data; tuples in een list.\n",
    "data = [\n",
    "    (\"Henk\", \"man\", 44),\n",
    "    (\"Ingrid\", \"vrouw\", 37),\n",
    "    (\"Jaap\", \"man\", 56),\n",
    "]\n",
    "data"
   ]
  },
  {
   "cell_type": "code",
   "execution_count": 59,
   "id": "23dcdd73",
   "metadata": {},
   "outputs": [
    {
     "name": "stdout",
     "output_type": "stream",
     "text": [
      "Henk,man,44\n",
      "\n",
      "Ingrid,vrouw,37\n",
      "\n",
      "Jaap,man,56\n",
      "\n"
     ]
    }
   ],
   "source": [
    "# open bestand om naar te schrijven met een contextmanager (with)\n",
    "# merk op: de contextmanager zorgt dat het bestand automatisch weer gesloten wordt!\n",
    "with open(\"data.csv\", \"w\", encoding=\"utf8\") as data_file:\n",
    "\n",
    "    # loop door de records\n",
    "    for record in data:\n",
    "        \n",
    "        # voeg velden samen tot string\n",
    "        # merk op: voegt scheidingstekens en nieuwe regel toe.\n",
    "        template = \"{naam},{geslacht},{leeftijd:d}\\n\"\n",
    "        csv_record = template.format(naam=record[0], geslacht=record[1], leeftijd=record[2])\n",
    "        \n",
    "        print(csv_record)\n",
    "        \n",
    "        # schrijf record naar het bestand\n",
    "        data_file.write(csv_record)\n"
   ]
  },
  {
   "cell_type": "code",
   "execution_count": null,
   "id": "5662a7fe",
   "metadata": {},
   "outputs": [],
   "source": []
  }
 ],
 "metadata": {
  "kernelspec": {
   "display_name": "Python 3 (ipykernel)",
   "language": "python",
   "name": "python3"
  },
  "language_info": {
   "codemirror_mode": {
    "name": "ipython",
    "version": 3
   },
   "file_extension": ".py",
   "mimetype": "text/x-python",
   "name": "python",
   "nbconvert_exporter": "python",
   "pygments_lexer": "ipython3",
   "version": "3.7.7"
  }
 },
 "nbformat": 4,
 "nbformat_minor": 5
}
