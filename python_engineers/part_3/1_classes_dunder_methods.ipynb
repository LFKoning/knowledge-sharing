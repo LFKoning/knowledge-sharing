{
 "cells": [
  {
   "cell_type": "markdown",
   "id": "dcca68b8",
   "metadata": {},
   "source": [
    "### Class basics"
   ]
  },
  {
   "cell_type": "code",
   "execution_count": null,
   "id": "65f56387",
   "metadata": {},
   "outputs": [],
   "source": [
    "# Gebruik class om een class te definieren\n",
    "class Persoon:\n",
    "    \"\"\"Class voor het opslaan persoonlijke data.\"\"\"\n",
    "    \n",
    "    # Attributen van de class\n",
    "    voornaam = \"Jan\"\n",
    "    achternaam = \"Jansen\"\n",
    "    \n",
    "    # Methodes van de class\n",
    "    # Merk op: self is het eerste argument\n",
    "    def volledige_naam(self):\n",
    "        \"\"\"Geef volledige naam van de persoon terug.\"\"\"\n",
    "        \n",
    "        # Merk op: Via self toegang tot attributen\n",
    "        return f\"{self.voornaam} {self.achternaam}\"\n"
   ]
  },
  {
   "cell_type": "code",
   "execution_count": null,
   "id": "58b4fa24",
   "metadata": {},
   "outputs": [],
   "source": [
    "# Maak een object / instance van een Persoon\n",
    "person_a = Persoon()"
   ]
  },
  {
   "cell_type": "code",
   "execution_count": null,
   "id": "4e662d3d",
   "metadata": {},
   "outputs": [],
   "source": [
    "# Toegang tot attributen via <class>.<attribuut>\n",
    "person_a.voornaam"
   ]
  },
  {
   "cell_type": "code",
   "execution_count": null,
   "id": "929f93c4",
   "metadata": {},
   "outputs": [],
   "source": [
    "# Idem voor methodes\n",
    "person_a.volledige_naam()"
   ]
  },
  {
   "cell_type": "code",
   "execution_count": null,
   "id": "fd2748d5",
   "metadata": {},
   "outputs": [],
   "source": [
    "# Maak een tweede persoon\n",
    "person_b = Persoon()\n",
    "person_b.volledige_naam()"
   ]
  },
  {
   "cell_type": "code",
   "execution_count": null,
   "id": "fe12a720",
   "metadata": {},
   "outputs": [],
   "source": [
    "# Personen verschillen, maar namen zijn hetzelfde...\n",
    "person_a is person_b"
   ]
  },
  {
   "cell_type": "code",
   "execution_count": null,
   "id": "2a1f7fd9",
   "metadata": {},
   "outputs": [],
   "source": [
    "class Persoon:\n",
    "    \"\"\"Class voor het opslaan persoonlijke data.\"\"\"\n",
    "    \n",
    "    def initialiseer(self, voornaam, achternaam):\n",
    "        \"\"\"Stelt voor- en achternaam voor een persoon in.\"\"\"\n",
    "        self.voornaam = voornaam.capitalize()\n",
    "        self.achternaam = achternaam.capitalize()\n",
    "    \n",
    "    def volledige_naam(self):\n",
    "        \"\"\"Geeft volledige naam van de persoon terug.\"\"\"\n",
    "        \n",
    "        # Merk op: Via self toegang tot attributen\n",
    "        return f\"{self.voornaam} {self.achternaam}\""
   ]
  },
  {
   "cell_type": "code",
   "execution_count": null,
   "id": "6c347c94",
   "metadata": {},
   "outputs": [],
   "source": [
    "# Maak persoon aan en initialiseer naam\n",
    "person_b = Persoon()\n",
    "person_b.initialiseer(\"Henk\", \"Jansen\")\n",
    "\n",
    "person_b.volledige_naam()"
   ]
  },
  {
   "cell_type": "code",
   "execution_count": null,
   "id": "236450a6",
   "metadata": {},
   "outputs": [],
   "source": []
  },
  {
   "cell_type": "markdown",
   "id": "972070e1",
   "metadata": {},
   "source": [
    "### Double underscore / dunder methods"
   ]
  },
  {
   "cell_type": "code",
   "execution_count": null,
   "id": "51a8b7c6",
   "metadata": {},
   "outputs": [],
   "source": [
    "class Persoon:\n",
    "    \"\"\"Class voor het opslaan persoonlijke data.\"\"\"\n",
    "    \n",
    "    # Dit is nu een \"dunder\" methode; de constructor\n",
    "    def __init__(self, voornaam, achternaam):\n",
    "        \"\"\"Stelt voor- en achternaam voor een persoon in.\"\"\"\n",
    "        self.voornaam = voornaam.capitalize()\n",
    "        self.achternaam = achternaam.capitalize()\n",
    "    \n",
    "    def volledige_naam(self):\n",
    "        \"\"\"Geeft volledige naam van de persoon terug.\"\"\"\n",
    "        return f\"{self.voornaam} {self.achternaam}\""
   ]
  },
  {
   "cell_type": "code",
   "execution_count": null,
   "id": "03278cfb",
   "metadata": {},
   "outputs": [],
   "source": [
    "# De namen worden nu in 1x via de constructor ingesteld!\n",
    "person_c = Persoon(\"Ingrid\", \"Maassen\")\n",
    "person_c.volledige_naam()"
   ]
  },
  {
   "cell_type": "code",
   "execution_count": null,
   "id": "3f8e04ba",
   "metadata": {},
   "outputs": [],
   "source": [
    "class Persoon:\n",
    "    \"\"\"Class voor het opslaan persoonlijke data.\n",
    "    \n",
    "    Parameters\n",
    "    ----------\n",
    "    voornaam : str\n",
    "        Voornaam van de persoon.\n",
    "    achternaam : str\n",
    "        Achternaam van de persoon.\n",
    "    \"\"\" \n",
    "    def __init__(self, voornaam, achternaam):\n",
    "        \"\"\"Stelt voor- en achternaam voor een persoon in.\"\"\"\n",
    "        self.voornaam = voornaam.capitalize()\n",
    "        self.achternaam = achternaam.capitalize()\n",
    "    \n",
    "    def volledige_naam(self):\n",
    "        \"\"\"Geeft volledige naam van de persoon terug.\"\"\"\n",
    "        return f\"{self.voornaam} {self.achternaam}\"\n",
    "\n",
    "    def __repr__(self):\n",
    "        \"\"\"Representatie van een persoon.\"\"\"\n",
    "        return f'Persoon({self.voornaam!r}, {self.achternaam!r})'\n",
    "    \n",
    "    def __str__(self):\n",
    "        \"\"\"Tekstuele representatie van een persoon.\"\"\"\n",
    "        return self.volledige_naam()\n"
   ]
  },
  {
   "cell_type": "code",
   "execution_count": null,
   "id": "1d7c9b52",
   "metadata": {},
   "outputs": [],
   "source": [
    "person_c = Persoon(\"Ingrid\", \"Maassen\")"
   ]
  },
  {
   "cell_type": "code",
   "execution_count": null,
   "id": "01ac105a",
   "metadata": {},
   "outputs": [],
   "source": [
    "# Representatie van persoon_c via __repr__\n",
    "person_c"
   ]
  },
  {
   "cell_type": "code",
   "execution_count": null,
   "id": "626dea3b",
   "metadata": {},
   "outputs": [],
   "source": [
    "str(person_c)"
   ]
  },
  {
   "cell_type": "code",
   "execution_count": null,
   "id": "14ca32aa",
   "metadata": {},
   "outputs": [],
   "source": [
    "# Conversie naar tekst via __str__\n",
    "print(person_c)"
   ]
  },
  {
   "cell_type": "code",
   "execution_count": null,
   "id": "7fbd3431",
   "metadata": {},
   "outputs": [],
   "source": []
  },
  {
   "cell_type": "markdown",
   "id": "59d32f18",
   "metadata": {},
   "source": [
    "### Zelfgemaakte Iterable"
   ]
  },
  {
   "cell_type": "code",
   "execution_count": null,
   "id": "3774a38c",
   "metadata": {},
   "outputs": [],
   "source": [
    "import random\n",
    "\n",
    "\n",
    "class GeneticSequencer:\n",
    "    \n",
    "    base_pairs = (\n",
    "        (\"G\", \"C\"),\n",
    "        (\"T\", \"A\"),\n",
    "        (\"A\", \"T\"),\n",
    "        (\"C\", \"G\"), \n",
    "    )\n",
    "    \n",
    "    def __iter__(self):\n",
    "        \"\"\"Aangeroepen bij start van iteratie.\"\"\"\n",
    "        return self\n",
    "    \n",
    "    def __next__(self):\n",
    "        \"\"\"Aangeroepen bij iedere lus van de iteratie.\"\"\"\n",
    "        return random.choice(self.base_pairs)\n",
    "        "
   ]
  },
  {
   "cell_type": "code",
   "execution_count": null,
   "id": "3b7146fa",
   "metadata": {},
   "outputs": [],
   "source": [
    "# Maak handmatig een GeneticSequencer\n",
    "sequencer = GeneticSequencer()"
   ]
  },
  {
   "cell_type": "code",
   "execution_count": null,
   "id": "19dc282d",
   "metadata": {},
   "outputs": [],
   "source": []
  },
  {
   "cell_type": "code",
   "execution_count": null,
   "id": "ab668500",
   "metadata": {},
   "outputs": [],
   "source": [
    "# Haal een paar op\n",
    "next(sequencer)"
   ]
  },
  {
   "cell_type": "code",
   "execution_count": null,
   "id": "ccdaa1b1",
   "metadata": {},
   "outputs": [],
   "source": [
    "# Of in een for loop\n",
    "sequence = []\n",
    "length = 10\n",
    "\n",
    "for pair in GeneticSequencer():\n",
    "    sequence.append(pair)\n",
    "    \n",
    "    if len(sequence) > length:\n",
    "        break\n",
    "\n",
    "sequence"
   ]
  },
  {
   "cell_type": "code",
   "execution_count": null,
   "id": "1d45248b",
   "metadata": {},
   "outputs": [],
   "source": []
  },
  {
   "cell_type": "markdown",
   "id": "896f4bd2",
   "metadata": {},
   "source": [
    "### FuzzyDict"
   ]
  },
  {
   "cell_type": "code",
   "execution_count": null,
   "id": "23171a2b",
   "metadata": {},
   "outputs": [],
   "source": [
    "class FuzzyDict:\n",
    "    \"\"\"Dict met slordige sleutels.\"\"\"\n",
    "    \n",
    "    def __init__(self, dict_data):\n",
    "        \"\"\"Stel de data in.\"\"\"\n",
    "        self._data = {\n",
    "            k.lower().strip(): v\n",
    "            for k, v in dict_data.items()\n",
    "        }\n",
    "\n",
    "    def __getitem__(self, key):\n",
    "        \"\"\"Haal sleutel op na cleaning.\"\"\"\n",
    "        print(f\"Getting: {key}\")\n",
    "        key = key.lower().strip()\n",
    "        return self._data[key]\n",
    "        \n",
    "    def __setitem__(self, key, value):\n",
    "        \"\"\"Stel waarde van een sleutel in.\"\"\"\n",
    "        print(f\"Setting {key} to {value}\")\n",
    "        key = key.lower().strip()\n",
    "        self._data[key] = value\n",
    "        \n",
    "    def __len__(self):\n",
    "        \"\"\"Geeft totaal aantal items weer.\"\"\"\n",
    "        return len(self._data)"
   ]
  },
  {
   "cell_type": "code",
   "execution_count": null,
   "id": "ae0bc79e",
   "metadata": {},
   "outputs": [],
   "source": [
    "# Maak FuzzyDict aan met dummy data\n",
    "fdict = FuzzyDict({\"naam\": \"Henk\", \"achternaam\": \"Jansen\"})"
   ]
  },
  {
   "cell_type": "code",
   "execution_count": null,
   "id": "4d053d11",
   "metadata": {},
   "outputs": [],
   "source": [
    "# Haal naam op\n",
    "# Merk op: De hoofdletters en extra spatie maken niet uit!\n",
    "fdict[\"  NAAM \"]"
   ]
  },
  {
   "cell_type": "code",
   "execution_count": null,
   "id": "4b73b4fe",
   "metadata": {},
   "outputs": [],
   "source": [
    "fdict[\" NaaM  \"] = \"Jaap\""
   ]
  },
  {
   "cell_type": "code",
   "execution_count": null,
   "id": "53c90b4b",
   "metadata": {},
   "outputs": [],
   "source": [
    "fdict._data"
   ]
  },
  {
   "cell_type": "code",
   "execution_count": null,
   "id": "372bed9a",
   "metadata": {},
   "outputs": [],
   "source": [
    "# Door __len__ kunnen we aantal items opvragen\n",
    "len(fdict)"
   ]
  },
  {
   "cell_type": "code",
   "execution_count": null,
   "id": "8ce9d552",
   "metadata": {},
   "outputs": [],
   "source": []
  },
  {
   "cell_type": "markdown",
   "id": "01c2dbb0",
   "metadata": {},
   "source": [
    "### Class methods"
   ]
  },
  {
   "cell_type": "code",
   "execution_count": null,
   "id": "54db21eb",
   "metadata": {},
   "outputs": [],
   "source": [
    "# Class method als \"factory\"\n",
    "class Persoon:\n",
    "    \"\"\"Class voor persoonlijke data.\"\"\"\n",
    "    \n",
    "    def __init__(self, naam, achternaam, leeftijd):\n",
    "        self.voornaam = naam\n",
    "        self.achternaam = achternaam\n",
    "        self.leeftijd = leeftijd\n",
    "\n",
    "    def __repr__(self):\n",
    "        return f\"Persoon({self.voornaam!r}, {self.achternaam!r}, {self.leeftijd!r})\"\n",
    "    \n",
    "    # Merk op: eerste argument is de class i.p.v. self\n",
    "    @classmethod\n",
    "    def van_csv(cls, csv):\n",
    "        \"\"\"Maak een persoon op basis van CSV record.\"\"\"\n",
    "        voor, achter, leeftijd = csv.split(\",\")\n",
    "        return cls(voor, achter, int(leeftijd))\n"
   ]
  },
  {
   "cell_type": "code",
   "execution_count": null,
   "id": "0697afca",
   "metadata": {},
   "outputs": [],
   "source": [
    "# Maak persoon aan vanuit CSV\n",
    "henk = Persoon.van_csv(\"Henk,Jansen,44\")\n",
    "henk"
   ]
  },
  {
   "cell_type": "code",
   "execution_count": null,
   "id": "70c31875",
   "metadata": {},
   "outputs": [],
   "source": []
  }
 ],
 "metadata": {
  "kernelspec": {
   "display_name": "Python 3 (ipykernel)",
   "language": "python",
   "name": "python3"
  },
  "language_info": {
   "codemirror_mode": {
    "name": "ipython",
    "version": 3
   },
   "file_extension": ".py",
   "mimetype": "text/x-python",
   "name": "python",
   "nbconvert_exporter": "python",
   "pygments_lexer": "ipython3",
   "version": "3.7.7"
  }
 },
 "nbformat": 4,
 "nbformat_minor": 5
}
