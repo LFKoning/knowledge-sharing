{
 "cells": [
  {
   "cell_type": "markdown",
   "id": "6e4aed05",
   "metadata": {},
   "source": [
    "### Basis: CSV Parser"
   ]
  },
  {
   "cell_type": "code",
   "execution_count": null,
   "id": "a33c4661",
   "metadata": {},
   "outputs": [],
   "source": [
    "class CSVParser:\n",
    "    \"\"\"Class voor verwerken van CSV-bestanden.\"\"\"\n",
    "    \n",
    "    delimiter = \",\"\n",
    "    \n",
    "    def __init__(self, header=True, encoding=\"utf8\"):\n",
    "        self.header = header\n",
    "        self.encoding = encoding\n",
    "    \n",
    "    @staticmethod\n",
    "    def try_numeric(value):\n",
    "        \"\"\"Try to cast to numeric value.\"\"\"\n",
    "        try:\n",
    "            return int(value)\n",
    "        except ValueError:\n",
    "            pass\n",
    "        \n",
    "        try:\n",
    "            return float(value)\n",
    "        except ValueError:\n",
    "            return value\n",
    "                \n",
    "        \n",
    "    def read_data(self, data_path):\n",
    "        \"\"\"Lees data en retourneer regels.\"\"\"\n",
    "        try:\n",
    "            with open(data_path, \"r\", encoding=self.encoding) as data_file:\n",
    "                \n",
    "                # Eerste regel bevat kolomnamen\n",
    "                if self.header == True:\n",
    "                    header_line = next(data_file)\n",
    "                    self.header = self.parse_record(header_line)\n",
    "                \n",
    "                return data_file.readlines()\n",
    "        \n",
    "        except FileNotFoundError as error:\n",
    "            raise(f\"Kan bestand {path} niet vinden.\")\n",
    "        \n",
    "        except PermissionError as error:\n",
    "            raise(f\"Onvoldoende rechten om bestand {path} te lezen.\")\n",
    "\n",
    "    def parse_record(self, record):\n",
    "        \"\"\"Splits record in velden.\"\"\"\n",
    "        return [\n",
    "            self.try_numeric(value.strip())\n",
    "            for value in record.split(self.delimiter)\n",
    "        ]\n",
    "            \n",
    "    def parse_data(self, data):\n",
    "        \"\"\"Knip regels op in dicts.\"\"\"\n",
    "        \n",
    "        parsed = []\n",
    "        for record in data:\n",
    "            record = self.parse_record(record)\n",
    "            \n",
    "            # Maak dict als er een header is\n",
    "            if self.header:\n",
    "                if len(self.header) != len(record):\n",
    "                    raise ValueError(f\"Aantal kolommen niet consistent.\")\n",
    "                record = {name: value for name, value in zip(self.header, record)}\n",
    "            \n",
    "            parsed.append(record)\n",
    "            \n",
    "        return parsed\n",
    "        \n",
    "    def parse(self, data_path):\n",
    "        \"\"\"Verwerk een tekstbestand.\"\"\"\n",
    "        data = self.read_data(data_path)\n",
    "        data = self.parse_data(data)\n",
    "        \n",
    "        return data"
   ]
  },
  {
   "cell_type": "code",
   "execution_count": null,
   "id": "2bb5f3fb",
   "metadata": {},
   "outputs": [],
   "source": [
    "parser = CSVParser()\n",
    "parser.parse(\"dummy_data/delimited_data.csv\")"
   ]
  },
  {
   "cell_type": "code",
   "execution_count": null,
   "id": "50593536",
   "metadata": {},
   "outputs": [],
   "source": []
  },
  {
   "cell_type": "markdown",
   "id": "2f0ad9fd",
   "metadata": {},
   "source": [
    "### TSV Parser"
   ]
  },
  {
   "cell_type": "code",
   "execution_count": null,
   "id": "e4275f5e",
   "metadata": {},
   "outputs": [],
   "source": [
    "# TSVParser gebaseerd op CSV parser.\n",
    "# Merk op: CSVParser staat als parent tussen de haken.\n",
    "class TSVParser(CSVParser):\n",
    "    \"\"\"Class voor verwerken van CSV-bestanden.\"\"\"\n",
    "    \n",
    "    # Alleen scheidingsteken hoeft aangepast te worden\n",
    "    delimiter = \"\\t\""
   ]
  },
  {
   "cell_type": "code",
   "execution_count": null,
   "id": "08025345",
   "metadata": {},
   "outputs": [],
   "source": []
  },
  {
   "cell_type": "code",
   "execution_count": null,
   "id": "842f3a70",
   "metadata": {},
   "outputs": [],
   "source": [
    "parser = TSVParser()\n",
    "parser.parse(\"dummy_data/delimited_data.tsv\")"
   ]
  },
  {
   "cell_type": "code",
   "execution_count": null,
   "id": "479a1372",
   "metadata": {},
   "outputs": [],
   "source": []
  },
  {
   "cell_type": "markdown",
   "id": "cf6d9181",
   "metadata": {},
   "source": [
    "## Vaste kolommen"
   ]
  },
  {
   "cell_type": "code",
   "execution_count": null,
   "id": "c8dd1ffc",
   "metadata": {},
   "outputs": [],
   "source": [
    "# Merk op: FixedParser is gebaseerd op TextParser\n",
    "class FixedParser(CSVParser):\n",
    "    \"\"\"Verwerkt bestanden met vaste kolommen.\"\"\"\n",
    "    \n",
    "    # Aangepaste constructor\n",
    "    def __init__(self, column_widths, header=True, encoding=\"utf8\"):\n",
    "        # Gebruik constructor van de basis class\n",
    "        super().__init__(header, encoding)\n",
    "        self.column_widths = column_widths\n",
    "        \n",
    "    # Aangepaste verwerking voor regels\n",
    "    def parse_record(self, record):\n",
    "        \"\"\"Splits record in velden.\"\"\"\n",
    "        parsed = []\n",
    "        for width in self.column_widths:\n",
    "            # Splits waarde af van de rest van het record\n",
    "            value = self.try_numeric(record[0:width].strip())\n",
    "            parsed.append(value)\n",
    "            record = record[width:]\n",
    "        \n",
    "        return parsed"
   ]
  },
  {
   "cell_type": "code",
   "execution_count": null,
   "id": "aa1600cb",
   "metadata": {},
   "outputs": [],
   "source": [
    "parser = FixedParser([20, 20, 8])\n",
    "parser.parse(\"dummy_data/fixed_width_data.txt\")"
   ]
  },
  {
   "cell_type": "code",
   "execution_count": null,
   "id": "1a1651cc",
   "metadata": {},
   "outputs": [],
   "source": []
  }
 ],
 "metadata": {
  "kernelspec": {
   "display_name": "Python 3 (ipykernel)",
   "language": "python",
   "name": "python3"
  },
  "language_info": {
   "codemirror_mode": {
    "name": "ipython",
    "version": 3
   },
   "file_extension": ".py",
   "mimetype": "text/x-python",
   "name": "python",
   "nbconvert_exporter": "python",
   "pygments_lexer": "ipython3",
   "version": "3.7.7"
  }
 },
 "nbformat": 4,
 "nbformat_minor": 5
}
