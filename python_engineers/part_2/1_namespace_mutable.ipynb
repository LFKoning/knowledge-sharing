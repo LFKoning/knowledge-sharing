{
 "cells": [
  {
   "cell_type": "markdown",
   "id": "558c6ceb",
   "metadata": {},
   "source": [
    "### Namespaces"
   ]
  },
  {
   "cell_type": "code",
   "execution_count": null,
   "id": "912e5b35",
   "metadata": {},
   "outputs": [],
   "source": [
    "# Variabele in de globale namespace\n",
    "x = 1"
   ]
  },
  {
   "cell_type": "code",
   "execution_count": null,
   "id": "1adfe12f",
   "metadata": {},
   "outputs": [],
   "source": [
    "# Weergave van alle globale variabelen\n",
    "[\n",
    "    var for var in globals()\n",
    "    if not var.startswith(\"_\")\n",
    "]"
   ]
  },
  {
   "cell_type": "code",
   "execution_count": null,
   "id": "6431b561",
   "metadata": {},
   "outputs": [],
   "source": [
    "# Functies krijgen een eigen scope\n",
    "# De locals() functie geeft de lokale variabele weer\n",
    "def test():\n",
    "    y = 3\n",
    "    print(locals())\n",
    "\n",
    "\n",
    "test()"
   ]
  },
  {
   "cell_type": "code",
   "execution_count": null,
   "id": "5f988159",
   "metadata": {},
   "outputs": [],
   "source": [
    "# Je kunt functies (en dus scopes) \"nesten\"\n",
    "def buitenste():\n",
    "\n",
    "    y = 3\n",
    "    \n",
    "    # Definieer functie in een functie\n",
    "    def binnenste():\n",
    "        z = 4\n",
    "        print(f\"Lokaal in binnenste: {locals()}\")\n",
    "    \n",
    "\n",
    "    binnenste()\n",
    "    print(f\"Lokaal in buitenste: {locals()}\")\n",
    "\n",
    "    \n",
    "# Roep de funties aan\n",
    "buitenste()"
   ]
  },
  {
   "cell_type": "code",
   "execution_count": null,
   "id": "609c94b6",
   "metadata": {},
   "outputs": [],
   "source": []
  },
  {
   "cell_type": "markdown",
   "id": "9afc785f",
   "metadata": {},
   "source": [
    "### Zoekvolgorde scopes"
   ]
  },
  {
   "cell_type": "code",
   "execution_count": null,
   "id": "500f2f28",
   "metadata": {},
   "outputs": [],
   "source": [
    "# Merk op: Zoekvolgorde is lokaal => omvattend => globaal\n",
    "def buitenste():\n",
    "\n",
    "    def binnenste():\n",
    "        z = \"binnen\"\n",
    "        print(f\"x = {x}, y = {y}, z = {z}\")\n",
    "\n",
    "    y = \"buiten\"\n",
    "    binnenste()\n",
    "\n",
    "\n",
    "x = \"globaal\"\n",
    "buitenste()"
   ]
  },
  {
   "cell_type": "code",
   "execution_count": null,
   "id": "4d4dc5f3",
   "metadata": {},
   "outputs": [],
   "source": [
    "# Merk op: binnenste() zit niet in de globale namespace\n",
    "binnenste()"
   ]
  },
  {
   "cell_type": "markdown",
   "id": "cd9dd5a2",
   "metadata": {},
   "source": [
    "### Wijzigingen"
   ]
  },
  {
   "cell_type": "code",
   "execution_count": null,
   "id": "aaee6ddb",
   "metadata": {},
   "outputs": [],
   "source": [
    "# Lezen uit hoger scope werkt, maar wijzigen...\n",
    "x = \"initiele waarde\"\n",
    "\n",
    "def buitenste():\n",
    "    x = \"aangepaste waarde\"\n",
    "    print(f\"x in buitenste:  {x}\")\n",
    "    \n",
    "\n",
    "print(f\"x in globaal:    {x}\")\n",
    "buitenste()\n",
    "print(f\"x in globaal:    {x}\")"
   ]
  },
  {
   "cell_type": "code",
   "execution_count": null,
   "id": "5f9a0db2",
   "metadata": {},
   "outputs": [],
   "source": [
    "x = \"globaal\"\n",
    "\n",
    "def buitenste():\n",
    "\n",
    "    # Merk x aan als globale variabele\n",
    "    global x\n",
    "    \n",
    "    x = \"aangepast\"\n",
    "    print(f\"x in buitenste:  {x}\")\n",
    "    \n",
    "\n",
    "print(f\"x in globaal:    {x}\")\n",
    "buitenste()\n",
    "print(f\"x in globaal:    {x}\")"
   ]
  },
  {
   "cell_type": "code",
   "execution_count": null,
   "id": "9a5fc066",
   "metadata": {},
   "outputs": [],
   "source": [
    "# Hoe zit het bij een lijst waardes?\n",
    "x = [1, 2, 3]\n",
    "\n",
    "def buitenste():\n",
    "    x = [4, 5, 6]\n",
    "    print(f\"x in buitenste:  {x}\")\n",
    "    \n",
    "\n",
    "print(f\"x in globaal:    {x}\")\n",
    "buitenste()\n",
    "print(f\"x in globaal:    {x}\")"
   ]
  },
  {
   "cell_type": "code",
   "execution_count": null,
   "id": "c1d18763",
   "metadata": {},
   "outputs": [],
   "source": [
    "# Maar... wat als we slechts 1 waarde wijzigen?\n",
    "x = [1, 2, 3]\n",
    "\n",
    "def buitenste():\n",
    "    \n",
    "    # Merk op: Alleen eerste element wordt aangepast\n",
    "    x[0] = \"aangepast\"\n",
    "    print(f\"x in buitenste:  {x}\")\n",
    "    \n",
    "\n",
    "print(f\"x in globaal:    {x}\")\n",
    "buitenste()\n",
    "print(f\"x in globaal:    {x}\")"
   ]
  },
  {
   "cell_type": "code",
   "execution_count": null,
   "id": "21b13b13",
   "metadata": {},
   "outputs": [],
   "source": []
  },
  {
   "cell_type": "markdown",
   "id": "7c8f1b08",
   "metadata": {},
   "source": [
    "### Mutable of immutable"
   ]
  },
  {
   "cell_type": "code",
   "execution_count": null,
   "id": "a36627fd",
   "metadata": {},
   "outputs": [],
   "source": [
    "# Tuple en lijst met identieke waardes\n",
    "lst = [1, 2, 3]\n",
    "tpl = (1, 2, 3)"
   ]
  },
  {
   "cell_type": "code",
   "execution_count": null,
   "id": "d571a837",
   "metadata": {},
   "outputs": [],
   "source": [
    "# Lijst kun je wel aanpassen...\n",
    "lst[0] = 0\n",
    "lst"
   ]
  },
  {
   "cell_type": "code",
   "execution_count": null,
   "id": "faa1892a",
   "metadata": {},
   "outputs": [],
   "source": [
    "# Maar een tuple niet!\n",
    "tpl[0] = 1"
   ]
  },
  {
   "cell_type": "code",
   "execution_count": null,
   "id": "e153b4bd",
   "metadata": {},
   "outputs": [],
   "source": [
    "# Een string overigens ook niet\n",
    "txt = \"Hallo wereld!\"\n",
    "txt[0] = \"h\""
   ]
  },
  {
   "cell_type": "code",
   "execution_count": null,
   "id": "32f5576f",
   "metadata": {},
   "outputs": [],
   "source": [
    "# Unieke ID voor txt\n",
    "id(txt)"
   ]
  },
  {
   "cell_type": "code",
   "execution_count": null,
   "id": "d11e3ebf",
   "metadata": {},
   "outputs": [],
   "source": [
    "# Wijziging aan de string resulteert in nieuw ID\n",
    "id(txt.lower())"
   ]
  },
  {
   "cell_type": "code",
   "execution_count": null,
   "id": "baa3e1f8",
   "metadata": {},
   "outputs": [],
   "source": [
    "# Bij immutable hebben dezelfde waardes ook hetzelfde ID\n",
    "(1, 2, 3) is (1, 2, 3)"
   ]
  },
  {
   "cell_type": "code",
   "execution_count": null,
   "id": "c0f86e77",
   "metadata": {},
   "outputs": [],
   "source": [
    "# Maar bij mutable is dit niet het geval!\n",
    "[1, 2, 3] is [1, 2, 3]"
   ]
  },
  {
   "cell_type": "code",
   "execution_count": null,
   "id": "77b9cf58",
   "metadata": {},
   "outputs": [],
   "source": []
  },
  {
   "cell_type": "markdown",
   "id": "38d62c82",
   "metadata": {},
   "source": [
    "### Wat maakt het uit?"
   ]
  },
  {
   "cell_type": "code",
   "execution_count": null,
   "id": "166877ba",
   "metadata": {},
   "outputs": [],
   "source": [
    "def unieke_waardes(links, rechts):\n",
    "    \"\"\"Vind unieke waardes uit twee lijsten.\"\"\"\n",
    "    for waarde in rechts:\n",
    "        if waarde not in links:\n",
    "            links.append(waarde)\n",
    "    \n",
    "    return links"
   ]
  },
  {
   "cell_type": "code",
   "execution_count": null,
   "id": "08a382c2",
   "metadata": {},
   "outputs": [],
   "source": [
    "# Twee lijsten met waardes\n",
    "a = [1, 2, 3]\n",
    "b = [2, 4, 5]\n",
    "\n",
    "# Correcte output!\n",
    "uniek = unieke_waardes(a, b)\n",
    "uniek"
   ]
  },
  {
   "cell_type": "code",
   "execution_count": null,
   "id": "5c149f31",
   "metadata": {},
   "outputs": [],
   "source": [
    "# Maar.... a is ook veranderd!\n",
    "a"
   ]
  },
  {
   "cell_type": "code",
   "execution_count": null,
   "id": "50749fae",
   "metadata": {},
   "outputs": [],
   "source": []
  },
  {
   "cell_type": "code",
   "execution_count": null,
   "id": "ab077aaa",
   "metadata": {},
   "outputs": [],
   "source": [
    "# Standaard instellingen\n",
    "STANDAARD = {\n",
    "    \"voornaam\": \"<onbekend>\",\n",
    "    \"achternaam\": \"<onbekend>\",\n",
    "    \"leeftijd\": -1,\n",
    "}\n",
    "\n",
    "\n",
    "def standaard_settings(gebruiker_settings, standaard_settings):\n",
    "    \"\"\"Overschrijf standaard instellingen met gebruikersisntellingen.\"\"\"\n",
    "    \n",
    "    for setting, waarde in standaard_settings.items():\n",
    "        if setting in gebruiker_settings:\n",
    "            standaard_settings[setting] = gebruiker_settings[setting]\n",
    "    \n",
    "    return standaard_settings\n",
    "\n",
    "\n",
    "# Voeg instellingen samen\n",
    "standaard_settings({\"voornaam\": \"Lukas\"}, STANDAARD)"
   ]
  },
  {
   "cell_type": "code",
   "execution_count": null,
   "id": "e82d53f3",
   "metadata": {},
   "outputs": [],
   "source": [
    "# Oeps STANDAARD is ook gewijzigd!\n",
    "STANDAARD"
   ]
  },
  {
   "cell_type": "code",
   "execution_count": null,
   "id": "cc638450",
   "metadata": {},
   "outputs": [],
   "source": []
  },
  {
   "cell_type": "code",
   "execution_count": null,
   "id": "f3b34101",
   "metadata": {},
   "outputs": [],
   "source": [
    "# Pas ook op met standaard waardes voor argumenten!\n",
    "def unieke_namen(naam, namen=[]):\n",
    "    \"\"\"Naam opschonen en check uniek.\"\"\"\n",
    "    naam = naam.strip().lower()\n",
    "    \n",
    "    if not naam or len(naam) < 2:\n",
    "        return\n",
    "    \n",
    "    if naam not in namen:\n",
    "        namen.append(naam)\n",
    "    \n",
    "    return namen"
   ]
  },
  {
   "cell_type": "code",
   "execution_count": null,
   "id": "d772491d",
   "metadata": {},
   "outputs": [],
   "source": [
    "# Schoon een naam op\n",
    "unieke_namen(\"Henk  \")"
   ]
  },
  {
   "cell_type": "code",
   "execution_count": null,
   "id": "eb520e7b",
   "metadata": {},
   "outputs": [],
   "source": [
    "# En nog een...\n",
    "# Merk op: de naam Henk zit er extra bij!\n",
    "unieke_namen(\" Ingrid\")"
   ]
  },
  {
   "cell_type": "code",
   "execution_count": null,
   "id": "433a5568",
   "metadata": {},
   "outputs": [],
   "source": [
    "# Pas ook op met standaard waardes voor argumenten!\n",
    "def naam_opschonen(naam, namen=None):\n",
    "    \"\"\"Naam opschonen en check uniek.\"\"\"\n",
    "    \n",
    "    namen = namen or []\n",
    "    naam = naam.strip().lower()\n",
    "    \n",
    "    if naam and len(naam) > 2:\n",
    "        namen.append(naam)\n",
    "    \n",
    "    return namen"
   ]
  },
  {
   "cell_type": "code",
   "execution_count": null,
   "id": "612be136",
   "metadata": {},
   "outputs": [],
   "source": [
    "# Schoon twee namen op\n",
    "naam_opschonen(\"Henk  \")\n",
    "naam_opschonen(\" Ingrid\")"
   ]
  },
  {
   "cell_type": "code",
   "execution_count": null,
   "id": "7b2e4599",
   "metadata": {},
   "outputs": [],
   "source": []
  },
  {
   "cell_type": "code",
   "execution_count": null,
   "id": "b688d7f8",
   "metadata": {},
   "outputs": [],
   "source": [
    "# In Python kun je een lijst vermenigvuldigen\n",
    "[1, 2, 3] * 3"
   ]
  },
  {
   "cell_type": "code",
   "execution_count": null,
   "id": "cc4d6a88",
   "metadata": {},
   "outputs": [],
   "source": [
    "# Maak een 4 x 3 matrix met nullen\n",
    "dummy_data = [[0] * 3] * 4\n",
    "dummy_data"
   ]
  },
  {
   "cell_type": "code",
   "execution_count": null,
   "id": "3f76ab63",
   "metadata": {},
   "outputs": [],
   "source": [
    "# Overschrijf nu een waarde\n",
    "dummy_data[0][1] = 1"
   ]
  },
  {
   "cell_type": "code",
   "execution_count": null,
   "id": "14dfb190",
   "metadata": {},
   "outputs": [],
   "source": [
    "# Merk op dat alle records zijn gewijzigd!\n",
    "dummy_data"
   ]
  },
  {
   "cell_type": "code",
   "execution_count": null,
   "id": "f6ddac92",
   "metadata": {},
   "outputs": [],
   "source": []
  }
 ],
 "metadata": {
  "kernelspec": {
   "display_name": "Python 3 (ipykernel)",
   "language": "python",
   "name": "python3"
  },
  "language_info": {
   "codemirror_mode": {
    "name": "ipython",
    "version": 3
   },
   "file_extension": ".py",
   "mimetype": "text/x-python",
   "name": "python",
   "nbconvert_exporter": "python",
   "pygments_lexer": "ipython3",
   "version": "3.7.7"
  }
 },
 "nbformat": 4,
 "nbformat_minor": 5
}
