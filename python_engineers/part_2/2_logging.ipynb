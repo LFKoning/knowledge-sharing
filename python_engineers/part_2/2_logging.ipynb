{
 "cells": [
  {
   "cell_type": "code",
   "execution_count": null,
   "id": "d610e83a",
   "metadata": {},
   "outputs": [],
   "source": [
    "import logging"
   ]
  },
  {
   "cell_type": "markdown",
   "id": "a9516fcb",
   "metadata": {},
   "source": [
    "### Logger objecten"
   ]
  },
  {
   "cell_type": "code",
   "execution_count": null,
   "id": "987ac677",
   "metadata": {},
   "outputs": [],
   "source": [
    "# Als je getLogger() zonder naam gebruikt, krijg je de root logger terug\n",
    "# Merk op: standaard staat level op WARNING\n",
    "root_logger = logging.getLogger()\n",
    "root_logger"
   ]
  },
  {
   "cell_type": "code",
   "execution_count": null,
   "id": "147677e9",
   "metadata": {},
   "outputs": [],
   "source": [
    "# Door een naam op te geven, krijg je een eigen logger\n",
    "# Noot: deze logger valt onder de root logger\n",
    "test_logger = logging.getLogger(\"TestLogger\")\n",
    "test_logger"
   ]
  },
  {
   "cell_type": "code",
   "execution_count": null,
   "id": "0fa834df",
   "metadata": {},
   "outputs": [],
   "source": [
    "test_logger.warning(\"Oh nee!\")"
   ]
  },
  {
   "cell_type": "markdown",
   "id": "010249e4",
   "metadata": {},
   "source": [
    "### Logging format"
   ]
  },
  {
   "cell_type": "code",
   "execution_count": null,
   "id": "f64a09c6",
   "metadata": {},
   "outputs": [],
   "source": [
    "# Defineer logging format, vergelijkbaar met format() templates\n",
    "log_fmt = \"%(asctime)s | %(levelname)-8s | %(name)-20s | %(message)-40s\""
   ]
  },
  {
   "cell_type": "code",
   "execution_count": null,
   "id": "54ff57ab",
   "metadata": {},
   "outputs": [],
   "source": [
    "# Stel format in op de root logger\n",
    "# Merk op: met datefmt stel je weergave voor %(asctime)s in.\n",
    "logging.basicConfig(\n",
    "    format=log_fmt,\n",
    "    datefmt=\"%d-%m-%Y %H:%M:%S\",\n",
    "    level=logging.INFO,\n",
    ")"
   ]
  },
  {
   "cell_type": "code",
   "execution_count": null,
   "id": "f9556fd2",
   "metadata": {},
   "outputs": [],
   "source": [
    "# Logging direct via de root logger\n",
    "# Noot: Niet de nette manier...\n",
    "logging.info(\"Hallo wereld!\")\n",
    "logging.info(\"Hoe gaat het vandaag?\")"
   ]
  },
  {
   "cell_type": "code",
   "execution_count": null,
   "id": "1198312d",
   "metadata": {},
   "outputs": [],
   "source": [
    "# Logging via TestLogger\n",
    "# Merk op: Het logging format komt van de root logger\n",
    "# TestLogger rapporteert aan de root logger en print zelf niet.\n",
    "test_logger.info(\"Hello world!\")\n",
    "test_logger.info(\"How are you today?\")"
   ]
  },
  {
   "cell_type": "code",
   "execution_count": null,
   "id": "a7507f0e",
   "metadata": {},
   "outputs": [],
   "source": []
  },
  {
   "cell_type": "markdown",
   "id": "c7d312cc",
   "metadata": {},
   "source": [
    "### Handlers en Formatters"
   ]
  },
  {
   "cell_type": "code",
   "execution_count": null,
   "id": "bd4eb205",
   "metadata": {},
   "outputs": [],
   "source": [
    "# De root logger heeft standaard een StreamHandler\n",
    "root_logger.handlers"
   ]
  },
  {
   "cell_type": "code",
   "execution_count": null,
   "id": "65235021",
   "metadata": {},
   "outputs": [],
   "source": [
    "# TestLogger heeft geen handlers voor het produceren van output\n",
    "test_logger.handlers"
   ]
  },
  {
   "cell_type": "code",
   "execution_count": null,
   "id": "a97b7990",
   "metadata": {},
   "outputs": [],
   "source": [
    "# Beschikbare Handlers in logging\n",
    "for _ in dir(logging):\n",
    "    if not _.endswith(\"Handler\") or _.startswith(\"_\"):\n",
    "        continue\n",
    "    print(_)"
   ]
  },
  {
   "cell_type": "code",
   "execution_count": null,
   "id": "ff50623a",
   "metadata": {},
   "outputs": [],
   "source": [
    "# Beschikbare Handlers in logging.handlers\n",
    "for _ in dir(logging.handlers):\n",
    "    if not _.endswith(\"Handler\"):\n",
    "        continue\n",
    "    print(_)"
   ]
  },
  {
   "cell_type": "code",
   "execution_count": null,
   "id": "1e87078d",
   "metadata": {},
   "outputs": [],
   "source": [
    "# Maak een StreamHandler en voeg deze toe aan TestLogger\n",
    "test_handler = logging.StreamHandler()\n",
    "test_logger.addHandler(test_handler)\n",
    "\n",
    "# Merk op: TestLogger heeft nu wel een handler.\n",
    "test_logger.handlers"
   ]
  },
  {
   "cell_type": "code",
   "execution_count": null,
   "id": "990b5923",
   "metadata": {},
   "outputs": [],
   "source": [
    "# Log een bericht via TestLogger\n",
    "# Merk op: TestLogger en Rootlogger printen via hun eigen handler.\n",
    "# TestLogger gebruikt echter niet hetzelfde format.\n",
    "test_logger.info(\"Hi from TestLogger\")"
   ]
  },
  {
   "cell_type": "code",
   "execution_count": null,
   "id": "f832cb7d",
   "metadata": {},
   "outputs": [],
   "source": []
  },
  {
   "cell_type": "code",
   "execution_count": null,
   "id": "40495873",
   "metadata": {},
   "outputs": [],
   "source": [
    "# Maak een Formatter aan met CSV opmaak\n",
    "csv_format = \"%(asctime)s,%(levelname)s,%(name)s,%(message)s\"\n",
    "csv_formatter = logging.Formatter(csv_format, datefmt=\"%d-%m-%Y %H:%M:%S\")"
   ]
  },
  {
   "cell_type": "code",
   "execution_count": null,
   "id": "ca745204",
   "metadata": {},
   "outputs": [],
   "source": [
    "# Voeg de formatter toe aan de correcte handler\n",
    "test_handler.setFormatter(csv_formatter)"
   ]
  },
  {
   "cell_type": "code",
   "execution_count": null,
   "id": "d1997f8c",
   "metadata": {},
   "outputs": [],
   "source": [
    "# Merk op: TestLogger en Rootlogger printen via hun eigen handler.\n",
    "# TestLogger gebruikt echter niet hetzelfde format.\n",
    "test_logger.info(\"Hi from TestLogger\")"
   ]
  },
  {
   "cell_type": "code",
   "execution_count": null,
   "id": "9e60fc78",
   "metadata": {},
   "outputs": [],
   "source": []
  },
  {
   "cell_type": "code",
   "execution_count": null,
   "id": "df22caea",
   "metadata": {},
   "outputs": [],
   "source": [
    "# Maak een eenvoudige FileHandler aan en stel CSV format in\n",
    "file_handler = logging.FileHandler(\"test_logger.csv\")\n",
    "file_handler.setFormatter(csv_formatter)"
   ]
  },
  {
   "cell_type": "code",
   "execution_count": null,
   "id": "235c9296",
   "metadata": {},
   "outputs": [],
   "source": [
    "# Voeg toe aan TestLogger\n",
    "test_logger.addHandler(file_handler)\n",
    "\n",
    "# test_logger heeft nu 2 handlers\n",
    "test_logger.handlers"
   ]
  },
  {
   "cell_type": "code",
   "execution_count": null,
   "id": "67c02960",
   "metadata": {},
   "outputs": [],
   "source": [
    "# Log een aantal test berichten\n",
    "test_logger.info(\"Dit is test bericht 1 voor TestLogger\")\n",
    "test_logger.info(\"Dit is test bericht 2 voor TestLogger\")"
   ]
  },
  {
   "cell_type": "code",
   "execution_count": null,
   "id": "f0653f6b",
   "metadata": {},
   "outputs": [],
   "source": []
  }
 ],
 "metadata": {
  "kernelspec": {
   "display_name": "Python 3 (ipykernel)",
   "language": "python",
   "name": "python3"
  },
  "language_info": {
   "codemirror_mode": {
    "name": "ipython",
    "version": 3
   },
   "file_extension": ".py",
   "mimetype": "text/x-python",
   "name": "python",
   "nbconvert_exporter": "python",
   "pygments_lexer": "ipython3",
   "version": "3.7.7"
  }
 },
 "nbformat": 4,
 "nbformat_minor": 5
}
