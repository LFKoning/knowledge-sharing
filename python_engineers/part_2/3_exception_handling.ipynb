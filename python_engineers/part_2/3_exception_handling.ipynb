{
 "cells": [
  {
   "cell_type": "markdown",
   "id": "447d9ae7",
   "metadata": {},
   "source": [
    "### Standaard foutmeldingen"
   ]
  },
  {
   "cell_type": "code",
   "execution_count": null,
   "id": "15b91da7",
   "metadata": {},
   "outputs": [],
   "source": [
    "data = {\n",
    "    \"Henk\": [4, 9, 7],\n",
    "    \"Ingrid\": [],\n",
    "}\n",
    "    \n",
    "    \n",
    "def mean(values):\n",
    "    \"\"\"Compute the mean of a list of values.\"\"\"\n",
    "    return sum(values) / len(values)\n",
    "\n",
    "\n",
    "def main():\n",
    "    \"\"\"Main program logic\"\"\"\n",
    "    results = {}\n",
    "    for name, scores in data.items():\n",
    "        results[name] = mean(scores)\n",
    "\n",
    "\n",
    "main()"
   ]
  },
  {
   "cell_type": "code",
   "execution_count": null,
   "id": "d6ae8e73",
   "metadata": {},
   "outputs": [],
   "source": [
    "# Voeg exception handling toe aan main\n",
    "# Merk op: Zowel informatievere melding als andere afhandeling.\n",
    "def main():\n",
    "    \"\"\"Main program logic\"\"\"\n",
    "    results = {}\n",
    "    for name, scores in data.items():\n",
    "        try:\n",
    "            results[name] = mean(scores)\n",
    "        except ZeroDivisionError:\n",
    "            print(f\"WARNING: Cannot compute score for {name}, skipping...\")\n",
    "            results[name] = None\n",
    "\n",
    "main()"
   ]
  },
  {
   "cell_type": "code",
   "execution_count": null,
   "id": "9d009430",
   "metadata": {},
   "outputs": [],
   "source": []
  },
  {
   "cell_type": "markdown",
   "id": "88d4d75d",
   "metadata": {},
   "source": [
    "### Type fouten"
   ]
  },
  {
   "cell_type": "code",
   "execution_count": null,
   "id": "69c556ba",
   "metadata": {},
   "outputs": [],
   "source": [
    "data = {\n",
    "    \"Henk\": [4, 9, 7],\n",
    "    \"Ingrid\": [],\n",
    "    \"Piet\": [1, 2, \"a\"]\n",
    "}\n",
    "\n",
    "\n",
    "main()"
   ]
  },
  {
   "cell_type": "code",
   "execution_count": null,
   "id": "4230fc87",
   "metadata": {},
   "outputs": [],
   "source": [
    "# Vang meerdere types fouten op\n",
    "def main():\n",
    "    \"\"\"Main program logic\"\"\"\n",
    "    results = {}\n",
    "    for name, scores in data.items():\n",
    "        try:\n",
    "            results[name] = mean(scores)\n",
    "        \n",
    "        except ZeroDivisionError:\n",
    "            print(f\"WARNING: Cannot compute score for {name}, skipping...\")\n",
    "            results[name] = None\n",
    "        \n",
    "        except TypeError:\n",
    "            print(f\"WARNING: Non-numeric input for {name}, skipping...\")\n",
    "            results[name] = None\n",
    "            \n",
    "main()"
   ]
  },
  {
   "cell_type": "code",
   "execution_count": null,
   "id": "6b56dcc4",
   "metadata": {},
   "outputs": [],
   "source": []
  },
  {
   "cell_type": "code",
   "execution_count": null,
   "id": "a69832c3",
   "metadata": {},
   "outputs": [],
   "source": []
  }
 ],
 "metadata": {
  "kernelspec": {
   "display_name": "Python 3 (ipykernel)",
   "language": "python",
   "name": "python3"
  },
  "language_info": {
   "codemirror_mode": {
    "name": "ipython",
    "version": 3
   },
   "file_extension": ".py",
   "mimetype": "text/x-python",
   "name": "python",
   "nbconvert_exporter": "python",
   "pygments_lexer": "ipython3",
   "version": "3.7.7"
  }
 },
 "nbformat": 4,
 "nbformat_minor": 5
}
