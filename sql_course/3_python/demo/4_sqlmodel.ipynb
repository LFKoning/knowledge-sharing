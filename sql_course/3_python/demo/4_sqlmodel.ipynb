{
 "cells": [
  {
   "cell_type": "markdown",
   "metadata": {
    "vscode": {
     "languageId": "plaintext"
    }
   },
   "source": [
    "## Object Relation Model"
   ]
  },
  {
   "cell_type": "code",
   "execution_count": 2,
   "metadata": {},
   "outputs": [],
   "source": [
    "import os\n",
    "from sqlmodel import create_engine, Field, Session, select, SQLModel, Relationship"
   ]
  },
  {
   "cell_type": "markdown",
   "metadata": {},
   "source": [
    "### Single entity"
   ]
  },
  {
   "cell_type": "code",
   "execution_count": 2,
   "metadata": {},
   "outputs": [],
   "source": [
    "class Customer(SQLModel, table=True):\n",
    "    \"\"\"Class for managing customer data.\"\"\"\n",
    "\n",
    "    Id: int | None = Field(primary_key=True)\n",
    "    Name: str\n",
    "    Lastname: str\n",
    "    Age: int | None"
   ]
  },
  {
   "cell_type": "code",
   "execution_count": 3,
   "metadata": {},
   "outputs": [],
   "source": [
    "# Create a (SQLAlchemy) engine\n",
    "engine = create_engine(\"sqlite:///orm-test.db\", echo=True)"
   ]
  },
  {
   "cell_type": "code",
   "execution_count": null,
   "metadata": {},
   "outputs": [],
   "source": [
    "# Create tables based on the model metadata.\n",
    "SQLModel.metadata.create_all(engine)"
   ]
  },
  {
   "cell_type": "code",
   "execution_count": null,
   "metadata": {},
   "outputs": [],
   "source": [
    "# Create a customer object\n",
    "customer = Customer(Name=\"Ingrid\", Lastname=\"Jansen\")\n",
    "customer"
   ]
  },
  {
   "cell_type": "code",
   "execution_count": null,
   "metadata": {},
   "outputs": [],
   "source": [
    "# Create a session to the database.\n",
    "with Session(engine) as session:\n",
    "    # Add the customer record and commit.\n",
    "    session.add(customer)\n",
    "    session.commit()"
   ]
  },
  {
   "cell_type": "code",
   "execution_count": null,
   "metadata": {},
   "outputs": [],
   "source": [
    "sql_customers = []\n",
    "with Session(engine) as session:\n",
    "    # Create the select query.\n",
    "    query = select(Customer)\n",
    "\n",
    "    # Perform the query on the database.\n",
    "    result = session.exec(query)\n",
    "\n",
    "    # Fetch all results.\n",
    "    sql_customers = result.fetchall()\n"
   ]
  },
  {
   "cell_type": "code",
   "execution_count": null,
   "metadata": {},
   "outputs": [],
   "source": [
    "# Note that the results are Python / SQLModel objects!\n",
    "sql_customers"
   ]
  },
  {
   "cell_type": "code",
   "execution_count": 9,
   "metadata": {},
   "outputs": [],
   "source": [
    "# Delete the engine / close connection\n",
    "engine.dispose(close=True)\n",
    "os.remove(\"orm-test.db\")"
   ]
  },
  {
   "cell_type": "markdown",
   "metadata": {},
   "source": [
    "### Foreign Keys"
   ]
  },
  {
   "cell_type": "code",
   "execution_count": null,
   "metadata": {},
   "outputs": [],
   "source": [
    "class Address(SQLModel, table=True):\n",
    "    \"\"\"Class for managing address data.\"\"\"\n",
    "\n",
    "    __tablename__ = \"Addresses\"\n",
    "\n",
    "    AddressId: int | None = Field(primary_key=True)\n",
    "    Street: str\n",
    "    HouseNumber: str\n",
    "    PostCode: str\n",
    "\n",
    "\n",
    "class Customer(SQLModel, table=True):\n",
    "    \"\"\"Class for managing customer data.\"\"\"\n",
    "\n",
    "    __tablename__ = \"Customers\"\n",
    "\n",
    "    CustomerId: int | None = Field(primary_key=True)\n",
    "    Name: str\n",
    "    Lastname: str\n",
    "    Age: int | None\n",
    "\n",
    "    # Create a foreign key constraint.\n",
    "    AddressId: int = Field(foreign_key=\"Addresses.AddressId\")"
   ]
  },
  {
   "cell_type": "code",
   "execution_count": null,
   "metadata": {},
   "outputs": [],
   "source": [
    "engine = create_engine(\"sqlite:///orm-test.db\", echo=True)\n",
    "SQLModel.metadata.create_all(engine)"
   ]
  },
  {
   "cell_type": "code",
   "execution_count": 4,
   "metadata": {},
   "outputs": [],
   "source": [
    "# Create a session.\n",
    "session = Session(engine)"
   ]
  },
  {
   "cell_type": "code",
   "execution_count": 5,
   "metadata": {},
   "outputs": [],
   "source": [
    "# Define the address.\n",
    "address = Address(Street=\"Teststreet\", HouseNumber=42, PostCode=\"1234 AB\")\n",
    "\n",
    "# Define the customer without the address ID.\n",
    "customer = Customer(Name=\"John\", Lastname=\"Doe\", Age=42)"
   ]
  },
  {
   "cell_type": "code",
   "execution_count": null,
   "metadata": {},
   "outputs": [],
   "source": [
    "# Add the address first to generate an ID.\n",
    "session.add(address)\n",
    "\n",
    "# Flush the session to get the generated ID.\n",
    "session.flush()\n",
    "\n",
    "print(\"Generated Address ID: \", address.AddressId)"
   ]
  },
  {
   "cell_type": "code",
   "execution_count": 7,
   "metadata": {},
   "outputs": [],
   "source": [
    "# Link the address to the customer.\n",
    "customer.AddressId = address.AddressId\n",
    "\n",
    "# Now store the customer.\n",
    "session.add(customer)"
   ]
  },
  {
   "cell_type": "code",
   "execution_count": null,
   "metadata": {},
   "outputs": [],
   "source": [
    "# Commit the changes.\n",
    "session.commit()"
   ]
  },
  {
   "cell_type": "code",
   "execution_count": null,
   "metadata": {},
   "outputs": [],
   "source": [
    "# Read linked tables using where().\n",
    "query =  select(Customer, Address).where(Customer.AddressId == Address.AddressId)\n",
    "results = session.exec(query)\n",
    "\n",
    "for result in results.fetchall():\n",
    "    customer, address = result\n",
    "    print(\"-\" * 80)\n",
    "    print (\"Customer: \", customer)\n",
    "    print (\"Address:  \", address)\n"
   ]
  },
  {
   "cell_type": "code",
   "execution_count": null,
   "metadata": {},
   "outputs": [],
   "source": [
    "# Read linked tables using join().\n",
    "query =  select(Customer, Address).join(Address)\n",
    "results = session.exec(query)\n",
    "\n",
    "for result in results.fetchall():\n",
    "    customer, address = result\n",
    "    print(\"-\" * 80)\n",
    "    print (\"Customer: \", customer)\n",
    "    print (\"Address:  \", address)"
   ]
  },
  {
   "cell_type": "code",
   "execution_count": null,
   "metadata": {},
   "outputs": [],
   "source": [
    "# Delete the engine / close connection\n",
    "session.close()\n",
    "engine.dispose(close=True)\n",
    "os.remove(\"orm-test.db\")"
   ]
  },
  {
   "cell_type": "markdown",
   "metadata": {},
   "source": [
    "### Relationships"
   ]
  },
  {
   "cell_type": "code",
   "execution_count": null,
   "metadata": {},
   "outputs": [],
   "source": [
    "class Address(SQLModel, table=True):\n",
    "    \"\"\"Class for managing address data.\"\"\"\n",
    "\n",
    "    __tablename__ = \"Addresses\"\n",
    "\n",
    "    AddressId: int | None = Field(primary_key=True)\n",
    "    Street: str\n",
    "    HouseNumber: str\n",
    "    PostCode: str\n",
    "\n",
    "    # Define Customer relationship as an object property.\n",
    "    Customer: \"Customer\" = Relationship(back_populates=\"Adress\")\n",
    "\n",
    "\n",
    "class Customer(SQLModel, table=True):\n",
    "    \"\"\"Class for managing customer data.\"\"\"\n",
    "\n",
    "    __tablename__ = \"Customers\"\n",
    "\n",
    "    CustomerId: int | None = Field(primary_key=True)\n",
    "    Name: str\n",
    "    Lastname: str\n",
    "    Age: int | None\n",
    "\n",
    "    # Create a foreign key constraint.\n",
    "    AddressId: int = Field(foreign_key=\"Addresses.AddressId\")\n",
    "\n",
    "    # Define Address relationship as an object property.\n",
    "    Adress: Address = Relationship(back_populates=\"Customer\")"
   ]
  },
  {
   "cell_type": "code",
   "execution_count": null,
   "metadata": {},
   "outputs": [],
   "source": [
    "engine = create_engine(\"sqlite:///orm-test.db\", echo=True)\n",
    "SQLModel.metadata.create_all(engine)"
   ]
  },
  {
   "cell_type": "code",
   "execution_count": 5,
   "metadata": {},
   "outputs": [],
   "source": [
    "# Create session\n",
    "session = Session(engine)"
   ]
  },
  {
   "cell_type": "code",
   "execution_count": 6,
   "metadata": {},
   "outputs": [],
   "source": [
    "# Define the address.\n",
    "address = Address(Street=\"Teststreet\", HouseNumber=42, PostCode=\"1234 AB\")\n",
    "\n",
    "# Define the customer.\n",
    "# Note: The address object is passed along using the relationship!\n",
    "customer = Customer(Name=\"John\", Lastname=\"Doe\", Age=42, Adress=address)"
   ]
  },
  {
   "cell_type": "code",
   "execution_count": null,
   "metadata": {},
   "outputs": [],
   "source": [
    "# Store the customer\n",
    "# Note: The address is stored automatically!\n",
    "session.add(customer)\n",
    "session.commit()"
   ]
  },
  {
   "cell_type": "code",
   "execution_count": null,
   "metadata": {},
   "outputs": [],
   "source": [
    "query = select(Customer)\n",
    "customer = session.exec(query).one()\n",
    "customer"
   ]
  },
  {
   "cell_type": "code",
   "execution_count": null,
   "metadata": {},
   "outputs": [],
   "source": [
    "# Get the address via the relationship\n",
    "customer.Adress"
   ]
  },
  {
   "cell_type": "code",
   "execution_count": null,
   "metadata": {},
   "outputs": [],
   "source": [
    "# Access address properties directly.\n",
    "customer.Adress.Street"
   ]
  },
  {
   "cell_type": "code",
   "execution_count": null,
   "metadata": {},
   "outputs": [],
   "source": [
    "# Delete the engine / close connection\n",
    "session.close()\n",
    "engine.dispose(close=True)\n",
    "os.remove(\"orm-test.db\")"
   ]
  },
  {
   "cell_type": "code",
   "execution_count": null,
   "metadata": {},
   "outputs": [],
   "source": []
  }
 ],
 "metadata": {
  "kernelspec": {
   "display_name": "sql-course",
   "language": "python",
   "name": "python3"
  },
  "language_info": {
   "codemirror_mode": {
    "name": "ipython",
    "version": 3
   },
   "file_extension": ".py",
   "mimetype": "text/x-python",
   "name": "python",
   "nbconvert_exporter": "python",
   "pygments_lexer": "ipython3",
   "version": "3.11.11"
  }
 },
 "nbformat": 4,
 "nbformat_minor": 2
}
