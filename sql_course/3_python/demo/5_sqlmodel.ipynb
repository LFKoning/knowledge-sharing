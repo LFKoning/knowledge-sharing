{
 "cells": [
  {
   "cell_type": "markdown",
   "metadata": {
    "vscode": {
     "languageId": "plaintext"
    }
   },
   "source": [
    "## Object Relation Model"
   ]
  },
  {
   "cell_type": "code",
   "execution_count": 1,
   "metadata": {},
   "outputs": [],
   "source": [
    "import datetime as dt\n",
    "\n",
    "from sqlmodel import create_engine, Field, Session, select, SQLModel, Relationship"
   ]
  },
  {
   "cell_type": "markdown",
   "metadata": {},
   "source": [
    "### Single entity"
   ]
  },
  {
   "cell_type": "code",
   "execution_count": 2,
   "metadata": {},
   "outputs": [],
   "source": [
    "class TaskList(SQLModel, table=True):\n",
    "    \"\"\"Class for managing task lists.\"\"\"\n",
    "\n",
    "    ListId: int | None = Field(primary_key=True)\n",
    "    Name: str"
   ]
  },
  {
   "cell_type": "code",
   "execution_count": 16,
   "metadata": {},
   "outputs": [],
   "source": [
    "# Create a (SQLAlchemy) engine\n",
    "connection = create_engine(\"sqlite://\", echo=True)\n",
    "session = Session(connection)"
   ]
  },
  {
   "cell_type": "code",
   "execution_count": null,
   "metadata": {},
   "outputs": [],
   "source": [
    "# Create tables based on the model metadata.\n",
    "SQLModel.metadata.create_all(connection)"
   ]
  },
  {
   "cell_type": "code",
   "execution_count": null,
   "metadata": {},
   "outputs": [],
   "source": [
    "# Create a customer object\n",
    "my_list = TaskList(Name=\"House Keeping\")\n",
    "my_list"
   ]
  },
  {
   "cell_type": "code",
   "execution_count": null,
   "metadata": {},
   "outputs": [],
   "source": [
    "# Add the list record and commit.\n",
    "session.add(my_list)\n",
    "session.commit()"
   ]
  },
  {
   "cell_type": "code",
   "execution_count": null,
   "metadata": {},
   "outputs": [],
   "source": [
    "# Create the select query.\n",
    "query = select(TaskList)\n",
    "\n",
    "# Perform the query on the database.\n",
    "result = session.execute(query)\n",
    "\n",
    "# Fetch all results.\n",
    "# Note: Results are Python / SQLModel objects!\n",
    "result.fetchmany(3)\n"
   ]
  },
  {
   "cell_type": "code",
   "execution_count": null,
   "metadata": {},
   "outputs": [],
   "source": [
    "my_list.Name = \"New House Keeping\"\n",
    "session.add(my_list)\n",
    "session.commit()"
   ]
  },
  {
   "cell_type": "code",
   "execution_count": 21,
   "metadata": {},
   "outputs": [],
   "source": [
    "# Delete the engine / close connection\n",
    "connection.dispose(close=True)"
   ]
  },
  {
   "cell_type": "markdown",
   "metadata": {},
   "source": [
    "### Foreign Keys"
   ]
  },
  {
   "cell_type": "code",
   "execution_count": null,
   "metadata": {},
   "outputs": [],
   "source": [
    "class TaskList(SQLModel, table=True):\n",
    "    \"\"\"Class for managing task lists.\"\"\"\n",
    "\n",
    "    list_id: int | None = Field(primary_key=True)\n",
    "    name: str\n",
    "\n",
    "\n",
    "class Task(SQLModel, table=True):\n",
    "    \"\"\"Class for managing tasks.\"\"\"\n",
    "\n",
    "    # Task related fields\n",
    "    task_id: int | None = Field(primary_key=True)\n",
    "    description: str\n",
    "    state: str | None = \"New\"\n",
    "    updated: dt.datetime | None = dt.datetime.now()\n",
    "\n",
    "    # Foreign key to TaskList\n",
    "    list_id: int = Field(foreign_key=\"tasklist.list_id\")\n",
    "\n"
   ]
  },
  {
   "cell_type": "code",
   "execution_count": null,
   "metadata": {},
   "outputs": [],
   "source": [
    "# Start engine and create the data model.\n",
    "engine = create_engine(\"sqlite:///\", echo=True)\n",
    "SQLModel.metadata.create_all(engine)"
   ]
  },
  {
   "cell_type": "code",
   "execution_count": null,
   "metadata": {},
   "outputs": [],
   "source": [
    "# Create a session.\n",
    "session = Session(engine)"
   ]
  },
  {
   "cell_type": "code",
   "execution_count": null,
   "metadata": {},
   "outputs": [],
   "source": [
    "# Define a new task list.\n",
    "my_list = TaskList(name=\"House Keeping\")\n",
    "my_list"
   ]
  },
  {
   "cell_type": "code",
   "execution_count": null,
   "metadata": {},
   "outputs": [],
   "source": [
    "# Define a new task.\n",
    "first_task = Task(description=\"Walk the dog\")\n",
    "first_task"
   ]
  },
  {
   "cell_type": "code",
   "execution_count": null,
   "metadata": {},
   "outputs": [],
   "source": [
    "# Add the address first to generate an ID.\n",
    "session.add(my_list)\n",
    "\n",
    "# Flush the session to get the generated ID.\n",
    "session.flush()\n",
    "\n",
    "print(\"Generated Address ID: \", my_list.list_id)"
   ]
  },
  {
   "cell_type": "code",
   "execution_count": 11,
   "metadata": {},
   "outputs": [],
   "source": [
    "# Link the address to the customer.\n",
    "first_task.list_id = my_list.list_id\n",
    "\n",
    "# Now store the customer.\n",
    "session.add(first_task)"
   ]
  },
  {
   "cell_type": "code",
   "execution_count": null,
   "metadata": {},
   "outputs": [],
   "source": [
    "# Commit the changes.\n",
    "session.commit()"
   ]
  },
  {
   "cell_type": "code",
   "execution_count": null,
   "metadata": {},
   "outputs": [],
   "source": [
    "# Read linked tables using where().\n",
    "query =  select(TaskList, Task).join(Task)\n",
    "results = session.exec(query)\n",
    "\n",
    "# Print the results\n",
    "for result in results.fetchall():\n",
    "    tasklist, task = result\n",
    "    print(\"-\" * 80)\n",
    "    print (\"TaskList: \", tasklist)\n",
    "    print (\"Task:     \", task)\n"
   ]
  },
  {
   "cell_type": "code",
   "execution_count": null,
   "metadata": {},
   "outputs": [],
   "source": [
    "# Delete the engine / close connection\n",
    "session.close()\n",
    "engine.dispose(close=True)"
   ]
  },
  {
   "cell_type": "markdown",
   "metadata": {},
   "source": [
    "### Relationships"
   ]
  },
  {
   "cell_type": "code",
   "execution_count": 2,
   "metadata": {},
   "outputs": [],
   "source": [
    "class TaskList(SQLModel, table=True):\n",
    "    \"\"\"Class for managing task lists.\"\"\"\n",
    "\n",
    "    list_id: int | None = Field(primary_key=True)\n",
    "    name: str\n",
    "\n",
    "    # Define Task relationship as a property.\n",
    "    tasks: list[\"Task\"] = Relationship(back_populates=\"list\")\n",
    "\n",
    "\n",
    "class Task(SQLModel, table=True):\n",
    "    \"\"\"Class for managing tasks.\"\"\"\n",
    "\n",
    "    # Task related fields\n",
    "    task_id: int | None = Field(primary_key=True)\n",
    "    description: str\n",
    "    state: str | None = \"New\"\n",
    "    updated: dt.datetime | None = dt.datetime.now()\n",
    "\n",
    "    # Foreign key to TaskList\n",
    "    list_id: int = Field(foreign_key=\"tasklist.list_id\")\n",
    "\n",
    "    # Define list relationship as a  property.\n",
    "    list: TaskList = Relationship(back_populates=\"tasks\")"
   ]
  },
  {
   "cell_type": "code",
   "execution_count": null,
   "metadata": {},
   "outputs": [],
   "source": [
    "# Start engine and create the data model.\n",
    "engine = create_engine(\"sqlite:///\", echo=True)\n",
    "SQLModel.metadata.create_all(engine)"
   ]
  },
  {
   "cell_type": "code",
   "execution_count": 4,
   "metadata": {},
   "outputs": [],
   "source": [
    "# Create session\n",
    "session = Session(engine)"
   ]
  },
  {
   "cell_type": "code",
   "execution_count": 5,
   "metadata": {},
   "outputs": [],
   "source": [
    "# Define a Task.\n",
    "first_task = Task(description=\"Walk the dog\")"
   ]
  },
  {
   "cell_type": "code",
   "execution_count": 6,
   "metadata": {},
   "outputs": [],
   "source": [
    "# Define the TaskList.\n",
    "# Note: The Task object is passed along using the relationship!\n",
    "my_list = TaskList(name=\"House Keeping\", tasks=[first_task])"
   ]
  },
  {
   "cell_type": "code",
   "execution_count": null,
   "metadata": {},
   "outputs": [],
   "source": [
    "# Store the customer\n",
    "# Note: The address is stored automatically!\n",
    "session.add(my_list)\n",
    "session.commit()"
   ]
  },
  {
   "cell_type": "code",
   "execution_count": null,
   "metadata": {},
   "outputs": [],
   "source": [
    "query = select(TaskList)\n",
    "task_lists = session.exec(query).fetchall()\n",
    "task_lists"
   ]
  },
  {
   "cell_type": "code",
   "execution_count": null,
   "metadata": {},
   "outputs": [],
   "source": [
    "# Get the address via the relationship\n",
    "task_lists[0].tasks"
   ]
  },
  {
   "cell_type": "code",
   "execution_count": null,
   "metadata": {},
   "outputs": [],
   "source": [
    "# Access address properties directly.\n",
    "task_lists[0].tasks[0].description"
   ]
  },
  {
   "cell_type": "code",
   "execution_count": null,
   "metadata": {},
   "outputs": [],
   "source": [
    "# Delete the engine / close connection\n",
    "session.close()\n",
    "engine.dispose(close=True)"
   ]
  },
  {
   "cell_type": "code",
   "execution_count": null,
   "metadata": {},
   "outputs": [],
   "source": []
  }
 ],
 "metadata": {
  "kernelspec": {
   "display_name": "sql-course",
   "language": "python",
   "name": "python3"
  },
  "language_info": {
   "codemirror_mode": {
    "name": "ipython",
    "version": 3
   },
   "file_extension": ".py",
   "mimetype": "text/x-python",
   "name": "python",
   "nbconvert_exporter": "python",
   "pygments_lexer": "ipython3",
   "version": "3.11.11"
  }
 },
 "nbformat": 4,
 "nbformat_minor": 2
}
