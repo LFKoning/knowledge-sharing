{
 "cells": [
  {
   "cell_type": "markdown",
   "metadata": {},
   "source": [
    "## Transactions"
   ]
  },
  {
   "cell_type": "code",
   "execution_count": 1,
   "metadata": {},
   "outputs": [],
   "source": [
    "import os\n",
    "import sqlite3"
   ]
  },
  {
   "cell_type": "code",
   "execution_count": 2,
   "metadata": {},
   "outputs": [],
   "source": [
    "# Create the connection and enable foreign keys on it.\n",
    "db = sqlite3.connect(\"transactions.db\")"
   ]
  },
  {
   "cell_type": "code",
   "execution_count": 3,
   "metadata": {},
   "outputs": [],
   "source": [
    "cursor = db.cursor()"
   ]
  },
  {
   "cell_type": "markdown",
   "metadata": {},
   "source": [
    "#### Create tables"
   ]
  },
  {
   "cell_type": "code",
   "execution_count": null,
   "metadata": {},
   "outputs": [],
   "source": [
    "# Create the table for adresses.\n",
    "cursor.execute(\n",
    "    \"\"\"\n",
    "    CREATE TABLE Adressen (\n",
    "        AdresId INTEGER PRIMARY KEY,\n",
    "        Postcode TEXT NOT NULL,\n",
    "        Huisnummer INTEGER NOT NULL\n",
    "    );\n",
    "    \"\"\"\n",
    ")"
   ]
  },
  {
   "cell_type": "code",
   "execution_count": null,
   "metadata": {},
   "outputs": [],
   "source": [
    "# Create the customer table which references the adresses table.\n",
    "cursor.execute(\n",
    "    \"\"\"\n",
    "    CREATE TABLE Klanten (\n",
    "        KlantId INTEGER PRIMARY KEY,\n",
    "        LeverAdresId INTEGER NOT NULL,\n",
    "\n",
    "        Voornaam TEXT NOT NULL,\n",
    "        Achternaam TEXT NOT NULL,\n",
    "        GeboorteDatum DATE,\n",
    "\n",
    "        FOREIGN KEY(LeverAdresId) REFERENCES Adressen(AdresId)\n",
    "    );\n",
    "    \"\"\"\n",
    ")"
   ]
  },
  {
   "cell_type": "markdown",
   "metadata": {},
   "source": [
    "### Inserting data"
   ]
  },
  {
   "cell_type": "code",
   "execution_count": null,
   "metadata": {},
   "outputs": [],
   "source": [
    "# Default is to automatically commit changes.\n",
    "cursor.execute(\n",
    "    \"\"\"\n",
    "    INSERT INTO Adressen\n",
    "        (Postcode, Huisnummer)\n",
    "    VALUES\n",
    "        ('1111 AA', 1)\n",
    "    ;\n",
    "    \"\"\"\n",
    ")"
   ]
  },
  {
   "cell_type": "code",
   "execution_count": null,
   "metadata": {},
   "outputs": [],
   "source": [
    "# Seems like data was inserted...\n",
    "cursor.execute(\"SELECT * FROM Adressen\").fetchall()"
   ]
  },
  {
   "cell_type": "code",
   "execution_count": 8,
   "metadata": {},
   "outputs": [],
   "source": [
    "# But... no data visible when checking with DB Browser."
   ]
  },
  {
   "cell_type": "code",
   "execution_count": 9,
   "metadata": {},
   "outputs": [],
   "source": [
    "# Commit the changes to the database file.\n",
    "db.commit()"
   ]
  },
  {
   "cell_type": "code",
   "execution_count": 10,
   "metadata": {},
   "outputs": [],
   "source": [
    "# Check again with DB Browser."
   ]
  },
  {
   "cell_type": "markdown",
   "metadata": {},
   "source": [
    "### Explicit transactions"
   ]
  },
  {
   "cell_type": "code",
   "execution_count": null,
   "metadata": {},
   "outputs": [],
   "source": [
    "# Explicitly start a transaction.\n",
    "cursor.execute(\"BEGIN;\")"
   ]
  },
  {
   "cell_type": "code",
   "execution_count": null,
   "metadata": {},
   "outputs": [],
   "source": [
    "# Insert address first so we can refer to it.\n",
    "cursor.execute(\n",
    "    \"\"\"\n",
    "    INSERT INTO Adressen\n",
    "        (Postcode, Huisnummer)\n",
    "    VALUES\n",
    "        ('2222 BB', 2)\n",
    "    ;\n",
    "    \"\"\"\n",
    ")"
   ]
  },
  {
   "cell_type": "code",
   "execution_count": null,
   "metadata": {},
   "outputs": [],
   "source": [
    "# Get the automatically generated address ID.\n",
    "address_id = cursor.lastrowid\n",
    "address_id"
   ]
  },
  {
   "cell_type": "code",
   "execution_count": null,
   "metadata": {},
   "outputs": [],
   "source": [
    "# Create the customer with the generated address ID.\n",
    "cursor.execute(\n",
    "    \"\"\"\n",
    "    INSERT INTO Klanten\n",
    "        (Voornaam, Achternaam, GeboorteDatum, LeverAdresId)\n",
    "    VALUES\n",
    "        ('Ingrid', 'Jansen', '1984-09-06', ?)\n",
    "    ;\n",
    "    \"\"\",\n",
    "    [address_id]\n",
    ")"
   ]
  },
  {
   "cell_type": "code",
   "execution_count": 15,
   "metadata": {},
   "outputs": [],
   "source": [
    "# Verify nothing was actually inserted using DB Browser."
   ]
  },
  {
   "cell_type": "code",
   "execution_count": null,
   "metadata": {},
   "outputs": [],
   "source": [
    "# Everything was OK; commit changes to the database\n",
    "# Alternative: db.commit()\n",
    "cursor.execute(\"COMMIT;\")"
   ]
  },
  {
   "cell_type": "code",
   "execution_count": 17,
   "metadata": {},
   "outputs": [],
   "source": [
    "# Verify data was inserted to file using DB Browser."
   ]
  },
  {
   "cell_type": "code",
   "execution_count": null,
   "metadata": {},
   "outputs": [],
   "source": [
    "# Start a new transaction.\n",
    "cursor.execute(\"BEGIN;\")"
   ]
  },
  {
   "cell_type": "code",
   "execution_count": null,
   "metadata": {},
   "outputs": [],
   "source": [
    "# Insert another address and get the ID.\n",
    "cursor.execute(\n",
    "    \"\"\"\n",
    "    INSERT INTO Adressen\n",
    "        (Postcode, Huisnummer)\n",
    "    VALUES\n",
    "        ('3333 CC', 3)\n",
    "    ;\n",
    "    \"\"\"\n",
    ")\n",
    "address_id = cursor.lastrowid\n",
    "address_id"
   ]
  },
  {
   "cell_type": "code",
   "execution_count": null,
   "metadata": {},
   "outputs": [],
   "source": [
    "# Try to insert an invalid customer record...\n",
    "cursor.execute(\n",
    "    \"\"\"\n",
    "    INSERT INTO Klanten\n",
    "        (Voornaam, Achternaam, GeboorteDatum, LeverAdresId)\n",
    "    VALUES\n",
    "        (NULL, 'Knol', '1957-08-23', ?)\n",
    "    ;\n",
    "    \"\"\",\n",
    "    [address_id]\n",
    ")"
   ]
  },
  {
   "cell_type": "code",
   "execution_count": null,
   "metadata": {},
   "outputs": [],
   "source": [
    "# Roll back the pending address insert statement.\n",
    "# Alternative: db.rollback()\n",
    "cursor.execute(\"ROLLBACK;\")"
   ]
  },
  {
   "cell_type": "code",
   "execution_count": null,
   "metadata": {},
   "outputs": [],
   "source": [
    "# Note that adress insertion was reverted.\n",
    "db.execute(\"SELECT * FROM Adressen\").fetchall()"
   ]
  },
  {
   "cell_type": "markdown",
   "metadata": {},
   "source": [
    "\n",
    "### Handle exceptions"
   ]
  },
  {
   "cell_type": "code",
   "execution_count": 23,
   "metadata": {},
   "outputs": [],
   "source": [
    "# Define some data.\n",
    "customers = [\n",
    "    {\n",
    "        \"Voornaam\": \"Mark\",\n",
    "        \"Achternaam\": \"Vos\",\n",
    "        \"GeboorteDatum\": \"1977-07-27\",\n",
    "        \"Adres\": {\n",
    "            \"Postcode\": \"1234 AB\",\n",
    "            \"Huisnummer\": 1,\n",
    "            \"Toevoeging\": None,\n",
    "        }\n",
    "    },\n",
    "    {\n",
    "        \"Voornaam\": None,\n",
    "        \"Achternaam\": \"Jansen\",\n",
    "        \"GeboorteDatum\": \"1995-05-23\",\n",
    "        \"Adres\": {\n",
    "            \"Postcode\": \"4567 CD\",\n",
    "            \"Huisnummer\": 2,\n",
    "            \"Toevoeging\": None,\n",
    "        }\n",
    "    },\n",
    "]"
   ]
  },
  {
   "cell_type": "code",
   "execution_count": 24,
   "metadata": {},
   "outputs": [],
   "source": [
    "# Define templates for the queries.\n",
    "address_query = \"\"\"\n",
    "    INSERT INTO Adressen\n",
    "    (Postcode, Huisnummer)\n",
    "    VALUES (:Postcode, :Huisnummer);\n",
    "\"\"\"\n",
    "\n",
    "customer_query = \"\"\"\n",
    "    INSERT INTO Klanten\n",
    "        (Voornaam, Achternaam, GeboorteDatum, LeverAdresId)\n",
    "    VALUES (:Voornaam, :Achternaam, :GeboorteDatum, :LeverAdresId);\n",
    "\"\"\""
   ]
  },
  {
   "cell_type": "code",
   "execution_count": null,
   "metadata": {},
   "outputs": [],
   "source": [
    "for customer in customers:\n",
    "    # Use try ... except to handle integrity errors.\n",
    "    try:\n",
    "        cursor.execute(address_query, customer[\"Adres\"])\n",
    "        customer[\"LeverAdresId\"] = cursor.lastrowid\n",
    "\n",
    "        cursor.execute(customer_query, customer)\n",
    "        db.commit()\n",
    "\n",
    "        print(\n",
    "            f\"Succesfully inserted: {customer['Voornaam']} {customer['Achternaam']}\"\n",
    "        )\n",
    "\n",
    "    except sqlite3.IntegrityError as error:\n",
    "        print(\n",
    "            f\"Could not insert: {customer['Voornaam']} {customer['Achternaam']}\"\n",
    "        )\n",
    "        db.rollback()\n"
   ]
  },
  {
   "cell_type": "code",
   "execution_count": 26,
   "metadata": {},
   "outputs": [],
   "source": [
    "# Clean up.\n",
    "cursor.close()\n",
    "db.close()\n",
    "os.remove(\"transactions.db\")"
   ]
  },
  {
   "cell_type": "code",
   "execution_count": null,
   "metadata": {},
   "outputs": [],
   "source": []
  }
 ],
 "metadata": {
  "kernelspec": {
   "display_name": "sql-course",
   "language": "python",
   "name": "python3"
  },
  "language_info": {
   "codemirror_mode": {
    "name": "ipython",
    "version": 3
   },
   "file_extension": ".py",
   "mimetype": "text/x-python",
   "name": "python",
   "nbconvert_exporter": "python",
   "pygments_lexer": "ipython3",
   "version": "3.11.11"
  }
 },
 "nbformat": 4,
 "nbformat_minor": 2
}
