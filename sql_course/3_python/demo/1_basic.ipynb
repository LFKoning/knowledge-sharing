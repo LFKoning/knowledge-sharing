{
 "cells": [
  {
   "cell_type": "code",
   "execution_count": 1,
   "metadata": {},
   "outputs": [],
   "source": [
    "import sqlite3\n",
    "import datetime as dt"
   ]
  },
  {
   "cell_type": "code",
   "execution_count": 2,
   "metadata": {},
   "outputs": [
    {
     "data": {
      "text/plain": [
       "(2, 6, 0)"
      ]
     },
     "execution_count": 2,
     "metadata": {},
     "output_type": "execute_result"
    }
   ],
   "source": [
    "# Check the API version.\n",
    "sqlite3.version_info"
   ]
  },
  {
   "cell_type": "code",
   "execution_count": 3,
   "metadata": {},
   "outputs": [
    {
     "data": {
      "text/plain": [
       "'3.45.3'"
      ]
     },
     "execution_count": 3,
     "metadata": {},
     "output_type": "execute_result"
    }
   ],
   "source": [
    "# Check the underlying SQLite version.\n",
    "sqlite3.sqlite_version"
   ]
  },
  {
   "cell_type": "code",
   "execution_count": 4,
   "metadata": {},
   "outputs": [
    {
     "data": {
      "text/plain": [
       "<sqlite3.Connection at 0x1ee277f5e40>"
      ]
     },
     "execution_count": 4,
     "metadata": {},
     "output_type": "execute_result"
    }
   ],
   "source": [
    "# Connect to an in-memory database.\n",
    "db = sqlite3.connect(\":memory:\")\n",
    "db"
   ]
  },
  {
   "cell_type": "code",
   "execution_count": 5,
   "metadata": {},
   "outputs": [
    {
     "data": {
      "text/plain": [
       "<sqlite3.Cursor at 0x1ee2795ac40>"
      ]
     },
     "execution_count": 5,
     "metadata": {},
     "output_type": "execute_result"
    }
   ],
   "source": [
    "# Create a Cursor object.\n",
    "cursor = db.cursor()\n",
    "cursor"
   ]
  },
  {
   "cell_type": "code",
   "execution_count": 6,
   "metadata": {},
   "outputs": [
    {
     "name": "stdout",
     "output_type": "stream",
     "text": [
      "arraysize\n",
      "close\n",
      "connection\n",
      "description\n",
      "execute\n",
      "executemany\n",
      "executescript\n",
      "fetchall\n",
      "fetchmany\n",
      "fetchone\n",
      "lastrowid\n",
      "row_factory\n",
      "rowcount\n",
      "setinputsizes\n",
      "setoutputsize\n"
     ]
    }
   ],
   "source": [
    "# Attributes from the Cursor.\n",
    "# - execute methods -> Perform SQL statements.\n",
    "# - fetch methods   -> Fetch data from a SELECT resultset.\n",
    "# - description     -> Metadata for a SELECT resultset.\n",
    "# - rowcount        -> Rows affected by the last SQL statement.\n",
    "for attribute in dir(cursor):\n",
    "    if attribute.startswith(\"_\"):\n",
    "        continue\n",
    "    print(attribute)"
   ]
  },
  {
   "cell_type": "markdown",
   "metadata": {},
   "source": [
    "## Create table and data"
   ]
  },
  {
   "cell_type": "code",
   "execution_count": 7,
   "metadata": {},
   "outputs": [
    {
     "data": {
      "text/plain": [
       "<sqlite3.Cursor at 0x1ee2795ac40>"
      ]
     },
     "execution_count": 7,
     "metadata": {},
     "output_type": "execute_result"
    }
   ],
   "source": [
    "cursor.execute(\"DROP TABLE IF EXISTS Klanten;\")"
   ]
  },
  {
   "cell_type": "code",
   "execution_count": 8,
   "metadata": {},
   "outputs": [
    {
     "data": {
      "text/plain": [
       "<sqlite3.Cursor at 0x1ee2795ac40>"
      ]
     },
     "execution_count": 8,
     "metadata": {},
     "output_type": "execute_result"
    }
   ],
   "source": [
    "# Create a customer table.\n",
    "cursor.execute(\n",
    "    \"\"\"\n",
    "    CREATE TABLE Klanten (\n",
    "        KlantId INTEGER,\n",
    "        Voornaam TEXT,\n",
    "        Achternaam TEXT NOT NULL,\n",
    "        GeboorteDatum DATE,\n",
    "        PRIMARY KEY(KlantId)\n",
    "    );\n",
    "    \"\"\"\n",
    ")"
   ]
  },
  {
   "cell_type": "code",
   "execution_count": 9,
   "metadata": {},
   "outputs": [
    {
     "data": {
      "text/plain": [
       "<sqlite3.Cursor at 0x1ee2795ac40>"
      ]
     },
     "execution_count": 9,
     "metadata": {},
     "output_type": "execute_result"
    }
   ],
   "source": [
    "# Insert two new customers.\n",
    "cursor.execute(\n",
    "    \"\"\"\n",
    "    INSERT INTO Klanten\n",
    "        (Voornaam, Achternaam, GeboorteDatum)\n",
    "    VALUES\n",
    "        ('Ingrid', 'Jansen', '1984-09-06'),\n",
    "        ('Henk', 'Knol', '1957-08-23')\n",
    "    ;\n",
    "    \"\"\"\n",
    ")"
   ]
  },
  {
   "cell_type": "code",
   "execution_count": 10,
   "metadata": {},
   "outputs": [
    {
     "data": {
      "text/plain": [
       "2"
      ]
     },
     "execution_count": 10,
     "metadata": {},
     "output_type": "execute_result"
    }
   ],
   "source": [
    "# Verify the insert statement worked...\n",
    "cursor.rowcount"
   ]
  },
  {
   "cell_type": "markdown",
   "metadata": {},
   "source": [
    "## Select data"
   ]
  },
  {
   "cell_type": "code",
   "execution_count": 11,
   "metadata": {},
   "outputs": [
    {
     "data": {
      "text/plain": [
       "<sqlite3.Cursor at 0x1ee2795ac40>"
      ]
     },
     "execution_count": 11,
     "metadata": {},
     "output_type": "execute_result"
    }
   ],
   "source": [
    "# Perform a SELECT query.\n",
    "cursor.execute(\"SELECT * FROM Klanten\")"
   ]
  },
  {
   "cell_type": "code",
   "execution_count": 12,
   "metadata": {},
   "outputs": [
    {
     "data": {
      "text/plain": [
       "-1"
      ]
     },
     "execution_count": 12,
     "metadata": {},
     "output_type": "execute_result"
    }
   ],
   "source": [
    "# No rowcount\n",
    "cursor.rowcount"
   ]
  },
  {
   "cell_type": "code",
   "execution_count": 13,
   "metadata": {},
   "outputs": [
    {
     "data": {
      "text/plain": [
       "(('KlantId', None, None, None, None, None, None),\n",
       " ('Voornaam', None, None, None, None, None, None),\n",
       " ('Achternaam', None, None, None, None, None, None),\n",
       " ('GeboorteDatum', None, None, None, None, None, None))"
      ]
     },
     "execution_count": 13,
     "metadata": {},
     "output_type": "execute_result"
    }
   ],
   "source": [
    "# Look at the metadata\n",
    "# - name\n",
    "# - type_code\n",
    "# - display_size\n",
    "# - internal_size\n",
    "# - precision\n",
    "# - scale\n",
    "# - null_ok\n",
    "cursor.description"
   ]
  },
  {
   "cell_type": "code",
   "execution_count": 14,
   "metadata": {},
   "outputs": [
    {
     "data": {
      "text/plain": [
       "['KlantId', 'Voornaam', 'Achternaam', 'GeboorteDatum']"
      ]
     },
     "execution_count": 14,
     "metadata": {},
     "output_type": "execute_result"
    }
   ],
   "source": [
    "# Extract column names from the description.\n",
    "column_names = [field_meta[0] for field_meta in cursor.description]\n",
    "column_names"
   ]
  },
  {
   "cell_type": "code",
   "execution_count": 15,
   "metadata": {},
   "outputs": [
    {
     "data": {
      "text/plain": [
       "(1, 'Ingrid', 'Jansen', '1984-09-06')"
      ]
     },
     "execution_count": 15,
     "metadata": {},
     "output_type": "execute_result"
    }
   ],
   "source": [
    "# Use fetch methods to get the data.\n",
    "row = cursor.fetchone()\n",
    "row"
   ]
  },
  {
   "cell_type": "code",
   "execution_count": 16,
   "metadata": {},
   "outputs": [
    {
     "data": {
      "text/plain": [
       "tuple"
      ]
     },
     "execution_count": 16,
     "metadata": {},
     "output_type": "execute_result"
    }
   ],
   "source": [
    "# Row is a simple tuple.\n",
    "type(row)"
   ]
  },
  {
   "cell_type": "code",
   "execution_count": 17,
   "metadata": {},
   "outputs": [
    {
     "data": {
      "text/plain": [
       "{'KlantId': 1,\n",
       " 'Voornaam': 'Ingrid',\n",
       " 'Achternaam': 'Jansen',\n",
       " 'GeboorteDatum': '1984-09-06'}"
      ]
     },
     "execution_count": 17,
     "metadata": {},
     "output_type": "execute_result"
    }
   ],
   "source": [
    "# Convert to dict.\n",
    "dict(zip(column_names, row))"
   ]
  },
  {
   "cell_type": "markdown",
   "metadata": {},
   "source": [
    "## Row Factory"
   ]
  },
  {
   "cell_type": "code",
   "execution_count": 18,
   "metadata": {},
   "outputs": [],
   "source": [
    "# Set a row factory.\n",
    "db.row_factory = sqlite3.Row"
   ]
  },
  {
   "cell_type": "code",
   "execution_count": 19,
   "metadata": {},
   "outputs": [],
   "source": [
    "# Create a new cursor using the row factory.\n",
    "cursor = db.cursor()"
   ]
  },
  {
   "cell_type": "code",
   "execution_count": 20,
   "metadata": {},
   "outputs": [],
   "source": [
    "# Perform a query and fetch the first row.\n",
    "cursor.execute(\"SELECT * FROM Klanten;\")\n",
    "row = cursor.fetchone()"
   ]
  },
  {
   "cell_type": "code",
   "execution_count": 21,
   "metadata": {},
   "outputs": [
    {
     "data": {
      "text/plain": [
       "sqlite3.Row"
      ]
     },
     "execution_count": 21,
     "metadata": {},
     "output_type": "execute_result"
    }
   ],
   "source": [
    "# Note that result is now a Row object.\n",
    "type(row)"
   ]
  },
  {
   "cell_type": "code",
   "execution_count": 22,
   "metadata": {},
   "outputs": [
    {
     "data": {
      "text/plain": [
       "['KlantId', 'Voornaam', 'Achternaam', 'GeboorteDatum']"
      ]
     },
     "execution_count": 22,
     "metadata": {},
     "output_type": "execute_result"
    }
   ],
   "source": [
    "# Get the column names from the Row object.\n",
    "row.keys()"
   ]
  },
  {
   "cell_type": "code",
   "execution_count": 23,
   "metadata": {},
   "outputs": [
    {
     "data": {
      "text/plain": [
       "'Ingrid'"
      ]
     },
     "execution_count": 23,
     "metadata": {},
     "output_type": "execute_result"
    }
   ],
   "source": [
    "# Index by column name.\n",
    "row[\"Voornaam\"]"
   ]
  },
  {
   "cell_type": "code",
   "execution_count": 24,
   "metadata": {},
   "outputs": [
    {
     "data": {
      "text/plain": [
       "'Ingrid'"
      ]
     },
     "execution_count": 24,
     "metadata": {},
     "output_type": "execute_result"
    }
   ],
   "source": [
    "# Or by index.\n",
    "row[1]"
   ]
  },
  {
   "cell_type": "markdown",
   "metadata": {},
   "source": [
    "### Insert data from Python"
   ]
  },
  {
   "cell_type": "code",
   "execution_count": 26,
   "metadata": {},
   "outputs": [],
   "source": [
    "# Customer data as dict.\n",
    "customer = {\n",
    "    \"Voornaam\": \"Maria\",\n",
    "    \"Achternaam\": \"Klomp\",\n",
    "    \"GeboorteDatum\": dt.date(1990, 5, 7)\n",
    "}\n"
   ]
  },
  {
   "cell_type": "code",
   "execution_count": 27,
   "metadata": {},
   "outputs": [],
   "source": [
    "# Define query as a string template...\n",
    "template = \"\"\"\n",
    "    INSERT INTO Klanten\n",
    "        (Voornaam, Achternaam, GeboorteDatum)\n",
    "    VALUES (\n",
    "        '{Voornaam}', '{Achternaam}', '{GeboorteDatum}'\n",
    "    );\n",
    "\"\"\""
   ]
  },
  {
   "cell_type": "code",
   "execution_count": 28,
   "metadata": {},
   "outputs": [
    {
     "name": "stdout",
     "output_type": "stream",
     "text": [
      "\n",
      "    INSERT INTO Klanten\n",
      "        (Voornaam, Achternaam, GeboorteDatum)\n",
      "    VALUES (\n",
      "        'Maria', 'Klomp', '1990-05-07'\n",
      "    );\n",
      "\n"
     ]
    }
   ],
   "source": [
    "# Insert values using Python formatting...\n",
    "print(template.format(**customer))"
   ]
  },
  {
   "cell_type": "code",
   "execution_count": 29,
   "metadata": {},
   "outputs": [],
   "source": [
    "# Customer data with missing value.\n",
    "customer = {\n",
    "    \"Voornaam\": \"Maria\",\n",
    "    \"Achternaam\": \"Klomp\",\n",
    "    \"GeboorteDatum\": None,\n",
    "}"
   ]
  },
  {
   "cell_type": "code",
   "execution_count": 30,
   "metadata": {},
   "outputs": [
    {
     "name": "stdout",
     "output_type": "stream",
     "text": [
      "\n",
      "    INSERT INTO Klanten\n",
      "        (Voornaam, Achternaam, GeboorteDatum)\n",
      "    VALUES (\n",
      "        'Maria', 'Klomp', 'None'\n",
      "    );\n",
      "\n"
     ]
    }
   ],
   "source": [
    "# Bad idea...\n",
    "print(template.format(**customer))"
   ]
  },
  {
   "cell_type": "code",
   "execution_count": 34,
   "metadata": {},
   "outputs": [],
   "source": [
    "# Customer selection query template.\n",
    "template = \"SELECT * FROM Klanten WHERE Achternaam = '{lastname}'\""
   ]
  },
  {
   "cell_type": "code",
   "execution_count": 35,
   "metadata": {},
   "outputs": [
    {
     "data": {
      "text/plain": [
       "\"SELECT * FROM Klanten WHERE Achternaam = 'x' OR 1 = 1 OR 'x'\""
      ]
     },
     "execution_count": 35,
     "metadata": {},
     "output_type": "execute_result"
    }
   ],
   "source": [
    "# Craft a condition that is always true...\n",
    "lastname = \"x' OR 1 = 1 OR 'x\"\n",
    "formatted = template.format(lastname=lastname)\n",
    "formatted\n"
   ]
  },
  {
   "cell_type": "code",
   "execution_count": 41,
   "metadata": {},
   "outputs": [
    {
     "name": "stdout",
     "output_type": "stream",
     "text": [
      "{'KlantId': 1, 'Voornaam': 'Ingrid', 'Achternaam': 'Jansen', 'GeboorteDatum': '1984-09-06'}\n",
      "{'KlantId': 2, 'Voornaam': 'Henk', 'Achternaam': 'Knol', 'GeboorteDatum': '1957-08-23'}\n"
     ]
    }
   ],
   "source": [
    "# Query returns all our customer data!\n",
    "for row in cursor.execute(formatted).fetchall():\n",
    "    print(dict(row))"
   ]
  },
  {
   "cell_type": "code",
   "execution_count": null,
   "metadata": {},
   "outputs": [],
   "source": [
    "# Good idea: Use a parametrized query.\n",
    "cursor.execute(\n",
    "    \"\"\"\n",
    "    INSERT INTO Klanten\n",
    "        (Voornaam, Achternaam, GeboorteDatum)\n",
    "    VALUES (:Voornaam, :Achternaam, :GeboorteDatum);\n",
    "    \"\"\",\n",
    "    customer\n",
    ")\n",
    "cursor.rowcount"
   ]
  },
  {
   "cell_type": "code",
   "execution_count": null,
   "metadata": {},
   "outputs": [],
   "source": [
    "# Using positional parameters.\n",
    "cursor.execute(\n",
    "    \"\"\"\n",
    "    INSERT INTO Klanten\n",
    "        (Voornaam, Achternaam, GeboorteDatum)\n",
    "    VALUES (?, ?, ?);\n",
    "    \"\"\",\n",
    "    (\"Piet\", \"Klaassen\", dt.date(1978, 9, 4))\n",
    ")\n",
    "cursor.rowcount"
   ]
  },
  {
   "cell_type": "code",
   "execution_count": null,
   "metadata": {},
   "outputs": [],
   "source": [
    "# List of customer records.\n",
    "customers = [\n",
    "    {\"Voornaam\": \"Noah\", \"Achternaam\": \"Versteeg\", \"GeboorteDatum\": None},\n",
    "    {\"Voornaam\": \"Mark\", \"Achternaam\": \"Vos\", \"GeboorteDatum\": dt.date(1998, 1, 4)},\n",
    "    {\"Voornaam\": \"Bart\", \"Achternaam\": \"Poot\", \"GeboorteDatum\": dt.date(1955, 8, 21)},\n",
    "]"
   ]
  },
  {
   "cell_type": "code",
   "execution_count": null,
   "metadata": {},
   "outputs": [],
   "source": [
    "# Insert all customers in one go!\n",
    "cursor.executemany(\n",
    "    \"\"\"\n",
    "    INSERT INTO Klanten\n",
    "        (Voornaam, Achternaam, GeboorteDatum)\n",
    "    VALUES (:Voornaam, :Achternaam, :GeboorteDatum);\n",
    "    \"\"\",\n",
    "    customers\n",
    ")\n",
    "cursor.rowcount"
   ]
  },
  {
   "cell_type": "code",
   "execution_count": null,
   "metadata": {},
   "outputs": [],
   "source": []
  }
 ],
 "metadata": {
  "kernelspec": {
   "display_name": "sql-course",
   "language": "python",
   "name": "python3"
  },
  "language_info": {
   "codemirror_mode": {
    "name": "ipython",
    "version": 3
   },
   "file_extension": ".py",
   "mimetype": "text/x-python",
   "name": "python",
   "nbconvert_exporter": "python",
   "pygments_lexer": "ipython3",
   "version": "3.11.11"
  }
 },
 "nbformat": 4,
 "nbformat_minor": 2
}
