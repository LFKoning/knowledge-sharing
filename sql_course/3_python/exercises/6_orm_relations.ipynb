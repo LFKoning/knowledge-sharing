{
 "cells": [
  {
   "cell_type": "code",
   "execution_count": 1,
   "metadata": {},
   "outputs": [],
   "source": [
    "import datetime as dt\n",
    "\n",
    "from sqlmodel import create_engine, Field, Session, select, SQLModel, Relationship"
   ]
  },
  {
   "cell_type": "code",
   "execution_count": 2,
   "metadata": {},
   "outputs": [],
   "source": [
    "class TaskList(SQLModel, table=True):\n",
    "    \"\"\"Class for managing task lists.\"\"\"\n",
    "\n",
    "    # Standard attributes.\n",
    "    list_id: int | None = Field(primary_key=True)\n",
    "    name: str\n",
    "\n",
    "    # Add tasks property as a Relationship to Task.list\n",
    "    ...\n",
    "\n",
    "    def add(self, description):\n",
    "        \"\"\"Add a task to the list.\"\"\"\n",
    "        new_task = Task(description=description)\n",
    "        self.tasks.append(new_task)\n",
    "\n",
    "\n",
    "class Task(SQLModel, table=True):\n",
    "    \"\"\"Class for managing tasks.\"\"\"\n",
    "\n",
    "    # Standard attributes.\n",
    "    task_id: int | None = Field(primary_key=True)\n",
    "    description: str\n",
    "    state: str | None = \"New\"\n",
    "    updated: dt.datetime | None = dt.datetime.now()\n",
    "\n",
    "    # Add a foreign key referring to list_id in table tasklist.\n",
    "    list_id: int = ...\n",
    "\n",
    "    # Add list property as a Relationship to TaskList.tasks\n",
    "    ..."
   ]
  },
  {
   "cell_type": "code",
   "execution_count": 3,
   "metadata": {},
   "outputs": [],
   "source": [
    "# Create a SQLite connection and session.\n",
    "connection = create_engine(\"sqlite:///6_orm_relations.db\", echo=True)\n",
    "session = Session(connection)"
   ]
  },
  {
   "cell_type": "code",
   "execution_count": null,
   "metadata": {},
   "outputs": [],
   "source": [
    "# Use the metadata to create all tables.\n",
    "SQLModel.metadata.create_all(connection)"
   ]
  },
  {
   "cell_type": "code",
   "execution_count": 5,
   "metadata": {},
   "outputs": [],
   "source": [
    "# Create a new TaskList."
   ]
  },
  {
   "cell_type": "code",
   "execution_count": 6,
   "metadata": {},
   "outputs": [],
   "source": [
    "# Add a few tasks using the add method of the TaskList."
   ]
  },
  {
   "cell_type": "code",
   "execution_count": null,
   "metadata": {},
   "outputs": [],
   "source": [
    "# Check the tasks property of your TaskList."
   ]
  },
  {
   "cell_type": "code",
   "execution_count": null,
   "metadata": {},
   "outputs": [],
   "source": [
    "# Store the TaskList in the database."
   ]
  },
  {
   "cell_type": "code",
   "execution_count": null,
   "metadata": {},
   "outputs": [],
   "source": [
    "# Check the data using DB Browser."
   ]
  }
 ],
 "metadata": {
  "kernelspec": {
   "display_name": "sql-course",
   "language": "python",
   "name": "python3"
  },
  "language_info": {
   "codemirror_mode": {
    "name": "ipython",
    "version": 3
   },
   "file_extension": ".py",
   "mimetype": "text/x-python",
   "name": "python",
   "nbconvert_exporter": "python",
   "pygments_lexer": "ipython3",
   "version": "3.11.11"
  }
 },
 "nbformat": 4,
 "nbformat_minor": 2
}
