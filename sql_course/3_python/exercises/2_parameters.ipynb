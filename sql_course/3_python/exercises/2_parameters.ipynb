{
 "cells": [
  {
   "cell_type": "code",
   "execution_count": 1,
   "metadata": {},
   "outputs": [],
   "source": [
    "import sqlite3\n",
    "import datetime as dt"
   ]
  },
  {
   "cell_type": "code",
   "execution_count": null,
   "metadata": {},
   "outputs": [],
   "source": [
    "# Connect to an in-memory database.\n",
    "connection = sqlite3.connect(\":memory:\")\n",
    "connection"
   ]
  },
  {
   "cell_type": "code",
   "execution_count": null,
   "metadata": {},
   "outputs": [],
   "source": [
    "# Create a Cursor object.\n",
    "cursor = connection.cursor()\n",
    "cursor"
   ]
  },
  {
   "cell_type": "markdown",
   "metadata": {},
   "source": [
    "## Create customer table"
   ]
  },
  {
   "cell_type": "code",
   "execution_count": null,
   "metadata": {},
   "outputs": [],
   "source": [
    "# Create a customer table.\n",
    "# Create a customer table.\n",
    "cursor.execute(\"\"\"\n",
    "    CREATE TABLE Klanten (\n",
    "        KlantId INTEGER PRIMARY KEY,\n",
    "        Voornaam TEXT,\n",
    "        Achternaam TEXT NOT NULL,\n",
    "        Geboortedatum DATE\n",
    "    );\n",
    "\"\"\")"
   ]
  },
  {
   "cell_type": "markdown",
   "metadata": {},
   "source": [
    "## Insert customers"
   ]
  },
  {
   "cell_type": "code",
   "execution_count": null,
   "metadata": {},
   "outputs": [],
   "source": [
    "# List of customer records.\n",
    "customers = [\n",
    "    {\"Voornaam\": \"Noah\", \"Achternaam\": \"Versteeg\", \"Geboortedatum\": None},\n",
    "    {\"Voornaam\": \"Mark\", \"Achternaam\": \"Vos\", \"Geboortedatum\": dt.date(1998, 1, 4)},\n",
    "    {\"Voornaam\": \"Bart\", \"Achternaam\": \"Poot\", \"Geboortedatum\": dt.date(1955, 8, 21)},\n",
    "]"
   ]
  },
  {
   "cell_type": "code",
   "execution_count": null,
   "metadata": {},
   "outputs": [],
   "source": [
    "# Write a parametrized query to insert the customers above.\n",
    "cursor.executemany(\n",
    "    \"...\",\n",
    "    customers\n",
    ")"
   ]
  },
  {
   "cell_type": "code",
   "execution_count": null,
   "metadata": {},
   "outputs": [],
   "source": [
    "# Define a customer with a GeboorteDatum of 1234567890.\n",
    "customer = {\"Voornaam\": \"Test\", \"Achternaam\": \"Geval\", \"Geboortedatum\": 1234567890}\n",
    "\n",
    "# Insert the customer using a parametrized query.\n",
    "cursor.execute(\n",
    "    \"...\",\n",
    "    customer\n",
    ")"
   ]
  },
  {
   "cell_type": "markdown",
   "metadata": {},
   "source": [
    "## Read customers"
   ]
  },
  {
   "cell_type": "code",
   "execution_count": null,
   "metadata": {},
   "outputs": [],
   "source": [
    "# SELECT all customers from the database."
   ]
  },
  {
   "cell_type": "code",
   "execution_count": null,
   "metadata": {},
   "outputs": [],
   "source": [
    "# Check data type for the GeboorteDatum column."
   ]
  },
  {
   "cell_type": "code",
   "execution_count": null,
   "metadata": {},
   "outputs": [],
   "source": []
  }
 ],
 "metadata": {
  "kernelspec": {
   "display_name": "sql-course",
   "language": "python",
   "name": "python3"
  },
  "language_info": {
   "codemirror_mode": {
    "name": "ipython",
    "version": 3
   },
   "file_extension": ".py",
   "mimetype": "text/x-python",
   "name": "python",
   "nbconvert_exporter": "python",
   "pygments_lexer": "ipython3",
   "version": "3.11.11"
  }
 },
 "nbformat": 4,
 "nbformat_minor": 2
}
