{
 "cells": [
  {
   "cell_type": "markdown",
   "metadata": {
    "vscode": {
     "languageId": "plaintext"
    }
   },
   "source": [
    "## Object Relation Model"
   ]
  },
  {
   "cell_type": "code",
   "execution_count": 10,
   "metadata": {},
   "outputs": [],
   "source": [
    "import os\n",
    "from sqlmodel import create_engine, Field, Session, select, SQLModel, Relationship\n"
   ]
  },
  {
   "cell_type": "markdown",
   "metadata": {},
   "source": [
    "#### Single entity."
   ]
  },
  {
   "cell_type": "code",
   "execution_count": 2,
   "metadata": {},
   "outputs": [],
   "source": [
    "class Customer(SQLModel, table=True):\n",
    "    \"\"\"Class for managing customer data.\"\"\"\n",
    "\n",
    "    Id: int | None = Field(primary_key=True)\n",
    "    Name: str\n",
    "    Lastname: str\n",
    "    Age: int | None"
   ]
  },
  {
   "cell_type": "code",
   "execution_count": 3,
   "metadata": {},
   "outputs": [],
   "source": [
    "# Create a (SQLAlchemy) engine\n",
    "engine = create_engine(\"sqlite:///orm-test.db\", echo=True)"
   ]
  },
  {
   "cell_type": "code",
   "execution_count": null,
   "metadata": {},
   "outputs": [],
   "source": [
    "# Create tables based on the model metadata.\n",
    "SQLModel.metadata.create_all(engine)"
   ]
  },
  {
   "cell_type": "code",
   "execution_count": null,
   "metadata": {},
   "outputs": [],
   "source": [
    "# Create a customer object\n",
    "customer = Customer(Name=\"Ingrid\", Lastname=\"Jansen\")\n",
    "customer"
   ]
  },
  {
   "cell_type": "code",
   "execution_count": null,
   "metadata": {},
   "outputs": [],
   "source": [
    "# Create a session to the database.\n",
    "with Session(engine) as session:\n",
    "    # Add the customer record and commit.\n",
    "    session.add(customer)\n",
    "    session.commit()"
   ]
  },
  {
   "cell_type": "code",
   "execution_count": null,
   "metadata": {},
   "outputs": [],
   "source": [
    "sql_customers = []\n",
    "with Session(engine) as session:\n",
    "    # Create the select query.\n",
    "    query = select(Customer)\n",
    "\n",
    "    # Perform the query on the database.\n",
    "    result = session.exec(query)\n",
    "\n",
    "    # Fetch all results.\n",
    "    sql_customers = result.fetchall()\n"
   ]
  },
  {
   "cell_type": "code",
   "execution_count": null,
   "metadata": {},
   "outputs": [],
   "source": [
    "# Note that the results are Python / SQLModel objects!\n",
    "sql_customers"
   ]
  },
  {
   "cell_type": "code",
   "execution_count": 9,
   "metadata": {},
   "outputs": [],
   "source": [
    "# Delete the engine / close connection\n",
    "engine.dispose(close=True)\n",
    "os.remove(\"orm-test.db\")"
   ]
  },
  {
   "cell_type": "markdown",
   "metadata": {},
   "source": [
    "#### Relationships"
   ]
  },
  {
   "cell_type": "code",
   "execution_count": null,
   "metadata": {},
   "outputs": [],
   "source": [
    "class Customer(SQLModel, table=True):\n",
    "    \"\"\"Class for managing customer data.\"\"\"\n",
    "\n",
    "    CustomerId: int | None = Field(primary_key=True)\n",
    "    AddressId: int\n",
    "    Name: str\n",
    "    Lastname: str\n",
    "    Age: int | None\n",
    "\n"
   ]
  },
  {
   "cell_type": "code",
   "execution_count": null,
   "metadata": {},
   "outputs": [],
   "source": [
    "class Address(SQLModel, table=True):\n",
    "    \"\"\"Class for managing address data.\"\"\"\n",
    "\n",
    "    AddressId: int | None = Field(primary_key=True)\n",
    "    Street: str\n",
    "    HouseNumber: str\n",
    "    PostCode: str"
   ]
  }
 ],
 "metadata": {
  "kernelspec": {
   "display_name": "sql-course",
   "language": "python",
   "name": "python3"
  },
  "language_info": {
   "codemirror_mode": {
    "name": "ipython",
    "version": 3
   },
   "file_extension": ".py",
   "mimetype": "text/x-python",
   "name": "python",
   "nbconvert_exporter": "python",
   "pygments_lexer": "ipython3",
   "version": "3.11.11"
  }
 },
 "nbformat": 4,
 "nbformat_minor": 2
}
