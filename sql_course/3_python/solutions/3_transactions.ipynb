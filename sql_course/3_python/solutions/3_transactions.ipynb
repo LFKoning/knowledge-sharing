{
 "cells": [
  {
   "cell_type": "markdown",
   "metadata": {},
   "source": [
    "## Transactions"
   ]
  },
  {
   "cell_type": "code",
   "execution_count": 1,
   "metadata": {},
   "outputs": [],
   "source": [
    "import os\n",
    "import sqlite3"
   ]
  },
  {
   "cell_type": "code",
   "execution_count": 2,
   "metadata": {},
   "outputs": [],
   "source": [
    "# Create the connection and disable automatic transactions.\n",
    "connection = sqlite3.connect(\"3_transactions.db\", isolation_level=None)\n",
    "cursor = connection.cursor()"
   ]
  },
  {
   "cell_type": "markdown",
   "metadata": {},
   "source": [
    "#### Create tables"
   ]
  },
  {
   "cell_type": "code",
   "execution_count": null,
   "metadata": {},
   "outputs": [],
   "source": [
    "# Create the table for adresses.\n",
    "cursor.execute(\n",
    "    \"\"\"\n",
    "    CREATE TABLE Adressen (\n",
    "        AdresId INTEGER PRIMARY KEY,\n",
    "        Postcode TEXT NOT NULL,\n",
    "        Huisnummer INTEGER NOT NULL\n",
    "    );\n",
    "    \"\"\"\n",
    ")"
   ]
  },
  {
   "cell_type": "code",
   "execution_count": null,
   "metadata": {},
   "outputs": [],
   "source": [
    "# Create the customer table which references the adresses table.\n",
    "cursor.execute(\n",
    "    \"\"\"\n",
    "    CREATE TABLE Klanten (\n",
    "        KlantId INTEGER PRIMARY KEY,\n",
    "        AdresId INTEGER NOT NULL,\n",
    "\n",
    "        Voornaam TEXT NOT NULL,\n",
    "        Achternaam TEXT NOT NULL,\n",
    "\n",
    "\n",
    "        UNIQUE(Voornaam, Achternaam),\n",
    "\n",
    "        FOREIGN KEY(AdresId) REFERENCES Adressen(AdresId)\n",
    "    );\n",
    "    \"\"\"\n",
    ")"
   ]
  },
  {
   "cell_type": "markdown",
   "metadata": {},
   "source": [
    "### Transactions"
   ]
  },
  {
   "cell_type": "code",
   "execution_count": null,
   "metadata": {},
   "outputs": [],
   "source": [
    "# Start a transaction.\n",
    "cursor.execute(\"BEGIN\")"
   ]
  },
  {
   "cell_type": "code",
   "execution_count": null,
   "metadata": {},
   "outputs": [],
   "source": [
    "# Insert an address.\n",
    "cursor.execute(\n",
    "    \"\"\"\n",
    "    INSERT INTO Adressen\n",
    "        (Postcode, Huisnummer)\n",
    "    VALUES\n",
    "        ('1111 AA', 1)\n",
    "    ;\n",
    "    \"\"\"\n",
    ")"
   ]
  },
  {
   "cell_type": "code",
   "execution_count": null,
   "metadata": {},
   "outputs": [],
   "source": [
    "# Verify if anything was inserted using DB Browser."
   ]
  },
  {
   "cell_type": "code",
   "execution_count": null,
   "metadata": {},
   "outputs": [],
   "source": [
    "# Get the automatically generated address ID.\n",
    "address_id = cursor.lastrowid\n",
    "address_id"
   ]
  },
  {
   "cell_type": "code",
   "execution_count": null,
   "metadata": {},
   "outputs": [],
   "source": [
    "# Insert a customer with the generated address ID.\n",
    "cursor.execute(\n",
    "    \"\"\"\n",
    "    INSERT INTO Klanten\n",
    "        (Voornaam, Achternaam, AdresId)\n",
    "    VALUES\n",
    "        ('Ingrid', 'Jansen', ?)\n",
    "    ;\n",
    "    \"\"\",\n",
    "    [address_id]\n",
    ")"
   ]
  },
  {
   "cell_type": "code",
   "execution_count": null,
   "metadata": {},
   "outputs": [],
   "source": [
    "# Commit changes to the database.\n",
    "# Alternative: db.commit()\n",
    "cursor.execute(\"COMMIT\")"
   ]
  },
  {
   "cell_type": "code",
   "execution_count": 17,
   "metadata": {},
   "outputs": [],
   "source": [
    "# Check whether data was inserted using DB Browser."
   ]
  },
  {
   "cell_type": "markdown",
   "metadata": {},
   "source": [
    "\n",
    "### Handle errors"
   ]
  },
  {
   "cell_type": "code",
   "execution_count": null,
   "metadata": {},
   "outputs": [],
   "source": [
    "# Define templates for the queries.\n",
    "address_query = \"\"\"\n",
    "    INSERT INTO Adressen\n",
    "    (Postcode, Huisnummer)\n",
    "    VALUES (:Postcode, :Huisnummer);\n",
    "\"\"\"\n",
    "\n",
    "customer_query = \"\"\"\n",
    "    INSERT INTO Klanten\n",
    "        (Voornaam, Achternaam, AdresId)\n",
    "    VALUES (:Voornaam, :Achternaam, :AdresId);\n",
    "\"\"\""
   ]
  },
  {
   "cell_type": "code",
   "execution_count": 23,
   "metadata": {},
   "outputs": [],
   "source": [
    "# Define some dummy data.\n",
    "customers = [\n",
    "    {\"Voornaam\": \"Mark\", \"Achternaam\": \"Vos\"},\n",
    "    {\"Voornaam\": \"Mark\", \"Achternaam\": \"Vos\"},\n",
    "]\n",
    "\n",
    "addresses = [\n",
    "    {\"Postcode\": \"2222 BB\", \"Huisnummer\": 2},\n",
    "    {\"Postcode\": \"3333 CC\", \"Huisnummer\": 3},\n",
    "]"
   ]
  },
  {
   "cell_type": "code",
   "execution_count": null,
   "metadata": {},
   "outputs": [],
   "source": [
    "# Loop over customers and their adresses.\n",
    "for customer, address in zip(customers, addresses):\n",
    "\n",
    "    # Use try ... except to handle errors.\n",
    "    try:\n",
    "\n",
    "        # Insert the address first.\n",
    "        cursor.execute(address_query, address)\n",
    "\n",
    "        # Get the generated ID and link it to the customer.\n",
    "        customer[\"AdresId\"] = cursor.lastrowid\n",
    "\n",
    "        # Then insert the customer.\n",
    "        cursor.execute(customer_query, customer)\n",
    "\n",
    "        # Commit the data.\n",
    "        db.commit()\n",
    "\n",
    "    except sqlite3.IntegrityError:\n",
    "\n",
    "        # Roll back if anything goes wrong.\n",
    "        db.rollback()"
   ]
  },
  {
   "cell_type": "markdown",
   "metadata": {},
   "source": [
    "### Clean up"
   ]
  },
  {
   "cell_type": "code",
   "execution_count": 26,
   "metadata": {},
   "outputs": [],
   "source": [
    "cursor.close()\n",
    "connection.close()\n",
    "os.remove(\"3_transactions.db\")"
   ]
  },
  {
   "cell_type": "code",
   "execution_count": null,
   "metadata": {},
   "outputs": [],
   "source": []
  }
 ],
 "metadata": {
  "kernelspec": {
   "display_name": "sql-course",
   "language": "python",
   "name": "python3"
  },
  "language_info": {
   "codemirror_mode": {
    "name": "ipython",
    "version": 3
   },
   "file_extension": ".py",
   "mimetype": "text/x-python",
   "name": "python",
   "nbconvert_exporter": "python",
   "pygments_lexer": "ipython3",
   "version": "3.11.11"
  }
 },
 "nbformat": 4,
 "nbformat_minor": 2
}
