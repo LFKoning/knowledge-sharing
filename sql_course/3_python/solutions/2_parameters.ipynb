{
 "cells": [
  {
   "cell_type": "code",
   "execution_count": 4,
   "metadata": {},
   "outputs": [],
   "source": [
    "import sqlite3\n",
    "import datetime as dt"
   ]
  },
  {
   "cell_type": "code",
   "execution_count": null,
   "metadata": {},
   "outputs": [],
   "source": [
    "# Connect to an in-memory database.\n",
    "connection = sqlite3.connect(\":memory:\")\n",
    "connection"
   ]
  },
  {
   "cell_type": "code",
   "execution_count": null,
   "metadata": {},
   "outputs": [],
   "source": [
    "# Create a Cursor object.\n",
    "cursor = connection.cursor()\n",
    "cursor"
   ]
  },
  {
   "cell_type": "markdown",
   "metadata": {},
   "source": [
    "## Create table"
   ]
  },
  {
   "cell_type": "code",
   "execution_count": null,
   "metadata": {},
   "outputs": [],
   "source": [
    "# Create a customer table.\n",
    "cursor.execute(\"\"\"\n",
    "    CREATE TABLE Klanten (\n",
    "        KlantId INTEGER PRIMARY KEY,\n",
    "        Voornaam TEXT,\n",
    "        Achternaam TEXT NOT NULL,\n",
    "        Geboortedatum DATE\n",
    "    );\n",
    "\"\"\")"
   ]
  },
  {
   "cell_type": "markdown",
   "metadata": {},
   "source": [
    "## Insert customers"
   ]
  },
  {
   "cell_type": "code",
   "execution_count": 8,
   "metadata": {},
   "outputs": [],
   "source": [
    "# List of customer records.\n",
    "customers = [\n",
    "    {\"Voornaam\": \"Noah\", \"Achternaam\": \"Versteeg\", \"Geboortedatum\": None},\n",
    "    {\"Voornaam\": \"Mark\", \"Achternaam\": \"Vos\", \"Geboortedatum\": dt.date(1998, 1, 4)},\n",
    "    {\"Voornaam\": \"Bart\", \"Achternaam\": \"Poot\", \"Geboortedatum\": dt.date(1955, 8, 21)},\n",
    "]"
   ]
  },
  {
   "cell_type": "code",
   "execution_count": null,
   "metadata": {},
   "outputs": [],
   "source": [
    "# Write a parametrized query to insert the customers above.\n",
    "cursor.executemany(\n",
    "    \"\"\"\n",
    "    INSERT INTO Klanten\n",
    "        (Voornaam, Achternaam, Geboortedatum)\n",
    "    VALUES (:Voornaam, :Achternaam, :Geboortedatum);\n",
    "    \"\"\",\n",
    "    customers\n",
    ")\n",
    "cursor.rowcount"
   ]
  },
  {
   "cell_type": "code",
   "execution_count": null,
   "metadata": {},
   "outputs": [],
   "source": [
    "# Insert a customer with GeboorteDatum of 1234567890.\n",
    "customer = {\"Voornaam\": \"Test\", \"Achternaam\": \"Geval\", \"Geboortedatum\": 1234567890}\n",
    "\n",
    "# Insert customer using a parametrized query.\n",
    "cursor.execute(\n",
    "    \"\"\"\n",
    "    INSERT INTO Klanten\n",
    "        (Voornaam, Achternaam, Geboortedatum)\n",
    "    VALUES (:Voornaam, :Achternaam, :Geboortedatum);\n",
    "    \"\"\",\n",
    "    customer\n",
    ")\n",
    "cursor.rowcount"
   ]
  },
  {
   "cell_type": "markdown",
   "metadata": {},
   "source": [
    "## Read customers"
   ]
  },
  {
   "cell_type": "code",
   "execution_count": null,
   "metadata": {},
   "outputs": [],
   "source": [
    "# SELECT all customers from the database.\n",
    "result = cursor.execute(\"SELECT * FROM Klanten\")\n",
    "customers = result.fetchall()\n",
    "customers"
   ]
  },
  {
   "cell_type": "code",
   "execution_count": null,
   "metadata": {},
   "outputs": [],
   "source": [
    "# Check data type for the GeboorteDatum column.\n",
    "for customer in customers:\n",
    "    print(customer[3], type(customer[3]))"
   ]
  },
  {
   "cell_type": "markdown",
   "metadata": {},
   "source": [
    "## SQL Injection"
   ]
  },
  {
   "cell_type": "code",
   "execution_count": 14,
   "metadata": {},
   "outputs": [],
   "source": [
    "# Customer selection query template.\n",
    "template = \"SELECT * FROM Klanten WHERE Achternaam = '{lastname}'\""
   ]
  },
  {
   "cell_type": "code",
   "execution_count": null,
   "metadata": {},
   "outputs": [],
   "source": [
    "# Craft a condition that is always true...\n",
    "lastname = \"x' OR 1 = 1 OR 'x\"\n",
    "formatted = template.format(lastname=lastname)\n",
    "formatted\n"
   ]
  },
  {
   "cell_type": "code",
   "execution_count": null,
   "metadata": {},
   "outputs": [],
   "source": [
    "# Query returns all our customer data!\n",
    "for row in cursor.execute(formatted).fetchall():\n",
    "    print(row)"
   ]
  },
  {
   "cell_type": "code",
   "execution_count": null,
   "metadata": {},
   "outputs": [],
   "source": []
  }
 ],
 "metadata": {
  "kernelspec": {
   "display_name": "sql-course",
   "language": "python",
   "name": "python3"
  },
  "language_info": {
   "codemirror_mode": {
    "name": "ipython",
    "version": 3
   },
   "file_extension": ".py",
   "mimetype": "text/x-python",
   "name": "python",
   "nbconvert_exporter": "python",
   "pygments_lexer": "ipython3",
   "version": "3.11.11"
  }
 },
 "nbformat": 4,
 "nbformat_minor": 2
}
