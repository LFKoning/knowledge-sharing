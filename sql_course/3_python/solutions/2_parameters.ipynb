{
 "cells": [
  {
   "cell_type": "code",
   "execution_count": 1,
   "metadata": {},
   "outputs": [],
   "source": [
    "import sqlite3\n",
    "import datetime as dt"
   ]
  },
  {
   "cell_type": "code",
   "execution_count": null,
   "metadata": {},
   "outputs": [],
   "source": [
    "# Connect to an in-memory database.\n",
    "connection = sqlite3.connect(\":memory:\")\n",
    "connection"
   ]
  },
  {
   "cell_type": "code",
   "execution_count": null,
   "metadata": {},
   "outputs": [],
   "source": [
    "# Create a Cursor object.\n",
    "cursor = connection.cursor()\n",
    "cursor"
   ]
  },
  {
   "cell_type": "markdown",
   "metadata": {},
   "source": [
    "## Create table"
   ]
  },
  {
   "cell_type": "code",
   "execution_count": null,
   "metadata": {},
   "outputs": [],
   "source": [
    "# Create a customer table.\n",
    "cursor.execute(\"\"\"\n",
    "    CREATE TABLE Klanten (\n",
    "        KlantId INTEGER PRIMARY KEY,\n",
    "        Voornaam TEXT,\n",
    "        Achternaam TEXT NOT NULL,\n",
    "        Geboortedatum DATE\n",
    "    );\n",
    "\"\"\")"
   ]
  },
  {
   "cell_type": "code",
   "execution_count": null,
   "metadata": {},
   "outputs": [],
   "source": [
    "# Insert two new customers.\n",
    "cursor.execute(\"\"\"\n",
    "    INSERT INTO Klanten\n",
    "        (Voornaam, Achternaam, Geboortedatum)\n",
    "    VALUES\n",
    "        ('Ingrid', 'Jansen', '1984-09-06'),\n",
    "        ('Henk', 'Knol', '1957-08-23')\n",
    "    ;\n",
    "\"\"\")"
   ]
  },
  {
   "cell_type": "markdown",
   "metadata": {},
   "source": [
    "### Insert data from Python"
   ]
  },
  {
   "cell_type": "code",
   "execution_count": 26,
   "metadata": {},
   "outputs": [],
   "source": [
    "# Customer data as dict.\n",
    "customer = {\n",
    "    \"Voornaam\": \"Maria\",\n",
    "    \"Achternaam\": \"Klomp\",\n",
    "    \"GeboorteDatum\": dt.date(1990, 5, 7)\n",
    "}\n"
   ]
  },
  {
   "cell_type": "code",
   "execution_count": 27,
   "metadata": {},
   "outputs": [],
   "source": [
    "# Define query as a string template...\n",
    "template = \"\"\"\n",
    "    INSERT INTO Klanten\n",
    "        (Voornaam, Achternaam, GeboorteDatum)\n",
    "    VALUES (\n",
    "        '{Voornaam}', '{Achternaam}', '{GeboorteDatum}'\n",
    "    );\n",
    "\"\"\""
   ]
  },
  {
   "cell_type": "code",
   "execution_count": null,
   "metadata": {},
   "outputs": [],
   "source": [
    "# Insert values using Python formatting...\n",
    "print(template.format(**customer))"
   ]
  },
  {
   "cell_type": "code",
   "execution_count": 29,
   "metadata": {},
   "outputs": [],
   "source": [
    "# Customer data with missing value.\n",
    "customer = {\n",
    "    \"Voornaam\": \"Maria\",\n",
    "    \"Achternaam\": \"Klomp\",\n",
    "    \"GeboorteDatum\": None,\n",
    "}"
   ]
  },
  {
   "cell_type": "code",
   "execution_count": null,
   "metadata": {},
   "outputs": [],
   "source": [
    "# Bad idea...\n",
    "print(template.format(**customer))"
   ]
  },
  {
   "cell_type": "code",
   "execution_count": 34,
   "metadata": {},
   "outputs": [],
   "source": [
    "# Customer selection query template.\n",
    "template = \"SELECT * FROM Klanten WHERE Achternaam = '{lastname}'\""
   ]
  },
  {
   "cell_type": "code",
   "execution_count": null,
   "metadata": {},
   "outputs": [],
   "source": [
    "# Craft a condition that is always true...\n",
    "lastname = \"x' OR 1 = 1 OR 'x\"\n",
    "formatted = template.format(lastname=lastname)\n",
    "formatted\n"
   ]
  },
  {
   "cell_type": "code",
   "execution_count": null,
   "metadata": {},
   "outputs": [],
   "source": [
    "# Query returns all our customer data!\n",
    "for row in cursor.execute(formatted).fetchall():\n",
    "    print(dict(row))"
   ]
  },
  {
   "cell_type": "code",
   "execution_count": null,
   "metadata": {},
   "outputs": [],
   "source": [
    "# Good idea: Use a parametrized query.\n",
    "cursor.execute(\n",
    "    \"\"\"\n",
    "    INSERT INTO Klanten\n",
    "        (Voornaam, Achternaam, GeboorteDatum)\n",
    "    VALUES (:Voornaam, :Achternaam, :GeboorteDatum);\n",
    "    \"\"\",\n",
    "    customer\n",
    ")\n",
    "cursor.rowcount"
   ]
  },
  {
   "cell_type": "code",
   "execution_count": null,
   "metadata": {},
   "outputs": [],
   "source": [
    "# Using positional parameters.\n",
    "cursor.execute(\n",
    "    \"\"\"\n",
    "    INSERT INTO Klanten\n",
    "        (Voornaam, Achternaam, GeboorteDatum)\n",
    "    VALUES (?, ?, ?);\n",
    "    \"\"\",\n",
    "    (\"Piet\", \"Klaassen\", dt.date(1978, 9, 4))\n",
    ")\n",
    "cursor.rowcount"
   ]
  },
  {
   "cell_type": "code",
   "execution_count": null,
   "metadata": {},
   "outputs": [],
   "source": [
    "# List of customer records.\n",
    "customers = [\n",
    "    {\"Voornaam\": \"Noah\", \"Achternaam\": \"Versteeg\", \"GeboorteDatum\": None},\n",
    "    {\"Voornaam\": \"Mark\", \"Achternaam\": \"Vos\", \"GeboorteDatum\": dt.date(1998, 1, 4)},\n",
    "    {\"Voornaam\": \"Bart\", \"Achternaam\": \"Poot\", \"GeboorteDatum\": dt.date(1955, 8, 21)},\n",
    "]"
   ]
  },
  {
   "cell_type": "code",
   "execution_count": null,
   "metadata": {},
   "outputs": [],
   "source": [
    "# Insert all customers in one go!\n",
    "cursor.executemany(\n",
    "    \"\"\"\n",
    "    INSERT INTO Klanten\n",
    "        (Voornaam, Achternaam, GeboorteDatum)\n",
    "    VALUES (:Voornaam, :Achternaam, :GeboorteDatum);\n",
    "    \"\"\",\n",
    "    customers\n",
    ")\n",
    "cursor.rowcount"
   ]
  },
  {
   "cell_type": "code",
   "execution_count": null,
   "metadata": {},
   "outputs": [],
   "source": []
  }
 ],
 "metadata": {
  "kernelspec": {
   "display_name": "sql-course",
   "language": "python",
   "name": "python3"
  },
  "language_info": {
   "codemirror_mode": {
    "name": "ipython",
    "version": 3
   },
   "file_extension": ".py",
   "mimetype": "text/x-python",
   "name": "python",
   "nbconvert_exporter": "python",
   "pygments_lexer": "ipython3",
   "version": "3.11.11"
  }
 },
 "nbformat": 4,
 "nbformat_minor": 2
}
