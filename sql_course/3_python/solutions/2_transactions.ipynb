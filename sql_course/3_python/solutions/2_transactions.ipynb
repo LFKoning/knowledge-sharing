{
 "cells": [
  {
   "cell_type": "markdown",
   "metadata": {},
   "source": [
    "## Transactions"
   ]
  },
  {
   "cell_type": "code",
   "execution_count": 1,
   "metadata": {},
   "outputs": [],
   "source": [
    "import sqlite3"
   ]
  },
  {
   "cell_type": "code",
   "execution_count": null,
   "metadata": {},
   "outputs": [],
   "source": [
    "# Create the connection and enable foreign keys on it.\n",
    "# db = sqlite3.connect(\":memory:\", autocommit=False)\n",
    "db = sqlite3.connect(\":memory:\", isolation_level=\"DEFERRED\")\n",
    "db.execute(\"PRAGMA foreign_keys = 1\")"
   ]
  },
  {
   "cell_type": "code",
   "execution_count": 3,
   "metadata": {},
   "outputs": [],
   "source": [
    "cursor = db.cursor()"
   ]
  },
  {
   "cell_type": "markdown",
   "metadata": {},
   "source": [
    "#### Create tables"
   ]
  },
  {
   "cell_type": "code",
   "execution_count": null,
   "metadata": {},
   "outputs": [],
   "source": [
    "# Create the table for adresses.\n",
    "cursor.execute(\n",
    "    \"\"\"\n",
    "    CREATE TABLE Adressen (\n",
    "        AdresId INTEGER,\n",
    "        Postcode TEXT NOT NULL,\n",
    "        Huisnummer INTEGER NOT NULL,\n",
    "        Toevoeging TEXT NULL,\n",
    "        PRIMARY KEY(AdresId)\n",
    "    );\n",
    "    \"\"\"\n",
    ")"
   ]
  },
  {
   "cell_type": "code",
   "execution_count": null,
   "metadata": {},
   "outputs": [],
   "source": [
    "# Create the customer table which references the adresses table.\n",
    "cursor.execute(\n",
    "    \"\"\"\n",
    "    CREATE TABLE Klanten (\n",
    "        KlantId INTEGER,\n",
    "        Voornaam TEXT NOT NULL,\n",
    "        Achternaam TEXT NOT NULL,\n",
    "        GeboorteDatum DATE,\n",
    "        LeverAdresId INTEGER NOT NULL,\n",
    "        PRIMARY KEY(KlantId)\n",
    "        FOREIGN KEY(LeverAdresId) REFERENCES Adressen(AdresId)\n",
    "    );\n",
    "    \"\"\"\n",
    ")"
   ]
  },
  {
   "cell_type": "markdown",
   "metadata": {},
   "source": [
    "### Insert data"
   ]
  },
  {
   "cell_type": "code",
   "execution_count": null,
   "metadata": {},
   "outputs": [],
   "source": [
    "# Insert address first so we can refer to it.\n",
    "cursor.execute(\n",
    "    \"\"\"\n",
    "    INSERT INTO Adressen\n",
    "        (Postcode, Huisnummer, Toevoeging)\n",
    "    VALUES\n",
    "        ('1234 AB', 3, NULL)\n",
    "    ;\n",
    "    \"\"\"\n",
    ")"
   ]
  },
  {
   "cell_type": "code",
   "execution_count": null,
   "metadata": {},
   "outputs": [],
   "source": [
    "# Get the automatically generated address ID.\n",
    "address_id = cursor.lastrowid\n",
    "address_id"
   ]
  },
  {
   "cell_type": "code",
   "execution_count": null,
   "metadata": {},
   "outputs": [],
   "source": [
    "# Create the customer with the generated address ID.\n",
    "cursor.execute(\n",
    "    \"\"\"\n",
    "    INSERT INTO Klanten\n",
    "        (Voornaam, Achternaam, GeboorteDatum, LeverAdresId)\n",
    "    VALUES\n",
    "        ('Ingrid', 'Jansen', '1984-09-06', ?)\n",
    "    ;\n",
    "    \"\"\",\n",
    "    [address_id]\n",
    ")"
   ]
  },
  {
   "cell_type": "code",
   "execution_count": null,
   "metadata": {},
   "outputs": [],
   "source": [
    "# Verify nothing was actually inserted using DB Browser."
   ]
  },
  {
   "cell_type": "code",
   "execution_count": 12,
   "metadata": {},
   "outputs": [],
   "source": [
    "# Everything was OK; commit changes to the database\n",
    "db.commit()"
   ]
  },
  {
   "cell_type": "code",
   "execution_count": null,
   "metadata": {},
   "outputs": [],
   "source": [
    "# Verify data was inserted using DB Browser."
   ]
  },
  {
   "cell_type": "code",
   "execution_count": null,
   "metadata": {},
   "outputs": [],
   "source": [
    "# Insert another address and get the ID.\n",
    "cursor.execute(\n",
    "    \"\"\"\n",
    "    INSERT INTO Adressen\n",
    "        (Postcode, Huisnummer, Toevoeging)\n",
    "    VALUES\n",
    "        ('5678 CD', 4, \"A\")\n",
    "    ;\n",
    "    \"\"\"\n",
    ")\n",
    "address_id = cursor.lastrowid\n",
    "address_id"
   ]
  },
  {
   "cell_type": "code",
   "execution_count": null,
   "metadata": {},
   "outputs": [],
   "source": [
    "# Try to insert an invalid customer record...\n",
    "cursor.execute(\n",
    "    \"\"\"\n",
    "    INSERT INTO Klanten\n",
    "        (Voornaam, Achternaam, GeboorteDatum, LeverAdresId)\n",
    "    VALUES\n",
    "        (NULL, 'Knol', '1957-08-23')\n",
    "    ;\n",
    "    \"\"\",\n",
    "    [address_id]\n",
    ")"
   ]
  },
  {
   "cell_type": "code",
   "execution_count": null,
   "metadata": {},
   "outputs": [],
   "source": [
    "# Verify nothing was inserted using DB Browser."
   ]
  },
  {
   "cell_type": "code",
   "execution_count": 19,
   "metadata": {},
   "outputs": [],
   "source": [
    "db.rollback()"
   ]
  },
  {
   "cell_type": "code",
   "execution_count": null,
   "metadata": {},
   "outputs": [],
   "source": [
    "# Note that adress insertion was undone.\n",
    "db.execute(\"SELECT * FROM Adressen\").fetchall()"
   ]
  },
  {
   "cell_type": "code",
   "execution_count": null,
   "metadata": {},
   "outputs": [],
   "source": []
  }
 ],
 "metadata": {
  "kernelspec": {
   "display_name": "sql-course",
   "language": "python",
   "name": "python3"
  },
  "language_info": {
   "codemirror_mode": {
    "name": "ipython",
    "version": 3
   },
   "file_extension": ".py",
   "mimetype": "text/x-python",
   "name": "python",
   "nbconvert_exporter": "python",
   "pygments_lexer": "ipython3",
   "version": "3.11.11"
  }
 },
 "nbformat": 4,
 "nbformat_minor": 2
}
