{
 "cells": [
  {
   "cell_type": "markdown",
   "metadata": {},
   "source": [
    "## Pandas and SQL"
   ]
  },
  {
   "cell_type": "code",
   "execution_count": 2,
   "metadata": {},
   "outputs": [],
   "source": [
    "import pandas as pd\n",
    "from sqlalchemy import create_engine"
   ]
  },
  {
   "cell_type": "code",
   "execution_count": 11,
   "metadata": {},
   "outputs": [],
   "source": [
    "connection = create_engine(\"sqlite:///../../0_data/sales_data.db\")"
   ]
  },
  {
   "cell_type": "code",
   "execution_count": null,
   "metadata": {},
   "outputs": [],
   "source": [
    "# Retrieve all transactions.\n",
    "transactions = pd.read_sql(\"Transacties\", connection)\n",
    "transactions.sample(3)"
   ]
  },
  {
   "cell_type": "code",
   "execution_count": null,
   "metadata": {},
   "outputs": [],
   "source": [
    "# Data types determined by pandas.\n",
    "transactions.dtypes"
   ]
  },
  {
   "cell_type": "code",
   "execution_count": null,
   "metadata": {},
   "outputs": [],
   "source": [
    "# Create customer lifetime revenue overview.\n",
    "revenue = pd.read_sql(\n",
    "    \"\"\"\n",
    "        SELECT\n",
    "            kln.Naam,\n",
    "            SUM(trn.Aantal * trn.Prijs) AS Omzet\n",
    "        FROM Transacties trn\n",
    "        LEFT JOIN Klanten kln\n",
    "            ON trn.KlantId = kln.KlantId\n",
    "        GROUP BY trn.KlantId\n",
    "    \"\"\",\n",
    "    connection\n",
    ")\n",
    "revenue.sort_values(\"Omzet\", ascending=False)"
   ]
  },
  {
   "cell_type": "code",
   "execution_count": null,
   "metadata": {},
   "outputs": [],
   "source": [
    "# Store customer revenue overview as table.\n",
    "# Note: Returns number of affected rows.\n",
    "revenue.to_sql(\"KlantOmzet\", connection, index=False, if_exists=\"replace\")"
   ]
  },
  {
   "cell_type": "code",
   "execution_count": null,
   "metadata": {},
   "outputs": [],
   "source": [
    "# Check inserted data with DB Browser."
   ]
  }
 ],
 "metadata": {
  "kernelspec": {
   "display_name": "sql-course",
   "language": "python",
   "name": "python3"
  },
  "language_info": {
   "codemirror_mode": {
    "name": "ipython",
    "version": 3
   },
   "file_extension": ".py",
   "mimetype": "text/x-python",
   "name": "python",
   "nbconvert_exporter": "python",
   "pygments_lexer": "ipython3",
   "version": "3.11.11"
  }
 },
 "nbformat": 4,
 "nbformat_minor": 2
}
