{
 "cells": [
  {
   "cell_type": "code",
   "execution_count": 1,
   "metadata": {},
   "outputs": [],
   "source": [
    "import sqlite3\n",
    "import datetime as dt"
   ]
  },
  {
   "cell_type": "code",
   "execution_count": null,
   "metadata": {},
   "outputs": [],
   "source": [
    "sqlite3.sqlite_version"
   ]
  },
  {
   "cell_type": "code",
   "execution_count": null,
   "metadata": {},
   "outputs": [],
   "source": [
    "# Connect to an in-memory database.\n",
    "db = sqlite3.connect(\":memory:\")\n",
    "db"
   ]
  },
  {
   "cell_type": "code",
   "execution_count": null,
   "metadata": {},
   "outputs": [],
   "source": [
    "# Create a Cursor object.\n",
    "cursor = db.cursor()\n",
    "cursor"
   ]
  },
  {
   "cell_type": "code",
   "execution_count": null,
   "metadata": {},
   "outputs": [],
   "source": [
    "# Attributes from the Cursor.\n",
    "# - execute methods -> Perform SQL statements.\n",
    "# - fetch methods   -> Fetch data from a SELECT resultset.\n",
    "# - description     -> Metadata for a SELECT resultset.\n",
    "# - rowcount        -> Rows affected by the last SQL statement.\n",
    "for attribute in dir(cursor):\n",
    "    if attribute.startswith(\"_\"):\n",
    "        continue\n",
    "    print(attribute)"
   ]
  },
  {
   "cell_type": "markdown",
   "metadata": {},
   "source": [
    "## Create table"
   ]
  },
  {
   "cell_type": "code",
   "execution_count": null,
   "metadata": {},
   "outputs": [],
   "source": [
    "# Create a customer table.\n",
    "cursor.execute(\n",
    "    \"\"\"\n",
    "    CREATE TABLE Klanten (\n",
    "        KlantId INTEGER,\n",
    "        Voornaam TEXT,\n",
    "        Achternaam TEXT NOT NULL,\n",
    "        GeboorteDatum DATE,\n",
    "        PRIMARY KEY(KlantId)\n",
    "    );\n",
    "    \"\"\"\n",
    ")"
   ]
  },
  {
   "cell_type": "markdown",
   "metadata": {},
   "source": [
    "## Inserting data"
   ]
  },
  {
   "cell_type": "code",
   "execution_count": null,
   "metadata": {},
   "outputs": [],
   "source": [
    "# Insert two new customers.\n",
    "cursor.execute(\n",
    "    \"\"\"\n",
    "    INSERT INTO Klanten\n",
    "        (Voornaam, Achternaam, GeboorteDatum)\n",
    "    VALUES\n",
    "        ('Ingrid', 'Jansen', '1984-09-06'),\n",
    "        ('Henk', 'Knol', '1957-08-23')\n",
    "    ;\n",
    "    \"\"\"\n",
    ")"
   ]
  },
  {
   "cell_type": "code",
   "execution_count": null,
   "metadata": {},
   "outputs": [],
   "source": [
    "# Verify the insert statement worked...\n",
    "cursor.rowcount"
   ]
  },
  {
   "cell_type": "code",
   "execution_count": 9,
   "metadata": {},
   "outputs": [],
   "source": [
    "# Customer data as dict.\n",
    "customer = {\n",
    "    \"Voornaam\": \"Maria\",\n",
    "    \"Achternaam\": \"Klomp\",\n",
    "    \"GeboorteDatum\": dt.date(1990, 5, 7)\n",
    "}\n"
   ]
  },
  {
   "cell_type": "code",
   "execution_count": 10,
   "metadata": {},
   "outputs": [],
   "source": [
    "# Define query as a template...\n",
    "template = \"\"\"\n",
    "    INSERT INTO Klanten\n",
    "        (Voornaam, Achternaam, GeboorteDatum)\n",
    "    VALUES (\n",
    "        '{Voornaam}', '{Achternaam}', '{GeboorteDatum}'\n",
    "    );\n",
    "\"\"\""
   ]
  },
  {
   "cell_type": "code",
   "execution_count": null,
   "metadata": {},
   "outputs": [],
   "source": [
    "# Insert values using Python formatting...\n",
    "print(template.format(**customer))"
   ]
  },
  {
   "cell_type": "code",
   "execution_count": 12,
   "metadata": {},
   "outputs": [],
   "source": [
    "# Customer data with missing value.\n",
    "customer = {\n",
    "    \"Voornaam\": \"Maria\",\n",
    "    \"Achternaam\": \"Klomp\",\n",
    "    \"GeboorteDatum\": None,\n",
    "}"
   ]
  },
  {
   "cell_type": "code",
   "execution_count": null,
   "metadata": {},
   "outputs": [],
   "source": [
    "# Bad idea...\n",
    "print(template.format(**customer))"
   ]
  },
  {
   "cell_type": "code",
   "execution_count": null,
   "metadata": {},
   "outputs": [],
   "source": [
    "# Good idea: Use a parametrized query.\n",
    "cursor.execute(\n",
    "    \"\"\"\n",
    "    INSERT INTO Klanten\n",
    "        (Voornaam, Achternaam, GeboorteDatum)\n",
    "    VALUES (:Voornaam, :Achternaam, :GeboorteDatum);\n",
    "    \"\"\",\n",
    "    customer\n",
    ")\n",
    "cursor.rowcount"
   ]
  },
  {
   "cell_type": "code",
   "execution_count": null,
   "metadata": {},
   "outputs": [],
   "source": [
    "# Using positional parameters.\n",
    "cursor.execute(\n",
    "    \"\"\"\n",
    "    INSERT INTO Klanten\n",
    "        (Voornaam, Achternaam, GeboorteDatum)\n",
    "    VALUES (?, ?, ?);\n",
    "    \"\"\",\n",
    "    (\"Piet\", \"Klaassen\", dt.date(1978, 9, 4))\n",
    ")\n",
    "cursor.rowcount"
   ]
  },
  {
   "cell_type": "code",
   "execution_count": 16,
   "metadata": {},
   "outputs": [],
   "source": [
    "# List of customer records.\n",
    "customers = [\n",
    "    {\"Voornaam\": \"Noah\", \"Achternaam\": \"Versteeg\", \"GeboorteDatum\": None},\n",
    "    {\"Voornaam\": \"Mark\", \"Achternaam\": \"Vos\", \"GeboorteDatum\": dt.date(1998, 1, 4)},\n",
    "    {\"Voornaam\": \"Bart\", \"Achternaam\": \"Poot\", \"GeboorteDatum\": dt.date(1955, 8, 21)},\n",
    "]"
   ]
  },
  {
   "cell_type": "code",
   "execution_count": null,
   "metadata": {},
   "outputs": [],
   "source": [
    "cursor.executemany(\n",
    "    \"\"\"\n",
    "    INSERT INTO Klanten\n",
    "        (Voornaam, Achternaam, GeboorteDatum)\n",
    "    VALUES (:Voornaam, :Achternaam, :GeboorteDatum);\n",
    "    \"\"\",\n",
    "    customers\n",
    ")\n",
    "cursor.rowcount"
   ]
  },
  {
   "cell_type": "markdown",
   "metadata": {},
   "source": [
    "## Select data"
   ]
  },
  {
   "cell_type": "code",
   "execution_count": null,
   "metadata": {},
   "outputs": [],
   "source": [
    "# Perform a SELECT query.\n",
    "cursor.execute(\"SELECT * FROM Klanten\")"
   ]
  },
  {
   "cell_type": "code",
   "execution_count": null,
   "metadata": {},
   "outputs": [],
   "source": [
    "# Look at the metadata\n",
    "# - name\n",
    "# - type_code\n",
    "# - display_size\n",
    "# - internal_size\n",
    "# - precision\n",
    "# - scale\n",
    "# - null_ok\n",
    "cursor.description"
   ]
  },
  {
   "cell_type": "code",
   "execution_count": null,
   "metadata": {},
   "outputs": [],
   "source": [
    "# Extract column names from the description.\n",
    "column_names = [field_meta[0] for field_meta in cursor.description]\n",
    "column_names"
   ]
  },
  {
   "cell_type": "code",
   "execution_count": null,
   "metadata": {},
   "outputs": [],
   "source": [
    "# Use fetch methods to get the data.\n",
    "row = cursor.fetchone()\n",
    "row"
   ]
  },
  {
   "cell_type": "code",
   "execution_count": null,
   "metadata": {},
   "outputs": [],
   "source": [
    "# Row is a simple tuple.\n",
    "type(row)"
   ]
  },
  {
   "cell_type": "code",
   "execution_count": null,
   "metadata": {},
   "outputs": [],
   "source": [
    "# Convert to dict.\n",
    "dict(zip(column_names, row))"
   ]
  },
  {
   "cell_type": "markdown",
   "metadata": {},
   "source": [
    "## Row Factory"
   ]
  },
  {
   "cell_type": "code",
   "execution_count": 34,
   "metadata": {},
   "outputs": [],
   "source": [
    "# Set a row factory.\n",
    "db.row_factory = sqlite3.Row"
   ]
  },
  {
   "cell_type": "code",
   "execution_count": 35,
   "metadata": {},
   "outputs": [],
   "source": [
    "# Create a new cursor using the row factory.\n",
    "cursor = db.cursor()"
   ]
  },
  {
   "cell_type": "code",
   "execution_count": 36,
   "metadata": {},
   "outputs": [],
   "source": [
    "# Perform a query and fetch the first row.\n",
    "cursor.execute(\"SELECT * FROM Klanten;\")\n",
    "row = cursor.fetchone()"
   ]
  },
  {
   "cell_type": "code",
   "execution_count": null,
   "metadata": {},
   "outputs": [],
   "source": [
    "# Note that result is now a Row object.\n",
    "type(row)"
   ]
  },
  {
   "cell_type": "code",
   "execution_count": null,
   "metadata": {},
   "outputs": [],
   "source": [
    "# Get the column names from the Row object.\n",
    "row.keys()"
   ]
  },
  {
   "cell_type": "code",
   "execution_count": null,
   "metadata": {},
   "outputs": [],
   "source": [
    "# Index by column name.\n",
    "row[\"Voornaam\"]"
   ]
  },
  {
   "cell_type": "code",
   "execution_count": null,
   "metadata": {},
   "outputs": [],
   "source": [
    "# Or by index.\n",
    "row[1]"
   ]
  },
  {
   "cell_type": "code",
   "execution_count": null,
   "metadata": {},
   "outputs": [],
   "source": [
    "rows = cursor.fetchall()\n",
    "for row in rows:\n",
    "    print(dict(row))"
   ]
  },
  {
   "cell_type": "code",
   "execution_count": 42,
   "metadata": {},
   "outputs": [],
   "source": [
    "# Close the connection.\n",
    "# Note: Closes automatically when going out of scope.\n",
    "db.close()"
   ]
  },
  {
   "cell_type": "code",
   "execution_count": null,
   "metadata": {},
   "outputs": [],
   "source": []
  }
 ],
 "metadata": {
  "kernelspec": {
   "display_name": "sql-course",
   "language": "python",
   "name": "python3"
  },
  "language_info": {
   "codemirror_mode": {
    "name": "ipython",
    "version": 3
   },
   "file_extension": ".py",
   "mimetype": "text/x-python",
   "name": "python",
   "nbconvert_exporter": "python",
   "pygments_lexer": "ipython3",
   "version": "3.11.11"
  }
 },
 "nbformat": 4,
 "nbformat_minor": 2
}
