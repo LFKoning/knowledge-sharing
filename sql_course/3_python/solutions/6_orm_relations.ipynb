{
 "cells": [
  {
   "cell_type": "code",
   "execution_count": 1,
   "metadata": {},
   "outputs": [],
   "source": [
    "import datetime as dt\n",
    "\n",
    "from sqlmodel import create_engine, Field, Session, select, SQLModel, Relationship"
   ]
  },
  {
   "cell_type": "code",
   "execution_count": 2,
   "metadata": {},
   "outputs": [],
   "source": [
    "class TaskList(SQLModel, table=True):\n",
    "    \"\"\"Class for managing task lists.\"\"\"\n",
    "\n",
    "    # Standard attributes.\n",
    "    list_id: int | None = Field(primary_key=True)\n",
    "    name: str\n",
    "\n",
    "    # Add a tasks Relationship refering to Task.list\n",
    "    tasks: list[\"Task\"] = Relationship(back_populates=\"list\")\n",
    "\n",
    "    def add(self, description):\n",
    "        \"\"\"Add a task to the list.\"\"\"\n",
    "        new_task = Task(description=description)\n",
    "        self.tasks.append(new_task)\n",
    "\n",
    "\n",
    "class Task(SQLModel, table=True):\n",
    "    \"\"\"Class for managing tasks.\"\"\"\n",
    "\n",
    "    # Standard attributes.\n",
    "    task_id: int | None = Field(primary_key=True)\n",
    "    description: str\n",
    "    state: str | None = \"New\"\n",
    "    updated: dt.datetime | None = dt.datetime.now()\n",
    "\n",
    "    # Add a foreign key referring to list_id in table tasklist.\n",
    "    list_id: int = Field(foreign_key=\"tasklist.list_id\")\n",
    "\n",
    "    # Add a list Relationship refering to TaskList.tasks\n",
    "    list: TaskList = Relationship(back_populates=\"tasks\")"
   ]
  },
  {
   "cell_type": "code",
   "execution_count": 3,
   "metadata": {},
   "outputs": [],
   "source": [
    "# Create a SQLite connection and session.\n",
    "connection = create_engine(\"sqlite:///6_orm_relations.db\", echo=True)\n",
    "session = Session(connection)"
   ]
  },
  {
   "cell_type": "code",
   "execution_count": null,
   "metadata": {},
   "outputs": [],
   "source": [
    "# Use the metadata to create all tables.\n",
    "SQLModel.metadata.create_all(connection)"
   ]
  },
  {
   "cell_type": "code",
   "execution_count": 5,
   "metadata": {},
   "outputs": [],
   "source": [
    "# Create a new TaskList.\n",
    "my_list = TaskList(name=\"House Keeping\")"
   ]
  },
  {
   "cell_type": "code",
   "execution_count": 6,
   "metadata": {},
   "outputs": [],
   "source": [
    "# Add a few tasks using the add method of the TaskList.\n",
    "my_list.add(description=\"Do the dishes\")\n",
    "my_list.add(description=\"Walk the dog\")"
   ]
  },
  {
   "cell_type": "code",
   "execution_count": null,
   "metadata": {},
   "outputs": [],
   "source": [
    "# Check the tasks property of your TaskList.\n",
    "my_list.tasks"
   ]
  },
  {
   "cell_type": "code",
   "execution_count": null,
   "metadata": {},
   "outputs": [],
   "source": [
    "# Store the TaskList in the database.\n",
    "session.add(my_list)\n",
    "session.commit()"
   ]
  },
  {
   "cell_type": "code",
   "execution_count": null,
   "metadata": {},
   "outputs": [],
   "source": [
    "# Check the data using DB Browser."
   ]
  },
  {
   "cell_type": "code",
   "execution_count": null,
   "metadata": {},
   "outputs": [],
   "source": [
    "# And retrieve the TaskList again.\n",
    "query = select(TaskList)\n",
    "result = session.exec(query)\n",
    "sql_tasklist = result.one()\n"
   ]
  },
  {
   "cell_type": "code",
   "execution_count": null,
   "metadata": {},
   "outputs": [],
   "source": [
    "# Look at the tasks property from the retrieve TaskList.\n",
    "sql_tasklist.tasks"
   ]
  },
  {
   "cell_type": "code",
   "execution_count": null,
   "metadata": {},
   "outputs": [],
   "source": []
  }
 ],
 "metadata": {
  "kernelspec": {
   "display_name": "sql-course",
   "language": "python",
   "name": "python3"
  },
  "language_info": {
   "codemirror_mode": {
    "name": "ipython",
    "version": 3
   },
   "file_extension": ".py",
   "mimetype": "text/x-python",
   "name": "python",
   "nbconvert_exporter": "python",
   "pygments_lexer": "ipython3",
   "version": "3.11.11"
  }
 },
 "nbformat": 4,
 "nbformat_minor": 2
}
