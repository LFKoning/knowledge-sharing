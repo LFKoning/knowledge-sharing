{
 "cells": [
  {
   "cell_type": "markdown",
   "id": "2d2edf49",
   "metadata": {},
   "source": [
    "# Dummy Shopping Data Generator"
   ]
  },
  {
   "cell_type": "code",
   "execution_count": 1,
   "id": "6abfb991",
   "metadata": {},
   "outputs": [],
   "source": [
    "import sqlite3\n",
    "import random\n",
    "import unicodedata\n",
    "\n",
    "import numpy as np\n",
    "import pandas as pd\n",
    "\n",
    "from faker import Faker"
   ]
  },
  {
   "cell_type": "code",
   "execution_count": 2,
   "id": "15b6e45a",
   "metadata": {},
   "outputs": [],
   "source": [
    "# Set up\n",
    "db = sqlite3.connect(\"sales_data.db\")\n",
    "cursor = db.cursor()\n",
    "faker = Faker(\"nl_NL\")"
   ]
  },
  {
   "cell_type": "code",
   "execution_count": 3,
   "id": "2725fe26",
   "metadata": {},
   "outputs": [],
   "source": [
    "def clip(value, min_value, max_value):\n",
    "    value = min(value, max_value)\n",
    "    value = max(value, min_value)\n",
    "    return value\n",
    "\n",
    "def normalize(value):\n",
    "    return unicodedata.normalize('NFKD', value).encode('ascii', 'ignore').decode()\n",
    "\n",
    "def fake_mail(name):\n",
    "    if random.randint(0, 10) < 8:\n",
    "        domain = random.choice([\n",
    "            \"gmail.com\", \"hotmail.com\", \"outlook.com\",\n",
    "            \"kpn.nl\", \"ziggo.nl\",\n",
    "        ])\n",
    "    else:\n",
    "        domain = faker.domain_name()\n",
    "\n",
    "    clean_name = normalize(name.lower().replace(\" \", \".\"))\n",
    "    return f\"{clean_name}@{domain}\""
   ]
  },
  {
   "cell_type": "markdown",
   "id": "c4c7e24e",
   "metadata": {},
   "source": [
    "## Create structure"
   ]
  },
  {
   "cell_type": "code",
   "execution_count": null,
   "id": "cd3ae697",
   "metadata": {},
   "outputs": [],
   "source": [
    "# Reset the database.\n",
    "cursor.execute(\"DROP TABLE IF EXISTS Klanten;\")\n",
    "cursor.execute(\"DROP TABLE IF EXISTS Producten;\")\n",
    "cursor.execute(\"DROP TABLE IF EXISTS Transacties;\")"
   ]
  },
  {
   "cell_type": "code",
   "execution_count": null,
   "id": "16be0719",
   "metadata": {},
   "outputs": [],
   "source": [
    "cursor.execute(\"\"\"\n",
    "    CREATE TABLE Klanten (\n",
    "        KlantId TEXT PRIMARY KEY,\n",
    "        Naam TEXT,\n",
    "        Email TEXT,\n",
    "        Geboortedatum DATE,\n",
    "        Adres TEXT,\n",
    "        Postcode TEXT,\n",
    "        Stad TEXT,\n",
    "        Aangemaakt DATE\n",
    "    );\n",
    "\"\"\")\n",
    "\n",
    "cursor.execute(\"\"\"\n",
    "    CREATE TABLE Producten (\n",
    "        ProductId TEXT PRIMARY KEY,\n",
    "        Naam TEXT,\n",
    "        Verpakking REAL,\n",
    "        VerpakkingEenheid TEXT,\n",
    "        Categorie TEXT,\n",
    "        Subcategorie TEXT,\n",
    "        Prijs REAL\n",
    "    );\n",
    "\"\"\")\n",
    "\n",
    "cursor.execute(\"\"\"\n",
    "    CREATE TABLE Transacties (\n",
    "        TransactieId TEXT,\n",
    "        KlantId TEXT,\n",
    "        ProductId TEXT,\n",
    "        DatumTijd DATETIME,\n",
    "        RegelNummer INTEGER,\n",
    "        Aantal INTEGER,\n",
    "        Prijs REAL,\n",
    "\n",
    "        PRIMARY KEY(TransactieId, RegelNummer)\n",
    "    );\n",
    "\"\"\")"
   ]
  },
  {
   "cell_type": "markdown",
   "id": "b0366085",
   "metadata": {},
   "source": [
    "## Customers"
   ]
  },
  {
   "cell_type": "code",
   "execution_count": 6,
   "id": "c2c1b5ae",
   "metadata": {},
   "outputs": [],
   "source": [
    "# Customer settings\n",
    "n = 250\n",
    "birthday = \"-80y\", \"-18y\"\n",
    "created = \"-5y\", \"-1y\""
   ]
  },
  {
   "cell_type": "code",
   "execution_count": 7,
   "id": "eb212404",
   "metadata": {},
   "outputs": [],
   "source": [
    "customers = []\n",
    "\n",
    "for _ in range(n):\n",
    "    name = faker.unique.name().split(\"-\", 1)[0]\n",
    "    address = faker.unique.address().split('\\n')\n",
    "\n",
    "    customers.append({\n",
    "        \"KlantId\": faker.unique.bothify(text='CST-#####'),\n",
    "        \"Naam\": name,\n",
    "        \"Email\": fake_mail(name),\n",
    "        \"Geboortedatum\": faker.date_between(*birthday),\n",
    "        \"Adres\": address[0],\n",
    "        \"Postcode\": address[1],\n",
    "        \"Stad\": address[2],\n",
    "        \"Aangemaakt\": faker.date_between(*created),\n",
    "    })\n",
    "\n",
    "customers = pd.DataFrame(customers)"
   ]
  },
  {
   "cell_type": "code",
   "execution_count": null,
   "id": "6208dec9",
   "metadata": {},
   "outputs": [],
   "source": [
    "customers.sample(5)"
   ]
  },
  {
   "cell_type": "code",
   "execution_count": null,
   "id": "52729fc2",
   "metadata": {},
   "outputs": [],
   "source": [
    "cursor.executemany(\n",
    "    \"\"\"\n",
    "    INSERT INTO Klanten\n",
    "    (KlantId, Naam, Email, Geboortedatum, Adres, Postcode, Stad, Aangemaakt)\n",
    "    VALUES(:KlantId, :Naam, :Email, :Geboortedatum, :Adres, :Postcode, :Stad, :Aangemaakt);\n",
    "    \"\"\",\n",
    "    customers.to_dict(orient=\"records\")\n",
    ")"
   ]
  },
  {
   "cell_type": "markdown",
   "id": "ed0b088e",
   "metadata": {},
   "source": [
    "## Products"
   ]
  },
  {
   "cell_type": "code",
   "execution_count": 10,
   "id": "86a4e52c",
   "metadata": {},
   "outputs": [],
   "source": [
    "# Product specs: name, packaging, package_unit, category, subcategory, price\n",
    "products = pd.DataFrame(\n",
    "    data = [\n",
    "\n",
    "        (\"Margarine\", 500, \"gram\", \"Zuivel\", \"Levensmiddelen\", 0.99),\n",
    "        (\"Halfvolle melk\", 1, \"liter\", \"Zuivel\", \"Levensmiddelen\", 1.19),\n",
    "        (\"Halfvolle melk\", 1.5, \"liter\", \"Zuivel\", \"Levensmiddelen\", 1.99),\n",
    "        (\"Volle melk\", 1, \"liter\", \"Zuivel\", \"Levensmiddelen\", 1.29),\n",
    "        (\"Magere Yoghurt\", 1, \"liter\", \"Zuivel\", \"Levensmiddelen\", 1.19),\n",
    "        (\"Volle Yoghurt\", 1, \"liter\", \"Zuivel\", \"Levensmiddelen\", 1.29),\n",
    "\n",
    "        (\"Volkoren spagheti\", 500, \"gram\", \"Graanproducten\", \"Levensmiddelen\", 2.09),\n",
    "        (\"Volkoren brood\", 1, \"heel\", \"Graanproducten\", \"Levensmiddelen\", 1.29),\n",
    "        (\"Volkoren brood\", 1, \"half\", \"Graanproducten\", \"Levensmiddelen\", 0.79),\n",
    "        (\"Wit brood\", 1, \"heel\", \"Graanproducten\", \"Levensmiddelen\", 0.99),\n",
    "        (\"Wit brood\", 1, \"half\", \"Graanproducten\", \"Levensmiddelen\", 0.69),\n",
    "\n",
    "        (\"Witte druiven\", 500, \"gram\", \"Fruit\", \"Levensmiddelen\", 2.79),\n",
    "        (\"Appels\", 8, \"stuks\", \"Fruit\", \"Levensmiddelen\", 2.79),\n",
    "        (\"Peren\", 4, \"stuks\", \"Fruit\", \"Levensmiddelen\", 2.99),\n",
    "        (\"Komkommer\", 1, \"stuks\", \"Groenten\", \"Levensmiddelen\", 1.39),\n",
    "        (\"Tomaten\", 500, \"gram\", \"Groenten\", \"Levensmiddelen\", 2.49),\n",
    "        (\"Sla krop\", 1, \"stuks\", \"Groenten\", \"Levensmiddelen\", 1.59),\n",
    "        (\"Sla gesneden\", 200, \"gram\", \"Groenten\", \"Levensmiddelen\", 1.19),\n",
    "\n",
    "        (\"Bier\", 1, \"krat\", \"Alcoholische dranken\", \"Levensmiddelen\", 14.17),\n",
    "        (\"Rode wijn\", 1, \"liter\", \"Alcoholische dranken\", \"Levensmiddelen\", 6.99),\n",
    "        (\"Witte wijn\", 1, \"liter\", \"Alcoholische dranken\", \"Levensmiddelen\", 5.29),\n",
    "\n",
    "        (\"Shampoo\", 300, \"mililiter\", \"Haarproducten\", \"Persoonlijke verzorging\", 6.49),\n",
    "        (\"Handgel\", 100, \"mililiter\", \"Hygiene producten\", \"Persoonlijke verzorging\", 2.99),\n",
    "        (\"Tandpasta\", 75, \"mililiter\", \"Hygiene producten\", \"Persoonlijke verzorging\", 2.75),\n",
    "\n",
    "    ],\n",
    "    columns=[\n",
    "        \"Naam\", \"Verpakking\", \"VerpakkingEenheid\", \"Subcategorie\", \"Categorie\", \"Prijs\"\n",
    "    ]\n",
    ")\n",
    "product_ids = [faker.unique.bothify(text='PRD-#####') for _ in range(len(products))]\n",
    "products = products.assign(ProductId=product_ids)\n"
   ]
  },
  {
   "cell_type": "code",
   "execution_count": null,
   "id": "df62e998",
   "metadata": {},
   "outputs": [],
   "source": [
    "products.sample(5)"
   ]
  },
  {
   "cell_type": "code",
   "execution_count": null,
   "id": "759f5be4",
   "metadata": {},
   "outputs": [],
   "source": [
    "cursor.executemany(\n",
    "    \"\"\"\n",
    "    INSERT INTO Producten\n",
    "    (ProductId, Naam, Verpakking, VerpakkingEenheid, Categorie, Subcategorie, Prijs)\n",
    "    VALUES(:ProductId, :Naam, :Verpakking, :VerpakkingEenheid, :Categorie, :Subcategorie, :Prijs);\n",
    "    \"\"\",\n",
    "    products.to_dict(orient=\"records\")\n",
    ")"
   ]
  },
  {
   "cell_type": "markdown",
   "id": "ef03e881",
   "metadata": {},
   "source": [
    "## Transactions"
   ]
  },
  {
   "cell_type": "code",
   "execution_count": 13,
   "id": "64c6dd39",
   "metadata": {},
   "outputs": [],
   "source": [
    "# Generator settings\n",
    "date_range = \"2024-01-01\", \"2024-12-31\"\n",
    "daily_transactions = 10, 20\n",
    "transaction_items = 1, 7"
   ]
  },
  {
   "cell_type": "code",
   "execution_count": 14,
   "id": "a4b2c1c3",
   "metadata": {
    "scrolled": false
   },
   "outputs": [],
   "source": [
    "transactions = []\n",
    "\n",
    "days = pd.date_range(*date_range)\n",
    "counts = np.random.uniform(*daily_transactions, len(days)).astype(int)\n",
    "\n",
    "for day, count in zip(days, counts):\n",
    "\n",
    "    for _ in range(count):\n",
    "\n",
    "        customer_id = customers.sample(1).iloc[0, 0]\n",
    "        transaction_id = faker.unique.bothify(text='TX-######')\n",
    "        lines = random.randint(1, 5)\n",
    "        time = random.randrange(9 * 3600, 18 * 3600)\n",
    "\n",
    "        for line_nr, line in enumerate(range(lines), start=1):\n",
    "            product = products.sample(1)\n",
    "            product_id = product[\"ProductId\"].iloc[0]\n",
    "            product_price = product[\"Prijs\"].iloc[0]\n",
    "            quantity = round(random.lognormvariate(0.3, 0.4))\n",
    "            # quantity = clip(quantity, *transaction_items)\n",
    "\n",
    "            transaction = {\n",
    "                \"TransactieId\": transaction_id,\n",
    "                \"KlantId\": customer_id,\n",
    "                \"ProductId\": product_id,\n",
    "                \"DatumTijd\": (day + pd.Timedelta(seconds=time)),\n",
    "                \"RegelNummer\": line_nr,\n",
    "                \"Aantal\": quantity,\n",
    "                \"Prijs\": product_price,\n",
    "                # \"Totaal\": round(quantity * product_price, 2),\n",
    "            }\n",
    "\n",
    "            transactions.append(transaction)\n",
    "\n",
    "transactions = pd.DataFrame(transactions)"
   ]
  },
  {
   "cell_type": "code",
   "execution_count": 15,
   "id": "7d66aea5",
   "metadata": {},
   "outputs": [],
   "source": [
    "# pd.Series(np.random.lognormal(0.5, 0.5, 1000)).plot.hist(bins=50)"
   ]
  },
  {
   "cell_type": "code",
   "execution_count": 16,
   "id": "0b8d1142",
   "metadata": {},
   "outputs": [],
   "source": [
    "transactions[\"DatumTijd\"] = transactions[\"DatumTijd\"].dt.strftime(\"%Y-%m-%d %H:%M:%S\")"
   ]
  },
  {
   "cell_type": "code",
   "execution_count": null,
   "id": "4f1a1730",
   "metadata": {},
   "outputs": [],
   "source": [
    "transactions.sample(5)"
   ]
  },
  {
   "cell_type": "code",
   "execution_count": null,
   "id": "3bd01a2d",
   "metadata": {},
   "outputs": [],
   "source": [
    "transactions.dtypes"
   ]
  },
  {
   "cell_type": "code",
   "execution_count": null,
   "id": "2ce943a6",
   "metadata": {},
   "outputs": [],
   "source": [
    "cursor.executemany(\n",
    "    \"\"\"\n",
    "    INSERT INTO Transacties\n",
    "    (TransactieId, KlantId, ProductId, DatumTijd, RegelNummer, Aantal, Prijs)\n",
    "    VALUES(:TransactieId, :KlantId, :ProductId, :DatumTijd, :RegelNummer, :Aantal, :Prijs);\n",
    "    \"\"\",\n",
    "    transactions.to_dict(orient=\"records\")\n",
    ")"
   ]
  },
  {
   "cell_type": "code",
   "execution_count": 20,
   "id": "9379e40b",
   "metadata": {},
   "outputs": [],
   "source": [
    "db.commit()\n",
    "db.close()"
   ]
  }
 ],
 "metadata": {
  "kernelspec": {
   "display_name": "sql-course",
   "language": "python",
   "name": "python3"
  },
  "language_info": {
   "codemirror_mode": {
    "name": "ipython",
    "version": 3
   },
   "file_extension": ".py",
   "mimetype": "text/x-python",
   "name": "python",
   "nbconvert_exporter": "python",
   "pygments_lexer": "ipython3",
   "version": "3.11.11"
  }
 },
 "nbformat": 4,
 "nbformat_minor": 5
}
