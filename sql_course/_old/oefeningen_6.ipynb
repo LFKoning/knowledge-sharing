{
 "cells": [
  {
   "cell_type": "markdown",
   "metadata": {},
   "source": [
    "## Oefeningen 6: Indices en efficiëntie"
   ]
  },
  {
   "cell_type": "code",
   "execution_count": null,
   "metadata": {},
   "outputs": [],
   "source": [
    "# Hack the sys path for import\n",
    "import sys\n",
    "sys.path.insert(0,'..')"
   ]
  },
  {
   "cell_type": "code",
   "execution_count": null,
   "metadata": {},
   "outputs": [],
   "source": [
    "import pandas as pd\n",
    "from database import Database\n",
    "db = Database(\"../oefeningen5en6.db\")"
   ]
  },
  {
   "cell_type": "code",
   "execution_count": null,
   "metadata": {},
   "outputs": [],
   "source": [
    "pd.options.display.max_colwidth = None"
   ]
  },
  {
   "cell_type": "code",
   "execution_count": null,
   "metadata": {},
   "outputs": [],
   "source": [
    "db.query(\"DROP INDEX IF EXISTS IDX_Achternaam\")"
   ]
  },
  {
   "cell_type": "markdown",
   "metadata": {},
   "source": [
    "### Oefening 6.1: Executieplan zonder index"
   ]
  },
  {
   "cell_type": "code",
   "execution_count": null,
   "metadata": {},
   "outputs": [],
   "source": [
    "# Bij detail staat SCAN Personen; de hele tabel wordt gescand...\n",
    "db.query(\"\"\"\n",
    "EXPLAIN QUERY PLAN\n",
    "SELECT * FROM Personen WHERE Achternaam = 'Jansen'\n",
    "\"\"\")"
   ]
  },
  {
   "cell_type": "markdown",
   "metadata": {},
   "source": [
    "### Oefening 6.2: Index op Achternaam"
   ]
  },
  {
   "cell_type": "code",
   "execution_count": null,
   "metadata": {},
   "outputs": [],
   "source": [
    "# Maak index aan met CREATE INDEX\n",
    "db.query(\"CREATE INDEX IDX_Achternaam ON Personen(Achternaam);\")"
   ]
  },
  {
   "cell_type": "code",
   "execution_count": null,
   "metadata": {},
   "outputs": [],
   "source": [
    "# Check of de index is aangemaakt\n",
    "db.query(\"PRAGMA index_list(Personen);\")"
   ]
  },
  {
   "cell_type": "code",
   "execution_count": null,
   "metadata": {},
   "outputs": [],
   "source": [
    "# Merk op dat detail nu SEARCH ... USING INDEX vermeld.\n",
    "db.query(\"\"\"\n",
    "EXPLAIN QUERY PLAN\n",
    "SELECT * FROM Personen WHERE Achternaam = 'Jansen'\n",
    "\"\"\")"
   ]
  },
  {
   "cell_type": "markdown",
   "metadata": {},
   "source": [
    "### Oefening 6.3: Zoeken op Naam"
   ]
  },
  {
   "cell_type": "code",
   "execution_count": null,
   "metadata": {},
   "outputs": [],
   "source": [
    "# Zoeken op voornaam resulteert nog steeds in een scan...\n",
    "db.query(\"\"\"\n",
    "EXPLAIN QUERY PLAN\n",
    "SELECT * FROM Personen WHERE Naam = 'Anna'\n",
    "\"\"\")"
   ]
  },
  {
   "cell_type": "markdown",
   "metadata": {},
   "source": [
    "### Oefening 6.4: Zoeken op Naam en Achternaam"
   ]
  },
  {
   "cell_type": "code",
   "execution_count": null,
   "metadata": {},
   "outputs": [],
   "source": [
    "db.query(\"\"\"\n",
    "EXPLAIN QUERY PLAN\n",
    "SELECT * FROM Personen WHERE Naam = 'Anna' AND Achternaam = 'Jansen'\n",
    "\"\"\")"
   ]
  },
  {
   "cell_type": "code",
   "execution_count": null,
   "metadata": {},
   "outputs": [],
   "source": []
  },
  {
   "cell_type": "markdown",
   "metadata": {},
   "source": [
    "### Extra: Index op meerdere kolommen"
   ]
  },
  {
   "cell_type": "code",
   "execution_count": null,
   "metadata": {},
   "outputs": [],
   "source": [
    "db.query(\"DROP INDEX IF EXISTS IDX_Achternaam\")\n",
    "db.query(\"DROP INDEX IF EXISTS IDX_VolledigeNaam\")"
   ]
  },
  {
   "cell_type": "code",
   "execution_count": null,
   "metadata": {},
   "outputs": [],
   "source": [
    "# Maak de multi-index aan\n",
    "db.query(\"CREATE INDEX IDX_VolledigeNaam ON Personen(Naam, Achternaam)\")"
   ]
  },
  {
   "cell_type": "code",
   "execution_count": null,
   "metadata": {},
   "outputs": [],
   "source": [
    "# Check de velden van de index\n",
    "db.query(\"PRAGMA index_info(IDX_VolledigeNaam);\")"
   ]
  },
  {
   "cell_type": "code",
   "execution_count": null,
   "metadata": {},
   "outputs": [],
   "source": [
    "# Index wordt gebruikt bij filters op Naam en Achternaam\n",
    "db.query(\"\"\"\n",
    "EXPLAIN QUERY PLAN\n",
    "SELECT * FROM Personen WHERE Naam = 'Anna' AND Achternaam = 'Jansen'\n",
    "\"\"\")"
   ]
  },
  {
   "cell_type": "code",
   "execution_count": null,
   "metadata": {},
   "outputs": [],
   "source": [
    "# Index wordt ook gebruikt bij filters alleen op Naam\n",
    "db.query(\"\"\"\n",
    "EXPLAIN QUERY PLAN\n",
    "SELECT * FROM Personen WHERE Naam = 'Anna'\n",
    "\"\"\")"
   ]
  },
  {
   "cell_type": "code",
   "execution_count": null,
   "metadata": {},
   "outputs": [],
   "source": [
    "# Maar... Index wordt NIET gebruikt bij filters alleen op Achternaam\n",
    "db.query(\"\"\"\n",
    "EXPLAIN QUERY PLAN\n",
    "SELECT * FROM Personen WHERE Achternaam = 'Jansen'\n",
    "\"\"\")"
   ]
  },
  {
   "cell_type": "code",
   "execution_count": null,
   "metadata": {},
   "outputs": [],
   "source": [
    "# Maar... Index wordt ook NIET gebruikt bij filters met OR\n",
    "db.query(\"\"\"\n",
    "EXPLAIN QUERY PLAN\n",
    "SELECT * FROM Personen WHERE Naam = 'Anna' OR Achternaam = 'Jansen'\n",
    "\"\"\")"
   ]
  },
  {
   "cell_type": "code",
   "execution_count": null,
   "metadata": {},
   "outputs": [],
   "source": []
  }
 ],
 "metadata": {
  "kernelspec": {
   "display_name": "Python 3.9.13 ('sql-cursus')",
   "language": "python",
   "name": "python3"
  },
  "language_info": {
   "codemirror_mode": {
    "name": "ipython",
    "version": 3
   },
   "file_extension": ".py",
   "mimetype": "text/x-python",
   "name": "python",
   "nbconvert_exporter": "python",
   "pygments_lexer": "ipython3",
   "version": "3.9.13"
  },
  "vscode": {
   "interpreter": {
    "hash": "1ae326f517c64ba141234ceb6118a40b7e9b0643d4250c1ce3dc8f621740f057"
   }
  }
 },
 "nbformat": 4,
 "nbformat_minor": 4
}
