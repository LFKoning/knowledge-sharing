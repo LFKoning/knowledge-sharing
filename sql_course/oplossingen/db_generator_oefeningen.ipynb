{
 "cells": [
  {
   "cell_type": "code",
   "execution_count": null,
   "metadata": {},
   "outputs": [],
   "source": [
    "# Hack the sys path for import\n",
    "import sys\n",
    "sys.path.insert(0,'..')"
   ]
  },
  {
   "cell_type": "code",
   "execution_count": null,
   "metadata": {},
   "outputs": [],
   "source": [
    "import numpy as np\n",
    "import pandas as pd\n",
    "\n",
    "import scipy.stats as stats\n",
    "\n",
    "from faker import Faker\n",
    "import datetime as dt\n",
    "from datetime import date\n",
    "\n",
    "from database import Database\n",
    "\n",
    "from pandas2sql.generators import SQLiteGenerator, MySQLGenerator"
   ]
  },
  {
   "cell_type": "markdown",
   "metadata": {},
   "source": [
    "## Setup"
   ]
  },
  {
   "cell_type": "code",
   "execution_count": null,
   "metadata": {},
   "outputs": [],
   "source": [
    "db = Database(\"oefeningen.db\")\n",
    "gen = SQLiteGenerator()"
   ]
  },
  {
   "cell_type": "markdown",
   "metadata": {},
   "source": [
    "## Transacties"
   ]
  },
  {
   "cell_type": "code",
   "execution_count": null,
   "metadata": {},
   "outputs": [],
   "source": [
    "def fake_dates(dt_start, dt_end, n):\n",
    "    fk = Faker(\"nl_NL\")\n",
    "    dt_start = dt.datetime.strptime(dt_start, \"%Y-%m-%d\")\n",
    "    dt_end = dt.datetime.strptime(dt_end, \"%Y-%m-%d\")\n",
    "    return [fk.date_between_dates(dt_start, dt_end) for _ in range(n)]"
   ]
  },
  {
   "cell_type": "code",
   "execution_count": null,
   "metadata": {},
   "outputs": [],
   "source": [
    "n = 150\n",
    "n_products = 20\n",
    "n_customers = 30\n",
    "date_range = \"2020-01-01\", \"2020-03-31\"\n",
    "\n",
    "transactions = pd.DataFrame({\n",
    "    \"Id\": np.arange(0, n),\n",
    "    \"ProductId\": np.random.randint(0, n_products, n),\n",
    "    \"KlantId\": np.random.randint(0, n_customers, n),\n",
    "    \"Aantal\": stats.halfnorm(1, 3).rvs(n).astype(int),\n",
    "    \"PrijsExclusief\": [round(abs(x), 2) for x in stats.norm(5, 2).rvs(n)],\n",
    "    \"BTWTarief\": np.random.choice([\"hoog\", \"laag\"], n),\n",
    "    \"BestelDatum\": fake_dates(date_range[0], date_range[1], n),\n",
    "}).assign(\n",
    "    LeverDatum=lambda df: df[\"BestelDatum\"] + [dt.timedelta(days=int(x)) for x in np.random.randint(1, 5, n)]\n",
    ")"
   ]
  },
  {
   "cell_type": "code",
   "execution_count": null,
   "metadata": {},
   "outputs": [],
   "source": [
    "db.query(\"DROP TABLE IF EXISTS Transacties;\")\n",
    "db.query(gen.generate_schema(transactions, \"Transacties\"))"
   ]
  },
  {
   "cell_type": "code",
   "execution_count": null,
   "metadata": {},
   "outputs": [],
   "source": [
    "for insert in gen.generate_inserts(transactions, \"Transacties\"):\n",
    "    print(db.query(insert))"
   ]
  },
  {
   "cell_type": "code",
   "execution_count": null,
   "metadata": {},
   "outputs": [],
   "source": [
    "db.query(\"SELECT * FROM Transacties LIMIT 5;\")"
   ]
  },
  {
   "cell_type": "markdown",
   "metadata": {},
   "source": [
    "## Koppelingen"
   ]
  },
  {
   "cell_type": "code",
   "execution_count": null,
   "metadata": {},
   "outputs": [],
   "source": [
    "db.query(\"DROP TABLE IF EXISTS KoppelA;\")\n",
    "db.query(\"DROP TABLE IF EXISTS KoppelB;\")\n",
    "\n",
    "db.query(\"\"\"\n",
    "    CREATE TABLE KoppelA (\n",
    "        Id INTEGER,\n",
    "        Tekst TEXT\n",
    "    );\n",
    "\"\"\")\n",
    "\n",
    "db.query(\"\"\"\n",
    "    INSERT INTO KoppelA (Id, Tekst) \n",
    "    VALUES\n",
    "        (1, 'ID 1 in A'),\n",
    "        (2, 'ID 2 in A'),\n",
    "        (4, 'ID 4 in A'),\n",
    "        (4, 'ID 4 duplicaat in A'),\n",
    "        (5, 'ID 5 in A'),\n",
    "        (6, 'ID 6 in A'),\n",
    "        (6, 'ID 6 duplicaat in A')\n",
    "    ;\n",
    "\"\"\")\n",
    "\n",
    "db.query(\"\"\"\n",
    "    CREATE TABLE KoppelB (\n",
    "        Id INTEGER,\n",
    "        Tekst TEXT\n",
    "    );\n",
    "\"\"\")\n",
    "\n",
    "\n",
    "db.query(\"\"\"\n",
    "INSERT INTO KoppelB (Id, Tekst) \n",
    "VALUES\n",
    "    (1, 'ID 1 in B'),\n",
    "    (3, 'ID 3 in B'),\n",
    "    (4, 'ID 4 in B'),\n",
    "    (5, 'ID 5 in B'),\n",
    "    (5, 'ID 5 duplicaat in B'),\n",
    "    (6, 'ID 6 in B'),\n",
    "    (6, 'ID 6 duplicaat in B')\n",
    ";\n",
    "\"\"\")"
   ]
  },
  {
   "cell_type": "markdown",
   "metadata": {},
   "source": [
    "## MySQL"
   ]
  },
  {
   "cell_type": "code",
   "execution_count": null,
   "metadata": {},
   "outputs": [],
   "source": [
    "mysql_gen = MySQLGenerator()"
   ]
  },
  {
   "cell_type": "code",
   "execution_count": null,
   "metadata": {},
   "outputs": [],
   "source": [
    "print(mysql_gen.generate_schema(transactions, \"Transacties\"))"
   ]
  },
  {
   "cell_type": "code",
   "execution_count": null,
   "metadata": {},
   "outputs": [],
   "source": [
    "for insert in mysql_gen.generate_inserts(transactions, \"Transacties\"):\n",
    "    print(insert)"
   ]
  },
  {
   "cell_type": "raw",
   "metadata": {},
   "source": [
    "DROP TABLE IF EXISTS KoppelA;\n",
    "DROP TABLE IF EXISTS KoppelB;\n",
    "\n",
    "CREATE TABLE KoppelA (\n",
    "    Id INTEGER,\n",
    "    Tekst TEXT\n",
    ");\n",
    "\n",
    "\n",
    "INSERT INTO KoppelA (Id, Tekst) \n",
    "VALUES\n",
    "    (1, 'ID 1 in A'),\n",
    "    (2, 'ID 2 in A'),\n",
    "    (4, 'ID 4 in A'),\n",
    "    (4, 'ID 4 duplicaat in A'),\n",
    "    (5, 'ID 5 in A'),\n",
    "    (6, 'ID 6 in A'),\n",
    "    (6, 'ID 6 duplicaat in A')\n",
    ";\n",
    "\n",
    "CREATE TABLE KoppelB (\n",
    "    Id INTEGER,\n",
    "    Tekst TEXT\n",
    ");\n",
    "\n",
    "INSERT INTO KoppelB (Id, Tekst) \n",
    "VALUES\n",
    "    (1, 'ID 1 in B'),\n",
    "    (3, 'ID 3 in B'),\n",
    "    (4, 'ID 4 in B'),\n",
    "    (5, 'ID 5 in B'),\n",
    "    (5, 'ID 5 duplicaat in B'),\n",
    "    (6, 'ID 6 in B'),\n",
    "    (6, 'ID 6 duplicaat in B')\n",
    ";"
   ]
  },
  {
   "cell_type": "code",
   "execution_count": null,
   "metadata": {},
   "outputs": [],
   "source": []
  }
 ],
 "metadata": {
  "kernelspec": {
   "display_name": "Python [conda env:pandas2sql]",
   "language": "python",
   "name": "conda-env-pandas2sql-py"
  },
  "language_info": {
   "codemirror_mode": {
    "name": "ipython",
    "version": 3
   },
   "file_extension": ".py",
   "mimetype": "text/x-python",
   "name": "python",
   "nbconvert_exporter": "python",
   "pygments_lexer": "ipython3",
   "version": "3.7.9"
  }
 },
 "nbformat": 4,
 "nbformat_minor": 4
}
