{
 "cells": [
  {
   "cell_type": "markdown",
   "metadata": {},
   "source": [
    "# SQLite Parameters"
   ]
  },
  {
   "cell_type": "code",
   "execution_count": null,
   "metadata": {},
   "outputs": [],
   "source": [
    "import os\n",
    "import sqlite3"
   ]
  },
  {
   "cell_type": "markdown",
   "metadata": {},
   "source": [
    "#### Setup"
   ]
  },
  {
   "cell_type": "code",
   "execution_count": null,
   "metadata": {},
   "outputs": [],
   "source": [
    "# Zet database op\n",
    "database_file = \"sqlite_parameters.db\"\n",
    "connection = sqlite3.connect(database_file)\n",
    "cursor = connection.cursor()"
   ]
  },
  {
   "cell_type": "code",
   "execution_count": null,
   "metadata": {},
   "outputs": [],
   "source": [
    "# Maak Personen tabel met 2 records\n",
    "cursor.executescript(\"\"\"\n",
    "    CREATE TABLE Personen (\n",
    "        PersoonId INTEGER PRIMARY KEY,\n",
    "        Voornaam TEXT NOT NULL,\n",
    "        Achternaam TEXT NOT NULL\n",
    "    );\n",
    "\n",
    "    INSERT INTO Personen\n",
    "            (Voornaam, Achternaam)\n",
    "        VALUES\n",
    "            (\"Henk\", \"Jansen\"),\n",
    "            (\"Pieter\", \"Cornelissen\")\n",
    "    ;\n",
    "\"\"\")"
   ]
  },
  {
   "cell_type": "code",
   "execution_count": null,
   "metadata": {},
   "outputs": [],
   "source": [
    "# Check tabel\n",
    "cursor.execute(\"SELECT * FROM Personen\").fetchall()"
   ]
  },
  {
   "cell_type": "markdown",
   "metadata": {},
   "source": [
    "#### Niet geparametriseerde query"
   ]
  },
  {
   "cell_type": "code",
   "execution_count": null,
   "metadata": {},
   "outputs": [],
   "source": [
    "query = \"SELECT * FROM Personen WHERE Achternaam = '{achternaam}'\""
   ]
  },
  {
   "cell_type": "code",
   "execution_count": null,
   "metadata": {},
   "outputs": [],
   "source": [
    "# Met correcte invoer...\n",
    "achternaam = \"Jansen\"\n",
    "print(query.format(achternaam=achternaam))\n",
    "cursor.execute(query.format(achternaam=achternaam)).fetchall()"
   ]
  },
  {
   "cell_type": "code",
   "execution_count": null,
   "metadata": {},
   "outputs": [],
   "source": [
    "# Met incorrecte invoer...\n",
    "# Merk op dat er teveel informatie wordt teruggegeven!\n",
    "achternaam = \"x' OR 1 = 1 OR 'x\"\n",
    "print(query.format(achternaam=achternaam))\n",
    "cursor.execute(query.format(achternaam=achternaam)).fetchall()"
   ]
  },
  {
   "cell_type": "markdown",
   "metadata": {},
   "source": [
    "#### Geparametriseerde query"
   ]
  },
  {
   "cell_type": "code",
   "execution_count": null,
   "metadata": {},
   "outputs": [],
   "source": [
    "# Merk op: De waarde is vervangen door een vraagteken\n",
    "query = \"SELECT * FROM Personen WHERE Achternaam = ?\""
   ]
  },
  {
   "cell_type": "code",
   "execution_count": null,
   "metadata": {},
   "outputs": [],
   "source": [
    "# Met correcte invoer...\n",
    "# Merk op: Er is 1 vraageken en dus 1 waarde.\n",
    "achternaam = \"Jansen\"\n",
    "cursor.execute(query, [achternaam]).fetchall()"
   ]
  },
  {
   "cell_type": "code",
   "execution_count": null,
   "metadata": {},
   "outputs": [],
   "source": [
    "# Met incorrecte invoer... Geen resultaten!\n",
    "achternaam = \"x' OR 1 = 1 OR 'x\"\n",
    "cursor.execute(query, [achternaam]).fetchall()"
   ]
  },
  {
   "cell_type": "code",
   "execution_count": null,
   "metadata": {},
   "outputs": [],
   "source": [
    "# Mooiere syntax met namen\n",
    "# Syntax is @naam of :naam, afhankelijk van RDBMS!\n",
    "query = \"SELECT * FROM Personen WHERE Achternaam = @Achternaam\"\n",
    "parameters = {\"Achternaam\": \"Jansen\"}\n",
    "\n",
    "cursor.execute(query, parameters).fetchall()"
   ]
  },
  {
   "cell_type": "markdown",
   "metadata": {},
   "source": [
    "#### Meerdere rijen tegelijk"
   ]
  },
  {
   "cell_type": "code",
   "execution_count": null,
   "metadata": {},
   "outputs": [],
   "source": [
    "# Data over personen\n",
    "data = [\n",
    "    {\"Voornaam\": \"Ingrid\", \"Achternaam\": \"Maarsen\"},\n",
    "    {\"Voornaam\": \"Sjoerd\", \"Achternaam\": \"van der Poel\"},\n",
    "    {\"Voornaam\": \"Marijke\", \"Achternaam\": \"Hoekstra\"}\n",
    "]"
   ]
  },
  {
   "cell_type": "code",
   "execution_count": null,
   "metadata": {},
   "outputs": [],
   "source": [
    "# Query om data in te voeren\n",
    "query = \"\"\"\n",
    "    INSERT INTO Personen (Voornaam, Achternaam)\n",
    "        VALUES (@Voornaam, @Achternaam)\n",
    "\"\"\""
   ]
  },
  {
   "cell_type": "code",
   "execution_count": null,
   "metadata": {},
   "outputs": [],
   "source": [
    "# Gerbuik executemany() om alle data in te voeren\n",
    "cursor.executemany(query, data)"
   ]
  },
  {
   "cell_type": "code",
   "execution_count": null,
   "metadata": {},
   "outputs": [],
   "source": [
    "cursor.execute(\"SELECT * FROM Personen\").fetchall()"
   ]
  },
  {
   "cell_type": "code",
   "execution_count": null,
   "metadata": {},
   "outputs": [],
   "source": [
    "# Afsluiten en opruimen\n",
    "try:\n",
    "    connection.close()\n",
    "    os.remove(database_file)\n",
    "except FileNotFoundError:\n",
    "    pass\n",
    "except PermissionError:\n",
    "    print(f\"Fout: De database {database_file!r} is nog open!\")"
   ]
  },
  {
   "cell_type": "code",
   "execution_count": null,
   "metadata": {},
   "outputs": [],
   "source": []
  }
 ],
 "metadata": {
  "kernelspec": {
   "display_name": "Python 3.9.12 ('jupyter')",
   "language": "python",
   "name": "python3"
  },
  "language_info": {
   "codemirror_mode": {
    "name": "ipython",
    "version": 3
   },
   "file_extension": ".py",
   "mimetype": "text/x-python",
   "name": "python",
   "nbconvert_exporter": "python",
   "pygments_lexer": "ipython3",
   "version": "3.9.12"
  },
  "orig_nbformat": 4,
  "vscode": {
   "interpreter": {
    "hash": "6f41e1df0e4a31ab02d2e25f8f4d40275a11454fc38e96d547a26ca87e1175c0"
   }
  }
 },
 "nbformat": 4,
 "nbformat_minor": 2
}
