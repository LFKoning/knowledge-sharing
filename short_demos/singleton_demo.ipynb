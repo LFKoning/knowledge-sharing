{
 "cells": [
  {
   "cell_type": "markdown",
   "metadata": {},
   "source": [
    "## Singleton Demo"
   ]
  },
  {
   "cell_type": "markdown",
   "metadata": {},
   "source": [
    "The `Status` class below is implemented as a `Singleton`. Imagine that its `_status_update` method is resource heavy and we want to limit calls to it. Having a singleton makes sure only one instance exists which makes the calls. Caching the status further reduces costly status updates.\n",
    "\n",
    "Note that the two `Caller` objects update more frequently. They both share the same `Status` singleton and you can see the status caching in action."
   ]
  },
  {
   "cell_type": "code",
   "execution_count": 1,
   "metadata": {},
   "outputs": [],
   "source": [
    "import time\n",
    "import datetime as dt\n",
    "\n",
    "\n",
    "class Singleton(type):\n",
    "    \"\"\"Implements singeton as metaclass.\"\"\"\n",
    "\n",
    "    # Keep track of instances\n",
    "    _instances = {}\n",
    "    \n",
    "    def __call__(cls, *args, **kwargs):\n",
    "        \"\"\"Class construction, return exiting instance or create one.\"\"\"\n",
    "        if cls not in cls._instances:\n",
    "            cls._instances[cls] = super(Singleton, cls).__call__(*args, **kwargs)\n",
    "        return cls._instances[cls]\n",
    "\n",
    "class Status(metaclass=Singleton):\n",
    "    \"\"\"Status class updates status at regular intervals.\"\"\"\n",
    "    \n",
    "    def __init__(self, freq=5):\n",
    "        \"\"\"Constructor, set update frequency in seconds.\"\"\"\n",
    "        self._freq = freq\n",
    "        \n",
    "        # Set initial status and update time\n",
    "        self._status = 0\n",
    "        self._last_update = dt.datetime.now()\n",
    "        \n",
    "    def _update_status(self):\n",
    "        \"\"\"Perform status update if status has expired.\"\"\"\n",
    "        delta = dt.datetime.now() - self._last_update\n",
    "        if delta.total_seconds() > self._freq:\n",
    "            self._status += 1\n",
    "            self._last_update = dt.datetime.now()\n",
    "\n",
    "    def get_status(self):\n",
    "        \"\"\"Returns most recent status.\"\"\"\n",
    "        self._update_status()\n",
    "        return self._status\n",
    "    \n",
    "class Caller:\n",
    "    \"\"\"Caller class that uses above Status class.\"\"\"\n",
    "    \n",
    "    def __init__(self):\n",
    "        self._status = Status()\n",
    "    \n",
    "    def update(self):\n",
    "        return self._status.get_status()"
   ]
  },
  {
   "cell_type": "code",
   "execution_count": 2,
   "metadata": {},
   "outputs": [
    {
     "name": "stdout",
     "output_type": "stream",
     "text": [
      "caller1._status id: 1449813596360\n",
      "caller2._status id: 1449813596360\n"
     ]
    }
   ],
   "source": [
    "# Create 2 callers\n",
    "caller1 = Caller()\n",
    "caller2 = Caller()\n",
    "\n",
    "# Note how both callers have the same Status object.\n",
    "# Having one Status object limits overall _status_update calls.\n",
    "print(f\"caller1._status id: {id(caller1._status)}\")\n",
    "print(f\"caller2._status id: {id(caller2._status)}\")"
   ]
  },
  {
   "cell_type": "code",
   "execution_count": 3,
   "metadata": {},
   "outputs": [
    {
     "name": "stdout",
     "output_type": "stream",
     "text": [
      "Loop 1: caller1.update() returns: 0\n",
      "Loop 1: caller2.update() returns: 0\n",
      "Loop 2: caller1.update() returns: 0\n",
      "Loop 2: caller2.update() returns: 0\n",
      "Loop 3: caller1.update() returns: 0\n",
      "Loop 3: caller2.update() returns: 0\n",
      "Loop 4: caller1.update() returns: 0\n",
      "Loop 4: caller2.update() returns: 0\n",
      "Loop 5: caller1.update() returns: 0\n",
      "Loop 5: caller2.update() returns: 0\n",
      "Loop 6: caller1.update() returns: 1\n",
      "Loop 6: caller2.update() returns: 1\n",
      "Loop 7: caller1.update() returns: 1\n",
      "Loop 7: caller2.update() returns: 1\n",
      "Loop 8: caller1.update() returns: 1\n",
      "Loop 8: caller2.update() returns: 1\n",
      "Loop 9: caller1.update() returns: 1\n",
      "Loop 9: caller2.update() returns: 1\n",
      "Loop 10: caller1.update() returns: 1\n",
      "Loop 10: caller2.update() returns: 1\n",
      "Loop 11: caller1.update() returns: 2\n",
      "Loop 11: caller2.update() returns: 2\n",
      "Loop 12: caller1.update() returns: 2\n",
      "Loop 12: caller2.update() returns: 2\n",
      "Loop 13: caller1.update() returns: 2\n",
      "Loop 13: caller2.update() returns: 2\n",
      "Loop 14: caller1.update() returns: 2\n",
      "Loop 14: caller2.update() returns: 2\n"
     ]
    }
   ],
   "source": [
    "# Loop every second, watch the status change every 5 seconds\n",
    "# Note: both callers get the same status!\n",
    "for loop in range(1, 15):\n",
    "    print(f\"Loop {loop}: caller1.update() returns: {caller1.update()}\")\n",
    "    print(f\"Loop {loop}: caller2.update() returns: {caller2.update()}\")\n",
    "    time.sleep(1)"
   ]
  },
  {
   "cell_type": "code",
   "execution_count": null,
   "metadata": {},
   "outputs": [],
   "source": []
  }
 ],
 "metadata": {
  "kernelspec": {
   "display_name": "Python 3",
   "language": "python",
   "name": "python3"
  },
  "language_info": {
   "codemirror_mode": {
    "name": "ipython",
    "version": 3
   },
   "file_extension": ".py",
   "mimetype": "text/x-python",
   "name": "python",
   "nbconvert_exporter": "python",
   "pygments_lexer": "ipython3",
   "version": "3.7.7"
  }
 },
 "nbformat": 4,
 "nbformat_minor": 2
}
