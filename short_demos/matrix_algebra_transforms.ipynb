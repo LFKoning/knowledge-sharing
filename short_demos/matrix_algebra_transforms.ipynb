{
 "cells": [
  {
   "cell_type": "markdown",
   "metadata": {},
   "source": [
    "# Matrix Algebra - 2D transformations"
   ]
  },
  {
   "cell_type": "code",
   "execution_count": 266,
   "metadata": {},
   "outputs": [],
   "source": [
    "import numpy as np\n",
    "\n",
    "def scale(points, h, v):\n",
    "    \"\"\"\n",
    "    Scales a matrix of point coordinates.\n",
    "    \n",
    "    Parameters\n",
    "    ----------\n",
    "    points : numpy.matrix\n",
    "        2D matrix containing x and y coordinates.\n",
    "    h : int\n",
    "        Horizontal scaling factor.\n",
    "    v : int\n",
    "        Vertical scaling factor.\n",
    "        \n",
    "    Returns\n",
    "    -------\n",
    "    np.matrix\n",
    "        Scaled version of the input matrix\n",
    "    \"\"\"\n",
    "    # Build translation matrix\n",
    "    scale = np.matrix([[h, 0], [0, v]])\n",
    "    \n",
    "    # Perform scaling\n",
    "    return dots * scale.T\n",
    "\n",
    "def translate(points, h, v):\n",
    "    \"\"\"\n",
    "    Translates a matrix of point coordinates.\n",
    "    \n",
    "    Parameters\n",
    "    ----------\n",
    "    points : numpy.matrix\n",
    "        2D matrix containing x and y coordinates.\n",
    "    h : int\n",
    "        Horizontal scaling factor.\n",
    "    v : int\n",
    "        Vertical scaling factor.\n",
    "        \n",
    "    Returns\n",
    "    -------\n",
    "    np.matrix\n",
    "        Scaled version of the input matrix\n",
    "    \"\"\"\n",
    "    # Build translation matrix\n",
    "    trans = np.matrix([[h, v]])\n",
    "    \n",
    "    # Perform translation\n",
    "    return dots + trans\n",
    "\n",
    "def plot(dots):\n",
    "    \"\"\"\n",
    "    Silly plotting function to generate ASCII representation.\n",
    "\n",
    "    Parameters\n",
    "    ----------\n",
    "    points : numpy.matrix\n",
    "        2D matrix containing x and y coordinates.\n",
    "\n",
    "    \"\"\"\n",
    "    # Compute x and y ranges\n",
    "    max_x = dots[:, 0].max() + 1\n",
    "    max_y = dots[:, 1].max() + 1\n",
    "    \n",
    "    # Initialize spaces, then add *\n",
    "    lines = [[\".\"] * max_x for _ in range(max_y)]\n",
    "    for dot in dots:\n",
    "        lines[dot[0, 1]][dot[0, 0]] = \"*\"\n",
    "    \n",
    "    # Print lines\n",
    "    for line in lines:\n",
    "        print(\"\".join(line))"
   ]
  },
  {
   "cell_type": "code",
   "execution_count": 267,
   "metadata": {},
   "outputs": [
    {
     "name": "stdout",
     "output_type": "stream",
     "text": [
      "*....\n",
      "*....\n",
      "*.*.*\n"
     ]
    }
   ],
   "source": [
    "# Example point coordinate matrix\n",
    "dots = np.matrix([\n",
    "    [0, 0],\n",
    "    [0, 1],\n",
    "    [0, 2],\n",
    "    [2, 2],\n",
    "    [4, 2],\n",
    "])\n",
    "\n",
    "# Plot it\n",
    "plot(dots)"
   ]
  },
  {
   "cell_type": "code",
   "execution_count": 268,
   "metadata": {},
   "outputs": [
    {
     "name": "stdout",
     "output_type": "stream",
     "text": [
      "*................\n",
      ".................\n",
      ".................\n",
      ".................\n",
      "*................\n",
      ".................\n",
      ".................\n",
      ".................\n",
      "*.......*.......*\n"
     ]
    }
   ],
   "source": [
    "# Scaling by a factor is easy\n",
    "# Note: scales by same factor in horizontal and vertical direction\n",
    "plot(dots * 4)"
   ]
  },
  {
   "cell_type": "code",
   "execution_count": 269,
   "metadata": {},
   "outputs": [
    {
     "name": "stdout",
     "output_type": "stream",
     "text": [
      "*................\n",
      ".................\n",
      "*................\n",
      ".................\n",
      "*.......*.......*\n"
     ]
    }
   ],
   "source": [
    "# Scale 4 * horizontal and 2 * vertical\n",
    "dots_scaled = scale(dots, 4, 2)\n",
    "print_dots(dots_scaled)"
   ]
  },
  {
   "cell_type": "code",
   "execution_count": 271,
   "metadata": {},
   "outputs": [
    {
     "name": "stdout",
     "output_type": "stream",
     "text": [
      ".......\n",
      ".......\n",
      "..*....\n",
      "..*....\n",
      "..*.*.*\n"
     ]
    }
   ],
   "source": [
    "# Translating is also simple\n",
    "# Note: translates by +2 in both horizontal and vertical direction\n",
    "plot(dots + 2)"
   ]
  },
  {
   "cell_type": "code",
   "execution_count": 272,
   "metadata": {},
   "outputs": [
    {
     "name": "stdout",
     "output_type": "stream",
     "text": [
      ".........\n",
      ".........\n",
      "....*....\n",
      "....*....\n",
      "....*.*.*\n"
     ]
    }
   ],
   "source": [
    "# Translation by 4 horizontal and 2 vertical\n",
    "dots_trans = translate(dots, 4, 2)\n",
    "print_dots(dots_trans)"
   ]
  }
 ],
 "metadata": {
  "kernelspec": {
   "display_name": "base",
   "language": "python",
   "name": "base"
  },
  "language_info": {
   "codemirror_mode": {
    "name": "ipython",
    "version": 3
   },
   "file_extension": ".py",
   "mimetype": "text/x-python",
   "name": "python",
   "nbconvert_exporter": "python",
   "pygments_lexer": "ipython3",
   "version": "3.7.2"
  }
 },
 "nbformat": 4,
 "nbformat_minor": 2
}
