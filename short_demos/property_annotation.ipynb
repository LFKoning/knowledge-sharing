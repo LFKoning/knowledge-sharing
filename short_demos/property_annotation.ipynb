{
 "cells": [
  {
   "cell_type": "markdown",
   "metadata": {},
   "source": [
    "## Property Annotation"
   ]
  },
  {
   "cell_type": "markdown",
   "metadata": {},
   "source": [
    "This Notebook demonstrate the usage of the `@property` annotation in Python. It uses both setter and getter methods. The `@property` annotation is great for providing a more structured interaction with your class properties."
   ]
  },
  {
   "cell_type": "code",
   "execution_count": 1,
   "metadata": {},
   "outputs": [],
   "source": [
    "class Person:\n",
    "    \"\"\"\n",
    "    Simple class to demo @property annotations.\n",
    "\n",
    "    Parameters\n",
    "    ----------\n",
    "    name : str\n",
    "        Name of the person.\n",
    "    age : int\n",
    "        Age of the person\n",
    "    \"\"\"\n",
    "    \n",
    "    # These are considered private properties\n",
    "    _name = None\n",
    "    _age = None\n",
    "    \n",
    "    def __init__(self, name, age):\n",
    "        # Note: Uses setter functions\n",
    "        self.name = name\n",
    "        self.age = age\n",
    "\n",
    "    @property\n",
    "    def name(self):\n",
    "        \"\"\"\n",
    "        This is the \"getter\" function for name.\n",
    "        \n",
    "        Returns\n",
    "        -------\n",
    "        str\n",
    "            Person's name as a string.\n",
    "        \"\"\"\n",
    "        \n",
    "        # Returns the private _name property\n",
    "        # Note: also apply some formatting\n",
    "        return self._name.title()\n",
    "\n",
    "    @name.setter\n",
    "    def name(self, name):\n",
    "        \"\"\"\n",
    "        This is the \"setter\" function for name.\n",
    "        \n",
    "        Parameters\n",
    "        ----------\n",
    "        name : str\n",
    "            Name of the person as string.\n",
    "        \"\"\"\n",
    "\n",
    "        # Check value was provided\n",
    "        if not name:\n",
    "            raise ValueError(\"Please provide a name!\")\n",
    "\n",
    "        # Check if name is string\n",
    "        if not isinstance(name, str):\n",
    "            raise ValueError(\"Provided name is not a string!\")\n",
    "\n",
    "        # Do some processing\n",
    "        name = name.strip()\n",
    "\n",
    "        # Then store it in the private _name property    \n",
    "        self._name = name\n",
    "\n",
    "    @property\n",
    "    def age(self):\n",
    "        \"\"\"\n",
    "        This is the \"getter\" function for age.\n",
    "        \n",
    "        Returns\n",
    "        -------\n",
    "        int\n",
    "            Age of the person as integer.\n",
    "        \"\"\"\n",
    "        \n",
    "        # Again using private _age property\n",
    "        return self._age\n",
    "\n",
    "    @age.setter\n",
    "    def age(self, age):\n",
    "        \"\"\"\n",
    "        Setter function for age.\n",
    "        \n",
    "        Parameters\n",
    "        ----------\n",
    "        age : int\n",
    "            Age of the person as integer.\n",
    "        \"\"\"\n",
    "\n",
    "        # Try casting to make sure age is an integer\n",
    "        try:\n",
    "            age = int(age)\n",
    "        except ValueError:\n",
    "            raise ValueError(\"Provided age is not an integer!\")\n",
    "\n",
    "        # Check age range\n",
    "        if not 0 < age < 120:\n",
    "            raise ValueError(\"Provided age falls outside valid range (0-120)!\")\n",
    "\n",
    "        # Store in private _age property\n",
    "        self._age = age\n",
    "\n",
    "    def __repr__(self):\n",
    "        \"\"\"\n",
    "        Returns a string representation of a Person object.\n",
    "        Note: Uses getter functions too.\n",
    "        \n",
    "        Returns\n",
    "        -------\n",
    "        str\n",
    "            String representation of a Person object.\n",
    "        \"\"\"\n",
    "    \n",
    "        return f\"Person(name='{self.name}', age={self.age})\""
   ]
  },
  {
   "cell_type": "code",
   "execution_count": 2,
   "metadata": {},
   "outputs": [
    {
     "data": {
      "text/plain": [
       "Person(name='John Doe', age=31)"
      ]
     },
     "execution_count": 2,
     "metadata": {},
     "output_type": "execute_result"
    }
   ],
   "source": [
    "# Create a person and print\n",
    "# Calls constructor method, which in turn uses property setter functions\n",
    "jd = Person(\"John Doe\", 31)\n",
    "jd"
   ]
  },
  {
   "cell_type": "code",
   "execution_count": 3,
   "metadata": {},
   "outputs": [
    {
     "data": {
      "text/plain": [
       "'Jane Doe'"
      ]
     },
     "execution_count": 3,
     "metadata": {},
     "output_type": "execute_result"
    }
   ],
   "source": [
    "# Update name and age using the setter functions\n",
    "jd.name = \"jane doe\"\n",
    "\n",
    "# Note: Capital letters introduced the \"getter\"\n",
    "jd.name"
   ]
  },
  {
   "cell_type": "code",
   "execution_count": 4,
   "metadata": {},
   "outputs": [
    {
     "data": {
      "text/plain": [
       "'jane doe'"
      ]
     },
     "execution_count": 4,
     "metadata": {},
     "output_type": "execute_result"
    }
   ],
   "source": [
    "# But the underlying propery still has lower case\n",
    "jd._name"
   ]
  },
  {
   "cell_type": "code",
   "execution_count": 5,
   "metadata": {},
   "outputs": [
    {
     "name": "stdout",
     "output_type": "stream",
     "text": [
      "25 <class 'int'>\n"
     ]
    }
   ],
   "source": [
    "# Note that the setter casts to integer.\n",
    "jd.age = \"25\"\n",
    "print(jd.age, type(jd.age))"
   ]
  },
  {
   "cell_type": "code",
   "execution_count": 6,
   "metadata": {},
   "outputs": [
    {
     "ename": "ValueError",
     "evalue": "Provided age falls outside valid range (0-120)!",
     "output_type": "error",
     "traceback": [
      "\u001b[1;31m---------------------------------------------------------------------------\u001b[0m",
      "\u001b[1;31mValueError\u001b[0m                                Traceback (most recent call last)",
      "\u001b[1;32m<ipython-input-6-7d86bee7a0b5>\u001b[0m in \u001b[0;36m<module>\u001b[1;34m\u001b[0m\n\u001b[0;32m      1\u001b[0m \u001b[1;31m# Cannot set \"invalid\" age using the setter\u001b[0m\u001b[1;33m\u001b[0m\u001b[1;33m\u001b[0m\u001b[1;33m\u001b[0m\u001b[0m\n\u001b[1;32m----> 2\u001b[1;33m \u001b[0mjd\u001b[0m\u001b[1;33m.\u001b[0m\u001b[0mage\u001b[0m \u001b[1;33m=\u001b[0m \u001b[1;36m130\u001b[0m\u001b[1;33m\u001b[0m\u001b[1;33m\u001b[0m\u001b[0m\n\u001b[0m",
      "\u001b[1;32m<ipython-input-1-46ff9db58d6c>\u001b[0m in \u001b[0;36mage\u001b[1;34m(self, age)\u001b[0m\n\u001b[0;32m     93\u001b[0m         \u001b[1;31m# Check age range\u001b[0m\u001b[1;33m\u001b[0m\u001b[1;33m\u001b[0m\u001b[1;33m\u001b[0m\u001b[0m\n\u001b[0;32m     94\u001b[0m         \u001b[1;32mif\u001b[0m \u001b[1;32mnot\u001b[0m \u001b[1;36m0\u001b[0m \u001b[1;33m<\u001b[0m \u001b[0mage\u001b[0m \u001b[1;33m<\u001b[0m \u001b[1;36m120\u001b[0m\u001b[1;33m:\u001b[0m\u001b[1;33m\u001b[0m\u001b[1;33m\u001b[0m\u001b[0m\n\u001b[1;32m---> 95\u001b[1;33m             \u001b[1;32mraise\u001b[0m \u001b[0mValueError\u001b[0m\u001b[1;33m(\u001b[0m\u001b[1;34m\"Provided age falls outside valid range (0-120)!\"\u001b[0m\u001b[1;33m)\u001b[0m\u001b[1;33m\u001b[0m\u001b[1;33m\u001b[0m\u001b[0m\n\u001b[0m\u001b[0;32m     96\u001b[0m \u001b[1;33m\u001b[0m\u001b[0m\n\u001b[0;32m     97\u001b[0m         \u001b[1;31m# Store in private _age property\u001b[0m\u001b[1;33m\u001b[0m\u001b[1;33m\u001b[0m\u001b[1;33m\u001b[0m\u001b[0m\n",
      "\u001b[1;31mValueError\u001b[0m: Provided age falls outside valid range (0-120)!"
     ]
    }
   ],
   "source": [
    "# Cannot set \"invalid\" age using the setter\n",
    "jd.age = 130"
   ]
  },
  {
   "cell_type": "code",
   "execution_count": 7,
   "metadata": {},
   "outputs": [
    {
     "data": {
      "text/plain": [
       "Person(name='Jane Doe', age=130)"
      ]
     },
     "execution_count": 7,
     "metadata": {},
     "output_type": "execute_result"
    }
   ],
   "source": [
    "# However, you can set it through the private property directly\n",
    "# Note: Private properties / methods are only a convention in Python...\n",
    "jd._age = 130\n",
    "jd"
   ]
  },
  {
   "cell_type": "code",
   "execution_count": null,
   "metadata": {},
   "outputs": [],
   "source": []
  }
 ],
 "metadata": {
  "kernelspec": {
   "display_name": "Python 3",
   "language": "python",
   "name": "python3"
  },
  "language_info": {
   "codemirror_mode": {
    "name": "ipython",
    "version": 3
   },
   "file_extension": ".py",
   "mimetype": "text/x-python",
   "name": "python",
   "nbconvert_exporter": "python",
   "pygments_lexer": "ipython3",
   "version": "3.7.7"
  }
 },
 "nbformat": 4,
 "nbformat_minor": 4
}
