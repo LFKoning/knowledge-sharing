{
 "cells": [
  {
   "cell_type": "markdown",
   "metadata": {},
   "source": [
    "## Supporting classes"
   ]
  },
  {
   "cell_type": "code",
   "execution_count": 1,
   "metadata": {},
   "outputs": [],
   "source": [
    "import logging\n",
    "import pandas as pd\n",
    "\n",
    "\n",
    "class Transformer:\n",
    "    \"\"\"Transformer base class.\"\"\"\n",
    "    \n",
    "    required_args = None\n",
    "    \n",
    "    def __init__(self):\n",
    "        self._log = logging.getLogger(self.__class__.__name__)\n",
    "    \n",
    "    def apply_transform(self, df, args):\n",
    "        \"\"\"Calls transform on the specific transformer.\"\"\"\n",
    "        \n",
    "        if not isinstance(df, pd.DataFrame):\n",
    "            msg = \"Must supply a pandas DataFrame to transform.\"\n",
    "            self._log.error(msg)\n",
    "            raise TypeError(msg)\n",
    "\n",
    "        if self.required_args:\n",
    "            missing_args = set(self.required_args) - set(args)\n",
    "            if missing_args:\n",
    "                msg = \"Missing required arguments: \" + \", \".join(missing_args)\n",
    "                self._log.error(msg)\n",
    "                raise ValueError(msg)\n",
    "            \n",
    "        self._log.debug(\"Got DataFrame with %d rows and %d columns\", *df.shape)\n",
    "        self._log.debug(\"Column names: \" + \", \".join(df.columns))\n",
    "        return self.transform(df, **args)\n",
    "    \n",
    "    def transform(self, df, **kwargs):\n",
    "        \"\"\"Transform method to be overriden by child classes.\"\"\"\n",
    "        raise NotImplementedError\n",
    "\n",
    "    @classmethod\n",
    "    def get(cls, name):\n",
    "        \"\"\"Get a specific Transformer class by name.\"\"\"\n",
    "        available = cls.available()\n",
    "        if name in available:\n",
    "            return available[name]\n",
    "    \n",
    "    @classmethod\n",
    "    def available(cls):\n",
    "        \"\"\"List available Transformers.\"\"\"\n",
    "        return {\n",
    "            tfm.__name__: tfm\n",
    "            for tfm in cls.__subclasses__()\n",
    "        }\n",
    "        \n",
    "        \n",
    "class Pipeline:\n",
    "    \"\"\"Pipeline class for applying transformations.\"\"\"\n",
    "    \n",
    "    def __init__(self, steps: list):\n",
    "        if not isinstance(steps, list):\n",
    "            raise TypeError(\"Steps must be provided as a list.\")\n",
    "        self.steps = steps\n",
    "        self._log = logging.getLogger(self.__class__.__name__)\n",
    "\n",
    "    def transform(self, df):\n",
    "        \"\"\"Applies all transformation steps.\"\"\"\n",
    "        self._log.debug(f\"Starting pipeline with {len(self.steps)} steps.\")\n",
    "        \n",
    "        for idx, step in enumerate(self.steps, start=1):\n",
    "            name = step.get(\"name\", \"step_{idx}\")\n",
    "            self._log.debug(f\"Performing step: {name!r}.\")\n",
    "            \n",
    "            transformer_name = step.get(\"transformer\")\n",
    "            if not transformer_name:\n",
    "                raise ValueError(f\"No transformer specified for step {step!r}.\")\n",
    "            self._log.debug(f\"Using Transformer: {transformer_name!r}.\")\n",
    "            transformer_cls = Transformer.get(transformer_name)\n",
    "            \n",
    "            args = step.get(\"args\", {})\n",
    "            self._log.debug(f\"Using arguments: {args!r}.\")\n",
    "            \n",
    "            transformer = transformer_cls()\n",
    "            df = df.pipe(lambda df: transformer.apply_transform(df, args))\n",
    "\n",
    "        self._log.debug(f\"Finished processing pipeline.\")\n",
    "        self._log.debug(\"Final DataFrame has %d rows and %d columns\", *df.shape)\n",
    "        self._log.debug(\"Column names: \" + \", \".join(df.columns))\n",
    "        \n",
    "        return df\n"
   ]
  },
  {
   "cell_type": "markdown",
   "metadata": {},
   "source": [
    "## Transformers"
   ]
  },
  {
   "cell_type": "code",
   "execution_count": 2,
   "metadata": {},
   "outputs": [],
   "source": [
    "class ColumnRenamer(Transformer):\n",
    "    \"\"\"Renames columns of a pandas DataFrame.\"\"\"\n",
    "    \n",
    "    required_args = [\"mapping\"]\n",
    "    \n",
    "    def transform(self, df, mapping):\n",
    "        \"\"\"Renames columns using a provided mapping.\"\"\"\n",
    "        \n",
    "        if not isinstance(mapping, (dict, callable)):\n",
    "            msg = f\"ColumnRenamer: Mapping must be dict or callable, got {type(mapping)!r}.\"\n",
    "            self._log.error(msg)\n",
    "            raise TypeError(msg)\n",
    "        return df.rename(columns=mapping)\n",
    "\n",
    "\n",
    "class ColumnDropper(Transformer):\n",
    "    \"\"\"Drops columns from a pandas DataFrame.\"\"\"\n",
    "    \n",
    "    required_args = [\"columns\"]\n",
    "    \n",
    "    def transform(self, df, columns):\n",
    "        \"\"\"Drops columns using a provided list of names.\"\"\"\n",
    "        \n",
    "        if not isinstance(columns, list):\n",
    "            msg = f\"Columns must be provided as a list, got {type(mapping)!r}.\"\n",
    "            self._log.error(msg)\n",
    "            raise TypeError(msg)\n",
    "        \n",
    "        invalid = set(columns) - set(df.columns)\n",
    "        if invalid:\n",
    "            msg = f\"Could not find these columns in the data: {', '.join(invalid)}.\"\n",
    "            self._log.error(msg)\n",
    "            raise ValueError(msg)\n",
    "        return df.drop(columns=columns)"
   ]
  },
  {
   "cell_type": "code",
   "execution_count": null,
   "metadata": {},
   "outputs": [],
   "source": []
  },
  {
   "cell_type": "markdown",
   "metadata": {},
   "source": [
    "## Demo"
   ]
  },
  {
   "cell_type": "code",
   "execution_count": 3,
   "metadata": {},
   "outputs": [],
   "source": [
    "logging.basicConfig(level=logging.DEBUG)"
   ]
  },
  {
   "cell_type": "code",
   "execution_count": 4,
   "metadata": {},
   "outputs": [],
   "source": [
    "step_cfg = [\n",
    "    {\n",
    "        \"name\": \"step_one\",\n",
    "        \"transformer\": \"ColumnRenamer\",\n",
    "        \"args\": {\"mapping\": {\"column_a\": \"test_columns\"}}\n",
    "    },\n",
    "    {\n",
    "        \"name\": \"step_two\",\n",
    "        \"transformer\": \"ColumnDropper\",\n",
    "        \"args\": {\"columns\": [\"column_b\", \"column_c\"]}\n",
    "    },\n",
    "    # Missing argument example\n",
    "    # {\n",
    "    #     \"name\": \"step_two\",\n",
    "    #     \"transformer\": \"ColumnDropper\",\n",
    "    # },\n",
    "]"
   ]
  },
  {
   "cell_type": "code",
   "execution_count": 5,
   "metadata": {},
   "outputs": [],
   "source": [
    "pp = Pipeline(step_cfg)"
   ]
  },
  {
   "cell_type": "code",
   "execution_count": 6,
   "metadata": {},
   "outputs": [],
   "source": [
    "df = pd.DataFrame({\n",
    "    \"column_a\": [1, 2, 3, 4],\n",
    "    \"column_b\": [5, 6, 7, 8],\n",
    "    \"column_c\": list(\"ABCD\"),\n",
    "})"
   ]
  },
  {
   "cell_type": "code",
   "execution_count": 7,
   "metadata": {},
   "outputs": [
    {
     "name": "stderr",
     "output_type": "stream",
     "text": [
      "DEBUG:Pipeline:Starting pipeline with 2 steps.\n",
      "DEBUG:Pipeline:Performing step: 'step_one'.\n",
      "DEBUG:Pipeline:Using Transformer: 'ColumnRenamer'.\n",
      "DEBUG:Pipeline:Using arguments: {'mapping': {'column_a': 'test_columns'}}.\n",
      "DEBUG:ColumnRenamer:Got DataFrame with 4 rows and 3 columns\n",
      "DEBUG:ColumnRenamer:Column names: column_a, column_b, column_c\n",
      "DEBUG:Pipeline:Performing step: 'step_two'.\n",
      "DEBUG:Pipeline:Using Transformer: 'ColumnDropper'.\n",
      "DEBUG:Pipeline:Using arguments: {'columns': ['column_b', 'column_c']}.\n",
      "DEBUG:ColumnDropper:Got DataFrame with 4 rows and 3 columns\n",
      "DEBUG:ColumnDropper:Column names: test_columns, column_b, column_c\n",
      "DEBUG:Pipeline:Finished processing pipeline.\n",
      "DEBUG:Pipeline:Final DataFrame has 4 rows and 1 columns\n",
      "DEBUG:Pipeline:Column names: test_columns\n"
     ]
    },
    {
     "data": {
      "text/html": [
       "<div>\n",
       "<style scoped>\n",
       "    .dataframe tbody tr th:only-of-type {\n",
       "        vertical-align: middle;\n",
       "    }\n",
       "\n",
       "    .dataframe tbody tr th {\n",
       "        vertical-align: top;\n",
       "    }\n",
       "\n",
       "    .dataframe thead th {\n",
       "        text-align: right;\n",
       "    }\n",
       "</style>\n",
       "<table border=\"1\" class=\"dataframe\">\n",
       "  <thead>\n",
       "    <tr style=\"text-align: right;\">\n",
       "      <th></th>\n",
       "      <th>test_columns</th>\n",
       "    </tr>\n",
       "  </thead>\n",
       "  <tbody>\n",
       "    <tr>\n",
       "      <th>0</th>\n",
       "      <td>1</td>\n",
       "    </tr>\n",
       "    <tr>\n",
       "      <th>1</th>\n",
       "      <td>2</td>\n",
       "    </tr>\n",
       "    <tr>\n",
       "      <th>2</th>\n",
       "      <td>3</td>\n",
       "    </tr>\n",
       "    <tr>\n",
       "      <th>3</th>\n",
       "      <td>4</td>\n",
       "    </tr>\n",
       "  </tbody>\n",
       "</table>\n",
       "</div>"
      ],
      "text/plain": [
       "   test_columns\n",
       "0             1\n",
       "1             2\n",
       "2             3\n",
       "3             4"
      ]
     },
     "execution_count": 7,
     "metadata": {},
     "output_type": "execute_result"
    }
   ],
   "source": [
    "pp.transform(df)"
   ]
  },
  {
   "cell_type": "code",
   "execution_count": null,
   "metadata": {},
   "outputs": [],
   "source": []
  }
 ],
 "metadata": {
  "kernelspec": {
   "display_name": "Python [conda env:jupyter] *",
   "language": "python",
   "name": "conda-env-jupyter-py"
  },
  "language_info": {
   "codemirror_mode": {
    "name": "ipython",
    "version": 3
   },
   "file_extension": ".py",
   "mimetype": "text/x-python",
   "name": "python",
   "nbconvert_exporter": "python",
   "pygments_lexer": "ipython3",
   "version": "3.7.7"
  }
 },
 "nbformat": 4,
 "nbformat_minor": 4
}
