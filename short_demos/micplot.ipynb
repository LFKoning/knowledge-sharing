{
 "cells": [
  {
   "cell_type": "code",
   "execution_count": 1,
   "metadata": {},
   "outputs": [],
   "source": [
    "import pandas as pd\n",
    "import matplotlib.pyplot as plt"
   ]
  },
  {
   "cell_type": "code",
   "execution_count": null,
   "metadata": {},
   "outputs": [],
   "source": [
    "class PlotRecommender:\n",
    "    \"\"\"Suggests a plotting method for your data\"\"\"\n",
    "    \n",
    "    def __init__(self):\n",
    "        pass\n",
    "\n",
    "    def suggest(self, data):\n",
    "        \"\"\"Suggest a plot type for your data\"\"\"\n"
   ]
  },
  {
   "cell_type": "code",
   "execution_count": null,
   "metadata": {},
   "outputs": [],
   "source": [
    "class ColorPalette:\n",
    "    \"\"\"Creates plotting color palete.\n",
    "    \n",
    "    Parameters\n",
    "    ----------\n",
    "    n_items : int\n",
    "        The number of colors to generate.\n",
    "    style : {\"afm\", \"blackwhite\", \"...\"}\n",
    "        Style / theme to use\n",
    "    \"\"\"\n",
    "    \n",
    "    def __init__(self, n_items, style=\"afm\"):\n",
    "        pass\n",
    "\n",
    "\n",
    "class PlotAxis:\n",
    "    \"\"\"Controls display of plotting axis.\n",
    "    \n",
    "    Parameters\n",
    "    ----------\n",
    "    values : pd.Series\n",
    "        Values to plot on the axis\n",
    "    \"\"\"\n",
    "    \n",
    "    def __init__(self, values):\n",
    "    \n",
    "    @staticmethod\n",
    "    def _determine_type(values):\n",
    "        \"\"\"Determines data type and associated axis settings.\"\"\"\n",
    "        \n",
    "    @staticmethod\n",
    "    def _determine_numeric_ticks(values):\n",
    "        \"\"\"Computes default numeric ticks for a set of values.\"\"\"\n",
    "        \n",
    "    def set_major(self, start, end, steps):\n",
    "        \"\"\"Sets major ticks for a numeric axis.\"\"\"\n",
    "    \n",
    "    def set_minor(self, start, end, steps):\n",
    "        \"\"\"Sets major ticks for a numeric axis.\"\"\"\n",
    "    \n",
    "    def set_style(self, **kwargs):\n",
    "        \"\"\"Sets font face / size / weight.\"\"\"\n",
    "\n",
    "        \n",
    "class PlotBase:\n",
    "    \"\"\"Plotting base class.\"\"\"\n",
    "    \n",
    "    def __init__(self, data, x, y, style):\n",
    "        self.x_axis = PlotAxis(data[x])\n",
    "        self.y_axis = PlotAxis(data[y])\n",
    "        \n",
    "    def plot(self):\n",
    "        \"\"\"Returns a matplotlib image.\"\"\"\n",
    "        raise NotImplentedError\n",
    "        \n",
    "    def annotate(self, **kwargs):\n",
    "        \"\"\"Returns a matplotlib image.\"\"\"\n",
    "        raise NotImplentedError\n",
    "\n",
    "    def layout(self, **kwargs):\n",
    "        \"\"\"Returns a matplotlib image.\"\"\"\n",
    "        raise NotImplentedError\n",
    "\n",
    "    def _format_annotation(self, value, default=\".2f\"):\n",
    "        \"\"\"Formats anotation strings\"\"\"\n",
    "        "
   ]
  },
  {
   "cell_type": "code",
   "execution_count": null,
   "metadata": {},
   "outputs": [],
   "source": [
    "class BarPlot(PlotBase):\n",
    "    \"\"\"Creates a bar plot.\"\"\"\n",
    "\n",
    "    def annotate(self):\n",
    "        ...\n",
    "\n",
    "class LinePlot(PlotBase):\n",
    "    \"\"\"Creates a line plot.\"\"\"\n",
    "    \n",
    "    def annotate(self):\n",
    "        \"\"\"\"\"\"\n",
    "        \n",
    "    \n",
    "class PiePlot(PlotBase):\n",
    "    \"\"\"Who am I kidding.\"\"\"\n",
    "    raise NotImplementedError(\"Don't even go there!\")"
   ]
  },
  {
   "cell_type": "code",
   "execution_count": null,
   "metadata": {},
   "outputs": [],
   "source": [
    "bp = Barplot(data, \"tijd\", \"aantal_clicks\", style=\"blackwhite\")\n",
    "bp.highlight()\n",
    "bp.annotate(\"aantal_clicks_1M\", format=\"0.1f\")\n",
    "bp.plot()"
   ]
  }
 ],
 "metadata": {
  "kernelspec": {
   "display_name": "Python 3 (ipykernel)",
   "language": "python",
   "name": "python3"
  },
  "language_info": {
   "codemirror_mode": {
    "name": "ipython",
    "version": 3
   },
   "file_extension": ".py",
   "mimetype": "text/x-python",
   "name": "python",
   "nbconvert_exporter": "python",
   "pygments_lexer": "ipython3",
   "version": "3.7.7"
  }
 },
 "nbformat": 4,
 "nbformat_minor": 4
}
