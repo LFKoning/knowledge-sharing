{
  "cells": [
    {
      "cell_type": "markdown",
      "source": [
        "# Train Model using a Notebook"
      ],
      "metadata": {
        "nteract": {
          "transient": {
            "deleting": false
          }
        }
      }
    },
    {
      "cell_type": "markdown",
      "source": [
        "This Notebook trains a simple linear regression model on the house-prices data created in `1_create_dataset.ipynb`. Everytime a training run is performed, model performance is logged to an AzureML Experiment.\r\n",
        "\r\n",
        "Using the AzureML Studio interface, it is easy to track model performance accross different training runs. You can find all Experiments and associated training Runs by clicking on Experiments in the sidebar menu."
      ],
      "metadata": {
        "nteract": {
          "transient": {
            "deleting": false
          }
        }
      }
    },
    {
      "cell_type": "code",
      "source": [
        "import joblib\n",
        "from scripts.utils import (\n",
        "    compute_metrics,\n",
        "    histogram_predictions,\n",
        "    histogram_residuals,\n",
        ")"
      ],
      "outputs": [],
      "execution_count": 13,
      "metadata": {
        "gather": {
          "logged": 1620137967713
        }
      }
    },
    {
      "cell_type": "code",
      "source": [
        "import pandas as pd\r\n",
        "import matplotlib.pyplot as plt\r\n",
        "\r\n",
        "import sklearn\r\n",
        "from sklearn.linear_model import LinearRegression\r\n",
        "from sklearn.model_selection import ShuffleSplit"
      ],
      "outputs": [],
      "execution_count": 14,
      "metadata": {
        "collapsed": true,
        "jupyter": {
          "source_hidden": false,
          "outputs_hidden": false
        },
        "nteract": {
          "transient": {
            "deleting": false
          }
        },
        "gather": {
          "logged": 1620137968067
        }
      }
    },
    {
      "cell_type": "code",
      "source": [
        "from azureml.core.resource_configuration import ResourceConfiguration\n",
        "from azureml.core import (\n",
        "    Workspace,\n",
        "    Dataset,\n",
        "    Experiment,\n",
        "    Run,\n",
        "    Model,\n",
        ")"
      ],
      "outputs": [],
      "execution_count": 15,
      "metadata": {
        "gather": {
          "logged": 1620137968416
        }
      }
    },
    {
      "cell_type": "markdown",
      "source": [
        "## Settings"
      ],
      "metadata": {}
    },
    {
      "cell_type": "code",
      "source": [
        "# Model settings\n",
        "model_id = \"house_prices_linear_model\"\n",
        "model_path = f\"outputs/{model_id}.joblib\"\n",
        "experiment_name = \"azureml_demo\"\n",
        "\n",
        "# Cross validation settings\n",
        "cv_splits = 5\n",
        "test_prop = .3"
      ],
      "outputs": [],
      "execution_count": 16,
      "metadata": {
        "gather": {
          "logged": 1620137969114
        }
      }
    },
    {
      "cell_type": "markdown",
      "source": [
        "## Load Dataset"
      ],
      "metadata": {
        "nteract": {
          "transient": {
            "deleting": false
          }
        }
      }
    },
    {
      "cell_type": "code",
      "source": [
        "# Get Dataset from the Workspace\r\n",
        "ws = Workspace.from_config()\r\n",
        "dataset = Dataset.get_by_name(ws, name='house_prices')\r\n",
        "df = dataset.to_pandas_dataframe()\r\n",
        "\r\n",
        "# Split features and labels\r\n",
        "X = df.drop(columns=\"price\")\r\n",
        "y = df[\"price\"]"
      ],
      "outputs": [],
      "execution_count": 17,
      "metadata": {
        "collapsed": true,
        "jupyter": {
          "source_hidden": false,
          "outputs_hidden": false
        },
        "nteract": {
          "transient": {
            "deleting": false
          }
        },
        "gather": {
          "logged": 1620137970854
        }
      }
    },
    {
      "cell_type": "markdown",
      "source": [
        "## Training"
      ],
      "metadata": {}
    },
    {
      "cell_type": "markdown",
      "source": [
        "The cell below trains a linear regression model and measures its performance using cross-validation. AzureML provides a number of functions to log metrics inside a run. Here we use `log()` to store details about the size of the training set, proportion that goes into the validation set, number of CV splits and a number of performance metrics. In addition, `log_predictions()` and `log_residuals()` are used to store information about the distribution of the predictions and residuals repectively."
      ],
      "metadata": {
        "nteract": {
          "transient": {
            "deleting": false
          }
        }
      }
    },
    {
      "cell_type": "code",
      "source": [
        "# Set up the experiment\n",
        "exp = Experiment(ws, experiment_name)\n",
        "\n",
        "# Create training run\n",
        "model = LinearRegression()\n",
        "with exp.start_logging() as run:\n",
        "    \n",
        "    # Log training metrics and CV params\n",
        "    run.log(\"Training size\", X.shape[0])\n",
        "    run.log(\"CV splits\", cv_splits)\n",
        "    run.log(\"CV test proportion\", test_prop)\n",
        "    \n",
        "    # Run cross-validation\n",
        "    metrics = []\n",
        "    results = []\n",
        "    cv = ShuffleSplit(n_splits=cv_splits, test_size=test_prop)\n",
        "    for train, test in cv.split(X):\n",
        "        model.fit(X.loc[train, :], y[train])\n",
        "\n",
        "        y_true = y[test]\n",
        "        y_pred = model.predict(X.loc[test, :])\n",
        "\n",
        "        results.append(\n",
        "            pd.DataFrame({\n",
        "                \"actual\": y_true,\n",
        "                \"predicted\": y_pred,\n",
        "                \"residual\": y_pred - y_true,\n",
        "            })\n",
        "        )\n",
        "\n",
        "        metrics.append(\n",
        "            compute_metrics(y_true, y_pred, [\"mean_absolute_error\", \"median_absolute_error\", \"r2_score\"])\n",
        "        )\n",
        "    \n",
        "    results = pd.concat(results)\n",
        "    metrics = pd.DataFrame(metrics)\n",
        "    \n",
        "    # Log accuracy metrics (mean from splits)\n",
        "    for metric in metrics.columns:\n",
        "        run.log(metric.replace(\"_\", \" \").title(), metrics[metric].mean())\n",
        "\n",
        "    # Log predictions and residuals histograms\n",
        "    run.log_predictions(\"Predictions\", histogram_predictions(results[\"predicted\"]))\n",
        "    run.log_residuals(\"Residuals\", histogram_residuals(results[\"residual\"]))\n"
      ],
      "outputs": [],
      "execution_count": 18,
      "metadata": {
        "gather": {
          "logged": 1620137989100
        }
      }
    },
    {
      "cell_type": "code",
      "source": [
        "# Plot residuals\r\n",
        "fig, ax = plt.subplots(figsize=(8, 4))\r\n",
        "ax.set_title(\"Histogram: Residuals\")\r\n",
        "results[\"residual\"].hist(bins=20, ax=ax)"
      ],
      "outputs": [
        {
          "output_type": "execute_result",
          "execution_count": 8,
          "data": {
            "text/plain": "<matplotlib.axes._subplots.AxesSubplot at 0x7f3b7c1cd390>"
          },
          "metadata": {}
        },
        {
          "output_type": "display_data",
          "data": {
            "text/plain": "<Figure size 576x288 with 1 Axes>",
            "image/png": "[encoded data removed]"
          },
          "metadata": {
            "needs_background": "light"
          }
        }
      ],
      "execution_count": 8,
      "metadata": {
        "gather": {
          "logged": 1620128236493
        }
      }
    },
    {
      "cell_type": "code",
      "source": [
        "# Print training metrics for each split\r\n",
        "metrics"
      ],
      "outputs": [
        {
          "output_type": "execute_result",
          "execution_count": 9,
          "data": {
            "text/plain": "   mean_absolute_error  median_absolute_error  r2_score\n0             9.426588               6.791045  0.993414\n1             9.543997               8.084147  0.993149\n2            10.687916               8.333138  0.992879\n3            10.252248               7.839698  0.993967\n4             9.552691               7.846736  0.994527",
            "text/html": "<div>\n<style scoped>\n    .dataframe tbody tr th:only-of-type {\n        vertical-align: middle;\n    }\n\n    .dataframe tbody tr th {\n        vertical-align: top;\n    }\n\n    .dataframe thead th {\n        text-align: right;\n    }\n</style>\n<table border=\"1\" class=\"dataframe\">\n  <thead>\n    <tr style=\"text-align: right;\">\n      <th></th>\n      <th>mean_absolute_error</th>\n      <th>median_absolute_error</th>\n      <th>r2_score</th>\n    </tr>\n  </thead>\n  <tbody>\n    <tr>\n      <th>0</th>\n      <td>9.426588</td>\n      <td>6.791045</td>\n      <td>0.993414</td>\n    </tr>\n    <tr>\n      <th>1</th>\n      <td>9.543997</td>\n      <td>8.084147</td>\n      <td>0.993149</td>\n    </tr>\n    <tr>\n      <th>2</th>\n      <td>10.687916</td>\n      <td>8.333138</td>\n      <td>0.992879</td>\n    </tr>\n    <tr>\n      <th>3</th>\n      <td>10.252248</td>\n      <td>7.839698</td>\n      <td>0.993967</td>\n    </tr>\n    <tr>\n      <th>4</th>\n      <td>9.552691</td>\n      <td>7.846736</td>\n      <td>0.994527</td>\n    </tr>\n  </tbody>\n</table>\n</div>"
          },
          "metadata": {}
        }
      ],
      "execution_count": 9,
      "metadata": {
        "collapsed": false,
        "jupyter": {
          "outputs_hidden": false,
          "source_hidden": false
        },
        "nteract": {
          "transient": {
            "deleting": false
          }
        },
        "gather": {
          "logged": 1620128236614
        }
      }
    },
    {
      "cell_type": "code",
      "source": [],
      "outputs": [],
      "execution_count": null,
      "metadata": {
        "collapsed": true,
        "jupyter": {
          "source_hidden": false,
          "outputs_hidden": false
        },
        "nteract": {
          "transient": {
            "deleting": false
          }
        }
      }
    },
    {
      "cell_type": "markdown",
      "source": [
        "## Register Trained Model"
      ],
      "metadata": {
        "nteract": {
          "transient": {
            "deleting": false
          }
        }
      }
    },
    {
      "cell_type": "code",
      "source": [
        "# Create trained model and serialize\r\n",
        "reg_model = LinearRegression().fit(X, y)\r\n",
        "joblib.dump(reg_model, model_path)"
      ],
      "outputs": [
        {
          "output_type": "execute_result",
          "execution_count": 20,
          "data": {
            "text/plain": "['outputs/house_prices.joblib']"
          },
          "metadata": {}
        }
      ],
      "execution_count": 20,
      "metadata": {
        "collapsed": true,
        "jupyter": {
          "source_hidden": false,
          "outputs_hidden": false
        },
        "nteract": {
          "transient": {
            "deleting": false
          }
        },
        "gather": {
          "logged": 1620138097835
        }
      }
    },
    {
      "cell_type": "code",
      "source": [
        "# Generate some example predictions (for future reference)\r\n",
        "reg_model.predict([\r\n",
        "    [7, 100, 200],\r\n",
        "    [4, 70, 10],\r\n",
        "])"
      ],
      "outputs": [
        {
          "output_type": "execute_result",
          "execution_count": 21,
          "data": {
            "text/plain": "array([439.43345611, 160.14979954])"
          },
          "metadata": {}
        }
      ],
      "execution_count": 21,
      "metadata": {
        "collapsed": true,
        "jupyter": {
          "source_hidden": false,
          "outputs_hidden": false
        },
        "nteract": {
          "transient": {
            "deleting": false
          }
        },
        "gather": {
          "logged": 1620138098310
        }
      }
    },
    {
      "cell_type": "code",
      "source": [
        "# Register the model to the AzureML Workspace\r\n",
        "model = Model.register(\r\n",
        "    workspace=ws,\r\n",
        "    model_name=model_id, \r\n",
        "    model_path=model_path,\r\n",
        "    model_framework=Model.Framework.SCIKITLEARN,\r\n",
        "    model_framework_version=sklearn.__version__,\r\n",
        "    resource_configuration=ResourceConfiguration(cpu=1, memory_in_gb=0.5)\r\n",
        ")"
      ],
      "outputs": [
        {
          "output_type": "stream",
          "name": "stdout",
          "text": [
            "Registering model house_prices\n"
          ]
        }
      ],
      "execution_count": 22,
      "metadata": {
        "gather": {
          "logged": 1620138099792
        }
      }
    },
    {
      "cell_type": "code",
      "source": [
        "\r\n",
        "\r\n"
      ],
      "outputs": [],
      "execution_count": 12,
      "metadata": {
        "collapsed": true,
        "jupyter": {
          "source_hidden": false,
          "outputs_hidden": false
        },
        "nteract": {
          "transient": {
            "deleting": false
          }
        },
        "gather": {
          "logged": 1620128237626
        }
      }
    }
  ],
  "metadata": {
    "kernel_info": {
      "name": "python3-azureml"
    },
    "kernelspec": {
      "name": "python3-azureml",
      "language": "python",
      "display_name": "Python 3.6 - AzureML"
    },
    "language_info": {
      "name": "python",
      "version": "3.6.9",
      "mimetype": "text/x-python",
      "codemirror_mode": {
        "name": "ipython",
        "version": 3
      },
      "pygments_lexer": "ipython3",
      "nbconvert_exporter": "python",
      "file_extension": ".py"
    },
    "microsoft": {
      "host": {
        "AzureML": {
          "notebookHasBeenCompleted": true
        }
      }
    },
    "nteract": {
      "version": "nteract-front-end@1.0.0"
    }
  },
  "nbformat": 4,
  "nbformat_minor": 4
}