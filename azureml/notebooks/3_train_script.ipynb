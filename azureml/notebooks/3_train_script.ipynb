{
  "cells": [
    {
      "cell_type": "markdown",
      "source": [
        "# Train Model using a Script"
      ],
      "metadata": {
        "nteract": {
          "transient": {
            "deleting": false
          }
        }
      }
    },
    {
      "cell_type": "markdown",
      "source": [
        "This Notebook shows how to train a model using a Python script rather than an interactive Notebook (cf `2_train_notebook.ipynb`). The training script can be found in `scripts/train.py` and performs roughly the same steps as the Notebook version. However, it only registers the model if a certain performance threshold is reached.\r\n",
        "\r\n",
        "In this Notebook you will only find code to submit the training script on the local machine. The example also shows how to set up a specific Python version and packages using Anaconda. AzureML will create a new Anaconda environment if no local environment is found that matches the correct specification.\r\n",
        "\r\n",
        "You can use `conda env list` at the terminal to check whether a new environment was created. Environments created by AzureML will show up as `azureml_<hash>` in the list, where the hash is based on the Environment specification in AzureML."
      ],
      "metadata": {
        "nteract": {
          "transient": {
            "deleting": false
          }
        }
      }
    },
    {
      "cell_type": "code",
      "source": [
        "from azureml.core.conda_dependencies import CondaDependencies\r\n",
        "from azureml.core import (\r\n",
        "    Workspace,\r\n",
        "    Experiment,\r\n",
        "    Environment,\r\n",
        "    ScriptRunConfig,\r\n",
        ")"
      ],
      "outputs": [],
      "execution_count": 1,
      "metadata": {
        "collapsed": true,
        "jupyter": {
          "source_hidden": false,
          "outputs_hidden": false
        },
        "nteract": {
          "transient": {
            "deleting": false
          }
        },
        "gather": {
          "logged": 1620204566785
        }
      }
    },
    {
      "cell_type": "code",
      "source": [
        "# Setup Anaconda dependencies including Python version and packages.\r\n",
        "deps = CondaDependencies()\r\n",
        "deps.set_python_version(\"3.8\")\r\n",
        "deps.add_conda_package(\"numpy\")\r\n",
        "deps.add_conda_package(\"pandas\")\r\n",
        "deps.add_conda_package(\"scikit-learn>=0.24\")\r\n",
        "\r\n",
        "# Prints an Anaconda environment file in YAML format from the above specifications\r\n",
        "print(deps.serialize_to_string())"
      ],
      "outputs": [
        {
          "output_type": "stream",
          "name": "stdout",
          "text": [
            "# Conda environment specification. The dependencies defined in this file will\r\n",
            "# be automatically provisioned for runs with userManagedDependencies=False.\r\n",
            "\n",
            "# Details about the Conda environment file format:\r\n",
            "# https://conda.io/docs/user-guide/tasks/manage-environments.html#create-env-file-manually\r\n",
            "\n",
            "name: project_environment\n",
            "dependencies:\n",
            "  # The python interpreter version.\r\n",
            "  # Currently Azure ML only supports 3.5.2 and later.\r\n",
            "- python=3.8\n",
            "\n",
            "- pip:\n",
            "    # Required packages for AzureML execution, history, and data preparation.\r\n",
            "  - azureml-defaults\n",
            "\n",
            "- numpy\n",
            "- pandas\n",
            "- scikit-learn>=0.24\n",
            "channels:\n",
            "- anaconda\n",
            "- conda-forge\n",
            "\n"
          ]
        }
      ],
      "execution_count": 2,
      "metadata": {
        "collapsed": true,
        "jupyter": {
          "source_hidden": false,
          "outputs_hidden": false
        },
        "nteract": {
          "transient": {
            "deleting": false
          }
        },
        "gather": {
          "logged": 1620204567879
        }
      }
    },
    {
      "cell_type": "code",
      "source": [
        "# Create a new AzureML Environment\r\n",
        "env = Environment(\"custom_anaconda\")\r\n",
        "\r\n",
        "# Plug in the Anaconda dependencies\r\n",
        "env.python.conda_dependencies = deps\r\n",
        "\r\n",
        "env"
      ],
      "outputs": [
        {
          "output_type": "execute_result",
          "execution_count": 3,
          "data": {
            "text/plain": "{\n    \"databricks\": {\n        \"eggLibraries\": [],\n        \"jarLibraries\": [],\n        \"mavenLibraries\": [],\n        \"pypiLibraries\": [],\n        \"rcranLibraries\": []\n    },\n    \"docker\": {\n        \"arguments\": [],\n        \"baseDockerfile\": null,\n        \"baseImage\": \"mcr.microsoft.com/azureml/intelmpi2018.3-ubuntu16.04:20210301.v1\",\n        \"baseImageRegistry\": {\n            \"address\": null,\n            \"password\": null,\n            \"registryIdentity\": null,\n            \"username\": null\n        },\n        \"enabled\": false,\n        \"platform\": {\n            \"architecture\": \"amd64\",\n            \"os\": \"Linux\"\n        },\n        \"sharedVolumes\": true,\n        \"shmSize\": \"2g\"\n    },\n    \"environmentVariables\": {\n        \"EXAMPLE_ENV_VAR\": \"EXAMPLE_VALUE\"\n    },\n    \"inferencingStackVersion\": null,\n    \"name\": \"custom_anaconda\",\n    \"python\": {\n        \"baseCondaEnvironment\": null,\n        \"condaDependencies\": {\n            \"channels\": [\n                \"anaconda\",\n                \"conda-forge\"\n            ],\n            \"dependencies\": [\n                \"python=3.8\",\n                {\n                    \"pip\": [\n                        \"azureml-defaults\"\n                    ]\n                },\n                \"numpy\",\n                \"pandas\",\n                \"scikit-learn>=0.24\"\n            ],\n            \"name\": \"project_environment\"\n        },\n        \"condaDependenciesFile\": null,\n        \"interpreterPath\": \"python\",\n        \"userManagedDependencies\": false\n    },\n    \"r\": null,\n    \"spark\": {\n        \"packages\": [],\n        \"precachePackages\": true,\n        \"repositories\": []\n    },\n    \"version\": null\n}"
          },
          "metadata": {}
        }
      ],
      "execution_count": 3,
      "metadata": {
        "collapsed": true,
        "jupyter": {
          "source_hidden": false,
          "outputs_hidden": false
        },
        "nteract": {
          "transient": {
            "deleting": false
          }
        },
        "gather": {
          "logged": 1620204568671
        }
      }
    },
    {
      "cell_type": "code",
      "source": [
        "# Create training run configuration for the local machine\r\n",
        "run_cfg = ScriptRunConfig(\r\n",
        "    source_directory=\"scripts/\",\r\n",
        "    script=\"train.py\",\r\n",
        "    compute_target=\"local\",\r\n",
        "    environment=env,\r\n",
        ")"
      ],
      "outputs": [],
      "execution_count": 4,
      "metadata": {
        "collapsed": true,
        "jupyter": {
          "source_hidden": false,
          "outputs_hidden": false
        },
        "nteract": {
          "transient": {
            "deleting": false
          }
        },
        "gather": {
          "logged": 1620204569849
        }
      }
    },
    {
      "cell_type": "code",
      "source": [
        "# Connect to the Workspace and run the exp\r\n",
        "ws = Workspace.from_config()\r\n",
        "\r\n",
        "exp = Experiment(ws, \"azureml_demo\")\r\n",
        "script_run = exp.submit(run_cfg)"
      ],
      "outputs": [],
      "execution_count": 5,
      "metadata": {
        "collapsed": true,
        "jupyter": {
          "source_hidden": false,
          "outputs_hidden": false
        },
        "nteract": {
          "transient": {
            "deleting": false
          }
        },
        "gather": {
          "logged": 1620204578152
        }
      }
    },
    {
      "cell_type": "code",
      "source": [],
      "outputs": [],
      "execution_count": null,
      "metadata": {
        "collapsed": true,
        "jupyter": {
          "source_hidden": false,
          "outputs_hidden": false
        },
        "nteract": {
          "transient": {
            "deleting": false
          }
        }
      }
    }
  ],
  "metadata": {
    "kernelspec": {
      "name": "python3-azureml",
      "language": "python",
      "display_name": "Python 3.6 - AzureML"
    },
    "language_info": {
      "name": "python",
      "version": "3.6.9",
      "mimetype": "text/x-python",
      "codemirror_mode": {
        "name": "ipython",
        "version": 3
      },
      "pygments_lexer": "ipython3",
      "nbconvert_exporter": "python",
      "file_extension": ".py"
    },
    "kernel_info": {
      "name": "python3-azureml"
    },
    "microsoft": {
      "host": {
        "AzureML": {
          "notebookHasBeenCompleted": true
        }
      }
    },
    "nteract": {
      "version": "nteract-front-end@1.0.0"
    }
  },
  "nbformat": 4,
  "nbformat_minor": 2
}