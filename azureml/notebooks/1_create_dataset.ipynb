{
  "cells": [
    {
      "cell_type": "markdown",
      "source": [
        "# Create and Register a new Dataset"
      ],
      "metadata": {
        "nteract": {
          "transient": {
            "deleting": false
          }
        }
      }
    },
    {
      "cell_type": "markdown",
      "source": [
        "This Notebook creates a new dataset with dummy house-prices data. It then uploads and registers this dataset to the AzureML Workspace.\r\n",
        "\r\n",
        "It uses the Worspace's default Datastore to upload the CSV file. Typically this is the Blob Storage Account created with the AzureML Workspace."
      ],
      "metadata": {
        "nteract": {
          "transient": {
            "deleting": false
          }
        }
      }
    },
    {
      "cell_type": "code",
      "source": [
        "import numpy as np\n",
        "import pandas as pd\n",
        "\n",
        "import matplotlib.pyplot as plt"
      ],
      "outputs": [],
      "execution_count": 1,
      "metadata": {
        "gather": {
          "logged": 1620128041514
        }
      }
    },
    {
      "cell_type": "markdown",
      "source": [
        "## Generate Training Data"
      ],
      "metadata": {
        "nteract": {
          "transient": {
            "deleting": false
          }
        }
      }
    },
    {
      "cell_type": "code",
      "source": [
        "# Settings\r\n",
        "ss_train = 250\r\n",
        "weights = np.array([1.5, 2.1, 1.1])"
      ],
      "outputs": [],
      "execution_count": 2,
      "metadata": {
        "collapsed": true,
        "jupyter": {
          "source_hidden": false,
          "outputs_hidden": false
        },
        "nteract": {
          "transient": {
            "deleting": false
          }
        },
        "gather": {
          "logged": 1620128041637
        }
      }
    },
    {
      "cell_type": "code",
      "source": [
        "# Generate features\r\n",
        "df = pd.DataFrame({\r\n",
        "    \"rooms\": np.random.randint(3, 10, ss_train),\r\n",
        "    \"house_m2\": np.random.randint(50, 250, ss_train),\r\n",
        "    \"garden_m2\": np.random.randint(10, 300, ss_train),\r\n",
        "})"
      ],
      "outputs": [],
      "execution_count": 3,
      "metadata": {
        "collapsed": true,
        "jupyter": {
          "source_hidden": false,
          "outputs_hidden": false
        },
        "nteract": {
          "transient": {
            "deleting": false
          }
        },
        "gather": {
          "logged": 1620128041764
        }
      }
    },
    {
      "cell_type": "code",
      "source": [
        "# Generate labels\r\n",
        "df[\"price\"] = df.values @ weights + np.random.normal(0, 13, ss_train)"
      ],
      "outputs": [],
      "execution_count": 4,
      "metadata": {
        "collapsed": true,
        "jupyter": {
          "source_hidden": false,
          "outputs_hidden": false
        },
        "nteract": {
          "transient": {
            "deleting": false
          }
        },
        "gather": {
          "logged": 1620128041879
        }
      }
    },
    {
      "cell_type": "code",
      "source": [
        "# Plot histograms for all variables\r\n",
        "fig, axes = plt.subplots(1, len(df.columns), figsize=(16, 4))\r\n",
        "for idx, col in enumerate(df.columns):\r\n",
        "    axes[idx].hist(df[col], bins=50, edgecolor=\"black\")\r\n",
        "    axes[idx].set_title(f\"Histogram: {col}.\")"
      ],
      "outputs": [
        {
          "output_type": "display_data",
          "data": {
            "text/plain": "<Figure size 1152x288 with 4 Axes>",
            "image/png": "[encoded data removed]"
          },
          "metadata": {
            "needs_background": "light"
          }
        }
      ],
      "execution_count": 5,
      "metadata": {
        "collapsed": true,
        "jupyter": {
          "source_hidden": false,
          "outputs_hidden": false
        },
        "nteract": {
          "transient": {
            "deleting": false
          }
        },
        "gather": {
          "logged": 1620128043794
        }
      }
    },
    {
      "cell_type": "code",
      "source": [],
      "outputs": [],
      "execution_count": null,
      "metadata": {
        "collapsed": true,
        "jupyter": {
          "source_hidden": false,
          "outputs_hidden": false
        },
        "nteract": {
          "transient": {
            "deleting": false
          }
        }
      }
    },
    {
      "cell_type": "markdown",
      "source": [
        "## Register as AzureML Dataset"
      ],
      "metadata": {
        "nteract": {
          "transient": {
            "deleting": false
          }
        }
      }
    },
    {
      "cell_type": "code",
      "source": [
        "from azureml.core import Workspace, Datastore, Dataset"
      ],
      "outputs": [],
      "execution_count": 6,
      "metadata": {
        "collapsed": true,
        "jupyter": {
          "source_hidden": false,
          "outputs_hidden": false
        },
        "nteract": {
          "transient": {
            "deleting": false
          }
        },
        "gather": {
          "logged": 1620128043916
        }
      }
    },
    {
      "cell_type": "code",
      "source": [
        "# Connect Workspace and get default Datastore\r\n",
        "ws = Workspace.from_config()\r\n",
        "datastore = ws.get_default_datastore()\r\n",
        "\r\n",
        "datastore"
      ],
      "outputs": [
        {
          "output_type": "execute_result",
          "execution_count": 7,
          "data": {
            "text/plain": "{\n  \"name\": \"workspaceblobstore\",\n  \"container_name\": \"azureml-blobstore-fa8271ca-7fb0-4214-88a7-b196f8d44ed7\",\n  \"account_name\": \"azuremlpocluka4939292542\",\n  \"protocol\": \"https\",\n  \"endpoint\": \"core.windows.net\"\n}"
          },
          "metadata": {}
        }
      ],
      "execution_count": 7,
      "metadata": {
        "collapsed": true,
        "jupyter": {
          "source_hidden": false,
          "outputs_hidden": false
        },
        "nteract": {
          "transient": {
            "deleting": false
          }
        },
        "gather": {
          "logged": 1620128046826
        }
      }
    },
    {
      "cell_type": "code",
      "source": [
        "# Store as file then upload to the Datastore\r\n",
        "df.to_csv(\"dummy_data/house_prices.csv\", index=False)\r\n",
        "\r\n",
        "datastore.upload(src_dir=\"dummy_data\", target_path=\"dummy_data\", overwrite=True)\r\n",
        "houses_ds = Dataset.Tabular.from_delimited_files(datastore.path(\"dummy_data/house_prices.csv\"))\r\n"
      ],
      "outputs": [
        {
          "output_type": "stream",
          "name": "stdout",
          "text": [
            "Uploading an estimated of 1 files\n",
            "Uploading dummy_data/house_prices.csv\n",
            "Uploaded dummy_data/house_prices.csv, 1 files out of an estimated total of 1\n",
            "Uploaded 1 files\n"
          ]
        }
      ],
      "execution_count": 8,
      "metadata": {
        "collapsed": true,
        "jupyter": {
          "source_hidden": false,
          "outputs_hidden": false
        },
        "nteract": {
          "transient": {
            "deleting": false
          }
        },
        "gather": {
          "logged": 1620128057297
        }
      }
    },
    {
      "cell_type": "code",
      "source": [
        "# Optional: Register Dataset in the Workspace\r\n",
        "houses_ds.register(\r\n",
        "    ws,\r\n",
        "    name=\"house_prices\",\r\n",
        "    description=\"Dummy house pricing dataset\",\r\n",
        "    create_new_version=True,\r\n",
        ")"
      ],
      "outputs": [
        {
          "output_type": "execute_result",
          "execution_count": 9,
          "data": {
            "text/plain": "{\n  \"source\": [\n    \"('workspaceblobstore', 'dummy_data/house_prices.csv')\"\n  ],\n  \"definition\": [\n    \"GetDatastoreFiles\",\n    \"ParseDelimited\",\n    \"DropColumns\",\n    \"SetColumnTypes\"\n  ],\n  \"registration\": {\n    \"id\": \"7096545e-dbd1-4a0c-9f5c-9b9cafc408a0\",\n    \"name\": \"house_prices\",\n    \"version\": 1,\n    \"description\": \"Dummy house pricing dataset\",\n    \"workspace\": \"Workspace.create(name='azureml-poc-lukas', subscription_id='329548f5-859c-4f2a-a884-472706106fbb', resource_group='azureml-poc-lukas')\"\n  }\n}"
          },
          "metadata": {}
        }
      ],
      "execution_count": 9,
      "metadata": {
        "collapsed": true,
        "jupyter": {
          "source_hidden": false,
          "outputs_hidden": false
        },
        "nteract": {
          "transient": {
            "deleting": false
          }
        },
        "gather": {
          "logged": 1620128057736
        }
      }
    },
    {
      "cell_type": "code",
      "source": [],
      "outputs": [],
      "execution_count": null,
      "metadata": {
        "collapsed": true,
        "jupyter": {
          "source_hidden": false,
          "outputs_hidden": false
        },
        "nteract": {
          "transient": {
            "deleting": false
          }
        }
      }
    },
    {
      "cell_type": "markdown",
      "source": [
        "### Check Registered Datasets"
      ],
      "metadata": {
        "nteract": {
          "transient": {
            "deleting": false
          }
        }
      }
    },
    {
      "cell_type": "code",
      "source": [
        "# Print all registered datasets\r\n",
        "for name, reg in Dataset.get_all(ws).items():\r\n",
        "    print(f\"Dataset: {name} - Version: {reg.version} - Description: {reg.description}\")\r\n"
      ],
      "outputs": [
        {
          "output_type": "stream",
          "name": "stdout",
          "text": [
            "Dataset: house_prices - Version: 1 - Description: Dummy house pricing dataset\n"
          ]
        }
      ],
      "execution_count": 10,
      "metadata": {
        "collapsed": true,
        "jupyter": {
          "source_hidden": false,
          "outputs_hidden": false
        },
        "nteract": {
          "transient": {
            "deleting": false
          }
        },
        "gather": {
          "logged": 1620128057973
        }
      }
    },
    {
      "cell_type": "code",
      "source": [],
      "outputs": [],
      "execution_count": null,
      "metadata": {
        "collapsed": true,
        "jupyter": {
          "source_hidden": false,
          "outputs_hidden": false
        },
        "nteract": {
          "transient": {
            "deleting": false
          }
        }
      }
    }
  ],
  "metadata": {
    "kernelspec": {
      "name": "python38-azureml",
      "language": "python",
      "display_name": "Python 3.8 - AzureML"
    },
    "language_info": {
      "name": "python",
      "version": "3.8.1",
      "mimetype": "text/x-python",
      "codemirror_mode": {
        "name": "ipython",
        "version": 3
      },
      "pygments_lexer": "ipython3",
      "nbconvert_exporter": "python",
      "file_extension": ".py"
    },
    "kernel_info": {
      "name": "python38-azureml"
    },
    "nteract": {
      "version": "nteract-front-end@1.0.0"
    },
    "microsoft": {
      "host": {
        "AzureML": {
          "notebookHasBeenCompleted": true
        }
      }
    }
  },
  "nbformat": 4,
  "nbformat_minor": 4
}