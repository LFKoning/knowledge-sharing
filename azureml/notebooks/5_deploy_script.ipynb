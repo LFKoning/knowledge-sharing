{
  "cells": [
    {
      "cell_type": "markdown",
      "source": [
        "# Deploy Model using a Script"
      ],
      "metadata": {
        "nteract": {
          "transient": {
            "deleting": false
          }
        }
      }
    },
    {
      "cell_type": "markdown",
      "source": [
        "This Notebook shows how to deploy a model using a custom Python scoring script. This scoring script can be found in `scripts/score.py` and it contains both an `init()` and `run()` method.\r\n",
        "\r\n",
        "The `init()` method is used to load the model from disk, deserialize it and make it available to generate predictions. The `run()` method should process the JSON data provided with each request, generate predictions using the model and return them (in a JSON serializable structure).\r\n",
        "\r\n",
        "This Notebook only shows code to deploy the model on your local machine. Note that Docker must be installed on your machine in order to run this Notebook! Virtual Machines created by AzureML have Docker installed by default.\r\n"
      ],
      "metadata": {
        "nteract": {
          "transient": {
            "deleting": false
          }
        }
      }
    },
    {
      "cell_type": "code",
      "source": [
        "import requests\r\n",
        "\r\n",
        "from azureml.core import Workspace, Environment, Model\r\n",
        "from azureml.core.conda_dependencies import CondaDependencies\r\n",
        "from azureml.core.model import InferenceConfig\r\n",
        "from azureml.core.webservice import LocalWebservice"
      ],
      "outputs": [],
      "execution_count": 1,
      "metadata": {
        "collapsed": true,
        "jupyter": {
          "source_hidden": false,
          "outputs_hidden": false
        },
        "nteract": {
          "transient": {
            "deleting": false
          }
        },
        "gather": {
          "logged": 1620130425486
        }
      }
    },
    {
      "cell_type": "code",
      "source": [
        "# Get the model\r\n",
        "ws = Workspace.from_config()\r\n",
        "model = Model(ws, \"house_prices_linear_model\")"
      ],
      "outputs": [],
      "execution_count": 2,
      "metadata": {
        "collapsed": true,
        "jupyter": {
          "source_hidden": false,
          "outputs_hidden": false
        },
        "nteract": {
          "transient": {
            "deleting": false
          }
        },
        "gather": {
          "logged": 1620130429383
        }
      }
    },
    {
      "cell_type": "code",
      "source": [
        "# Set required Python packages\r\n",
        "deps = CondaDependencies()\r\n",
        "deps.set_python_version(\"3.8\")\r\n",
        "deps.add_conda_package(\"numpy\")\r\n",
        "deps.add_conda_package(\"pandas\")\r\n",
        "deps.add_conda_package(\"joblib\")\r\n",
        "deps.add_conda_package(\"scikit-learn>=0.24\")"
      ],
      "outputs": [],
      "execution_count": 3,
      "metadata": {
        "collapsed": true,
        "jupyter": {
          "source_hidden": false,
          "outputs_hidden": false
        },
        "nteract": {
          "transient": {
            "deleting": false
          }
        },
        "gather": {
          "logged": 1620130429523
        }
      }
    },
    {
      "cell_type": "code",
      "source": [
        "# Create environment\r\n",
        "env = Environment(name='deploy_environment')\r\n",
        "env.python.conda_dependencies = deps"
      ],
      "outputs": [],
      "execution_count": 4,
      "metadata": {
        "gather": {
          "logged": 1620130429649
        }
      }
    },
    {
      "cell_type": "code",
      "source": [
        "# Create configuration settings\r\n",
        "inference_config = InferenceConfig(\r\n",
        "    environment=env,\r\n",
        "    entry_script='scripts/score.py',\r\n",
        ")\r\n",
        "\r\n",
        "# Note: Deploying to the local machine; requires Docker to be installed!\r\n",
        "deployment_config = LocalWebservice.deploy_configuration(port=6789)"
      ],
      "outputs": [],
      "execution_count": 5,
      "metadata": {
        "collapsed": true,
        "jupyter": {
          "source_hidden": false,
          "outputs_hidden": false
        },
        "nteract": {
          "transient": {
            "deleting": false
          }
        },
        "gather": {
          "logged": 1620130429787
        }
      }
    },
    {
      "cell_type": "code",
      "source": [
        "\r\n",
        "# Build the (local) Docker image and deploy it as a webservice\r\n",
        "# Note: This step can take quite a while if the Docker image does not yet exist!\r\n",
        "service = Model.deploy(ws, \"house-prices-local\", [model], inference_config, deployment_config)\r\n",
        "service.wait_for_deployment(show_output=True)\r\n",
        "print(service.get_logs())"
      ],
      "outputs": [
        {
          "output_type": "stream",
          "name": "stderr",
          "text": [
            "ModelNotFound: Model with id house_prices_linear_model:4 not found in provided workspace\n",
            "\n"
          ]
        },
        {
          "output_type": "stream",
          "name": "stdout",
          "text": [
            "Downloading model house_prices_linear_model:6 to /tmp/azureml_y_93c6hn/house_prices_linear_model/6\n",
            "Generating Docker build context.\n",
            "Package creation Succeeded\n",
            "Logging into Docker registry fa8271ca7fb0421488a7b196f8d44ed7.azurecr.io\n",
            "Logging into Docker registry fa8271ca7fb0421488a7b196f8d44ed7.azurecr.io\n",
            "Building Docker image from Dockerfile...\n",
            "Step 1/5 : FROM fa8271ca7fb0421488a7b196f8d44ed7.azurecr.io/azureml/azureml_c0b7bed26005472ec5456896c31c10d6\n",
            " ---> 8ee53d0f4678\n",
            "Step 2/5 : COPY azureml-app /var/azureml-app\n",
            " ---> a7e339145c8c\n",
            "Step 3/5 : RUN mkdir -p '/var/azureml-app' && echo eyJhY2NvdW50Q29udGV4dCI6eyJzdWJzY3JpcHRpb25JZCI6IjMyOTU0OGY1LTg1OWMtNGYyYS1hODg0LTQ3MjcwNjEwNmZiYiIsInJlc291cmNlR3JvdXBOYW1lIjoiYXp1cmVtbC1wb2MtbHVrYXMiLCJhY2NvdW50TmFtZSI6ImF6dXJlbWwtcG9jLWx1a2FzIiwid29ya3NwYWNlSWQiOiJmYTgyNzFjYS03ZmIwLTQyMTQtODhhNy1iMTk2ZjhkNDRlZDcifSwibW9kZWxzIjp7fSwibW9kZWxzSW5mbyI6e319 | base64 --decode > /var/azureml-app/model_config_map.json\n",
            " ---> Running in 1752b986acca\n",
            " ---> 7e1dc672bcab\n",
            "Step 4/5 : RUN mv '/var/azureml-app/tmp_ksu5x4g.py' /var/azureml-app/main.py\n",
            " ---> Running in 6ca88ec9ac6e\n",
            " ---> a9aefdea4279\n",
            "Step 5/5 : CMD [\"runsvdir\",\"/var/runit\"]\n",
            " ---> Running in 9a89e27e9ca0\n",
            " ---> 1e5bb997742b\n",
            "Successfully built 1e5bb997742b\n",
            "Successfully tagged house-prices-local:latest\n",
            "Container (name:loving_brahmagupta, id:821643864d373b8a30ae1065d261996b9eec5db9415f16bb972e812c820fab19) cannot be killed.\n",
            "Container has been successfully cleaned up.\n",
            "Image sha256:d34be8cfbd85914642397f89c1a374553ae86e8f2656bf6841af164c63542afc successfully removed.\n",
            "Starting Docker container...\n",
            "Docker container running.\n",
            "Checking container health...\n",
            "Local webservice is running at http://localhost:6789\n",
            "2021-05-04T12:14:17,982923277+00:00 - iot-server/run \n",
            "2021-05-04T12:14:17,983575671+00:00 - nginx/run \n",
            "2021-05-04T12:14:17,983295973+00:00 - rsyslog/run \n",
            "2021-05-04T12:14:17,984792458+00:00 - gunicorn/run \n",
            "Starting gunicorn 19.9.0\n",
            "Listening at: http://127.0.0.1:31311 (11)\n",
            "Using worker: sync\n",
            "worker timeout is set to 300\n",
            "Booting worker with pid: 35\n",
            "EdgeHubConnectionString and IOTEDGE_IOTHUBHOSTNAME are not set. Exiting...\n",
            "2021-05-04T12:14:19,028342578+00:00 - iot-server/finish 1 0\n",
            "2021-05-04T12:14:19,029759361+00:00 - Exit code 1 is normal. Not restarting iot-server.\n",
            "/azureml-envs/azureml_f14c3bc9b5f557dd012594de79ac63fa/lib/python3.8/os.py:1023: RuntimeWarning: line buffering (buffering=1) isn't supported in binary mode, the default buffer size will be used\n",
            "  return io.open(fd, *args, **kwargs)\n",
            "SPARK_HOME not set. Skipping PySpark Initialization.\n",
            "Initializing logger\n",
            "2021-05-04 12:14:23,146 | root | INFO | Starting up app insights client\n",
            "2021-05-04 12:14:23,146 | root | INFO | Starting up request id generator\n",
            "2021-05-04 12:14:23,147 | root | INFO | Starting up app insight hooks\n",
            "2021-05-04 12:14:23,147 | root | INFO | Invoking user's init function\n",
            "/azureml-envs/azureml_f14c3bc9b5f557dd012594de79ac63fa/lib/python3.8/site-packages/sklearn/base.py:310: UserWarning: Trying to unpickle estimator LinearRegression from version 0.24.1 when using version 0.24.2. This might lead to breaking code or invalid results. Use at your own risk.\n",
            "  warnings.warn(\n",
            "2021-05-04 12:14:25,162 | root | INFO | Users's init has completed successfully\n",
            "2021-05-04 12:14:25,165 | root | INFO | Skipping middleware: dbg_model_info as it's not enabled.\n",
            "2021-05-04 12:14:25,165 | root | INFO | Skipping middleware: dbg_resource_usage as it's not enabled.\n",
            "2021-05-04 12:14:25,165 | root | INFO | Scoring timeout setting is not found. Use default timeout: 3600000 ms\n",
            "\n"
          ]
        }
      ],
      "execution_count": 6,
      "metadata": {
        "collapsed": true,
        "jupyter": {
          "source_hidden": false,
          "outputs_hidden": false
        },
        "nteract": {
          "transient": {
            "deleting": false
          }
        },
        "gather": {
          "logged": 1620130465298
        }
      }
    },
    {
      "cell_type": "code",
      "source": [],
      "outputs": [],
      "execution_count": null,
      "metadata": {
        "collapsed": true,
        "jupyter": {
          "source_hidden": false,
          "outputs_hidden": false
        },
        "nteract": {
          "transient": {
            "deleting": false
          }
        }
      }
    },
    {
      "cell_type": "markdown",
      "source": [
        "## Consume Model Endpoint (local)"
      ],
      "metadata": {
        "nteract": {
          "transient": {
            "deleting": false
          }
        }
      }
    },
    {
      "cell_type": "code",
      "source": [
        "# Set the endpoint URL\r\n",
        "# Note: The port number is specified on the LocalWebservice deployment configuration above.\r\n",
        "endpoint = \"http://localhost:6789/score\""
      ],
      "outputs": [],
      "execution_count": 7,
      "metadata": {
        "collapsed": true,
        "jupyter": {
          "source_hidden": false,
          "outputs_hidden": false
        },
        "nteract": {
          "transient": {
            "deleting": false
          }
        },
        "gather": {
          "logged": 1620130465420
        }
      }
    },
    {
      "cell_type": "code",
      "source": [
        "# Create features for 2 houses\r\n",
        "# Note: columns are rooms, house_m2, garden_m2\r\n",
        "data = {\r\n",
        "    \"data\": [\r\n",
        "        [7, 100, 200],\r\n",
        "        [4, 70, 10]\r\n",
        "    ]\r\n",
        "}"
      ],
      "outputs": [],
      "execution_count": 8,
      "metadata": {
        "collapsed": true,
        "jupyter": {
          "source_hidden": false,
          "outputs_hidden": false
        },
        "nteract": {
          "transient": {
            "deleting": false
          }
        },
        "gather": {
          "logged": 1620130465522
        }
      }
    },
    {
      "cell_type": "code",
      "source": [
        "headers = {\"Content-Type\": \"application/json\"}\r\n",
        "resp = requests.post(endpoint, json=data, headers=headers)"
      ],
      "outputs": [],
      "execution_count": 9,
      "metadata": {
        "collapsed": true,
        "jupyter": {
          "source_hidden": false,
          "outputs_hidden": false
        },
        "nteract": {
          "transient": {
            "deleting": false
          }
        },
        "gather": {
          "logged": 1620130465620
        }
      }
    },
    {
      "cell_type": "code",
      "source": [
        "# Get predictions for the 2 houses\r\n",
        "resp.json()"
      ],
      "outputs": [
        {
          "output_type": "execute_result",
          "execution_count": 10,
          "data": {
            "text/plain": "[439.4334561066371, 160.14979953503968]"
          },
          "metadata": {}
        }
      ],
      "execution_count": 10,
      "metadata": {
        "collapsed": true,
        "jupyter": {
          "source_hidden": false,
          "outputs_hidden": false
        },
        "nteract": {
          "transient": {
            "deleting": false
          }
        },
        "gather": {
          "logged": 1620130465727
        }
      }
    },
    {
      "cell_type": "code",
      "source": [],
      "outputs": [],
      "execution_count": null,
      "metadata": {
        "collapsed": true,
        "jupyter": {
          "source_hidden": false,
          "outputs_hidden": false
        },
        "nteract": {
          "transient": {
            "deleting": false
          }
        }
      }
    }
  ],
  "metadata": {
    "kernelspec": {
      "name": "python3-azureml",
      "language": "python",
      "display_name": "Python 3.6 - AzureML"
    },
    "language_info": {
      "name": "python",
      "version": "3.6.9",
      "mimetype": "text/x-python",
      "codemirror_mode": {
        "name": "ipython",
        "version": 3
      },
      "pygments_lexer": "ipython3",
      "nbconvert_exporter": "python",
      "file_extension": ".py"
    },
    "kernel_info": {
      "name": "python3-azureml"
    },
    "nteract": {
      "version": "nteract-front-end@1.0.0"
    },
    "microsoft": {
      "host": {
        "AzureML": {
          "notebookHasBeenCompleted": true
        }
      }
    }
  },
  "nbformat": 4,
  "nbformat_minor": 2
}