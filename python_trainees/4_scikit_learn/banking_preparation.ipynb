{
 "cells": [
  {
   "cell_type": "code",
   "execution_count": null,
   "id": "4c58daba",
   "metadata": {},
   "outputs": [],
   "source": [
    "import numpy as np\n",
    "import pandas as pd\n",
    "\n",
    "from sklearn.preprocessing import OneHotEncoder, StandardScaler, QuantileTransformer"
   ]
  },
  {
   "cell_type": "markdown",
   "id": "4b2261cf",
   "metadata": {},
   "source": [
    "# Banking data: Preparation"
   ]
  },
  {
   "cell_type": "code",
   "execution_count": null,
   "id": "17038cb4",
   "metadata": {},
   "outputs": [],
   "source": [
    "df = pd.read_csv(\"../0_data/banking/bank-additional-full.csv\", sep=\";\")\n",
    "df.shape"
   ]
  },
  {
   "cell_type": "markdown",
   "id": "02aba2cb",
   "metadata": {},
   "source": [
    "## Stateless preparation"
   ]
  },
  {
   "cell_type": "code",
   "execution_count": null,
   "id": "4e3e34e7",
   "metadata": {},
   "outputs": [],
   "source": [
    "# Drop duration as it cannot be used in prediction\n",
    "df = df.drop(columns=\"duration\")"
   ]
  },
  {
   "cell_type": "code",
   "execution_count": null,
   "id": "db1773d1",
   "metadata": {},
   "outputs": [],
   "source": [
    "# Set 999 as NaN in pdays\n",
    "df[\"pdays\"] = df[\"pdays\"].replace({999: np.NaN})"
   ]
  },
  {
   "cell_type": "markdown",
   "id": "71e1794d",
   "metadata": {},
   "source": [
    "## Categorical features"
   ]
  },
  {
   "cell_type": "code",
   "execution_count": null,
   "id": "c2f35adc",
   "metadata": {},
   "outputs": [],
   "source": [
    "# Encode categorical features using pd.get_dummies()...\n",
    "# Note: dummies depend on what is in the sample!\n",
    "pd.get_dummies(df[\"job\"].sample(5))"
   ]
  },
  {
   "cell_type": "code",
   "execution_count": null,
   "id": "732bef30",
   "metadata": {},
   "outputs": [],
   "source": [
    "# Using OneHotEncoderand fit it to a specific sample\n",
    "encoder = OneHotEncoder(sparse=False)\n",
    "encoder.fit_transform(df[[\"job\"]].sample(5))"
   ]
  },
  {
   "cell_type": "code",
   "execution_count": null,
   "id": "f8548a71",
   "metadata": {},
   "outputs": [],
   "source": [
    "# Sample contained these categories...\n",
    "encoder.get_feature_names_out()"
   ]
  },
  {
   "cell_type": "code",
   "execution_count": null,
   "id": "47053f63",
   "metadata": {},
   "outputs": [],
   "source": [
    "# Transforming a new sample which may have new categories.\n",
    "# Note: Use handle_unknown=\"ignore\" on OneHotEncoder to ignore new categories.\n",
    "encoder.transform(df[[\"job\"]].sample(5))"
   ]
  },
  {
   "cell_type": "code",
   "execution_count": null,
   "id": "9dfed214",
   "metadata": {},
   "outputs": [],
   "source": [
    "df.columns"
   ]
  },
  {
   "cell_type": "markdown",
   "id": "78a403a0",
   "metadata": {},
   "source": [
    "## Numeric features"
   ]
  },
  {
   "cell_type": "code",
   "execution_count": null,
   "id": "de817bc7",
   "metadata": {},
   "outputs": [],
   "source": [
    "scaler = StandardScaler()\n",
    "age = scaler.fit_transform(df[[\"age\"]].sample(500))\n",
    "\n",
    "print(f\"\"\"\n",
    "    StandardScaler learned mean and SD\n",
    "    Mean: {scaler.mean_[0]:.2f}\n",
    "    SD:   {scaler.scale_[0]:.2f}\n",
    "\"\"\")"
   ]
  },
  {
   "cell_type": "code",
   "execution_count": null,
   "id": "6219b02e",
   "metadata": {},
   "outputs": [],
   "source": [
    "print(f\"\"\"\n",
    "    Transformed age values mean and SD\n",
    "    ----------------------------------\n",
    "    Mean: {age.mean():.2f}\n",
    "    SD:   {age.std():.2f}\n",
    "\"\"\")"
   ]
  },
  {
   "cell_type": "code",
   "execution_count": null,
   "id": "a98a453b",
   "metadata": {},
   "outputs": [],
   "source": [
    "(\n",
    "    pd.Series(age.squeeze())\n",
    "    .plot\n",
    "    .hist(\n",
    "        bins=25,\n",
    "        edgecolor=\"white\",\n",
    "        figsize=(4, 2)\n",
    "    )\n",
    ")"
   ]
  },
  {
   "cell_type": "code",
   "execution_count": null,
   "id": "dfb267c6",
   "metadata": {},
   "outputs": [],
   "source": []
  },
  {
   "cell_type": "code",
   "execution_count": null,
   "id": "5a4c6a43",
   "metadata": {},
   "outputs": [],
   "source": [
    "qtransformer = QuantileTransformer(n_quantiles=100, output_distribution=\"normal\")\n",
    "age = qtransformer.fit_transform(df[[\"age\"]].sample(500))"
   ]
  },
  {
   "cell_type": "code",
   "execution_count": null,
   "id": "dea3f7c5",
   "metadata": {},
   "outputs": [],
   "source": [
    "(\n",
    "    pd.Series(age.squeeze())\n",
    "    .plot\n",
    "    .hist(\n",
    "        bins=25,\n",
    "        edgecolor=\"white\",\n",
    "        figsize=(4, 2)\n",
    "    )\n",
    ")"
   ]
  },
  {
   "cell_type": "code",
   "execution_count": null,
   "id": "729d1f4e",
   "metadata": {},
   "outputs": [],
   "source": []
  }
 ],
 "metadata": {
  "kernelspec": {
   "display_name": "Python 3 (ipykernel)",
   "language": "python",
   "name": "python3"
  },
  "language_info": {
   "codemirror_mode": {
    "name": "ipython",
    "version": 3
   },
   "file_extension": ".py",
   "mimetype": "text/x-python",
   "name": "python",
   "nbconvert_exporter": "python",
   "pygments_lexer": "ipython3",
   "version": "3.7.7"
  }
 },
 "nbformat": 4,
 "nbformat_minor": 5
}
