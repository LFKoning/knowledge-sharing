{
 "cells": [
  {
   "cell_type": "markdown",
   "id": "3aa70178",
   "metadata": {},
   "source": [
    "# Solutions I:  Exploration"
   ]
  },
  {
   "cell_type": "markdown",
   "id": "616a30a7",
   "metadata": {},
   "source": [
    "**Variables:**\n",
    "\n",
    "1. `age` (numeric)\n",
    "2. `job` : type of job (categorical)\n",
    "3. `marital` : marital status (categorical)\n",
    "4. `education`: level of education(categorical)\n",
    "5. `default`: has credit in default? (categorical)\n",
    "6. `housing`: has housing loan? (categorical)\n",
    "7. `loan`: has personal loan? (categorical)\n",
    "\n",
    "**Related to the last contact of the current campaign:**\n",
    "\n",
    "8. `contact`: contact communication type (categorical)\n",
    "9. `month`: last contact month of year (categorical)\n",
    "10. `day_of_week`: last contact day of the week (categorical)\n",
    "11. `duration`: last contact duration, in seconds (numeric)\n",
    "\n",
    "*Note: Contact duration is not available prior to contacting the customer!*\n",
    "\n",
    "**Other attributes:**\n",
    "\n",
    "12. `campaign`: number of contacts performed during this campaign and for this client (numeric)\n",
    "13. `pdays`: number of days that passed by after the client was last contacted from a previous campaign (numeric)\n",
    "14. `previous`: number of contacts performed before this campaign and for this client (numeric)\n",
    "15. `poutcome`: outcome of the previous marketing campaign (categorical)\n",
    "\n",
    "**Social and economic context attributes:**\n",
    "\n",
    "16. `emp.var.rate`: employment variation rate - quarterly indicator (numeric)\n",
    "17. `cons.price.idx`: consumer price index - monthly indicator (numeric)\n",
    "18. `cons.conf.idx`: consumer confidence index - monthly indicator (numeric)\n",
    "19. `euribor3m`: euribor 3 month rate - daily indicator (numeric)\n",
    "20. `nr.employed`: number of employees - quarterly indicator (numeric)\n"
   ]
  },
  {
   "cell_type": "code",
   "execution_count": null,
   "id": "dc7ec8d0",
   "metadata": {},
   "outputs": [],
   "source": [
    "import math\n",
    "\n",
    "import numpy as np\n",
    "import pandas as pd\n",
    "import matplotlib.pyplot as plt"
   ]
  },
  {
   "cell_type": "markdown",
   "id": "756f0a6f",
   "metadata": {},
   "source": [
    "## Load dataset"
   ]
  },
  {
   "cell_type": "code",
   "execution_count": null,
   "id": "ba218dc1",
   "metadata": {},
   "outputs": [],
   "source": [
    "df = pd.read_csv(\"../../0_data/banking/bank-additional-full.csv\", sep=\";\")\n",
    "df.shape"
   ]
  },
  {
   "cell_type": "code",
   "execution_count": null,
   "id": "d508cc44",
   "metadata": {},
   "outputs": [],
   "source": [
    "# Columns in the dataset\n",
    "df.columns"
   ]
  },
  {
   "cell_type": "code",
   "execution_count": null,
   "id": "be70b793",
   "metadata": {},
   "outputs": [],
   "source": [
    "df.dtypes"
   ]
  },
  {
   "cell_type": "code",
   "execution_count": null,
   "id": "74a693c6",
   "metadata": {},
   "outputs": [],
   "source": [
    "# NUmber of missing values\n",
    "df.isna().sum()"
   ]
  },
  {
   "cell_type": "markdown",
   "id": "5e13da5f",
   "metadata": {},
   "source": [
    "## Basic descriptives"
   ]
  },
  {
   "cell_type": "code",
   "execution_count": null,
   "id": "ef3e496c",
   "metadata": {},
   "outputs": [],
   "source": [
    "# Target variable distribution\n",
    "df[\"y\"].value_counts()"
   ]
  },
  {
   "cell_type": "code",
   "execution_count": null,
   "id": "f293aab0",
   "metadata": {},
   "outputs": [],
   "source": [
    "# Or as percentage\n",
    "df[\"y\"].value_counts(normalize=True)"
   ]
  },
  {
   "cell_type": "code",
   "execution_count": null,
   "id": "41413a7f",
   "metadata": {},
   "outputs": [],
   "source": [
    "# Create numerical y\n",
    "y = df[\"y\"].replace({\"yes\": 1, \"no\": 0})"
   ]
  },
  {
   "cell_type": "markdown",
   "id": "485a9f6e",
   "metadata": {},
   "source": [
    "### Numerical features"
   ]
  },
  {
   "cell_type": "code",
   "execution_count": null,
   "id": "c592df28",
   "metadata": {},
   "outputs": [],
   "source": [
    "numerical = df.select_dtypes(\"number\")"
   ]
  },
  {
   "cell_type": "code",
   "execution_count": null,
   "id": "dce60fba",
   "metadata": {},
   "outputs": [],
   "source": [
    "# Numerical features\n",
    "numerical.describe()"
   ]
  },
  {
   "cell_type": "code",
   "execution_count": null,
   "id": "d641e84d",
   "metadata": {},
   "outputs": [],
   "source": [
    "# Set 999 to missing for pdays\n",
    "numerical = numerical.assign(pdays=lambda df: df[\"pdays\"].replace({999: np.nan}))\n",
    "\n",
    "# Mostly missing values...\n",
    "(numerical[\"pdays\"].value_counts(dropna=False, normalize=True) * 100).head(10)"
   ]
  },
  {
   "cell_type": "code",
   "execution_count": null,
   "id": "bcf7faef",
   "metadata": {},
   "outputs": [],
   "source": [
    "# Plot numeric distributions\n",
    "ncols = 3\n",
    "nrows = math.ceil(numerical.shape[1] / ncols)\n",
    "fig, axes = plt.subplots(nrows, ncols, figsize=(ncols * 3, nrows * 2))\n",
    "\n",
    "for idx, col_name in enumerate(numerical.columns):\n",
    "    # Compute location in axes grid\n",
    "    row = idx // ncols\n",
    "    col = idx % ncols\n",
    "    ax = axes[row, col]\n",
    "    \n",
    "    ax.hist(numerical[col_name], bins=50, edgecolor=\"white\")\n",
    "    ax.set_title(col_name)\n",
    "\n",
    "plt.rc('font', size=7)\n",
    "plt.tight_layout()"
   ]
  },
  {
   "cell_type": "code",
   "execution_count": null,
   "id": "c026cae2",
   "metadata": {},
   "outputs": [],
   "source": [
    "# Correlations with target\n",
    "(\n",
    "    numerical\n",
    "    .corrwith(y)\n",
    "    .rename(\"correlation with target\")\n",
    "    .sort_values(ascending=False)\n",
    "    .round(2)\n",
    "    .to_frame()\n",
    ")"
   ]
  },
  {
   "cell_type": "markdown",
   "id": "a07c3798",
   "metadata": {},
   "source": [
    "### Categorical"
   ]
  },
  {
   "cell_type": "code",
   "execution_count": null,
   "id": "8ee9079c",
   "metadata": {},
   "outputs": [],
   "source": [
    "categorical = df.select_dtypes(\"object\")"
   ]
  },
  {
   "cell_type": "code",
   "execution_count": null,
   "id": "51773c52",
   "metadata": {},
   "outputs": [],
   "source": [
    "# Categorical features\n",
    "categorical.describe()"
   ]
  },
  {
   "cell_type": "code",
   "execution_count": null,
   "id": "3a4ecf97",
   "metadata": {
    "scrolled": false
   },
   "outputs": [],
   "source": [
    "# Plot categorical distributions\n",
    "ncols = 3\n",
    "nrows = math.ceil(categorical.shape[1] / ncols)\n",
    "fig, axes = plt.subplots(nrows, ncols, figsize=(ncols * 3, nrows * 2))\n",
    "\n",
    "for idx, col_name in enumerate(categorical.columns):\n",
    "    # Compute location in axes grid\n",
    "    row = idx // ncols\n",
    "    col = idx % ncols\n",
    "    ax = axes[row, col]\n",
    "    \n",
    "    (\n",
    "        categorical\n",
    "        .pivot_table(index=[col_name], columns=\"y\", aggfunc=\"size\", fill_value=0)\n",
    "        .sort_values(\"no\")\n",
    "        .plot.barh(ax=ax)\n",
    "    )\n",
    "\n",
    "    ax.set_title(col_name)\n",
    "    ax.legend(loc=\"lower right\")\n",
    "\n",
    "plt.rc('font', size=7)\n",
    "plt.tight_layout()"
   ]
  },
  {
   "cell_type": "code",
   "execution_count": null,
   "id": "06e6c24d",
   "metadata": {},
   "outputs": [],
   "source": []
  }
 ],
 "metadata": {
  "kernelspec": {
   "display_name": "Python 3 (ipykernel)",
   "language": "python",
   "name": "python3"
  },
  "language_info": {
   "codemirror_mode": {
    "name": "ipython",
    "version": 3
   },
   "file_extension": ".py",
   "mimetype": "text/x-python",
   "name": "python",
   "nbconvert_exporter": "python",
   "pygments_lexer": "ipython3",
   "version": "3.9.18"
  }
 },
 "nbformat": 4,
 "nbformat_minor": 5
}
