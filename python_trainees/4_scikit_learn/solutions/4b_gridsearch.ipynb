{
 "cells": [
  {
   "cell_type": "markdown",
   "id": "7bd57731",
   "metadata": {},
   "source": [
    "## Model Tuning with GridSearch"
   ]
  },
  {
   "cell_type": "code",
   "execution_count": null,
   "id": "56370278",
   "metadata": {},
   "outputs": [],
   "source": [
    "import pandas as pd\n",
    "\n",
    "from sklearn.pipeline import Pipeline\n",
    "from sklearn.compose import ColumnTransformer\n",
    "from sklearn.preprocessing import OneHotEncoder, StandardScaler\n",
    "\n",
    "from sklearn.ensemble import HistGradientBoostingClassifier\n",
    "\n",
    "from sklearn.model_selection import KFold\n",
    "from sklearn.metrics import accuracy_score, precision_score, recall_score, confusion_matrix"
   ]
  },
  {
   "cell_type": "markdown",
   "id": "1fcc4ba9",
   "metadata": {},
   "source": [
    "## Load Data"
   ]
  },
  {
   "cell_type": "code",
   "execution_count": null,
   "id": "00236656",
   "metadata": {},
   "outputs": [],
   "source": [
    "# Read in the banking data set.\n",
    "df = pd.read_csv(\"../../0_data/banking/bank-additional-full.csv\", sep=\";\")\n",
    "df.head(3)"
   ]
  },
  {
   "cell_type": "code",
   "execution_count": null,
   "id": "a9c95a58",
   "metadata": {},
   "outputs": [],
   "source": [
    "# Split features and labels.\n",
    "X = df.drop(columns=[\"duration\", \"pdays\", \"y\"])\n",
    "y = df[\"y\"].replace({\"yes\": 1, \"no\": 0})"
   ]
  },
  {
   "cell_type": "markdown",
   "id": "490b6857",
   "metadata": {},
   "source": [
    "## Create the model"
   ]
  },
  {
   "cell_type": "code",
   "execution_count": null,
   "id": "4dfd55b2",
   "metadata": {},
   "outputs": [],
   "source": [
    "# Get column names per data type.\n",
    "categorical = X.select_dtypes(\"object\").columns\n",
    "numerical = X.select_dtypes(\"number\").columns"
   ]
  },
  {
   "cell_type": "code",
   "execution_count": null,
   "id": "a608b3b8",
   "metadata": {},
   "outputs": [],
   "source": [
    "# Set up the ColumnTransformer.\n",
    "transformer = ColumnTransformer(\n",
    "    transformers=[\n",
    "        (\"encode_categorical\", OneHotEncoder(handle_unknown=\"ignore\", sparse_output=False), categorical),\n",
    "        (\"scale_numerical\", StandardScaler(), numerical),\n",
    "    ]\n",
    ")"
   ]
  },
  {
   "cell_type": "code",
   "execution_count": null,
   "id": "6e723e99",
   "metadata": {},
   "outputs": [],
   "source": [
    "# RandomForest model.\n",
    "hgb = Pipeline(\n",
    "    steps=[\n",
    "        (\"preparation\", transformer),\n",
    "        (\"model\", HistGradientBoostingClassifier()),\n",
    "    ]\n",
    ")"
   ]
  },
  {
   "cell_type": "markdown",
   "id": "c36f1859",
   "metadata": {},
   "source": [
    "## Cross validation"
   ]
  },
  {
   "cell_type": "code",
   "execution_count": null,
   "id": "3c893484",
   "metadata": {},
   "outputs": [],
   "source": [
    "metrics = {\n",
    "    \"fold\": [],\n",
    "    \"accuracy\": [],\n",
    "    \"precision\": [],\n",
    "    \"recall\": []\n",
    "}\n",
    "\n",
    "# Perform cross-validation with 5 splits.\n",
    "kfold = KFold(n_splits=5, shuffle=True)\n",
    "for fold, (train_idx, test_idx) in enumerate(kfold.split(X, y), start=1):\n",
    "    \n",
    "    # Create data sets for the fold.\n",
    "    # Note: Must use .iloc[] because we have indices!\n",
    "    X_train = X.iloc[train_idx]\n",
    "    y_train = y.iloc[train_idx]\n",
    "        \n",
    "    X_test = X.iloc[test_idx]\n",
    "    y_test = y.iloc[test_idx]\n",
    "        \n",
    "    # Train the model and get predictions\n",
    "    hgb.fit(X_train, y_train)\n",
    "    predictions = hgb.predict(X_test)\n",
    "        \n",
    "    # Compute and store performance metrics\n",
    "    metrics[\"fold\"].append(fold)\n",
    "    metrics[\"accuracy\"].append(accuracy_score(y_test, predictions))\n",
    "    metrics[\"precision\"].append(precision_score(y_test, predictions))\n",
    "    metrics[\"recall\"].append(recall_score(y_test, predictions))\n",
    "\n",
    "pd.DataFrame(metrics)"
   ]
  },
  {
   "cell_type": "code",
   "execution_count": null,
   "id": "cd5865a7",
   "metadata": {},
   "outputs": [],
   "source": [
    "from sklearn.model_selection import GridSearchCV"
   ]
  },
  {
   "cell_type": "code",
   "execution_count": null,
   "id": "6a11b83f",
   "metadata": {},
   "outputs": [],
   "source": [
    "# Define the parameter search space.\n",
    "# Note: As we have multiple Pipeline steps, use: <step>__<parameter>.\n",
    "parameters = {\n",
    "    \"model__max_iter\": [50, 100, 250],\n",
    "    \"model__learning_rate\": [0.1, 0.3, 0.5],\n",
    "}"
   ]
  },
  {
   "cell_type": "code",
   "execution_count": null,
   "id": "816a7774",
   "metadata": {},
   "outputs": [],
   "source": [
    "# Set up KFold\n",
    "kfold = KFold(n_splits=5, shuffle=True)\n",
    "\n",
    "# Create GridSearch\n",
    "gs = GridSearchCV(\n",
    "    hgb,\n",
    "    param_grid=parameters,\n",
    "    scoring=\"recall\",\n",
    "    cv=kfold,\n",
    "    n_jobs=-1\n",
    ")"
   ]
  },
  {
   "cell_type": "code",
   "execution_count": null,
   "id": "73a8b90a",
   "metadata": {
    "scrolled": false
   },
   "outputs": [],
   "source": [
    "# Perform GridSearch on the data.\n",
    "gs.fit(X, y)"
   ]
  },
  {
   "cell_type": "code",
   "execution_count": null,
   "id": "02db8bae",
   "metadata": {},
   "outputs": [],
   "source": [
    "# Display the GridSearch results (as DataFrame).\n",
    "pd.DataFrame(gs.cv_results_)"
   ]
  },
  {
   "cell_type": "code",
   "execution_count": null,
   "id": "44cae3b3",
   "metadata": {},
   "outputs": [],
   "source": [
    "# Best parameter settings\n",
    "gs.best_params_"
   ]
  },
  {
   "cell_type": "code",
   "execution_count": null,
   "id": "6b758ff6",
   "metadata": {},
   "outputs": [],
   "source": [
    "# Best estimator instance\n",
    "gs.best_estimator_"
   ]
  },
  {
   "cell_type": "code",
   "execution_count": null,
   "id": "f9bdc650",
   "metadata": {},
   "outputs": [],
   "source": []
  }
 ],
 "metadata": {
  "kernelspec": {
   "display_name": "Python 3 (ipykernel)",
   "language": "python",
   "name": "python3"
  },
  "language_info": {
   "codemirror_mode": {
    "name": "ipython",
    "version": 3
   },
   "file_extension": ".py",
   "mimetype": "text/x-python",
   "name": "python",
   "nbconvert_exporter": "python",
   "pygments_lexer": "ipython3",
   "version": "3.9.16"
  }
 },
 "nbformat": 4,
 "nbformat_minor": 5
}
