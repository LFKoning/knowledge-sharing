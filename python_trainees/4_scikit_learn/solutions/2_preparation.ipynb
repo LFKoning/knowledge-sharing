{
 "cells": [
  {
   "cell_type": "markdown",
   "id": "d17533ce",
   "metadata": {},
   "source": [
    "# Solutions I: Transformers"
   ]
  },
  {
   "cell_type": "code",
   "execution_count": null,
   "id": "7aed7e08",
   "metadata": {},
   "outputs": [],
   "source": [
    "import numpy as np\n",
    "import pandas as pd"
   ]
  },
  {
   "cell_type": "code",
   "execution_count": null,
   "id": "56ef431d",
   "metadata": {},
   "outputs": [],
   "source": [
    "# Read in the banking data set\n",
    "df = pd.read_csv(\"../../0_data/banking/bank-additional-full.csv\", sep=\";\")\n",
    "df.head(3)"
   ]
  },
  {
   "cell_type": "code",
   "execution_count": null,
   "id": "68817818",
   "metadata": {},
   "outputs": [],
   "source": [
    "# Drop irrelevant / label columns.\n",
    "df = df.drop(columns=[\"y\", \"duration\", \"pdays\"])"
   ]
  },
  {
   "cell_type": "markdown",
   "id": "a4f342e1",
   "metadata": {},
   "source": [
    "## Encode Categorical Data"
   ]
  },
  {
   "cell_type": "code",
   "execution_count": null,
   "id": "5133f77b",
   "metadata": {},
   "outputs": [],
   "source": [
    "# Import the transformer from the preprocessing module.\n",
    "from sklearn.preprocessing import OneHotEncoder"
   ]
  },
  {
   "cell_type": "code",
   "execution_count": null,
   "id": "a6a2d072",
   "metadata": {},
   "outputs": [],
   "source": [
    "# Create a OneHotEncoder to encode the categorical data.\n",
    "# Note: set sparse_output to False to get readable output.\n",
    "ohe = OneHotEncoder(sparse_output=False)"
   ]
  },
  {
   "cell_type": "code",
   "execution_count": null,
   "id": "ccbd5c7b",
   "metadata": {},
   "outputs": [],
   "source": [
    "# Fit the encoder to the job column.\n",
    "ohe.fit(df[[\"job\"]])"
   ]
  },
  {
   "cell_type": "code",
   "execution_count": null,
   "id": "c992d62c",
   "metadata": {},
   "outputs": [],
   "source": [
    "# Transform the job column, look at first 3 records.\n",
    "ohe.transform(df[[\"job\"]])[0:3]"
   ]
  },
  {
   "cell_type": "code",
   "execution_count": null,
   "id": "b5189bfc",
   "metadata": {},
   "outputs": [],
   "source": [
    "# What are the feature names created by the encoder?\n",
    "ohe.get_feature_names_out()"
   ]
  },
  {
   "cell_type": "code",
   "execution_count": null,
   "id": "5484ed56",
   "metadata": {},
   "outputs": [],
   "source": [
    "# Combine to get output as a DataFrame.\n",
    "(\n",
    "    pd.DataFrame(\n",
    "        data=ohe.transform(df[[\"job\"]]),\n",
    "        columns=ohe.get_feature_names_out(),\n",
    "    )\n",
    "    .head(3)\n",
    ")"
   ]
  },
  {
   "cell_type": "code",
   "execution_count": null,
   "id": "3a747962",
   "metadata": {},
   "outputs": [],
   "source": [
    "# Another way to get a pandas DataFrame.\n",
    "ohe.set_output(transform=\"pandas\")\n",
    "ohe.transform(df[[\"job\"]]).head(3)"
   ]
  },
  {
   "cell_type": "code",
   "execution_count": null,
   "id": "7babab6c",
   "metadata": {},
   "outputs": [],
   "source": []
  },
  {
   "cell_type": "markdown",
   "id": "184b7983",
   "metadata": {},
   "source": [
    "## Transformations per Column"
   ]
  },
  {
   "cell_type": "markdown",
   "id": "5efa60e7",
   "metadata": {},
   "source": [
    "Use a ColumnTransformer to define transformations per column.\n",
    "\n",
    "\n",
    "See documentation: https://scikit-learn.org/stable/modules/generated/sklearn.compose.ColumnTransformer.html"
   ]
  },
  {
   "cell_type": "code",
   "execution_count": null,
   "id": "c123bed6",
   "metadata": {},
   "outputs": [],
   "source": [
    "# Import the ColumnTransformer from the compose module.\n",
    "from sklearn.compose import ColumnTransformer\n",
    "from sklearn.preprocessing import StandardScaler"
   ]
  },
  {
   "cell_type": "code",
   "execution_count": null,
   "id": "2e0e60bb",
   "metadata": {},
   "outputs": [],
   "source": [
    "# Get column names per data type.\n",
    "categorical = df.select_dtypes(\"object\").columns\n",
    "numerical = df.select_dtypes(\"number\").columns"
   ]
  },
  {
   "cell_type": "code",
   "execution_count": null,
   "id": "015c899e",
   "metadata": {},
   "outputs": [],
   "source": [
    "# Create a OneHotEncoder and StandardScaler.\n",
    "ohe = OneHotEncoder(sparse_output=False)\n",
    "ss = StandardScaler()"
   ]
  },
  {
   "cell_type": "code",
   "execution_count": null,
   "id": "006bc0be",
   "metadata": {},
   "outputs": [],
   "source": [
    "# Set up the ColumnTransformer.\n",
    "transformer = ColumnTransformer(\n",
    "    transformers=[\n",
    "        (\"encode_categorical\", ohe, categorical),\n",
    "        (\"scale_numerical\", ss, numerical),\n",
    "    ]\n",
    ")"
   ]
  },
  {
   "cell_type": "code",
   "execution_count": null,
   "id": "65dcdaa6",
   "metadata": {},
   "outputs": [],
   "source": [
    "# Fit and transform the data.\n",
    "transformer.set_output(transform=\"pandas\")\n",
    "transformer.fit_transform(df).head(3)"
   ]
  },
  {
   "cell_type": "code",
   "execution_count": null,
   "id": "f0518a9f",
   "metadata": {},
   "outputs": [],
   "source": []
  },
  {
   "cell_type": "markdown",
   "id": "481e1b59",
   "metadata": {},
   "source": [
    "## Create Winsorizing Transformer"
   ]
  },
  {
   "cell_type": "code",
   "execution_count": null,
   "id": "afee6fca",
   "metadata": {},
   "outputs": [],
   "source": [
    "# Data that needs to be transformed.\n",
    "n = 101\n",
    "df = pd.DataFrame({\n",
    "    \"linear\": np.linspace(0, 100, n),\n",
    "    \"uniform\": np.random.uniform(0, 100, n),\n",
    "    \"lognormal\": np.random.lognormal(2.5, 1.2, n),\n",
    "})"
   ]
  },
  {
   "cell_type": "code",
   "execution_count": null,
   "id": "2d91aff2",
   "metadata": {},
   "outputs": [],
   "source": [
    "# Create a Transformer that Winsorizes numerical data."
   ]
  },
  {
   "cell_type": "code",
   "execution_count": null,
   "id": "bef40fa8",
   "metadata": {},
   "outputs": [],
   "source": [
    "class Winsorizer:\n",
    "    \"\"\"Transformer for Winsorizing extreme values.\n",
    "    \n",
    "    Parameters\n",
    "    ----------\n",
    "    lower_bound : float, default=0\n",
    "        Lower quantile to restrict values to [0 - 1].\n",
    "    upper_bound : float, default=.95\n",
    "        Upper quantile to restrict values to [0 - 1].\n",
    "    \"\"\"\n",
    "    def __init__(self, lower_bound=.0, upper_bound=.95):\n",
    "        if not 0 <= lower_bound <= 1:\n",
    "            raise ValueError(\"Lower bound quantile must be between 0 and 1.\")\n",
    "        if not 0 <= upper_bound <= 1:\n",
    "            raise ValueError(\"Upper bound quantile must be between 0 and 1.\")\n",
    "        \n",
    "        self.lower_bound = lower_bound\n",
    "        self.upper_bound = upper_bound\n",
    "        \n",
    "    def fit(self, X, y=None):\n",
    "        \"\"\"Fit the transformer by storing quantile values.\"\"\"\n",
    "        self.lower = X.quantile(self.lower_bound).to_dict()\n",
    "        self.upper = X.quantile(self.upper_bound).to_dict()\n",
    "        \n",
    "        return self\n",
    "    \n",
    "    def transform(self, X, y=None):\n",
    "        \"\"\"Transform X by clipping extreme values.\"\"\"\n",
    "        # Define clipping transformation for each column.\n",
    "        winsorize = {}\n",
    "        for column in self.lower:\n",
    "            winsorize[column] = X[column].clip(lower=self.lower[column], upper=self.upper[column])\n",
    "\n",
    "        # Apply the transformations.\n",
    "        return X.assign(**winsorize)"
   ]
  },
  {
   "cell_type": "code",
   "execution_count": null,
   "id": "b58e3c2e",
   "metadata": {
    "scrolled": false
   },
   "outputs": [],
   "source": [
    "# Create and fit the Transformer.\n",
    "ws = Winsorizer(lower_bound=.03, upper_bound=.97)\n",
    "ws.fit(df)"
   ]
  },
  {
   "cell_type": "code",
   "execution_count": null,
   "id": "087e11d4",
   "metadata": {
    "scrolled": false
   },
   "outputs": [],
   "source": [
    "# Transform the dummy data.\n",
    "# Note: Linear values are indeed clipped.\n",
    "ws.transform(df)"
   ]
  },
  {
   "cell_type": "code",
   "execution_count": null,
   "id": "af39bfe4",
   "metadata": {},
   "outputs": [],
   "source": []
  },
  {
   "cell_type": "markdown",
   "id": "c83ac25e",
   "metadata": {},
   "source": [
    "### More formal approach"
   ]
  },
  {
   "cell_type": "code",
   "execution_count": null,
   "id": "748d4f51",
   "metadata": {},
   "outputs": [],
   "source": [
    "from sklearn.base import BaseEstimator, TransformerMixin, OneToOneFeatureMixin\n",
    "from sklearn.utils.validation import check_is_fitted\n",
    "\n",
    "\n",
    "class Winsorizer(OneToOneFeatureMixin, TransformerMixin, BaseEstimator):\n",
    "    \"\"\"Transformer for Winsorizing extreme values.\n",
    "    \n",
    "    Parameters\n",
    "    ----------\n",
    "    lower_bound : float, default=0\n",
    "        Lower quantile to restrict values to [0 - 1].\n",
    "    upper_bound : float, default=.95\n",
    "        Upper quantile to restrict values to [0 - 1].\n",
    "    \"\"\"\n",
    "    def __init__(self, lower_bound=.0, upper_bound=.95):\n",
    "        if not 0 <= lower_bound <= 1:\n",
    "            raise ValueError(\"Lower bound quantile must be between 0 and 1.\")\n",
    "        if not 0 <= upper_bound <= 1:\n",
    "            raise ValueError(\"Upper bound quantile must be between 0 and 1.\")\n",
    "        \n",
    "        self.lower_bound = lower_bound\n",
    "        self.upper_bound = upper_bound\n",
    "        \n",
    "    def fit(self, X, y=None):\n",
    "        \"\"\"Fit the transformer by storing quantile values.\"\"\"\n",
    "        if hasattr(X, \"columns\"):\n",
    "            # Store input feature names if available.\n",
    "            self.feature_names_in_ = list(X.columns)\n",
    "            \n",
    "            # Convert to numpy.ndarray\n",
    "            X = X.values\n",
    "        \n",
    "        # Get quantiles from the data using numpy.\n",
    "        self.quantiles_ = np.quantile(\n",
    "            X, [self.lower_bound, self.upper_bound], axis=0\n",
    "        )\n",
    "        \n",
    "        return self\n",
    "    \n",
    "    def transform(self, X, y=None):\n",
    "        \"\"\"Transform X by clipping extreme values.\"\"\"\n",
    "        # Check fit was called before transforming.\n",
    "        check_is_fitted(self)\n",
    "        \n",
    "        if hasattr(X, \"columns\"):\n",
    "            # Verify column names.\n",
    "            if list(X.columns) != self.feature_names_in_:\n",
    "                raise KeyError(f\"Column names do not match: {self.feature_names_in_}.\")\n",
    "            \n",
    "            # Convert to numpy.ndarray.\n",
    "            X = X.values\n",
    "        \n",
    "        # Apply Winsorizing to appropriate columns.\n",
    "        for idx, lower in enumerate(self.quantiles_[0]):\n",
    "            upper = self.quantiles_[1, idx]\n",
    "            X[:, idx] = X[:, idx].clip(lower, upper)\n",
    "        \n",
    "        return X"
   ]
  },
  {
   "cell_type": "code",
   "execution_count": null,
   "id": "e74d199c",
   "metadata": {},
   "outputs": [],
   "source": [
    "# Create and fit the Transformer.\n",
    "ws = Winsorizer(lower_bound=.03, upper_bound=.97)\n",
    "ws.fit(df)"
   ]
  },
  {
   "cell_type": "code",
   "execution_count": null,
   "id": "85f42777",
   "metadata": {},
   "outputs": [],
   "source": [
    "# Now inherits get_feature_names_out().\n",
    "ws.get_feature_names_out()"
   ]
  },
  {
   "cell_type": "code",
   "execution_count": null,
   "id": "8ad94231",
   "metadata": {},
   "outputs": [],
   "source": [
    "# Also inherits fit_transform method.\n",
    "ws.fit_transform(df)[0:3]"
   ]
  },
  {
   "cell_type": "code",
   "execution_count": null,
   "id": "ad5996f7",
   "metadata": {},
   "outputs": [],
   "source": [
    "# And supports pandas output.\n",
    "ws.set_output(transform=\"pandas\")\n",
    "ws.transform(df).head(3)"
   ]
  },
  {
   "cell_type": "code",
   "execution_count": null,
   "id": "71274275",
   "metadata": {},
   "outputs": [],
   "source": []
  }
 ],
 "metadata": {
  "kernelspec": {
   "display_name": "Python 3 (ipykernel)",
   "language": "python",
   "name": "python3"
  },
  "language_info": {
   "codemirror_mode": {
    "name": "ipython",
    "version": 3
   },
   "file_extension": ".py",
   "mimetype": "text/x-python",
   "name": "python",
   "nbconvert_exporter": "python",
   "pygments_lexer": "ipython3",
   "version": "3.9.16"
  }
 },
 "nbformat": 4,
 "nbformat_minor": 5
}
