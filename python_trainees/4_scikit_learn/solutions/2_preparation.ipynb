{
 "cells": [
  {
   "cell_type": "markdown",
   "id": "d17533ce",
   "metadata": {},
   "source": [
    "# Solutions II: Transformers"
   ]
  },
  {
   "cell_type": "code",
   "execution_count": null,
   "id": "7aed7e08",
   "metadata": {},
   "outputs": [],
   "source": [
    "import numpy as np\n",
    "import pandas as pd"
   ]
  },
  {
   "cell_type": "code",
   "execution_count": null,
   "id": "56ef431d",
   "metadata": {},
   "outputs": [],
   "source": [
    "# Read in the banking data set\n",
    "df = pd.read_csv(\"../../0_data/banking/bank-additional-full.csv\", sep=\";\")\n",
    "df.head(3)"
   ]
  },
  {
   "cell_type": "code",
   "execution_count": null,
   "id": "68817818",
   "metadata": {},
   "outputs": [],
   "source": [
    "# Drop irrelevant / label columns.\n",
    "df = df.drop(columns=[\"y\", \"duration\", \"pdays\"])"
   ]
  },
  {
   "cell_type": "markdown",
   "id": "a4f342e1",
   "metadata": {},
   "source": [
    "## Encode Categorical Data"
   ]
  },
  {
   "cell_type": "code",
   "execution_count": null,
   "id": "5133f77b",
   "metadata": {},
   "outputs": [],
   "source": [
    "# Import the transformer from the preprocessing module.\n",
    "from sklearn.preprocessing import OneHotEncoder"
   ]
  },
  {
   "cell_type": "code",
   "execution_count": null,
   "id": "a6a2d072",
   "metadata": {},
   "outputs": [],
   "source": [
    "# Create a OneHotEncoder to encode the categorical data.\n",
    "# Note: set sparse_output to False to get readable output.\n",
    "ohe = OneHotEncoder(sparse_output=False)"
   ]
  },
  {
   "cell_type": "code",
   "execution_count": null,
   "id": "ccbd5c7b",
   "metadata": {},
   "outputs": [],
   "source": [
    "# Fit the encoder to the job column.\n",
    "ohe.fit(df[[\"job\"]])"
   ]
  },
  {
   "cell_type": "code",
   "execution_count": null,
   "id": "c992d62c",
   "metadata": {},
   "outputs": [],
   "source": [
    "# Transform the job column, look at first 3 records.\n",
    "ohe.transform(df[[\"job\"]])[0:3]"
   ]
  },
  {
   "cell_type": "code",
   "execution_count": null,
   "id": "b5189bfc",
   "metadata": {},
   "outputs": [],
   "source": [
    "# What are the feature names created by the encoder?\n",
    "ohe.get_feature_names_out()"
   ]
  },
  {
   "cell_type": "code",
   "execution_count": null,
   "id": "5484ed56",
   "metadata": {},
   "outputs": [],
   "source": [
    "# Combine to get output as a DataFrame.\n",
    "(\n",
    "    pd.DataFrame(\n",
    "        data=ohe.transform(df[[\"job\"]]),\n",
    "        columns=ohe.get_feature_names_out(),\n",
    "    )\n",
    "    .head(3)\n",
    ")"
   ]
  },
  {
   "cell_type": "code",
   "execution_count": null,
   "id": "3a747962",
   "metadata": {},
   "outputs": [],
   "source": [
    "# Another way to get a pandas DataFrame.\n",
    "ohe.set_output(transform=\"pandas\")\n",
    "ohe.transform(df[[\"job\"]]).head(3)"
   ]
  },
  {
   "cell_type": "code",
   "execution_count": null,
   "id": "7babab6c",
   "metadata": {},
   "outputs": [],
   "source": []
  },
  {
   "cell_type": "markdown",
   "id": "184b7983",
   "metadata": {},
   "source": [
    "## Transformations per Column"
   ]
  },
  {
   "cell_type": "markdown",
   "id": "5efa60e7",
   "metadata": {},
   "source": [
    "Use a ColumnTransformer to define transformations per column.\n",
    "\n",
    "\n",
    "See documentation: https://scikit-learn.org/stable/modules/generated/sklearn.compose.ColumnTransformer.html"
   ]
  },
  {
   "cell_type": "code",
   "execution_count": null,
   "id": "c123bed6",
   "metadata": {},
   "outputs": [],
   "source": [
    "# Import the ColumnTransformer from the compose module.\n",
    "from sklearn.compose import ColumnTransformer\n",
    "from sklearn.preprocessing import StandardScaler"
   ]
  },
  {
   "cell_type": "code",
   "execution_count": null,
   "id": "2e0e60bb",
   "metadata": {},
   "outputs": [],
   "source": [
    "# Get column names per data type.\n",
    "categorical = df.select_dtypes(\"object\").columns\n",
    "numerical = df.select_dtypes(\"number\").columns"
   ]
  },
  {
   "cell_type": "code",
   "execution_count": null,
   "id": "015c899e",
   "metadata": {},
   "outputs": [],
   "source": [
    "# Create a OneHotEncoder and StandardScaler.\n",
    "ohe = OneHotEncoder(sparse_output=False)\n",
    "ss = StandardScaler()"
   ]
  },
  {
   "cell_type": "code",
   "execution_count": null,
   "id": "006bc0be",
   "metadata": {},
   "outputs": [],
   "source": [
    "# Set up the ColumnTransformer.\n",
    "transformer = ColumnTransformer(\n",
    "    transformers=[\n",
    "        (\"encode_categorical\", ohe, categorical),\n",
    "        (\"scale_numerical\", ss, numerical),\n",
    "    ]\n",
    ")"
   ]
  },
  {
   "cell_type": "code",
   "execution_count": null,
   "id": "65dcdaa6",
   "metadata": {},
   "outputs": [],
   "source": [
    "# Fit and transform the data.\n",
    "transformer.set_output(transform=\"pandas\")\n",
    "transformer.fit_transform(df).head(3)"
   ]
  },
  {
   "cell_type": "code",
   "execution_count": null,
   "id": "71274275",
   "metadata": {},
   "outputs": [],
   "source": []
  }
 ],
 "metadata": {
  "kernelspec": {
   "display_name": "Python 3 (ipykernel)",
   "language": "python",
   "name": "python3"
  },
  "language_info": {
   "codemirror_mode": {
    "name": "ipython",
    "version": 3
   },
   "file_extension": ".py",
   "mimetype": "text/x-python",
   "name": "python",
   "nbconvert_exporter": "python",
   "pygments_lexer": "ipython3",
   "version": "3.9.16"
  }
 },
 "nbformat": 4,
 "nbformat_minor": 5
}
