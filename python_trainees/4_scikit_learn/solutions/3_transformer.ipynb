{
 "cells": [
  {
   "cell_type": "markdown",
   "id": "d17533ce",
   "metadata": {},
   "source": [
    "# Exercises III: Transformer Class"
   ]
  },
  {
   "cell_type": "code",
   "execution_count": 25,
   "id": "7aed7e08",
   "metadata": {},
   "outputs": [],
   "source": [
    "import numpy as np\n",
    "import pandas as pd"
   ]
  },
  {
   "cell_type": "code",
   "execution_count": 26,
   "id": "afee6fca",
   "metadata": {},
   "outputs": [
    {
     "data": {
      "text/html": [
       "<div>\n",
       "<style scoped>\n",
       "    .dataframe tbody tr th:only-of-type {\n",
       "        vertical-align: middle;\n",
       "    }\n",
       "\n",
       "    .dataframe tbody tr th {\n",
       "        vertical-align: top;\n",
       "    }\n",
       "\n",
       "    .dataframe thead th {\n",
       "        text-align: right;\n",
       "    }\n",
       "</style>\n",
       "<table border=\"1\" class=\"dataframe\">\n",
       "  <thead>\n",
       "    <tr style=\"text-align: right;\">\n",
       "      <th></th>\n",
       "      <th>city</th>\n",
       "      <th>label</th>\n",
       "    </tr>\n",
       "  </thead>\n",
       "  <tbody>\n",
       "    <tr>\n",
       "      <th>0</th>\n",
       "      <td>Amsterdam</td>\n",
       "      <td>D</td>\n",
       "    </tr>\n",
       "    <tr>\n",
       "      <th>1</th>\n",
       "      <td>Rotterdam</td>\n",
       "      <td>C</td>\n",
       "    </tr>\n",
       "    <tr>\n",
       "      <th>2</th>\n",
       "      <td>Eindhoven</td>\n",
       "      <td>F</td>\n",
       "    </tr>\n",
       "  </tbody>\n",
       "</table>\n",
       "</div>"
      ],
      "text/plain": [
       "        city label\n",
       "0  Amsterdam     D\n",
       "1  Rotterdam     C\n",
       "2  Eindhoven     F"
      ]
     },
     "execution_count": 26,
     "metadata": {},
     "output_type": "execute_result"
    }
   ],
   "source": [
    "# Generate some dummy data to transform.\n",
    "n = 150\n",
    "cities = {\n",
    "    \"Amsterdam\": .20,\n",
    "    \"Rotterdam\": .20,\n",
    "    \"Den Haag\":  .18,\n",
    "    \"Utrecht\":   .12,\n",
    "    \"Eindhoven\": .10,\n",
    "    \"Groningen\": .06,\n",
    "    \"Tilburg\":   .04,\n",
    "    \"Almere\":    .04,\n",
    "    \"Breda\":     .03,\n",
    "    \"Nijmegen\":  .03,\n",
    "}\n",
    "\n",
    "df = pd.DataFrame({\n",
    "    \"city\": np.random.choice(list(cities), n, p=[p for _, p in cities.items()]),\n",
    "    \"label\": np.random.choice(list(\"ABCDEF\"), n, p=[.05, .3, .3, .2, .1, .05])\n",
    "})\n",
    "df.head(3)"
   ]
  },
  {
   "cell_type": "code",
   "execution_count": 29,
   "id": "bef40fa8",
   "metadata": {},
   "outputs": [],
   "source": [
    "class InfrequentRecoder:\n",
    "    \"\"\"Transformer for recoding infrequent categories.\"\"\"\n",
    "    def __init__(self, topn=3, replace=\"other\"):\n",
    "        # Dict for storing most frequent categories\n",
    "        self._most_frequent = {}\n",
    "\n",
    "        # Store additional settings.\n",
    "        self.topn = topn\n",
    "        self.replace = replace\n",
    "\n",
    "    def fit(self, X, y=None):\n",
    "        \"\"\"Store most frequent categories per column.\"\"\"\n",
    "        # Get all categorical columns.\n",
    "        columns = X.select_dtypes(\"object\").columns\n",
    "        \n",
    "        # Store top 3 categories per column.\n",
    "        for column in columns:\n",
    "            most_frequent = X[column].value_counts().head(self.topn)\n",
    "            self._most_frequent[column] = most_frequent.index\n",
    "        \n",
    "        return self\n",
    "    \n",
    "    def transform(self, X, y=None):\n",
    "        \"\"\"Recode all but the most frequent categories.\"\"\"\n",
    "        \n",
    "        # Go through the stored columns and categories.\n",
    "        recodes = {}\n",
    "        for column, most_frequent in self._most_frequent.items():\n",
    "            \n",
    "            # Define recoding for each column.\n",
    "            recodes[column] = X[column].map(\n",
    "                lambda v: v if v in most_frequent else self.replace\n",
    "            )\n",
    "\n",
    "        # Return transformed data.\n",
    "        return X.assign(**recodes)"
   ]
  },
  {
   "cell_type": "code",
   "execution_count": 30,
   "id": "e74d199c",
   "metadata": {},
   "outputs": [
    {
     "data": {
      "text/plain": [
       "<__main__.InfrequentRecoder at 0x182e4fb4370>"
      ]
     },
     "execution_count": 30,
     "metadata": {},
     "output_type": "execute_result"
    }
   ],
   "source": [
    "# Create and fit the InfrequentRecoder.\n",
    "recoder = InfrequentRecoder()\n",
    "recoder.fit(df)"
   ]
  },
  {
   "cell_type": "code",
   "execution_count": 31,
   "id": "8ad94231",
   "metadata": {},
   "outputs": [
    {
     "data": {
      "text/html": [
       "<div>\n",
       "<style scoped>\n",
       "    .dataframe tbody tr th:only-of-type {\n",
       "        vertical-align: middle;\n",
       "    }\n",
       "\n",
       "    .dataframe tbody tr th {\n",
       "        vertical-align: top;\n",
       "    }\n",
       "\n",
       "    .dataframe thead th {\n",
       "        text-align: right;\n",
       "    }\n",
       "</style>\n",
       "<table border=\"1\" class=\"dataframe\">\n",
       "  <thead>\n",
       "    <tr style=\"text-align: right;\">\n",
       "      <th></th>\n",
       "      <th>city</th>\n",
       "      <th>label</th>\n",
       "    </tr>\n",
       "  </thead>\n",
       "  <tbody>\n",
       "    <tr>\n",
       "      <th>0</th>\n",
       "      <td>Amsterdam</td>\n",
       "      <td>D</td>\n",
       "    </tr>\n",
       "    <tr>\n",
       "      <th>1</th>\n",
       "      <td>Rotterdam</td>\n",
       "      <td>C</td>\n",
       "    </tr>\n",
       "    <tr>\n",
       "      <th>2</th>\n",
       "      <td>other</td>\n",
       "      <td>other</td>\n",
       "    </tr>\n",
       "    <tr>\n",
       "      <th>3</th>\n",
       "      <td>other</td>\n",
       "      <td>C</td>\n",
       "    </tr>\n",
       "    <tr>\n",
       "      <th>4</th>\n",
       "      <td>other</td>\n",
       "      <td>C</td>\n",
       "    </tr>\n",
       "    <tr>\n",
       "      <th>...</th>\n",
       "      <td>...</td>\n",
       "      <td>...</td>\n",
       "    </tr>\n",
       "    <tr>\n",
       "      <th>145</th>\n",
       "      <td>Amsterdam</td>\n",
       "      <td>D</td>\n",
       "    </tr>\n",
       "    <tr>\n",
       "      <th>146</th>\n",
       "      <td>other</td>\n",
       "      <td>D</td>\n",
       "    </tr>\n",
       "    <tr>\n",
       "      <th>147</th>\n",
       "      <td>Rotterdam</td>\n",
       "      <td>other</td>\n",
       "    </tr>\n",
       "    <tr>\n",
       "      <th>148</th>\n",
       "      <td>Amsterdam</td>\n",
       "      <td>other</td>\n",
       "    </tr>\n",
       "    <tr>\n",
       "      <th>149</th>\n",
       "      <td>Rotterdam</td>\n",
       "      <td>C</td>\n",
       "    </tr>\n",
       "  </tbody>\n",
       "</table>\n",
       "<p>150 rows × 2 columns</p>\n",
       "</div>"
      ],
      "text/plain": [
       "          city  label\n",
       "0    Amsterdam      D\n",
       "1    Rotterdam      C\n",
       "2        other  other\n",
       "3        other      C\n",
       "4        other      C\n",
       "..         ...    ...\n",
       "145  Amsterdam      D\n",
       "146      other      D\n",
       "147  Rotterdam  other\n",
       "148  Amsterdam  other\n",
       "149  Rotterdam      C\n",
       "\n",
       "[150 rows x 2 columns]"
      ]
     },
     "execution_count": 31,
     "metadata": {},
     "output_type": "execute_result"
    }
   ],
   "source": [
    "# Transform the dummy data.\n",
    "df_recoded = recoder.transform(df)\n",
    "df_recoded"
   ]
  },
  {
   "cell_type": "code",
   "execution_count": 32,
   "id": "ad5996f7",
   "metadata": {},
   "outputs": [
    {
     "data": {
      "text/plain": [
       "city\n",
       "other        59\n",
       "Rotterdam    36\n",
       "Amsterdam    32\n",
       "Den Haag     23\n",
       "Name: count, dtype: int64"
      ]
     },
     "execution_count": 32,
     "metadata": {},
     "output_type": "execute_result"
    }
   ],
   "source": [
    "# Check recoded values.\n",
    "df_recoded[\"city\"].value_counts()"
   ]
  },
  {
   "cell_type": "code",
   "execution_count": null,
   "id": "698cc5dd",
   "metadata": {},
   "outputs": [],
   "source": []
  }
 ],
 "metadata": {
  "kernelspec": {
   "display_name": "Python 3 (ipykernel)",
   "language": "python",
   "name": "python3"
  },
  "language_info": {
   "codemirror_mode": {
    "name": "ipython",
    "version": 3
   },
   "file_extension": ".py",
   "mimetype": "text/x-python",
   "name": "python",
   "nbconvert_exporter": "python",
   "pygments_lexer": "ipython3",
   "version": "3.9.18"
  }
 },
 "nbformat": 4,
 "nbformat_minor": 5
}
