{
 "cells": [
  {
   "cell_type": "markdown",
   "id": "7cd09e2a",
   "metadata": {},
   "source": [
    "# Banking data: Modelling"
   ]
  },
  {
   "cell_type": "code",
   "execution_count": null,
   "id": "969706cb",
   "metadata": {},
   "outputs": [],
   "source": [
    "import pandas as pd\n",
    "\n",
    "from sklearn.pipeline import Pipeline\n",
    "from sklearn.compose import ColumnTransformer\n",
    "from sklearn.preprocessing import OneHotEncoder, StandardScaler"
   ]
  },
  {
   "cell_type": "markdown",
   "id": "12513f98",
   "metadata": {},
   "source": [
    "## Load Data"
   ]
  },
  {
   "cell_type": "code",
   "execution_count": null,
   "id": "cf54762b",
   "metadata": {},
   "outputs": [],
   "source": [
    "# Read in the banking data set.\n",
    "df = pd.read_csv(\"../../0_data/banking/bank-additional-full.csv\", sep=\";\")\n",
    "df.head(3)"
   ]
  },
  {
   "cell_type": "code",
   "execution_count": null,
   "id": "f579e5a1",
   "metadata": {},
   "outputs": [],
   "source": [
    "# Split features and labels.\n",
    "X = df.drop(columns=[\"duration\", \"pdays\", \"y\"])\n",
    "y = df[\"y\"]"
   ]
  },
  {
   "cell_type": "markdown",
   "id": "ee5a7303",
   "metadata": {},
   "source": [
    "## Data Preparation"
   ]
  },
  {
   "cell_type": "code",
   "execution_count": null,
   "id": "313abae7",
   "metadata": {},
   "outputs": [],
   "source": [
    "# Get column names per data type.\n",
    "categorical = X.select_dtypes(\"object\").columns\n",
    "numerical = X.select_dtypes(\"number\").columns"
   ]
  },
  {
   "cell_type": "code",
   "execution_count": null,
   "id": "61256745",
   "metadata": {},
   "outputs": [],
   "source": [
    "# Create a OneHotEncoder and StandardScaler.\n",
    "ohe = OneHotEncoder(sparse_output=False)\n",
    "ss = StandardScaler()"
   ]
  },
  {
   "cell_type": "code",
   "execution_count": null,
   "id": "6f23a11c",
   "metadata": {},
   "outputs": [],
   "source": [
    "# Set up the ColumnTransformer.\n",
    "transformer = ColumnTransformer(\n",
    "    transformers=[\n",
    "        (\"encode_categorical\", ohe, categorical),\n",
    "        (\"scale_numerical\", ss, numerical),\n",
    "    ]\n",
    ")"
   ]
  },
  {
   "cell_type": "code",
   "execution_count": null,
   "id": "871bb373",
   "metadata": {},
   "outputs": [],
   "source": [
    "# Another way to get a pandas DataFrame.\n",
    "transformer.set_output(transform=\"pandas\")\n",
    "Xt = transformer.fit_transform(X)"
   ]
  },
  {
   "cell_type": "code",
   "execution_count": null,
   "id": "7f826671",
   "metadata": {},
   "outputs": [],
   "source": [
    "# Quick inspection of the transformed data.\n",
    "Xt.head(3)"
   ]
  },
  {
   "cell_type": "markdown",
   "id": "4c84c886",
   "metadata": {},
   "source": [
    "## Dummy Model"
   ]
  },
  {
   "cell_type": "code",
   "execution_count": null,
   "id": "c2bc470b",
   "metadata": {},
   "outputs": [],
   "source": [
    "from sklearn.dummy import DummyClassifier"
   ]
  },
  {
   "cell_type": "code",
   "execution_count": null,
   "id": "a6b787f9",
   "metadata": {},
   "outputs": [],
   "source": [
    "# Create logistic regression model instance.\n",
    "dm = DummyClassifier(strategy=\"stratified\")"
   ]
  },
  {
   "cell_type": "code",
   "execution_count": null,
   "id": "13560a55",
   "metadata": {},
   "outputs": [],
   "source": [
    "# Fit to the training data.\n",
    "dm.fit(Xt, y)"
   ]
  },
  {
   "cell_type": "code",
   "execution_count": null,
   "id": "ca257a88",
   "metadata": {},
   "outputs": [],
   "source": [
    "# Create predictions.\n",
    "predicted = dm.predict(Xt)"
   ]
  },
  {
   "cell_type": "code",
   "execution_count": null,
   "id": "999ac1e8",
   "metadata": {},
   "outputs": [],
   "source": [
    "# Create a DataFrame with actual and predicted.\n",
    "result = pd.DataFrame({\n",
    "    \"actual\": y,\n",
    "    \"predicted\": predicted,\n",
    "})\n",
    "result.head(3)"
   ]
  },
  {
   "cell_type": "code",
   "execution_count": null,
   "id": "1cece21c",
   "metadata": {},
   "outputs": [],
   "source": [
    "# Check correspondence using pandas.\n",
    "result.value_counts()"
   ]
  },
  {
   "cell_type": "markdown",
   "id": "b78419cc",
   "metadata": {},
   "source": [
    "## Linear Model"
   ]
  },
  {
   "cell_type": "code",
   "execution_count": null,
   "id": "9eda9fb8",
   "metadata": {},
   "outputs": [],
   "source": [
    "from sklearn.linear_model import LogisticRegression"
   ]
  },
  {
   "cell_type": "code",
   "execution_count": null,
   "id": "f8ce6842",
   "metadata": {},
   "outputs": [],
   "source": [
    "# Create logistic regression model instance.\n",
    "lm = LogisticRegression(max_iter=500)"
   ]
  },
  {
   "cell_type": "code",
   "execution_count": null,
   "id": "87b80299",
   "metadata": {},
   "outputs": [],
   "source": [
    "# Fit to the training data.\n",
    "lm.fit(Xt, y)"
   ]
  },
  {
   "cell_type": "code",
   "execution_count": null,
   "id": "4b12ef71",
   "metadata": {},
   "outputs": [],
   "source": [
    "# Create predictions.\n",
    "predicted = lm.predict(Xt)"
   ]
  },
  {
   "cell_type": "code",
   "execution_count": null,
   "id": "8d6fa9aa",
   "metadata": {},
   "outputs": [],
   "source": [
    "# Create a DataFrame with actual and predicted.\n",
    "result = pd.DataFrame({\n",
    "    \"actual\": y,\n",
    "    \"predicted\": predicted,\n",
    "})\n",
    "result.head(3)"
   ]
  },
  {
   "cell_type": "code",
   "execution_count": null,
   "id": "9b779bc7",
   "metadata": {},
   "outputs": [],
   "source": [
    "# Check correspondence using pandas.\n",
    "result.value_counts()"
   ]
  },
  {
   "cell_type": "code",
   "execution_count": null,
   "id": "8f1e7261",
   "metadata": {},
   "outputs": [],
   "source": [
    "# Or using sklearn.\n",
    "from sklearn.metrics import confusion_matrix\n",
    "\n",
    "# Note: rows are actual, columns are predicted.\n",
    "confusion_matrix(y, predicted)"
   ]
  },
  {
   "cell_type": "code",
   "execution_count": null,
   "id": "b6b6af48",
   "metadata": {},
   "outputs": [],
   "source": [
    "# Get coefficients from the model.\n",
    "(\n",
    "    pd.DataFrame(\n",
    "        # The coef_ attribute holds the values.\n",
    "        data=lm.coef_,\n",
    "        \n",
    "        # The feature_names_in the names.\n",
    "        columns=lm.feature_names_in_,\n",
    "    )\n",
    "    .T\n",
    "    .sort_values(0, ascending=False)\n",
    ")"
   ]
  },
  {
   "cell_type": "markdown",
   "id": "feb42e43",
   "metadata": {},
   "source": [
    "## RandomForest Model"
   ]
  },
  {
   "cell_type": "code",
   "execution_count": null,
   "id": "0f433ca8",
   "metadata": {},
   "outputs": [],
   "source": [
    "from sklearn.ensemble import RandomForestClassifier"
   ]
  },
  {
   "cell_type": "code",
   "execution_count": null,
   "id": "525814ac",
   "metadata": {},
   "outputs": [],
   "source": [
    "# Create random forest model instance.\n",
    "rf = RandomForestClassifier(n_jobs=-1)"
   ]
  },
  {
   "cell_type": "code",
   "execution_count": null,
   "id": "01b79f6c",
   "metadata": {},
   "outputs": [],
   "source": [
    "# Fit to the data.\n",
    "rf.fit(Xt, y)"
   ]
  },
  {
   "cell_type": "code",
   "execution_count": null,
   "id": "cf10dfd9",
   "metadata": {},
   "outputs": [],
   "source": [
    "# Create predictions.\n",
    "predicted = rf.predict(Xt)"
   ]
  },
  {
   "cell_type": "code",
   "execution_count": null,
   "id": "8faddbaf",
   "metadata": {},
   "outputs": [],
   "source": [
    "# Create a DataFrame with actual and predicted.\n",
    "result = pd.DataFrame({\n",
    "    \"actual\": y,\n",
    "    \"predicted\": predicted,\n",
    "})\n",
    "\n",
    "# Check correspondence using pandas.\n",
    "result.value_counts()"
   ]
  },
  {
   "cell_type": "markdown",
   "id": "732909d7",
   "metadata": {},
   "source": [
    "## Combine with Pipeline"
   ]
  },
  {
   "cell_type": "code",
   "execution_count": null,
   "id": "a11d12ec",
   "metadata": {},
   "outputs": [],
   "source": [
    "# Get column names per data type.\n",
    "categorical = X.select_dtypes(\"object\").columns\n",
    "numerical = X.select_dtypes(\"number\").columns"
   ]
  },
  {
   "cell_type": "code",
   "execution_count": null,
   "id": "61e38f5b",
   "metadata": {},
   "outputs": [],
   "source": [
    "# Set up the ColumnTransformer.\n",
    "transformer = ColumnTransformer(\n",
    "    transformers=[\n",
    "        (\"encode_categorical\", OneHotEncoder(), categorical),\n",
    "        (\"scale_numerical\", StandardScaler(), numerical),\n",
    "    ]\n",
    ")"
   ]
  },
  {
   "cell_type": "code",
   "execution_count": null,
   "id": "ed6f0db2",
   "metadata": {},
   "outputs": [],
   "source": [
    "# Set up the model.\n",
    "random_forest = RandomForestClassifier(n_jobs=-1)"
   ]
  },
  {
   "cell_type": "code",
   "execution_count": null,
   "id": "941fe2d5",
   "metadata": {},
   "outputs": [],
   "source": [
    "# Combine preparation and model using a Pipeline.\n",
    "pipe = Pipeline(\n",
    "    steps=[\n",
    "        (\"preparation\", transformer),\n",
    "        (\"model\", random_forest),\n",
    "    ]\n",
    ")"
   ]
  },
  {
   "cell_type": "code",
   "execution_count": null,
   "id": "60395add",
   "metadata": {
    "scrolled": false
   },
   "outputs": [],
   "source": [
    "# Fit now prepares the data and then feeds it to the model.\n",
    "pipe.fit(X, y)"
   ]
  },
  {
   "cell_type": "code",
   "execution_count": null,
   "id": "065fc26b",
   "metadata": {},
   "outputs": [],
   "source": [
    "# Predict also prepares the data before feeding it to the model.\n",
    "pipe.predict(X)"
   ]
  },
  {
   "cell_type": "code",
   "execution_count": null,
   "id": "c3f1284d",
   "metadata": {},
   "outputs": [],
   "source": [
    "# Accessing a Pipeline step by its name.\n",
    "pipe[\"model\"]"
   ]
  },
  {
   "cell_type": "code",
   "execution_count": null,
   "id": "a6c1a93a",
   "metadata": {},
   "outputs": [],
   "source": [
    "# Getting feature names produced in preparation.\n",
    "pipe[\"preparation\"].get_feature_names_out()"
   ]
  },
  {
   "cell_type": "code",
   "execution_count": null,
   "id": "b86d4a31",
   "metadata": {},
   "outputs": [],
   "source": [
    "# Getting feature importances\n",
    "pipe[\"model\"].feature_importances_"
   ]
  },
  {
   "cell_type": "code",
   "execution_count": null,
   "id": "dc99bcc0",
   "metadata": {},
   "outputs": [],
   "source": []
  }
 ],
 "metadata": {
  "kernelspec": {
   "display_name": "Python 3 (ipykernel)",
   "language": "python",
   "name": "python3"
  },
  "language_info": {
   "codemirror_mode": {
    "name": "ipython",
    "version": 3
   },
   "file_extension": ".py",
   "mimetype": "text/x-python",
   "name": "python",
   "nbconvert_exporter": "python",
   "pygments_lexer": "ipython3",
   "version": "3.9.16"
  }
 },
 "nbformat": 4,
 "nbformat_minor": 5
}
