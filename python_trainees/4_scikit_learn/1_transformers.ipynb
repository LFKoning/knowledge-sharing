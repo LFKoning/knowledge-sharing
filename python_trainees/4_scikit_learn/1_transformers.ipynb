{
 "cells": [
  {
   "cell_type": "markdown",
   "id": "ffc8194e",
   "metadata": {},
   "source": [
    "# Transformers"
   ]
  },
  {
   "cell_type": "code",
   "execution_count": null,
   "id": "986d45f4",
   "metadata": {},
   "outputs": [],
   "source": [
    "import pandas as pd\n",
    "\n",
    "from sklearn.preprocessing import StandardScaler\n",
    "from sklearn.feature_extraction.text import CountVectorizer"
   ]
  },
  {
   "cell_type": "markdown",
   "id": "8275a725",
   "metadata": {},
   "source": [
    "## Scale Numeric Data"
   ]
  },
  {
   "cell_type": "code",
   "execution_count": null,
   "id": "74709756",
   "metadata": {},
   "outputs": [],
   "source": [
    "# Create dummy data.\n",
    "df = pd.DataFrame({\"x\": [1, 2, 3, 4]})\n",
    "print(f\"Mean: {df['x'].mean():5.2f}\")\n",
    "print(f\"Std:  {df['x'].std(ddof=0):5.2f}\")"
   ]
  },
  {
   "cell_type": "code",
   "execution_count": null,
   "id": "a9ba67e9",
   "metadata": {},
   "outputs": [],
   "source": [
    "# Create and fit the scaler.\n",
    "ss = StandardScaler()\n",
    "ss.fit(df)"
   ]
  },
  {
   "cell_type": "code",
   "execution_count": null,
   "id": "2f3a8120",
   "metadata": {},
   "outputs": [],
   "source": [
    "# Mean learned by the scaler.\n",
    "ss.mean_"
   ]
  },
  {
   "cell_type": "code",
   "execution_count": null,
   "id": "704af40a",
   "metadata": {},
   "outputs": [],
   "source": [
    "# Variance learned by the scaler.\n",
    "ss.var_"
   ]
  },
  {
   "cell_type": "code",
   "execution_count": null,
   "id": "a959fcc4",
   "metadata": {},
   "outputs": [],
   "source": [
    "# Scaling factor based on variance.\n",
    "ss.scale_"
   ]
  },
  {
   "cell_type": "code",
   "execution_count": null,
   "id": "15135a1f",
   "metadata": {},
   "outputs": [],
   "source": [
    "# Transform the data.\n",
    "ss.transform(df)"
   ]
  },
  {
   "cell_type": "code",
   "execution_count": null,
   "id": "a70b9b89",
   "metadata": {},
   "outputs": [],
   "source": [
    "# Check output.\n",
    "(df[\"x\"] - ss.mean_) / ss.scale_"
   ]
  },
  {
   "cell_type": "code",
   "execution_count": null,
   "id": "98f545fb",
   "metadata": {},
   "outputs": [],
   "source": [
    "# Use set_output() to get pandas output.\n",
    "ss.set_output(transform=\"pandas\")\n",
    "ss.transform(df)"
   ]
  },
  {
   "cell_type": "markdown",
   "id": "dfd92b1c",
   "metadata": {},
   "source": [
    "## Vectorize Text Data"
   ]
  },
  {
   "cell_type": "code",
   "execution_count": null,
   "id": "26de0b2d",
   "metadata": {},
   "outputs": [],
   "source": [
    "# Dummy text data.\n",
    "df = pd.DataFrame({\n",
    "    \"texts\": [\n",
    "        \"I agree completely.\",\n",
    "        \"I completely agree.\",\n",
    "        \"I don't agree at all.\",\n",
    "        \"My name is Zoë.\"\n",
    "    ]\n",
    "})"
   ]
  },
  {
   "cell_type": "code",
   "execution_count": null,
   "id": "7ab70ed5",
   "metadata": {},
   "outputs": [],
   "source": [
    "# Create the vectorizer.\n",
    "cv = CountVectorizer(strip_accents=\"unicode\")"
   ]
  },
  {
   "cell_type": "code",
   "execution_count": null,
   "id": "540c7a61",
   "metadata": {},
   "outputs": [],
   "source": [
    "# Fit to the texts column.\n",
    "cv.fit(df[\"texts\"])"
   ]
  },
  {
   "cell_type": "code",
   "execution_count": null,
   "id": "0be1b699",
   "metadata": {},
   "outputs": [],
   "source": [
    "# Show word frequencies in the data.\n",
    "cv.vocabulary_"
   ]
  },
  {
   "cell_type": "code",
   "execution_count": null,
   "id": "5db0a12f",
   "metadata": {},
   "outputs": [],
   "source": [
    "# Transform the data.\n",
    "cv.transform(df[\"texts\"]).todense()"
   ]
  },
  {
   "cell_type": "code",
   "execution_count": null,
   "id": "93400c1c",
   "metadata": {},
   "outputs": [],
   "source": [
    "# Get the feature names.\n",
    "cv.get_feature_names_out()"
   ]
  },
  {
   "cell_type": "code",
   "execution_count": null,
   "id": "9236c9a8",
   "metadata": {},
   "outputs": [],
   "source": [
    "# Combine to DataFrame.\n",
    "# Note: Does not support set_output().\n",
    "pd.DataFrame(\n",
    "    data=cv.transform(df[\"texts\"]).todense(),\n",
    "    columns=cv.get_feature_names_out()\n",
    ")"
   ]
  },
  {
   "cell_type": "code",
   "execution_count": null,
   "id": "2faae789",
   "metadata": {},
   "outputs": [],
   "source": []
  }
 ],
 "metadata": {
  "kernelspec": {
   "display_name": "Python 3 (ipykernel)",
   "language": "python",
   "name": "python3"
  },
  "language_info": {
   "codemirror_mode": {
    "name": "ipython",
    "version": 3
   },
   "file_extension": ".py",
   "mimetype": "text/x-python",
   "name": "python",
   "nbconvert_exporter": "python",
   "pygments_lexer": "ipython3",
   "version": "3.9.16"
  }
 },
 "nbformat": 4,
 "nbformat_minor": 5
}
