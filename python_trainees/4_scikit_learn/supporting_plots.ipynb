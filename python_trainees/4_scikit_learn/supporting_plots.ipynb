{
 "cells": [
  {
   "cell_type": "code",
   "execution_count": null,
   "id": "87423255",
   "metadata": {},
   "outputs": [],
   "source": [
    "import numpy as np\n",
    "import pandas as pd\n",
    "\n",
    "import matplotlib.pyplot as plt\n",
    "from sklearn.preprocessing import quantile_transform, PolynomialFeatures\n",
    "\n",
    "from sklearn.linear_model import LinearRegression"
   ]
  },
  {
   "cell_type": "markdown",
   "id": "1d086468",
   "metadata": {},
   "source": [
    "## Error"
   ]
  },
  {
   "cell_type": "code",
   "execution_count": null,
   "id": "c12a5242",
   "metadata": {},
   "outputs": [],
   "source": [
    "fig = plt.figure(figsize=(5, 5))\n",
    "ax = fig.add_subplot(1, 1, 1)\n",
    "\n",
    "x = [1, 2, 3, 4, 5]\n",
    "a = [3, 3.5, 3, 4, 5]\n",
    "p = [2 + 0.5 * _ for _ in x]\n",
    "\n",
    "ax.plot(x, p, label=\"model\", color=\"grey\")\n",
    "ax.scatter(x, a, color=\"blue\")\n",
    "ax.vlines(x, ymin=p, ymax=a, color=\"red\")\n",
    "\n",
    "\n",
    "None"
   ]
  },
  {
   "cell_type": "markdown",
   "id": "ac53cd79",
   "metadata": {},
   "source": [
    "## Quantile Transform"
   ]
  },
  {
   "cell_type": "code",
   "execution_count": null,
   "id": "acd54b98",
   "metadata": {},
   "outputs": [],
   "source": [
    "n = 5000\n",
    "x = np.random.lognormal(0, 0.6, n) * 5\n",
    "x_t = quantile_transform(x.reshape(-1, 1), n_quantiles=100)"
   ]
  },
  {
   "cell_type": "code",
   "execution_count": null,
   "id": "63bb8a85",
   "metadata": {},
   "outputs": [],
   "source": [
    "fig, axes = plt.subplots(2, 1, figsize=(8, 6))\n",
    "colors = [\"red\", \"orange\", \"green\"]\n",
    "titles = [\"Original Data\", \"Quantile Transformed Data\"]\n",
    "\n",
    "for idx, series in enumerate((x, x_t)):\n",
    "    axes[idx].hist(series, bins=100, edgecolor=\"white\")\n",
    "    axes[idx].set_title(titles[idx])\n",
    "    quantiles = np.quantile(series, [0.25, 0.5, 0.75])\n",
    "    for quantile, color in zip(quantiles, colors):\n",
    "        axes[idx].axvline(x=quantile, color=color)\n",
    "\n",
    "plt.tight_layout()"
   ]
  },
  {
   "cell_type": "code",
   "execution_count": null,
   "id": "7a2489bb",
   "metadata": {},
   "outputs": [],
   "source": []
  },
  {
   "cell_type": "markdown",
   "id": "fbe6ee33",
   "metadata": {},
   "source": [
    "## Winsorizing"
   ]
  },
  {
   "cell_type": "code",
   "execution_count": null,
   "id": "feb273cb",
   "metadata": {},
   "outputs": [],
   "source": [
    "n = 200\n",
    "x = pd.Series(np.random.lognormal(1.5, 1, n))\n",
    "upper = x.quantile(0.95)\n",
    "xw = x.clip(upper=upper)\n",
    "\n",
    "fig = plt.figure(figsize=(6, 6))\n",
    "bins = list(range(0, int(x.max() + 5), 5))\n",
    "\n",
    "# Plot original data\n",
    "ax1 = fig.add_subplot(2, 1, 1)\n",
    "ax1.hist(x, bins=bins, edgecolor=\"white\")\n",
    "ax1.axvline(x=upper, color=\"red\")\n",
    "ax1.set_title(\"Raw Data\")\n",
    "\n",
    "# Plot winsorized\n",
    "ax2 = fig.add_subplot(2, 1, 2)\n",
    "ax2.hist(xw, bins=bins, edgecolor=\"white\")\n",
    "ax2.axvline(x=upper, color=\"red\")\n",
    "ax2.set_title(\"Winsorized Data\")\n",
    "\n",
    "fig.tight_layout()"
   ]
  },
  {
   "cell_type": "code",
   "execution_count": null,
   "id": "e6a15d4c",
   "metadata": {},
   "outputs": [],
   "source": []
  },
  {
   "cell_type": "markdown",
   "id": "b21fda2f",
   "metadata": {},
   "source": [
    "## Fit vs Overfit"
   ]
  },
  {
   "cell_type": "code",
   "execution_count": null,
   "id": "f9929fb4",
   "metadata": {},
   "outputs": [],
   "source": [
    "def model(x):\n",
    "    \"\"\"Generative model.\"\"\"\n",
    "    return 3 + 0.5 * x"
   ]
  },
  {
   "cell_type": "code",
   "execution_count": null,
   "id": "c6a11ef7",
   "metadata": {},
   "outputs": [],
   "source": [
    "# Create population data\n",
    "pop_size = 5000\n",
    "sample_size = 15\n",
    "xlim = 1, 10\n",
    "\n",
    "x = np.random.uniform(xlim[0], xlim[1], pop_size)\n",
    "y = model(x) + np.random.normal(0, 0.5, pop_size)"
   ]
  },
  {
   "cell_type": "code",
   "execution_count": null,
   "id": "fe0a5752",
   "metadata": {},
   "outputs": [],
   "source": [
    "# Take a sample\n",
    "idx = np.random.randint(0, len(x), sample_size)\n",
    "xs = x[idx]\n",
    "ys = y[idx]\n",
    "\n",
    "# Create high order polynomial features\n",
    "poly = PolynomialFeatures(degree=5)\n",
    "Xs = poly.fit_transform(xs.reshape(-1, 1))\n",
    "\n",
    "# Fit model\n",
    "linear = LinearRegression()\n",
    "linear.fit(Xs, ys)"
   ]
  },
  {
   "cell_type": "code",
   "execution_count": null,
   "id": "e3380e8b",
   "metadata": {},
   "outputs": [],
   "source": [
    "# Create the figure\n",
    "fig = plt.figure(figsize=(4, 8))\n",
    "ax1, ax2 = fig.subplots(2, 1, sharex=True, sharey=True)\n",
    "\n",
    "# Plot population scatter\n",
    "ax1.scatter(x, y, alpha=0.05)\n",
    "\n",
    "# Overlay generative model\n",
    "xt = np.linspace(xlim[0], xlim[1], 2)\n",
    "ax1.plot(xt, model(xt), color=\"red\", label=\"y = 3 + 0.5 * x\")\n",
    "ax1.legend()\n",
    "ax1.set_title(\"Populatie\")\n",
    "\n",
    "# Create linear model data\n",
    "xm = np.linspace(xlim[0], xlim[1], 100).reshape(-1, 1)\n",
    "Xm = poly.transform(xm)\n",
    "ym = linear.predict(Xm)\n",
    "\n",
    "# Plot sample scatter\n",
    "ax2.scatter(xs, ys)\n",
    "\n",
    "# Plot polynomial model\n",
    "ax2.plot(xm, ym, color=\"red\")\n",
    "ax2.set_ylim((3, 8))\n",
    "ax2.set_title(\"Steekproef\")\n",
    "\n",
    "None"
   ]
  },
  {
   "cell_type": "code",
   "execution_count": null,
   "id": "e1858d2d",
   "metadata": {},
   "outputs": [],
   "source": []
  },
  {
   "cell_type": "code",
   "execution_count": null,
   "id": "58dc2592",
   "metadata": {},
   "outputs": [],
   "source": []
  }
 ],
 "metadata": {
  "kernelspec": {
   "display_name": "Python 3 (ipykernel)",
   "language": "python",
   "name": "python3"
  },
  "language_info": {
   "codemirror_mode": {
    "name": "ipython",
    "version": 3
   },
   "file_extension": ".py",
   "mimetype": "text/x-python",
   "name": "python",
   "nbconvert_exporter": "python",
   "pygments_lexer": "ipython3",
   "version": "3.9.16"
  }
 },
 "nbformat": 4,
 "nbformat_minor": 5
}
