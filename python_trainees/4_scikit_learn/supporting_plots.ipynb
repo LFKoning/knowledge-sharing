{
 "cells": [
  {
   "cell_type": "code",
   "execution_count": null,
   "id": "87423255",
   "metadata": {},
   "outputs": [],
   "source": [
    "import numpy as np\n",
    "import pandas as pd\n",
    "\n",
    "import matplotlib.pyplot as plt\n",
    "from sklearn.preprocessing import quantile_transform"
   ]
  },
  {
   "cell_type": "markdown",
   "id": "1d086468",
   "metadata": {},
   "source": [
    "## Error"
   ]
  },
  {
   "cell_type": "code",
   "execution_count": null,
   "id": "c12a5242",
   "metadata": {},
   "outputs": [],
   "source": [
    "fig = plt.figure(figsize=(5, 5))\n",
    "ax = fig.add_subplot(1, 1, 1)\n",
    "\n",
    "x = [1, 2, 3, 4, 5]\n",
    "a = [3, 3.5, 3, 4, 5]\n",
    "p = [2 + 0.5 * _ for _ in x]\n",
    "\n",
    "ax.plot(x, p, label=\"model\", color=\"grey\")\n",
    "ax.scatter(x, a, color=\"blue\")\n",
    "ax.vlines(x, ymin=p, ymax=a, color=\"red\")\n",
    "\n",
    "\n",
    "None"
   ]
  },
  {
   "cell_type": "markdown",
   "id": "ac53cd79",
   "metadata": {},
   "source": [
    "## Quantile Transform"
   ]
  },
  {
   "cell_type": "code",
   "execution_count": null,
   "id": "acd54b98",
   "metadata": {},
   "outputs": [],
   "source": [
    "n = 5000\n",
    "x = np.random.lognormal(0, 0.6, n) * 5\n",
    "x_t = quantile_transform(x.reshape(-1, 1), n_quantiles=100)"
   ]
  },
  {
   "cell_type": "code",
   "execution_count": null,
   "id": "63bb8a85",
   "metadata": {},
   "outputs": [],
   "source": [
    "fig, axes = plt.subplots(2, 1, figsize=(8, 6))\n",
    "colors = [\"red\", \"orange\", \"green\"]\n",
    "titles = [\"Original Data\", \"Quantile Transformed Data\"]\n",
    "\n",
    "for idx, series in enumerate((x, x_t)):\n",
    "    axes[idx].hist(series, bins=100, edgecolor=\"white\")\n",
    "    axes[idx].set_title(titles[idx])\n",
    "    quantiles = np.quantile(series, [0.25, 0.5, 0.75])\n",
    "    for quantile, color in zip(quantiles, colors):\n",
    "        axes[idx].axvline(x=quantile, color=color)\n",
    "\n",
    "plt.tight_layout()"
   ]
  },
  {
   "cell_type": "code",
   "execution_count": null,
   "id": "7a2489bb",
   "metadata": {},
   "outputs": [],
   "source": []
  },
  {
   "cell_type": "markdown",
   "id": "fbe6ee33",
   "metadata": {},
   "source": [
    "## Winsorizing"
   ]
  },
  {
   "cell_type": "code",
   "execution_count": null,
   "id": "feb273cb",
   "metadata": {},
   "outputs": [],
   "source": [
    "n = 200\n",
    "x = pd.Series(np.random.lognormal(1.5, 1, n))\n",
    "upper = x.quantile(0.95)\n",
    "xw = x.clip(upper=upper)\n",
    "\n",
    "fig = plt.figure(figsize=(6, 6))\n",
    "bins = list(range(0, int(x.max() + 5), 5))\n",
    "\n",
    "# Plot original data\n",
    "ax1 = fig.add_subplot(2, 1, 1)\n",
    "ax1.hist(x, bins=bins, edgecolor=\"white\")\n",
    "ax1.axvline(x=upper, color=\"red\")\n",
    "ax1.set_title(\"Raw Data\")\n",
    "\n",
    "# Plot winsorized\n",
    "ax2 = fig.add_subplot(2, 1, 2)\n",
    "ax2.hist(xw, bins=bins, edgecolor=\"white\")\n",
    "ax2.axvline(x=upper, color=\"red\")\n",
    "ax2.set_title(\"Winsorized Data\")\n",
    "\n",
    "fig.tight_layout()"
   ]
  },
  {
   "cell_type": "code",
   "execution_count": null,
   "id": "e6a15d4c",
   "metadata": {},
   "outputs": [],
   "source": []
  }
 ],
 "metadata": {
  "kernelspec": {
   "display_name": "Python 3 (ipykernel)",
   "language": "python",
   "name": "python3"
  },
  "language_info": {
   "codemirror_mode": {
    "name": "ipython",
    "version": 3
   },
   "file_extension": ".py",
   "mimetype": "text/x-python",
   "name": "python",
   "nbconvert_exporter": "python",
   "pygments_lexer": "ipython3",
   "version": "3.9.16"
  }
 },
 "nbformat": 4,
 "nbformat_minor": 5
}
