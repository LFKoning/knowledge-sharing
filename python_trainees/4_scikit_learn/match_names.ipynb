{
 "cells": [
  {
   "cell_type": "code",
   "execution_count": null,
   "id": "d7b6f5f1",
   "metadata": {},
   "outputs": [],
   "source": [
    "import unicodedata\n",
    "\n",
    "import pandas as pd\n",
    "\n",
    "from sklearn.feature_extraction.text import CountVectorizer\n",
    "from sklearn.neighbors import NearestNeighbors"
   ]
  },
  {
   "cell_type": "code",
   "execution_count": null,
   "id": "616b568e",
   "metadata": {},
   "outputs": [],
   "source": [
    "df = pd.read_csv(\"0_data/names/everywhere-legislators.txt\")"
   ]
  },
  {
   "cell_type": "code",
   "execution_count": null,
   "id": "49cee4d5",
   "metadata": {},
   "outputs": [],
   "source": [
    "df"
   ]
  },
  {
   "cell_type": "code",
   "execution_count": null,
   "id": "5a9edc62",
   "metadata": {},
   "outputs": [],
   "source": [
    "def unicode_normalize(value):\n",
    "    return unicodedata.normalize('NFKD', value).encode('ascii', 'ignore').decode()\n",
    "\n",
    "def prepare_name(name):\n",
    "    return unicode_normalize(name.lower())"
   ]
  },
  {
   "cell_type": "code",
   "execution_count": null,
   "id": "d6a1be9c",
   "metadata": {},
   "outputs": [],
   "source": [
    "vectorizer = CountVectorizer(\n",
    "    preprocessor=prepare_name,\n",
    "    \n",
    "    analyzer=\"char_wb\",\n",
    "    ngram_range=(3, 3),\n",
    ")"
   ]
  },
  {
   "cell_type": "code",
   "execution_count": null,
   "id": "cc374a36",
   "metadata": {},
   "outputs": [],
   "source": [
    "vectorizer.fit(df[\"person\"])"
   ]
  },
  {
   "cell_type": "code",
   "execution_count": null,
   "id": "4172a733",
   "metadata": {},
   "outputs": [],
   "source": [
    "vectorized_names = vectorizer.transform(df[\"person\"])"
   ]
  },
  {
   "cell_type": "code",
   "execution_count": null,
   "id": "10143bbc",
   "metadata": {},
   "outputs": [],
   "source": [
    "nn = NearestNeighbors(n_neighbors=1, n_jobs=-1).fit(vectorized_names)"
   ]
  },
  {
   "cell_type": "code",
   "execution_count": null,
   "id": "2e72603b",
   "metadata": {},
   "outputs": [],
   "source": [
    "distances, indices = nn.kneighbors(vectorizer.transform([\"rutte\"]))\n",
    "distances[0], indices[0]"
   ]
  },
  {
   "cell_type": "code",
   "execution_count": null,
   "id": "0804829c",
   "metadata": {},
   "outputs": [],
   "source": [
    "df.iloc[indices[0]]"
   ]
  },
  {
   "cell_type": "code",
   "execution_count": null,
   "id": "d0fdcda6",
   "metadata": {},
   "outputs": [],
   "source": []
  }
 ],
 "metadata": {
  "kernelspec": {
   "display_name": "Python 3 (ipykernel)",
   "language": "python",
   "name": "python3"
  },
  "language_info": {
   "codemirror_mode": {
    "name": "ipython",
    "version": 3
   },
   "file_extension": ".py",
   "mimetype": "text/x-python",
   "name": "python",
   "nbconvert_exporter": "python",
   "pygments_lexer": "ipython3",
   "version": "3.9.16"
  }
 },
 "nbformat": 4,
 "nbformat_minor": 5
}
