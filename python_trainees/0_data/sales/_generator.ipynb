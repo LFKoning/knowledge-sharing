{
 "cells": [
  {
   "cell_type": "markdown",
   "id": "2d2edf49",
   "metadata": {},
   "source": [
    "# Dummy Shopping Data Generator"
   ]
  },
  {
   "cell_type": "code",
   "execution_count": null,
   "id": "6abfb991",
   "metadata": {},
   "outputs": [],
   "source": [
    "import random\n",
    "import unicodedata\n",
    "\n",
    "import numpy as np\n",
    "import pandas as pd\n",
    "\n",
    "from faker import Faker"
   ]
  },
  {
   "cell_type": "code",
   "execution_count": null,
   "id": "15b6e45a",
   "metadata": {},
   "outputs": [],
   "source": [
    "faker = Faker(\"nl_NL\")"
   ]
  },
  {
   "cell_type": "code",
   "execution_count": null,
   "id": "2725fe26",
   "metadata": {},
   "outputs": [],
   "source": [
    "def clip(value, min_value, max_value):\n",
    "    value = min(value, max_value)\n",
    "    value = max(value, min_value)\n",
    "    return value\n",
    "        \n",
    "def normalize(value):\n",
    "    return unicodedata.normalize('NFKD', value).encode('ascii', 'ignore').decode()\n",
    "\n",
    "def fake_mail(name):\n",
    "    if random.randint(0, 10) < 8:\n",
    "        domain = random.choice([\n",
    "            \"gmail.com\", \"hotmail.com\", \"outlook.com\",\n",
    "            \"kpn.nl\", \"ziggo.nl\",\n",
    "        ])\n",
    "    else:\n",
    "        domain = faker.domain_name()\n",
    "    \n",
    "    clean_name = normalize(name.lower().replace(\" \", \".\"))\n",
    "    return f\"{clean_name}@{domain}\""
   ]
  },
  {
   "cell_type": "markdown",
   "id": "b0366085",
   "metadata": {},
   "source": [
    "## Customers"
   ]
  },
  {
   "cell_type": "code",
   "execution_count": null,
   "id": "c2c1b5ae",
   "metadata": {},
   "outputs": [],
   "source": [
    "# Customer settings\n",
    "n = 250\n",
    "birthday = \"-80y\", \"-18y\"\n",
    "created = \"-5y\", \"-1y\""
   ]
  },
  {
   "cell_type": "code",
   "execution_count": null,
   "id": "eb212404",
   "metadata": {},
   "outputs": [],
   "source": [
    "customers = []\n",
    "\n",
    "for _ in range(n):\n",
    "    name = faker.unique.name().split(\"-\", 1)[0]\n",
    "    address = faker.unique.address().split('\\n')\n",
    "    \n",
    "    customers.append({\n",
    "        \"customer_id\": faker.unique.bothify(text='CST-##########'),\n",
    "        \"name\": name,\n",
    "        \"e-mail\": fake_mail(name),\n",
    "        \"birthdate\": faker.date_between(*birthday),\n",
    "        \"address\": address[0],\n",
    "        \"postcode\": address[1],\n",
    "        \"city\": address[2],\n",
    "        \"created_on\": faker.date_between(*created),\n",
    "    })\n",
    "    \n",
    "customers = pd.DataFrame(customers)"
   ]
  },
  {
   "cell_type": "code",
   "execution_count": null,
   "id": "6208dec9",
   "metadata": {},
   "outputs": [],
   "source": [
    "customers.sample(5)"
   ]
  },
  {
   "cell_type": "code",
   "execution_count": null,
   "id": "52729fc2",
   "metadata": {},
   "outputs": [],
   "source": [
    "customers.to_csv(\"customers.csv\", index=False)"
   ]
  },
  {
   "cell_type": "markdown",
   "id": "ed0b088e",
   "metadata": {},
   "source": [
    "## Products"
   ]
  },
  {
   "cell_type": "code",
   "execution_count": null,
   "id": "86a4e52c",
   "metadata": {},
   "outputs": [],
   "source": [
    "# Product specs: name, packaging, package_unit, category, subcategory, price\n",
    "products = pd.DataFrame(\n",
    "    data = [\n",
    "        \n",
    "        (\"Margarine\", 500, \"gram\", \"Zuivel\", \"Levensmiddelen\", 0.99),\n",
    "        (\"Halfvolle melk\", 1, \"liter\", \"Zuivel\", \"Levensmiddelen\", 1.19),\n",
    "        (\"Halfvolle melk\", 1.5, \"liter\", \"Zuivel\", \"Levensmiddelen\", 1.99),\n",
    "        (\"Volle melk\", 1, \"liter\", \"Zuivel\", \"Levensmiddelen\", 1.29),\n",
    "        (\"Magere Yoghurt\", 1, \"liter\", \"Zuivel\", \"Levensmiddelen\", 1.19),\n",
    "        (\"Volle Yoghurt\", 1, \"liter\", \"Zuivel\", \"Levensmiddelen\", 1.29),\n",
    "\n",
    "        (\"Volkoren spagheti\", 500, \"gram\", \"Graanproducten\", \"Levensmiddelen\", 2.09),\n",
    "        (\"Volkoren brood\", 1, \"heel\", \"Graanproducten\", \"Levensmiddelen\", 1.29),\n",
    "        (\"Volkoren brood\", 1, \"half\", \"Graanproducten\", \"Levensmiddelen\", 0.79),\n",
    "        (\"Wit brood\", 1, \"heel\", \"Graanproducten\", \"Levensmiddelen\", 0.99),\n",
    "        (\"Wit brood\", 1, \"half\", \"Graanproducten\", \"Levensmiddelen\", 0.69),\n",
    "\n",
    "        (\"Witte druiven\", 500, \"gram\", \"Fruit\", \"Levensmiddelen\", 2.79),\n",
    "        (\"Appels\", 8, \"stuks\", \"Fruit\", \"Levensmiddelen\", 2.79),\n",
    "        (\"Peren\", 4, \"stuks\", \"Fruit\", \"Levensmiddelen\", 2.99),\n",
    "        (\"Komkommer\", 1, \"stuks\", \"Groenten\", \"Levensmiddelen\", 1.39),\n",
    "        (\"Tomaten\", 500, \"gram\", \"Groenten\", \"Levensmiddelen\", 2.49),\n",
    "        (\"Sla krop\", 1, \"stuks\", \"Groenten\", \"Levensmiddelen\", 1.59),\n",
    "        (\"Sla gesneden\", 200, \"gram\", \"Groenten\", \"Levensmiddelen\", 1.19),\n",
    "\n",
    "        (\"Bier\", 1, \"krat\", \"Alcoholische dranken\", \"Levensmiddelen\", 14.17),\n",
    "        (\"Rode wijn\", 1, \"liter\", \"Alcoholische dranken\", \"Levensmiddelen\", 6.99),\n",
    "        (\"Witte wijn\", 1, \"liter\", \"Alcoholische dranken\", \"Levensmiddelen\", 5.29),\n",
    "        \n",
    "        (\"Shampoo\", 0.3, \"liter\", \"Haarproducten\", \"Persoonlijke verzorging\", 6.49),\n",
    "        (\"Handgel\", 0.3, \"liter\", \"Hygiene producten\", \"Persoonlijke verzorging\", 2.99),\n",
    "        (\"Tandpasta\", 0.075, \"liter\", \"Hygiene producten\", \"Persoonlijke verzorging\", 2.75),\n",
    "        \n",
    "    ],\n",
    "    columns=[\"product\", \"package\", \"package_unit\", \"subcategory\", \"category\", \"price\"]\n",
    ")\n",
    "product_ids = [faker.unique.bothify(text='PRD-##########') for _ in range(len(products))]\n",
    "products = products.assign(product_id=product_ids)\n"
   ]
  },
  {
   "cell_type": "code",
   "execution_count": null,
   "id": "df62e998",
   "metadata": {},
   "outputs": [],
   "source": [
    "products.sample(5)"
   ]
  },
  {
   "cell_type": "code",
   "execution_count": null,
   "id": "759f5be4",
   "metadata": {},
   "outputs": [],
   "source": [
    "order = [\n",
    "    'product_id', 'product', 'package', 'package_unit', 'subcategory', 'category', 'price', \n",
    "]\n",
    "products[order].to_csv(\"products.csv\", index=False)"
   ]
  },
  {
   "cell_type": "markdown",
   "id": "ef03e881",
   "metadata": {},
   "source": [
    "## Transactions"
   ]
  },
  {
   "cell_type": "code",
   "execution_count": null,
   "id": "64c6dd39",
   "metadata": {},
   "outputs": [],
   "source": [
    "# Generator settings\n",
    "date_range = \"2023-01-01\", \"2023-01-31\"\n",
    "daily_transactions = 80, 120\n",
    "transaction_items = 1, 7"
   ]
  },
  {
   "cell_type": "code",
   "execution_count": null,
   "id": "a4b2c1c3",
   "metadata": {
    "scrolled": false
   },
   "outputs": [],
   "source": [
    "transactions = []\n",
    "\n",
    "days = pd.date_range(*date_range)\n",
    "counts = np.random.uniform(*daily_transactions, len(days)).astype(int)\n",
    "\n",
    "for day, count in zip(days, counts):\n",
    "    \n",
    "    for _ in range(count):\n",
    "        \n",
    "        customer_id = customers.sample(1).iloc[0, 0]\n",
    "        transaction_id = faker.unique.bothify(text='TX-##########')\n",
    "        lines = random.randint(1, 5)\n",
    "        \n",
    "        for line_nr, line in enumerate(range(lines), start=1):\n",
    "            product = products.sample(1)\n",
    "            product_id = product[\"product_id\"].iloc[0]\n",
    "            product_price = product[\"price\"].iloc[0]\n",
    "            quantity = round(random.lognormvariate(0.4, 0.8))\n",
    "            quantity = clip(quantity, *transaction_items)\n",
    "            \n",
    "            transaction = {\n",
    "                \"transaction_id\": transaction_id,\n",
    "                \"line_id\": f\"{transaction_id}-{line_nr:04d}\",\n",
    "                \"customer_id\": customer_id,\n",
    "                \"product_id\": product_id,\n",
    "                \"transaction_date\": day,\n",
    "                \"quantity\": quantity,\n",
    "                \"price\": product_price,\n",
    "                \"total\": round(quantity * product_price, 2),\n",
    "            }\n",
    "\n",
    "            transactions.append(transaction)\n",
    "\n",
    "transactions = pd.DataFrame(transactions)"
   ]
  },
  {
   "cell_type": "code",
   "execution_count": null,
   "id": "4f1a1730",
   "metadata": {},
   "outputs": [],
   "source": [
    "transactions.sample(5)"
   ]
  },
  {
   "cell_type": "code",
   "execution_count": null,
   "id": "3bd01a2d",
   "metadata": {},
   "outputs": [],
   "source": [
    "transactions.dtypes"
   ]
  },
  {
   "cell_type": "code",
   "execution_count": null,
   "id": "2ce943a6",
   "metadata": {},
   "outputs": [],
   "source": [
    "transactions.to_csv(\"transactions.csv\", index=False)"
   ]
  },
  {
   "cell_type": "code",
   "execution_count": null,
   "id": "9379e40b",
   "metadata": {},
   "outputs": [],
   "source": []
  }
 ],
 "metadata": {
  "kernelspec": {
   "display_name": "Python 3 (ipykernel)",
   "language": "python",
   "name": "python3"
  },
  "language_info": {
   "codemirror_mode": {
    "name": "ipython",
    "version": 3
   },
   "file_extension": ".py",
   "mimetype": "text/x-python",
   "name": "python",
   "nbconvert_exporter": "python",
   "pygments_lexer": "ipython3",
   "version": "3.9.16"
  }
 },
 "nbformat": 4,
 "nbformat_minor": 5
}
