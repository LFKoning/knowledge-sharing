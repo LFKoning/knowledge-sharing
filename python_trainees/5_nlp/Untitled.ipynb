{
 "cells": [
  {
   "cell_type": "code",
   "execution_count": 1,
   "id": "e73a0909",
   "metadata": {},
   "outputs": [],
   "source": [
    "import spacy\n",
    "import pandas as pd\n",
    "\n",
    "from sklearn.base import BaseEstimator, TransformerMixin\n",
    "from sklearn.feature_extraction.text import CountVectorizer"
   ]
  },
  {
   "cell_type": "code",
   "execution_count": 2,
   "id": "3e1b35aa",
   "metadata": {},
   "outputs": [],
   "source": [
    "nlp = spacy.load(\"nl_core_news_sm\")"
   ]
  },
  {
   "cell_type": "code",
   "execution_count": 3,
   "id": "a4ef2632",
   "metadata": {},
   "outputs": [],
   "source": [
    "data = [\n",
    "    \"Hij nam de metro naar de Autoriteit Financiele Markten.\",\n",
    "    \"Zij neemt altijd de metro vanaf het Centraal Station.\"\n",
    "]"
   ]
  },
  {
   "cell_type": "markdown",
   "id": "11f62961",
   "metadata": {},
   "source": [
    "## Default tokenizer"
   ]
  },
  {
   "cell_type": "code",
   "execution_count": 4,
   "id": "c2f1244b",
   "metadata": {},
   "outputs": [],
   "source": [
    "cvs = CountVectorizer()"
   ]
  },
  {
   "cell_type": "code",
   "execution_count": 5,
   "id": "629847e5",
   "metadata": {},
   "outputs": [
    {
     "data": {
      "text/html": [
       "<div>\n",
       "<style scoped>\n",
       "    .dataframe tbody tr th:only-of-type {\n",
       "        vertical-align: middle;\n",
       "    }\n",
       "\n",
       "    .dataframe tbody tr th {\n",
       "        vertical-align: top;\n",
       "    }\n",
       "\n",
       "    .dataframe thead th {\n",
       "        text-align: right;\n",
       "    }\n",
       "</style>\n",
       "<table border=\"1\" class=\"dataframe\">\n",
       "  <thead>\n",
       "    <tr style=\"text-align: right;\">\n",
       "      <th></th>\n",
       "      <th>altijd</th>\n",
       "      <th>autoriteit</th>\n",
       "      <th>centraal</th>\n",
       "      <th>de</th>\n",
       "      <th>financiele</th>\n",
       "      <th>het</th>\n",
       "      <th>hij</th>\n",
       "      <th>markten</th>\n",
       "      <th>metro</th>\n",
       "      <th>naar</th>\n",
       "      <th>nam</th>\n",
       "      <th>neemt</th>\n",
       "      <th>station</th>\n",
       "      <th>vanaf</th>\n",
       "      <th>zij</th>\n",
       "    </tr>\n",
       "  </thead>\n",
       "  <tbody>\n",
       "    <tr>\n",
       "      <th>0</th>\n",
       "      <td>0</td>\n",
       "      <td>1</td>\n",
       "      <td>0</td>\n",
       "      <td>2</td>\n",
       "      <td>1</td>\n",
       "      <td>0</td>\n",
       "      <td>1</td>\n",
       "      <td>1</td>\n",
       "      <td>1</td>\n",
       "      <td>1</td>\n",
       "      <td>1</td>\n",
       "      <td>0</td>\n",
       "      <td>0</td>\n",
       "      <td>0</td>\n",
       "      <td>0</td>\n",
       "    </tr>\n",
       "    <tr>\n",
       "      <th>1</th>\n",
       "      <td>1</td>\n",
       "      <td>0</td>\n",
       "      <td>1</td>\n",
       "      <td>1</td>\n",
       "      <td>0</td>\n",
       "      <td>1</td>\n",
       "      <td>0</td>\n",
       "      <td>0</td>\n",
       "      <td>1</td>\n",
       "      <td>0</td>\n",
       "      <td>0</td>\n",
       "      <td>1</td>\n",
       "      <td>1</td>\n",
       "      <td>1</td>\n",
       "      <td>1</td>\n",
       "    </tr>\n",
       "  </tbody>\n",
       "</table>\n",
       "</div>"
      ],
      "text/plain": [
       "   altijd  autoriteit  centraal  de  financiele  het  hij  markten  metro  \\\n",
       "0       0           1         0   2           1    0    1        1      1   \n",
       "1       1           0         1   1           0    1    0        0      1   \n",
       "\n",
       "   naar  nam  neemt  station  vanaf  zij  \n",
       "0     1    1      0        0      0    0  \n",
       "1     0    0      1        1      1    1  "
      ]
     },
     "execution_count": 5,
     "metadata": {},
     "output_type": "execute_result"
    }
   ],
   "source": [
    "pd.DataFrame(\n",
    "    data=cvs.fit_transform(data).todense(),\n",
    "    columns=cvs.get_feature_names_out(),\n",
    ")"
   ]
  },
  {
   "cell_type": "code",
   "execution_count": null,
   "id": "3e11ea50",
   "metadata": {},
   "outputs": [],
   "source": []
  },
  {
   "cell_type": "markdown",
   "id": "da4ed20e",
   "metadata": {},
   "source": [
    "## Spacy as tokenizer"
   ]
  },
  {
   "cell_type": "code",
   "execution_count": 6,
   "id": "fccd0752",
   "metadata": {},
   "outputs": [],
   "source": [
    "# Create the language model once.\n",
    "nlp = spacy.load(\"nl_core_news_sm\")\n",
    "\n",
    "\n",
    "# Define the tokenizer as a function.\n",
    "def spacy_tokenizer(text: str) -> list:\n",
    "    \"\"\"Tokenize a text string using spaCy.\"\"\"\n",
    "    return [\n",
    "        token.lemma_ for token in nlp(text)\n",
    "        if not token.is_punct\n",
    "    ]"
   ]
  },
  {
   "cell_type": "code",
   "execution_count": 7,
   "id": "b55f6edd",
   "metadata": {},
   "outputs": [
    {
     "data": {
      "text/plain": [
       "['hij',\n",
       " 'nemen',\n",
       " 'de',\n",
       " 'metro',\n",
       " 'naar',\n",
       " 'de',\n",
       " 'autoriteit',\n",
       " 'Financiele',\n",
       " 'Markten']"
      ]
     },
     "execution_count": 7,
     "metadata": {},
     "output_type": "execute_result"
    }
   ],
   "source": [
    "# Test tokenizer function on first record.\n",
    "spacy_tokenizer(data[0])"
   ]
  },
  {
   "cell_type": "code",
   "execution_count": 8,
   "id": "71c36af2",
   "metadata": {},
   "outputs": [],
   "source": [
    "# Initialize CountVectorizer with the spaCy tokenizer.\n",
    "cvs = CountVectorizer(tokenizer=spacy_tokenizer, token_pattern=None)"
   ]
  },
  {
   "cell_type": "code",
   "execution_count": 9,
   "id": "5f0db9a3",
   "metadata": {},
   "outputs": [
    {
     "data": {
      "text/html": [
       "<div>\n",
       "<style scoped>\n",
       "    .dataframe tbody tr th:only-of-type {\n",
       "        vertical-align: middle;\n",
       "    }\n",
       "\n",
       "    .dataframe tbody tr th {\n",
       "        vertical-align: top;\n",
       "    }\n",
       "\n",
       "    .dataframe thead th {\n",
       "        text-align: right;\n",
       "    }\n",
       "</style>\n",
       "<table border=\"1\" class=\"dataframe\">\n",
       "  <thead>\n",
       "    <tr style=\"text-align: right;\">\n",
       "      <th></th>\n",
       "      <th>altijd</th>\n",
       "      <th>autoriteit</th>\n",
       "      <th>centraal</th>\n",
       "      <th>de</th>\n",
       "      <th>financieel</th>\n",
       "      <th>het</th>\n",
       "      <th>hij</th>\n",
       "      <th>markt</th>\n",
       "      <th>metro</th>\n",
       "      <th>naar</th>\n",
       "      <th>nemen</th>\n",
       "      <th>station</th>\n",
       "      <th>vanaf</th>\n",
       "      <th>zij</th>\n",
       "    </tr>\n",
       "  </thead>\n",
       "  <tbody>\n",
       "    <tr>\n",
       "      <th>0</th>\n",
       "      <td>0</td>\n",
       "      <td>1</td>\n",
       "      <td>0</td>\n",
       "      <td>2</td>\n",
       "      <td>1</td>\n",
       "      <td>0</td>\n",
       "      <td>1</td>\n",
       "      <td>1</td>\n",
       "      <td>1</td>\n",
       "      <td>1</td>\n",
       "      <td>1</td>\n",
       "      <td>0</td>\n",
       "      <td>0</td>\n",
       "      <td>0</td>\n",
       "    </tr>\n",
       "    <tr>\n",
       "      <th>1</th>\n",
       "      <td>1</td>\n",
       "      <td>0</td>\n",
       "      <td>1</td>\n",
       "      <td>1</td>\n",
       "      <td>0</td>\n",
       "      <td>1</td>\n",
       "      <td>0</td>\n",
       "      <td>0</td>\n",
       "      <td>1</td>\n",
       "      <td>0</td>\n",
       "      <td>1</td>\n",
       "      <td>1</td>\n",
       "      <td>1</td>\n",
       "      <td>1</td>\n",
       "    </tr>\n",
       "  </tbody>\n",
       "</table>\n",
       "</div>"
      ],
      "text/plain": [
       "   altijd  autoriteit  centraal  de  financieel  het  hij  markt  metro  naar  \\\n",
       "0       0           1         0   2           1    0    1      1      1     1   \n",
       "1       1           0         1   1           0    1    0      0      1     0   \n",
       "\n",
       "   nemen  station  vanaf  zij  \n",
       "0      1        0      0    0  \n",
       "1      1        1      1    1  "
      ]
     },
     "execution_count": 9,
     "metadata": {},
     "output_type": "execute_result"
    }
   ],
   "source": [
    "# Inspect the output.\n",
    "# Note: Both forms of the verb now converge to the same token.\n",
    "pd.DataFrame(\n",
    "    data=cvs.fit_transform(data).todense(),\n",
    "    columns=cvs.get_feature_names_out(),\n",
    ")"
   ]
  },
  {
   "cell_type": "code",
   "execution_count": null,
   "id": "cb0fbc3a",
   "metadata": {},
   "outputs": [],
   "source": []
  },
  {
   "cell_type": "code",
   "execution_count": null,
   "id": "fcf2ac0e",
   "metadata": {},
   "outputs": [],
   "source": []
  },
  {
   "cell_type": "code",
   "execution_count": null,
   "id": "bbb8f155",
   "metadata": {},
   "outputs": [],
   "source": []
  },
  {
   "cell_type": "markdown",
   "id": "27181f92",
   "metadata": {},
   "source": [
    "## Regex"
   ]
  },
  {
   "cell_type": "code",
   "execution_count": 140,
   "id": "e2f759d8",
   "metadata": {},
   "outputs": [],
   "source": [
    "import re"
   ]
  },
  {
   "cell_type": "code",
   "execution_count": 141,
   "id": "d6e505bb",
   "metadata": {},
   "outputs": [],
   "source": [
    "text = \"<b>Python</b> is a <b>great</b> language!\""
   ]
  },
  {
   "cell_type": "code",
   "execution_count": 142,
   "id": "645204d2",
   "metadata": {},
   "outputs": [
    {
     "data": {
      "text/plain": [
       "'Python is a great language!'"
      ]
     },
     "execution_count": 142,
     "metadata": {},
     "output_type": "execute_result"
    }
   ],
   "source": [
    "# Replace pattern by captured group.\n",
    "re.sub(\n",
    "    r\"<b>(.+?)</b>\",   # Search for text between bold tags.\n",
    "    r\"\\1\",             # Refers to Match.group(1) \n",
    "    text\n",
    ")"
   ]
  },
  {
   "cell_type": "code",
   "execution_count": 143,
   "id": "3b7c417b",
   "metadata": {},
   "outputs": [
    {
     "data": {
      "text/plain": [
       "'Python is a great language!'"
      ]
     },
     "execution_count": 143,
     "metadata": {},
     "output_type": "execute_result"
    }
   ],
   "source": [
    "# Replace pattern by named capture group.\n",
    "re.sub(\n",
    "    r\"<b>(?P<bold>.+?)</b>\",    # (?P<name>...) defines the named group.\n",
    "    r\"\\g<bold>\",                # \\g<name> refers to the named group.\n",
    "    text\n",
    ")"
   ]
  },
  {
   "cell_type": "code",
   "execution_count": 144,
   "id": "b9862ae2",
   "metadata": {},
   "outputs": [
    {
     "data": {
      "text/plain": [
       "'PYTHON is a GREAT language!'"
      ]
     },
     "execution_count": 144,
     "metadata": {},
     "output_type": "execute_result"
    }
   ],
   "source": [
    "# Second argument can be a (lambda) function.\n",
    "re.sub(\n",
    "    r\"<b>(.+?)</b>\",\n",
    "    lambda m: m.group(1).upper(),   # Input is a Match object.\n",
    "    text\n",
    ")"
   ]
  },
  {
   "cell_type": "markdown",
   "id": "40e54d8c",
   "metadata": {},
   "source": [
    "### Look ahead / behind"
   ]
  },
  {
   "cell_type": "code",
   "execution_count": 86,
   "id": "c849a29f",
   "metadata": {},
   "outputs": [],
   "source": [
    "text = \"An ROI of 12.5% over 5 years.\""
   ]
  },
  {
   "cell_type": "code",
   "execution_count": 87,
   "id": "4f404ede",
   "metadata": {},
   "outputs": [
    {
     "data": {
      "text/plain": [
       "<re.Match object; span=(10, 14), match='12.5'>"
      ]
     },
     "execution_count": 87,
     "metadata": {},
     "output_type": "execute_result"
    }
   ],
   "source": [
    "# Look behind: matches number followed by % character.\n",
    "re.search(r\"(\\d+\\.?\\d*)(?=%)\", text)"
   ]
  },
  {
   "cell_type": "code",
   "execution_count": 88,
   "id": "c664f069",
   "metadata": {},
   "outputs": [
    {
     "data": {
      "text/plain": [
       "<re.Match object; span=(10, 13), match='12.'>"
      ]
     },
     "execution_count": 88,
     "metadata": {},
     "output_type": "execute_result"
    }
   ],
   "source": [
    "# Negative look ahead: number NOT followed by % character.\n",
    "# Note: 21 is not followed by % but by another number...\n",
    "re.search(r\"([0-9\\.]+)(?!%)\", text)"
   ]
  },
  {
   "cell_type": "code",
   "execution_count": 89,
   "id": "9149dfd4",
   "metadata": {},
   "outputs": [
    {
     "data": {
      "text/plain": [
       "<re.Match object; span=(21, 22), match='5'>"
      ]
     },
     "execution_count": 89,
     "metadata": {},
     "output_type": "execute_result"
    }
   ],
   "source": [
    "# Need to include fractional numbers in look ahead...\n",
    "# Any number not followed by a number, dot or percentage.\n",
    "re.search(r\"([0-9\\.]+)(?![0-9\\.%])\", text)"
   ]
  },
  {
   "cell_type": "code",
   "execution_count": 32,
   "id": "1c974752",
   "metadata": {},
   "outputs": [],
   "source": []
  },
  {
   "cell_type": "code",
   "execution_count": null,
   "id": "27d3121f",
   "metadata": {},
   "outputs": [],
   "source": []
  }
 ],
 "metadata": {
  "kernelspec": {
   "display_name": "Python 3 (ipykernel)",
   "language": "python",
   "name": "python3"
  },
  "language_info": {
   "codemirror_mode": {
    "name": "ipython",
    "version": 3
   },
   "file_extension": ".py",
   "mimetype": "text/x-python",
   "name": "python",
   "nbconvert_exporter": "python",
   "pygments_lexer": "ipython3",
   "version": "3.9.16"
  }
 },
 "nbformat": 4,
 "nbformat_minor": 5
}
