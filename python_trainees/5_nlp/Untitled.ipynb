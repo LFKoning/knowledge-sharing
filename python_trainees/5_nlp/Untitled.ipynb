{
 "cells": [
  {
   "cell_type": "code",
   "execution_count": null,
   "id": "e73a0909",
   "metadata": {},
   "outputs": [],
   "source": [
    "import re\n",
    "import string\n",
    "\n",
    "import spacy\n",
    "import pandas as pd\n",
    "\n",
    "from sklearn.base import BaseEstimator, TransformerMixin\n",
    "from sklearn.feature_extraction.text import CountVectorizer"
   ]
  },
  {
   "cell_type": "code",
   "execution_count": null,
   "id": "3e1b35aa",
   "metadata": {},
   "outputs": [],
   "source": [
    "nlp = spacy.load(\"en_core_web_sm\")"
   ]
  },
  {
   "cell_type": "code",
   "execution_count": null,
   "id": "71eb3562",
   "metadata": {},
   "outputs": [],
   "source": [
    "lines = [\n",
    "    \"The European Central Bank increased its interest rate by 0.25% to a total of 4%.\",\n",
    "    \"Inflation was surging at 5.6% last year; the highest rate in 10 years.\",\n",
    "    \"This article was updated on 24-03-2023.\",\n",
    "    \"For more information, contact: finance@fake.tld\",\n",
    "]"
   ]
  },
  {
   "cell_type": "code",
   "execution_count": null,
   "id": "e48eb2d3",
   "metadata": {},
   "outputs": [],
   "source": [
    "example = \"The European Central Bank raised its key interest rates by 0.25% on the 20th of September 2023.\""
   ]
  },
  {
   "cell_type": "code",
   "execution_count": null,
   "id": "11780cfc",
   "metadata": {},
   "outputs": [],
   "source": [
    "# Applying nlp() creates a Doc instance.\n",
    "doc = nlp(example)"
   ]
  },
  {
   "cell_type": "code",
   "execution_count": null,
   "id": "4bf2cf30",
   "metadata": {},
   "outputs": [],
   "source": [
    "# Use retokenize() to adjust tokenization for the document.\n",
    "with doc.retokenize() as retokenizer:\n",
    "    for ent in doc.ents:\n",
    "        retokenizer.merge(doc[ent.start:ent.end], attrs={\"LEMMA\": ent.text})"
   ]
  },
  {
   "cell_type": "code",
   "execution_count": null,
   "id": "657ce3bd",
   "metadata": {},
   "outputs": [],
   "source": [
    "# Loop over the tokens in doc.\n",
    "for token in doc:\n",
    "    print(f\"{token.text} | {token.lemma_} | {token.pos_} | {token.ent_type_}\")"
   ]
  },
  {
   "cell_type": "code",
   "execution_count": null,
   "id": "740c2b70",
   "metadata": {},
   "outputs": [],
   "source": [
    "def tokenizer(text):\n",
    "    \"\"\"Tokenize\"\"\"\n",
    "    doc = nlp(text)\n",
    "\n",
    "\n",
    "    # Use retokenize() to adjust tokenization for the document.\n",
    "    with doc.retokenize() as retokenizer:\n",
    "        for ent in doc.ents:\n",
    "            retokenizer.merge(doc[ent.start:ent.end], attrs={\"LEMMA\": ent.text})\n",
    "\n",
    "    # Drop stopwords or punctuation.\n",
    "    doc = [t for t in doc if not (t.is_punct or t.is_stop)]\n",
    "\n",
    "    return doc"
   ]
  },
  {
   "cell_type": "code",
   "execution_count": null,
   "id": "fab068b2",
   "metadata": {},
   "outputs": [],
   "source": [
    "cvs = CountVectorizer(tokenizer=tokenizer, token_pattern=None)\n",
    "cvs.fit([example])\n",
    "cvs.get_feature_names_out()"
   ]
  },
  {
   "cell_type": "code",
   "execution_count": null,
   "id": "3e11ea50",
   "metadata": {},
   "outputs": [],
   "source": []
  },
  {
   "cell_type": "code",
   "execution_count": null,
   "id": "4fb63e24",
   "metadata": {},
   "outputs": [],
   "source": []
  },
  {
   "cell_type": "markdown",
   "id": "4e2fd4ba",
   "metadata": {},
   "source": [
    "## Similarity"
   ]
  },
  {
   "cell_type": "code",
   "execution_count": 78,
   "id": "6921457a",
   "metadata": {},
   "outputs": [],
   "source": [
    "from sklearn.metrics.pairwise import cosine_similarity"
   ]
  },
  {
   "cell_type": "code",
   "execution_count": 79,
   "id": "a1d486e9",
   "metadata": {},
   "outputs": [],
   "source": [
    "ref = \"De jaarrekening geeft een getrouw beeld van het vermogen en het resultaat.\""
   ]
  },
  {
   "cell_type": "code",
   "execution_count": 80,
   "id": "fab7ebd4",
   "metadata": {},
   "outputs": [],
   "source": [
    "docs = [\n",
    "    \"De jaarrekening geeft een getrouw beeld van het vermogen en het resultaat.\",\n",
    "    \"De jaarrekening geeft een getrouw beeld van onze bedrijfsvoering.\",\n",
    "    \"Het vermogen is gegroeid en het jaarresultaat was positief.\",\n",
    "]"
   ]
  },
  {
   "cell_type": "code",
   "execution_count": 81,
   "id": "8cce7b96",
   "metadata": {},
   "outputs": [
    {
     "name": "stdout",
     "output_type": "stream",
     "text": [
      "Comparing: De jaarrekening geeft een getrouw beeld van het vermogen en het resultaat.\n",
      "Similarity: 1.000\n",
      "Comparing: De jaarrekening geeft een getrouw beeld van onze bedrijfsvoering.\n",
      "Similarity: 0.905\n",
      "Comparing: Het vermogen is gegroeid en het jaarresultaat was positief.\n",
      "Similarity: 0.651\n"
     ]
    }
   ],
   "source": [
    "ref_vector = nlp(ref).vector.reshape(1, -1)\n",
    "\n",
    "for doc in docs:\n",
    "    doc_vector = nlp(doc).vector.reshape(1, -1)\n",
    "    similarity = cosine_similarity(ref_vector, doc_vector)[0 ,0]\n",
    "\n",
    "    print(f\"Comparing: {doc}\")\n",
    "    print(f\"Similarity: {similarity:0.3f}\")"
   ]
  },
  {
   "cell_type": "code",
   "execution_count": null,
   "id": "e4d85129",
   "metadata": {},
   "outputs": [],
   "source": []
  },
  {
   "cell_type": "code",
   "execution_count": 82,
   "id": "aa282851",
   "metadata": {},
   "outputs": [],
   "source": [
    "from sklearn.feature_extraction.text import CountVectorizer"
   ]
  },
  {
   "cell_type": "code",
   "execution_count": 83,
   "id": "bbb8f155",
   "metadata": {},
   "outputs": [],
   "source": [
    "nlp = spacy.load(\"en_core_web_sm\")"
   ]
  },
  {
   "cell_type": "code",
   "execution_count": 93,
   "id": "9d8fe838",
   "metadata": {},
   "outputs": [],
   "source": [
    "# Define target to match to.\n",
    "target = \"cash\""
   ]
  },
  {
   "cell_type": "code",
   "execution_count": 94,
   "id": "e7144057",
   "metadata": {},
   "outputs": [],
   "source": [
    "# Define documents to match.\n",
    "docs = [\n",
    "    \"cash\",\n",
    "    \"money\",\n",
    "    \"shoes\",\n",
    "]"
   ]
  },
  {
   "cell_type": "code",
   "execution_count": 95,
   "id": "5f96e9ff",
   "metadata": {},
   "outputs": [
    {
     "data": {
      "text/plain": [
       "{'cash': 0, 'money': 1, 'shoes': 2}"
      ]
     },
     "execution_count": 95,
     "metadata": {},
     "output_type": "execute_result"
    }
   ],
   "source": [
    "# Vectorizer to convert to numeric data.\n",
    "vectorizer = CountVectorizer().fit(docs)\n",
    "vectorizer.vocabulary_"
   ]
  },
  {
   "cell_type": "code",
   "execution_count": 96,
   "id": "e9b4c791",
   "metadata": {},
   "outputs": [
    {
     "data": {
      "text/plain": [
       "matrix([[1, 0, 0]], dtype=int64)"
      ]
     },
     "execution_count": 96,
     "metadata": {},
     "output_type": "execute_result"
    }
   ],
   "source": [
    "# Transform the target.\n",
    "target_vector = vectorizer.transform([target])\n",
    "target_vector.todense()"
   ]
  },
  {
   "cell_type": "code",
   "execution_count": 97,
   "id": "f9f57de8",
   "metadata": {},
   "outputs": [
    {
     "data": {
      "text/plain": [
       "matrix([[1, 0, 0],\n",
       "        [0, 1, 0],\n",
       "        [0, 0, 1]], dtype=int64)"
      ]
     },
     "execution_count": 97,
     "metadata": {},
     "output_type": "execute_result"
    }
   ],
   "source": [
    "# Transform the documents.\n",
    "doc_vectors = vectorizer.transform(docs)\n",
    "doc_vectors.todense()"
   ]
  },
  {
   "cell_type": "code",
   "execution_count": 98,
   "id": "8cd99c8a",
   "metadata": {},
   "outputs": [
    {
     "name": "stdout",
     "output_type": "stream",
     "text": [
      "Similarity cash - cash       1.00\n",
      "Similarity cash - money      0.00\n",
      "Similarity cash - shoes      0.00\n"
     ]
    }
   ],
   "source": [
    "# Compute similarities.\n",
    "for doc, doc_vector in zip(docs, doc_vectors):\n",
    "    similarity = cosine_similarity(target_vector, doc_vector)[0 ,0]\n",
    "    print(f\"Similarity {target} - {doc:10s} {similarity:.2f}\")"
   ]
  },
  {
   "cell_type": "code",
   "execution_count": 99,
   "id": "d329515f",
   "metadata": {},
   "outputs": [
    {
     "data": {
      "text/plain": [
       "array([[-1.397754  ,  0.07070416, -0.39039838,  0.5617517 , -0.34965605,\n",
       "         0.13661712,  0.57871896,  1.5256443 ,  0.65602285, -0.65689296,\n",
       "         0.18999839, -1.1277145 , -0.5164149 ,  0.50789267, -0.09047326,\n",
       "        -0.00300154, -0.48194283, -1.1704302 ,  0.16177908,  0.7935656 ,\n",
       "         0.5065979 ,  0.46046025, -0.46592283, -0.5427428 , -0.01515184,\n",
       "         1.1252439 , -0.21802486,  1.1335628 ,  0.12234014,  0.44552493,\n",
       "        -0.76876795, -0.26393777,  0.56515276,  0.42321578,  0.05211889,\n",
       "        -1.145031  ,  0.6928235 ,  0.24417129,  1.2999567 , -0.58716494,\n",
       "        -0.3146794 ,  0.00832057, -0.90186   ,  0.08301586, -0.6861465 ,\n",
       "        -0.4924449 , -0.94279224, -0.33799934, -0.15532967, -0.56868625,\n",
       "         0.13251549,  0.2655836 ,  0.488851  , -1.129028  ,  0.5697172 ,\n",
       "        -0.19400054, -0.00783122,  0.29177633, -0.4797179 , -0.21585448,\n",
       "        -0.27525264,  0.02882797,  0.27929398, -0.48936877,  1.1565417 ,\n",
       "         0.94858444, -0.53587013, -0.18130594,  0.5808455 , -0.07468565,\n",
       "         0.852836  ,  1.0234054 ,  1.9942567 , -0.4469223 , -0.516472  ,\n",
       "         0.26738876,  0.18344365, -0.57422113,  0.3229953 , -0.75887245,\n",
       "         0.275408  , -0.8656454 , -1.9299252 , -1.0189354 ,  0.362782  ,\n",
       "         1.2861178 , -0.19917351,  0.24206765, -1.1500108 ,  0.47632325,\n",
       "        -1.344872  ,  0.24792552,  0.8998295 ,  1.1066475 ,  0.6543542 ,\n",
       "         0.7830256 ]], dtype=float32)"
      ]
     },
     "execution_count": 99,
     "metadata": {},
     "output_type": "execute_result"
    }
   ],
   "source": [
    "# Transform the target.\n",
    "target_vector = nlp(target).vector.reshape(1, -1)\n",
    "target_vector"
   ]
  },
  {
   "cell_type": "code",
   "execution_count": 100,
   "id": "75f7cfbf",
   "metadata": {},
   "outputs": [],
   "source": [
    "# Transform the documents.\n",
    "doc_vectors = [nlp(doc).vector.reshape(1, -1) for doc in docs]"
   ]
  },
  {
   "cell_type": "code",
   "execution_count": 101,
   "id": "a72e7f40",
   "metadata": {},
   "outputs": [
    {
     "name": "stdout",
     "output_type": "stream",
     "text": [
      "Similarity cash - cash       1.00\n",
      "Similarity cash - money      0.80\n",
      "Similarity cash - shoes      0.29\n"
     ]
    }
   ],
   "source": [
    "# Compute similarities.\n",
    "for doc, doc_vector in zip(docs, doc_vectors):\n",
    "    similarity = cosine_similarity(target_vector, doc_vector)[0 ,0]\n",
    "    print(f\"Similarity {target} - {doc:10s} {similarity:.2f}\")"
   ]
  },
  {
   "cell_type": "code",
   "execution_count": null,
   "id": "b3bf851e",
   "metadata": {},
   "outputs": [],
   "source": []
  }
 ],
 "metadata": {
  "kernelspec": {
   "display_name": "Python 3 (ipykernel)",
   "language": "python",
   "name": "python3"
  },
  "language_info": {
   "codemirror_mode": {
    "name": "ipython",
    "version": 3
   },
   "file_extension": ".py",
   "mimetype": "text/x-python",
   "name": "python",
   "nbconvert_exporter": "python",
   "pygments_lexer": "ipython3",
   "version": "3.9.18"
  }
 },
 "nbformat": 4,
 "nbformat_minor": 5
}
