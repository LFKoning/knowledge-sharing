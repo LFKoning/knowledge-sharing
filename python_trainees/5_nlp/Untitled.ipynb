{
 "cells": [
  {
   "cell_type": "code",
   "execution_count": 12,
   "id": "e73a0909",
   "metadata": {},
   "outputs": [],
   "source": [
    "import spacy\n",
    "\n",
    "from sklearn.metrics.pairwise import cosine_similarity\n",
    "from sklearn.feature_extraction.text import CountVectorizer"
   ]
  },
  {
   "cell_type": "code",
   "execution_count": 13,
   "id": "3e1b35aa",
   "metadata": {},
   "outputs": [],
   "source": [
    "nlp = spacy.load(\"en_core_web_sm\")"
   ]
  },
  {
   "cell_type": "code",
   "execution_count": 14,
   "id": "8c27f329",
   "metadata": {},
   "outputs": [
    {
     "name": "stdout",
     "output_type": "stream",
     "text": [
      "['tok2vec', 'tagger', 'parser', 'senter', 'attribute_ruler', 'lemmatizer', 'ner']\n"
     ]
    }
   ],
   "source": [
    "print(nlp.component_names)"
   ]
  },
  {
   "cell_type": "markdown",
   "id": "4e2fd4ba",
   "metadata": {},
   "source": [
    "## Similarity"
   ]
  },
  {
   "cell_type": "code",
   "execution_count": 59,
   "id": "bbb8f155",
   "metadata": {},
   "outputs": [],
   "source": [
    "nlp = spacy.load(\"en_core_web_sm\")"
   ]
  },
  {
   "cell_type": "code",
   "execution_count": 60,
   "id": "9d8fe838",
   "metadata": {},
   "outputs": [],
   "source": [
    "# Define target to match to.\n",
    "target = \"certain\""
   ]
  },
  {
   "cell_type": "code",
   "execution_count": 61,
   "id": "e7144057",
   "metadata": {},
   "outputs": [],
   "source": [
    "# Define documents to match.\n",
    "docs = [\n",
    "    \"certain\",\n",
    "    \"sure\",\n",
    "    \"uncertain\",\n",
    "]"
   ]
  },
  {
   "cell_type": "code",
   "execution_count": 62,
   "id": "5f96e9ff",
   "metadata": {},
   "outputs": [
    {
     "data": {
      "text/plain": [
       "{'certain': 0, 'sure': 1, 'uncertain': 2}"
      ]
     },
     "execution_count": 62,
     "metadata": {},
     "output_type": "execute_result"
    }
   ],
   "source": [
    "# Vectorizer to convert to numeric data.\n",
    "vectorizer = CountVectorizer().fit(docs)\n",
    "vectorizer.vocabulary_"
   ]
  },
  {
   "cell_type": "code",
   "execution_count": 63,
   "id": "e9b4c791",
   "metadata": {},
   "outputs": [
    {
     "data": {
      "text/plain": [
       "matrix([[1, 0, 0]], dtype=int64)"
      ]
     },
     "execution_count": 63,
     "metadata": {},
     "output_type": "execute_result"
    }
   ],
   "source": [
    "# Transform the target.\n",
    "target_vector = vectorizer.transform([target])\n",
    "target_vector.todense()"
   ]
  },
  {
   "cell_type": "code",
   "execution_count": 64,
   "id": "f9f57de8",
   "metadata": {},
   "outputs": [
    {
     "data": {
      "text/plain": [
       "matrix([[1, 0, 0],\n",
       "        [0, 1, 0],\n",
       "        [0, 0, 1]], dtype=int64)"
      ]
     },
     "execution_count": 64,
     "metadata": {},
     "output_type": "execute_result"
    }
   ],
   "source": [
    "# Transform the documents.\n",
    "doc_vectors = vectorizer.transform(docs)\n",
    "doc_vectors.todense()"
   ]
  },
  {
   "cell_type": "code",
   "execution_count": 65,
   "id": "8cd99c8a",
   "metadata": {},
   "outputs": [
    {
     "name": "stdout",
     "output_type": "stream",
     "text": [
      "Similarity certain - certain    1.00\n",
      "Similarity certain - sure       0.00\n",
      "Similarity certain - uncertain  0.00\n"
     ]
    }
   ],
   "source": [
    "# Compute similarities.\n",
    "for doc, doc_vector in zip(docs, doc_vectors):\n",
    "    similarity = cosine_similarity(target_vector, doc_vector)[0 ,0]\n",
    "    print(f\"Similarity {target} - {doc:10s} {similarity:.2f}\")"
   ]
  },
  {
   "cell_type": "code",
   "execution_count": 66,
   "id": "d329515f",
   "metadata": {},
   "outputs": [
    {
     "data": {
      "text/plain": [
       "array([[-1.2895280e+00, -1.1395018e+00, -1.2540374e+00, -5.4855835e-01,\n",
       "        -1.1595764e+00, -3.8935116e-01,  6.4271963e-01,  1.3950783e-01,\n",
       "         3.4786415e-01, -9.4651955e-01,  1.0652174e+00, -7.7924985e-01,\n",
       "         2.5584698e-03,  1.2937251e+00, -1.8715000e+00, -3.9762202e-01,\n",
       "        -1.2180480e+00, -1.3220410e+00,  3.1326032e-01,  6.7836034e-01,\n",
       "        -1.3861450e+00,  7.2651041e-01, -7.1792394e-01,  4.1917363e-01,\n",
       "        -4.5256519e-01,  9.9241471e-01, -4.0479362e-01,  1.8703582e+00,\n",
       "        -1.3967817e+00, -1.6813838e-01,  5.4492760e-01, -4.6898928e-01,\n",
       "         4.2342675e-01, -2.6025525e-01,  3.1247386e-01, -1.5594314e+00,\n",
       "         1.7048987e+00, -6.5599269e-01,  2.1371987e+00,  1.1254809e+00,\n",
       "        -1.2356936e+00, -1.2849273e-01,  6.0053176e-01,  7.8376961e-01,\n",
       "         5.6471741e-01, -5.9699100e-01, -8.7788337e-01, -1.1115081e+00,\n",
       "         3.3478615e-01,  5.8988518e-01,  4.1101146e-01,  1.2635951e+00,\n",
       "        -4.0614787e-01,  5.8549511e-01,  5.0087643e-01,  2.0173612e+00,\n",
       "         7.8901184e-01, -8.5368216e-02, -3.7436685e-01, -1.9540499e-01,\n",
       "        -8.6524111e-01, -1.1920338e+00, -1.7834827e-01,  4.3554416e-01,\n",
       "        -4.5098048e-01, -4.1792732e-01, -1.8576227e-01, -7.7909648e-01,\n",
       "         6.4363027e-01,  1.3620481e+00,  4.6021900e-01, -4.0830597e-01,\n",
       "        -1.0194225e+00, -4.3257725e-01, -1.2509376e+00, -3.0523962e-01,\n",
       "        -4.7690967e-01,  6.5889466e-01,  2.6246276e-01, -6.2532532e-01,\n",
       "        -9.4273365e-01, -1.9397312e-01, -5.7192975e-01,  8.9864558e-01,\n",
       "         5.8315337e-01,  2.0426087e+00,  1.6451452e+00,  1.9832840e+00,\n",
       "         6.2881744e-01,  1.6285445e-01,  1.2975019e+00, -9.6797943e-05,\n",
       "         1.0968019e+00,  6.1395311e-01, -1.5409398e-01,  7.1433067e-02]],\n",
       "      dtype=float32)"
      ]
     },
     "execution_count": 66,
     "metadata": {},
     "output_type": "execute_result"
    }
   ],
   "source": [
    "# Transform the target.\n",
    "target_vector = nlp(target).vector.reshape(1, -1)\n",
    "target_vector"
   ]
  },
  {
   "cell_type": "code",
   "execution_count": 67,
   "id": "75f7cfbf",
   "metadata": {},
   "outputs": [],
   "source": [
    "# Transform the documents.\n",
    "doc_vectors = [nlp(doc).vector.reshape(1, -1) for doc in docs]"
   ]
  },
  {
   "cell_type": "code",
   "execution_count": 68,
   "id": "a72e7f40",
   "metadata": {},
   "outputs": [
    {
     "name": "stdout",
     "output_type": "stream",
     "text": [
      "Similarity certain - certain    1.00\n",
      "Similarity certain - sure       0.70\n",
      "Similarity certain - uncertain  0.82\n"
     ]
    }
   ],
   "source": [
    "# Compute similarities.\n",
    "for doc, doc_vector in zip(docs, doc_vectors):\n",
    "    similarity = cosine_similarity(target_vector, doc_vector)[0 ,0]\n",
    "    print(f\"Similarity {target} - {doc:10s} {similarity:.2f}\")"
   ]
  },
  {
   "cell_type": "code",
   "execution_count": 69,
   "id": "b3bf851e",
   "metadata": {},
   "outputs": [],
   "source": [
    "tmp = nlp(\"certain sure uncertain\")"
   ]
  },
  {
   "cell_type": "code",
   "execution_count": 70,
   "id": "254413e7",
   "metadata": {},
   "outputs": [
    {
     "name": "stderr",
     "output_type": "stream",
     "text": [
      "C:\\Users\\lfkon\\AppData\\Local\\Temp\\ipykernel_13716\\3759325553.py:1: UserWarning: [W007] The model you're using has no word vectors loaded, so the result of the Token.similarity method will be based on the tagger, parser and NER, which may not give useful similarity judgements. This may happen if you're using one of the small models, e.g. `en_core_web_sm`, which don't ship with word vectors and only use context-sensitive tensors. You can always add your own word vectors, or use one of the larger models instead if available.\n",
      "  tmp[0].similarity(tmp[2])\n"
     ]
    },
    {
     "data": {
      "text/plain": [
       "0.5398919582366943"
      ]
     },
     "execution_count": 70,
     "metadata": {},
     "output_type": "execute_result"
    }
   ],
   "source": [
    "tmp[0].similarity(tmp[2])"
   ]
  },
  {
   "cell_type": "markdown",
   "id": "0fcd9807",
   "metadata": {},
   "source": [
    "### Vector model"
   ]
  },
  {
   "cell_type": "code",
   "execution_count": 3,
   "id": "8ad62c40",
   "metadata": {},
   "outputs": [],
   "source": [
    "import spacy\n",
    "import pandas as pd\n",
    "\n",
    "from sklearn.ensemble import RandomForestClassifier\n",
    "from sklearn.metrics import accuracy_score"
   ]
  },
  {
   "cell_type": "code",
   "execution_count": 5,
   "id": "a2bc4d28",
   "metadata": {},
   "outputs": [
    {
     "data": {
      "text/plain": [
       "(5000, 5)"
      ]
     },
     "execution_count": 5,
     "metadata": {},
     "output_type": "execute_result"
    }
   ],
   "source": [
    "# Load the IMDB review dataset.\n",
    "reviews = pd.read_csv(\"../0_data/imdb/imdb_cleansed_zip.csv\", compression=\"zip\").sample(5000)\n",
    "reviews.shape"
   ]
  },
  {
   "cell_type": "code",
   "execution_count": 11,
   "id": "38ac0565",
   "metadata": {},
   "outputs": [
    {
     "data": {
      "text/plain": [
       "Index(['id', 'dataset', 'label', 'rating', 'content'], dtype='object')"
      ]
     },
     "execution_count": 11,
     "metadata": {},
     "output_type": "execute_result"
    }
   ],
   "source": [
    "reviews.columns"
   ]
  },
  {
   "cell_type": "code",
   "execution_count": 10,
   "id": "a744fa49",
   "metadata": {},
   "outputs": [
    {
     "data": {
      "text/plain": [
       "dataset  label   \n",
       "Test     Negative    1255\n",
       "         Positive    1243\n",
       "Train    Negative    1226\n",
       "         Positive    1276\n",
       "Name: count, dtype: int64"
      ]
     },
     "execution_count": 10,
     "metadata": {},
     "output_type": "execute_result"
    }
   ],
   "source": [
    "reviews[[\"dataset\", \"label\"]].value_counts(sort=False)"
   ]
  },
  {
   "cell_type": "code",
   "execution_count": 13,
   "id": "094ca33c",
   "metadata": {},
   "outputs": [
    {
     "data": {
      "text/plain": [
       "['tok2vec',\n",
       " 'tagger',\n",
       " 'parser',\n",
       " 'senter',\n",
       " 'attribute_ruler',\n",
       " 'lemmatizer',\n",
       " 'ner']"
      ]
     },
     "execution_count": 13,
     "metadata": {},
     "output_type": "execute_result"
    }
   ],
   "source": [
    "nlp = spacy.load(\"en_core_web_md\")\n",
    "nlp.component_names"
   ]
  },
  {
   "cell_type": "code",
   "execution_count": 33,
   "id": "53f16869",
   "metadata": {},
   "outputs": [],
   "source": [
    "X_train = reviews.query(\"dataset == 'Train'\")[[\"content\"]]\n",
    "y_train = reviews.query(\"dataset == 'Train'\")[\"label\"]\n",
    "\n",
    "X_test = reviews.query(\"dataset == 'Test'\")[[\"content\"]]\n",
    "y_test = reviews.query(\"dataset == 'Test'\")[\"label\"]"
   ]
  },
  {
   "cell_type": "code",
   "execution_count": null,
   "id": "97749191",
   "metadata": {},
   "outputs": [],
   "source": [
    "def nlp_prep(dataset):\n",
    "    return nlp.pipe(\n",
    "        dataset,\n",
    "        n_process=3,\n",
    "        disable=[\n",
    "            'tagger',\n",
    "            'parser',\n",
    "            'senter',\n",
    "            'attribute_ruler',\n",
    "            'lemmatizer',\n",
    "            'ner'\n",
    "        ]\n",
    "    )"
   ]
  },
  {
   "cell_type": "code",
   "execution_count": 28,
   "id": "d5f87147",
   "metadata": {},
   "outputs": [],
   "source": [
    "for dataset in X_train, X_test:\n",
    "    dataset =\n",
    "    )\n"
   ]
  },
  {
   "cell_type": "code",
   "execution_count": 32,
   "id": "97f5d9c1",
   "metadata": {},
   "outputs": [
    {
     "data": {
      "text/plain": [
       "pandas.core.series.Series"
      ]
     },
     "execution_count": 32,
     "metadata": {},
     "output_type": "execute_result"
    }
   ],
   "source": [
    "type(X_train)"
   ]
  },
  {
   "cell_type": "code",
   "execution_count": 16,
   "id": "52edbaff",
   "metadata": {},
   "outputs": [],
   "source": [
    "model = RandomForestClassifier(n_jobs=3)"
   ]
  },
  {
   "cell_type": "code",
   "execution_count": null,
   "id": "92cdd27d",
   "metadata": {},
   "outputs": [],
   "source": [
    "model.fit(X, y)"
   ]
  }
 ],
 "metadata": {
  "kernelspec": {
   "display_name": "Python 3 (ipykernel)",
   "language": "python",
   "name": "python3"
  },
  "language_info": {
   "codemirror_mode": {
    "name": "ipython",
    "version": 3
   },
   "file_extension": ".py",
   "mimetype": "text/x-python",
   "name": "python",
   "nbconvert_exporter": "python",
   "pygments_lexer": "ipython3",
   "version": "3.9.18"
  }
 },
 "nbformat": 4,
 "nbformat_minor": 5
}
