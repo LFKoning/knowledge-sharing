{
 "cells": [
  {
   "cell_type": "code",
   "execution_count": null,
   "id": "e73a0909",
   "metadata": {},
   "outputs": [],
   "source": [
    "import re\n",
    "import string\n",
    "\n",
    "import spacy\n",
    "import pandas as pd\n",
    "\n",
    "from sklearn.base import BaseEstimator, TransformerMixin\n",
    "from sklearn.feature_extraction.text import CountVectorizer"
   ]
  },
  {
   "cell_type": "code",
   "execution_count": null,
   "id": "3e1b35aa",
   "metadata": {},
   "outputs": [],
   "source": [
    "nlp = spacy.load(\"en_core_web_sm\")"
   ]
  },
  {
   "cell_type": "code",
   "execution_count": null,
   "id": "71eb3562",
   "metadata": {},
   "outputs": [],
   "source": [
    "lines = [\n",
    "    \"The European Central Bank increased its interest rate by 0.25% to a total of 4%.\",\n",
    "    \"Inflation was surging at 5.6% last year; the highest rate in 10 years.\",\n",
    "    \"This article was updated on 24-03-2023.\",\n",
    "    \"For more information, contact: finance@fake.tld\",\n",
    "]"
   ]
  },
  {
   "cell_type": "code",
   "execution_count": null,
   "id": "e48eb2d3",
   "metadata": {},
   "outputs": [],
   "source": [
    "example = \"The European Central Bank raised its key interest rates by 0.25% on the 20th of September 2023.\""
   ]
  },
  {
   "cell_type": "code",
   "execution_count": null,
   "id": "11780cfc",
   "metadata": {},
   "outputs": [],
   "source": [
    "# Applying nlp() creates a Doc instance.\n",
    "doc = nlp(example)"
   ]
  },
  {
   "cell_type": "code",
   "execution_count": null,
   "id": "4bf2cf30",
   "metadata": {},
   "outputs": [],
   "source": [
    "# Use retokenize() to adjust tokenization for the document.\n",
    "with doc.retokenize() as retokenizer:\n",
    "    for ent in doc.ents:\n",
    "        retokenizer.merge(doc[ent.start:ent.end], attrs={\"LEMMA\": ent.text})"
   ]
  },
  {
   "cell_type": "code",
   "execution_count": null,
   "id": "657ce3bd",
   "metadata": {},
   "outputs": [],
   "source": [
    "# Loop over the tokens in doc.\n",
    "for token in doc:\n",
    "    print(f\"{token.text} | {token.lemma_} | {token.pos_} | {token.ent_type_}\")"
   ]
  },
  {
   "cell_type": "code",
   "execution_count": null,
   "id": "740c2b70",
   "metadata": {},
   "outputs": [],
   "source": [
    "def tokenizer(text):\n",
    "    \"\"\"Tokenize\"\"\"\n",
    "    doc = nlp(text)\n",
    "\n",
    "\n",
    "    # Use retokenize() to adjust tokenization for the document.\n",
    "    with doc.retokenize() as retokenizer:\n",
    "        for ent in doc.ents:\n",
    "            retokenizer.merge(doc[ent.start:ent.end], attrs={\"LEMMA\": ent.text})\n",
    "\n",
    "    # Drop stopwords or punctuation.\n",
    "    doc = [t for t in doc if not (t.is_punct or t.is_stop)]\n",
    "\n",
    "    return doc"
   ]
  },
  {
   "cell_type": "code",
   "execution_count": null,
   "id": "fab068b2",
   "metadata": {},
   "outputs": [],
   "source": [
    "cvs = CountVectorizer(tokenizer=tokenizer, token_pattern=None)\n",
    "cvs.fit([example])\n",
    "cvs.get_feature_names_out()"
   ]
  },
  {
   "cell_type": "code",
   "execution_count": null,
   "id": "3e11ea50",
   "metadata": {},
   "outputs": [],
   "source": []
  },
  {
   "cell_type": "code",
   "execution_count": null,
   "id": "4fb63e24",
   "metadata": {},
   "outputs": [],
   "source": []
  },
  {
   "cell_type": "markdown",
   "id": "4e2fd4ba",
   "metadata": {},
   "source": [
    "## Similarity"
   ]
  },
  {
   "cell_type": "code",
   "execution_count": null,
   "id": "6921457a",
   "metadata": {},
   "outputs": [],
   "source": [
    "from sklearn.metrics.pairwise import cosine_similarity"
   ]
  },
  {
   "cell_type": "code",
   "execution_count": null,
   "id": "a1d486e9",
   "metadata": {},
   "outputs": [],
   "source": [
    "ref = \"De jaarrekening geeft een getrouw beeld van het vermogen en het resultaat.\""
   ]
  },
  {
   "cell_type": "code",
   "execution_count": null,
   "id": "fab7ebd4",
   "metadata": {},
   "outputs": [],
   "source": [
    "docs = [\n",
    "    \"De jaarrekening geeft een getrouw beeld van het vermogen en het resultaat.\",\n",
    "    \"De jaarrekening geeft een getrouw beeld van onze bedrijfsvoering.\",\n",
    "    \"Het vermogen is gegroeid en het jaarresultaat was positief.\",\n",
    "]"
   ]
  },
  {
   "cell_type": "code",
   "execution_count": null,
   "id": "8cce7b96",
   "metadata": {},
   "outputs": [],
   "source": [
    "ref_vector = nlp(ref).vector.reshape(1, -1)\n",
    "\n",
    "for doc in docs:\n",
    "    doc_vector = nlp(doc).vector.reshape(1, -1)\n",
    "    similarity = cosine_similarity(ref_vector, doc_vector)[0 ,0]\n",
    "\n",
    "    print(f\"Comparing: {doc}\")\n",
    "    print(f\"Similarity: {similarity:0.3f}\")"
   ]
  },
  {
   "cell_type": "code",
   "execution_count": null,
   "id": "e4d85129",
   "metadata": {},
   "outputs": [],
   "source": []
  },
  {
   "cell_type": "code",
   "execution_count": null,
   "id": "aa282851",
   "metadata": {},
   "outputs": [],
   "source": [
    "from sklearn.feature_extraction.text import CountVectorizer"
   ]
  },
  {
   "cell_type": "code",
   "execution_count": null,
   "id": "bbb8f155",
   "metadata": {},
   "outputs": [],
   "source": [
    "nlp = spacy.load(\"en_core_web_sm\")"
   ]
  },
  {
   "cell_type": "code",
   "execution_count": null,
   "id": "9d8fe838",
   "metadata": {},
   "outputs": [],
   "source": [
    "# Define target to match to.\n",
    "target = \"cash\""
   ]
  },
  {
   "cell_type": "code",
   "execution_count": null,
   "id": "e7144057",
   "metadata": {},
   "outputs": [],
   "source": [
    "# Define documents to match.\n",
    "docs = [\n",
    "    \"cash\",\n",
    "    \"money\",\n",
    "    \"shoes\",\n",
    "]"
   ]
  },
  {
   "cell_type": "code",
   "execution_count": null,
   "id": "5f96e9ff",
   "metadata": {},
   "outputs": [],
   "source": [
    "# Vectorizer to convert to numeric data.\n",
    "vectorizer = CountVectorizer().fit(docs)\n",
    "vectorizer.vocabulary_"
   ]
  },
  {
   "cell_type": "code",
   "execution_count": null,
   "id": "e9b4c791",
   "metadata": {},
   "outputs": [],
   "source": [
    "# Transform the target.\n",
    "target_vector = vectorizer.transform([target])\n",
    "target_vector.todense()"
   ]
  },
  {
   "cell_type": "code",
   "execution_count": null,
   "id": "f9f57de8",
   "metadata": {},
   "outputs": [],
   "source": [
    "# Transform the documents.\n",
    "doc_vectors = vectorizer.transform(docs)\n",
    "doc_vectors.todense()"
   ]
  },
  {
   "cell_type": "code",
   "execution_count": null,
   "id": "8cd99c8a",
   "metadata": {},
   "outputs": [],
   "source": [
    "# Compute similarities.\n",
    "for doc, doc_vector in zip(docs, doc_vectors):\n",
    "    similarity = cosine_similarity(target_vector, doc_vector)[0 ,0]\n",
    "    print(f\"Similarity {ref} - {doc:10s} {similarity:.2f}\")"
   ]
  },
  {
   "cell_type": "code",
   "execution_count": null,
   "id": "d329515f",
   "metadata": {},
   "outputs": [],
   "source": [
    "# Transform the target.\n",
    "target_vector = nlp(target).vector.reshape(1, -1)\n",
    "target_vector"
   ]
  },
  {
   "cell_type": "code",
   "execution_count": null,
   "id": "75f7cfbf",
   "metadata": {},
   "outputs": [],
   "source": [
    "# Transform the documents.\n",
    "doc_vectors = [nlp(doc).vector.reshape(1, -1) for doc in docs]"
   ]
  },
  {
   "cell_type": "code",
   "execution_count": null,
   "id": "a72e7f40",
   "metadata": {},
   "outputs": [],
   "source": [
    "# Compute similarities.\n",
    "for doc, doc_vector in zip(docs, doc_vectors):\n",
    "    similarity = cosine_similarity(target_vector, doc_vector)[0 ,0]\n",
    "    print(f\"Similarity {ref} - {doc:10s} {similarity:.2f}\")"
   ]
  },
  {
   "cell_type": "code",
   "execution_count": null,
   "id": "b3bf851e",
   "metadata": {},
   "outputs": [],
   "source": []
  }
 ],
 "metadata": {
  "kernelspec": {
   "display_name": "Python 3 (ipykernel)",
   "language": "python",
   "name": "python3"
  },
  "language_info": {
   "codemirror_mode": {
    "name": "ipython",
    "version": 3
   },
   "file_extension": ".py",
   "mimetype": "text/x-python",
   "name": "python",
   "nbconvert_exporter": "python",
   "pygments_lexer": "ipython3",
   "version": "3.9.18"
  }
 },
 "nbformat": 4,
 "nbformat_minor": 5
}
