{
 "cells": [
  {
   "cell_type": "code",
   "execution_count": 6,
   "id": "e73a0909",
   "metadata": {},
   "outputs": [],
   "source": [
    "import re\n",
    "import string\n",
    "\n",
    "import spacy\n",
    "import pandas as pd\n",
    "\n",
    "from sklearn.base import BaseEstimator, TransformerMixin\n",
    "from sklearn.feature_extraction.text import CountVectorizer"
   ]
  },
  {
   "cell_type": "code",
   "execution_count": 2,
   "id": "3e1b35aa",
   "metadata": {},
   "outputs": [],
   "source": [
    "nlp = spacy.load(\"nl_core_news_sm\")"
   ]
  },
  {
   "cell_type": "code",
   "execution_count": 3,
   "id": "a4ef2632",
   "metadata": {},
   "outputs": [],
   "source": [
    "data = [\n",
    "    \"Hij nam de metro naar de Autoriteit Financiele Markten.\",\n",
    "    \"Zij neemt altijd de metro vanaf het Centraal Station.\"\n",
    "]"
   ]
  },
  {
   "cell_type": "code",
   "execution_count": 7,
   "id": "71eb3562",
   "metadata": {},
   "outputs": [],
   "source": [
    "lines = [\n",
    "    \"The European Central Bank increased its interest rate by 0.25% to a total of 4%.\",\n",
    "    \"Inflation was surging at 5.6% last year; the highest rate in 10 years.\",\n",
    "    \"This article was updated on 24-03-2023.\",\n",
    "    \"For more information, contact: finance@fake.tld\",\n",
    "]"
   ]
  },
  {
   "cell_type": "markdown",
   "id": "74222e80",
   "metadata": {},
   "source": [
    "### Finding numbers"
   ]
  },
  {
   "cell_type": "code",
   "execution_count": 346,
   "id": "30a7ed79",
   "metadata": {},
   "outputs": [
    {
     "data": {
      "text/plain": [
       "<re.Match object; span=(15, 23), match='2,345.67'>"
      ]
     },
     "execution_count": 346,
     "metadata": {},
     "output_type": "execute_result"
    }
   ],
   "source": [
    "# Very simple form.\n",
    "pattern = r\"[0-9\\.,]+\"\n",
    "re.search(pattern, \"The costs were 2,345.67 euro.\")"
   ]
  },
  {
   "cell_type": "code",
   "execution_count": 347,
   "id": "904ba9c4",
   "metadata": {},
   "outputs": [
    {
     "data": {
      "text/plain": [
       "<re.Match object; span=(16, 21), match='2023.'>"
      ]
     },
     "execution_count": 347,
     "metadata": {},
     "output_type": "execute_result"
    }
   ],
   "source": [
    "# However, does grab end of sentance...\n",
    "re.search(pattern, \"The year is now 2023.\")"
   ]
  },
  {
   "cell_type": "code",
   "execution_count": 348,
   "id": "b40a5d88",
   "metadata": {},
   "outputs": [
    {
     "data": {
      "text/plain": [
       "<re.Match object; span=(16, 20), match='2023'>"
      ]
     },
     "execution_count": 348,
     "metadata": {},
     "output_type": "execute_result"
    }
   ],
   "source": [
    "# Bit more precise.\n",
    "pattern = r\"\"\"(\n",
    "    (?:[0-9]*[\\.,])*        # Capture 1 or more groups of digits and separators.\n",
    "    [0-9]+                  # Capture one final set of digits.\n",
    ")\"\"\"\n",
    "re.search(pattern, \"The year is now 2023.\", re.X)"
   ]
  },
  {
   "cell_type": "code",
   "execution_count": 349,
   "id": "ee58a2ba",
   "metadata": {},
   "outputs": [
    {
     "data": {
      "text/plain": [
       "<re.Match object; span=(15, 23), match='2,345.67'>"
      ]
     },
     "execution_count": 349,
     "metadata": {},
     "output_type": "execute_result"
    }
   ],
   "source": [
    "# Also captures numbers\n",
    "re.search(pattern, \"The costs were 2,345.67 euro.\", re.X)"
   ]
  },
  {
   "cell_type": "code",
   "execution_count": 350,
   "id": "2ed41593",
   "metadata": {},
   "outputs": [
    {
     "data": {
      "text/plain": [
       "<re.Match object; span=(25, 34), match='127.0.0.1'>"
      ]
     },
     "execution_count": 350,
     "metadata": {},
     "output_type": "execute_result"
    }
   ],
   "source": [
    "# Still not perfect...\n",
    "re.search(pattern, \"Localhost has IP address 127.0.0.1.\", re.X)"
   ]
  },
  {
   "cell_type": "code",
   "execution_count": null,
   "id": "cbc249da",
   "metadata": {},
   "outputs": [],
   "source": []
  },
  {
   "cell_type": "markdown",
   "id": "b31cfe87",
   "metadata": {},
   "source": [
    "### Finding dates"
   ]
  },
  {
   "cell_type": "code",
   "execution_count": 313,
   "id": "a56eaf66",
   "metadata": {},
   "outputs": [
    {
     "data": {
      "text/plain": [
       "<re.Match object; span=(0, 9), match='31-1-2023'>"
      ]
     },
     "execution_count": 313,
     "metadata": {},
     "output_type": "execute_result"
    }
   ],
   "source": [
    "# Somewhat naive approach...\n",
    "pattern = r\"\\d{1,2}-\\d{1,2}-\\d{4}\"\n",
    "re.match(pattern, \"31-1-2023\")"
   ]
  },
  {
   "cell_type": "code",
   "execution_count": 316,
   "id": "adc394ec",
   "metadata": {},
   "outputs": [
    {
     "data": {
      "text/plain": [
       "<re.Match object; span=(0, 10), match='33-22-1111'>"
      ]
     },
     "execution_count": 316,
     "metadata": {},
     "output_type": "execute_result"
    }
   ],
   "source": [
    "# Woops...\n",
    "re.match(pattern, \"33-22-1111\")"
   ]
  },
  {
   "cell_type": "code",
   "execution_count": 17,
   "id": "5b0e7717",
   "metadata": {},
   "outputs": [],
   "source": [
    "# Detect dates.\n",
    "pattern = r\"\"\"(\n",
    "    (?: 0?[1-9] | [12][0-9] | 3[01] ) -    # Day:   01-09 | 10 - 29 | 30 - 31\n",
    "    (?: 0?[1-9] | 1[012] ) -               # Month: 01-09 | 10 - 12\n",
    "    \\d{4}                                  # Year\n",
    ")\"\"\""
   ]
  },
  {
   "cell_type": "code",
   "execution_count": 19,
   "id": "3e4b4283",
   "metadata": {},
   "outputs": [],
   "source": [
    "# Invalid date is no longer matched!\n",
    "re.search(pattern, \"33-22-1111\", re.X)"
   ]
  },
  {
   "cell_type": "code",
   "execution_count": 22,
   "id": "5f19c2cb",
   "metadata": {},
   "outputs": [
    {
     "data": {
      "text/plain": [
       "<re.Match object; span=(0, 10), match='31-01-2023'>"
      ]
     },
     "execution_count": 22,
     "metadata": {},
     "output_type": "execute_result"
    }
   ],
   "source": [
    "# While valid dates are...\n",
    "re.search(pattern, \"31-01-2023\", re.X)"
   ]
  },
  {
   "cell_type": "code",
   "execution_count": null,
   "id": "e48eb2d3",
   "metadata": {},
   "outputs": [],
   "source": []
  },
  {
   "cell_type": "markdown",
   "id": "1af5c7df",
   "metadata": {},
   "source": [
    "### Finding entities"
   ]
  },
  {
   "cell_type": "code",
   "execution_count": null,
   "id": "8e815089",
   "metadata": {},
   "outputs": [
    {
     "data": {
      "text/plain": [
       "<re.Match object; span=(4, 25), match='European Central Bank'>"
      ]
     },
     "metadata": {},
     "output_type": "display_data"
    }
   ],
   "source": [
    "# Detect entities.\n",
    "m = re.search(r\"((?:[A-Z]+\\w+\\s)*(?:[A-Z]+\\w+))\", \"the European Central Bank authorized\")\n",
    "m"
   ]
  },
  {
   "cell_type": "code",
   "execution_count": null,
   "id": "67ac7c50",
   "metadata": {},
   "outputs": [
    {
     "data": {
      "text/plain": [
       "('European Central Bank',)"
      ]
     },
     "metadata": {},
     "output_type": "display_data"
    }
   ],
   "source": [
    "m.groups()"
   ]
  },
  {
   "cell_type": "code",
   "execution_count": null,
   "id": "227d8be1",
   "metadata": {},
   "outputs": [],
   "source": []
  },
  {
   "cell_type": "markdown",
   "id": "1b09b8dd",
   "metadata": {},
   "source": [
    "### Detect e-mail"
   ]
  },
  {
   "cell_type": "code",
   "execution_count": 16,
   "id": "a47a6692",
   "metadata": {},
   "outputs": [
    {
     "data": {
      "text/plain": [
       "<re.Match object; span=(0, 34), match='bla-bla.bla@test.blaat-testing.com'>"
      ]
     },
     "execution_count": 16,
     "metadata": {},
     "output_type": "execute_result"
    }
   ],
   "source": [
    "# Detect e-mail.\n",
    "re.search(r\"([a-zA-Z0-9\\-.]+@[a-zA-Z0-9-.]+\\.[a-zA-Z]{2,3})\", \"bla-bla.bla@test.blaat-testing.com\")"
   ]
  },
  {
   "cell_type": "code",
   "execution_count": null,
   "id": "a91b5624",
   "metadata": {},
   "outputs": [],
   "source": []
  },
  {
   "cell_type": "markdown",
   "id": "d9ea14ae",
   "metadata": {},
   "source": [
    "## Regex Tokenizer"
   ]
  },
  {
   "cell_type": "code",
   "execution_count": 164,
   "id": "a9de8470",
   "metadata": {},
   "outputs": [],
   "source": [
    "\n",
    "def tokenizer(text):\n",
    "    \"\"\"Tokenize the provided string.\"\"\"\n",
    "    tokens = []\n",
    "    while text:\n",
    "        \n",
    "        # Detect numbers.\n",
    "        if m:= re.match(r\"([0-9]*[\\.,]?[0-9]+)\", text):\n",
    "            token = m.group(1)\n",
    "            tokens.append((token, \"NUMBER\"))\n",
    "\n",
    "        # Detect e-mail.\n",
    "        elif m:= re.match(r\"([\\w\\-\\.]+@[a-zA-Z\\-\\.]+\\.[a-zA-Z]{2,3})\", text):\n",
    "            token = m.group(1)\n",
    "            tokens.append((token, \"EMAIL\"))\n",
    "\n",
    "        # Detect word characters.\n",
    "        elif m := re.match(r\"(\\w+)\", text):\n",
    "            token = m.group(1)\n",
    "            tokens.append((token, \"WORD\"))\n",
    "            \n",
    "        \n",
    "        # Detect punctuation characters\n",
    "        elif text[0] in string.punctuation:\n",
    "            token = text[0]\n",
    "            tokens.append((token, \"PUNCT\"))\n",
    "        \n",
    "        \n",
    "        # Detect whitespace characters.\n",
    "        else:\n",
    "            token = text[0]\n",
    "\n",
    "        # Remove token from text.\n",
    "        text = text[len(token):]\n",
    "\n",
    "\n",
    "    return tokens\n"
   ]
  },
  {
   "cell_type": "code",
   "execution_count": 165,
   "id": "02783c12",
   "metadata": {},
   "outputs": [
    {
     "data": {
      "text/plain": [
       "[('For', 'WORD'),\n",
       " ('more', 'WORD'),\n",
       " ('information', 'WORD'),\n",
       " (',', 'PUNCT'),\n",
       " ('contact', 'WORD'),\n",
       " (':', 'PUNCT'),\n",
       " ('finance@fake.tld', 'EMAIL')]"
      ]
     },
     "execution_count": 165,
     "metadata": {},
     "output_type": "execute_result"
    }
   ],
   "source": [
    "tokenizer(lines[2])"
   ]
  },
  {
   "cell_type": "code",
   "execution_count": null,
   "id": "0724b103",
   "metadata": {},
   "outputs": [],
   "source": []
  },
  {
   "cell_type": "code",
   "execution_count": 271,
   "id": "a212b1d1",
   "metadata": {},
   "outputs": [],
   "source": [
    "nlp = spacy.load(\"en_core_web_sm\")"
   ]
  },
  {
   "cell_type": "code",
   "execution_count": 278,
   "id": "11780cfc",
   "metadata": {},
   "outputs": [],
   "source": [
    "doc = nlp(lines[2])"
   ]
  },
  {
   "cell_type": "code",
   "execution_count": 279,
   "id": "8aa581e8",
   "metadata": {},
   "outputs": [
    {
     "name": "stdout",
     "output_type": "stream",
     "text": [
      "This\n",
      "article\n",
      "was\n",
      "updated\n",
      "on\n",
      "24\n",
      "-\n",
      "03\n",
      "-\n",
      "2023\n",
      ".\n"
     ]
    }
   ],
   "source": [
    "for token in doc:\n",
    "    print(token)"
   ]
  },
  {
   "cell_type": "code",
   "execution_count": 280,
   "id": "3966f190",
   "metadata": {},
   "outputs": [
    {
     "name": "stdout",
     "output_type": "stream",
     "text": [
      "24-03-2023 | DATE | 5 - 10\n"
     ]
    }
   ],
   "source": [
    "for ent in doc.ents:\n",
    "    print(f\"{ent} | {ent.label_} | {ent.start} - {ent.end}\")"
   ]
  },
  {
   "cell_type": "code",
   "execution_count": null,
   "id": "547f938b",
   "metadata": {},
   "outputs": [],
   "source": []
  },
  {
   "cell_type": "markdown",
   "id": "11f62961",
   "metadata": {},
   "source": [
    "## Default tokenizer"
   ]
  },
  {
   "cell_type": "code",
   "execution_count": 4,
   "id": "c2f1244b",
   "metadata": {},
   "outputs": [],
   "source": [
    "cvs = CountVectorizer()"
   ]
  },
  {
   "cell_type": "code",
   "execution_count": 5,
   "id": "629847e5",
   "metadata": {},
   "outputs": [
    {
     "data": {
      "text/html": [
       "<div>\n",
       "<style scoped>\n",
       "    .dataframe tbody tr th:only-of-type {\n",
       "        vertical-align: middle;\n",
       "    }\n",
       "\n",
       "    .dataframe tbody tr th {\n",
       "        vertical-align: top;\n",
       "    }\n",
       "\n",
       "    .dataframe thead th {\n",
       "        text-align: right;\n",
       "    }\n",
       "</style>\n",
       "<table border=\"1\" class=\"dataframe\">\n",
       "  <thead>\n",
       "    <tr style=\"text-align: right;\">\n",
       "      <th></th>\n",
       "      <th>altijd</th>\n",
       "      <th>autoriteit</th>\n",
       "      <th>centraal</th>\n",
       "      <th>de</th>\n",
       "      <th>financiele</th>\n",
       "      <th>het</th>\n",
       "      <th>hij</th>\n",
       "      <th>markten</th>\n",
       "      <th>metro</th>\n",
       "      <th>naar</th>\n",
       "      <th>nam</th>\n",
       "      <th>neemt</th>\n",
       "      <th>station</th>\n",
       "      <th>vanaf</th>\n",
       "      <th>zij</th>\n",
       "    </tr>\n",
       "  </thead>\n",
       "  <tbody>\n",
       "    <tr>\n",
       "      <th>0</th>\n",
       "      <td>0</td>\n",
       "      <td>1</td>\n",
       "      <td>0</td>\n",
       "      <td>2</td>\n",
       "      <td>1</td>\n",
       "      <td>0</td>\n",
       "      <td>1</td>\n",
       "      <td>1</td>\n",
       "      <td>1</td>\n",
       "      <td>1</td>\n",
       "      <td>1</td>\n",
       "      <td>0</td>\n",
       "      <td>0</td>\n",
       "      <td>0</td>\n",
       "      <td>0</td>\n",
       "    </tr>\n",
       "    <tr>\n",
       "      <th>1</th>\n",
       "      <td>1</td>\n",
       "      <td>0</td>\n",
       "      <td>1</td>\n",
       "      <td>1</td>\n",
       "      <td>0</td>\n",
       "      <td>1</td>\n",
       "      <td>0</td>\n",
       "      <td>0</td>\n",
       "      <td>1</td>\n",
       "      <td>0</td>\n",
       "      <td>0</td>\n",
       "      <td>1</td>\n",
       "      <td>1</td>\n",
       "      <td>1</td>\n",
       "      <td>1</td>\n",
       "    </tr>\n",
       "  </tbody>\n",
       "</table>\n",
       "</div>"
      ],
      "text/plain": [
       "   altijd  autoriteit  centraal  de  financiele  het  hij  markten  metro  \\\n",
       "0       0           1         0   2           1    0    1        1      1   \n",
       "1       1           0         1   1           0    1    0        0      1   \n",
       "\n",
       "   naar  nam  neemt  station  vanaf  zij  \n",
       "0     1    1      0        0      0    0  \n",
       "1     0    0      1        1      1    1  "
      ]
     },
     "execution_count": 5,
     "metadata": {},
     "output_type": "execute_result"
    }
   ],
   "source": [
    "pd.DataFrame(\n",
    "    data=cvs.fit_transform(data).todense(),\n",
    "    columns=cvs.get_feature_names_out(),\n",
    ")"
   ]
  },
  {
   "cell_type": "code",
   "execution_count": null,
   "id": "3e11ea50",
   "metadata": {},
   "outputs": [],
   "source": []
  },
  {
   "cell_type": "markdown",
   "id": "da4ed20e",
   "metadata": {},
   "source": [
    "## Spacy as tokenizer"
   ]
  },
  {
   "cell_type": "code",
   "execution_count": 6,
   "id": "fccd0752",
   "metadata": {},
   "outputs": [],
   "source": [
    "# Create the language model once.\n",
    "nlp = spacy.load(\"nl_core_news_sm\")\n",
    "\n",
    "\n",
    "# Define the tokenizer as a function.\n",
    "def spacy_tokenizer(text: str) -> list:\n",
    "    \"\"\"Tokenize a text string using spaCy.\"\"\"\n",
    "    return [\n",
    "        token.lemma_ for token in nlp(text)\n",
    "        if not token.is_punct\n",
    "    ]"
   ]
  },
  {
   "cell_type": "code",
   "execution_count": 7,
   "id": "b55f6edd",
   "metadata": {},
   "outputs": [
    {
     "data": {
      "text/plain": [
       "['hij',\n",
       " 'nemen',\n",
       " 'de',\n",
       " 'metro',\n",
       " 'naar',\n",
       " 'de',\n",
       " 'autoriteit',\n",
       " 'Financiele',\n",
       " 'Markten']"
      ]
     },
     "execution_count": 7,
     "metadata": {},
     "output_type": "execute_result"
    }
   ],
   "source": [
    "# Test tokenizer function on first record.\n",
    "spacy_tokenizer(data[0])"
   ]
  },
  {
   "cell_type": "code",
   "execution_count": 8,
   "id": "71c36af2",
   "metadata": {},
   "outputs": [],
   "source": [
    "# Initialize CountVectorizer with the spaCy tokenizer.\n",
    "cvs = CountVectorizer(tokenizer=spacy_tokenizer, token_pattern=None)"
   ]
  },
  {
   "cell_type": "code",
   "execution_count": 9,
   "id": "5f0db9a3",
   "metadata": {},
   "outputs": [
    {
     "data": {
      "text/html": [
       "<div>\n",
       "<style scoped>\n",
       "    .dataframe tbody tr th:only-of-type {\n",
       "        vertical-align: middle;\n",
       "    }\n",
       "\n",
       "    .dataframe tbody tr th {\n",
       "        vertical-align: top;\n",
       "    }\n",
       "\n",
       "    .dataframe thead th {\n",
       "        text-align: right;\n",
       "    }\n",
       "</style>\n",
       "<table border=\"1\" class=\"dataframe\">\n",
       "  <thead>\n",
       "    <tr style=\"text-align: right;\">\n",
       "      <th></th>\n",
       "      <th>altijd</th>\n",
       "      <th>autoriteit</th>\n",
       "      <th>centraal</th>\n",
       "      <th>de</th>\n",
       "      <th>financieel</th>\n",
       "      <th>het</th>\n",
       "      <th>hij</th>\n",
       "      <th>markt</th>\n",
       "      <th>metro</th>\n",
       "      <th>naar</th>\n",
       "      <th>nemen</th>\n",
       "      <th>station</th>\n",
       "      <th>vanaf</th>\n",
       "      <th>zij</th>\n",
       "    </tr>\n",
       "  </thead>\n",
       "  <tbody>\n",
       "    <tr>\n",
       "      <th>0</th>\n",
       "      <td>0</td>\n",
       "      <td>1</td>\n",
       "      <td>0</td>\n",
       "      <td>2</td>\n",
       "      <td>1</td>\n",
       "      <td>0</td>\n",
       "      <td>1</td>\n",
       "      <td>1</td>\n",
       "      <td>1</td>\n",
       "      <td>1</td>\n",
       "      <td>1</td>\n",
       "      <td>0</td>\n",
       "      <td>0</td>\n",
       "      <td>0</td>\n",
       "    </tr>\n",
       "    <tr>\n",
       "      <th>1</th>\n",
       "      <td>1</td>\n",
       "      <td>0</td>\n",
       "      <td>1</td>\n",
       "      <td>1</td>\n",
       "      <td>0</td>\n",
       "      <td>1</td>\n",
       "      <td>0</td>\n",
       "      <td>0</td>\n",
       "      <td>1</td>\n",
       "      <td>0</td>\n",
       "      <td>1</td>\n",
       "      <td>1</td>\n",
       "      <td>1</td>\n",
       "      <td>1</td>\n",
       "    </tr>\n",
       "  </tbody>\n",
       "</table>\n",
       "</div>"
      ],
      "text/plain": [
       "   altijd  autoriteit  centraal  de  financieel  het  hij  markt  metro  naar  \\\n",
       "0       0           1         0   2           1    0    1      1      1     1   \n",
       "1       1           0         1   1           0    1    0      0      1     0   \n",
       "\n",
       "   nemen  station  vanaf  zij  \n",
       "0      1        0      0    0  \n",
       "1      1        1      1    1  "
      ]
     },
     "execution_count": 9,
     "metadata": {},
     "output_type": "execute_result"
    }
   ],
   "source": [
    "# Inspect the output.\n",
    "# Note: Both forms of the verb now converge to the same token.\n",
    "pd.DataFrame(\n",
    "    data=cvs.fit_transform(data).todense(),\n",
    "    columns=cvs.get_feature_names_out(),\n",
    ")"
   ]
  },
  {
   "cell_type": "code",
   "execution_count": null,
   "id": "cb0fbc3a",
   "metadata": {},
   "outputs": [],
   "source": []
  },
  {
   "cell_type": "markdown",
   "id": "4e2fd4ba",
   "metadata": {},
   "source": [
    "## Similarity"
   ]
  },
  {
   "cell_type": "code",
   "execution_count": 3,
   "id": "6921457a",
   "metadata": {},
   "outputs": [],
   "source": [
    "from sklearn.metrics.pairwise import cosine_similarity"
   ]
  },
  {
   "cell_type": "code",
   "execution_count": 30,
   "id": "a1d486e9",
   "metadata": {},
   "outputs": [],
   "source": [
    "ref = \"De jaarrekening geeft een getrouw beeld van het vermogen en het resultaat.\""
   ]
  },
  {
   "cell_type": "code",
   "execution_count": 33,
   "id": "fab7ebd4",
   "metadata": {},
   "outputs": [],
   "source": [
    "docs = [\n",
    "    \"De jaarrekening geeft een getrouw beeld van het vermogen en het resultaat.\",\n",
    "    \"De jaarrekening geeft een getrouw beeld van onze bedrijfsvoering.\",\n",
    "    \"Het vermogen is gegroeid en het jaarresultaat was positief.\",\n",
    "]"
   ]
  },
  {
   "cell_type": "code",
   "execution_count": 34,
   "id": "8cce7b96",
   "metadata": {},
   "outputs": [
    {
     "name": "stdout",
     "output_type": "stream",
     "text": [
      "Comparing: De jaarrekening geeft een getrouw beeld van het vermogen en het resultaat.\n",
      "Similarity: 1.000\n",
      "Comparing: De jaarrekening geeft een getrouw beeld van onze bedrijfsvoering.\n",
      "Similarity: 0.840\n",
      "Comparing: Het vermogen is gegroeid en het jaarresultaat was positief.\n",
      "Similarity: 0.656\n"
     ]
    }
   ],
   "source": [
    "ref_vector = nlp(ref).vector.reshape(1, -1)\n",
    "\n",
    "for doc in docs:\n",
    "    doc_vector = nlp(doc).vector.reshape(1, -1)\n",
    "    similarity = cosine_similarity(ref_vector, doc_vector)[0 ,0]\n",
    "    \n",
    "    print(f\"Comparing: {doc}\")\n",
    "    print(f\"Similarity: {similarity:0.3f}\")"
   ]
  },
  {
   "cell_type": "code",
   "execution_count": null,
   "id": "e4d85129",
   "metadata": {},
   "outputs": [],
   "source": []
  },
  {
   "cell_type": "code",
   "execution_count": 8,
   "id": "aa282851",
   "metadata": {},
   "outputs": [],
   "source": [
    "from sklearn.feature_extraction.text import CountVectorizer"
   ]
  },
  {
   "cell_type": "code",
   "execution_count": 6,
   "id": "bbb8f155",
   "metadata": {},
   "outputs": [],
   "source": [
    "nlp = spacy.load(\"en_core_web_sm\")"
   ]
  },
  {
   "cell_type": "code",
   "execution_count": 26,
   "id": "9d8fe838",
   "metadata": {},
   "outputs": [],
   "source": [
    "# Define target to match to.\n",
    "target = \"cash\""
   ]
  },
  {
   "cell_type": "code",
   "execution_count": 71,
   "id": "e7144057",
   "metadata": {},
   "outputs": [],
   "source": [
    "# Define documents to match.\n",
    "docs = [\n",
    "    \"cash\",\n",
    "    \"money\",\n",
    "    \"shoes\",\n",
    "]"
   ]
  },
  {
   "cell_type": "code",
   "execution_count": 72,
   "id": "5f96e9ff",
   "metadata": {},
   "outputs": [
    {
     "data": {
      "text/plain": [
       "{'cash': 0, 'money': 1, 'shoes': 2}"
      ]
     },
     "execution_count": 72,
     "metadata": {},
     "output_type": "execute_result"
    }
   ],
   "source": [
    "# Vectorizer to convert to numeric data.\n",
    "vectorizer = CountVectorizer().fit(docs)\n",
    "vectorizer.vocabulary_"
   ]
  },
  {
   "cell_type": "code",
   "execution_count": 73,
   "id": "e9b4c791",
   "metadata": {},
   "outputs": [
    {
     "data": {
      "text/plain": [
       "matrix([[1, 0, 0]], dtype=int64)"
      ]
     },
     "execution_count": 73,
     "metadata": {},
     "output_type": "execute_result"
    }
   ],
   "source": [
    "# Transform the target.\n",
    "target_vector = vectorizer.transform([target])\n",
    "target_vector.todense()"
   ]
  },
  {
   "cell_type": "code",
   "execution_count": 74,
   "id": "f9f57de8",
   "metadata": {},
   "outputs": [
    {
     "data": {
      "text/plain": [
       "matrix([[1, 0, 0],\n",
       "        [0, 1, 0],\n",
       "        [0, 0, 1]], dtype=int64)"
      ]
     },
     "execution_count": 74,
     "metadata": {},
     "output_type": "execute_result"
    }
   ],
   "source": [
    "# Transform the documents.\n",
    "doc_vectors = vectorizer.transform(docs)\n",
    "doc_vectors.todense()"
   ]
  },
  {
   "cell_type": "code",
   "execution_count": 75,
   "id": "8cd99c8a",
   "metadata": {},
   "outputs": [
    {
     "name": "stdout",
     "output_type": "stream",
     "text": [
      "Similarity cash - cash       1.00\n",
      "Similarity cash - money      0.00\n",
      "Similarity cash - shoes      0.00\n"
     ]
    }
   ],
   "source": [
    "# Compute similarities.\n",
    "for doc, doc_vector in zip(docs, doc_vectors):\n",
    "    similarity = cosine_similarity(target_vector, doc_vector)[0 ,0]\n",
    "    print(f\"Similarity {ref} - {doc:10s} {similarity:.2f}\")"
   ]
  },
  {
   "cell_type": "code",
   "execution_count": 91,
   "id": "d329515f",
   "metadata": {},
   "outputs": [
    {
     "data": {
      "text/plain": [
       "array([[-1.397754  ,  0.07070416, -0.39039838,  0.5617517 , -0.34965605,\n",
       "         0.13661712,  0.57871896,  1.5256443 ,  0.65602285, -0.65689296,\n",
       "         0.18999839, -1.1277145 , -0.5164149 ,  0.50789267, -0.09047326,\n",
       "        -0.00300154, -0.48194283, -1.1704302 ,  0.16177908,  0.7935656 ,\n",
       "         0.5065979 ,  0.46046025, -0.46592283, -0.5427428 , -0.01515184,\n",
       "         1.1252439 , -0.21802486,  1.1335628 ,  0.12234014,  0.44552493,\n",
       "        -0.76876795, -0.26393777,  0.56515276,  0.42321578,  0.05211889,\n",
       "        -1.145031  ,  0.6928235 ,  0.24417129,  1.2999567 , -0.58716494,\n",
       "        -0.3146794 ,  0.00832057, -0.90186   ,  0.08301586, -0.6861465 ,\n",
       "        -0.4924449 , -0.94279224, -0.33799934, -0.15532967, -0.56868625,\n",
       "         0.13251549,  0.2655836 ,  0.488851  , -1.129028  ,  0.5697172 ,\n",
       "        -0.19400054, -0.00783122,  0.29177633, -0.4797179 , -0.21585448,\n",
       "        -0.27525264,  0.02882797,  0.27929398, -0.48936877,  1.1565417 ,\n",
       "         0.94858444, -0.53587013, -0.18130594,  0.5808455 , -0.07468565,\n",
       "         0.852836  ,  1.0234054 ,  1.9942567 , -0.4469223 , -0.516472  ,\n",
       "         0.26738876,  0.18344365, -0.57422113,  0.3229953 , -0.75887245,\n",
       "         0.275408  , -0.8656454 , -1.9299252 , -1.0189354 ,  0.362782  ,\n",
       "         1.2861178 , -0.19917351,  0.24206765, -1.1500108 ,  0.47632325,\n",
       "        -1.344872  ,  0.24792552,  0.8998295 ,  1.1066475 ,  0.6543542 ,\n",
       "         0.7830256 ]], dtype=float32)"
      ]
     },
     "execution_count": 91,
     "metadata": {},
     "output_type": "execute_result"
    }
   ],
   "source": [
    "# Transform the target.\n",
    "target_vector = nlp(target).vector.reshape(1, -1)\n",
    "target_vector"
   ]
  },
  {
   "cell_type": "code",
   "execution_count": 92,
   "id": "75f7cfbf",
   "metadata": {},
   "outputs": [],
   "source": [
    "# Transform the documents.\n",
    "doc_vectors = [nlp(doc).vector.reshape(1, -1) for doc in docs]"
   ]
  },
  {
   "cell_type": "code",
   "execution_count": 93,
   "id": "a72e7f40",
   "metadata": {},
   "outputs": [
    {
     "name": "stdout",
     "output_type": "stream",
     "text": [
      "Similarity cash - cash       1.00\n",
      "Similarity cash - money      0.80\n",
      "Similarity cash - shoes      0.29\n"
     ]
    }
   ],
   "source": [
    "# Compute similarities.\n",
    "for doc, doc_vector in zip(docs, doc_vectors):\n",
    "    similarity = cosine_similarity(target_vector, doc_vector)[0 ,0]\n",
    "    print(f\"Similarity {ref} - {doc:10s} {similarity:.2f}\")"
   ]
  },
  {
   "cell_type": "code",
   "execution_count": null,
   "id": "b3bf851e",
   "metadata": {},
   "outputs": [],
   "source": []
  },
  {
   "cell_type": "markdown",
   "id": "27181f92",
   "metadata": {},
   "source": [
    "## Regex"
   ]
  },
  {
   "cell_type": "code",
   "execution_count": 140,
   "id": "e2f759d8",
   "metadata": {},
   "outputs": [],
   "source": [
    "import re"
   ]
  },
  {
   "cell_type": "code",
   "execution_count": 141,
   "id": "d6e505bb",
   "metadata": {},
   "outputs": [],
   "source": [
    "text = \"<b>Python</b> is a <b>great</b> language!\""
   ]
  },
  {
   "cell_type": "code",
   "execution_count": 142,
   "id": "645204d2",
   "metadata": {},
   "outputs": [
    {
     "data": {
      "text/plain": [
       "'Python is a great language!'"
      ]
     },
     "execution_count": 142,
     "metadata": {},
     "output_type": "execute_result"
    }
   ],
   "source": [
    "# Replace pattern by captured group.\n",
    "re.sub(\n",
    "    r\"<b>(.+?)</b>\",   # Search for text between bold tags.\n",
    "    r\"\\1\",             # Refers to Match.group(1) \n",
    "    text\n",
    ")"
   ]
  },
  {
   "cell_type": "code",
   "execution_count": 143,
   "id": "3b7c417b",
   "metadata": {},
   "outputs": [
    {
     "data": {
      "text/plain": [
       "'Python is a great language!'"
      ]
     },
     "execution_count": 143,
     "metadata": {},
     "output_type": "execute_result"
    }
   ],
   "source": [
    "# Replace pattern by named capture group.\n",
    "re.sub(\n",
    "    r\"<b>(?P<bold>.+?)</b>\",    # (?P<name>...) defines the named group.\n",
    "    r\"\\g<bold>\",                # \\g<name> refers to the named group.\n",
    "    text\n",
    ")"
   ]
  },
  {
   "cell_type": "code",
   "execution_count": 144,
   "id": "b9862ae2",
   "metadata": {},
   "outputs": [
    {
     "data": {
      "text/plain": [
       "'PYTHON is a GREAT language!'"
      ]
     },
     "execution_count": 144,
     "metadata": {},
     "output_type": "execute_result"
    }
   ],
   "source": [
    "# Second argument can be a (lambda) function.\n",
    "re.sub(\n",
    "    r\"<b>(.+?)</b>\",\n",
    "    lambda m: m.group(1).upper(),   # Input is a Match object.\n",
    "    text\n",
    ")"
   ]
  },
  {
   "cell_type": "markdown",
   "id": "40e54d8c",
   "metadata": {},
   "source": [
    "### Look ahead / behind"
   ]
  },
  {
   "cell_type": "code",
   "execution_count": 86,
   "id": "c849a29f",
   "metadata": {},
   "outputs": [],
   "source": [
    "text = \"An ROI of 12.5% over 5 years.\""
   ]
  },
  {
   "cell_type": "code",
   "execution_count": 87,
   "id": "4f404ede",
   "metadata": {},
   "outputs": [
    {
     "data": {
      "text/plain": [
       "<re.Match object; span=(10, 14), match='12.5'>"
      ]
     },
     "execution_count": 87,
     "metadata": {},
     "output_type": "execute_result"
    }
   ],
   "source": [
    "# Look behind: matches number followed by % character.\n",
    "re.search(r\"(\\d+\\.?\\d*)(?=%)\", text)"
   ]
  },
  {
   "cell_type": "code",
   "execution_count": 88,
   "id": "c664f069",
   "metadata": {},
   "outputs": [
    {
     "data": {
      "text/plain": [
       "<re.Match object; span=(10, 13), match='12.'>"
      ]
     },
     "execution_count": 88,
     "metadata": {},
     "output_type": "execute_result"
    }
   ],
   "source": [
    "# Negative look ahead: number NOT followed by % character.\n",
    "# Note: 21 is not followed by % but by another number...\n",
    "re.search(r\"([0-9\\.]+)(?!%)\", text)"
   ]
  },
  {
   "cell_type": "code",
   "execution_count": 89,
   "id": "9149dfd4",
   "metadata": {},
   "outputs": [
    {
     "data": {
      "text/plain": [
       "<re.Match object; span=(21, 22), match='5'>"
      ]
     },
     "execution_count": 89,
     "metadata": {},
     "output_type": "execute_result"
    }
   ],
   "source": [
    "# Need to include fractional numbers in look ahead...\n",
    "# Any number not followed by a number, dot or percentage.\n",
    "re.search(r\"([0-9\\.]+)(?![0-9\\.%])\", text)"
   ]
  },
  {
   "cell_type": "code",
   "execution_count": 32,
   "id": "1c974752",
   "metadata": {},
   "outputs": [],
   "source": []
  },
  {
   "cell_type": "code",
   "execution_count": null,
   "id": "27d3121f",
   "metadata": {},
   "outputs": [],
   "source": []
  }
 ],
 "metadata": {
  "kernelspec": {
   "display_name": "Python 3 (ipykernel)",
   "language": "python",
   "name": "python3"
  },
  "language_info": {
   "codemirror_mode": {
    "name": "ipython",
    "version": 3
   },
   "file_extension": ".py",
   "mimetype": "text/x-python",
   "name": "python",
   "nbconvert_exporter": "python",
   "pygments_lexer": "ipython3",
   "version": "3.9.18"
  }
 },
 "nbformat": 4,
 "nbformat_minor": 5
}
