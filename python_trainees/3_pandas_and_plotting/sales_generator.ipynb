{
 "cells": [
  {
   "cell_type": "code",
   "execution_count": null,
   "id": "6abfb991",
   "metadata": {},
   "outputs": [],
   "source": [
    "import random\n",
    "import numpy as np\n",
    "import pandas as pd\n",
    "\n",
    "import faker"
   ]
  },
  {
   "cell_type": "code",
   "execution_count": null,
   "id": "b0901193",
   "metadata": {},
   "outputs": [],
   "source": [
    "products = pd.DataFrame(\n",
    "    data = [\n",
    "        (\"Margarine\", 500, \"gram\", \"Zuivel\", \"Levensmiddelen\", 0.99),\n",
    "        (\"Halfvolle melk\", 1, \"liter\" \"Zuivel\", \"Levensmiddelen\", 1.19),\n",
    "        (\"Halfvolle melk\", 1.5, \"liter\", \"Zuivel\", \"Levensmiddelen\", 1.99),\n",
    "        (\"Volle melk\", 1, \"liter\", \"Zuivel\", \"Levensmiddelen\", 1.29),\n",
    "        (\"Magere Yoghurt\", 1, \"liter\", \"Zuivel\", \"Levensmiddelen\", 1.19),\n",
    "        (\"Volle Yoghurt\", 1, \"liter\", \"Zuivel\", \"Levensmiddelen\", 1.29),\n",
    "\n",
    "        (\"Volkoren spagheti\", 500, \"gram\", \"Graanproducten\", \"Levensmiddelen\", 2.09),\n",
    "        (\"Volkoren brood\", 1, \"heel\", \"Graanproducten\", \"Levensmiddelen\", 1.29),\n",
    "        (\"Volkoren brood\", 1, \"half\", \"Graanproducten\", \"Levensmiddelen\", 0.79),\n",
    "        (\"Wit brood\", 1, \"heel\", \"Graanproducten\", \"Levensmiddelen\", 0.99),\n",
    "        (\"Wit brood\", 1, \"half\", \"Graanproducten\", \"Levensmiddelen\", 0.69),\n",
    "\n",
    "        (\"Witte druiven\", 500, \"gram\", \"Fruit\", \"Levensmiddelen\", 2.79),\n",
    "        (\"Appels\", 8, \"stuks\", \"Fruit\", \"Levensmiddelen\", 2.79),\n",
    "        (\"Peren\", 4, \"stuks\", \"Fruit\", \"Levensmiddelen\", 2.99),\n",
    "        (\"Komkommer\", 1, \"stuks\", \"Groenten\", \"Levensmiddelen\", 1.39),\n",
    "        (\"Tomaten\", 500, \"gram\", \"Groenten\", \"Levensmiddelen\", 2.49),\n",
    "        (\"Sla, krop\", 1, \"stuks\", \"Groenten\", \"Levensmiddelen\", 1.59),\n",
    "        (\"Sla, gesneden\", 200, \"gram\", \"Groenten\", \"Levensmiddelen\", 1.19),\n",
    "\n",
    "        (\"Bier\", 1, \"krat\", \"Alcoholische dranken\", \"Levensmiddelen\", 14.17),\n",
    "        (\"Rode wijn\", 1, \"liter\", \"Alcoholische dranken\", \"Levensmiddelen\", 6.99),\n",
    "        (\"Witte wijn\", 1, \"liter\", \"Alcoholische dranken\", \"Levensmiddelen\", 5.29),\n",
    "        \n",
    "        (\"Shampoo\", 0.3, \"liter\", \"Haarproducten\", \"Persoonlijke verzorging\", 6.49),\n",
    "        (\"Handgel\", 0.3, \"liter\", \"Hygiene producten\", \"Persoonlijke verzorging\", 2.99),\n",
    "        (\"Tandpasta\", 0.075, \"liter\", \"Hygiene producten\", \"Persoonlijke verzorging\", 2.75),\n",
    "        \n",
    "        \n",
    "    ],\n",
    "    columns=[\"item\", \"amount\", \"unit\", \"subcategory\", \"category\", \"price\"]\n",
    ")"
   ]
  },
  {
   "cell_type": "code",
   "execution_count": null,
   "id": "fa33ee87",
   "metadata": {},
   "outputs": [],
   "source": [
    "n_transactions = 15\n",
    "n_items = (1, 15)"
   ]
  },
  {
   "cell_type": "code",
   "execution_count": null,
   "id": "08b61eef",
   "metadata": {},
   "outputs": [],
   "source": []
  },
  {
   "cell_type": "code",
   "execution_count": null,
   "id": "aeadb95d",
   "metadata": {},
   "outputs": [],
   "source": [
    "import string"
   ]
  },
  {
   "cell_type": "code",
   "execution_count": null,
   "id": "a4b2c1c3",
   "metadata": {
    "scrolled": false
   },
   "outputs": [],
   "source": [
    "fkr = faker.Faker(\"nl_NL\")\n",
    "transactions = []\n",
    "\n",
    "for _ in range(n_transactions):\n",
    "    lines = random.randint(1, 5)\n",
    "    transaction = products.sample(lines)\n",
    "    \n",
    "    transaction[\"customer\"] = fkr.unique.bothify(text='???##########', letters=string.ascii_uppercase)\n",
    "    transactions.append(transaction)\n",
    "    \n",
    "transactions = pd.concat(transactions)"
   ]
  },
  {
   "cell_type": "code",
   "execution_count": null,
   "id": "2347fae6",
   "metadata": {},
   "outputs": [],
   "source": [
    "transactions"
   ]
  },
  {
   "cell_type": "code",
   "execution_count": null,
   "id": "3bd01a2d",
   "metadata": {},
   "outputs": [],
   "source": []
  }
 ],
 "metadata": {
  "kernelspec": {
   "display_name": "Python 3 (ipykernel)",
   "language": "python",
   "name": "python3"
  },
  "language_info": {
   "codemirror_mode": {
    "name": "ipython",
    "version": 3
   },
   "file_extension": ".py",
   "mimetype": "text/x-python",
   "name": "python",
   "nbconvert_exporter": "python",
   "pygments_lexer": "ipython3",
   "version": "3.7.7"
  }
 },
 "nbformat": 4,
 "nbformat_minor": 5
}
