{
 "cells": [
  {
   "cell_type": "markdown",
   "id": "865f38da",
   "metadata": {},
   "source": [
    "# Exercises 2: Solutions"
   ]
  },
  {
   "cell_type": "code",
   "execution_count": null,
   "id": "b4778165",
   "metadata": {},
   "outputs": [],
   "source": [
    "import pandas as pd"
   ]
  },
  {
   "cell_type": "markdown",
   "id": "552a86a0",
   "metadata": {},
   "source": [
    "## Read  / Explore Transactions"
   ]
  },
  {
   "cell_type": "code",
   "execution_count": null,
   "id": "89187f22",
   "metadata": {},
   "outputs": [],
   "source": [
    "transactions = pd.read_csv(\"../../0_data/sales/transactions.csv\")"
   ]
  },
  {
   "cell_type": "code",
   "execution_count": null,
   "id": "da261e1d",
   "metadata": {},
   "outputs": [],
   "source": [
    "# Get shape\n",
    "transactions.shape"
   ]
  },
  {
   "cell_type": "code",
   "execution_count": null,
   "id": "b4259aa4",
   "metadata": {},
   "outputs": [],
   "source": [
    "# List the data types\n",
    "# Note: Might want to read_csv with parse_dates=[\"transaction_date\"]\n",
    "transactions.dtypes"
   ]
  },
  {
   "cell_type": "code",
   "execution_count": null,
   "id": "e98098d5",
   "metadata": {},
   "outputs": [],
   "source": [
    "# Get descriptives for numeric\n",
    "transactions.describe()"
   ]
  },
  {
   "cell_type": "code",
   "execution_count": null,
   "id": "fb7fd17b",
   "metadata": {},
   "outputs": [],
   "source": [
    "# Get descriptives for categorical\n",
    "transactions.describe(include=[\"object\"])"
   ]
  },
  {
   "cell_type": "code",
   "execution_count": null,
   "id": "635749eb",
   "metadata": {},
   "outputs": [],
   "source": [
    "# Get a sample\n",
    "transactions.sample(10)"
   ]
  },
  {
   "cell_type": "code",
   "execution_count": null,
   "id": "b2419514",
   "metadata": {},
   "outputs": [],
   "source": [
    "# Extract line ID as new column\n",
    "transactions[\"line_nr\"] = transactions[\"line_id\"].map(lambda v: int(v[-4:]))\n",
    "transactions.head()"
   ]
  },
  {
   "cell_type": "code",
   "execution_count": null,
   "id": "d75979fe",
   "metadata": {},
   "outputs": [],
   "source": [
    "# Compute record hash\n",
    "transactions.apply(\n",
    "    lambda row: f\"{row['transaction_id']} {row['line_id']}\",\n",
    "    axis=1\n",
    ")"
   ]
  },
  {
   "cell_type": "code",
   "execution_count": null,
   "id": "198cd11b",
   "metadata": {},
   "outputs": [],
   "source": []
  },
  {
   "cell_type": "code",
   "execution_count": null,
   "id": "2f7f33c3",
   "metadata": {},
   "outputs": [],
   "source": []
  }
 ],
 "metadata": {
  "kernelspec": {
   "display_name": "Python 3 (ipykernel)",
   "language": "python",
   "name": "python3"
  },
  "language_info": {
   "codemirror_mode": {
    "name": "ipython",
    "version": 3
   },
   "file_extension": ".py",
   "mimetype": "text/x-python",
   "name": "python",
   "nbconvert_exporter": "python",
   "pygments_lexer": "ipython3",
   "version": "3.9.16"
  }
 },
 "nbformat": 4,
 "nbformat_minor": 5
}
