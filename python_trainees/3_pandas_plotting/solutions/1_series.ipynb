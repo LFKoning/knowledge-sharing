{
 "cells": [
  {
   "cell_type": "code",
   "execution_count": 1,
   "id": "b4778165",
   "metadata": {},
   "outputs": [],
   "source": [
    "import sys\n",
    "import pandas as pd"
   ]
  },
  {
   "cell_type": "code",
   "execution_count": 10,
   "id": "89187f22",
   "metadata": {},
   "outputs": [
    {
     "data": {
      "text/plain": [
       "0    1.0\n",
       "1    2.0\n",
       "2    3.0\n",
       "3    NaN\n",
       "dtype: float64"
      ]
     },
     "execution_count": 10,
     "metadata": {},
     "output_type": "execute_result"
    }
   ],
   "source": [
    "# Having a missing value resultsin float data type\n",
    "pd.Series([1, 2, 3, None])"
   ]
  },
  {
   "cell_type": "code",
   "execution_count": 2,
   "id": "12eeaa84",
   "metadata": {},
   "outputs": [],
   "source": [
    "pd_int = pd.Series([1, 2, 3, None] * 100_000, dtype=\"Int64\")\n",
    "np_float = pd.Series([1, 2, 3, None] * 100_000)"
   ]
  },
  {
   "cell_type": "code",
   "execution_count": 3,
   "id": "257e99a9",
   "metadata": {},
   "outputs": [
    {
     "name": "stdout",
     "output_type": "stream",
     "text": [
      "658 µs ± 15.4 µs per loop (mean ± std. dev. of 7 runs, 100 loops each)\n"
     ]
    }
   ],
   "source": [
    "%timeit -n 100 pd_int * 10"
   ]
  },
  {
   "cell_type": "code",
   "execution_count": 4,
   "id": "ac129d2e",
   "metadata": {},
   "outputs": [
    {
     "name": "stdout",
     "output_type": "stream",
     "text": [
      "514 µs ± 22.8 µs per loop (mean ± std. dev. of 7 runs, 100 loops each)\n"
     ]
    }
   ],
   "source": [
    "%timeit -n 100 np_float * 10"
   ]
  },
  {
   "cell_type": "code",
   "execution_count": null,
   "id": "fb3abddc",
   "metadata": {},
   "outputs": [],
   "source": []
  },
  {
   "cell_type": "code",
   "execution_count": 5,
   "id": "b9e18fd1",
   "metadata": {},
   "outputs": [],
   "source": [
    "s = pd.Series([\"a,b,c\", \"d,e\"])"
   ]
  },
  {
   "cell_type": "code",
   "execution_count": 6,
   "id": "22796333",
   "metadata": {},
   "outputs": [
    {
     "data": {
      "text/plain": [
       "0    [a,b,c]\n",
       "1      [d,e]\n",
       "dtype: object"
      ]
     },
     "execution_count": 6,
     "metadata": {},
     "output_type": "execute_result"
    }
   ],
   "source": [
    "# Using map()\n",
    "s.map(str.split)"
   ]
  },
  {
   "cell_type": "code",
   "execution_count": 7,
   "id": "baaf34bb",
   "metadata": {},
   "outputs": [
    {
     "data": {
      "text/plain": [
       "0    [a, b, c]\n",
       "1       [d, e]\n",
       "dtype: object"
      ]
     },
     "execution_count": 7,
     "metadata": {},
     "output_type": "execute_result"
    }
   ],
   "source": [
    "# Using str accessor\n",
    "s.str.split(\",\")"
   ]
  },
  {
   "cell_type": "code",
   "execution_count": 9,
   "id": "0501a34a",
   "metadata": {},
   "outputs": [
    {
     "data": {
      "text/plain": [
       "0    a\n",
       "0    b\n",
       "0    c\n",
       "1    d\n",
       "1    e\n",
       "dtype: object"
      ]
     },
     "execution_count": 9,
     "metadata": {},
     "output_type": "execute_result"
    }
   ],
   "source": [
    "# Explode into multiple rows\n",
    "s.str.split(\",\").explode()"
   ]
  },
  {
   "cell_type": "code",
   "execution_count": null,
   "id": "c011547c",
   "metadata": {},
   "outputs": [],
   "source": []
  }
 ],
 "metadata": {
  "kernelspec": {
   "display_name": "Python 3 (ipykernel)",
   "language": "python",
   "name": "python3"
  },
  "language_info": {
   "codemirror_mode": {
    "name": "ipython",
    "version": 3
   },
   "file_extension": ".py",
   "mimetype": "text/x-python",
   "name": "python",
   "nbconvert_exporter": "python",
   "pygments_lexer": "ipython3",
   "version": "3.9.16"
  }
 },
 "nbformat": 4,
 "nbformat_minor": 5
}
