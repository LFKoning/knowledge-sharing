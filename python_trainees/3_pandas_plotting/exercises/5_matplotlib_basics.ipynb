{
 "cells": [
  {
   "cell_type": "markdown",
   "id": "865f38da",
   "metadata": {},
   "source": [
    "# Exercises 5"
   ]
  },
  {
   "cell_type": "code",
   "execution_count": null,
   "id": "b4778165",
   "metadata": {},
   "outputs": [],
   "source": [
    "import pandas as pd\n",
    "\n",
    "import matplotlib\n",
    "import matplotlib.pyplot as plt"
   ]
  },
  {
   "cell_type": "code",
   "execution_count": null,
   "id": "89187f22",
   "metadata": {},
   "outputs": [],
   "source": [
    "# Read transaction data.\n",
    "transactions = pd.read_csv(\n",
    "    \"../../0_data/sales/transactions.csv\",\n",
    "    parse_dates=[\"transaction_date\"]\n",
    ")"
   ]
  },
  {
   "cell_type": "code",
   "execution_count": null,
   "id": "64e1fc37",
   "metadata": {},
   "outputs": [],
   "source": [
    "# Merge customer data.\n",
    "customers = pd.read_csv(\"../../0_data/sales/customers.csv\")\n",
    "transactions = transactions.merge(customers, on=\"customer_id\", how=\"left\")\n",
    "transactions.head(3)"
   ]
  },
  {
   "cell_type": "markdown",
   "id": "dcd6a288",
   "metadata": {},
   "source": [
    "## Barplot Customer Revenue"
   ]
  },
  {
   "cell_type": "code",
   "execution_count": null,
   "id": "9e742a0b",
   "metadata": {},
   "outputs": [],
   "source": [
    "# Create a barplot for customer revenue.\n",
    "# Plot the customers with the highest revenue (top 15)"
   ]
  },
  {
   "cell_type": "code",
   "execution_count": null,
   "id": "0d53317d",
   "metadata": {},
   "outputs": [],
   "source": []
  },
  {
   "cell_type": "markdown",
   "id": "715c715d",
   "metadata": {},
   "source": [
    "## Time Series Daily Revenue"
   ]
  },
  {
   "cell_type": "code",
   "execution_count": null,
   "id": "aa03740f",
   "metadata": {},
   "outputs": [],
   "source": [
    "# Plot daily revenue as a time series plot (line graph).\n",
    "# X-axis should have the date and Y-axis the total revenue for the date."
   ]
  },
  {
   "cell_type": "code",
   "execution_count": null,
   "id": "058ee6af",
   "metadata": {},
   "outputs": [],
   "source": []
  }
 ],
 "metadata": {
  "kernelspec": {
   "display_name": "Python 3 (ipykernel)",
   "language": "python",
   "name": "python3"
  },
  "language_info": {
   "codemirror_mode": {
    "name": "ipython",
    "version": 3
   },
   "file_extension": ".py",
   "mimetype": "text/x-python",
   "name": "python",
   "nbconvert_exporter": "python",
   "pygments_lexer": "ipython3",
   "version": "3.9.18"
  }
 },
 "nbformat": 4,
 "nbformat_minor": 5
}
