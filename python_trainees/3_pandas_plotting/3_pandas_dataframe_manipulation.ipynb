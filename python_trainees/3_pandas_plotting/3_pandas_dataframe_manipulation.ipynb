{
 "cells": [
  {
   "cell_type": "markdown",
   "id": "04b76955",
   "metadata": {},
   "source": [
    "# DataFrame: Manipulation"
   ]
  },
  {
   "cell_type": "code",
   "execution_count": null,
   "id": "4ed91873",
   "metadata": {},
   "outputs": [],
   "source": [
    "import datetime as dt\n",
    "\n",
    "import pandas as pd"
   ]
  },
  {
   "cell_type": "code",
   "execution_count": null,
   "id": "8f3cf87e",
   "metadata": {},
   "outputs": [],
   "source": [
    "def generate_data():\n",
    "    \"\"\"Return some dummy data.\"\"\"\n",
    "    return pd.DataFrame({\n",
    "        \"id\": [\"a\", \"b\", \"c\", \"d\"],\n",
    "        \"score\": [4, 6, 9, 8],\n",
    "    })\n",
    "\n",
    "scores = generate_data()\n",
    "scores"
   ]
  },
  {
   "cell_type": "markdown",
   "id": "dafe06f6",
   "metadata": {},
   "source": [
    "## Creating New Columns"
   ]
  },
  {
   "cell_type": "code",
   "execution_count": null,
   "id": "ceba7cf3",
   "metadata": {},
   "outputs": [],
   "source": [
    "# Assign in-place using brackets [...].\n",
    "# Note: Changes the original DataFrame!\n",
    "scores[\"passed\"] = scores[\"score\"] > 5.5\n",
    "scores"
   ]
  },
  {
   "cell_type": "code",
   "execution_count": null,
   "id": "0be1d3bf",
   "metadata": {},
   "outputs": [],
   "source": [
    "# Reset the data\n",
    "scores = generate_data()"
   ]
  },
  {
   "cell_type": "code",
   "execution_count": null,
   "id": "e7b06b9b",
   "metadata": {},
   "outputs": [],
   "source": [
    "def who_passed(df):\n",
    "    \"\"\"Get IDs of people who passed.\"\"\"\n",
    "    df[\"passed\"] = df[\"score\"] > 5.5\n",
    "    return list(df.loc[df[\"passed\"], \"id\"])\n",
    "\n",
    "# User just wants to know how many people passed...\n",
    "passed = who_passed(scores)\n",
    "print(f\"Passed: \", passed)\n",
    "\n",
    "# But now the data has changed unexpectedly!\n",
    "scores"
   ]
  },
  {
   "cell_type": "code",
   "execution_count": null,
   "id": "7d512342",
   "metadata": {},
   "outputs": [],
   "source": [
    "# Reset the data data\n",
    "scores = generate_data()\n",
    "\n",
    "# Using assign() returns a copy.\n",
    "scores.assign(passed=scores[\"score\"] > 5.5)"
   ]
  },
  {
   "cell_type": "code",
   "execution_count": null,
   "id": "8fd1189a",
   "metadata": {},
   "outputs": [],
   "source": [
    "# Original DataFrame is left unchanged!\n",
    "scores"
   ]
  },
  {
   "cell_type": "code",
   "execution_count": null,
   "id": "4697639a",
   "metadata": {},
   "outputs": [],
   "source": [
    "# Performing multiple assignments.\n",
    "(\n",
    "    scores\n",
    "    .assign(\n",
    "\n",
    "        # Compute passed column using the existing score column.\n",
    "        passed=scores[\"score\"] > 5.5,\n",
    "        \n",
    "        # Compute label using outcome of the previous step.\n",
    "        # Note: passed column is *NOT* in the original DataFrame!\n",
    "        # Pandas passes the modified DataFrame on from the previous assign.\n",
    "        label=lambda df: df[\"passed\"].replace({True: \"Passed\", False: \"Failed\"}),\n",
    "\n",
    "    )\n",
    ")"
   ]
  },
  {
   "cell_type": "code",
   "execution_count": null,
   "id": "561fe8f0",
   "metadata": {},
   "outputs": [],
   "source": []
  },
  {
   "cell_type": "markdown",
   "id": "b3dfa82f",
   "metadata": {},
   "source": [
    "## Applying Functions"
   ]
  },
  {
   "cell_type": "code",
   "execution_count": null,
   "id": "782a3449",
   "metadata": {},
   "outputs": [],
   "source": [
    "df = pd.DataFrame({\n",
    "    \"name\": [\"john\", \"JANE\", \"Jack\"],\n",
    "    \"lastname\": [\"doe\", \"DOE\", \"DOE\"],\n",
    "    \"age\": [45, 26, None],\n",
    "})\n",
    "df"
   ]
  },
  {
   "cell_type": "code",
   "execution_count": null,
   "id": "c084a188",
   "metadata": {},
   "outputs": [],
   "source": [
    "# Using functions on columns is identical to Series.\n",
    "df[\"name\"].map(str.capitalize)"
   ]
  },
  {
   "cell_type": "code",
   "execution_count": null,
   "id": "5f9ac547",
   "metadata": {},
   "outputs": [],
   "source": [
    "# Use apply() to apply a function to a row.\n",
    "# Note: Use axis=1 to get rows.\n",
    "_ = df.apply(\n",
    "    lambda row: print(list(row)),\n",
    "    axis=1\n",
    ")"
   ]
  },
  {
   "cell_type": "code",
   "execution_count": null,
   "id": "71469e49",
   "metadata": {},
   "outputs": [],
   "source": [
    "def make_fullname(person, case):\n",
    "    \"\"\"Generate full name for a person.\"\"\"\n",
    "    fullname = person[\"name\"] + \" \" + person[\"lastname\"]\n",
    "    \n",
    "    if case == \"lower\":\n",
    "        return fullname.lower()\n",
    "    return fullname.upper()\n",
    "    "
   ]
  },
  {
   "cell_type": "code",
   "execution_count": null,
   "id": "b0dfdd06",
   "metadata": {},
   "outputs": [],
   "source": [
    "make_fullname({\"name\": \"JOHN\", \"lastname\": \"DOE\"}, case=\"lower\")"
   ]
  },
  {
   "cell_type": "code",
   "execution_count": null,
   "id": "1155b9b7",
   "metadata": {},
   "outputs": [],
   "source": [
    "# Function arguments can be provided through apply(). \n",
    "df.apply(\n",
    "    make_fullname,\n",
    "    axis=1,\n",
    "    \n",
    "    # Arguments for make_fullname\n",
    "    case=\"lower\",\n",
    ")"
   ]
  },
  {
   "cell_type": "code",
   "execution_count": null,
   "id": "b6937ad5",
   "metadata": {},
   "outputs": [],
   "source": [
    "# Use applymap() to apply a function to all DataFrame cells.\n",
    "df[[\"name\", \"lastname\"]].applymap(\n",
    "    lambda v: v.upper()\n",
    ")"
   ]
  },
  {
   "cell_type": "code",
   "execution_count": null,
   "id": "47e7ad98",
   "metadata": {},
   "outputs": [],
   "source": []
  },
  {
   "cell_type": "markdown",
   "id": "92a2e10f",
   "metadata": {},
   "source": [
    "### Method Chaining"
   ]
  },
  {
   "cell_type": "code",
   "execution_count": null,
   "id": "f8fa5094",
   "metadata": {},
   "outputs": [],
   "source": [
    "df"
   ]
  },
  {
   "cell_type": "code",
   "execution_count": null,
   "id": "0574424c",
   "metadata": {},
   "outputs": [],
   "source": [
    "# Method chaining can produce cleaner code!\n",
    "(\n",
    "    df\n",
    "    .loc[~df[\"age\"].isna()]\n",
    "    .assign(\n",
    "        name=df[\"name\"].str.capitalize(),\n",
    "        lastname=df[\"lastname\"].str.capitalize(),\n",
    "        full_name=lambda df: df[\"name\"] + \" \" + df[\"lastname\"],\n",
    "    )\n",
    "    .sort_values(\"age\")\n",
    ")"
   ]
  },
  {
   "cell_type": "code",
   "execution_count": null,
   "id": "80192b65",
   "metadata": {},
   "outputs": [],
   "source": []
  }
 ],
 "metadata": {
  "kernelspec": {
   "display_name": "Python 3 (ipykernel)",
   "language": "python",
   "name": "python3"
  },
  "language_info": {
   "codemirror_mode": {
    "name": "ipython",
    "version": 3
   },
   "file_extension": ".py",
   "mimetype": "text/x-python",
   "name": "python",
   "nbconvert_exporter": "python",
   "pygments_lexer": "ipython3",
   "version": "3.9.18"
  }
 },
 "nbformat": 4,
 "nbformat_minor": 5
}
