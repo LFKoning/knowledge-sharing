{
 "cells": [
  {
   "cell_type": "markdown",
   "id": "04b76955",
   "metadata": {},
   "source": [
    "# DataFrame: Manipulation"
   ]
  },
  {
   "cell_type": "code",
   "execution_count": null,
   "id": "4ed91873",
   "metadata": {},
   "outputs": [],
   "source": [
    "import datetime as dt\n",
    "\n",
    "import numpy as np\n",
    "import pandas as pd"
   ]
  },
  {
   "cell_type": "markdown",
   "id": "dafe06f6",
   "metadata": {},
   "source": [
    "## Creating Columns"
   ]
  },
  {
   "cell_type": "code",
   "execution_count": null,
   "id": "6b1d5af7",
   "metadata": {},
   "outputs": [],
   "source": [
    "def generate_data():\n",
    "    \"\"\"Return some dummy data.\"\"\"\n",
    "    return pd.DataFrame({\n",
    "        \"id\": [\"a\", \"b\", \"c\", \"d\"],\n",
    "        \"score\": [4, 6, 9, 8],\n",
    "    })\n",
    "\n",
    "scores = generate_data()\n",
    "scores"
   ]
  },
  {
   "cell_type": "code",
   "execution_count": null,
   "id": "ceba7cf3",
   "metadata": {},
   "outputs": [],
   "source": [
    "# Assign directly using brackets [].\n",
    "# Note: Changes DataFrame in place!\n",
    "scores[\"passed\"] = scores[\"score\"] > 5.5\n",
    "scores"
   ]
  },
  {
   "cell_type": "code",
   "execution_count": null,
   "id": "e7b06b9b",
   "metadata": {},
   "outputs": [],
   "source": [
    "def number_passed(df):\n",
    "    \"\"\"Compute number of people who passed.\"\"\"\n",
    "    df[\"passed\"] = df[\"score\"] > 5.5\n",
    "    return df[\"passed\"].sum()\n",
    "\n",
    "\n",
    "# Generate data\n",
    "scores = generate_data()\n",
    "\n",
    "# User just wants to know how many people passed\n",
    "print(f\"Number passed: \", number_passed(scores))\n",
    "\n",
    "# But DataFrame has changed (unexpectedly)...\n",
    "scores"
   ]
  },
  {
   "cell_type": "code",
   "execution_count": null,
   "id": "7d512342",
   "metadata": {},
   "outputs": [],
   "source": [
    "# Generate data\n",
    "scores = generate_data()\n",
    "\n",
    "# Using assign() returns a copy.\n",
    "scores.assign(passed=scores[\"score\"] > 5.5)"
   ]
  },
  {
   "cell_type": "code",
   "execution_count": null,
   "id": "8fd1189a",
   "metadata": {},
   "outputs": [],
   "source": [
    "# Original DataFrame is left unchanged!\n",
    "scores"
   ]
  },
  {
   "cell_type": "code",
   "execution_count": null,
   "id": "4697639a",
   "metadata": {},
   "outputs": [],
   "source": [
    "# Performing multiple assignments.\n",
    "# Note: Use lambda when columns was created in a previous step!\n",
    "(\n",
    "    scores\n",
    "    .assign(\n",
    "\n",
    "        # Compute passed using existing `score` column.\n",
    "        passed=scores[\"score\"] > 5.5,\n",
    "        \n",
    "        # Compute label using column `passed` from previous step.\n",
    "        passed_label=lambda df: df[\"passed\"].replace({True: \"Passed\", False: \"Failed\"}),\n",
    "\n",
    "    )\n",
    ")"
   ]
  },
  {
   "cell_type": "code",
   "execution_count": null,
   "id": "561fe8f0",
   "metadata": {},
   "outputs": [],
   "source": []
  },
  {
   "cell_type": "markdown",
   "id": "b3dfa82f",
   "metadata": {},
   "source": [
    "## Applying Functions"
   ]
  },
  {
   "cell_type": "code",
   "execution_count": null,
   "id": "782a3449",
   "metadata": {},
   "outputs": [],
   "source": [
    "df = pd.DataFrame({\n",
    "    \"name\": [\"john\", \"JANE\", \"Jack\"],\n",
    "    \"lastname\": [\"doe\", \"DOE\", \"DOE\"],\n",
    "    \"age\": [45, 26, None],\n",
    "})\n",
    "df"
   ]
  },
  {
   "cell_type": "code",
   "execution_count": null,
   "id": "c084a188",
   "metadata": {},
   "outputs": [],
   "source": [
    "# Using functions on columns is identical to Series.\n",
    "df[\"name\"].map(str.capitalize)"
   ]
  },
  {
   "cell_type": "code",
   "execution_count": null,
   "id": "406dd7c8",
   "metadata": {},
   "outputs": [],
   "source": [
    "def print_info(row):\n",
    "    \"\"\"Print row information.\"\"\"\n",
    "    print(\"Type:   \", type(row))\n",
    "    print(\"Index:  \", row.index)\n",
    "    print(\"Values: \", row.values)\n",
    "    print(\"-\" * 60)"
   ]
  },
  {
   "cell_type": "code",
   "execution_count": null,
   "id": "5f9ac547",
   "metadata": {},
   "outputs": [],
   "source": [
    "# Use apply() to apply a function to a row.\n",
    "# Note: Use axis=1 to get rows.\n",
    "df.apply(print_info, axis=1)"
   ]
  },
  {
   "cell_type": "code",
   "execution_count": null,
   "id": "71469e49",
   "metadata": {},
   "outputs": [],
   "source": [
    "def fullname(person, case=\"capitalize\"):\n",
    "    \"\"\"Generate full name for a person.\"\"\"\n",
    "    case = getattr(str, case, \"capitalize\")\n",
    "    \n",
    "    name = case(person[\"name\"])\n",
    "    lastname = case(person[\"lastname\"])\n",
    "    \n",
    "    return f\"{name} {lastname}\""
   ]
  },
  {
   "cell_type": "code",
   "execution_count": null,
   "id": "1155b9b7",
   "metadata": {},
   "outputs": [],
   "source": [
    "# Function arguments can be provided through apply(). \n",
    "df.apply(\n",
    "    fullname,\n",
    "    axis=1,\n",
    "    \n",
    "    # Function arguments\n",
    "    case=\"upper\",\n",
    ")"
   ]
  },
  {
   "cell_type": "code",
   "execution_count": null,
   "id": "b6937ad5",
   "metadata": {},
   "outputs": [],
   "source": [
    "# Use applymap() to apply a function to all cells in a DataFrame.\n",
    "df.applymap(\n",
    "    lambda v: v.capitalize() if hasattr(v, \"capitalize\") else v\n",
    ")"
   ]
  },
  {
   "cell_type": "code",
   "execution_count": null,
   "id": "47e7ad98",
   "metadata": {},
   "outputs": [],
   "source": []
  },
  {
   "cell_type": "markdown",
   "id": "92a2e10f",
   "metadata": {},
   "source": [
    "### Method Chaining"
   ]
  },
  {
   "cell_type": "code",
   "execution_count": null,
   "id": "0574424c",
   "metadata": {},
   "outputs": [],
   "source": [
    "# Using method chaining produces clean code\n",
    "(\n",
    "    df\n",
    "    .fillna({\"age\": -1})\n",
    "    .applymap(\n",
    "        lambda v: v.capitalize() if hasattr(v, \"capitalize\") else v\n",
    "    )\n",
    "    .assign(fullname=df.apply(fullname, axis=1))\n",
    "    .sort_values(\"age\")\n",
    ")"
   ]
  },
  {
   "cell_type": "code",
   "execution_count": null,
   "id": "80192b65",
   "metadata": {},
   "outputs": [],
   "source": []
  }
 ],
 "metadata": {
  "kernelspec": {
   "display_name": "Python 3 (ipykernel)",
   "language": "python",
   "name": "python3"
  },
  "language_info": {
   "codemirror_mode": {
    "name": "ipython",
    "version": 3
   },
   "file_extension": ".py",
   "mimetype": "text/x-python",
   "name": "python",
   "nbconvert_exporter": "python",
   "pygments_lexer": "ipython3",
   "version": "3.9.16"
  }
 },
 "nbformat": 4,
 "nbformat_minor": 5
}
