{
 "cells": [
  {
   "cell_type": "markdown",
   "id": "04b76955",
   "metadata": {},
   "source": [
    "# DataFrame: Aggregation"
   ]
  },
  {
   "cell_type": "code",
   "execution_count": null,
   "id": "4ed91873",
   "metadata": {},
   "outputs": [],
   "source": [
    "import pandas as pd"
   ]
  },
  {
   "cell_type": "code",
   "execution_count": null,
   "id": "2990a197",
   "metadata": {},
   "outputs": [],
   "source": [
    "# Generate dummy data.\n",
    "df = pd.DataFrame({\n",
    "    \"id\": [\"a\", \"b\", \"c\", \"d\", \"e\", \"f\", \"g\", \"h\", \"i\"],\n",
    "    \"city\": [\"Amsterdam\"] * 3 + [\"Utrecht\"] * 3 + [\"Beek\"] * 3,\n",
    "    \"state\": [\"Noord-Holland\"] * 3 + [\"Utrecht\"] * 3 + [\"Gelderland\"] * 2 + [\"Limburg\"],\n",
    "    \"age\": [22, 41, 36, 27, 22, 56, 72, 44, 16],\n",
    "    \"score\": [8, 7, 4, 9, 6, 7, 6, 8, 7],\n",
    "})\n",
    "df"
   ]
  },
  {
   "cell_type": "code",
   "execution_count": null,
   "id": "0be4d32b",
   "metadata": {},
   "outputs": [],
   "source": [
    "# Create grouped data using groupby().\n",
    "df.groupby(\"city\")"
   ]
  },
  {
   "cell_type": "code",
   "execution_count": null,
   "id": "d96b0a04",
   "metadata": {},
   "outputs": [],
   "source": [
    "# Can loop through the groups...\n",
    "for city, df_city in df.groupby(\"city\"):\n",
    "    print(\"City: \", city)\n",
    "    print(df_city)\n",
    "    print(\"-\" * 42)"
   ]
  },
  {
   "cell_type": "code",
   "execution_count": null,
   "id": "cd2da0dc",
   "metadata": {},
   "outputs": [],
   "source": [
    "# Use an aggregation function to summarize the groups.\n",
    "# Note: city became the index of the new DataFrame.\n",
    "df.groupby(\"city\").sum()"
   ]
  },
  {
   "cell_type": "code",
   "execution_count": null,
   "id": "8450d472",
   "metadata": {},
   "outputs": [],
   "source": [
    "# The agg() method provides more control over the aggregations.\n",
    "(\n",
    "    df\n",
    "    .groupby(\"city\")\n",
    "    .agg({\n",
    "        \"age\": \"mean\",\n",
    "        \"score\": \"sum\",\n",
    "    })\n",
    ")"
   ]
  },
  {
   "cell_type": "code",
   "execution_count": null,
   "id": "832f7be5",
   "metadata": {},
   "outputs": [],
   "source": [
    "# To get multiple aggregations for a column, use a list.\n",
    "# Note: Results in an inconvenient MultiIndex on the columns...\n",
    "(\n",
    "    df\n",
    "    .groupby(\"city\")\n",
    "    .agg({\n",
    "        \"age\": [\"mean\", \"std\", \"count\", \"min\", \"max\"],\n",
    "        \"score\": [\"sum\", \"min\", \"max\"],\n",
    "    })\n",
    ")"
   ]
  },
  {
   "cell_type": "code",
   "execution_count": null,
   "id": "131a35d5",
   "metadata": {},
   "outputs": [],
   "source": [
    "# Can provide a custom aggregartion function.\n",
    "(\n",
    "    df\n",
    "    .groupby(\"city\")\n",
    "    .agg({\n",
    "        \"age\": lambda ages: (ages > 18).sum(),\n",
    "    })\n",
    ")"
   ]
  },
  {
   "cell_type": "code",
   "execution_count": null,
   "id": "145f256b",
   "metadata": {},
   "outputs": [],
   "source": [
    "# Avoid a MultiIndex using this syntax.\n",
    "aggregated = (\n",
    "    df\n",
    "    .groupby(\"city\")\n",
    "    .agg(\n",
    "        age_mean=(\"age\", \"mean\"),\n",
    "        age_std=(\"age\", \"std\"),\n",
    "        score_total=(\"score\", \"sum\"),\n",
    "        score_min=(\"score\", \"min\"),\n",
    "        score_max=(\"score\", \"max\"),\n",
    "    )\n",
    ")\n",
    "aggregated"
   ]
  },
  {
   "cell_type": "code",
   "execution_count": null,
   "id": "808e812a",
   "metadata": {},
   "outputs": [],
   "source": [
    "# Group by multiple columns using a list.\n",
    "(\n",
    "    df\n",
    "    .groupby([\"city\", \"state\"])\n",
    "    .agg(\n",
    "        age_mean=(\"age\", \"mean\"),\n",
    "        age_std=(\"age\", \"std\"),\n",
    "        score_total=(\"score\", \"sum\"),\n",
    "        score_min=(\"score\", \"min\"),\n",
    "        score_max=(\"score\", \"max\"),\n",
    "    )\n",
    ")"
   ]
  },
  {
   "cell_type": "code",
   "execution_count": null,
   "id": "8e9c3151",
   "metadata": {},
   "outputs": [],
   "source": [
    "# Set as_index to False to avoid row MultiIndex.\n",
    "(\n",
    "    df\n",
    "    .groupby([\"city\", \"state\"], as_index=False)\n",
    "    .agg(\n",
    "        age_mean=(\"age\", \"mean\"),\n",
    "        age_std=(\"age\", \"std\"),\n",
    "        score_total=(\"score\", \"sum\"),\n",
    "        score_min=(\"score\", \"min\"),\n",
    "        score_max=(\"score\", \"max\"),\n",
    "    )\n",
    ")"
   ]
  },
  {
   "cell_type": "code",
   "execution_count": null,
   "id": "e6df6c57",
   "metadata": {},
   "outputs": [],
   "source": []
  },
  {
   "cell_type": "markdown",
   "id": "9d287cda",
   "metadata": {},
   "source": [
    "## Melt"
   ]
  },
  {
   "cell_type": "code",
   "execution_count": null,
   "id": "5eb0647c",
   "metadata": {},
   "outputs": [],
   "source": [
    "df = pd.DataFrame(\n",
    "    {\n",
    "        \"Temperature\": [11.2, 15.3, 14.8, 12.5, 10.5],\n",
    "        \"Sunshine\": [5.5, 7.5, 6.8, 5.6, 4.6],\n",
    "        \"Precipitation\": [3.5, 0.5, 0.0, 0.0, 3.4],\n",
    "    },\n",
    "    index=pd.date_range(\"2022-3-1\", \"2022-3-5\")\n",
    ")\n",
    "df"
   ]
  },
  {
   "cell_type": "code",
   "execution_count": null,
   "id": "b5fd9aba",
   "metadata": {},
   "outputs": [],
   "source": [
    "# Transform to long format using melt().\n",
    "df.melt()"
   ]
  },
  {
   "cell_type": "code",
   "execution_count": null,
   "id": "26d616a0",
   "metadata": {},
   "outputs": [],
   "source": [
    "# Keep the original index\n",
    "df.melt(ignore_index=False)"
   ]
  },
  {
   "cell_type": "code",
   "execution_count": null,
   "id": "a84ff835",
   "metadata": {},
   "outputs": [],
   "source": [
    "# Use var_name and value_name to adjust column names\n",
    "df_long = df.melt(\n",
    "    var_name=\"measure\",\n",
    "    value_name=\"value\",\n",
    "    ignore_index=False,\n",
    ")\n",
    "df_long"
   ]
  },
  {
   "cell_type": "code",
   "execution_count": null,
   "id": "f4b97a2e",
   "metadata": {},
   "outputs": [],
   "source": []
  },
  {
   "cell_type": "markdown",
   "id": "db2ce385",
   "metadata": {},
   "source": [
    "## Pivot"
   ]
  },
  {
   "cell_type": "code",
   "execution_count": null,
   "id": "ecd47086",
   "metadata": {},
   "outputs": [],
   "source": [
    "# Pivot reverses long format back to wide format.\n",
    "df_long.pivot(\n",
    "    columns=\"measure\",\n",
    "    values=\"value\",\n",
    ")\n"
   ]
  },
  {
   "cell_type": "code",
   "execution_count": null,
   "id": "242e4bbe",
   "metadata": {},
   "outputs": [],
   "source": []
  }
 ],
 "metadata": {
  "kernelspec": {
   "display_name": "Python 3 (ipykernel)",
   "language": "python",
   "name": "python3"
  },
  "language_info": {
   "codemirror_mode": {
    "name": "ipython",
    "version": 3
   },
   "file_extension": ".py",
   "mimetype": "text/x-python",
   "name": "python",
   "nbconvert_exporter": "python",
   "pygments_lexer": "ipython3",
   "version": "3.9.18"
  }
 },
 "nbformat": 4,
 "nbformat_minor": 5
}
