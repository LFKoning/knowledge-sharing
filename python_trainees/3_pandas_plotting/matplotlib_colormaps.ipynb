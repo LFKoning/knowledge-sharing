{
 "cells": [
  {
   "cell_type": "code",
   "execution_count": null,
   "id": "e642d5dd",
   "metadata": {},
   "outputs": [],
   "source": [
    "import random\n",
    "\n",
    "import numpy as np\n",
    "import pandas as pd\n",
    "\n",
    "import matplotlib as mpl\n",
    "import matplotlib.pyplot as plt\n",
    "import matplotlib.cm as cmaps"
   ]
  },
  {
   "cell_type": "markdown",
   "id": "6f3c5e94",
   "metadata": {},
   "source": [
    "## Colormaps en colorbars"
   ]
  },
  {
   "cell_type": "markdown",
   "id": "9db2ebc0",
   "metadata": {},
   "source": [
    "Reference:\n",
    "https://matplotlib.org/stable/gallery/color/colormap_reference.html"
   ]
  },
  {
   "cell_type": "code",
   "execution_count": null,
   "id": "c6848ba5",
   "metadata": {},
   "outputs": [],
   "source": [
    "# Reset the style\n",
    "mpl.style.use(\"default\")"
   ]
  },
  {
   "cell_type": "code",
   "execution_count": null,
   "id": "96192c99",
   "metadata": {
    "scrolled": false
   },
   "outputs": [],
   "source": [
    "# All available color maps\n",
    "color_maps = [\n",
    "    _ for _ in dir(cmaps)\n",
    "    if \"matplotlib.colors\" in str(getattr(cmaps, _))\n",
    "]\n",
    "color_maps[0:5]"
   ]
  },
  {
   "cell_type": "code",
   "execution_count": null,
   "id": "e2aa59f0",
   "metadata": {},
   "outputs": [],
   "source": [
    "# Preview a few color maps\n",
    "for cmap in np.random.choice(color_maps, 5):\n",
    "    display(getattr(cmaps, cmap))"
   ]
  },
  {
   "cell_type": "code",
   "execution_count": null,
   "id": "9480f0c8",
   "metadata": {},
   "outputs": [],
   "source": [
    "# Blues color map\n",
    "cmaps.Blues"
   ]
  },
  {
   "cell_type": "code",
   "execution_count": null,
   "id": "4195b6af",
   "metadata": {},
   "outputs": [],
   "source": [
    "# Convert numbers [0 - 1] into RGB color specifications\n",
    "# Note: 2.0 is out of bounds and gets same value as 1.0\n",
    "data = [0, 0.5, 1.0, 2.0]\n",
    "blues = cmaps.Blues(data)\n",
    "blues"
   ]
  },
  {
   "cell_type": "code",
   "execution_count": null,
   "id": "07ae102f",
   "metadata": {
    "scrolled": false
   },
   "outputs": [],
   "source": [
    "# Plot conversions\n",
    "fig = plt.figure(figsize=(len(data), 1))\n",
    "for idx, shade in enumerate(blues):\n",
    "    ax = fig.add_subplot(1, len(data), idx + 1)\n",
    "    ax.imshow([[shade]])\n",
    "    ax.axis(\"off\")\n",
    "    ax.set_title(data[idx])"
   ]
  },
  {
   "cell_type": "code",
   "execution_count": null,
   "id": "7e48e7a5",
   "metadata": {},
   "outputs": [],
   "source": [
    "# Generate some data\n",
    "n = 50\n",
    "x = np.random.normal(10, 3, n)\n",
    "y = 1.2 * x + np.random.normal(0, 5, n)\n",
    "s = np.random.uniform(0, 100, n)"
   ]
  },
  {
   "cell_type": "code",
   "execution_count": null,
   "id": "9c9cb9f3",
   "metadata": {},
   "outputs": [],
   "source": [
    "# Scatterplot with colormap applied to it\n",
    "fig = plt.figure(figsize=(6, 5))\n",
    "ax = fig.add_subplot(111)\n",
    "ax.set_title(\"Scatter with Colormap\")\n",
    "\n",
    "# Note: Use c instead of color when using data values!\n",
    "ax.scatter(x, y, alpha=0.7, c=s, cmap='Blues')"
   ]
  },
  {
   "cell_type": "markdown",
   "id": "18c0e680",
   "metadata": {},
   "source": [
    "## Colorbar"
   ]
  },
  {
   "cell_type": "code",
   "execution_count": null,
   "id": "8d74ec0d",
   "metadata": {
    "scrolled": false
   },
   "outputs": [],
   "source": [
    "fig = plt.figure(figsize=(6, 5))\n",
    "ax = fig.add_subplot(111)\n",
    "ax.set_title(\"Scatter with Colorbar\")\n",
    "scatter = ax.scatter(x, y, alpha=0.7, c=s, cmap='Blues')\n",
    "\n",
    "# Note: Provide the scatterplot as input to colorbar\n",
    "fig.colorbar(scatter)"
   ]
  },
  {
   "cell_type": "code",
   "execution_count": null,
   "id": "e50b6823",
   "metadata": {},
   "outputs": [],
   "source": [
    "fig = plt.figure(figsize=(5, 6))\n",
    "ax = fig.add_subplot(111)\n",
    "ax.set_title(\"Scatter with Colorbar\")\n",
    "\n",
    "# Explicitely define min and max values\n",
    "scatter = ax.scatter(x, y, alpha=0.7, c=s, cmap='Blues', vmin=0, vmax=100)\n",
    "\n",
    "# Horizontal color bar\n",
    "fig.colorbar(scatter, orientation=\"horizontal\")"
   ]
  },
  {
   "cell_type": "code",
   "execution_count": null,
   "id": "f0835810",
   "metadata": {},
   "outputs": [],
   "source": []
  }
 ],
 "metadata": {
  "kernelspec": {
   "display_name": "Python 3 (ipykernel)",
   "language": "python",
   "name": "python3"
  },
  "language_info": {
   "codemirror_mode": {
    "name": "ipython",
    "version": 3
   },
   "file_extension": ".py",
   "mimetype": "text/x-python",
   "name": "python",
   "nbconvert_exporter": "python",
   "pygments_lexer": "ipython3",
   "version": "3.9.16"
  }
 },
 "nbformat": 4,
 "nbformat_minor": 5
}
