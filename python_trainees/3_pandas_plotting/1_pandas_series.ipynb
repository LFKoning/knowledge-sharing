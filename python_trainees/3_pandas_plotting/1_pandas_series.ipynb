{
 "cells": [
  {
   "cell_type": "code",
   "execution_count": null,
   "id": "4ed91873",
   "metadata": {},
   "outputs": [],
   "source": [
    "import sys\n",
    "import math\n",
    "import datetime as dt\n",
    "\n",
    "import numpy as np\n",
    "import pandas as pd"
   ]
  },
  {
   "cell_type": "markdown",
   "id": "7032060b",
   "metadata": {},
   "source": [
    "# Pandas vs Python"
   ]
  },
  {
   "cell_type": "code",
   "execution_count": null,
   "id": "2f1b08c2",
   "metadata": {},
   "outputs": [],
   "source": [
    "# Create pandas Series of integers\n",
    "x = [1] * 20_000\n",
    "series = pd.Series(x)\n",
    "type(series)"
   ]
  },
  {
   "cell_type": "code",
   "execution_count": null,
   "id": "63dbcb45",
   "metadata": {},
   "outputs": [],
   "source": [
    "# Using pandas data stays inside numpy\n",
    "%timeit -n 100 series.sum()"
   ]
  },
  {
   "cell_type": "code",
   "execution_count": null,
   "id": "03442674",
   "metadata": {},
   "outputs": [],
   "source": [
    "# Python's sum forces data transfers...\n",
    "%timeit -n 100 sum(series)"
   ]
  },
  {
   "cell_type": "code",
   "execution_count": null,
   "id": "7ab568a2",
   "metadata": {},
   "outputs": [],
   "source": [
    "# Just using a list..\n",
    "%timeit -n 100 sum(x)"
   ]
  },
  {
   "cell_type": "markdown",
   "id": "e042734d",
   "metadata": {},
   "source": [
    "# Series"
   ]
  },
  {
   "cell_type": "code",
   "execution_count": null,
   "id": "532b0986",
   "metadata": {},
   "outputs": [],
   "source": [
    "# Series of integers, data type turns int `int64`\n",
    "s = pd.Series([1, 2, 3, 4])\n",
    "s"
   ]
  },
  {
   "cell_type": "code",
   "execution_count": null,
   "id": "85e1e386",
   "metadata": {},
   "outputs": [],
   "source": [
    "# Series support indexing\n",
    "s[1]"
   ]
  },
  {
   "cell_type": "code",
   "execution_count": null,
   "id": "f6c53513",
   "metadata": {},
   "outputs": [],
   "source": [
    "# And slicing too\n",
    "s[1:3]"
   ]
  },
  {
   "cell_type": "code",
   "execution_count": null,
   "id": "450f3024",
   "metadata": {},
   "outputs": [],
   "source": [
    "# Non-numeric typically gets type `object`.\n",
    "txt = pd.Series([\"A\", \"B\", \"C\"] * 10)\n",
    "txt[0:3]"
   ]
  },
  {
   "cell_type": "code",
   "execution_count": null,
   "id": "0aff4f07",
   "metadata": {},
   "outputs": [],
   "source": [
    "# Categorical data type often more efficient.\n",
    "cat = pd.Series([\"A\", \"B\", \"C\"] * 10, dtype=\"category\")\n",
    "cat[0:3]"
   ]
  },
  {
   "cell_type": "code",
   "execution_count": null,
   "id": "10a4c3d0",
   "metadata": {},
   "outputs": [],
   "source": [
    "print(\"Size object:      \", sys.getsizeof(txt))\n",
    "print(\"Size categorical: \", sys.getsizeof(cat))"
   ]
  },
  {
   "cell_type": "code",
   "execution_count": null,
   "id": "b328dc63",
   "metadata": {},
   "outputs": [],
   "source": []
  },
  {
   "cell_type": "markdown",
   "id": "0f6340c0",
   "metadata": {},
   "source": [
    "## Cast data type"
   ]
  },
  {
   "cell_type": "code",
   "execution_count": null,
   "id": "cbfa60b6",
   "metadata": {},
   "outputs": [],
   "source": [
    "# Series met float getallen.\n",
    "s = pd.Series([1.1, 2.2, 3.3])\n",
    "s"
   ]
  },
  {
   "cell_type": "code",
   "execution_count": null,
   "id": "0a7c0a08",
   "metadata": {},
   "outputs": [],
   "source": [
    "# Cast naar integer via astype()\n",
    "# Merk op: Deel na de punt gaat verloren!\n",
    "s.astype(int)"
   ]
  },
  {
   "cell_type": "code",
   "execution_count": null,
   "id": "d3be365a",
   "metadata": {},
   "outputs": [],
   "source": [
    "# ValueError bij ongeldige conversie\n",
    "# Merk op: Vergelijkbaar met casts in Python\n",
    "pd.Series([\"A\", \"B\", \"C\"]).astype(int)"
   ]
  },
  {
   "cell_type": "code",
   "execution_count": null,
   "id": "1e9ac9b5",
   "metadata": {},
   "outputs": [],
   "source": [
    "# Het standaard integer type ondersteunt geen ontbrekende data\n",
    "pd.Series([1, 2, None]).astype(int)"
   ]
  },
  {
   "cell_type": "code",
   "execution_count": null,
   "id": "e929583b",
   "metadata": {},
   "outputs": [],
   "source": []
  },
  {
   "cell_type": "markdown",
   "id": "5882dccf",
   "metadata": {},
   "source": [
    "# Descriptieve informatie"
   ]
  },
  {
   "cell_type": "code",
   "execution_count": null,
   "id": "978f35d6",
   "metadata": {},
   "outputs": [],
   "source": [
    "# Willekeurige numerieke en categorische waardes\n",
    "n = 150\n",
    "cat = pd.Series(np.random.choice([\"A\",\"B\", \"C\", \"D\"], n))\n",
    "num = pd.Series(np.random.normal(0, 1, n))"
   ]
  },
  {
   "cell_type": "code",
   "execution_count": null,
   "id": "f67719e2",
   "metadata": {},
   "outputs": [],
   "source": [
    "# Numerieke statistieken\n",
    "num.describe()"
   ]
  },
  {
   "cell_type": "code",
   "execution_count": null,
   "id": "a504472d",
   "metadata": {},
   "outputs": [],
   "source": [
    "# Of met aggregatie functies...\n",
    "print(f\"Mean:   {num.mean():8.3f}\")\n",
    "print(f\"median: {num.median():8.3f}\")\n",
    "print(f\"SD:     {num.std():8.3f}\")"
   ]
  },
  {
   "cell_type": "code",
   "execution_count": null,
   "id": "802f0600",
   "metadata": {},
   "outputs": [],
   "source": [
    "# Via .plot interface kun je histogram opvragen\n",
    "(\n",
    "    num\n",
    "    .plot\n",
    "    .hist(\n",
    "        bins=50,\n",
    "        edgecolor=\"white\",\n",
    "        figsize=(6, 3)\n",
    "    )\n",
    ")"
   ]
  },
  {
   "cell_type": "code",
   "execution_count": null,
   "id": "aae8d934",
   "metadata": {},
   "outputs": [],
   "source": []
  },
  {
   "cell_type": "code",
   "execution_count": null,
   "id": "8a381c36",
   "metadata": {},
   "outputs": [],
   "source": [
    "# Categorische statistieken\n",
    "cat.describe()"
   ]
  },
  {
   "cell_type": "code",
   "execution_count": null,
   "id": "a9525954",
   "metadata": {},
   "outputs": [],
   "source": [
    "# Unieke waardes en aantal uniek\n",
    "print(f\"Unieke waardes:         {cat.unique()}\")\n",
    "print(f\"Aantal unieke waardes:  {cat.nunique()}\")"
   ]
  },
  {
   "cell_type": "code",
   "execution_count": null,
   "id": "3a6fff8f",
   "metadata": {},
   "outputs": [],
   "source": [
    "# Frequentie van alle unieke waardes\n",
    "cat.value_counts(sort=True)"
   ]
  },
  {
   "cell_type": "code",
   "execution_count": null,
   "id": "73af5027",
   "metadata": {},
   "outputs": [],
   "source": [
    "# Staafdiagram met frequenties\n",
    "# Merk op: count_values() geeft een Series terug.\n",
    "(\n",
    "    cat\n",
    "    .value_counts()\n",
    "    .plot\n",
    "    .barh(\n",
    "        figsize=(6, 3)\n",
    "    )\n",
    ")"
   ]
  },
  {
   "cell_type": "code",
   "execution_count": null,
   "id": "9f59184a",
   "metadata": {},
   "outputs": [],
   "source": []
  },
  {
   "cell_type": "markdown",
   "id": "94b091c6",
   "metadata": {},
   "source": [
    "# Bewerkingen"
   ]
  },
  {
   "cell_type": "code",
   "execution_count": null,
   "id": "0f97f925",
   "metadata": {},
   "outputs": [],
   "source": [
    "num = pd.Series([-2, -1, 0, 1, 2])"
   ]
  },
  {
   "cell_type": "code",
   "execution_count": null,
   "id": "fd763548",
   "metadata": {},
   "outputs": [],
   "source": [
    "# Standaard mathematische operatoren werken direct op Series\n",
    "num ** 2 / 2"
   ]
  },
  {
   "cell_type": "code",
   "execution_count": null,
   "id": "8c31051d",
   "metadata": {},
   "outputs": [],
   "source": []
  },
  {
   "cell_type": "code",
   "execution_count": null,
   "id": "00a9718e",
   "metadata": {},
   "outputs": [],
   "source": [
    "# Zelf gedefinieerde verwerkingsfunctie\n",
    "def abs_sqrt(x):\n",
    "    return abs(x) ** 0.5"
   ]
  },
  {
   "cell_type": "code",
   "execution_count": null,
   "id": "871fa7fa",
   "metadata": {},
   "outputs": [],
   "source": [
    "# Toepassen via map() methode\n",
    "num.map(abs_sqrt)"
   ]
  },
  {
   "cell_type": "code",
   "execution_count": null,
   "id": "7d997005",
   "metadata": {},
   "outputs": [],
   "source": [
    "# Korter met lambda functie\n",
    "num.map(lambda x: abs(x) ** 0.24)"
   ]
  },
  {
   "cell_type": "code",
   "execution_count": null,
   "id": "45e3488f",
   "metadata": {},
   "outputs": [],
   "source": []
  },
  {
   "cell_type": "markdown",
   "id": "8f4ab2b4",
   "metadata": {},
   "source": [
    "## Accessors"
   ]
  },
  {
   "cell_type": "code",
   "execution_count": null,
   "id": "1c6282d0",
   "metadata": {},
   "outputs": [],
   "source": [
    "# Series met tekst objecten\n",
    "names = pd.Series([\"henk\", \"INGRID\", \"Joop\"])"
   ]
  },
  {
   "cell_type": "code",
   "execution_count": null,
   "id": "9277b07b",
   "metadata": {},
   "outputs": [],
   "source": [
    "# Homogeniseren met lambda functie\n",
    "names.map(lambda n: n.capitalize())"
   ]
  },
  {
   "cell_type": "code",
   "execution_count": null,
   "id": "abdbb28f",
   "metadata": {},
   "outputs": [],
   "source": [
    "# Of direct via str accessor\n",
    "names.str.capitalize()"
   ]
  },
  {
   "cell_type": "code",
   "execution_count": null,
   "id": "b7aaecb8",
   "metadata": {},
   "outputs": [],
   "source": [
    "# Je kunt methodes aan elkaar rijgen.\n",
    "# Merk op: Een lambda is wellicht beter leesbaar...\n",
    "names.str.strip().str.capitalize()"
   ]
  },
  {
   "cell_type": "code",
   "execution_count": null,
   "id": "da5b8a32",
   "metadata": {},
   "outputs": [],
   "source": [
    "# Met contains() kun je checken of karakters voorkomen.\n",
    "# De functie ondersteunt ook regular expressions.\n",
    "names.str.contains(\"i\", case=False)"
   ]
  },
  {
   "cell_type": "code",
   "execution_count": null,
   "id": "835daf15",
   "metadata": {},
   "outputs": [],
   "source": [
    "# Series met datum objecten\n",
    "dates = pd.Series(pd.date_range(\"2022-01-01\", \"2022-01-05\"))\n",
    "dates"
   ]
  },
  {
   "cell_type": "code",
   "execution_count": null,
   "id": "0841a31f",
   "metadata": {},
   "outputs": [],
   "source": [
    "# Additionele eigenschappen via dt accessor\n",
    "dates.dt.day"
   ]
  },
  {
   "cell_type": "code",
   "execution_count": null,
   "id": "19c2d91d",
   "metadata": {},
   "outputs": [],
   "source": [
    "# Of conversie naar str formaat\n",
    "dates.dt.strftime(\"%A %d %B %Y\")"
   ]
  },
  {
   "cell_type": "code",
   "execution_count": null,
   "id": "108f74d9",
   "metadata": {},
   "outputs": [],
   "source": []
  },
  {
   "cell_type": "markdown",
   "id": "ee35efff",
   "metadata": {},
   "source": [
    "## Volgorde en rang"
   ]
  },
  {
   "cell_type": "code",
   "execution_count": null,
   "id": "32430017",
   "metadata": {},
   "outputs": [],
   "source": [
    "# Willekeurige numerieke Series\n",
    "num = pd.Series([3, 6, 4, 2, 7, 1])\n",
    "num"
   ]
  },
  {
   "cell_type": "code",
   "execution_count": null,
   "id": "64622a0d",
   "metadata": {},
   "outputs": [],
   "source": [
    "# Standaard oplopend gesorteerd\n",
    "# Merk op: De indices blijven gekoppeld!\n",
    "num.sort_values()"
   ]
  },
  {
   "cell_type": "code",
   "execution_count": null,
   "id": "ccc39c19",
   "metadata": {},
   "outputs": [],
   "source": [
    "# Aflopend sorteren\n",
    "num.sort_values(ascending=False)"
   ]
  },
  {
   "cell_type": "code",
   "execution_count": null,
   "id": "96305cf3",
   "metadata": {},
   "outputs": [],
   "source": [
    "# Rangorde van de waardes\n",
    "# Merk op: Laagste waarde = laagste rang vanwege ascending argument\n",
    "num.rank(ascending=True)"
   ]
  },
  {
   "cell_type": "code",
   "execution_count": null,
   "id": "7cd58b17",
   "metadata": {},
   "outputs": [],
   "source": [
    "# Rangorde van de waardes als percentage\n",
    "num.rank(pct=True) * 100"
   ]
  },
  {
   "cell_type": "code",
   "execution_count": null,
   "id": "23b37229",
   "metadata": {},
   "outputs": [],
   "source": []
  },
  {
   "cell_type": "markdown",
   "id": "29616121",
   "metadata": {},
   "source": [
    "# Indices en index types"
   ]
  },
  {
   "cell_type": "code",
   "execution_count": null,
   "id": "cf068744",
   "metadata": {},
   "outputs": [],
   "source": [
    "# De index is beschikbaar via het .index attribuut.\n",
    "# Merk op: Pandas maakt automatisch een RangeIndex aan.\n",
    "scores = pd.Series([1, 2, 3, 4])\n",
    "scores.index"
   ]
  },
  {
   "cell_type": "code",
   "execution_count": null,
   "id": "e3668a7e",
   "metadata": {},
   "outputs": [],
   "source": [
    "scores"
   ]
  },
  {
   "cell_type": "code",
   "execution_count": null,
   "id": "6edd6393",
   "metadata": {},
   "outputs": [],
   "source": [
    "# Indexeren via de RangeIndex\n",
    "scores[1]"
   ]
  },
  {
   "cell_type": "code",
   "execution_count": null,
   "id": "df463e3d",
   "metadata": {},
   "outputs": [],
   "source": [
    "# Met index parameter kunnen andere labels worden opgegeven.\n",
    "# Merk op: Geen RangeIndex, maar Index van type object.\n",
    "scores = pd.Series([1, 2, 3, 4], index=[\"Piet\", \"Jan\", \"Ingrid\", \"Henk\"])\n",
    "scores.index"
   ]
  },
  {
   "cell_type": "code",
   "execution_count": null,
   "id": "cf6ebf56",
   "metadata": {},
   "outputs": [],
   "source": [
    "# Series nog steeds numeriek te indexeren\n",
    "scores[1]"
   ]
  },
  {
   "cell_type": "code",
   "execution_count": null,
   "id": "008bc570",
   "metadata": {},
   "outputs": [],
   "source": [
    "# Maar nu ook via de labels\n",
    "scores[\"Jan\"]"
   ]
  },
  {
   "cell_type": "code",
   "execution_count": null,
   "id": "deb9ed5e",
   "metadata": {},
   "outputs": [],
   "source": [
    "# En zelfs te slices...\n",
    "scores[\"Jan\":\"Henk\"]"
   ]
  },
  {
   "cell_type": "code",
   "execution_count": null,
   "id": "7ca9ca48",
   "metadata": {},
   "outputs": [],
   "source": [
    "# Indices kun je sorteren\n",
    "scores.sort_index()"
   ]
  },
  {
   "cell_type": "code",
   "execution_count": null,
   "id": "5492151a",
   "metadata": {},
   "outputs": [],
   "source": [
    "# Ook tijdstippen kunnen als index dienen.\n",
    "max_temp = pd.Series(\n",
    "    [\n",
    "        2.1,\n",
    "        1.5,\n",
    "        -0.5,\n",
    "        -2.1\n",
    "    ],\n",
    "    index=[\n",
    "        dt.datetime(2022, 12, 15),  # Donderdag 15-12-2022\n",
    "        dt.datetime(2022, 12, 16),  # Vrijdag   16-12-2022\n",
    "        dt.datetime(2022, 12, 19),  # Maandag   19-12-2022\n",
    "        dt.datetime(2022, 12, 20),  # Dinsdag   20-12-2022\n",
    "    ]\n",
    ")\n",
    "max_temp"
   ]
  },
  {
   "cell_type": "code",
   "execution_count": null,
   "id": "74cbc65f",
   "metadata": {},
   "outputs": [],
   "source": [
    "# Index is type DatetimeIndex.\n",
    "max_temp.index"
   ]
  },
  {
   "cell_type": "code",
   "execution_count": null,
   "id": "095259c5",
   "metadata": {},
   "outputs": [],
   "source": [
    "# Resample naar 1 meting per dag en interpoleer\n",
    "# Merk op: Ontbrekende waardes zijn ingevuld\n",
    "(\n",
    "    max_temp\n",
    "    .resample(\"1D\")\n",
    "    .interpolate()\n",
    ")"
   ]
  },
  {
   "cell_type": "code",
   "execution_count": null,
   "id": "db9e3195",
   "metadata": {},
   "outputs": [],
   "source": []
  },
  {
   "cell_type": "markdown",
   "id": "1a95fd66",
   "metadata": {},
   "source": [
    "## Uitlijnen indices"
   ]
  },
  {
   "cell_type": "code",
   "execution_count": null,
   "id": "36e8b4e9",
   "metadata": {},
   "outputs": [],
   "source": [
    "# Numerieke Series\n",
    "num = pd.Series([-2, -1, 0, 1, 2])\n",
    "num"
   ]
  },
  {
   "cell_type": "code",
   "execution_count": null,
   "id": "6e366a25",
   "metadata": {},
   "outputs": [],
   "source": [
    "# Nieuwe Series met aflopende Index\n",
    "mult = pd.Series([2, 1, 0, -1, -2], index=[4, 3, 2, 1, 0])\n",
    "mult"
   ]
  },
  {
   "cell_type": "code",
   "execution_count": null,
   "id": "0e51a23d",
   "metadata": {},
   "outputs": [],
   "source": [
    "# Vermenigvuldiging van beide Series\n",
    "# Merk op: De waardes worden gekoppeld via de indices!\n",
    "num * mult"
   ]
  },
  {
   "cell_type": "code",
   "execution_count": null,
   "id": "3e285cc0",
   "metadata": {},
   "outputs": [],
   "source": [
    "# Series met categorische index labels\n",
    "scores = pd.Series([5, 8, 6], index=[\"Jan\", \"Ingrid\", \"Henk\"])\n",
    "scores.index"
   ]
  },
  {
   "cell_type": "code",
   "execution_count": null,
   "id": "fd20c58e",
   "metadata": {},
   "outputs": [],
   "source": [
    "# Update Series met een aantal overlappende labels\n",
    "update = pd.Series([1, 1, 1], index=[\"Jan\", \"Ingrid\", \"Klaas\"])\n",
    "update"
   ]
  },
  {
   "cell_type": "code",
   "execution_count": null,
   "id": "1dbf4691",
   "metadata": {},
   "outputs": [],
   "source": [
    "scores"
   ]
  },
  {
   "cell_type": "code",
   "execution_count": null,
   "id": "81104c37",
   "metadata": {},
   "outputs": [],
   "source": [
    "# Optelsom van beide Series\n",
    "# Merk op: Alleen gedeelde indices krijgen een resultaat!\n",
    "scores + update"
   ]
  },
  {
   "cell_type": "code",
   "execution_count": null,
   "id": "365ebf11",
   "metadata": {},
   "outputs": [],
   "source": []
  },
  {
   "cell_type": "markdown",
   "id": "08dba478",
   "metadata": {},
   "source": [
    "## Conditional Selections"
   ]
  },
  {
   "cell_type": "code",
   "execution_count": null,
   "id": "0f0bff07",
   "metadata": {},
   "outputs": [],
   "source": [
    "num"
   ]
  },
  {
   "cell_type": "code",
   "execution_count": null,
   "id": "bad8fa2b",
   "metadata": {},
   "outputs": [],
   "source": [
    "# Select using boolean values\n",
    "num[\n",
    "    [False, False, True, True , True]\n",
    "]"
   ]
  },
  {
   "cell_type": "code",
   "execution_count": null,
   "id": "8518e02a",
   "metadata": {},
   "outputs": [],
   "source": [
    "# Boolean operaties werken op Series\n",
    "# Merk op: retourneert een bool Series\n",
    "num >= 0"
   ]
  },
  {
   "cell_type": "code",
   "execution_count": null,
   "id": "7961f41e",
   "metadata": {},
   "outputs": [],
   "source": [
    "# Gebruik masker voor selectie\n",
    "num[num >= 0]"
   ]
  },
  {
   "cell_type": "code",
   "execution_count": null,
   "id": "04da6569",
   "metadata": {},
   "outputs": [],
   "source": [
    "# Combinatie van condities\n",
    "# Merk op: Je moet haken om de condities plaatsen!\n",
    "num[(num < 0) | (num > 0)]"
   ]
  },
  {
   "cell_type": "code",
   "execution_count": null,
   "id": "d2978263",
   "metadata": {},
   "outputs": [],
   "source": [
    "(num < 0) | (num > 0)"
   ]
  },
  {
   "cell_type": "code",
   "execution_count": null,
   "id": "4d33d0c0",
   "metadata": {},
   "outputs": [],
   "source": []
  }
 ],
 "metadata": {
  "kernelspec": {
   "display_name": "Python 3 (ipykernel)",
   "language": "python",
   "name": "python3"
  },
  "language_info": {
   "codemirror_mode": {
    "name": "ipython",
    "version": 3
   },
   "file_extension": ".py",
   "mimetype": "text/x-python",
   "name": "python",
   "nbconvert_exporter": "python",
   "pygments_lexer": "ipython3",
   "version": "3.9.16"
  }
 },
 "nbformat": 4,
 "nbformat_minor": 5
}
