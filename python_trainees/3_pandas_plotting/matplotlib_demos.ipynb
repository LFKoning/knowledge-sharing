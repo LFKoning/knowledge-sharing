{
 "cells": [
  {
   "cell_type": "code",
   "execution_count": null,
   "id": "e642d5dd",
   "metadata": {},
   "outputs": [],
   "source": [
    "import datetime as dt\n",
    "\n",
    "import numpy as np\n",
    "import pandas as pd\n",
    "\n",
    "import matplotlib as mpl\n",
    "import matplotlib.pyplot as plt"
   ]
  },
  {
   "cell_type": "markdown",
   "id": "8e6d0f84",
   "metadata": {},
   "source": [
    "## Axis"
   ]
  },
  {
   "cell_type": "code",
   "execution_count": null,
   "id": "8be0582e",
   "metadata": {},
   "outputs": [],
   "source": [
    "# Dummy data\n",
    "n = 500\n",
    "revenue = 1000 + np.random.lognormal(5, 2, n) * 1000\n",
    "#d = [dt.date(2023, 2, d) for d in x]\n"
   ]
  },
  {
   "cell_type": "code",
   "execution_count": null,
   "id": "78a63d1f",
   "metadata": {},
   "outputs": [],
   "source": [
    "fig, ax = plt.subplots(1, 1, figsize=(6, 3))\n",
    "ax.hist(revenue, bins=50, edgecolor=\"white\")\n",
    "\n",
    "# Use set method to set all labels at once\n",
    "ax.set(\n",
    "    title=\"Histogram of revenue\",\n",
    "    xlabel=\"Revenue\",\n",
    "    ylabel=\"Frequency\",\n",
    ")"
   ]
  },
  {
   "cell_type": "code",
   "execution_count": null,
   "id": "ba61cdea",
   "metadata": {},
   "outputs": [],
   "source": [
    "# Axis scaling\n",
    "fig, ax = plt.subplots(1, 1, figsize=(6, 3))\n",
    "ax.hist(revenue, bins=50, edgecolor=\"white\")\n",
    "ax.set(\n",
    "    title=\"Histogram of revenue\",\n",
    "    xlabel=\"Revenue\",\n",
    "    ylabel=\"Frequency\",\n",
    ")\n",
    "\n",
    "# Scale axis using set_xscale / set_yscale\n",
    "ax.set_yscale(\"log\")"
   ]
  },
  {
   "cell_type": "markdown",
   "id": "d7e71bab",
   "metadata": {},
   "source": [
    "## Annotations"
   ]
  },
  {
   "cell_type": "code",
   "execution_count": null,
   "id": "a78f3168",
   "metadata": {},
   "outputs": [],
   "source": [
    "# Dummy data\n",
    "x = [1, 2, 3, 4, 5, 6]\n",
    "y = [4, 2, 5, 8, 9, 5]"
   ]
  },
  {
   "cell_type": "code",
   "execution_count": null,
   "id": "27179740",
   "metadata": {},
   "outputs": [],
   "source": [
    "# Create the line plot\n",
    "fig = plt.figure(figsize=(5, 3))\n",
    "ax = fig.add_subplot(111)\n",
    "ax.plot(x, y, marker=\".\")\n",
    "ax.set_title(\"Annotated line graph\")\n",
    "\n",
    "for px, py in zip(x, y):\n",
    "    # Arguments: <text>, (<x>, <y>)\n",
    "    ax.annotate(py, (px, py))\n",
    "\n",
    "fig.tight_layout()"
   ]
  },
  {
   "cell_type": "markdown",
   "id": "733642d9",
   "metadata": {},
   "source": [
    "For styling annotations / texts see:\n",
    "\n",
    "https://matplotlib.org/stable/api/text_api.html#matplotlib.text.Text"
   ]
  },
  {
   "cell_type": "code",
   "execution_count": null,
   "id": "ee58a55f",
   "metadata": {
    "scrolled": false
   },
   "outputs": [],
   "source": [
    "fig = plt.figure(figsize=(5, 3))\n",
    "ax = fig.add_subplot(111)\n",
    "ax.plot(x, y, marker=\".\", color=\"blue\")\n",
    "ax.set_title(\"Annotated line graph\")\n",
    "\n",
    "for px, py in zip(x, y):\n",
    "    ax.annotate(\n",
    "        py,\n",
    "        \n",
    "        # x and y of the point to annotate\n",
    "        (px, py),\n",
    "        \n",
    "        # Offset x and y relative to the data point\n",
    "        xytext=(0, 10),\n",
    "        textcoords='offset points',\n",
    "        \n",
    "        # Alignment options (alternative: ha / va)\n",
    "        horizontalalignment=\"center\",\n",
    "        verticalalignment=\"bottom\",\n",
    "        \n",
    "        # Styling options on text element\n",
    "        color=\"blue\",\n",
    "        backgroundcolor=\"#efefef\",  \n",
    "        \n",
    "        # Styling of bounding box\n",
    "        bbox={\n",
    "            \"edgecolor\": \"black\",\n",
    "            \"facecolor\": \"#efefef\",\n",
    "        }\n",
    "    )\n",
    "\n",
    "ax.set_ylim([min(y) - 1, max(y) + 2])\n",
    "fig.tight_layout()"
   ]
  },
  {
   "cell_type": "markdown",
   "id": "89444891",
   "metadata": {},
   "source": [
    "## Subplots"
   ]
  },
  {
   "cell_type": "code",
   "execution_count": null,
   "id": "6e273cc7",
   "metadata": {},
   "outputs": [],
   "source": [
    "# Subplots and indices\n",
    "fig = plt.figure(figsize=(6, 4))\n",
    "\n",
    "ax1 = fig.add_subplot(3, 3, (1, 6))\n",
    "ax1.plot([1, 2, 3], [4, 5, 6])\n",
    "\n",
    "ax2 = fig.add_subplot(3, 3, (7, 8))\n",
    "ax2.scatter(x=[1, 2, 3], y=[4, 5, 6])\n",
    "\n",
    "ax3 = fig.add_subplot(3, 3, 9)\n",
    "ax3.scatter(x=[1, 2, 3], y=[4, 5, 6])\n",
    "\n",
    "\n",
    "fig.tight_layout()"
   ]
  },
  {
   "cell_type": "code",
   "execution_count": null,
   "id": "b3310969",
   "metadata": {},
   "outputs": [],
   "source": [
    "# Using a GridSpec\n",
    "fig = plt.figure(figsize=(9, 9))\n",
    "grid = fig.add_gridspec(3, 3)\n",
    "\n",
    "ax1 = fig.add_subplot(grid[0, 2])\n",
    "ax1.plot([1, 2, 3], [4, 5, 6])\n",
    "\n",
    "ax2 = fig.add_subplot(grid[0:3, 0:2])\n",
    "ax2.plot([1, 2, 3], [6, 5, 4])"
   ]
  },
  {
   "cell_type": "code",
   "execution_count": null,
   "id": "2b5b60bb",
   "metadata": {},
   "outputs": [],
   "source": []
  }
 ],
 "metadata": {
  "kernelspec": {
   "display_name": "Python 3 (ipykernel)",
   "language": "python",
   "name": "python3"
  },
  "language_info": {
   "codemirror_mode": {
    "name": "ipython",
    "version": 3
   },
   "file_extension": ".py",
   "mimetype": "text/x-python",
   "name": "python",
   "nbconvert_exporter": "python",
   "pygments_lexer": "ipython3",
   "version": "3.9.16"
  }
 },
 "nbformat": 4,
 "nbformat_minor": 5
}
