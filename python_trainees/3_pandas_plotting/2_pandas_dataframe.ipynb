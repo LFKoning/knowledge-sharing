{
 "cells": [
  {
   "cell_type": "markdown",
   "id": "04b76955",
   "metadata": {},
   "source": [
    "# DataFrame"
   ]
  },
  {
   "cell_type": "code",
   "execution_count": 2,
   "id": "4ed91873",
   "metadata": {},
   "outputs": [],
   "source": [
    "import datetime as dt\n",
    "\n",
    "import numpy as np\n",
    "import pandas as pd"
   ]
  },
  {
   "cell_type": "code",
   "execution_count": null,
   "id": "04703afd",
   "metadata": {},
   "outputs": [],
   "source": [
    "# DataFrame construction using a dict.\n",
    "pd.DataFrame(\n",
    "    {\n",
    "        \"col_int\":   [1, 2, 3, 4],\n",
    "        \"col_float\": [1.1, 2.2, 3.3, 4.4],\n",
    "        \"col_str\":   list(\"ABCD\"),\n",
    "    }\n",
    ")"
   ]
  },
  {
   "cell_type": "code",
   "execution_count": null,
   "id": "9fd2edeb",
   "metadata": {},
   "outputs": [],
   "source": [
    "# Or using a matrix and column / index descriptions.\n",
    "pd.DataFrame(\n",
    "    data=(\n",
    "        (1, 1.1, \"A\"),\n",
    "        (2, 2.2, \"B\"),\n",
    "        (3, 3.3, \"C\"),\n",
    "        (4, 4.4, \"D\"),\n",
    "    ),\n",
    "    columns=[\"col_int\", \"col_float\", \"col_str\"],\n",
    "    index=[\"a\", \"b\", \"c\", \"d\"],\n",
    ")"
   ]
  },
  {
   "cell_type": "code",
   "execution_count": null,
   "id": "afd89876",
   "metadata": {},
   "outputs": [],
   "source": [
    "# However, most often you will load data from a file.\n",
    "pd.read_csv(\n",
    "    \"../0_data/persons/personal_data.csv\",\n",
    "    header=None,\n",
    "    names=[\"name\", \"gender\", \"age\"],\n",
    ")"
   ]
  },
  {
   "cell_type": "markdown",
   "id": "4e2c8bab",
   "metadata": {},
   "source": [
    "## Descriptive Statistics"
   ]
  },
  {
   "cell_type": "code",
   "execution_count": null,
   "id": "5549b787",
   "metadata": {},
   "outputs": [],
   "source": [
    "# Create dummy data.\n",
    "dummy_df = pd.DataFrame(\n",
    "    {\n",
    "        \"col_int\": [1, 2, 3, 4],\n",
    "        \"col_float\": [1.1, 2.2, 3.3, 4.4],\n",
    "        \"col_str\": list(\"ABCD\"),\n",
    "    },\n",
    "    index=[\"alpha\", \"beta\", \"gamma\", \"delta\"]\n",
    ")\n",
    "dummy_df"
   ]
  },
  {
   "cell_type": "code",
   "execution_count": null,
   "id": "a12efed0",
   "metadata": {},
   "outputs": [],
   "source": [
    "# DataFrame dimensions: Tuple(nrows, ncolumns).\n",
    "dummy_df.shape"
   ]
  },
  {
   "cell_type": "code",
   "execution_count": null,
   "id": "ceb2c2c8",
   "metadata": {},
   "outputs": [],
   "source": [
    "# Ger row labels (index) using index attribute.\n",
    "dummy_df.index"
   ]
  },
  {
   "cell_type": "code",
   "execution_count": null,
   "id": "11d5081c",
   "metadata": {},
   "outputs": [],
   "source": [
    "# Get column names using columns attribute.\n",
    "# Note: column names are an Index too.\n",
    "dummy_df.columns"
   ]
  },
  {
   "cell_type": "code",
   "execution_count": null,
   "id": "f3c98265",
   "metadata": {},
   "outputs": [],
   "source": [
    "# List column types using dtypes attribute.\n",
    "# Note: Returns series with column names as index.\n",
    "dummy_df.dtypes"
   ]
  },
  {
   "cell_type": "code",
   "execution_count": null,
   "id": "72d1a967",
   "metadata": {},
   "outputs": [],
   "source": [
    "# DataFrame also provides a describe() method.\n",
    "# Note: Only includes numeric columns by default.\n",
    "dummy_df.describe()"
   ]
  },
  {
   "cell_type": "code",
   "execution_count": null,
   "id": "933918df",
   "metadata": {},
   "outputs": [],
   "source": [
    "# You can specify data types using include parameter\n",
    "# Example options: \"number\", \"object\", \"category\".\n",
    "dummy_df.describe(include=[\"object\"])"
   ]
  },
  {
   "cell_type": "code",
   "execution_count": null,
   "id": "86a188b6",
   "metadata": {},
   "outputs": [],
   "source": [
    "# The info method provides more technical details.\n",
    "dummy_df.info()"
   ]
  },
  {
   "cell_type": "code",
   "execution_count": null,
   "id": "31515cfc",
   "metadata": {},
   "outputs": [],
   "source": [
    "# Describe omits object data from memory usage by default!\n",
    "# Use memory_usage=\"deep\" to see the actual memory usage.\n",
    "dummy_df.info(memory_usage=\"deep\")"
   ]
  },
  {
   "cell_type": "code",
   "execution_count": null,
   "id": "4d34d84b",
   "metadata": {},
   "outputs": [],
   "source": []
  },
  {
   "cell_type": "markdown",
   "id": "e77e8bc4",
   "metadata": {},
   "source": [
    "## Selecting Data"
   ]
  },
  {
   "cell_type": "code",
   "execution_count": 3,
   "id": "7e12bc9a",
   "metadata": {},
   "outputs": [],
   "source": [
    "# Create dummy data.\n",
    "dummy_df = pd.DataFrame(\n",
    "    {\n",
    "        \"col_int\": [1, 2, 3, 4],\n",
    "        \"col_float\": [1.1, 2.2, 3.3, 4.4],\n",
    "        \"col_str\": list(\"ABCD\"),\n",
    "    },\n",
    "    index=[\"alpha\", \"beta\", \"gamma\", \"delta\"]\n",
    ")"
   ]
  },
  {
   "cell_type": "code",
   "execution_count": null,
   "id": "a84161b3",
   "metadata": {},
   "outputs": [],
   "source": [
    "# String => Selects column as a Series\n",
    "dummy_df[\"col_int\"]"
   ]
  },
  {
   "cell_type": "code",
   "execution_count": null,
   "id": "1f5dae97",
   "metadata": {},
   "outputs": [],
   "source": [
    "type(dummy_df[\"col_int\"])"
   ]
  },
  {
   "cell_type": "code",
   "execution_count": null,
   "id": "8f6ae51c",
   "metadata": {},
   "outputs": [],
   "source": [
    "# List => Select column(s) as a DataFrame\n",
    "dummy_df[[\"col_int\", \"col_float\"]]"
   ]
  },
  {
   "cell_type": "code",
   "execution_count": null,
   "id": "b22c8e69",
   "metadata": {},
   "outputs": [],
   "source": [
    "# List => Even a single column returns a DataFrame!\n",
    "dummy_df[[\"col_int\"]]"
   ]
  },
  {
   "cell_type": "code",
   "execution_count": null,
   "id": "919b663e",
   "metadata": {},
   "outputs": [],
   "source": [
    "# Slice => Select rows using a numeric range.\n",
    "# Note: Selection includes row 0 and 1.\n",
    "dummy_df[0:2]"
   ]
  },
  {
   "cell_type": "code",
   "execution_count": null,
   "id": "fe70ce95",
   "metadata": {},
   "outputs": [],
   "source": [
    "# Slice: Can also use index labels.\n",
    "# Note: Selection includes \"gamma\"!\n",
    "dummy_df[\"alpha\":\"gamma\"]"
   ]
  },
  {
   "cell_type": "markdown",
   "id": "462ee14b",
   "metadata": {},
   "source": [
    "### Selecting Rows and Columns"
   ]
  },
  {
   "cell_type": "code",
   "execution_count": null,
   "id": "9efe48d1",
   "metadata": {},
   "outputs": [],
   "source": [
    "# Select rows and columns in two steps:\n",
    "# Select rows first and then columns.\n",
    "dummy_df[0:2][[\"col_int\", \"col_float\"]]"
   ]
  },
  {
   "cell_type": "code",
   "execution_count": null,
   "id": "aec1c11c",
   "metadata": {},
   "outputs": [],
   "source": [
    "# Selectie van rijen en kolommen met .loc[]\n",
    "# Merk op: Loc werkt met labels voor zowel rijen als kolommen!\n",
    "dummy_df.loc[\n",
    "    # rijen, [kolommen]\n",
    "    \"a\":\"b\", [\"int\", \"float\"]\n",
    "]"
   ]
  },
  {
   "cell_type": "code",
   "execution_count": null,
   "id": "0148d775",
   "metadata": {},
   "outputs": [],
   "source": [
    "# Met .iloc[] kun je positionele selectie maken\n",
    "# Merk op: Zowel rijen als kolommen *moeten* positioneel...\n",
    "dummy_df.iloc[0:2, [0, 1]]"
   ]
  },
  {
   "cell_type": "markdown",
   "id": "292aef7d",
   "metadata": {},
   "source": [
    "### Conditional Selection"
   ]
  },
  {
   "cell_type": "code",
   "execution_count": 4,
   "id": "f4a36888",
   "metadata": {},
   "outputs": [
    {
     "data": {
      "text/html": [
       "<div>\n",
       "<style scoped>\n",
       "    .dataframe tbody tr th:only-of-type {\n",
       "        vertical-align: middle;\n",
       "    }\n",
       "\n",
       "    .dataframe tbody tr th {\n",
       "        vertical-align: top;\n",
       "    }\n",
       "\n",
       "    .dataframe thead th {\n",
       "        text-align: right;\n",
       "    }\n",
       "</style>\n",
       "<table border=\"1\" class=\"dataframe\">\n",
       "  <thead>\n",
       "    <tr style=\"text-align: right;\">\n",
       "      <th></th>\n",
       "      <th>col_int</th>\n",
       "      <th>col_float</th>\n",
       "      <th>col_str</th>\n",
       "    </tr>\n",
       "  </thead>\n",
       "  <tbody>\n",
       "    <tr>\n",
       "      <th>alpha</th>\n",
       "      <td>1</td>\n",
       "      <td>1.1</td>\n",
       "      <td>A</td>\n",
       "    </tr>\n",
       "    <tr>\n",
       "      <th>gamma</th>\n",
       "      <td>3</td>\n",
       "      <td>3.3</td>\n",
       "      <td>C</td>\n",
       "    </tr>\n",
       "  </tbody>\n",
       "</table>\n",
       "</div>"
      ],
      "text/plain": [
       "       col_int  col_float col_str\n",
       "alpha        1        1.1       A\n",
       "gamma        3        3.3       C"
      ]
     },
     "execution_count": 4,
     "metadata": {},
     "output_type": "execute_result"
    }
   ],
   "source": [
    "# Select rows using boolean values\n",
    "mask = [True, False, True, False]\n",
    "dummy_df[mask]"
   ]
  },
  {
   "cell_type": "code",
   "execution_count": 13,
   "id": "3bb65b33",
   "metadata": {},
   "outputs": [
    {
     "data": {
      "text/plain": [
       "alpha     True\n",
       "beta      True\n",
       "gamma    False\n",
       "delta    False\n",
       "Name: col_int, dtype: bool"
      ]
     },
     "execution_count": 13,
     "metadata": {},
     "output_type": "execute_result"
    }
   ],
   "source": [
    "# Use a logical operator to create a series of boolean values\n",
    "dummy_df[\"col_int\"] < 3"
   ]
  },
  {
   "cell_type": "code",
   "execution_count": 11,
   "id": "94808061",
   "metadata": {},
   "outputs": [
    {
     "data": {
      "text/html": [
       "<div>\n",
       "<style scoped>\n",
       "    .dataframe tbody tr th:only-of-type {\n",
       "        vertical-align: middle;\n",
       "    }\n",
       "\n",
       "    .dataframe tbody tr th {\n",
       "        vertical-align: top;\n",
       "    }\n",
       "\n",
       "    .dataframe thead th {\n",
       "        text-align: right;\n",
       "    }\n",
       "</style>\n",
       "<table border=\"1\" class=\"dataframe\">\n",
       "  <thead>\n",
       "    <tr style=\"text-align: right;\">\n",
       "      <th></th>\n",
       "      <th>col_int</th>\n",
       "      <th>col_float</th>\n",
       "      <th>col_str</th>\n",
       "    </tr>\n",
       "  </thead>\n",
       "  <tbody>\n",
       "    <tr>\n",
       "      <th>alpha</th>\n",
       "      <td>1</td>\n",
       "      <td>1.1</td>\n",
       "      <td>A</td>\n",
       "    </tr>\n",
       "    <tr>\n",
       "      <th>beta</th>\n",
       "      <td>2</td>\n",
       "      <td>2.2</td>\n",
       "      <td>B</td>\n",
       "    </tr>\n",
       "  </tbody>\n",
       "</table>\n",
       "</div>"
      ],
      "text/plain": [
       "       col_int  col_float col_str\n",
       "alpha        1        1.1       A\n",
       "beta         2        2.2       B"
      ]
     },
     "execution_count": 11,
     "metadata": {},
     "output_type": "execute_result"
    }
   ],
   "source": [
    "# Then use it to select DataFrame rows\n",
    "dummy_df[dummy_df[\"col_int\"] < 3]"
   ]
  },
  {
   "cell_type": "code",
   "execution_count": 15,
   "id": "62dd33fd",
   "metadata": {},
   "outputs": [
    {
     "data": {
      "text/html": [
       "<div>\n",
       "<style scoped>\n",
       "    .dataframe tbody tr th:only-of-type {\n",
       "        vertical-align: middle;\n",
       "    }\n",
       "\n",
       "    .dataframe tbody tr th {\n",
       "        vertical-align: top;\n",
       "    }\n",
       "\n",
       "    .dataframe thead th {\n",
       "        text-align: right;\n",
       "    }\n",
       "</style>\n",
       "<table border=\"1\" class=\"dataframe\">\n",
       "  <thead>\n",
       "    <tr style=\"text-align: right;\">\n",
       "      <th></th>\n",
       "      <th>col_int</th>\n",
       "      <th>col_float</th>\n",
       "      <th>col_str</th>\n",
       "    </tr>\n",
       "  </thead>\n",
       "  <tbody>\n",
       "    <tr>\n",
       "      <th>alpha</th>\n",
       "      <td>1</td>\n",
       "      <td>1.1</td>\n",
       "      <td>A</td>\n",
       "    </tr>\n",
       "    <tr>\n",
       "      <th>beta</th>\n",
       "      <td>2</td>\n",
       "      <td>2.2</td>\n",
       "      <td>B</td>\n",
       "    </tr>\n",
       "  </tbody>\n",
       "</table>\n",
       "</div>"
      ],
      "text/plain": [
       "       col_int  col_float col_str\n",
       "alpha        1        1.1       A\n",
       "beta         2        2.2       B"
      ]
     },
     "execution_count": 15,
     "metadata": {},
     "output_type": "execute_result"
    }
   ],
   "source": [
    "# Or use the query method instead\n",
    "dummy_df.query(\"col_int < 3\")"
   ]
  },
  {
   "cell_type": "code",
   "execution_count": 19,
   "id": "0a419377",
   "metadata": {},
   "outputs": [
    {
     "data": {
      "text/html": [
       "<div>\n",
       "<style scoped>\n",
       "    .dataframe tbody tr th:only-of-type {\n",
       "        vertical-align: middle;\n",
       "    }\n",
       "\n",
       "    .dataframe tbody tr th {\n",
       "        vertical-align: top;\n",
       "    }\n",
       "\n",
       "    .dataframe thead th {\n",
       "        text-align: right;\n",
       "    }\n",
       "</style>\n",
       "<table border=\"1\" class=\"dataframe\">\n",
       "  <thead>\n",
       "    <tr style=\"text-align: right;\">\n",
       "      <th></th>\n",
       "      <th>col_int</th>\n",
       "      <th>col_float</th>\n",
       "      <th>col_str</th>\n",
       "    </tr>\n",
       "  </thead>\n",
       "  <tbody>\n",
       "    <tr>\n",
       "      <th>alpha</th>\n",
       "      <td>1</td>\n",
       "      <td>1.1</td>\n",
       "      <td>A</td>\n",
       "    </tr>\n",
       "    <tr>\n",
       "      <th>beta</th>\n",
       "      <td>2</td>\n",
       "      <td>2.2</td>\n",
       "      <td>B</td>\n",
       "    </tr>\n",
       "    <tr>\n",
       "      <th>gamma</th>\n",
       "      <td>3</td>\n",
       "      <td>3.3</td>\n",
       "      <td>C</td>\n",
       "    </tr>\n",
       "  </tbody>\n",
       "</table>\n",
       "</div>"
      ],
      "text/plain": [
       "       col_int  col_float col_str\n",
       "alpha        1        1.1       A\n",
       "beta         2        2.2       B\n",
       "gamma        3        3.3       C"
      ]
     },
     "execution_count": 19,
     "metadata": {},
     "output_type": "execute_result"
    }
   ],
   "source": [
    "# Combining multiple conditions is easy using query\n",
    "dummy_df.query(\"col_int < 3 or col_str in ('A', 'C')\")"
   ]
  },
  {
   "cell_type": "code",
   "execution_count": null,
   "id": "ef4163dc",
   "metadata": {},
   "outputs": [],
   "source": []
  },
  {
   "cell_type": "markdown",
   "id": "258169de",
   "metadata": {},
   "source": [
    "### Samenvatting selecties\n",
    "\n",
    "**Kolommen selecteren**\n",
    "\n",
    "- `df[<str>]`        => Selecteert 1 kolom als `pandas.Series`.\n",
    "- `df[[<str>]]`      => Selecteert 1 of meer kolommen als `pandas.DataFrame`.\n",
    "\n",
    "**Rijen selecteren**\n",
    "\n",
    "- `df[<slice>]`      => Selecteert enkele rijen en alle kolommen als `pandas.DataFrame`.\n",
    "- `df.query(<str>)`  => Selecteerd rijen die voloen aan de query als `pandas.DataFrame`.\n",
    "\n",
    "**Rijen en kolommen selecteren**\n",
    "\n",
    "- `df.loc[<slice>, <str>]`  => Selects rows and single column as `pandas.Series`.\n",
    "- `df.loc[<slice>, <list>]`  => Selects rows and column(s) as `pandas.DataFrame`.\n",
    "- `df.iloc[<slice>, <list>]`  => Same as `loc` but using positional indexing."
   ]
  },
  {
   "cell_type": "code",
   "execution_count": null,
   "id": "4ba9c434",
   "metadata": {},
   "outputs": [],
   "source": []
  },
  {
   "cell_type": "markdown",
   "id": "dafe06f6",
   "metadata": {},
   "source": [
    "# Kolommen aanmaken / verwijderen"
   ]
  },
  {
   "cell_type": "code",
   "execution_count": null,
   "id": "6b1d5af7",
   "metadata": {},
   "outputs": [],
   "source": [
    "def maak_scores():\n",
    "    return pd.DataFrame({\n",
    "        \"id\": [\"a\", \"b\", \"c\", \"d\"],\n",
    "        \"score\": [4, 6, 9, 8],\n",
    "    })\n",
    "\n",
    "scores = maak_scores()\n",
    "scores"
   ]
  },
  {
   "cell_type": "code",
   "execution_count": null,
   "id": "ceba7cf3",
   "metadata": {},
   "outputs": [],
   "source": [
    "# Je kunt waardes direct toekennen aan een kolom.\n",
    "# Merk op: Originele DataFrame is gewijzigd (in place)!\n",
    "scores[\"voldoende\"] = scores[\"score\"] > 5.5\n",
    "scores"
   ]
  },
  {
   "cell_type": "code",
   "execution_count": null,
   "id": "5d62c8cc",
   "metadata": {},
   "outputs": [],
   "source": [
    "# Reset scores\n",
    "scores = maak_scores()\n",
    "scores"
   ]
  },
  {
   "cell_type": "code",
   "execution_count": null,
   "id": "e7b06b9b",
   "metadata": {},
   "outputs": [],
   "source": [
    "def aantal_voldoendes(df):\n",
    "    df[\"voldoende\"] = df[\"score\"] > 5.5\n",
    "    return df[\"voldoende\"].sum()\n",
    "\n",
    "\n",
    "# Gebruiker wil alleen aantal voldoendes weten...\n",
    "print(aantal_voldoendes(scores))\n",
    "\n",
    "# Maar krijgt er onverwacht een kolom bij!\n",
    "scores"
   ]
  },
  {
   "cell_type": "code",
   "execution_count": null,
   "id": "f95fe43b",
   "metadata": {},
   "outputs": [],
   "source": [
    "# Reset scores\n",
    "scores = maak_scores()"
   ]
  },
  {
   "cell_type": "code",
   "execution_count": null,
   "id": "f60665e6",
   "metadata": {},
   "outputs": [],
   "source": [
    "scores"
   ]
  },
  {
   "cell_type": "code",
   "execution_count": null,
   "id": "7d512342",
   "metadata": {},
   "outputs": [],
   "source": [
    "# Nettere manier via assign()\n",
    "scores.assign(voldoende=scores[\"score\"] > 5.5)"
   ]
  },
  {
   "cell_type": "code",
   "execution_count": null,
   "id": "8fd1189a",
   "metadata": {},
   "outputs": [],
   "source": [
    "# Merk op: Originele DataFrame is nu niet gewijzigd!\n",
    "scores"
   ]
  },
  {
   "cell_type": "code",
   "execution_count": null,
   "id": "4697639a",
   "metadata": {},
   "outputs": [],
   "source": [
    "# Meerdere kolommen tegelijk aanmaken.\n",
    "# Merk op: Gebruik lambda functie wanneer kolom niet in originele DataFrame zit!\n",
    "(\n",
    "    scores\n",
    "    .assign(\n",
    "\n",
    "        # Gebaseerd op bestaande kolom.\n",
    "        geslaagd=scores[\"score\"] > 5.5,\n",
    "        \n",
    "        # Gebaseerd op nieuwe kolom (uit vorige stap).\n",
    "        geslaagd_tekst=lambda df: df[\"geslaagd\"].replace({True: \"Geslaagd\", False: \"Gezakt\"}),\n",
    "\n",
    "    )\n",
    ")"
   ]
  },
  {
   "cell_type": "code",
   "execution_count": null,
   "id": "561fe8f0",
   "metadata": {},
   "outputs": [],
   "source": []
  },
  {
   "cell_type": "markdown",
   "id": "b3dfa82f",
   "metadata": {},
   "source": [
    "# Functies toepassen"
   ]
  },
  {
   "cell_type": "code",
   "execution_count": null,
   "id": "782a3449",
   "metadata": {},
   "outputs": [],
   "source": [
    "dummy_df = pd.DataFrame({\n",
    "    \"voornaam\": [\"henk\", \"INGRID\", \"Joop\"],\n",
    "    \"achternaam\": [\"jansen\", \"MAASSEN\", \"Braak\"],\n",
    "    \"leeftijd\": [45, 26, 44],\n",
    "})\n",
    "dummy_df"
   ]
  },
  {
   "cell_type": "code",
   "execution_count": null,
   "id": "c084a188",
   "metadata": {},
   "outputs": [],
   "source": [
    "# Functies op kolommen; identiek aan Series.\n",
    "dummy_df[\"voornaam\"].map(str.capitalize)"
   ]
  },
  {
   "cell_type": "code",
   "execution_count": null,
   "id": "406dd7c8",
   "metadata": {},
   "outputs": [],
   "source": [
    "def print_info(row):\n",
    "    \"\"\"Print informatie over een rij\"\"\"\n",
    "    print(\"Type:    \", type(row))\n",
    "    print(\"Index:   \", row.index)\n",
    "    print(\"Waardes: \", row.values)\n",
    "    print(\"-\" * 65)"
   ]
  },
  {
   "cell_type": "code",
   "execution_count": null,
   "id": "5f9ac547",
   "metadata": {},
   "outputs": [],
   "source": [
    "# Functies op rijen; gebruik apply()\n",
    "# Merk op: axis=1 geeft aan dat we over kolommen werken\n",
    "dummy_df.apply(print_info, axis=1)"
   ]
  },
  {
   "cell_type": "code",
   "execution_count": null,
   "id": "69cca9f0",
   "metadata": {},
   "outputs": [],
   "source": [
    "def volledige_naam(persoon):\n",
    "    \"\"\"Genereer volledige naam uit voor en achternaam.\"\"\"\n",
    "    voornaam = persoon[\"voornaam\"].strip().capitalize()\n",
    "    achternaam = persoon[\"achternaam\"].strip().capitalize()\n",
    "    \n",
    "    return f\"{voornaam} {achternaam}\""
   ]
  },
  {
   "cell_type": "code",
   "execution_count": null,
   "id": "4709c91c",
   "metadata": {},
   "outputs": [],
   "source": [
    "# Gebruik apply() om functie op rij toe te passen\n",
    "dummy_df.apply(volledige_naam, axis=1)"
   ]
  },
  {
   "cell_type": "code",
   "execution_count": null,
   "id": "71469e49",
   "metadata": {},
   "outputs": [],
   "source": [
    "def volledige_naam(persoon, initialen=False):\n",
    "    \"\"\"Genereer volledige naam uit voor en achternaam.\"\"\"\n",
    "    achternaam = persoon[\"achternaam\"].strip().capitalize()\n",
    "    \n",
    "    if initialen:\n",
    "        voornaam = persoon[\"voornaam\"][0].upper() + \".\"\n",
    "    else:\n",
    "        voornaam = persoon[\"voornaam\"].strip().capitalize()\n",
    "    \n",
    "    return f\"{voornaam} {achternaam}\""
   ]
  },
  {
   "cell_type": "code",
   "execution_count": null,
   "id": "1155b9b7",
   "metadata": {},
   "outputs": [],
   "source": [
    "# Additionele argumenten worden doorgegeven aan de functie\n",
    "dummy_df.apply(\n",
    "    volledige_naam,\n",
    "    axis=1,\n",
    "    \n",
    "    # Argument voor volledige_naam()\n",
    "    initialen=True,\n",
    ")"
   ]
  },
  {
   "cell_type": "code",
   "execution_count": null,
   "id": "bda7fad4",
   "metadata": {},
   "outputs": [],
   "source": [
    "# Merk op: Functie retourneert dict met meerdere waardes\n",
    "def naam_opschonen(persoon):\n",
    "    \"\"\"Schoon voor en achternaam op.\"\"\"\n",
    "    voornaam = persoon[\"voornaam\"].strip().capitalize()\n",
    "    achternaam = persoon[\"achternaam\"].strip().capitalize()\n",
    "    \n",
    "    return {\"voornaam\": voornaam, \"achternaam\": achternaam}"
   ]
  },
  {
   "cell_type": "code",
   "execution_count": null,
   "id": "5306bee9",
   "metadata": {},
   "outputs": [],
   "source": [
    "# Door result_type \"expand\" op te geven worden twee kolommen aangemaakt.\n",
    "# Merk op: Resultaat is nu een DataFrame!\n",
    "dummy_df.apply(\n",
    "    naam_opschonen,\n",
    "    axis=1,\n",
    "    result_type=\"expand\",\n",
    ")"
   ]
  },
  {
   "cell_type": "code",
   "execution_count": null,
   "id": "b6937ad5",
   "metadata": {},
   "outputs": [],
   "source": [
    "# Met applymap() pas je een functie toe op alle waardes in een DataFrame.\n",
    "# Merk op: De leeftijd kolom is numeriek en wordt daarom uitgesloten.\n",
    "dummy_df[[\"voornaam\", \"achternaam\"]].applymap(str.capitalize)"
   ]
  },
  {
   "cell_type": "code",
   "execution_count": null,
   "id": "47e7ad98",
   "metadata": {},
   "outputs": [],
   "source": []
  },
  {
   "cell_type": "markdown",
   "id": "ca3c26a0",
   "metadata": {},
   "source": [
    "# Groeperen en aggregeren"
   ]
  },
  {
   "cell_type": "code",
   "execution_count": null,
   "id": "2990a197",
   "metadata": {},
   "outputs": [],
   "source": [
    "# Dummy dataset\n",
    "dummy_df = pd.DataFrame({\n",
    "    \"id\": [\"a\", \"b\", \"c\", \"d\", \"e\", \"f\", \"g\", \"h\", \"i\"],\n",
    "    \"stad\": [\"Amsterdam\"] * 3 + [\"Utrecht\"] * 3 + [\"Beek\"] * 3,\n",
    "    \"provincie\": [\"Noord-Holland\"] * 3 + [\"Utrecht\"] * 3 + [\"Gelderland\"] * 2 + [\"Limburg\"],\n",
    "    \"leeftijd\": [22, 41, 36, 27, 22, 56, 72, 44, 39],\n",
    "    \"score\": [8, 7, 4, 9, 6, 7, 6, 8, 7],\n",
    "})\n",
    "dummy_df"
   ]
  },
  {
   "cell_type": "code",
   "execution_count": null,
   "id": "0be4d32b",
   "metadata": {},
   "outputs": [],
   "source": [
    "# Met groupby maak je gegroepeerde data aan.\n",
    "dummy_df.groupby(\"stad\")"
   ]
  },
  {
   "cell_type": "code",
   "execution_count": null,
   "id": "d96b0a04",
   "metadata": {},
   "outputs": [],
   "source": [
    "# Loop door de groepen\n",
    "for stad, df in dummy_df.groupby(\"stad\"):\n",
    "    print(\"Naam stad: \", stad)\n",
    "    print(df)\n",
    "    print(\"-\" * 40)"
   ]
  },
  {
   "cell_type": "code",
   "execution_count": null,
   "id": "cd2da0dc",
   "metadata": {},
   "outputs": [],
   "source": [
    "# Totaal per stad.\n",
    "# Merk op: stad is de index van het DataFrame.\n",
    "dummy_df.groupby(\"stad\").sum()"
   ]
  },
  {
   "cell_type": "code",
   "execution_count": null,
   "id": "8450d472",
   "metadata": {},
   "outputs": [],
   "source": [
    "# Met agg() kun je per kolom aangeven welke aggregatie je wilt.\n",
    "(\n",
    "    dummy_df\n",
    "    .groupby(\"stad\")\n",
    "    .agg({\n",
    "        \"leeftijd\": \"mean\",\n",
    "        \"score\": \"sum\",\n",
    "    })\n",
    ")"
   ]
  },
  {
   "cell_type": "code",
   "execution_count": null,
   "id": "832f7be5",
   "metadata": {},
   "outputs": [],
   "source": [
    "# Je kun een lijst met functies per kolom opgeven\n",
    "# Dit zorgt wel voor een vervelende MultiIndex voor de kolommen...\n",
    "(\n",
    "    dummy_df\n",
    "    .groupby(\"stad\", as_index=False)\n",
    "    .agg({\n",
    "        \"leeftijd\": [\"mean\", \"std\"],\n",
    "        \"score\": [\"sum\", \"min\", \"max\"],\n",
    "    })\n",
    ")"
   ]
  },
  {
   "cell_type": "code",
   "execution_count": null,
   "id": "145f256b",
   "metadata": {},
   "outputs": [],
   "source": [
    "# Betere syntax\n",
    "tmp = (\n",
    "    dummy_df\n",
    "    .groupby(\"stad\", as_index=False)\n",
    "    .agg(\n",
    "        leeftijd_gemiddeld=(\"leeftijd\", \"mean\"),\n",
    "        leeftijd_deviatie=(\"leeftijd\", \"std\"),\n",
    "        score_totaal=(\"score\", \"sum\"),\n",
    "        score_minimum=(\"score\", \"min\"),\n",
    "        score_maximum=(\"score\", \"max\"),\n",
    "    )\n",
    ")\n",
    "tmp"
   ]
  },
  {
   "cell_type": "code",
   "execution_count": null,
   "id": "067b7f05",
   "metadata": {},
   "outputs": [],
   "source": [
    "tmp[\"leeftijd_gemiddeld\"]"
   ]
  },
  {
   "cell_type": "code",
   "execution_count": null,
   "id": "808e812a",
   "metadata": {},
   "outputs": [],
   "source": [
    "(\n",
    "    dummy_df\n",
    "    .groupby([\"stad\", \"provincie\"], as_index=False)\n",
    "    .agg({\n",
    "        \"leeftijd\": [\"mean\", \"std\"],\n",
    "        \"score\": [\"sum\", \"min\", \"max\"],\n",
    "    })\n",
    ")"
   ]
  },
  {
   "cell_type": "code",
   "execution_count": null,
   "id": "8e9c3151",
   "metadata": {},
   "outputs": [],
   "source": []
  },
  {
   "cell_type": "markdown",
   "id": "2aab498f",
   "metadata": {},
   "source": [
    "# DataFrames samenvoegen"
   ]
  },
  {
   "cell_type": "markdown",
   "id": "74862f64",
   "metadata": {},
   "source": [
    "## pandas.concat()"
   ]
  },
  {
   "cell_type": "markdown",
   "id": "e4781350",
   "metadata": {},
   "source": [
    "Opemrkingen\n",
    "\n",
    "- Gebruik `pd.concat()` om 2 of meer DataFrames samen te voegen.\n",
    "- Concat probeert index / kolommen aan elkaar te matchen."
   ]
  },
  {
   "cell_type": "code",
   "execution_count": null,
   "id": "b5d6bc55",
   "metadata": {},
   "outputs": [],
   "source": [
    "df1 = pd.DataFrame(\n",
    "    {\n",
    "        \"col_1\": [1, 2, 3],\n",
    "        \"col_2\": [4, 5, 6],\n",
    "    },\n",
    "    index=[\"a\", \"b\", \"c\"],\n",
    ")\n",
    "df1"
   ]
  },
  {
   "cell_type": "code",
   "execution_count": null,
   "id": "8b69a16b",
   "metadata": {},
   "outputs": [],
   "source": [
    "# Merk op: Gedeeltelijke overlap tussen index / kolommen.\n",
    "df2 = pd.DataFrame(\n",
    "    {\n",
    "        \"col_2\": [1, 2, 3],\n",
    "        \"col_3\": [4, 5, 6],\n",
    "    },\n",
    "    index=[\"b\", \"c\", \"d\"],\n",
    ")\n",
    "df2"
   ]
  },
  {
   "cell_type": "code",
   "execution_count": null,
   "id": "932be12b",
   "metadata": {
    "scrolled": true
   },
   "outputs": [],
   "source": [
    "# Concat op basis van index / rijen.\n",
    "# Scenario: Dezelfde metingen voor verschillende entiteiten.\n",
    "# Vergelijkbaar met SQL UNION ALL.\n",
    "#\n",
    "#\n",
    "# Merk op:\n",
    "# - Ontbrekende waardes niet-gedeelde kolommen.\n",
    "# - Dubbele waardes in de index\n",
    "pd.concat(\n",
    "    [df1, df2],\n",
    "    axis=0,         # alternatief: \"index\"\n",
    ")"
   ]
  },
  {
   "cell_type": "code",
   "execution_count": null,
   "id": "e9c661f7",
   "metadata": {
    "scrolled": true
   },
   "outputs": [],
   "source": [
    "# Concat op basis van kolommen.\n",
    "# Scenario: Verschillende metingen voor dezelfde entiteiten\n",
    "#\n",
    "# Merk op:\n",
    "# - Indices worden uitgelijnd.\n",
    "# - Ontbrekende waardes voor niet-gedeelde indices.\n",
    "# - col_2 zit er dubbel in!\n",
    "pd.concat(\n",
    "    [df1, df2],\n",
    "    axis=1         # alternatief: \"columns\"\n",
    ")"
   ]
  },
  {
   "cell_type": "code",
   "execution_count": null,
   "id": "db45e053",
   "metadata": {},
   "outputs": [],
   "source": [
    "# Gebruik join parameter om alleen gedeelde rijen te krijgen.\n",
    "# Merk op: standaard staat join op \"outer\".\n",
    "pd.concat(\n",
    "    [df1, df2],\n",
    "    axis=\"columns\",\n",
    "    join=\"inner\",\n",
    ")"
   ]
  },
  {
   "cell_type": "code",
   "execution_count": null,
   "id": "72cf3f37",
   "metadata": {},
   "outputs": [],
   "source": []
  },
  {
   "cell_type": "markdown",
   "id": "c997c338",
   "metadata": {},
   "source": [
    "## DataFrame.join()"
   ]
  },
  {
   "cell_type": "markdown",
   "id": "251f4b40",
   "metadata": {},
   "source": [
    "Opmerkingen:\n",
    "\n",
    "- Met `join()` voeg je 2 DataFrames samen.\n",
    "- Koppeling standaard op basis van indices."
   ]
  },
  {
   "cell_type": "code",
   "execution_count": null,
   "id": "796303e1",
   "metadata": {},
   "outputs": [],
   "source": [
    "# Merk op: Foutmelding vanwege dubbele kolom (col_2)\n",
    "df1.join(df2)"
   ]
  },
  {
   "cell_type": "code",
   "execution_count": null,
   "id": "b2668fc5",
   "metadata": {},
   "outputs": [],
   "source": [
    "# Geef (tenminste een) achtervoegsel op om fout te verhelpen\n",
    "df1.join(df2, rsuffix=\"_right\")"
   ]
  },
  {
   "cell_type": "markdown",
   "id": "49b277a8",
   "metadata": {},
   "source": [
    "Types koppelingen:\n",
    "\n",
    "- `left`: linker DataFrame bepaalt welke rijen meekomen (standaard).\n",
    "- `right`: rechter DataFrame bepaalt welke rijen meekomen.\n",
    "- `inner`: alleen gedeelde rijen komen mee.\n",
    "- `outer`: alle rijen komen mee.\n",
    "- `cross`: cartesiaans product van de rijen.\n",
    "\n",
    "Merk op: vergelijkbaar met de standaard SQL JOIN types."
   ]
  },
  {
   "cell_type": "code",
   "execution_count": null,
   "id": "bcbfb6d9",
   "metadata": {},
   "outputs": [],
   "source": [
    "# Voorbeeld van outer join\n",
    "df1.join(df2, rsuffix=\"_right\", how=\"outer\")"
   ]
  },
  {
   "cell_type": "code",
   "execution_count": null,
   "id": "979f0b03",
   "metadata": {},
   "outputs": [],
   "source": []
  },
  {
   "cell_type": "markdown",
   "id": "7e480efc",
   "metadata": {},
   "source": [
    "## DataFrame.merge()"
   ]
  },
  {
   "cell_type": "markdown",
   "id": "74e82bdd",
   "metadata": {},
   "source": [
    "Opmerkingen:\n",
    "\n",
    "- De `merge()` methode biedt meer opties dan `join()`.\n",
    "- Gebruik `merge()` tenzij je koppelt op indices.\n",
    "\n",
    "\n"
   ]
  },
  {
   "cell_type": "code",
   "execution_count": null,
   "id": "348ed326",
   "metadata": {},
   "outputs": [],
   "source": [
    "left = pd.DataFrame({\n",
    "    \"naam\": [\"Henk\", \"Ingrid\", \"Henk\"],\n",
    "    \"plaats\": [\"Amsterdam\", \"Amsterdam\", \"Rotterdam\"],\n",
    "    \"leeftijd\": [24, 56, 33],\n",
    "})\n",
    "left"
   ]
  },
  {
   "cell_type": "code",
   "execution_count": null,
   "id": "d5249dd0",
   "metadata": {},
   "outputs": [],
   "source": [
    "right = pd.DataFrame({\n",
    "    \"naam\": [\"Henk\", \"Ingrid\", \"Henk\", \"Sanne\"],\n",
    "    \"plaats\": [\"Amsterdam\", \"Amsterdam\", \"Rotterdam\", \"Rotterdam\"],\n",
    "    \"score\": [4, 5, 6, 7],\n",
    "})\n",
    "right"
   ]
  },
  {
   "cell_type": "code",
   "execution_count": null,
   "id": "e4e0270b",
   "metadata": {},
   "outputs": [],
   "source": [
    "# Merge door gebruik te maken van naam kolom.\n",
    "# Merk op:\n",
    "# - Dubbele rijen voor dubbele namen (Henk).\n",
    "# - Automatisch _x en _y voor dubbele kolommen (plaats).\n",
    "left.merge(right, on=\"naam\", how=\"left\")"
   ]
  },
  {
   "cell_type": "code",
   "execution_count": null,
   "id": "7d74d136",
   "metadata": {},
   "outputs": [],
   "source": [
    "# Merge op basis van meerdere kolommen (naam + plaats)\n",
    "# Merk op: Geen dubbele rijen en kolommen meer.\n",
    "left.merge(right, on=[\"naam\", \"plaats\"], how=\"left\")"
   ]
  },
  {
   "cell_type": "code",
   "execution_count": null,
   "id": "0cb36ffc",
   "metadata": {},
   "outputs": [],
   "source": [
    "# Gebruik validate om koppeling te controleren.\n",
    "# Geldige waardes zijn \"1:1\", \"1:m\", \"m:1\" en \"m:m\".\n",
    "left.merge(right, on=[\"naam\", \"plaats\"], validate=\"1:1\")"
   ]
  },
  {
   "cell_type": "code",
   "execution_count": null,
   "id": "2882879a",
   "metadata": {},
   "outputs": [],
   "source": [
    "# Foutmelding als alleen op naam gekoppeld wordt vanwege duplicaten.\n",
    "left.merge(right, on=\"naam\", validate=\"1:1\")"
   ]
  },
  {
   "cell_type": "code",
   "execution_count": null,
   "id": "dd00768f",
   "metadata": {},
   "outputs": [],
   "source": [
    "# Met indicator krijg je een _merge kolom met de bron voor de rij.\n",
    "left.merge(right, on=[\"naam\", \"plaats\"], how=\"outer\", indicator=True)"
   ]
  },
  {
   "cell_type": "code",
   "execution_count": null,
   "id": "1d8aed10",
   "metadata": {},
   "outputs": [],
   "source": []
  },
  {
   "cell_type": "markdown",
   "id": "0739b8cb",
   "metadata": {},
   "source": [
    "# Melt en pivot"
   ]
  },
  {
   "cell_type": "code",
   "execution_count": null,
   "id": "e76083ee",
   "metadata": {},
   "outputs": [],
   "source": [
    "df = pd.DataFrame(\n",
    "    {\n",
    "        \"Temperatuur\": [11.2, 15.3, 14.8, 12.5, 10.5],\n",
    "        \"Zonuren\": [5.5, 7.5, 6.8, 5.6, 4.6],\n",
    "        \"Neerslag\": [3.5, 0.5, 0.0, 0.0, 3.4],\n",
    "    },\n",
    "    index=pd.date_range(\"2022-3-1\", \"2022-3-5\")\n",
    ")\n",
    "df"
   ]
  },
  {
   "cell_type": "code",
   "execution_count": null,
   "id": "730338bc",
   "metadata": {},
   "outputs": [],
   "source": [
    "#Tip: Pandas plot geeft snel inzicht in de data\n",
    "df.plot(marker=\".\")"
   ]
  },
  {
   "cell_type": "code",
   "execution_count": null,
   "id": "3f6b8ed6",
   "metadata": {},
   "outputs": [],
   "source": [
    "# Met melt() transformeer je naar long-format.\n",
    "# Merk: Kolomnaam komt in \"variable\", waarde in \"value\".\n",
    "df.melt()"
   ]
  },
  {
   "cell_type": "code",
   "execution_count": null,
   "id": "0c00eb5b",
   "metadata": {},
   "outputs": [],
   "source": [
    "# Behoud index door ignore_index op False te zetten\n",
    "df.melt(ignore_index=False)"
   ]
  },
  {
   "cell_type": "code",
   "execution_count": null,
   "id": "c9dd0f64",
   "metadata": {},
   "outputs": [],
   "source": [
    "# Gebruik var_name en value_name om kolomnamen aan te passen\n",
    "df.melt(\n",
    "    var_name=\"Meting\",\n",
    "    value_name=\"Waarde\",\n",
    ")"
   ]
  },
  {
   "cell_type": "code",
   "execution_count": null,
   "id": "282d4036",
   "metadata": {},
   "outputs": [],
   "source": [
    "# Voeg datum toe als kolom\n",
    "df = df.assign(Datum=df.index).reset_index(drop=True)\n",
    "df"
   ]
  },
  {
   "cell_type": "code",
   "execution_count": null,
   "id": "996bff9c",
   "metadata": {},
   "outputs": [],
   "source": [
    "# Gebruik id_vars en value_vars om kolommen op te geven\n",
    "df.melt(\n",
    "    \n",
    "    id_vars=[\"Datum\"],\n",
    "    value_vars=[\"Temperatuur\", \"Neerslag\"],\n",
    "    \n",
    "    var_name=\"Meting\",\n",
    "    value_name=\"Waarde\",\n",
    ")"
   ]
  },
  {
   "cell_type": "code",
   "execution_count": null,
   "id": "82e16003",
   "metadata": {},
   "outputs": [],
   "source": []
  },
  {
   "cell_type": "markdown",
   "id": "99a921c8",
   "metadata": {},
   "source": [
    "## Pivot"
   ]
  },
  {
   "cell_type": "code",
   "execution_count": null,
   "id": "b5c8ec40",
   "metadata": {},
   "outputs": [],
   "source": [
    "# Maak long-format aan\n",
    "df_long = df.melt(id_vars=\"Datum\", var_name=\"Meting\", value_name=\"Waarde\")\n",
    "df_long"
   ]
  },
  {
   "cell_type": "code",
   "execution_count": null,
   "id": "2928ecd8",
   "metadata": {},
   "outputs": [],
   "source": [
    "# Pivot naar wide-format\n",
    "df_wide = df_long.pivot(\n",
    "    index=\"Datum\",\n",
    "    columns=\"Meting\",\n",
    "    values=\"Waarde\",\n",
    ")\n",
    "df_wide"
   ]
  },
  {
   "cell_type": "code",
   "execution_count": null,
   "id": "b0fae944",
   "metadata": {},
   "outputs": [],
   "source": [
    "# Merk op: Naam van de index kolom behouden op index\n",
    "df_wide.index"
   ]
  },
  {
   "cell_type": "code",
   "execution_count": null,
   "id": "6fac8523",
   "metadata": {},
   "outputs": [],
   "source": [
    "# Merk op: Naam van de waarde kolom behouden op kolom index\n",
    "df_wide.columns"
   ]
  },
  {
   "cell_type": "code",
   "execution_count": null,
   "id": "b6de1525",
   "metadata": {},
   "outputs": [],
   "source": []
  }
 ],
 "metadata": {
  "kernelspec": {
   "display_name": "Python 3 (ipykernel)",
   "language": "python",
   "name": "python3"
  },
  "language_info": {
   "codemirror_mode": {
    "name": "ipython",
    "version": 3
   },
   "file_extension": ".py",
   "mimetype": "text/x-python",
   "name": "python",
   "nbconvert_exporter": "python",
   "pygments_lexer": "ipython3",
   "version": "3.9.16"
  }
 },
 "nbformat": 4,
 "nbformat_minor": 5
}
