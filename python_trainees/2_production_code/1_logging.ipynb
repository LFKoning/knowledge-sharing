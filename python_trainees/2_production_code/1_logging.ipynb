{
 "cells": [
  {
   "cell_type": "code",
   "execution_count": null,
   "id": "d610e83a",
   "metadata": {},
   "outputs": [],
   "source": [
    "import logging"
   ]
  },
  {
   "cell_type": "markdown",
   "id": "a9516fcb",
   "metadata": {},
   "source": [
    "### Logger objecten"
   ]
  },
  {
   "cell_type": "code",
   "execution_count": null,
   "id": "987ac677",
   "metadata": {},
   "outputs": [],
   "source": [
    "# Using getLogger() without a name returns the root logger.\n",
    "# Note: logging level defaults to logging.WARNING.\n",
    "root_logger = logging.getLogger()\n",
    "root_logger"
   ]
  },
  {
   "cell_type": "code",
   "execution_count": null,
   "id": "147677e9",
   "metadata": {},
   "outputs": [],
   "source": [
    "# By providing a name, you create your own logger.\n",
    "# Note: This logger has the root logger as parent.\n",
    "test_logger = logging.getLogger(\"TestLogger\")\n",
    "test_logger"
   ]
  },
  {
   "cell_type": "code",
   "execution_count": null,
   "id": "0fa834df",
   "metadata": {},
   "outputs": [],
   "source": [
    "# Use methods on the logger to produce log messages.\n",
    "test_logger.warning(\"Oh nee!\")"
   ]
  },
  {
   "cell_type": "markdown",
   "id": "010249e4",
   "metadata": {},
   "source": [
    "### Logging format"
   ]
  },
  {
   "cell_type": "code",
   "execution_count": null,
   "id": "f64a09c6",
   "metadata": {},
   "outputs": [],
   "source": [
    "# Define a logging format using formatting strings.\n",
    "log_fmt = \"%(asctime)s | %(levelname)-8s | %(name)-20s | %(message)-40s\""
   ]
  },
  {
   "cell_type": "code",
   "execution_count": null,
   "id": "54ff57ab",
   "metadata": {},
   "outputs": [],
   "source": [
    "# Apply a format to the root logger using basicConfig.\n",
    "# Note: Use datefmt argument to set format for asctime.\n",
    "logging.basicConfig(\n",
    "    format=log_fmt,\n",
    "    datefmt=\"%d-%m-%Y %H:%M:%S\",\n",
    "    level=logging.INFO,\n",
    ")"
   ]
  },
  {
   "cell_type": "code",
   "execution_count": null,
   "id": "f9556fd2",
   "metadata": {},
   "outputs": [],
   "source": [
    "# Logging directly through the root logger\n",
    "logging.info(\"Hallo wereld!\")\n",
    "logging.info(\"Hoe gaat het vandaag?\")"
   ]
  },
  {
   "cell_type": "code",
   "execution_count": null,
   "id": "1198312d",
   "metadata": {},
   "outputs": [],
   "source": [
    "# Logging through custom TestLogger\n",
    "# Note: Output is produced through the root logger.\n",
    "test_logger.info(\"Hello world!\")\n",
    "test_logger.info(\"How are you today?\")"
   ]
  },
  {
   "cell_type": "code",
   "execution_count": null,
   "id": "a7507f0e",
   "metadata": {},
   "outputs": [],
   "source": []
  },
  {
   "cell_type": "markdown",
   "id": "c7d312cc",
   "metadata": {},
   "source": [
    "### Handlers en Formatters"
   ]
  },
  {
   "cell_type": "code",
   "execution_count": null,
   "id": "bd4eb205",
   "metadata": {},
   "outputs": [],
   "source": [
    "# After using basicConfig or logging a message, the root logger gets a StreamHandler\n",
    "root_logger.handlers"
   ]
  },
  {
   "cell_type": "code",
   "execution_count": null,
   "id": "65235021",
   "metadata": {},
   "outputs": [],
   "source": [
    "# TestLogger has no handlers for producing output\n",
    "test_logger.handlers"
   ]
  },
  {
   "cell_type": "code",
   "execution_count": null,
   "id": "a97b7990",
   "metadata": {},
   "outputs": [],
   "source": [
    "# List available handler types in logging module.\n",
    "for _ in dir(logging):\n",
    "    if not _.endswith(\"Handler\") or _.startswith(\"_\"):\n",
    "        continue\n",
    "    print(_)"
   ]
  },
  {
   "cell_type": "code",
   "execution_count": null,
   "id": "ff50623a",
   "metadata": {},
   "outputs": [],
   "source": [
    "# List available handler types in logging.handlers module.\n",
    "for _ in dir(logging.handlers):\n",
    "    if not _.endswith(\"Handler\"):\n",
    "        continue\n",
    "    print(_)"
   ]
  },
  {
   "cell_type": "code",
   "execution_count": null,
   "id": "1e87078d",
   "metadata": {},
   "outputs": [],
   "source": [
    "# Create a StreamHandler and add it to test_logger.\n",
    "test_handler = logging.StreamHandler()\n",
    "test_logger.addHandler(test_handler)\n",
    "\n",
    "# Note that test_logger now has a handler of iets own.\n",
    "test_logger.handlers"
   ]
  },
  {
   "cell_type": "code",
   "execution_count": null,
   "id": "990b5923",
   "metadata": {},
   "outputs": [],
   "source": [
    "# Log a message using test_logger (TestLogger).\n",
    "# Note: Output from both the root logger and test_logger.\n",
    "test_logger.info(\"Hi from TestLogger\")"
   ]
  },
  {
   "cell_type": "code",
   "execution_count": null,
   "id": "f832cb7d",
   "metadata": {},
   "outputs": [],
   "source": []
  },
  {
   "cell_type": "code",
   "execution_count": null,
   "id": "40495873",
   "metadata": {},
   "outputs": [],
   "source": [
    "# Create a Formatter using a CSV format.\n",
    "csv_format = \"%(asctime)s,%(levelname)s,%(name)s,%(message)s\"\n",
    "csv_formatter = logging.Formatter(csv_format, datefmt=\"%d-%m-%Y %H:%M:%S\")"
   ]
  },
  {
   "cell_type": "code",
   "execution_count": null,
   "id": "ca745204",
   "metadata": {},
   "outputs": [],
   "source": [
    "# Add the csv_formatter to the handler associated with test_logger.\n",
    "test_handler.setFormatter(csv_formatter)"
   ]
  },
  {
   "cell_type": "code",
   "execution_count": null,
   "id": "d1997f8c",
   "metadata": {},
   "outputs": [],
   "source": [
    "# Log using the new format.\n",
    "test_logger.info(\"Hi from TestLogger\")"
   ]
  },
  {
   "cell_type": "code",
   "execution_count": null,
   "id": "9e60fc78",
   "metadata": {},
   "outputs": [],
   "source": []
  },
  {
   "cell_type": "code",
   "execution_count": null,
   "id": "df22caea",
   "metadata": {},
   "outputs": [],
   "source": [
    "# Create a FileHandler using the CSV Formatter.\n",
    "file_handler = logging.FileHandler(\"test_logger.csv\")\n",
    "file_handler.setFormatter(csv_formatter)"
   ]
  },
  {
   "cell_type": "code",
   "execution_count": null,
   "id": "235c9296",
   "metadata": {},
   "outputs": [],
   "source": [
    "# Add file_handler to test_logger\n",
    "test_logger.addHandler(file_handler)\n",
    "\n",
    "# Note: test_logger now has 2 handlers.\n",
    "test_logger.handlers"
   ]
  },
  {
   "cell_type": "code",
   "execution_count": null,
   "id": "67c02960",
   "metadata": {},
   "outputs": [],
   "source": [
    "# Log a few messages.\n",
    "test_logger.info(\"First info message for test_logger.\")\n",
    "test_logger.info(\"Second info message for test_logger\")"
   ]
  },
  {
   "cell_type": "code",
   "execution_count": null,
   "id": "f0653f6b",
   "metadata": {},
   "outputs": [],
   "source": []
  }
 ],
 "metadata": {
  "kernelspec": {
   "display_name": "Python 3 (ipykernel)",
   "language": "python",
   "name": "python3"
  },
  "language_info": {
   "codemirror_mode": {
    "name": "ipython",
    "version": 3
   },
   "file_extension": ".py",
   "mimetype": "text/x-python",
   "name": "python",
   "nbconvert_exporter": "python",
   "pygments_lexer": "ipython3",
   "version": "3.9.16"
  },
  "vscode": {
   "interpreter": {
    "hash": "a936176cff40cfb1c40397a24e2557a67ab0b74e13f7dc7b4e40034a7f82d850"
   }
  }
 },
 "nbformat": 4,
 "nbformat_minor": 5
}
