{
 "cells": [
  {
   "cell_type": "markdown",
   "metadata": {},
   "source": [
    "# Namespaces\n"
   ]
  },
  {
   "cell_type": "code",
   "execution_count": null,
   "metadata": {},
   "outputs": [],
   "source": [
    "def function_a():\n",
    "  g = \"world\"\n",
    "\n",
    "\n",
    "def function_b():\n",
    "  global g\n",
    "  g = \"world\""
   ]
  },
  {
   "cell_type": "code",
   "execution_count": null,
   "metadata": {},
   "outputs": [],
   "source": [
    "g = \"hello\"\n",
    "\n",
    "# Local variable g eclipsed the global one..\n",
    "# Global variable g remains unchanged.\n",
    "function_a()\n",
    "print(g)\n",
    "\n",
    "\n",
    "# Global keyword made g a global variable.\n",
    "# Global g is changed as well.\n",
    "function_b()\n",
    "print(g)"
   ]
  },
  {
   "cell_type": "markdown",
   "metadata": {},
   "source": [
    "## Using parameters"
   ]
  },
  {
   "cell_type": "code",
   "execution_count": null,
   "metadata": {},
   "outputs": [],
   "source": [
    "# Global keyword with identical parameter will not work\n",
    "def function_b(g):\n",
    "  global g\n",
    "  g = \"world\""
   ]
  },
  {
   "cell_type": "code",
   "execution_count": null,
   "metadata": {},
   "outputs": [],
   "source": [
    "def function_a(g):\n",
    "  g = \"world\""
   ]
  },
  {
   "cell_type": "code",
   "execution_count": null,
   "metadata": {},
   "outputs": [],
   "source": [
    "g = \"hello\"\n",
    "\n",
    "# Local parameter g still eclipses the global one..\n",
    "function_a(g)\n",
    "print(g)"
   ]
  },
  {
   "cell_type": "code",
   "execution_count": null,
   "metadata": {},
   "outputs": [],
   "source": []
  }
 ],
 "metadata": {
  "kernelspec": {
   "display_name": "Python 3 (ipykernel)",
   "language": "python",
   "name": "python3"
  },
  "language_info": {
   "codemirror_mode": {
    "name": "ipython",
    "version": 3
   },
   "file_extension": ".py",
   "mimetype": "text/x-python",
   "name": "python",
   "nbconvert_exporter": "python",
   "pygments_lexer": "ipython3",
   "version": "3.9.16"
  },
  "vscode": {
   "interpreter": {
    "hash": "97fc0b27db06ef7751e260ba2c187fff3578634c73c53a04befd6c7fde8d595e"
   }
  }
 },
 "nbformat": 4,
 "nbformat_minor": 2
}
