{
 "cells": [
  {
   "cell_type": "markdown",
   "id": "b92d15b0",
   "metadata": {},
   "source": [
    "# Data types"
   ]
  },
  {
   "cell_type": "code",
   "execution_count": null,
   "id": "c0a9b393",
   "metadata": {},
   "outputs": [],
   "source": [
    "i = 5\n",
    "f = 3.7\n",
    "s = \"3.7\"\n",
    "t = 1, 2, 3\n",
    "l = [1, 2, 3]\n",
    "d = {\"a\": 1, \"b\": 2}"
   ]
  },
  {
   "cell_type": "code",
   "execution_count": null,
   "id": "800b8ec5",
   "metadata": {},
   "outputs": [],
   "source": [
    "for var in i, f, s, t, l, d:\n",
    "    print(repr(var), \"=\", type(var))"
   ]
  },
  {
   "cell_type": "markdown",
   "id": "b2a2fb24",
   "metadata": {},
   "source": [
    "## Conversions"
   ]
  },
  {
   "cell_type": "code",
   "execution_count": null,
   "id": "2ec5f673",
   "metadata": {},
   "outputs": [],
   "source": [
    "# float => int: simply drops decimals.\n",
    "print(f\"Float\",  f, \"to int...\")\n",
    "int(f)"
   ]
  },
  {
   "cell_type": "code",
   "execution_count": null,
   "id": "af1fee64",
   "metadata": {},
   "outputs": [],
   "source": [
    "# str => float: succeeds on valid values.\n",
    "print(f\"String\", s, \"to float...\")\n",
    "float(s)"
   ]
  },
  {
   "cell_type": "code",
   "execution_count": null,
   "id": "4171c079",
   "metadata": {},
   "outputs": [],
   "source": [
    "# str => int: ValueError on invalid values.\n",
    "# Note: Does not result in 3 like int(3.7) does.\n",
    "print(\"String\", s, \"to int...\")\n",
    "int(s)"
   ]
  },
  {
   "cell_type": "markdown",
   "id": "88d1209c",
   "metadata": {},
   "source": [
    "### Strings"
   ]
  },
  {
   "cell_type": "code",
   "execution_count": null,
   "id": "1bc226e8",
   "metadata": {},
   "outputs": [],
   "source": [
    "string = \"Hello World!\""
   ]
  },
  {
   "cell_type": "code",
   "execution_count": null,
   "id": "3e670ffb",
   "metadata": {},
   "outputs": [],
   "source": [
    "# Use index to access string characters.\n",
    "# Note: Starts at zero.\n",
    "string[0]"
   ]
  },
  {
   "cell_type": "code",
   "execution_count": null,
   "id": "a82e3db3",
   "metadata": {},
   "outputs": [],
   "source": [
    "# Get number of characters with len().\n",
    "len(string)"
   ]
  },
  {
   "cell_type": "code",
   "execution_count": null,
   "id": "5c62073d",
   "metadata": {},
   "outputs": [],
   "source": [
    "# IndexError if you exceed length...\n",
    "string[12]"
   ]
  },
  {
   "cell_type": "code",
   "execution_count": null,
   "id": "349e2134",
   "metadata": {},
   "outputs": [],
   "source": [
    "# Use slice to get a substring.\n",
    "string[0:4]"
   ]
  },
  {
   "cell_type": "code",
   "execution_count": null,
   "id": "a98dd533",
   "metadata": {},
   "outputs": [],
   "source": [
    "# Leave end open to capture all remaining characters.\n",
    "string[6:]"
   ]
  },
  {
   "cell_type": "code",
   "execution_count": null,
   "id": "dc22e9a9",
   "metadata": {},
   "outputs": [],
   "source": [
    "# Use negative number cut final character(s).\n",
    "string[:-1]"
   ]
  },
  {
   "cell_type": "code",
   "execution_count": null,
   "id": "28cf5095",
   "metadata": {},
   "outputs": [],
   "source": [
    "# Use step to step over characters.\n",
    "string[::2]"
   ]
  },
  {
   "cell_type": "code",
   "execution_count": null,
   "id": "31e3e936",
   "metadata": {},
   "outputs": [],
   "source": [
    "# Addition concatenates strings.\n",
    "string + \"!11!!\""
   ]
  },
  {
   "cell_type": "code",
   "execution_count": null,
   "id": "7d4dc376",
   "metadata": {},
   "outputs": [],
   "source": [
    "# Multiplication repeats the string.\n",
    "\" :-) \" * 3"
   ]
  },
  {
   "cell_type": "code",
   "execution_count": null,
   "id": "dd99ec9d",
   "metadata": {},
   "outputs": [],
   "source": [
    "# Use an f-string to embed variables (immediately).\n",
    "name = \"John\"\n",
    "lastname = \"Doe\"\n",
    "\n",
    "f\"{name} {lastname}\""
   ]
  },
  {
   "cell_type": "code",
   "execution_count": null,
   "id": "5b038cbb",
   "metadata": {},
   "outputs": [],
   "source": [
    "# Or use format() for greater control.\n",
    "template = \"{fn} {ln}\"\n",
    "template.format(fn=name, ln=lastname)"
   ]
  },
  {
   "cell_type": "markdown",
   "id": "c468fc0d",
   "metadata": {},
   "source": [
    "## List"
   ]
  },
  {
   "cell_type": "code",
   "execution_count": null,
   "id": "a6cffd27",
   "metadata": {},
   "outputs": [],
   "source": [
    "numbers = [1, 2, 3, 4, 5, 6, 7, 8, 9, 10]"
   ]
  },
  {
   "cell_type": "code",
   "execution_count": null,
   "id": "cee9544f",
   "metadata": {},
   "outputs": [],
   "source": [
    "# Same indexing / slicing as strings.\n",
    "numbers[1::2]"
   ]
  },
  {
   "cell_type": "code",
   "execution_count": null,
   "id": "4aaca827",
   "metadata": {},
   "outputs": [],
   "source": [
    "# List allow assigning to an existing index.\n",
    "numbers[0] = 0\n",
    "numbers"
   ]
  },
  {
   "cell_type": "code",
   "execution_count": null,
   "id": "651df097",
   "metadata": {},
   "outputs": [],
   "source": [
    "# Use append to add new values (in place!).\n",
    "numbers.append(11)\n",
    "numbers"
   ]
  },
  {
   "cell_type": "code",
   "execution_count": null,
   "id": "090c47cb",
   "metadata": {},
   "outputs": [],
   "source": [
    "# List multiplication.\n",
    "# Note: Not elementwise multiplication!\n",
    "[1, 2, 3] * 3"
   ]
  },
  {
   "cell_type": "code",
   "execution_count": null,
   "id": "bb163568",
   "metadata": {},
   "outputs": [],
   "source": [
    "# Initialize a matrix...\n",
    "zeroes = [[0] * 3] * 3\n",
    "zeroes"
   ]
  },
  {
   "cell_type": "code",
   "execution_count": null,
   "id": "179407c7",
   "metadata": {},
   "outputs": [],
   "source": [
    "# Maybe not the best way...\n",
    "zeroes[0][0] = 1\n",
    "zeroes"
   ]
  }
 ],
 "metadata": {
  "kernelspec": {
   "display_name": "Python 3 (ipykernel)",
   "language": "python",
   "name": "python3"
  },
  "language_info": {
   "codemirror_mode": {
    "name": "ipython",
    "version": 3
   },
   "file_extension": ".py",
   "mimetype": "text/x-python",
   "name": "python",
   "nbconvert_exporter": "python",
   "pygments_lexer": "ipython3",
   "version": "3.9.18"
  },
  "vscode": {
   "interpreter": {
    "hash": "97fc0b27db06ef7751e260ba2c187fff3578634c73c53a04befd6c7fde8d595e"
   }
  }
 },
 "nbformat": 4,
 "nbformat_minor": 5
}
