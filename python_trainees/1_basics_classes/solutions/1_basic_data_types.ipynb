{
 "cells": [
  {
   "cell_type": "markdown",
   "id": "b92d15b0",
   "metadata": {},
   "source": [
    "# Data types"
   ]
  },
  {
   "cell_type": "code",
   "execution_count": null,
   "id": "c0a9b393",
   "metadata": {},
   "outputs": [],
   "source": [
    "i = 5\n",
    "f = 3.7\n",
    "s = \"3.7\"\n",
    "t = 1, 2, 3\n",
    "l = [1, 2, 3]\n",
    "d = {\"a\": 1, \"b\": 2, \"c\": 3}"
   ]
  },
  {
   "cell_type": "code",
   "execution_count": null,
   "id": "800b8ec5",
   "metadata": {},
   "outputs": [],
   "source": [
    "for _ in i, f, s, t, l, d:\n",
    "    print(_, \"=\", type(_))"
   ]
  },
  {
   "cell_type": "code",
   "execution_count": null,
   "id": "c46c777a",
   "metadata": {},
   "outputs": [],
   "source": []
  },
  {
   "cell_type": "markdown",
   "id": "b2a2fb24",
   "metadata": {},
   "source": [
    "## Conversies"
   ]
  },
  {
   "cell_type": "code",
   "execution_count": null,
   "id": "2ec5f673",
   "metadata": {},
   "outputs": [],
   "source": [
    "# float => int: simply drops decimals.\n",
    "int(f)"
   ]
  },
  {
   "cell_type": "code",
   "execution_count": null,
   "id": "a08be98c",
   "metadata": {},
   "outputs": [],
   "source": [
    "s"
   ]
  },
  {
   "cell_type": "code",
   "execution_count": null,
   "id": "af1fee64",
   "metadata": {},
   "outputs": [],
   "source": [
    "# str => float: succeeds on valid values.\n",
    "float(s)"
   ]
  },
  {
   "cell_type": "code",
   "execution_count": null,
   "id": "4171c079",
   "metadata": {},
   "outputs": [],
   "source": [
    "# str => int: ValueError on invalid values.\n",
    "# Note: Does not result in 3 like int(3.7) does.\n",
    "int(s)"
   ]
  },
  {
   "cell_type": "markdown",
   "id": "88d1209c",
   "metadata": {},
   "source": [
    "### Tekst"
   ]
  },
  {
   "cell_type": "code",
   "execution_count": null,
   "id": "1bc226e8",
   "metadata": {},
   "outputs": [],
   "source": [
    "name = \"John\"\n",
    "lastname = \"Doe\""
   ]
  },
  {
   "cell_type": "code",
   "execution_count": null,
   "id": "3e670ffb",
   "metadata": {},
   "outputs": [],
   "source": [
    "# Can index / slice strings, similar to lists.\n",
    "print(name[0])\n",
    "print(name[0:3])"
   ]
  },
  {
   "cell_type": "code",
   "execution_count": null,
   "id": "31e3e936",
   "metadata": {},
   "outputs": [],
   "source": [
    "# Addition concatenates strings.\n",
    "name + \" \" + lastname"
   ]
  },
  {
   "cell_type": "code",
   "execution_count": null,
   "id": "7d4dc376",
   "metadata": {},
   "outputs": [],
   "source": [
    "# Multiplication repeats the string.\n",
    "name * 3"
   ]
  },
  {
   "cell_type": "code",
   "execution_count": null,
   "id": "dd99ec9d",
   "metadata": {},
   "outputs": [],
   "source": [
    "# Use an f-string to embed variables (immediately).\n",
    "f\"{name} {lastname}\""
   ]
  },
  {
   "cell_type": "code",
   "execution_count": null,
   "id": "5b038cbb",
   "metadata": {},
   "outputs": [],
   "source": [
    "# Or use format() for greater control.\n",
    "template = \"{fn} {ln}\"\n",
    "template.format(fn=name, ln=lastname)"
   ]
  },
  {
   "cell_type": "code",
   "execution_count": null,
   "id": "cd2f8744",
   "metadata": {},
   "outputs": [],
   "source": [
    "# Format strings support formatting:\n",
    "# 15s = string of 15 characters.\n",
    "# 15.2f = float of 15 digits including 2 decimals.\n",
    "\n",
    "data = {\"name\": \"John\", \"lastname\": \"Doe\", \"score\": 7.6245}\n",
    "\n",
    "header_tmpl = \"| {0:15s} | {1:15s} | {2:>15s} |\"\n",
    "data_tmpl = \"| {0:15s} | {1:15s} | {2:15.2f} |\"\n",
    "\n",
    "print(header_tmpl.format(*data))\n",
    "print(data_tmpl.format(*data.values()))"
   ]
  },
  {
   "cell_type": "markdown",
   "id": "c468fc0d",
   "metadata": {},
   "source": [
    "## List / Tuple"
   ]
  },
  {
   "cell_type": "code",
   "execution_count": null,
   "id": "a6cffd27",
   "metadata": {},
   "outputs": [],
   "source": [
    "l"
   ]
  },
  {
   "cell_type": "code",
   "execution_count": null,
   "id": "cee9544f",
   "metadata": {},
   "outputs": [],
   "source": [
    "# Indexing starts at zero.\n",
    "l[0]"
   ]
  },
  {
   "cell_type": "code",
   "execution_count": null,
   "id": "1955f1ef",
   "metadata": {},
   "outputs": [],
   "source": [
    "# IndexError when exceeding the index range.\n",
    "l[3]"
   ]
  },
  {
   "cell_type": "code",
   "execution_count": null,
   "id": "f04c5233",
   "metadata": {},
   "outputs": [],
   "source": [
    "# Get number of elements using len()\n",
    "len(l)"
   ]
  },
  {
   "cell_type": "code",
   "execution_count": null,
   "id": "f5546a67",
   "metadata": {},
   "outputs": [],
   "source": [
    "# Slice returning index 0 to 2 (exclusive).\n",
    "l[0:2]"
   ]
  },
  {
   "cell_type": "code",
   "execution_count": null,
   "id": "7112b1aa",
   "metadata": {},
   "outputs": [],
   "source": [
    "# Open slice: get everything from index 1.\n",
    "l[1:]"
   ]
  },
  {
   "cell_type": "code",
   "execution_count": null,
   "id": "c2c3af71",
   "metadata": {},
   "outputs": [],
   "source": [
    "# Negative index: counts from the last element.\n",
    "l[0:-1]"
   ]
  },
  {
   "cell_type": "code",
   "execution_count": null,
   "id": "4aaca827",
   "metadata": {},
   "outputs": [],
   "source": [
    "# Assign to existing index.\n",
    "l[0] = 0\n",
    "l"
   ]
  },
  {
   "cell_type": "code",
   "execution_count": null,
   "id": "651df097",
   "metadata": {},
   "outputs": [],
   "source": [
    "# Use append to add new values (in place!).\n",
    "l.append(4)\n",
    "l"
   ]
  },
  {
   "cell_type": "code",
   "execution_count": null,
   "id": "090c47cb",
   "metadata": {},
   "outputs": [],
   "source": [
    "# List multiplication (not elementwise!).\n",
    "[1, 2, 3] * 3"
   ]
  },
  {
   "cell_type": "code",
   "execution_count": null,
   "id": "bb163568",
   "metadata": {},
   "outputs": [],
   "source": [
    "# Initialize a matrix...\n",
    "zeroes = [[0] * 3] * 3\n",
    "zeroes"
   ]
  },
  {
   "cell_type": "code",
   "execution_count": null,
   "id": "179407c7",
   "metadata": {},
   "outputs": [],
   "source": [
    "# Maybe not the best way...\n",
    "zeroes[0][0] = 1\n",
    "zeroes"
   ]
  },
  {
   "cell_type": "code",
   "execution_count": null,
   "id": "fef7b500",
   "metadata": {},
   "outputs": [],
   "source": []
  }
 ],
 "metadata": {
  "kernelspec": {
   "display_name": "Python 3 (ipykernel)",
   "language": "python",
   "name": "python3"
  },
  "language_info": {
   "codemirror_mode": {
    "name": "ipython",
    "version": 3
   },
   "file_extension": ".py",
   "mimetype": "text/x-python",
   "name": "python",
   "nbconvert_exporter": "python",
   "pygments_lexer": "ipython3",
   "version": "3.9.16"
  },
  "vscode": {
   "interpreter": {
    "hash": "97fc0b27db06ef7751e260ba2c187fff3578634c73c53a04befd6c7fde8d595e"
   }
  }
 },
 "nbformat": 4,
 "nbformat_minor": 5
}
