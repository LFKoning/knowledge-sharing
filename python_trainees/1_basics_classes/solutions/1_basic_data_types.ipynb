{
 "cells": [
  {
   "cell_type": "markdown",
   "id": "b92d15b0",
   "metadata": {},
   "source": [
    "# Data types"
   ]
  },
  {
   "cell_type": "code",
   "execution_count": null,
   "id": "c0a9b393",
   "metadata": {},
   "outputs": [],
   "source": [
    "i = 5\n",
    "f = 3.7\n",
    "s = \"3.7\"\n",
    "t = 1, 2, 3\n",
    "l = [1, 2, 3]\n",
    "d = {\"a\": 1, \"b\": 2, \"c\": 3}"
   ]
  },
  {
   "cell_type": "code",
   "execution_count": null,
   "id": "800b8ec5",
   "metadata": {},
   "outputs": [],
   "source": [
    "for _ in i, f, s, t, l, d:\n",
    "    print(_, \"=\", type(_))"
   ]
  },
  {
   "cell_type": "code",
   "execution_count": null,
   "id": "c46c777a",
   "metadata": {},
   "outputs": [],
   "source": []
  },
  {
   "cell_type": "markdown",
   "id": "b2a2fb24",
   "metadata": {},
   "source": [
    "## Conversies"
   ]
  },
  {
   "cell_type": "code",
   "execution_count": null,
   "id": "2ec5f673",
   "metadata": {},
   "outputs": [],
   "source": [
    "# float => int: negeert alles achter de punt\n",
    "int(f)"
   ]
  },
  {
   "cell_type": "code",
   "execution_count": null,
   "id": "a08be98c",
   "metadata": {},
   "outputs": [],
   "source": [
    "s"
   ]
  },
  {
   "cell_type": "code",
   "execution_count": null,
   "id": "af1fee64",
   "metadata": {},
   "outputs": [],
   "source": [
    "# str => float (geldige waarde)\n",
    "float(s)"
   ]
  },
  {
   "cell_type": "code",
   "execution_count": null,
   "id": "4171c079",
   "metadata": {},
   "outputs": [],
   "source": [
    "# str => int; ongeldige waarde geeft ValueError\n",
    "# merk op: levert geen 3 op zoals int(3.7)\n",
    "int(s)"
   ]
  },
  {
   "cell_type": "code",
   "execution_count": null,
   "id": "5d683a0a",
   "metadata": {},
   "outputs": [],
   "source": []
  },
  {
   "cell_type": "markdown",
   "id": "c468fc0d",
   "metadata": {},
   "source": [
    "## List / Tuple"
   ]
  },
  {
   "cell_type": "code",
   "execution_count": null,
   "id": "a6cffd27",
   "metadata": {},
   "outputs": [],
   "source": [
    "l"
   ]
  },
  {
   "cell_type": "code",
   "execution_count": null,
   "id": "cee9544f",
   "metadata": {},
   "outputs": [],
   "source": [
    "# Eerste element is index 0\n",
    "l[0]"
   ]
  },
  {
   "cell_type": "code",
   "execution_count": null,
   "id": "1955f1ef",
   "metadata": {},
   "outputs": [],
   "source": [
    "# Buiten index bereik; IndexError\n",
    "l[3]"
   ]
  },
  {
   "cell_type": "code",
   "execution_count": null,
   "id": "f04c5233",
   "metadata": {},
   "outputs": [],
   "source": [
    "# len functie geeft aantal elementen\n",
    "len(l)"
   ]
  },
  {
   "cell_type": "code",
   "execution_count": null,
   "id": "f5546a67",
   "metadata": {},
   "outputs": [],
   "source": [
    "# slice uit een tuple: index 0 tot 2\n",
    "l[0:2]"
   ]
  },
  {
   "cell_type": "code",
   "execution_count": null,
   "id": "7112b1aa",
   "metadata": {},
   "outputs": [],
   "source": [
    "# slice tot einde: rechts open\n",
    "l[1:]"
   ]
  },
  {
   "cell_type": "code",
   "execution_count": null,
   "id": "c2c3af71",
   "metadata": {},
   "outputs": [],
   "source": [
    "# negatieve index, telt terug van laatste element\n",
    "l[0:-1]"
   ]
  },
  {
   "cell_type": "code",
   "execution_count": null,
   "id": "82f4fa1a",
   "metadata": {},
   "outputs": [],
   "source": [
    "# waarde toekennen\n",
    "l[0] = 0\n",
    "l"
   ]
  },
  {
   "cell_type": "code",
   "execution_count": null,
   "id": "651df097",
   "metadata": {},
   "outputs": [],
   "source": [
    "# kan alleen toekennen aan bestaande index\n",
    "# gebruik .append() om waardes toe te voegen\n",
    "l[3] = 4"
   ]
  },
  {
   "cell_type": "code",
   "execution_count": null,
   "id": "090c47cb",
   "metadata": {},
   "outputs": [],
   "source": [
    "# lijst vermenigvuldigen\n",
    "[1, 2, 3] * 3"
   ]
  },
  {
   "cell_type": "code",
   "execution_count": null,
   "id": "bb163568",
   "metadata": {},
   "outputs": [],
   "source": [
    "zeroes = [[0] * 3] * 3\n",
    "zeroes"
   ]
  },
  {
   "cell_type": "code",
   "execution_count": null,
   "id": "179407c7",
   "metadata": {},
   "outputs": [],
   "source": [
    "zeroes[0][0] = 1\n",
    "zeroes"
   ]
  },
  {
   "cell_type": "code",
   "execution_count": null,
   "id": "48cd9435",
   "metadata": {},
   "outputs": [],
   "source": []
  },
  {
   "cell_type": "code",
   "execution_count": null,
   "id": "1ab6af97",
   "metadata": {},
   "outputs": [],
   "source": []
  },
  {
   "cell_type": "markdown",
   "id": "bef68835",
   "metadata": {},
   "source": [
    "## Dict"
   ]
  },
  {
   "cell_type": "code",
   "execution_count": null,
   "id": "e81a363b",
   "metadata": {},
   "outputs": [],
   "source": [
    "d"
   ]
  },
  {
   "cell_type": "code",
   "execution_count": null,
   "id": "c31a676a",
   "metadata": {},
   "outputs": [],
   "source": [
    "# dict werkt met sleutels (str, int, etc)\n",
    "d[\"a\"]"
   ]
  },
  {
   "cell_type": "code",
   "execution_count": null,
   "id": "cc6b22be",
   "metadata": {},
   "outputs": [],
   "source": [
    "# niet bestaande sleutel geeft KeyError\n",
    "d[\"x\"]"
   ]
  },
  {
   "cell_type": "code",
   "execution_count": null,
   "id": "a63bbff6",
   "metadata": {},
   "outputs": [],
   "source": [
    "# opvragen met default, geen KeyError\n",
    "d.get(\"x\", \"standaard waarde\")"
   ]
  },
  {
   "cell_type": "code",
   "execution_count": null,
   "id": "1afe68cb",
   "metadata": {},
   "outputs": [],
   "source": [
    "# met len() krijg je het aantal items in een dict\n",
    "len(d)"
   ]
  },
  {
   "cell_type": "code",
   "execution_count": null,
   "id": "9e032c97",
   "metadata": {},
   "outputs": [],
   "source": [
    "# conversie naar list: lijst van sleutels\n",
    "list(d)"
   ]
  },
  {
   "cell_type": "code",
   "execution_count": null,
   "id": "59033b21",
   "metadata": {},
   "outputs": [],
   "source": [
    "# alternatieve manier om alle sleutels te krijgen...\n",
    "d.keys()"
   ]
  },
  {
   "cell_type": "code",
   "execution_count": null,
   "id": "6ef2c5e7",
   "metadata": {},
   "outputs": [],
   "source": [
    "# ... of juist alle waardes\n",
    "d.values()"
   ]
  },
  {
   "cell_type": "code",
   "execution_count": null,
   "id": "44c6cf50",
   "metadata": {},
   "outputs": [],
   "source": []
  },
  {
   "cell_type": "code",
   "execution_count": null,
   "id": "a5537995",
   "metadata": {},
   "outputs": [],
   "source": []
  },
  {
   "cell_type": "markdown",
   "id": "abec524f",
   "metadata": {},
   "source": [
    "### Tekst"
   ]
  },
  {
   "cell_type": "code",
   "execution_count": null,
   "id": "bcdb2439",
   "metadata": {},
   "outputs": [],
   "source": [
    "first_name = \"Henk\"\n",
    "last_name = \"Jansen\""
   ]
  },
  {
   "cell_type": "code",
   "execution_count": null,
   "id": "938c555b",
   "metadata": {},
   "outputs": [],
   "source": [
    "# indexeren / slices net als lijsten\n",
    "print(first_name[0])\n",
    "print(first_name[0:3])"
   ]
  },
  {
   "cell_type": "code",
   "execution_count": null,
   "id": "92f3937f",
   "metadata": {},
   "outputs": [],
   "source": [
    "# optellen voegt strings samen\n",
    "first_name + \" \" + last_name"
   ]
  },
  {
   "cell_type": "code",
   "execution_count": null,
   "id": "9885f978",
   "metadata": {},
   "outputs": [],
   "source": [
    "# vermenigvuldigen herhaalt waarde\n",
    "first_name * 3"
   ]
  },
  {
   "cell_type": "code",
   "execution_count": null,
   "id": "acd37f1c",
   "metadata": {},
   "outputs": [],
   "source": [
    "# f-string vult variabelen direct in\n",
    "f\"{first_name} {last_name}\""
   ]
  },
  {
   "cell_type": "code",
   "execution_count": null,
   "id": "325bcd74",
   "metadata": {},
   "outputs": [],
   "source": [
    "# format geeft meer controle\n",
    "template = \"{fn} {ln}\"\n",
    "template.format(fn=first_name, ln=last_name)"
   ]
  },
  {
   "cell_type": "code",
   "execution_count": null,
   "id": "9d829734",
   "metadata": {},
   "outputs": [],
   "source": [
    "# opmkaak voor weergave van variabelen\n",
    "# 15s = string van 15 characters\n",
    "# 15.2f = float van 15 cijfers en 2 decimalen\n",
    "\n",
    "data = {\"name\": \"Jan\", \"last_name\": \"Jansen\", \"score\": 7.6245}\n",
    "\n",
    "header_tmpl = \"| {0:15s} | {1:15s} | {2:>15s} |\"\n",
    "data_tmpl = \"| {0:15s} | {1:15s} | {2:15.2f} |\"\n",
    "\n",
    "print(header_tmpl.format(*data))\n",
    "print(data_tmpl.format(*data.values()))"
   ]
  },
  {
   "cell_type": "code",
   "execution_count": null,
   "id": "47407ed2",
   "metadata": {},
   "outputs": [],
   "source": []
  },
  {
   "cell_type": "markdown",
   "id": "bbc91499",
   "metadata": {},
   "source": [
    "## Gelijk of identiek"
   ]
  },
  {
   "cell_type": "code",
   "execution_count": null,
   "id": "21df11ba",
   "metadata": {},
   "outputs": [],
   "source": [
    "# gelijke tuples\n",
    "(1, 2, 3) == (1, 2, 3)"
   ]
  },
  {
   "cell_type": "code",
   "execution_count": null,
   "id": "2c60da6a",
   "metadata": {},
   "outputs": [],
   "source": [
    "# zijn ook identieke objecten\n",
    "(1, 2, 3) is (1, 2, 3)"
   ]
  },
  {
   "cell_type": "code",
   "execution_count": null,
   "id": "0dfb0cef",
   "metadata": {},
   "outputs": [],
   "source": [
    "# gelijke lijsten..\n",
    "[1, 2, 3] == [1, 2, 3]"
   ]
  },
  {
   "cell_type": "code",
   "execution_count": null,
   "id": "7075fad3",
   "metadata": {},
   "outputs": [],
   "source": [
    "# maar NIET dezelfde objecten!\n",
    "[1, 2, 3] is [1, 2, 3]"
   ]
  },
  {
   "cell_type": "code",
   "execution_count": null,
   "id": "3b92b76b",
   "metadata": {},
   "outputs": [],
   "source": []
  }
 ],
 "metadata": {
  "kernelspec": {
   "display_name": "Python 3 (ipykernel)",
   "language": "python",
   "name": "python3"
  },
  "language_info": {
   "codemirror_mode": {
    "name": "ipython",
    "version": 3
   },
   "file_extension": ".py",
   "mimetype": "text/x-python",
   "name": "python",
   "nbconvert_exporter": "python",
   "pygments_lexer": "ipython3",
   "version": "3.7.7"
  }
 },
 "nbformat": 4,
 "nbformat_minor": 5
}
