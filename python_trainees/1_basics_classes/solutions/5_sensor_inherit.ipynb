{
 "cells": [
  {
   "cell_type": "markdown",
   "metadata": {},
   "source": [
    "### The BaseReader Class"
   ]
  },
  {
   "cell_type": "code",
   "execution_count": null,
   "metadata": {},
   "outputs": [],
   "source": [
    "class BaseReader:\n",
    "    \"\"\"Class for reading delimited text files\"\"\"\n",
    "\n",
    "    # Set delimiter character\n",
    "    delimiter = \",\"\n",
    "    \n",
    "    @staticmethod\n",
    "    def _cast_numeric(value):\n",
    "        \"\"\"Try to convert value to numeric.\"\"\"\n",
    "        try:\n",
    "            return int(value)\n",
    "        except ValueError:\n",
    "            try:\n",
    "                return float(value)\n",
    "            except ValueError:\n",
    "                return value\n",
    "    \n",
    "    def _load(self, data_path):\n",
    "        \"\"\"Load delimited file and process records.\"\"\"\n",
    "        data = []\n",
    "        with open(data_path, \"r\", encoding=\"utf-8\") as data_file:\n",
    "            \n",
    "            header = next(data_file).strip().split(self.delimiter)\n",
    "            \n",
    "            for line in data_file:\n",
    "                values = line.strip().split(self.delimiter)\n",
    "                data.append({\n",
    "                    column: self._cast_numeric(value)\n",
    "                    for column, value in zip(header, values)\n",
    "                })\n",
    "        \n",
    "        return data\n",
    "            \n",
    "    def _post_process(self, data):\n",
    "        \"\"\"Processes the data after loading it.\"\"\" \n",
    "        return data\n",
    "            \n",
    "    def read(self, path):\n",
    "        \"\"\"Reads delimitied data from the specified path.\"\"\"\n",
    "        \n",
    "        data = self._load(path)\n",
    "        data = self._post_process(data)\n",
    "        \n",
    "        return data"
   ]
  },
  {
   "cell_type": "markdown",
   "metadata": {},
   "source": [
    "### Sensor Classes"
   ]
  },
  {
   "cell_type": "code",
   "execution_count": null,
   "metadata": {},
   "outputs": [],
   "source": [
    "import datetime as dt\n",
    "\n",
    "\n",
    "class SensorAReader(BaseReader):\n",
    "    \"\"\"Class for reading sensor A data files.\"\"\"\n",
    "\n",
    "    delimiter = \";\"\n",
    "\n",
    "    def _post_process(self, data):\n",
    "        \"\"\"Convert string to datetime.\"\"\"\n",
    "        for record in data:\n",
    "            record[\"TIME\"] = dt.datetime.strptime(record[\"TIME\"], \"%Y-%m-%d %H:%M:%S\")\n",
    "        \n",
    "        return data\n",
    "\n",
    "class SensorBReader(BaseReader):\n",
    "    \"\"\"Class for reading sensor B data files.\"\"\"\n",
    "    \n",
    "    delimiter = \"|\"\n",
    "   \n",
    "    def _post_process(self, data):\n",
    "        \"\"\"Convert epoch time to datetime.\"\"\"\n",
    "        for record in data:\n",
    "            record[\"TS\"] = dt.datetime.utcfromtimestamp(record[\"TS\"])\n",
    "        \n",
    "        return data"
   ]
  },
  {
   "cell_type": "code",
   "execution_count": null,
   "metadata": {},
   "outputs": [],
   "source": [
    "# Example output Sensor A\n",
    "reader_a = SensorAReader()\n",
    "data_a = reader_a.read(\"../../0_data/sensors/20200101_a.dat\")\n",
    "data_a[0]"
   ]
  },
  {
   "cell_type": "code",
   "execution_count": null,
   "metadata": {},
   "outputs": [],
   "source": [
    "# Example output Sensor B\n",
    "reader_b = SensorBReader()\n",
    "data_b = reader_b.read(\"../../0_data/sensors/20200101_b.dat\")\n",
    "data_b[0]"
   ]
  },
  {
   "cell_type": "code",
   "execution_count": null,
   "metadata": {},
   "outputs": [],
   "source": []
  }
 ],
 "metadata": {
  "kernelspec": {
   "display_name": "Python 3 (ipykernel)",
   "language": "python",
   "name": "python3"
  },
  "language_info": {
   "codemirror_mode": {
    "name": "ipython",
    "version": 3
   },
   "file_extension": ".py",
   "mimetype": "text/x-python",
   "name": "python",
   "nbconvert_exporter": "python",
   "pygments_lexer": "ipython3",
   "version": "3.9.16"
  }
 },
 "nbformat": 4,
 "nbformat_minor": 4
}
