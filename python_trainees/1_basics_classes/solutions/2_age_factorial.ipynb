{
 "cells": [
  {
   "cell_type": "markdown",
   "id": "43092ce4",
   "metadata": {},
   "source": [
    "# Faculteit leeftijd"
   ]
  },
  {
   "cell_type": "markdown",
   "id": "8e8b51c2",
   "metadata": {},
   "source": [
    "## Script"
   ]
  },
  {
   "cell_type": "code",
   "execution_count": null,
   "id": "91ddcef2",
   "metadata": {
    "scrolled": true
   },
   "outputs": [],
   "source": [
    "\"\"\"Module containing code for the first exercise\"\"\"\n",
    "\n",
    "# Define filenames as constants\n",
    "INPUT_FILE = \"../../0_data/persons/personal_data.csv\"\n",
    "OUTPUT_FILE = \"output.csv\"\n",
    "\n",
    "\n",
    "def read_input(input_path):\n",
    "    \"\"\"Read input CSV data from the provided path.\n",
    "\n",
    "    Parameters\n",
    "    ----------\n",
    "    input_path : str\n",
    "        Path to the input data as string.\n",
    "\n",
    "    Returns\n",
    "    -------\n",
    "    list\n",
    "        Data as a list of dicts\n",
    "    \"\"\"\n",
    "    data = []\n",
    "    with open(input_path, \"r\", encoding=\"utf-8\") as data_file:\n",
    "        for line in data_file:\n",
    "            name, gender, age = line.split(\",\")\n",
    "            data.append(\n",
    "                # Age needs to be converted from string to integer\n",
    "                {\"name\": name, \"gender\": gender, \"age\": int(age)}\n",
    "            )\n",
    "\n",
    "    return data\n",
    "\n",
    "\n",
    "def write_output(output_path, data):\n",
    "    \"\"\"Write data to the provided path.\n",
    "\n",
    "    Warning: Overwrites the output file if it exists!\n",
    "\n",
    "    Parameters\n",
    "    ----------\n",
    "    output_path : str\n",
    "        Path to the output file as string.\n",
    "    data : list\n",
    "        Data as a list of dicts.\n",
    "    \"\"\"\n",
    "    template = \"{name},{gender},{age},{age_factorial}\\n\"\n",
    "\n",
    "    with open(output_path, \"w\", encoding=\"utf-8\") as output_file:\n",
    "        for record in data:\n",
    "            # Format dict records into a string\n",
    "            output_file.write(template.format(**record))\n",
    "\n",
    "\n",
    "def compute_factorial(age):\n",
    "    \"\"\"Computes factorial for the provided aga.\n",
    "\n",
    "    Parameters\n",
    "    ----------\n",
    "    age : int\n",
    "        Age to compute factorial for as integer.\n",
    "\n",
    "    Returns\n",
    "    -------\n",
    "    int\n",
    "        Factorial for the provided age.\n",
    "    \"\"\"\n",
    "    factorial = 1\n",
    "    for x in range(age):\n",
    "        factorial *= (x + 1)\n",
    "    return factorial\n",
    "\n",
    "\n",
    "def main():\n",
    "    \"\"\"Read input data, compute factorials and write output data.\"\"\"\n",
    "\n",
    "    print(f\"Reading input data from: {INPUT_FILE}\")\n",
    "    data = read_input(INPUT_FILE)\n",
    "\n",
    "    print(f\"Computing factorial of age for {len(data)} persons.\")\n",
    "    for person in data:\n",
    "        person[\"age_factorial\"] = compute_factorial(person[\"age\"])\n",
    "\n",
    "    print(f\"Writing output to: {OUTPUT_FILE}\")\n",
    "    write_output(OUTPUT_FILE, data)\n",
    "\n",
    "\n",
    "if __name__ == \"__main__\":\n",
    "    main()"
   ]
  },
  {
   "cell_type": "markdown",
   "id": "29664415",
   "metadata": {},
   "source": [
    "### Recursieve functies"
   ]
  },
  {
   "cell_type": "code",
   "execution_count": null,
   "id": "d90cbe7f",
   "metadata": {},
   "outputs": [],
   "source": [
    "def compute_factorial_recursive(value):\n",
    "    \"\"\"Compute factorial recursively.\"\"\"\n",
    "    \n",
    "    # Don;t forget a stopping condition!\n",
    "    if value <= 1:\n",
    "        return 1\n",
    "    \n",
    "    # Calls itself using value - 1\n",
    "    return value * compute_factorial_recursive(value - 1)\n"
   ]
  },
  {
   "cell_type": "code",
   "execution_count": null,
   "id": "31ed4511",
   "metadata": {},
   "outputs": [],
   "source": [
    "compute_factorial_recursive(4)"
   ]
  },
  {
   "cell_type": "code",
   "execution_count": null,
   "id": "59301bbb",
   "metadata": {},
   "outputs": [],
   "source": [
    "# Using cache (memoization) can significantly improve performance\n",
    "from functools import lru_cache\n",
    "\n",
    "@lru_cache(maxsize=1000)\n",
    "def compute_factorial_recursive(value):\n",
    "    \"\"\"Compute factorial recursively.\"\"\"\n",
    "    return value * compute_factorial_recursive(value - 1) if value else 1"
   ]
  },
  {
   "cell_type": "code",
   "execution_count": null,
   "id": "4b5d945c",
   "metadata": {},
   "outputs": [],
   "source": [
    "import time\n",
    "\n",
    "for nr, n in enumerate((1000, 1000, 900)):\n",
    "    start = time.perf_counter()\n",
    "    compute_factorial_recursive(n)\n",
    "    time_taken = time.perf_counter() - start\n",
    "    print(f\"Time taken in loop {nr}: {1000 * time_taken:.5f} ms\")"
   ]
  },
  {
   "cell_type": "markdown",
   "id": "8b7ec72e",
   "metadata": {},
   "source": [
    "### Kwargs"
   ]
  },
  {
   "cell_type": "code",
   "execution_count": null,
   "id": "f346be47",
   "metadata": {},
   "outputs": [],
   "source": [
    "def print_args(a, b, c):\n",
    "    \"\"\"Print arguments a, b, and c.\"\"\"\n",
    "    print(f\"a = {a}\\nb = {b}\\nc = {c}\")"
   ]
  },
  {
   "cell_type": "code",
   "execution_count": null,
   "id": "ee14b8a3",
   "metadata": {},
   "outputs": [],
   "source": [
    "# Call using dict and ** operator\n",
    "# Note: Unpacks the dict into key=value pairs.\n",
    "args = {\"a\": 1, \"b\": 2, \"c\": 3}\n",
    "print_args(**args)"
   ]
  },
  {
   "cell_type": "code",
   "execution_count": null,
   "id": "6a82a234",
   "metadata": {},
   "outputs": [],
   "source": [
    "# Keys and arguments must match!\n",
    "# Note: Extra key d produces a TypeError.\n",
    "args = {\"a\": 1, \"b\": 2, \"c\": 3, \"d\": 4}\n",
    "print_args(**args)"
   ]
  },
  {
   "cell_type": "markdown",
   "id": "870e482d",
   "metadata": {},
   "source": [
    "### Using kwargs in function definitions"
   ]
  },
  {
   "cell_type": "code",
   "execution_count": null,
   "id": "08f202b7",
   "metadata": {},
   "outputs": [],
   "source": [
    "# Use **kwargs to \"catch\" all (remaining) keyworded arguments.\n",
    "def print_kwargs(**kwargs):\n",
    "    \"\"\"Functie with flexible keyworded arguments.\"\"\"\n",
    "    print(kwargs)"
   ]
  },
  {
   "cell_type": "code",
   "execution_count": null,
   "id": "cb4e95f6",
   "metadata": {},
   "outputs": [],
   "source": [
    "# Call using any number of key=value arguments\n",
    "print_kwargs(a=1, b=2, c=3)"
   ]
  },
  {
   "cell_type": "code",
   "execution_count": null,
   "id": "dc7029b6",
   "metadata": {},
   "outputs": [],
   "source": [
    "# Can combinate fixed and flexibele arguments\n",
    "# Note: a and b are fixed, everything else is flexible.\n",
    "def print_mixed(a, b=2, **kwargs):\n",
    "    print(a, b, kwargs)"
   ]
  },
  {
   "cell_type": "code",
   "execution_count": null,
   "id": "bd140bfe",
   "metadata": {},
   "outputs": [],
   "source": [
    "print_mixed(a=1, c=3, d=4)"
   ]
  },
  {
   "cell_type": "code",
   "execution_count": null,
   "id": "5cecaac1",
   "metadata": {},
   "outputs": [],
   "source": []
  },
  {
   "cell_type": "code",
   "execution_count": null,
   "id": "6d35fd5a",
   "metadata": {},
   "outputs": [],
   "source": []
  },
  {
   "cell_type": "markdown",
   "id": "9d124057",
   "metadata": {},
   "source": [
    "### Comprehensions"
   ]
  },
  {
   "cell_type": "code",
   "execution_count": null,
   "id": "083d3b35",
   "metadata": {},
   "outputs": [],
   "source": [
    "ages = [16, 24, 35, 50]"
   ]
  },
  {
   "cell_type": "code",
   "execution_count": null,
   "id": "7ecdc963",
   "metadata": {},
   "outputs": [],
   "source": [
    "def is_adult(leeftijd):\n",
    "    \"\"\"Check person is an adult.\"\"\"\n",
    "    return age >= 18"
   ]
  },
  {
   "cell_type": "code",
   "execution_count": null,
   "id": "35d5b1bc",
   "metadata": {},
   "outputs": [],
   "source": [
    "# Using a for loop; lots of code...\n",
    "adults = []\n",
    "for age in ages:\n",
    "    adults.append(is_adult(age))\n",
    "    \n",
    "adults"
   ]
  },
  {
   "cell_type": "code",
   "execution_count": null,
   "id": "b7b641c4",
   "metadata": {},
   "outputs": [],
   "source": [
    "# Single line when using comprehension.\n",
    "[is_adult(age) for age in ages]"
   ]
  },
  {
   "cell_type": "code",
   "execution_count": null,
   "id": "9e492fa1",
   "metadata": {},
   "outputs": [],
   "source": [
    "# Dict supports comprehension too\n",
    "settings = {\"a\": 1, \"B\": 2, \" C \": 3}\n",
    "\n",
    "{\n",
    "    # The key: value mapping happens here\n",
    "    k: v ** 2\n",
    "    \n",
    "    # Looping over items\n",
    "    for k, v in settings.items()\n",
    "    \n",
    "}"
   ]
  },
  {
   "cell_type": "code",
   "execution_count": null,
   "id": "124a47ef",
   "metadata": {},
   "outputs": [],
   "source": []
  }
 ],
 "metadata": {
  "kernelspec": {
   "display_name": "Python 3 (ipykernel)",
   "language": "python",
   "name": "python3"
  },
  "language_info": {
   "codemirror_mode": {
    "name": "ipython",
    "version": 3
   },
   "file_extension": ".py",
   "mimetype": "text/x-python",
   "name": "python",
   "nbconvert_exporter": "python",
   "pygments_lexer": "ipython3",
   "version": "3.9.16"
  },
  "vscode": {
   "interpreter": {
    "hash": "97fc0b27db06ef7751e260ba2c187fff3578634c73c53a04befd6c7fde8d595e"
   }
  }
 },
 "nbformat": 4,
 "nbformat_minor": 5
}
