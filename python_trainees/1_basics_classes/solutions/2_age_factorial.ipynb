{
 "cells": [
  {
   "cell_type": "markdown",
   "id": "43092ce4",
   "metadata": {},
   "source": [
    "# Faculteit leeftijd"
   ]
  },
  {
   "cell_type": "markdown",
   "id": "8e8b51c2",
   "metadata": {},
   "source": [
    "## Script"
   ]
  },
  {
   "cell_type": "code",
   "execution_count": null,
   "id": "91ddcef2",
   "metadata": {
    "scrolled": true
   },
   "outputs": [],
   "source": [
    "\"\"\"Module containing code for the first exercise\"\"\"\n",
    "\n",
    "# Define filenames as constants\n",
    "INPUT_FILE = \"../../0_data/persons/personal_data.csv\"\n",
    "OUTPUT_FILE = \"output.csv\"\n",
    "\n",
    "\n",
    "def read_input(input_path):\n",
    "    \"\"\"Read input CSV data from the provided path.\n",
    "\n",
    "    Parameters\n",
    "    ----------\n",
    "    input_path : str\n",
    "        Path to the input data as string.\n",
    "\n",
    "    Returns\n",
    "    -------\n",
    "    list\n",
    "        Data as a list of dicts\n",
    "    \"\"\"\n",
    "    data = []\n",
    "    with open(input_path, \"r\", encoding=\"utf-8\") as data_file:\n",
    "        for line in data_file:\n",
    "            name, gender, age = line.split(\",\")\n",
    "            data.append(\n",
    "                # Age needs to be converted from string to integer\n",
    "                {\"name\": name, \"gender\": gender, \"age\": int(age)}\n",
    "            )\n",
    "\n",
    "    return data\n",
    "\n",
    "\n",
    "def write_output(output_path, data):\n",
    "    \"\"\"Write data to the provided path.\n",
    "\n",
    "    Warning: Overwrites the output file if it exists!\n",
    "\n",
    "    Parameters\n",
    "    ----------\n",
    "    output_path : str\n",
    "        Path to the output file as string.\n",
    "    data : list\n",
    "        Data as a list of dicts.\n",
    "    \"\"\"\n",
    "    template = \"{name},{gender},{age},{age_factorial}\\n\"\n",
    "\n",
    "    with open(output_path, \"w\", encoding=\"utf-8\") as output_file:\n",
    "        for record in data:\n",
    "            # Format dict records into a string\n",
    "            output_file.write(template.format(**record))\n",
    "\n",
    "\n",
    "def compute_factorial(age):\n",
    "    \"\"\"Computes factorial for the provided aga.\n",
    "\n",
    "    Parameters\n",
    "    ----------\n",
    "    age : int\n",
    "        Age to compute factorial for as integer.\n",
    "\n",
    "    Returns\n",
    "    -------\n",
    "    int\n",
    "        Factorial for the provided age.\n",
    "    \"\"\"\n",
    "    factorial = 1\n",
    "    for x in range(age):\n",
    "        factorial *= (x + 1)\n",
    "    return factorial\n",
    "\n",
    "\n",
    "def main():\n",
    "    \"\"\"Read input data, compute factorials and write output data.\"\"\"\n",
    "\n",
    "    print(f\"Reading input data from: {INPUT_FILE}\")\n",
    "    data = read_input(INPUT_FILE)\n",
    "\n",
    "    print(f\"Computing factorial of age for {len(data)} persons.\")\n",
    "    for person in data:\n",
    "        person[\"age_factorial\"] = compute_factorial(person[\"age\"])\n",
    "\n",
    "    print(f\"Writing output to: {OUTPUT_FILE}\")\n",
    "    write_output(OUTPUT_FILE, data)\n",
    "\n",
    "\n",
    "if __name__ == \"__main__\":\n",
    "    main()"
   ]
  },
  {
   "cell_type": "markdown",
   "id": "29664415",
   "metadata": {},
   "source": [
    "### Recursieve functies"
   ]
  },
  {
   "cell_type": "code",
   "execution_count": null,
   "id": "d90cbe7f",
   "metadata": {},
   "outputs": [],
   "source": [
    "def compute_factorial_recursive(value):\n",
    "    \"\"\"Compute factorial recursively.\"\"\"\n",
    "    \n",
    "    # Stop conditie\n",
    "    if value <= 1:\n",
    "        return 1\n",
    "    \n",
    "    # Roept zichzelf aan met als argument value - 1\n",
    "    return value * compute_factorial_recursive(value - 1)\n"
   ]
  },
  {
   "cell_type": "code",
   "execution_count": null,
   "id": "31ed4511",
   "metadata": {},
   "outputs": [],
   "source": [
    "compute_factorial_recursive(4)"
   ]
  },
  {
   "cell_type": "code",
   "execution_count": null,
   "id": "59301bbb",
   "metadata": {},
   "outputs": [],
   "source": [
    "# Gebruik van cache (memoization)\n",
    "from functools import lru_cache\n",
    "\n",
    "@lru_cache(maxsize=1000)\n",
    "def compute_factorial_recursive(value):\n",
    "    \"\"\"Compute factorial recursively.\"\"\"\n",
    "    return value * compute_factorial_recursive(value - 1) if value else 1"
   ]
  },
  {
   "cell_type": "code",
   "execution_count": null,
   "id": "4b5d945c",
   "metadata": {},
   "outputs": [],
   "source": [
    "import time\n",
    "\n",
    "for nr, n in enumerate((1000, 1000, 900)):\n",
    "    start = time.perf_counter()\n",
    "    compute_factorial_recursive(n)\n",
    "    time_taken = time.perf_counter() - start\n",
    "    print(f\"Time taken in loop {nr}: {1000 * time_taken:.5f} ms\")"
   ]
  },
  {
   "cell_type": "markdown",
   "id": "8b7ec72e",
   "metadata": {},
   "source": [
    "### Kwargs"
   ]
  },
  {
   "cell_type": "code",
   "execution_count": null,
   "id": "f346be47",
   "metadata": {},
   "outputs": [],
   "source": [
    "# Functie met 3 argumenten\n",
    "def print_args(a, b, c):\n",
    "    \"\"\"Print argumenten a, b en c.\"\"\"\n",
    "    print(f\"a = {a}\\nb = {b}\\nc = {c}\")"
   ]
  },
  {
   "cell_type": "code",
   "execution_count": null,
   "id": "ee14b8a3",
   "metadata": {},
   "outputs": [],
   "source": [
    "# Aanroep met dict met 3 corresponderende sleutels\n",
    "args = {\"a\": 1, \"b\": 2, \"c\": 3}\n",
    "args"
   ]
  },
  {
   "cell_type": "code",
   "execution_count": null,
   "id": "ccd6e47e",
   "metadata": {},
   "outputs": [],
   "source": [
    "print_args(**args)"
   ]
  },
  {
   "cell_type": "code",
   "execution_count": null,
   "id": "6a82a234",
   "metadata": {},
   "outputs": [],
   "source": [
    "# Let op: de sleutels en argumenten moeten corresponderen!\n",
    "# Aanroep met dict met 3 corresponderende sleutels\n",
    "args = {\"a\": 1, \"b\": 2, \"c\": 3, \"d\": 4}\n",
    "print_args(**args)"
   ]
  },
  {
   "cell_type": "code",
   "execution_count": null,
   "id": "858fd3ff",
   "metadata": {},
   "outputs": [],
   "source": []
  },
  {
   "cell_type": "code",
   "execution_count": null,
   "id": "08f202b7",
   "metadata": {},
   "outputs": [],
   "source": [
    "# Gebruik **kwargs om een variabel aantal argumenten op te vangen\n",
    "def print_kwargs(**kwargs):\n",
    "    \"\"\"Functie met variabele argumenten.\"\"\"\n",
    "    print(kwargs)"
   ]
  },
  {
   "cell_type": "code",
   "execution_count": null,
   "id": "cb4e95f6",
   "metadata": {},
   "outputs": [],
   "source": [
    "# Aanroep met willekeurige argumenten\n",
    "print_kwargs(a=1, b=2, c=3)"
   ]
  },
  {
   "cell_type": "code",
   "execution_count": null,
   "id": "b97790bc",
   "metadata": {},
   "outputs": [],
   "source": []
  },
  {
   "cell_type": "code",
   "execution_count": null,
   "id": "a8e847ed",
   "metadata": {},
   "outputs": [],
   "source": [
    "# Met *args kun je positionele argumenten opvangen\n",
    "def print_args(*args):\n",
    "    \"\"\"Print list of arguments.\"\"\"\n",
    "    print(args)"
   ]
  },
  {
   "cell_type": "code",
   "execution_count": null,
   "id": "c0edde72",
   "metadata": {},
   "outputs": [],
   "source": [
    "# Merk op dat *args een tuple met (1, 2, 3) is geworden\n",
    "print_args(1, 2, 3, 4, 5)"
   ]
  },
  {
   "cell_type": "code",
   "execution_count": null,
   "id": "f13c2505",
   "metadata": {},
   "outputs": [],
   "source": []
  },
  {
   "cell_type": "code",
   "execution_count": null,
   "id": "4bfa1b27",
   "metadata": {},
   "outputs": [],
   "source": [
    "# Combinatie van vaste en flexibele argumenten\n",
    "# Merk op: a en b zijn verplicht, de rest is optioneel.\n",
    "def print_mixed(a, b, **kwargs):\n",
    "    print(a, b, kwargs)"
   ]
  },
  {
   "cell_type": "code",
   "execution_count": null,
   "id": "bd140bfe",
   "metadata": {},
   "outputs": [],
   "source": [
    "print_mixed(a=1, b=2, c=3, d=4)"
   ]
  },
  {
   "cell_type": "code",
   "execution_count": null,
   "id": "5cecaac1",
   "metadata": {},
   "outputs": [],
   "source": []
  },
  {
   "cell_type": "code",
   "execution_count": null,
   "id": "6d35fd5a",
   "metadata": {},
   "outputs": [],
   "source": []
  },
  {
   "cell_type": "markdown",
   "id": "9d124057",
   "metadata": {},
   "source": [
    "### Comprehensions"
   ]
  },
  {
   "cell_type": "code",
   "execution_count": null,
   "id": "083d3b35",
   "metadata": {},
   "outputs": [],
   "source": [
    "leeftijden = [16, 24, 35, 50]"
   ]
  },
  {
   "cell_type": "code",
   "execution_count": null,
   "id": "7ecdc963",
   "metadata": {},
   "outputs": [],
   "source": [
    "def is_volwassen(leeftijd):\n",
    "    \"\"\"Check op volwassen leeftijd.\"\"\"\n",
    "    return leeftijd >= 18"
   ]
  },
  {
   "cell_type": "code",
   "execution_count": null,
   "id": "35d5b1bc",
   "metadata": {},
   "outputs": [],
   "source": [
    "# Oplossing met for loop; vrij veel code...\n",
    "volwassenen = []\n",
    "for leeftijd in leeftijden:\n",
    "    volwassenen.append(is_volwassen(leeftijd))\n",
    "    \n",
    "volwassenen"
   ]
  },
  {
   "cell_type": "code",
   "execution_count": null,
   "id": "b7b641c4",
   "metadata": {},
   "outputs": [],
   "source": [
    "# Met comprehensions kan het op 1 regel...\n",
    "volwassenen = [is_volwassen(leeftijd) for leeftijd in leeftijden]\n",
    "\n",
    "volwassenen"
   ]
  },
  {
   "cell_type": "code",
   "execution_count": null,
   "id": "685411da",
   "metadata": {},
   "outputs": [],
   "source": [
    "# Kan ook met een if ... else\n",
    "[\n",
    "    \"Ja\" if is_volwassen(leeftijd) else \"Nee\"\n",
    "    for leeftijd in leeftijden\n",
    "]"
   ]
  },
  {
   "cell_type": "code",
   "execution_count": null,
   "id": "2718912e",
   "metadata": {},
   "outputs": [],
   "source": [
    "# Of met een filter\n",
    "[\n",
    "    leeftijd\n",
    "    for leeftijd in leeftijden\n",
    "    if is_volwassen(leeftijd)\n",
    "]"
   ]
  },
  {
   "cell_type": "code",
   "execution_count": null,
   "id": "410471d9",
   "metadata": {},
   "outputs": [],
   "source": []
  },
  {
   "cell_type": "code",
   "execution_count": null,
   "id": "1e86dd7a",
   "metadata": {},
   "outputs": [],
   "source": [
    "settings = {\"a\": 1, \"B\": 2, \" C \": 3}\n",
    "settings"
   ]
  },
  {
   "cell_type": "code",
   "execution_count": null,
   "id": "9e492fa1",
   "metadata": {},
   "outputs": [],
   "source": [
    "# Ook voor dict kun je comprehension gebruiken\n",
    "{\n",
    "    # Merk op: mapping van sleutel en waarde gebeurt hier\n",
    "    k.lower().strip(): v\n",
    "    \n",
    "    # For loop over items()\n",
    "    for k, v in settings.items()\n",
    "    \n",
    "}"
   ]
  },
  {
   "cell_type": "code",
   "execution_count": null,
   "id": "81553b59",
   "metadata": {},
   "outputs": [],
   "source": []
  },
  {
   "cell_type": "code",
   "execution_count": null,
   "id": "124a47ef",
   "metadata": {},
   "outputs": [],
   "source": []
  }
 ],
 "metadata": {
  "kernelspec": {
   "display_name": "python-trainees",
   "language": "python",
   "name": "python3"
  },
  "language_info": {
   "codemirror_mode": {
    "name": "ipython",
    "version": 3
   },
   "file_extension": ".py",
   "mimetype": "text/x-python",
   "name": "python",
   "nbconvert_exporter": "python",
   "pygments_lexer": "ipython3",
   "version": "3.9.16"
  },
  "vscode": {
   "interpreter": {
    "hash": "97fc0b27db06ef7751e260ba2c187fff3578634c73c53a04befd6c7fde8d595e"
   }
  }
 },
 "nbformat": 4,
 "nbformat_minor": 5
}
