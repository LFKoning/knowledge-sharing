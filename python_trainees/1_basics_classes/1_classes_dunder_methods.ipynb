{
 "cells": [
  {
   "cell_type": "markdown",
   "id": "dcca68b8",
   "metadata": {},
   "source": [
    "# Class basics"
   ]
  },
  {
   "cell_type": "code",
   "execution_count": null,
   "id": "65f56387",
   "metadata": {},
   "outputs": [],
   "source": [
    "# Use class keyword to define a class\n",
    "class Person:\n",
    "    \"\"\"Class for natural persons.\"\"\"\n",
    "    \n",
    "    # Class attributes\n",
    "    name = \"John\"\n",
    "    lastname = \"Doe\"\n",
    "    \n",
    "    # Class methods\n",
    "    # Note: First argument is always self\n",
    "    def full_name(self):\n",
    "        \"\"\"Returns the person's full name.\"\"\"\n",
    "        \n",
    "        # Note: Use self to access attributes\n",
    "        return f\"{self.name} {self.lastname}\""
   ]
  },
  {
   "cell_type": "code",
   "execution_count": null,
   "id": "58b4fa24",
   "metadata": {},
   "outputs": [],
   "source": [
    "# Create an instance of the class\n",
    "person_a = Person()"
   ]
  },
  {
   "cell_type": "code",
   "execution_count": null,
   "id": "4e662d3d",
   "metadata": {},
   "outputs": [],
   "source": [
    "# Access attributes using a dot: <class>.<attribuut>\n",
    "person_a.name"
   ]
  },
  {
   "cell_type": "code",
   "execution_count": null,
   "id": "929f93c4",
   "metadata": {},
   "outputs": [],
   "source": [
    "# Same for class methods\n",
    "person_a.full_name()"
   ]
  },
  {
   "cell_type": "code",
   "execution_count": null,
   "id": "fd2748d5",
   "metadata": {},
   "outputs": [],
   "source": [
    "# Creating a second person\n",
    "person_b = Person()\n",
    "person_b.full_name()"
   ]
  },
  {
   "cell_type": "code",
   "execution_count": null,
   "id": "fe12a720",
   "metadata": {},
   "outputs": [],
   "source": [
    "# Different objects though\n",
    "person_a is person_b"
   ]
  },
  {
   "cell_type": "code",
   "execution_count": null,
   "id": "236450a6",
   "metadata": {},
   "outputs": [],
   "source": []
  },
  {
   "cell_type": "markdown",
   "id": "972070e1",
   "metadata": {},
   "source": [
    "## Dunder methods"
   ]
  },
  {
   "cell_type": "code",
   "execution_count": null,
   "id": "51a8b7c6",
   "metadata": {},
   "outputs": [],
   "source": [
    "class Person:\n",
    "    \"\"\"Class for natural persons.\"\"\"\n",
    "    \n",
    "    # Constructor; used to initialize object attributes\n",
    "    def __init__(self, name, lastname):\n",
    "        self.name = name.capitalize()\n",
    "        self.lastname = lastname.capitalize()\n",
    "    \n",
    "    def full_name(self):\n",
    "        \"\"\"Returns the person's full name.\"\"\"\n",
    "        return f\"{self.name} {self.lastname}\""
   ]
  },
  {
   "cell_type": "code",
   "execution_count": null,
   "id": "03278cfb",
   "metadata": {},
   "outputs": [],
   "source": [
    "# De namen worden nu in 1x via de constructor ingesteld!\n",
    "person_c = Person(\"Jane\", \"Doe\")\n",
    "person_c.full_name()"
   ]
  },
  {
   "cell_type": "code",
   "execution_count": null,
   "id": "3f8e04ba",
   "metadata": {},
   "outputs": [],
   "source": [
    "class Person:\n",
    "    \"\"\"Class for natural persons.\"\"\"\n",
    "    \n",
    "    # Constructor; used to initialize object attributes\n",
    "    def __init__(self, name, lastname):\n",
    "        self.name = name.capitalize()\n",
    "        self.lastname = lastname.capitalize()\n",
    "    \n",
    "    def full_name(self):\n",
    "        \"\"\"Returns the person's full name.\"\"\"\n",
    "        return f\"{self.name} {self.lastname}\"\n",
    "\n",
    "    def __repr__(self):\n",
    "        \"\"\"Represents the Person object.\"\"\"\n",
    "        return f'Person(\"{self.name}\", \"{self.lastname}\")'\n",
    "    \n",
    "    def __str__(self):\n",
    "        \"\"\"String representation of the person.\"\"\"\n",
    "        return self.full_name()"
   ]
  },
  {
   "cell_type": "code",
   "execution_count": null,
   "id": "01ac105a",
   "metadata": {},
   "outputs": [],
   "source": [
    "person_c = Person(\"Jane\", \"Doe\")\n",
    "\n",
    "# Representation via __repr__ method\n",
    "person_c"
   ]
  },
  {
   "cell_type": "code",
   "execution_count": null,
   "id": "14ca32aa",
   "metadata": {},
   "outputs": [],
   "source": [
    "# String representation via __str__\n",
    "str(person_c)"
   ]
  },
  {
   "cell_type": "code",
   "execution_count": null,
   "id": "7fbd3431",
   "metadata": {},
   "outputs": [],
   "source": []
  },
  {
   "cell_type": "markdown",
   "id": "01c2dbb0",
   "metadata": {},
   "source": [
    "### Class methods"
   ]
  },
  {
   "cell_type": "code",
   "execution_count": null,
   "id": "54db21eb",
   "metadata": {},
   "outputs": [],
   "source": [
    "class Person:\n",
    "    \"\"\"Class for natural persons.\"\"\"\n",
    "    \n",
    "    # Constructor; used to initialize object attributes\n",
    "    def __init__(self, name, lastname):\n",
    "        self.name = name.capitalize()\n",
    "        self.lastname = lastname.capitalize()\n",
    "    \n",
    "    def full_name(self):\n",
    "        \"\"\"Returns the person's full name.\"\"\"\n",
    "        return f\"{self.name} {self.lastname}\"\n",
    "\n",
    "    def __repr__(self):\n",
    "        \"\"\"Represents the Person object.\"\"\"\n",
    "        return f'Person(\"{self.name}\", \"{self.lastname}\")'\n",
    "    \n",
    "    def __str__(self):\n",
    "        \"\"\"String representation of the person.\"\"\"\n",
    "        return self.full_name()\n",
    "    \n",
    "    # Factory method: creates Person object from a string\n",
    "    # Note: First argument refers to the class!\n",
    "    @classmethod\n",
    "    def from_string(cls, person_str):\n",
    "        \"\"\"Create a Person from a comma-separated string.\"\"\"\n",
    "        name, lastname = person_str.split(\",\")\n",
    "        return cls(name.strip(), lastname.strip())"
   ]
  },
  {
   "cell_type": "code",
   "execution_count": null,
   "id": "0697afca",
   "metadata": {},
   "outputs": [],
   "source": [
    "# Create a person object from a string\n",
    "Person.from_string(\"John,Doe\")"
   ]
  },
  {
   "cell_type": "code",
   "execution_count": null,
   "id": "70c31875",
   "metadata": {},
   "outputs": [],
   "source": []
  }
 ],
 "metadata": {
  "kernelspec": {
   "display_name": "Python 3 (ipykernel)",
   "language": "python",
   "name": "python3"
  },
  "language_info": {
   "codemirror_mode": {
    "name": "ipython",
    "version": 3
   },
   "file_extension": ".py",
   "mimetype": "text/x-python",
   "name": "python",
   "nbconvert_exporter": "python",
   "pygments_lexer": "ipython3",
   "version": "3.7.7"
  }
 },
 "nbformat": 4,
 "nbformat_minor": 5
}
