{
 "cells": [
  {
   "cell_type": "markdown",
   "id": "8b7ec72e",
   "metadata": {},
   "source": [
    "### Kwargs"
   ]
  },
  {
   "cell_type": "code",
   "execution_count": null,
   "id": "f346be47",
   "metadata": {},
   "outputs": [],
   "source": [
    "# Functie met 3 argumenten\n",
    "def print_args(a, b, c):\n",
    "    \"\"\"Print argumenten a, b en c.\"\"\"\n",
    "    print(f\"a = {a}\\nb = {b}\\nc = {c}\")"
   ]
  },
  {
   "cell_type": "code",
   "execution_count": null,
   "id": "ee14b8a3",
   "metadata": {},
   "outputs": [],
   "source": [
    "# Aanroep met dict met 3 corresponderende sleutels\n",
    "args = {\"a\": 1, \"b\": 2, \"c\": 3}\n",
    "args"
   ]
  },
  {
   "cell_type": "code",
   "execution_count": null,
   "id": "ccd6e47e",
   "metadata": {},
   "outputs": [],
   "source": [
    "print_args(**args)"
   ]
  },
  {
   "cell_type": "code",
   "execution_count": null,
   "id": "6a82a234",
   "metadata": {},
   "outputs": [],
   "source": [
    "# Let op: de sleutels en argumenten moeten corresponderen!\n",
    "# Aanroep met dict met 3 corresponderende sleutels\n",
    "args = {\"a\": 1, \"b\": 2, \"c\": 3, \"d\": 4}\n",
    "print_args(**args)"
   ]
  },
  {
   "cell_type": "code",
   "execution_count": null,
   "id": "858fd3ff",
   "metadata": {},
   "outputs": [],
   "source": []
  },
  {
   "cell_type": "code",
   "execution_count": null,
   "id": "08f202b7",
   "metadata": {},
   "outputs": [],
   "source": [
    "# Gebruik **kwargs om een variabel aantal argumenten op te vangen\n",
    "def print_kwargs(**kwargs):\n",
    "    \"\"\"Functie met variabele argumenten.\"\"\"\n",
    "    print(kwargs)"
   ]
  },
  {
   "cell_type": "code",
   "execution_count": null,
   "id": "cb4e95f6",
   "metadata": {},
   "outputs": [],
   "source": [
    "# Aanroep met willekeurige argumenten\n",
    "print_kwargs(a=1, b=2, c=3)"
   ]
  },
  {
   "cell_type": "code",
   "execution_count": null,
   "id": "b97790bc",
   "metadata": {},
   "outputs": [],
   "source": []
  },
  {
   "cell_type": "code",
   "execution_count": null,
   "id": "a8e847ed",
   "metadata": {},
   "outputs": [],
   "source": [
    "# Met *args kun je positionele argumenten opvangen\n",
    "def print_args(*args):\n",
    "    \"\"\"Print list of arguments.\"\"\"\n",
    "    print(args)"
   ]
  },
  {
   "cell_type": "code",
   "execution_count": null,
   "id": "c0edde72",
   "metadata": {},
   "outputs": [],
   "source": [
    "# Merk op dat *args een tuple met (1, 2, 3) is geworden\n",
    "print_args(1, 2, 3, 4, 5)"
   ]
  },
  {
   "cell_type": "code",
   "execution_count": null,
   "id": "f13c2505",
   "metadata": {},
   "outputs": [],
   "source": []
  },
  {
   "cell_type": "code",
   "execution_count": null,
   "id": "4bfa1b27",
   "metadata": {},
   "outputs": [],
   "source": [
    "# Combinatie van vaste en flexibele argumenten\n",
    "# Merk op: a en b zijn verplicht, de rest is optioneel.\n",
    "def print_mixed(a, b, **kwargs):\n",
    "    print(a, b, kwargs)"
   ]
  },
  {
   "cell_type": "code",
   "execution_count": null,
   "id": "bd140bfe",
   "metadata": {},
   "outputs": [],
   "source": [
    "print_mixed(a=1, b=2, c=3, d=4)"
   ]
  },
  {
   "cell_type": "code",
   "execution_count": null,
   "id": "5cecaac1",
   "metadata": {},
   "outputs": [],
   "source": []
  },
  {
   "cell_type": "markdown",
   "id": "b7bfbfcf",
   "metadata": {},
   "source": [
    "### Recursieve functies"
   ]
  },
  {
   "cell_type": "code",
   "execution_count": null,
   "id": "f0ceab6e",
   "metadata": {},
   "outputs": [],
   "source": [
    "def compute_factorial_recursive(age):\n",
    "    \"\"\"Bereken faculteit op recursieve manier.\"\"\"\n",
    "    \n",
    "    # Stop conditie\n",
    "    if age <= 1:\n",
    "        return 1\n",
    "    \n",
    "    # Roept zichzelf aan met als argument age - 1\n",
    "    return age * compute_factorial_recursive(age - 1)\n"
   ]
  },
  {
   "cell_type": "code",
   "execution_count": null,
   "id": "bb8cdd7f",
   "metadata": {},
   "outputs": [],
   "source": [
    "compute_factorial_recursive(4)"
   ]
  },
  {
   "cell_type": "code",
   "execution_count": null,
   "id": "39d08e8a",
   "metadata": {},
   "outputs": [],
   "source": [
    "4 * 3 * 2 * 1"
   ]
  },
  {
   "cell_type": "code",
   "execution_count": null,
   "id": "6d35fd5a",
   "metadata": {},
   "outputs": [],
   "source": []
  },
  {
   "cell_type": "markdown",
   "id": "9d124057",
   "metadata": {},
   "source": [
    "### Comprehensions"
   ]
  },
  {
   "cell_type": "code",
   "execution_count": null,
   "id": "083d3b35",
   "metadata": {},
   "outputs": [],
   "source": [
    "leeftijden = [16, 24, 35, 50]"
   ]
  },
  {
   "cell_type": "code",
   "execution_count": null,
   "id": "7ecdc963",
   "metadata": {},
   "outputs": [],
   "source": [
    "def is_volwassen(leeftijd):\n",
    "    \"\"\"Check op volwassen leeftijd.\"\"\"\n",
    "    return leeftijd >= 18"
   ]
  },
  {
   "cell_type": "code",
   "execution_count": null,
   "id": "35d5b1bc",
   "metadata": {},
   "outputs": [],
   "source": [
    "# Oplossing met for loop; vrij veel code...\n",
    "volwassenen = []\n",
    "for leeftijd in leeftijden:\n",
    "    volwassenen.append(is_volwassen(leeftijd))\n",
    "    \n",
    "volwassenen"
   ]
  },
  {
   "cell_type": "code",
   "execution_count": null,
   "id": "b7b641c4",
   "metadata": {},
   "outputs": [],
   "source": [
    "# Met comprehensions kan het op 1 regel...\n",
    "volwassenen = [is_volwassen(leeftijd) for leeftijd in leeftijden]\n",
    "\n",
    "volwassenen"
   ]
  },
  {
   "cell_type": "code",
   "execution_count": null,
   "id": "685411da",
   "metadata": {},
   "outputs": [],
   "source": [
    "# Kan ook met een if ... else\n",
    "[\n",
    "    \"Ja\" if is_volwassen(leeftijd) else \"Nee\"\n",
    "    for leeftijd in leeftijden\n",
    "]"
   ]
  },
  {
   "cell_type": "code",
   "execution_count": null,
   "id": "2718912e",
   "metadata": {},
   "outputs": [],
   "source": [
    "# Of met een filter\n",
    "[\n",
    "    leeftijd\n",
    "    for leeftijd in leeftijden\n",
    "    if is_volwassen(leeftijd)\n",
    "]"
   ]
  },
  {
   "cell_type": "code",
   "execution_count": null,
   "id": "410471d9",
   "metadata": {},
   "outputs": [],
   "source": []
  },
  {
   "cell_type": "code",
   "execution_count": null,
   "id": "1e86dd7a",
   "metadata": {},
   "outputs": [],
   "source": [
    "settings = {\"a\": 1, \"B\": 2, \" C \": 3}\n",
    "settings"
   ]
  },
  {
   "cell_type": "code",
   "execution_count": null,
   "id": "9e492fa1",
   "metadata": {},
   "outputs": [],
   "source": [
    "# Ook voor dict kun je comprehension gebruiken\n",
    "{\n",
    "    # Merk op: mapping van sleutel en waarde gebeurt hier\n",
    "    k.lower().strip(): v\n",
    "    \n",
    "    # For loop over items()\n",
    "    for k, v in settings.items()\n",
    "    \n",
    "}"
   ]
  },
  {
   "cell_type": "code",
   "execution_count": null,
   "id": "81553b59",
   "metadata": {},
   "outputs": [],
   "source": []
  },
  {
   "cell_type": "code",
   "execution_count": null,
   "id": "124a47ef",
   "metadata": {},
   "outputs": [],
   "source": []
  }
 ],
 "metadata": {
  "kernelspec": {
   "display_name": "Python 3 (ipykernel)",
   "language": "python",
   "name": "python3"
  },
  "language_info": {
   "codemirror_mode": {
    "name": "ipython",
    "version": 3
   },
   "file_extension": ".py",
   "mimetype": "text/x-python",
   "name": "python",
   "nbconvert_exporter": "python",
   "pygments_lexer": "ipython3",
   "version": "3.9.16"
  }
 },
 "nbformat": 4,
 "nbformat_minor": 5
}
