{
 "cells": [
  {
   "cell_type": "markdown",
   "id": "e2945927",
   "metadata": {},
   "source": [
    "# FuzzyDict"
   ]
  },
  {
   "cell_type": "code",
   "execution_count": null,
   "id": "03e5c885",
   "metadata": {},
   "outputs": [],
   "source": [
    "class FuzzyDict:\n",
    "    \"\"\"Dict-class that is case insensitive.\"\"\"\n",
    "    \n",
    "    def __getitem__(self, key):\n",
    "        \"\"\"Get a key from the data.\"\"\"\n",
    "        # Your code here...\n",
    "\n",
    "    def __setitem__(self, key, value):\n",
    "        \"\"\"Set a key in the data.\"\"\"\n",
    "        # Your code here..."
   ]
  },
  {
   "cell_type": "code",
   "execution_count": null,
   "id": "91e086f7",
   "metadata": {},
   "outputs": [],
   "source": [
    "# Initialize a FuzzyDict object\n",
    "fuzzydict = FuzzyDict()"
   ]
  },
  {
   "cell_type": "code",
   "execution_count": null,
   "id": "20896bc3",
   "metadata": {},
   "outputs": [],
   "source": [
    "# Store name using lowercase key\n",
    "fuzzydict[\"name\"] = \"John Doe\""
   ]
  },
  {
   "cell_type": "code",
   "execution_count": null,
   "id": "72dbcf45",
   "metadata": {},
   "outputs": [],
   "source": [
    "# Check using original lowercase key \n",
    "# Should return \"John Doe\"\n",
    "fuzzydict[\"name\"]"
   ]
  },
  {
   "cell_type": "code",
   "execution_count": null,
   "id": "a22a9eb0",
   "metadata": {},
   "outputs": [],
   "source": [
    "# Check using uppercase key\n",
    "# Should return \"John Doe\" as well\n",
    "fuzzydict[\"NAME\"]"
   ]
  },
  {
   "cell_type": "code",
   "execution_count": null,
   "id": "43b52ac6",
   "metadata": {},
   "outputs": [],
   "source": [
    "# Store using uppercase key, then retrieve with lowercase key\n",
    "# Should return \"Jane Doe\"\n",
    "fuzzydict[\"NAME\"] = \"Jane Doe\"\n",
    "fuzzydict[\"name\"]"
   ]
  },
  {
   "cell_type": "code",
   "execution_count": null,
   "id": "d89af94d",
   "metadata": {},
   "outputs": [],
   "source": []
  }
 ],
 "metadata": {
  "kernelspec": {
   "display_name": "Python 3 (ipykernel)",
   "language": "python",
   "name": "python3"
  },
  "language_info": {
   "codemirror_mode": {
    "name": "ipython",
    "version": 3
   },
   "file_extension": ".py",
   "mimetype": "text/x-python",
   "name": "python",
   "nbconvert_exporter": "python",
   "pygments_lexer": "ipython3",
   "version": "3.9.16"
  },
  "vscode": {
   "interpreter": {
    "hash": "97fc0b27db06ef7751e260ba2c187fff3578634c73c53a04befd6c7fde8d595e"
   }
  }
 },
 "nbformat": 4,
 "nbformat_minor": 5
}
