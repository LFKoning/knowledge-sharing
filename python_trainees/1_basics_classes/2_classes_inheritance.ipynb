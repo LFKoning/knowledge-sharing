{
 "cells": [
  {
   "cell_type": "markdown",
   "id": "850c5ee2",
   "metadata": {},
   "source": [
    "# Inheritance"
   ]
  },
  {
   "cell_type": "code",
   "execution_count": null,
   "id": "30e2cf60",
   "metadata": {},
   "outputs": [],
   "source": [
    "class Person:\n",
    "    \"\"\"Class for natural persons.\"\"\"\n",
    "\n",
    "    def __init__(self, name, lastname): \n",
    "        self.name = name.strip().capitalize()\n",
    "        self.lastname = lastname.strip().capitalize()\n",
    "\n",
    "    def full_name(self):\n",
    "        \"\"\"Returns the person's full name.\"\"\"\n",
    "        return f\"{self.name} {self.lastname}\"\n",
    "        \n",
    "        \n",
    "class Employee(Person):\n",
    "    \"\"\"Class for company employees.\"\"\"  \n",
    "\n",
    "    def __init__(self, name, lastname, employee_id): \n",
    "        self.name = name.strip().capitalize()\n",
    "        self.lastname = lastname.strip().capitalize()\n",
    "        self.id = employee_id\n",
    "\n",
    "    def identify(self):\n",
    "        \"\"\"Identifies the employee.\"\"\"\n",
    "        return self.id"
   ]
  },
  {
   "cell_type": "code",
   "execution_count": null,
   "id": "0ab27aa8",
   "metadata": {},
   "outputs": [],
   "source": [
    "# Create person and employee instances\n",
    "person = Person(\"jane\", \"doe\")\n",
    "employee = Employee(\"john\", \"doe\", 1234)"
   ]
  },
  {
   "cell_type": "code",
   "execution_count": null,
   "id": "3a1e4a0a",
   "metadata": {},
   "outputs": [],
   "source": [
    "# Note the extra `id` property\n",
    "print(\"Person:   \", person.__dict__)\n",
    "print(\"Employee: \", employee.__dict__)"
   ]
  },
  {
   "cell_type": "code",
   "execution_count": null,
   "id": "918d035b",
   "metadata": {},
   "outputs": [],
   "source": [
    "# Extra identify() method\n",
    "employee.identify()"
   ]
  },
  {
   "cell_type": "code",
   "execution_count": null,
   "id": "5d7c4e19",
   "metadata": {},
   "outputs": [],
   "source": [
    "# Person does not have identify()\n",
    "person.identify()"
   ]
  },
  {
   "cell_type": "code",
   "execution_count": null,
   "id": "7c0a42a8",
   "metadata": {},
   "outputs": [],
   "source": [
    "# Inherited full_name() method from Person\n",
    "employee.full_name()"
   ]
  },
  {
   "cell_type": "code",
   "execution_count": null,
   "id": "f3c675bd",
   "metadata": {},
   "outputs": [],
   "source": []
  },
  {
   "cell_type": "markdown",
   "id": "9cd96e6b",
   "metadata": {},
   "source": [
    "## Type and isinstance"
   ]
  },
  {
   "cell_type": "code",
   "execution_count": null,
   "id": "9e79a1ba",
   "metadata": {},
   "outputs": [],
   "source": [
    "# Type gives the actual class name\n",
    "print(\"Person:   \", type(person.__dict__))\n",
    "print(\"Employee: \", type(employee))"
   ]
  },
  {
   "cell_type": "code",
   "execution_count": null,
   "id": "7ae3b472",
   "metadata": {},
   "outputs": [],
   "source": [
    "# As expected, person is a Person instance\n",
    "isinstance(person, Person)"
   ]
  },
  {
   "cell_type": "code",
   "execution_count": null,
   "id": "7cad810a",
   "metadata": {},
   "outputs": [],
   "source": [
    "# And employee an Employee instance...\n",
    "isinstance(employee, Employee)"
   ]
  },
  {
   "cell_type": "code",
   "execution_count": null,
   "id": "67d9d990",
   "metadata": {},
   "outputs": [],
   "source": [
    "# But... employee also passes as a Person instance!\n",
    "isinstance(employee, Person)"
   ]
  },
  {
   "cell_type": "code",
   "execution_count": null,
   "id": "38090b52",
   "metadata": {},
   "outputs": [],
   "source": []
  },
  {
   "cell_type": "markdown",
   "id": "ce7f0926",
   "metadata": {},
   "source": [
    "## Super!"
   ]
  },
  {
   "cell_type": "code",
   "execution_count": null,
   "id": "89ccda95",
   "metadata": {},
   "outputs": [],
   "source": [
    "class Person:\n",
    "    \"\"\"Class for natural persons.\"\"\"\n",
    "\n",
    "    def __init__(self, name, lastname): \n",
    "        self.name = name.strip().capitalize()\n",
    "        self.lastname = lastname.strip().capitalize()\n",
    "        \n",
    "        \n",
    "class Employee(Person):\n",
    "    \"\"\"Class for company employees.\"\"\"  \n",
    "\n",
    "    def __init__(self, first, last, employee_id):\n",
    "        # Duplicate code...\n",
    "        self.name = first.strip().capitalize()\n",
    "        self.lastname = last.strip().capitalize()\n",
    "        \n",
    "        self.id = employee_id"
   ]
  },
  {
   "cell_type": "code",
   "execution_count": null,
   "id": "735cec50",
   "metadata": {},
   "outputs": [],
   "source": [
    "class Employee(Person):\n",
    "    \"\"\"Class for company employees.\"\"\"  \n",
    "\n",
    "    def __init__(self, name, lastname, employee_id):\n",
    "        # Use super() to re-use the base class constructor\n",
    "        super().__init__(name, lastname)\n",
    "        self.id = employee_id"
   ]
  },
  {
   "cell_type": "code",
   "execution_count": null,
   "id": "06e3f75c",
   "metadata": {},
   "outputs": [],
   "source": [
    "employee = Employee(\"john\", \"doe\", 1234)\n",
    "employee.__dict__"
   ]
  },
  {
   "cell_type": "code",
   "execution_count": null,
   "id": "e053d9c0",
   "metadata": {},
   "outputs": [],
   "source": []
  },
  {
   "cell_type": "markdown",
   "id": "9fef0c8a",
   "metadata": {},
   "source": [
    "## FuzzyDict revisited"
   ]
  },
  {
   "cell_type": "code",
   "execution_count": null,
   "id": "20e5258c",
   "metadata": {},
   "outputs": [],
   "source": [
    "class FuzzyDict(dict):\n",
    "    \"\"\"Dict-class that is case insensitive.\"\"\"\n",
    "\n",
    "    def __getitem__(self, key):\n",
    "        \"\"\"Get a key from the data.\"\"\"\n",
    "        key = key.lower().strip()\n",
    "        return super().__getitem__(key)\n",
    "        \n",
    "    def __setitem__(self, key, value):\n",
    "        \"\"\"Set a key in the data.\"\"\"\n",
    "        key = key.lower().strip()\n",
    "        super().__setitem__(key, value)"
   ]
  },
  {
   "cell_type": "code",
   "execution_count": null,
   "id": "ceabfc79",
   "metadata": {},
   "outputs": [],
   "source": [
    "fd = FuzzyDict()\n",
    "fd[\"NAAM\"] = \"Henk\""
   ]
  },
  {
   "cell_type": "code",
   "execution_count": null,
   "id": "0cf52cb5",
   "metadata": {},
   "outputs": [],
   "source": [
    "# Inhrited keys() method from dict\n",
    "fd.keys()"
   ]
  },
  {
   "cell_type": "code",
   "execution_count": null,
   "id": "1f5ba7a3",
   "metadata": {},
   "outputs": [],
   "source": []
  }
 ],
 "metadata": {
  "kernelspec": {
   "display_name": "Python 3 (ipykernel)",
   "language": "python",
   "name": "python3"
  },
  "language_info": {
   "codemirror_mode": {
    "name": "ipython",
    "version": 3
   },
   "file_extension": ".py",
   "mimetype": "text/x-python",
   "name": "python",
   "nbconvert_exporter": "python",
   "pygments_lexer": "ipython3",
   "version": "3.9.16"
  }
 },
 "nbformat": 4,
 "nbformat_minor": 5
}
